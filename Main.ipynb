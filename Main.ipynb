{
 "cells": [
  {
   "cell_type": "code",
   "execution_count": 353,
   "metadata": {},
   "outputs": [],
   "source": [
    "import pandas as pd\n",
    "import numpy as np\n",
    "from sklearn.preprocessing import MinMaxScaler\n",
    "from scipy.spatial import distance\n",
    "import warnings\n",
    "from sklearn.decomposition import PCA\n",
    "warnings.filterwarnings(\"ignore\")\n",
    "import plotly.express as px\n",
    "\n",
    "\n",
    "\n",
    "class NBA_Roster_Analysis(object):\n",
    "    \n",
    "    \n",
    "    def __init__(self):\n",
    "        \n",
    "        mapping=pd.read_csv('mapping.csv',index_col=0)\n",
    "        self.players=pd.merge(pd.read_csv('NBA_Player_Data_1999-2020.csv',index_col=0) ,mapping,on='TEAM')\n",
    "        \n",
    "        self.player_stats_required=['POS', 'MIN', 'PTS', 'FGM', 'FGA',\n",
    "       'FG%', '3PM', '3PA', '3P%', 'FTM', 'FTA', 'FT%', 'REB', 'AST', 'STL',\n",
    "       'BLK', 'TO', 'DD2', 'TD3', 'PER', 'AGE', 'OFFRTG', 'DEFRTG', 'NETRTG',\n",
    "       'AST%', 'AST/TO', 'AST RATIO', 'OREB%', 'DREB%', 'REB%', 'TO RATIO',\n",
    "       'EFG%', 'TS%', 'USG%', 'PACE', 'PIE', 'POSS']\n",
    "        \n",
    "        \n",
    "        self.kde=pd.read_pickle('kde.pkl')\n",
    "        \n",
    "        self.minutes=pd.read_csv('minutes_played.csv',index_col=0)\n",
    "        \n",
    "        \n",
    "        self.teams=pd.read_csv('NBA_Team_Data_1999-2020.csv',index_col=0).replace('LA Clippers','Los Angeles Clippers')\n",
    "        \n",
    "        \n",
    "        self.knn=pd.read_pickle('knn.pkl')\n",
    "        \n",
    "        self.corr=self.players.drop(['PLAYER','YEAR','TEAM NAME','TEAM'],axis=1).corr()\n",
    "        \n",
    "        \n",
    "        \n",
    "        self.team_stats=self.teams.drop(['TEAM','YEAR','GP','W','L','MIN'],axis=1)\n",
    "        \n",
    "        self.normalized_team_stats=self.normalize_team_stats(self.team_stats)\n",
    "        \n",
    "        \n",
    "        self.team_stats_required=['WIN%', 'PTS', 'FGM', 'FGA', 'FG%', '3PM', '3PA', '3P%', 'FTM', 'FTA',\n",
    "       'FT%', 'OREB', 'DREB', 'REB', 'AST', 'TOV', 'STL', 'BLK', 'BLKA', 'PF',\n",
    "       'PFD', '+/-', 'OFFRTG', 'DEFRTG', 'NETRTG', 'AST%', 'AST/TO',\n",
    "       'AST\\nRATIO', 'OREB%', 'DREB%', 'REB%', 'TOV%', 'EFG%', 'TS%', 'PACE',\n",
    "       'PIE', 'POSS']\n",
    "    \n",
    "    \n",
    "    \n",
    "    def visualize_teams(self,color='Clusters',hover_data=['WIN%']):\n",
    "      \n",
    "        pca = PCA(n_components=2)\n",
    "        components = pca.fit_transform(self.normalized_team_stats)\n",
    "        pca=pd.DataFrame(data=components,  columns=[\"PC1\", \"PC2\"])\n",
    "        \n",
    "        pca['TEAM']=self.teams['TEAM']+\" \"+self.teams['YEAR']\n",
    "        pca['Clusters']=self.knn.labels_\n",
    "        pca['Clusters']=pca['Clusters'].astype('O')\n",
    "        \n",
    "        pca=pd.concat([pca,self.team_stats],axis=1)\n",
    "        \n",
    "        fig = px.scatter(pca, x='PC1', y='PC2',color=color,hover_data=hover_data)\n",
    "        fig.show()\n",
    "        \n",
    "        return pca.drop(['PC1','PC2'],axis=1)\n",
    "    \n",
    "    \n",
    "    def normalize_team_stats(self,team_stats):\n",
    "        scaler = MinMaxScaler()\n",
    "        scaler.fit(team_stats)\n",
    "        normalized_team_stats=scaler.transform(team_stats)\n",
    "        normalized_team_stats=pd.DataFrame(normalized_team_stats)\n",
    "        normalized_team_stats.columns=team_stats.columns\n",
    "        return normalized_team_stats\n",
    "\n",
    "    \n",
    "    def normalize_player_data(self):\n",
    "        \n",
    "        non_numeric=['PLAYER','YEAR','GP','TEAM NAME','TEAM']\n",
    "\n",
    "        add_on=self.players[non_numeric]\n",
    "\n",
    "        numeric_data=self.players.drop(non_numeric,axis=1)\n",
    "        numeric_data=pd.concat([ pd.get_dummies(numeric_data['POS']),numeric_data.drop(['POS'],axis=1)], axis=1)\n",
    "\n",
    "        scaler = MinMaxScaler()\n",
    "        scaler.fit(numeric_data)\n",
    "        normalized_data=scaler.transform(numeric_data)\n",
    "        normalized_data=pd.DataFrame(normalized_data)\n",
    "        normalized_data.columns=numeric_data.columns\n",
    "\n",
    "    \n",
    "        return pd.concat([add_on, normalized_data], axis=1)\n",
    "    \n",
    "    \n",
    "    def view_available_players(self):\n",
    "        return list(self.players['PLAYER'].unique())\n",
    "    \n",
    "    \n",
    "    \n",
    "    def adjust_to_minutes(self,minutes:float, player_stats:pd.DataFrame):\n",
    "        adjusted_player_stat=[]\n",
    "\n",
    "        for i in self.player_stats_required:\n",
    "            if i=='POS':\n",
    "\n",
    "                adjusted_player_stat.append(max(set(list(player_stats[i])), key=list(player_stats[i]).count))\n",
    "            elif i=='MIN':\n",
    "                adjusted_player_stat.append(minutes)\n",
    "                \n",
    "            elif (i in self.corr[(self.corr['MIN']>0.5) & (self.corr['MIN']!=1)][['MIN']].index):\n",
    "                adjusted_player_stat.append(np.mean((player_stats[i])/np.mean(player_stats['MIN']))*minutes)\n",
    "\n",
    "            else:\n",
    "                adjusted_player_stat.append(np.mean((player_stats[i])))\n",
    "\n",
    "        return adjusted_player_stat\n",
    "\n",
    "\n",
    "\n",
    "    def player_stats_sampling(self,player: str, minutes: float,stats_selection_method:str = 'prime' , prime_window=None):\n",
    "\n",
    "        if player not in self.players['PLAYER'].unique():\n",
    "            raise Exception(\"Invalid player: '{}' - Please select from player list shown at .view_available_players()\".format(player))\n",
    "\n",
    "        player_stats=self.players[self.players['PLAYER']==player]\n",
    "\n",
    "        if stats_selection_method=='best':\n",
    "            return [player]+self.adjust_to_minutes(minutes,player_stats.sort_values('PIE',ascending=False).head(1)[self.player_stats_required])\n",
    "\n",
    "        elif stats_selection_method=='prime':\n",
    "            if prime_window==None:\n",
    "                years=5\n",
    "            else:\n",
    "                years=prime_window\n",
    "\n",
    "            return [player]+self.adjust_to_minutes(minutes,player_stats.sort_values('PIE',ascending=False).head(years)[self.player_stats_required])\n",
    "\n",
    "        else:\n",
    "            return [player]+self.adjust_to_minutes(minutes,player_stats[self.player_stats_required])\n",
    "\n",
    "\n",
    "\n",
    "\n",
    "    def team_stats_sampling(self,team:list, minutes_selection_method:str ='sample', stats_selection_method:str = 'prime' , prime_window=None):\n",
    "\n",
    "        if len(team)!=8:\n",
    "            raise Exception(\"Team must contain 8 players, contains '{}' players\".format(len(team)))\n",
    "\n",
    "        if minutes_selection_method not in ['sample','average']:\n",
    "            raise Exception(\"Invalid minutes_selection_method: '{}' - Please select from ['sample','average']\".format(minutes_selection_method))\n",
    "\n",
    "        if stats_selection_method not in ['prime','average','best']:\n",
    "             raise Exception(\"stats_selection_method: '{}' - Please select from ['prime','average','best']\".format(stats_selection_method))\n",
    "\n",
    "        if stats_selection_method!='prime':\n",
    "            if prime_window!=None:\n",
    "                raise Exception(\"prime_window requires stats_selection_method='prime'\".format(stats_selection_method))\n",
    "\n",
    "\n",
    "        if minutes_selection_method=='sample':\n",
    "            minutes=self.kde.sample(1)[0]\n",
    "        else:\n",
    "            minutes=[np.mean(self.minutes[self.minutes['player']==i]['minutes']) for i in sorted(self.minutes['player'].unique())]\n",
    "\n",
    "\n",
    "        team_stats=[]\n",
    "\n",
    "        for player,minute in zip(team,minutes):\n",
    "\n",
    "            team_stats.append(self.player_stats_sampling(player,minutes=minute,stats_selection_method=stats_selection_method,prime_window=prime_window))\n",
    "\n",
    "        return team_stats\n",
    "\n",
    "    \n",
    "    def normalize_sampled_stats(self,team:list, minutes_selection_method:str ='sample', stats_selection_method:str = 'prime' , prime_window=None):\n",
    "        \n",
    "        sampled_players=pd.DataFrame(self.team_stats_sampling(team,minutes_selection_method,stats_selection_method,prime_window),columns=['PLAYER']+self.player_stats_required)\n",
    "        all_players=self.players[['PLAYER']+self.player_stats_required]\n",
    "        \n",
    "        \n",
    "        aggregated_players=pd.concat([sampled_players,all_players])\n",
    "\n",
    "        \n",
    "        \n",
    "        numeric_data=aggregated_players[self.player_stats_required]\n",
    "    \n",
    "        numeric_data=pd.concat([ pd.get_dummies(numeric_data['POS']),numeric_data.drop(['POS'],axis=1)], axis=1)\n",
    "        \n",
    "        \n",
    "        scaler = MinMaxScaler()\n",
    "        scaler.fit(numeric_data)\n",
    "        \n",
    "        normalized_data=scaler.transform(numeric_data)\n",
    "        normalized_data=pd.DataFrame(normalized_data)\n",
    "        \n",
    "        normalized_data.columns=numeric_data.columns\n",
    "        \n",
    "        \n",
    "        return pd.concat([aggregated_players[['PLAYER']].reset_index(drop=True), normalized_data], axis=1).head(8)\n",
    "        \n",
    "        \n",
    "    \n",
    "    def predict_roster_cluster(self,team:list, minutes_selection_method:str ='sample', stats_selection_method:str = 'prime' , prime_window=None):\n",
    "        roster=np.asarray(self.normalize_sampled_stats(team,minutes_selection_method,stats_selection_method,prime_window).drop(['PLAYER'],axis=1))\n",
    "        roster=roster.reshape(1,roster.shape[0],roster.shape[1],1)\n",
    "        \n",
    "        model = load_model('models/CLUSTER.h5')\n",
    "        pred=model.predict(roster)\n",
    "        \n",
    "        return list(pred[0]).index(max(pred[0]))\n",
    "        \n",
    "    \n",
    "    def predict_team_stats(self,team:list, minutes_selection_method:str ='sample', stats_selection_method:str = 'prime' , prime_window=None):\n",
    "        \n",
    "        \n",
    "        roster=np.asarray(self.normalize_sampled_stats(team,minutes_selection_method,stats_selection_method,prime_window).drop(['PLAYER'],axis=1))\n",
    "        roster=roster.reshape(1,roster.shape[0],roster.shape[1],1)\n",
    "        \n",
    "        def r2_keras(y_true, y_pred):\n",
    "            SS_res =  K.sum(K.square( y_true - y_pred )) \n",
    "            SS_tot = K.sum(K.square( y_true - K.mean(y_true) ) ) \n",
    "            return ( 1 - SS_res/(SS_tot + K.epsilon()) )\n",
    "        \n",
    "        \n",
    "        stats={}\n",
    "        \n",
    "        for stat in self.team_stats_required:\n",
    "            filename=\"models/{}.h5\".format(stat.replace(\"/\",\"_\"))\n",
    "            model = load_model(filename,custom_objects={\"r2_keras\":r2_keras})\n",
    "            stats[stat]=model.predict(roster)[0][0]\n",
    "            \n",
    "        \n",
    "        return pd.Series(stats)\n",
    "    \n",
    "    \n",
    "    def k_nearest_neighbors(self,team:list, minutes_selection_method:str ='sample', stats_selection_method:str = 'prime' , prime_window=None,k=5,visualize=False):\n",
    "        \n",
    "        predicted_team_stats=self.predict_team_stats(team, minutes_selection_method, stats_selection_method , prime_window)\n",
    "        \n",
    "        normalized_predicted_team_stats=(self.normalize_team_stats(self.team_stats.append(predicted_team_stats,ignore_index=True))).iloc[-1]\n",
    "    \n",
    "        euclidean_distances = self.normalized_team_stats.apply(lambda row: distance.euclidean(row, normalized_predicted_team_stats), axis=1)\n",
    "\n",
    "        k_nearest=pd.DataFrame(euclidean_distances,columns=['Distance']).sort_values('Distance').head(k).index\n",
    "        \n",
    "        print(\"Cluster: {}\".format(self.knn.predict(np.asarray(normalized_predicted_team_stats).reshape(1, -1))[0]))\n",
    "        \n",
    "        \n",
    "        if visualize==True:\n",
    "            self.visualize_new_roster(self.normalize_team_stats(self.team_stats.append(predicted_team_stats,ignore_index=True)),predicted_team_stats,cluster=self.knn.predict(np.asarray(normalized_predicted_team_stats).reshape(1, -1))[0])\n",
    "        \n",
    "        return self.teams.loc[k_nearest][['TEAM','YEAR','WIN%']]\n",
    "    \n",
    "    \n",
    "    def visualize_new_roster(self,normalized_stats,predicted_stats,cluster):\n",
    "        teams_with_new=self.teams.copy()\n",
    "        \n",
    "        new_team={}\n",
    "        for i in teams_with_new.columns:\n",
    "            if i=='TEAM':\n",
    "                new_team[i]='Theoretical Roster'\n",
    "            else:\n",
    "                try:\n",
    "                    new_team[i]=predicted_stats[i]\n",
    "                except:\n",
    "                    if teams_with_new[i].dtype==float or teams_with_new[i].dtype==int:\n",
    "                        new_team[i]=0\n",
    "                    else:\n",
    "                        new_team[i]=\"\"\n",
    "\n",
    "        teams_with_new=teams_with_new.append(pd.Series(new_team),ignore_index=True)\n",
    "        \n",
    "        pca = PCA(n_components=2)\n",
    "        components = pca.fit_transform(normalized_stats)\n",
    "        pca=pd.DataFrame(data=components,  columns=[\"PC1\", \"PC2\"])\n",
    "        \n",
    "        pca['TEAM']=teams_with_new['TEAM']+\" \"+teams_with_new['YEAR']\n",
    "        pca['Clusters']=np.concatenate((self.knn.labels_, np.array([cluster])), axis=0)\n",
    "        \n",
    "       \n",
    "        pca['Clusters']=pca['Clusters'].astype('O')\n",
    "        \n",
    "        pca=pd.concat([pca,teams_with_new.drop(['TEAM','YEAR','GP','W','L','MIN'],axis=1)],axis=1)\n",
    "        \n",
    "        def is_real(team):\n",
    "    \n",
    "            if 'Theoretical' in team:\n",
    "                return False\n",
    "            else:\n",
    "                return True\n",
    "        \n",
    "        \n",
    "        pca['IS_REAL'] = pca.apply(lambda x: is_real(x['TEAM']), axis=1)\n",
    "        fig = px.scatter(pca, x='PC1', y='PC2',color='IS_REAL',hover_data=['WIN%'])\n",
    "        fig.show()\n",
    "        fig = px.scatter(pca, x='PC1', y='PC2',symbol='IS_REAL',color='Clusters',hover_data=['WIN%'])\n",
    "        fig.show()\n",
    "        \n",
    "        return pca.drop(['PC1','PC2'],axis=1)\n",
    "    \n",
    "    \n",
    "    \n",
    "    \n",
    "    \n",
    "\n",
    "\n",
    "\n"
   ]
  },
  {
   "cell_type": "code",
   "execution_count": 357,
   "metadata": {},
   "outputs": [],
   "source": [
    "nba_analysis=NBA_Roster_Analysis()\n",
    "\n"
   ]
  },
  {
   "cell_type": "code",
   "execution_count": 359,
   "metadata": {},
   "outputs": [],
   "source": [
    "team=['Kevin Durant',\n",
    " 'LeBron James',\n",
    " 'Kyle Kuzma',\n",
    " 'Dwight Howard',\n",
    " 'David West',\n",
    " 'Carmelo Anthony',\n",
    " 'Draymond Green',\n",
    " 'Lonzo Ball']"
   ]
  },
  {
   "cell_type": "code",
   "execution_count": 360,
   "metadata": {},
   "outputs": [
    {
     "name": "stdout",
     "output_type": "stream",
     "text": [
      "Cluster: 2\n"
     ]
    },
    {
     "data": {
      "application/vnd.plotly.v1+json": {
       "config": {
        "plotlyServerURL": "https://plot.ly"
       },
       "data": [
        {
         "customdata": [
          [
           0.341
          ],
          [
           0.427
          ],
          [
           0.598
          ],
          [
           0.207
          ],
          [
           0.39
          ],
          [
           0.488
          ],
          [
           0.427
          ],
          [
           0.512
          ],
          [
           0.232
          ],
          [
           0.415
          ],
          [
           0.683
          ],
          [
           0.183
          ],
          [
           0.817
          ],
          [
           0.634
          ],
          [
           0.512
          ],
          [
           0.61
          ],
          [
           0.378
          ],
          [
           0.61
          ],
          [
           0.5
          ],
          [
           0.598
          ],
          [
           0.646
          ],
          [
           0.72
          ],
          [
           0.537
          ],
          [
           0.646
          ],
          [
           0.549
          ],
          [
           0.549
          ],
          [
           0.671
          ],
          [
           0.268
          ],
          [
           0.354
          ],
          [
           0.305
          ],
          [
           0.439
          ],
          [
           0.561
          ],
          [
           0.183
          ],
          [
           0.366
          ],
          [
           0.646
          ],
          [
           0.488
          ],
          [
           0.39
          ],
          [
           0.207
          ],
          [
           0.549
          ],
          [
           0.5
          ],
          [
           0.378
          ],
          [
           0.683
          ],
          [
           0.61
          ],
          [
           0.634
          ],
          [
           0.573
          ],
          [
           0.317
          ],
          [
           0.585
          ],
          [
           0.524
          ],
          [
           0.683
          ],
          [
           0.622
          ],
          [
           0.61
          ],
          [
           0.671
          ],
          [
           0.707
          ],
          [
           0.537
          ],
          [
           0.573
          ],
          [
           0.646
          ],
          [
           0.28
          ],
          [
           0.232
          ],
          [
           0.402
          ],
          [
           0.598
          ],
          [
           0.537
          ],
          [
           0.256
          ],
          [
           0.354
          ],
          [
           0.695
          ],
          [
           0.329
          ],
          [
           0.61
          ],
          [
           0.256
          ],
          [
           0.341
          ],
          [
           0.512
          ],
          [
           0.476
          ],
          [
           0.707
          ],
          [
           0.28
          ],
          [
           0.439
          ],
          [
           0.5
          ],
          [
           0.61
          ],
          [
           0.634
          ],
          [
           0.366
          ],
          [
           0.537
          ],
          [
           0.524
          ],
          [
           0.439
          ],
          [
           0.598
          ],
          [
           0.744
          ],
          [
           0.707
          ],
          [
           0.549
          ],
          [
           0.512
          ],
          [
           0.537
          ],
          [
           0.451
          ],
          [
           0.427
          ],
          [
           0.537
          ],
          [
           0.366
          ],
          [
           0.207
          ],
          [
           0.732
          ],
          [
           0.207
          ],
          [
           0.61
          ],
          [
           0.463
          ],
          [
           0.524
          ],
          [
           0.585
          ],
          [
           0.329
          ],
          [
           0.61
          ],
          [
           0.341
          ],
          [
           0.305
          ],
          [
           0.512
          ],
          [
           0.622
          ],
          [
           0.598
          ],
          [
           0.573
          ],
          [
           0.451
          ],
          [
           0.512
          ],
          [
           0.585
          ],
          [
           0.537
          ],
          [
           0.61
          ],
          [
           0.72
          ],
          [
           0.732
          ],
          [
           0.488
          ],
          [
           0.293
          ],
          [
           0.573
          ],
          [
           0.451
          ],
          [
           0.341
          ],
          [
           0.439
          ],
          [
           0.28
          ],
          [
           0.427
          ],
          [
           0.634
          ],
          [
           0.524
          ],
          [
           0.659
          ],
          [
           0.451
          ],
          [
           0.549
          ],
          [
           0.744
          ],
          [
           0.341
          ],
          [
           0.683
          ],
          [
           0.61
          ],
          [
           0.512
          ],
          [
           0.5
          ],
          [
           0.707
          ],
          [
           0.573
          ],
          [
           0.5
          ],
          [
           0.476
          ],
          [
           0.256
          ],
          [
           0.402
          ],
          [
           0.354
          ],
          [
           0.5
          ],
          [
           0.671
          ],
          [
           0.695
          ],
          [
           0.451
          ],
          [
           0.402
          ],
          [
           0.512
          ],
          [
           0.305
          ],
          [
           0.159
          ],
          [
           0.549
          ],
          [
           0.22
          ],
          [
           0.573
          ],
          [
           0.512
          ],
          [
           0.707
          ],
          [
           0.598
          ],
          [
           0.659
          ],
          [
           0.415
          ],
          [
           0.622
          ],
          [
           0.537
          ],
          [
           0.451
          ],
          [
           0.415
          ],
          [
           0.549
          ],
          [
           0.72
          ],
          [
           0.366
          ],
          [
           0.537
          ],
          [
           0.512
          ],
          [
           0.22
          ],
          [
           0.402
          ],
          [
           0.439
          ],
          [
           0.524
          ],
          [
           0.756
          ],
          [
           0.329
          ],
          [
           0.61
          ],
          [
           0.72
          ],
          [
           0.634
          ],
          [
           0.402
          ],
          [
           0.317
          ],
          [
           0.549
          ],
          [
           0.317
          ],
          [
           0.402
          ],
          [
           0.317
          ],
          [
           0.5
          ],
          [
           0.61
          ],
          [
           0.732
          ],
          [
           0.537
          ],
          [
           0.78
          ],
          [
           0.415
          ],
          [
           0.415
          ],
          [
           0.5
          ],
          [
           0.573
          ],
          [
           0.549
          ],
          [
           0.598
          ],
          [
           0.634
          ],
          [
           0.488
          ],
          [
           0.402
          ],
          [
           0.598
          ],
          [
           0.463
          ],
          [
           0.28
          ],
          [
           0.439
          ],
          [
           0.463
          ],
          [
           0.659
          ],
          [
           0.256
          ],
          [
           0.537
          ],
          [
           0.768
          ],
          [
           0.427
          ],
          [
           0.329
          ],
          [
           0.5
          ],
          [
           0.512
          ],
          [
           0.366
          ],
          [
           0.293
          ],
          [
           0.402
          ],
          [
           0.598
          ],
          [
           0.61
          ],
          [
           0.817
          ],
          [
           0.549
          ],
          [
           0.646
          ],
          [
           0.512
          ],
          [
           0.634
          ],
          [
           0.427
          ],
          [
           0.488
          ],
          [
           0.512
          ],
          [
           0.268
          ],
          [
           0.537
          ],
          [
           0.341
          ],
          [
           0.39
          ],
          [
           0.5
          ],
          [
           0.476
          ],
          [
           0.402
          ],
          [
           0.488
          ],
          [
           0.427
          ],
          [
           0.744
          ],
          [
           0.39
          ],
          [
           0.402
          ],
          [
           0.707
          ],
          [
           0.378
          ],
          [
           0.573
          ],
          [
           0.622
          ],
          [
           0.5
          ],
          [
           0.451
          ],
          [
           0.805
          ],
          [
           0.39
          ],
          [
           0.402
          ],
          [
           0.549
          ],
          [
           0.622
          ],
          [
           0.61
          ],
          [
           0.72
          ],
          [
           0.585
          ],
          [
           0.671
          ],
          [
           0.439
          ],
          [
           0.28
          ],
          [
           0.695
          ],
          [
           0.268
          ],
          [
           0.183
          ],
          [
           0.317
          ],
          [
           0.268
          ],
          [
           0.415
          ],
          [
           0.683
          ],
          [
           0.28
          ],
          [
           0.634
          ],
          [
           0.488
          ],
          [
           0.671
          ],
          [
           0.5
          ],
          [
           0.463
          ],
          [
           0.683
          ],
          [
           0.244
          ],
          [
           0.5
          ],
          [
           0.659
          ],
          [
           0.524
          ],
          [
           0.573
          ],
          [
           0.756
          ],
          [
           0.427
          ],
          [
           0.5
          ],
          [
           0.805
          ],
          [
           0.61
          ],
          [
           0.659
          ],
          [
           0.476
          ],
          [
           0.354
          ],
          [
           0.646
          ],
          [
           0.439
          ],
          [
           0.232
          ],
          [
           0.793
          ],
          [
           0.293
          ],
          [
           0.524
          ],
          [
           0.415
          ],
          [
           0.293
          ],
          [
           0.415
          ],
          [
           0.598
          ],
          [
           0.39
          ],
          [
           0.28
          ],
          [
           0.72
          ],
          [
           0.5
          ],
          [
           0.561
          ],
          [
           0.659
          ],
          [
           0.207
          ],
          [
           0.659
          ],
          [
           0.402
          ],
          [
           0.585
          ],
          [
           0.232
          ],
          [
           0.646
          ],
          [
           0.61
          ],
          [
           0.537
          ],
          [
           0.5
          ],
          [
           0.744
          ],
          [
           0.671
          ],
          [
           0.646
          ],
          [
           0.329
          ],
          [
           0.317
          ],
          [
           0.512
          ],
          [
           0.39
          ],
          [
           0.354
          ],
          [
           0.695
          ],
          [
           0.488
          ],
          [
           0.573
          ],
          [
           0.561
          ],
          [
           0.183
          ],
          [
           0.146
          ],
          [
           0.451
          ],
          [
           0.354
          ],
          [
           0.61
          ],
          [
           0.72
          ],
          [
           0.329
          ],
          [
           0.659
          ],
          [
           0.61
          ],
          [
           0.305
          ],
          [
           0.61
          ],
          [
           0.488
          ],
          [
           0.646
          ],
          [
           0.317
          ],
          [
           0.537
          ],
          [
           0.683
          ],
          [
           0.415
          ],
          [
           0.756
          ],
          [
           0.232
          ],
          [
           0.695
          ],
          [
           0.61
          ],
          [
           0.366
          ],
          [
           0.439
          ],
          [
           0.524
          ],
          [
           0.451
          ],
          [
           0.39
          ],
          [
           0.695
          ],
          [
           0.561
          ],
          [
           0.707
          ],
          [
           0.427
          ],
          [
           0.207
          ],
          [
           0.293
          ],
          [
           0.561
          ],
          [
           0.512
          ],
          [
           0.671
          ],
          [
           0.634
          ],
          [
           0.5
          ],
          [
           0.488
          ],
          [
           0.585
          ],
          [
           0.293
          ],
          [
           0.744
          ],
          [
           0.268
          ],
          [
           0.476
          ],
          [
           0.28
          ],
          [
           0.606
          ],
          [
           0.591
          ],
          [
           0.106
          ],
          [
           0.758
          ],
          [
           0.318
          ],
          [
           0.545
          ],
          [
           0.576
          ],
          [
           0.379
          ],
          [
           0.348
          ],
          [
           0.515
          ],
          [
           0.636
          ],
          [
           0.606
          ],
          [
           0.621
          ],
          [
           0.621
          ],
          [
           0.697
          ],
          [
           0.47
          ],
          [
           0.394
          ],
          [
           0.333
          ],
          [
           0.318
          ],
          [
           0.545
          ],
          [
           0.712
          ],
          [
           0.561
          ],
          [
           0.53
          ],
          [
           0.5
          ],
          [
           0.424
          ],
          [
           0.333
          ],
          [
           0.758
          ],
          [
           0.348
          ],
          [
           0.545
          ],
          [
           0.303
          ],
          [
           0.537
          ],
          [
           0.506
          ],
          [
           0.598
          ],
          [
           0.256
          ],
          [
           0.549
          ],
          [
           0.293
          ],
          [
           0.5
          ],
          [
           0.695
          ],
          [
           0.354
          ],
          [
           0.573
          ],
          [
           0.549
          ],
          [
           0.605
          ],
          [
           0.683
          ],
          [
           0.549
          ],
          [
           0.683
          ],
          [
           0.805
          ],
          [
           0.463
          ],
          [
           0.378
          ],
          [
           0.329
          ],
          [
           0.659
          ],
          [
           0.732
          ],
          [
           0.244
          ],
          [
           0.415
          ],
          [
           0.305
          ],
          [
           0.402
          ],
          [
           0.341
          ],
          [
           0.707
          ],
          [
           0.415
          ],
          [
           0.524
          ],
          [
           0.354
          ],
          [
           0.463
          ],
          [
           0.305
          ],
          [
           0.537
          ],
          [
           0.524
          ],
          [
           0.585
          ],
          [
           0.402
          ],
          [
           0.598
          ],
          [
           0.439
          ],
          [
           0.354
          ],
          [
           0.622
          ],
          [
           0.659
          ],
          [
           0.683
          ],
          [
           0.695
          ],
          [
           0.329
          ],
          [
           0.61
          ],
          [
           0.659
          ],
          [
           0.183
          ],
          [
           0.488
          ],
          [
           0.415
          ],
          [
           0.451
          ],
          [
           0.72
          ],
          [
           0.28
          ],
          [
           0.232
          ],
          [
           0.585
          ],
          [
           0.659
          ],
          [
           0.341
          ],
          [
           0.756
          ],
          [
           0.585
          ],
          [
           0.305
          ],
          [
           0.537
          ],
          [
           0.732
          ],
          [
           0.488
          ],
          [
           0.463
          ],
          [
           0.402
          ],
          [
           0.61
          ],
          [
           0.646
          ],
          [
           0.61
          ],
          [
           0.366
          ],
          [
           0.39
          ],
          [
           0.817
          ],
          [
           0.683
          ],
          [
           0.463
          ],
          [
           0.683
          ],
          [
           0.256
          ],
          [
           0.671
          ],
          [
           0.451
          ],
          [
           0.5
          ],
          [
           0.195
          ],
          [
           0.549
          ],
          [
           0.207
          ],
          [
           0.549
          ],
          [
           0.305
          ],
          [
           0.22
          ],
          [
           0.476
          ],
          [
           0.622
          ],
          [
           0.354
          ],
          [
           0.671
          ],
          [
           0.598
          ],
          [
           0.463
          ],
          [
           0.561
          ],
          [
           0.585
          ],
          [
           0.585
          ],
          [
           0.256
          ],
          [
           0.585
          ],
          [
           0.512
          ],
          [
           0.695
          ],
          [
           0.512
          ],
          [
           0.402
          ],
          [
           0.537
          ],
          [
           0.89
          ],
          [
           0.5
          ],
          [
           0.549
          ],
          [
           0.646
          ],
          [
           0.207
          ],
          [
           0.512
          ],
          [
           0.585
          ],
          [
           0.402
          ],
          [
           0.354
          ],
          [
           0.366
          ],
          [
           0.39
          ],
          [
           0.671
          ],
          [
           0.427
          ],
          [
           0.122
          ],
          [
           0.28
          ],
          [
           0.537
          ],
          [
           0.402
          ],
          [
           0.817
          ],
          [
           0.683
          ],
          [
           0.488
          ],
          [
           0.5
          ],
          [
           0.524
          ],
          [
           0.646
          ],
          [
           0.244
          ],
          [
           0.439
          ],
          [
           0.5
          ],
          [
           0.622
          ],
          [
           0.402
          ],
          [
           0.488
          ],
          [
           0.451
          ],
          [
           0.817
          ],
          [
           0.671
          ],
          [
           0.512
          ],
          [
           0.622
          ],
          [
           0.317
          ],
          [
           0.524
          ],
          [
           0.5
          ],
          [
           0.512
          ],
          [
           0.378
          ],
          [
           0.415
          ],
          [
           0.378
          ],
          [
           0.573
          ],
          [
           0.354
          ],
          [
           0.341
          ],
          [
           0.293
          ],
          [
           0.5
          ],
          [
           0.39
          ],
          [
           0.744
          ],
          [
           0.622
          ],
          [
           0.622
          ],
          [
           0.598
          ],
          [
           0.293
          ],
          [
           0.671
          ],
          [
           0.341
          ],
          [
           0.439
          ],
          [
           0.329
          ],
          [
           0.61
          ],
          [
           0.293
          ],
          [
           0.561
          ],
          [
           0.476
          ],
          [
           0.707
          ],
          [
           0.793
          ],
          [
           0.585
          ],
          [
           0.512
          ],
          [
           0.427
          ],
          [
           0.268
          ],
          [
           0.537
          ],
          [
           0.537
          ],
          [
           0.573
          ],
          [
           0.585
          ],
          [
           0.354
          ],
          [
           0.585
          ],
          [
           0.305
          ],
          [
           0.634
          ],
          [
           0.256
          ],
          [
           0.598
          ],
          [
           0.329
          ],
          [
           0.573
          ],
          [
           0.72
          ],
          [
           0.585
          ],
          [
           0.524
          ],
          [
           0.354
          ],
          [
           0.598
          ],
          [
           0.512
          ],
          [
           0.476
          ],
          [
           0.268
          ],
          [
           0.232
          ],
          [
           0.402
          ],
          [
           0.659
          ],
          [
           0.5
          ],
          [
           0.695
          ],
          [
           0.646
          ],
          [
           0.585
          ],
          [
           0.585
          ],
          [
           0.451
          ],
          [
           0.402
          ],
          [
           0.476
          ],
          [
           0.732
          ],
          [
           0.439
          ],
          [
           0.402
          ],
          [
           0.207
          ],
          [
           0.598
          ],
          [
           0.512
          ],
          [
           0.622
          ],
          [
           0.232
          ],
          [
           0.646
          ],
          [
           0.476
          ],
          [
           0.585
          ],
          [
           0.707
          ],
          [
           0.61
          ],
          [
           0.39
          ],
          [
           0.299
          ],
          [
           0.667
          ],
          [
           0.486
          ],
          [
           0.354
          ],
          [
           0.338
          ],
          [
           0.292
          ],
          [
           0.573
          ],
          [
           0.63
          ],
          [
           0.303
          ],
          [
           0.231
          ],
          [
           0.611
          ],
          [
           0.616
          ],
          [
           0.681
          ],
          [
           0.732
          ],
          [
           0.466
          ],
          [
           0.603
          ],
          [
           0.767
          ],
          [
           0.297
          ],
          [
           0.417
          ],
          [
           0.318
          ],
          [
           0.611
          ],
          [
           0.452
          ],
          [
           0.589
          ],
          [
           0.466
          ],
          [
           0.473
          ],
          [
           0.431
          ],
          [
           0.451
          ],
          [
           0.736
          ],
          [
           0.611
          ],
          [
           0.347
          ]
         ],
         "hovertemplate": "IS_REAL=True<br>PC1=%{x}<br>PC2=%{y}<br>WIN%=%{customdata[0]}<extra></extra>",
         "legendgroup": "True",
         "marker": {
          "color": "#636efa",
          "symbol": "circle"
         },
         "mode": "markers",
         "name": "True",
         "orientation": "v",
         "showlegend": true,
         "type": "scatter",
         "x": [
          -0.9730691774249959,
          -0.6424663453970718,
          -0.22516385676208217,
          -1.7118211936059802,
          -0.7569446729272279,
          -0.11826787182516897,
          -0.504743061597678,
          -0.3059692725702235,
          -1.1090031701687153,
          -0.4719061574944315,
          0.13911770426775957,
          -1.1615385658366888,
          -0.04473843673509734,
          -0.26981581920681735,
          -0.2983150766602705,
          -0.06675924528258635,
          -0.6203961814215105,
          -0.5678648930894618,
          -0.7027296347215153,
          -0.8616743335073619,
          -0.19252988319225858,
          -0.16920418820158573,
          -0.05122024574198984,
          -0.3050069346775611,
          -0.29889302633871895,
          -0.47254715812469983,
          -0.2705736749553513,
          -1.014332837979797,
          -0.7928618953921758,
          -1.1580004616950133,
          -0.7653598436647226,
          -0.6421279059361104,
          -1.2937271149688427,
          -1.1295212557642997,
          -0.07721641112250588,
          -0.4589810217698924,
          -0.9052610371326095,
          -1.333079348555254,
          -0.4423087153874943,
          -0.7076206061520678,
          -0.9568575317863613,
          -0.21983271776849203,
          -0.7223254429236589,
          -0.038454104583383775,
          -0.22051229345666643,
          -1.1378331695599186,
          -0.7195139875949823,
          -0.626865959313842,
          -0.7184047043625201,
          -0.5955041287159752,
          -0.2981864636924451,
          -0.13194753688182326,
          -0.17630608633938363,
          -0.5146599940038348,
          -0.3044459036485576,
          -0.34089603324100337,
          -0.8861808558205175,
          -1.2206487087774662,
          -0.82399389349964,
          -0.3499511320960987,
          -0.6786086719517157,
          -1.1001002035043597,
          -0.5931457637391443,
          0.26309740364600154,
          -1.0394668613494455,
          -0.3592757519045876,
          -1.134951478018693,
          -0.9716052633368489,
          -0.5168967763131571,
          -0.6911995396027643,
          0.04842238189014264,
          -1.1195890775085438,
          -0.9225000887650863,
          -0.16724444621122586,
          -0.0618898093457106,
          -0.36016936125891125,
          -0.7696855271782737,
          -0.16934901856353948,
          -0.9929093577509015,
          -0.6360762144833142,
          -0.3297386155789347,
          0.21777774942784683,
          -0.35959282929778563,
          -0.18206147949843662,
          -0.8169078187141106,
          -0.8026214365611734,
          -0.7190868748457377,
          -0.7977358190920135,
          -0.6501391145295361,
          -0.8795766152427975,
          -1.336034382076462,
          0.3446942218832574,
          -1.7795174395989348,
          -0.5878024446733429,
          -0.6614092228547527,
          -0.7612199475101191,
          -0.4876807257486903,
          -0.9825809902602669,
          -0.22437491079935815,
          -0.5099506428469095,
          -1.290095179282529,
          -0.13626528385553094,
          -0.09210329920679232,
          -0.49815484092277673,
          -0.6361056168794131,
          -0.33018232951719506,
          -0.5061270664865354,
          -0.6756965881051907,
          -0.6664178808488661,
          -0.5034504379907757,
          0.19935921032472143,
          -0.46584101612652123,
          -0.6126537397081003,
          -1.082794745123984,
          -0.6405687610301459,
          -0.8606174679877546,
          -0.9684625141396893,
          -0.6882584203811407,
          -1.1317819010451378,
          -0.8884335461641546,
          0.21476804543289754,
          -0.722877239815444,
          -0.7998061232807869,
          -0.7371936887087774,
          -0.738278014104216,
          -0.613866728678488,
          -1.1327538222458235,
          -0.2570024512101671,
          -0.5583867572960092,
          -0.8353913873074599,
          -0.3589165913789597,
          -0.11695668179364434,
          -0.5095602682261573,
          -0.8640915566712936,
          -0.7343679597169106,
          -1.0001216586688668,
          -1.174081937001531,
          -0.856627578072798,
          -0.8111395539207769,
          0.2619824767046249,
          -0.5636811521923937,
          -0.37265175264928185,
          -1.0583198896308312,
          -1.3624498751701803,
          -1.3173535670188248,
          -1.2472114126938596,
          -0.37553297468030467,
          -0.9693302144559323,
          -0.7283624760994549,
          -0.6602511925300482,
          -0.2019827730059381,
          -0.37381595450668176,
          -0.5698528511346918,
          -0.4617876153431507,
          -0.30464679749204915,
          -0.7855830312357955,
          -0.6831759019368109,
          -0.5327486681698205,
          -0.6533800134862539,
          0.0764425382060915,
          -0.643941435792015,
          -0.2141098500544299,
          -0.7735149700523511,
          -1.2707729444268498,
          -0.6346638369122225,
          -0.706595625023946,
          -0.4600552640580081,
          0.5987005730168498,
          -0.8812693204946422,
          0.08557057721947847,
          -0.2693494170964726,
          -0.4948884122549956,
          -0.2901587679587103,
          -1.0869497211708812,
          -0.6633422965347063,
          -0.5987896172984557,
          -0.25595971937175455,
          -0.5079078127315197,
          -0.07424898055081992,
          -0.1476932053558389,
          -0.11121642439328,
          -0.060003098556583805,
          0.3535894244260616,
          -0.22646159822051554,
          -0.5736367749795568,
          -0.34232436079968537,
          -0.055337801008402285,
          0.022089059422081538,
          -0.30125193935641403,
          0.21952294844224404,
          -0.11855981609158854,
          -0.491089026842346,
          -0.07317667277557731,
          -0.569379189175327,
          -0.9005792318879614,
          -0.5010367046087966,
          -0.18159992548926127,
          1.1733584190362945,
          -1.0131600525580358,
          0.021623103909545423,
          0.17604431921953007,
          -0.14189720561496805,
          -0.05364283049089447,
          -0.7138847861805351,
          -0.18201699781578715,
          -0.7868580365807025,
          -0.5691099627679715,
          -0.36250057789566154,
          0.010932173604615078,
          -0.13684568680240386,
          0.2678878455043736,
          0.12388509480481827,
          0.015523054446484852,
          0.2905357526923939,
          0.1476140636549178,
          -0.47453464306578697,
          -0.2676877761331975,
          0.1502749299672136,
          -0.24465446631985008,
          -0.13934073734023253,
          -0.2291299918047889,
          -0.21746084658005027,
          0.09278528908357193,
          -0.35470074799718154,
          -0.5294754830470273,
          -0.5354871551023255,
          -0.4560721914969276,
          1.1631123117034015,
          -0.6188099397319318,
          -0.0859224899588047,
          0.4485826263690747,
          -0.2093592608961684,
          0.3020484647855136,
          0.044284226858576047,
          -0.00023613091288591842,
          -0.25409521470569857,
          0.40707628264304996,
          -0.3089820648647836,
          -0.32936980177362585,
          -0.2605437324644235,
          0.28648471984291074,
          0.6427071290030147,
          0.24160462511935735,
          0.578133303613477,
          0.06851864631149564,
          0.24730023249787036,
          -0.4936221805082382,
          0.8098681512458432,
          -0.12327418442753704,
          -0.5903109462244143,
          -0.4159208330759647,
          -0.5065614915068107,
          -0.25369940305926475,
          0.5125163951724969,
          -0.5595965552156248,
          0.5704933149287408,
          -0.4047463146251165,
          1.1253931045297958,
          -0.08654120965756484,
          -0.1085692857144499,
          0.2697553576597559,
          -0.4490143311305365,
          0.5507037073338142,
          0.5924609501721072,
          -0.10097709684804919,
          0.04621704380942961,
          0.38207245625954245,
          -0.43072599045699395,
          -0.01501242998919684,
          0.4365500189721949,
          0.3887500749153194,
          0.21092487246303168,
          -0.174829871211241,
          0.1257553830379243,
          0.1533761681558545,
          0.2862415506974256,
          -0.4641744897217419,
          0.621828506902083,
          -0.6492223329390494,
          0.08761599790817524,
          -0.1156951436101038,
          -0.3311958887202576,
          -0.07045681780986902,
          0.08400033741457952,
          0.2522939218003748,
          -0.4902096152946609,
          0.4191508941609818,
          -0.3538019643126162,
          0.6030542253057224,
          0.16856929974699095,
          -0.35265640025165684,
          0.451200286808711,
          0.1217716447277938,
          0.23881539016924558,
          -0.5012896130911518,
          0.32200254804904566,
          0.2647965389828081,
          -0.32712847749294505,
          -0.1856649021467702,
          0.5809690729793954,
          0.5089169294588303,
          0.309738097370676,
          -0.6482852600330555,
          0.3545370777880186,
          0.06631160906497595,
          0.008231207519487433,
          -0.3012315762809438,
          0.2822003280834593,
          -0.24574758225285637,
          -0.06875753640883596,
          0.04959129803078784,
          -0.4944168281219548,
          -0.8085242025889561,
          0.21076726534982818,
          0.20454635011982342,
          0.005159405324311511,
          0.5937420404049888,
          -0.18930038118664505,
          0.7972684183718606,
          0.08076924852829787,
          -0.2516426651287377,
          0.3704436929032412,
          0.32183770378951565,
          0.5385906373398885,
          -0.4683715706444922,
          0.025323454339273434,
          0.31427442270748884,
          -0.4283946024218846,
          0.17666592015741112,
          -0.4579580759182442,
          0.5621125558732806,
          0.5848009651186059,
          -0.2167914851881259,
          0.17383405844394212,
          0.44197024416324177,
          -0.13522260795486607,
          -0.2527403432279658,
          0.3262080974194427,
          -0.12672800376079776,
          0.4509795990021441,
          -0.44504105729440957,
          -0.3683682605904949,
          -0.45380385874956397,
          -0.06601854112541053,
          0.4341708823256293,
          0.22767203355612195,
          0.24412839200683384,
          0.19792169236521306,
          0.46804952897881597,
          -0.09320737786433038,
          -0.4140611523694473,
          0.6566065917039569,
          -0.33679595107647264,
          -0.04480861215772942,
          -0.6206467658088056,
          0.13101712457526313,
          -0.044540887543278194,
          -1.1517325402131084,
          0.06727965149464099,
          -0.8059756683904055,
          0.017194331672107734,
          0.258833562261779,
          -0.8467526251833595,
          -0.03126107050337507,
          -0.09199736835506218,
          -0.3176119841621573,
          -0.03241714564488058,
          -0.01873876850456592,
          -0.4612068653653738,
          0.03778031804262574,
          -0.021180199456759443,
          -0.3470734062387681,
          -0.6287251732670469,
          -0.7221310393795591,
          -0.1912030824671852,
          0.10223553293076472,
          -0.14057087084326275,
          0.09001397155226644,
          0.06302934720667089,
          -0.1755506317562695,
          -0.5221151333037878,
          0.695932132284533,
          -0.5805045988274128,
          -0.20850558010575962,
          -0.6555788334037245,
          0.356143191907122,
          0.08492179754685361,
          -0.12012634098417879,
          -0.7393602429836224,
          -0.2818813969269056,
          -0.4481629991880411,
          0.38342868984134443,
          0.3365200044489852,
          -0.41476896491409915,
          0.3158340902296789,
          0.43351710528094733,
          -0.236573749923045,
          0.4239605411974264,
          0.26550161646895915,
          -0.29305787164829594,
          0.8011424500749269,
          -0.02657089140798497,
          -0.3077419671138084,
          -0.3852725563350019,
          0.3578322499532309,
          0.6101903704987,
          -0.24229784981789448,
          -0.15045631627841072,
          -0.39533886413914276,
          -0.031075912999580655,
          -0.21384478192559467,
          0.8131887230587403,
          -0.12360727751549283,
          -0.09983780495523302,
          -0.29048924522610087,
          0.43854771379538193,
          -0.3279096466665656,
          0.07768643165671951,
          0.12165583543731394,
          -0.20287713894091344,
          -0.16821145685426378,
          0.6889216617033884,
          0.11231572846638146,
          -0.254253194998207,
          0.6094402942705941,
          0.47835560689892026,
          0.07900733604661164,
          0.7891994011035306,
          0.31282226570835636,
          -0.003090700865048765,
          0.634975689074909,
          -0.4705854100960366,
          0.4129087089204042,
          -0.08652228510015712,
          0.12879841192340855,
          0.6024485952654495,
          -0.18457841083019919,
          -0.4556733321799959,
          0.3141279625965645,
          0.6649367491117155,
          -0.2544776777892577,
          1.0009778132469092,
          0.1716101350409681,
          -0.36966897416097305,
          0.31750108368887175,
          0.7721248274519018,
          0.2904913909959669,
          -0.016613886218981837,
          -0.15518283348369347,
          0.2150199687366244,
          0.4781473608883875,
          0.6341795707493815,
          -0.08190342083128248,
          -0.02335336743965081,
          1.2803277586291342,
          0.24765135413541337,
          0.09081874695072428,
          1.0095665886426095,
          -0.19267088270292576,
          0.15947218837975788,
          -0.2397683785808854,
          -0.006126420337916864,
          -0.4734906972874543,
          0.17451655805642058,
          -0.5297113137727004,
          0.20971059107964052,
          -0.20896766421665156,
          -0.8285374024648727,
          0.1701883949311641,
          0.6366904470183345,
          -0.19075668559985576,
          0.7318682751457463,
          0.3366818848371203,
          -0.24599163624005105,
          0.24626182118829087,
          0.6895869797684734,
          0.5030371533811517,
          -0.04617443377653618,
          0.6540183270708846,
          0.28506987222933705,
          0.7497235099072433,
          0.5363697782737605,
          0.10141789232162512,
          0.1773421933991762,
          1.6526945732746157,
          0.29279942622168725,
          0.3064606230921441,
          0.7428200681666022,
          -0.462988207886424,
          -0.12060092438472432,
          0.2962661084423792,
          -0.05506473918871137,
          0.1053830639062071,
          0.36861656136510984,
          0.059389965178551274,
          0.7015346644842146,
          0.3328107682840724,
          -0.3273272280960662,
          -0.14107183558578762,
          0.41824669203268616,
          0.432958232185911,
          1.0273651841348057,
          0.3355623235709874,
          -0.02326094886200672,
          0.5831799242542246,
          0.3556308103347917,
          0.9240205893751404,
          0.2782717148637151,
          0.75550447294548,
          0.34363334093715026,
          1.0608653067313332,
          0.4156963793828486,
          0.9217434566272499,
          0.42420723933703647,
          1.7294840410277599,
          1.1769473722878325,
          0.5910367707358909,
          1.0064576584865017,
          0.10886795048628495,
          0.2247848231586489,
          0.41074333880193004,
          0.5854393602811382,
          0.3991382433505116,
          0.6364605655122809,
          0.26056194816137235,
          0.32866841299188976,
          0.19216209124312328,
          0.1714946215540325,
          0.07368584615967583,
          0.5935664803601891,
          0.35082817594231175,
          0.9049875013960186,
          0.5188249566256253,
          0.5339782214113645,
          0.8020735990623618,
          0.4009854497985425,
          0.743143538926994,
          0.5862816288776901,
          0.7446672471249848,
          0.45745281947036354,
          1.11106613456318,
          0.6645810466875522,
          0.9370956674148697,
          0.6051509333941829,
          1.575443272830858,
          1.2506283103051752,
          0.7005886344813336,
          0.6419204467265499,
          0.5877270977407354,
          0.0045724768949978135,
          0.6322658575959255,
          0.6817191158005618,
          0.8211532878226134,
          1.2253032291026105,
          0.4362614440120942,
          0.5747938781793915,
          0.44188136986891335,
          1.0052846647533904,
          0.06410968143329698,
          0.6074949480555861,
          0.1567615709945905,
          0.6434214993903598,
          1.1862857641325026,
          0.7625882647879549,
          0.757306425361999,
          0.7527402418039257,
          1.3715013647071534,
          0.8287540211623945,
          0.8965340053675002,
          0.35686293833155824,
          0.2297277236307035,
          0.7778411721708769,
          1.149052976235552,
          0.5981744434646142,
          1.7971238253305473,
          1.0401441801605953,
          0.9818374238512398,
          0.9924678735803584,
          0.8864618586937997,
          0.5025536943173057,
          0.6299648787307601,
          1.7420886832790705,
          0.8462585839804643,
          1.1006860091728554,
          0.12687873681044237,
          0.9671402734447718,
          1.0163048570820366,
          1.2317531877430516,
          0.34926990801352614,
          1.094305181679143,
          1.074402844498982,
          1.2960749060902856,
          1.360339494793369,
          1.1801512042806739,
          1.030042949397955,
          0.5072740498903486,
          1.0918414047953242,
          0.8780526179947075,
          0.26293013532247383,
          0.41407789919794147,
          0.3661122648090186,
          1.4884931145055764,
          1.097729930315113,
          0.5203609833092238,
          0.40939461991735754,
          1.1196438891702725,
          1.1117528813477424,
          1.2317539041160597,
          1.1806694249434442,
          1.0275743082706634,
          1.2306458952116406,
          1.7643144128527315,
          0.7074367989519046,
          1.0891870698891988,
          0.24708863276954576,
          0.9562702097462981,
          0.7649218201826364,
          1.0972582908233117,
          1.109888008149031,
          1.0005098173674718,
          0.8618676444106486,
          1.2316501940800018,
          1.1765290033853892,
          1.0536866016706823,
          0.8723272891251873
         ],
         "xaxis": "x",
         "y": [
          0.16438874693459504,
          -0.03736408526014416,
          -0.7033719925996718,
          0.3228525818971309,
          -0.05779554327828391,
          -0.04197666410564486,
          -0.10479124443076343,
          -0.24511913822712875,
          0.3906265703045947,
          -0.11116481214374267,
          -0.6261527662355341,
          0.7286651203463608,
          -1.0342517796130375,
          -0.7350022780338868,
          -0.3311511820621937,
          -0.7198431249450815,
          0.008163391498340986,
          -0.38775595737280455,
          -0.18006797782872536,
          -0.434843451499396,
          -0.734350067291219,
          -0.9858093442932496,
          -0.212561382602275,
          -0.8901695849083905,
          -0.21564050899888726,
          -0.3981728442963592,
          -0.9546773148009621,
          0.12806142078520671,
          -0.021373764842075413,
          0.22176418226123482,
          -0.052583206545647236,
          -0.7034185651640331,
          0.2320322233501388,
          -0.062343136851850306,
          -0.5188182700133012,
          -0.16803407817478372,
          -0.06458580550614852,
          0.41374753665318426,
          -0.3803815837906585,
          -0.4176712293404343,
          -0.09967449892060679,
          -0.7276567382200664,
          -0.49979370690771674,
          -0.547469639491501,
          -0.6080012699840586,
          0.18902159000979366,
          -0.5081130181121918,
          -0.31084932895513834,
          -0.7332465306391347,
          -0.5450001205497372,
          -0.8701763406370687,
          -0.6162294622091017,
          -1.0856219972606196,
          -0.3222060312388309,
          -0.6098456548757214,
          -1.036535566499424,
          0.04282717193249661,
          0.17876548929326733,
          0.09027949424349087,
          -0.25424763570578296,
          -0.5227484917093028,
          0.18270458227358508,
          -0.20390482130639065,
          -0.48510834160956223,
          0.1754041102235559,
          -0.599400259599975,
          0.14932237699321294,
          0.17362443602787947,
          -0.4123015001457687,
          -0.3194176593988489,
          -0.8317318507698329,
          0.16794095236448586,
          -0.3208626300030135,
          -0.3071764431851798,
          -0.6758906731499034,
          -0.7064653854317079,
          0.01916878332362709,
          -0.2550472720615109,
          -0.5195016864511451,
          -0.16528298733080124,
          -0.6459763689212223,
          -0.8359396293298281,
          -0.8345010768236031,
          -0.577375884206032,
          -0.3776776346940131,
          -0.733338472768082,
          -0.29194434255774004,
          -0.12171248663377801,
          -0.06848176693166232,
          0.054132173861685805,
          0.3634803120147571,
          -0.7483962743341827,
          0.29115588567660244,
          -0.6395308414101137,
          -0.1860865563522064,
          -0.39982383792483384,
          -0.6732219818475392,
          0.008239538663287072,
          -0.5683101881032707,
          -0.08303447517623161,
          0.1718508416348315,
          -0.31399938617796197,
          -0.669393598764253,
          -0.7727796348866577,
          -0.5734953660109572,
          -0.09051801722461385,
          -0.12955861165550522,
          -0.5017289622098996,
          -0.3155564924564635,
          -0.6246557660782369,
          -0.7874304283388707,
          -0.8031219948854285,
          -0.3402525469560849,
          0.20628836507845139,
          -0.9993540237828505,
          -0.32905999432250577,
          0.053517118723402,
          -0.11491615189050447,
          0.18473877024847785,
          -0.2708634797517896,
          -0.5653074588923918,
          -0.41236820971251237,
          -0.9526807777796436,
          -0.22571896193757277,
          -0.47688586750980455,
          -0.8649988846303402,
          -0.025680404287558172,
          -0.7799206972672824,
          -0.6254479454651688,
          -0.2779625942196462,
          -0.4446217392786785,
          -0.939072935039471,
          -0.7109244002142432,
          -0.2670502540600019,
          -0.24233291450862243,
          0.37211627355634,
          -0.21192231611664297,
          0.11128702934084625,
          -0.3823480847108631,
          -0.7963837663356689,
          -0.9567896916666029,
          -0.1758235106825376,
          -0.08556966480917538,
          -0.467064898228466,
          0.19483340687794173,
          0.4970048594018521,
          -0.41857703350691733,
          0.09267598267230999,
          -0.34416071632351514,
          -0.5320321341946744,
          -0.6732242400514517,
          -0.6475305750910603,
          -0.8622211134117457,
          0.026384112861002132,
          -0.648959087053035,
          -0.3505576085539508,
          -0.5777631820208383,
          0.017353749502987764,
          -0.5296104667785076,
          -0.9535394271533022,
          -0.13703575075972332,
          -0.5787891385698111,
          -0.31819884555361344,
          0.24137003474480145,
          -0.0631357318405405,
          -0.14564501008858644,
          -0.1536866080120952,
          -0.6601083481950578,
          -0.12013016431732461,
          -0.5134774478338506,
          -0.9815544929671681,
          -0.38752612710936457,
          -0.015239600908226706,
          -0.21729890789874762,
          -0.1624979812781677,
          0.36787550710000294,
          0.1410426913574903,
          0.4474415822766901,
          0.076805576107073,
          -0.1178205777869774,
          -0.5036870352670625,
          -0.08798465098459986,
          -0.7906273222490381,
          0.3512633522549798,
          0.11849157873601437,
          -0.11093599148928633,
          -0.22799055125052872,
          -0.11996655427467709,
          -0.2484323351642425,
          -0.31372274751002033,
          0.11619311052708184,
          0.010574914907855351,
          -0.21873879463284926,
          0.2208029825497633,
          0.4999869192235657,
          0.0051551702124446605,
          0.1454367906633955,
          -0.2662728974738521,
          0.6593826007404207,
          -0.08979264433748702,
          -0.6017657198214937,
          0.3289429780935217,
          0.4666361145721789,
          -0.08498537070496029,
          0.048625438484912624,
          0.31088478221005694,
          0.366064607473096,
          0.2627744181404049,
          -0.3242186888546831,
          -0.22861722574787213,
          -0.5738350608797436,
          -0.04863329448917782,
          -0.4761425849803377,
          0.24507974500877527,
          -0.24796300795119697,
          0.2227774196312821,
          -0.18052584610156974,
          0.09756639335987022,
          0.5000060804203318,
          -0.013336519303236542,
          0.4803438648818997,
          0.16457629526889897,
          0.010581982510170182,
          0.22024015076114734,
          0.2996749017291758,
          -0.10922329486767703,
          0.09761886070940158,
          -0.4463643062123151,
          0.3358066101215837,
          0.3274345599792293,
          -0.6655676498044603,
          0.28031126294078856,
          -0.05365513335655024,
          -0.3985604044735707,
          0.2161810668188819,
          -0.004636664582188051,
          -0.8198055611175341,
          0.3405267687134655,
          0.24473493010353578,
          0.0407950225679488,
          -0.33326680901364575,
          -0.17205454101558515,
          -0.7287190100568196,
          0.23856317922108958,
          -0.32853322789505796,
          0.34398130662562393,
          0.46293857051689047,
          -0.45579759968056566,
          0.7599435519332037,
          0.633197640002464,
          0.49025167780682505,
          0.6488249172167377,
          0.1927501064928578,
          -0.33630262173551645,
          0.6946737944281172,
          -0.17941655160529013,
          -0.059296842250366674,
          -0.4071975129443693,
          -0.007423214280142334,
          0.34331836810232563,
          -0.336191323585834,
          0.7058242282584872,
          -0.23229480790285106,
          -0.6575727138972944,
          0.08283545151053896,
          -0.10217574582108045,
          -0.6742167010237977,
          0.02913224647619642,
          0.08104332952103818,
          -0.660690192668319,
          -0.1425201123952474,
          -0.2759079183996868,
          -0.05147371824997474,
          0.48205643444867274,
          -0.21844718057599782,
          0.32805264048278193,
          0.6734333510024171,
          -0.4912948507641982,
          0.5110048187101269,
          0.012018509579488895,
          0.17335550381947012,
          0.5273389057070397,
          0.2761915641815868,
          -0.15499812831610604,
          0.6046408582416211,
          0.46990927349971995,
          -0.3279745012444845,
          -0.0517283419864266,
          -0.11446512577469647,
          -0.45604697073465755,
          0.8074508246048266,
          -0.2533048845384886,
          0.17608597466340928,
          -0.31474340200762474,
          0.5996381559172593,
          -0.3297202630951309,
          -0.3779356407430918,
          -0.12906162820593303,
          0.1309181244025088,
          -0.5753848462697247,
          -0.2963235840964728,
          -0.17328679760090737,
          0.42412281635092053,
          0.5898880925641375,
          0.27656602442314515,
          0.4739425658876658,
          0.383949952344686,
          -0.23720470011957762,
          0.25831128430413436,
          -0.13021855313308983,
          0.09783756040990668,
          0.895840533087977,
          0.7876366515665822,
          0.2598149249096119,
          0.5225623249400598,
          -0.22982900667494024,
          -0.3814282453795811,
          0.2733632866903411,
          -0.2552274585680178,
          -0.2927291407453608,
          0.510073321950358,
          -0.28721379286605914,
          0.1411755133647789,
          -0.5632437724810362,
          0.48392113067501397,
          -0.019956443767189913,
          -0.5896751757556034,
          0.2217475277515681,
          -0.5985224457632373,
          0.7511482060929435,
          -0.4059025568689818,
          -0.15667897660713026,
          0.2402969947161073,
          0.29219273492196096,
          -0.02630738721236667,
          0.3012345918459384,
          0.2232996301461013,
          -0.4334396099468186,
          -0.11301563467131137,
          -0.5610455657252843,
          0.18366022947770672,
          0.7306063771378777,
          0.46428648251045246,
          -0.12508250070584104,
          0.15254500384099642,
          -0.28832890523489446,
          -0.2578141725602814,
          -0.09329279222353537,
          0.17493805984380656,
          -0.1787396588085593,
          0.5638824937856529,
          -0.3717700925655865,
          0.4967872746301073,
          -0.017209305654396413,
          0.6347762551744873,
          -0.2652006107494603,
          -0.38926994954157434,
          0.9845984325347203,
          -0.7642654628564252,
          0.6176938648339534,
          -0.024260832346196318,
          -0.1786402514324669,
          0.386156714655809,
          0.30374436516944225,
          0.07948784445386527,
          -0.16982739516479395,
          -0.19245231630311624,
          -0.2627099054115892,
          -0.1734430481581404,
          -0.48881440423124134,
          -0.001295706546345663,
          0.37494894571188614,
          0.5154917867307703,
          0.15043154619218946,
          -0.047440287016098516,
          -0.37866022945404443,
          0.010911743844405136,
          -0.3417078515398668,
          0.020074081792011735,
          0.15858689674258514,
          0.671282318772411,
          -0.4654449320400918,
          0.1766300427134257,
          -0.11450183634302716,
          0.4500746447552367,
          -0.026806582063031232,
          0.0002795493883506688,
          -0.11561047868378664,
          0.7629709332905457,
          -0.16148230804525648,
          0.5719874273008505,
          0.08198451977300708,
          -0.3301850539559217,
          0.33989379776120476,
          0.03295453995004165,
          0.021311043375919263,
          -0.2534233249992725,
          -0.551936507342253,
          0.008575986033628892,
          -0.3864679434666252,
          -0.6879807420368942,
          0.17452574640501245,
          0.22882856929889137,
          0.3140042109966833,
          -0.0678825003006437,
          -0.688513191557833,
          0.5674727258874418,
          0.23189479757436812,
          0.5013970719173264,
          0.3408886219794233,
          0.5731854202764861,
          -0.4457752706975113,
          0.1800697383251443,
          -0.06790943243151383,
          0.24370825494375384,
          0.11197422974566883,
          0.49162795881349375,
          0.12733788062575468,
          0.05775312841594206,
          -0.22516607144716516,
          0.4060407594217343,
          -0.12043444084957113,
          0.37871883628181324,
          0.4450112500247872,
          -0.14541287737079153,
          -0.12828624560875462,
          -0.2650188798520028,
          -0.4408938308181611,
          0.5961286466720989,
          -0.2036318203458569,
          -0.37604486276241933,
          0.6513837831952247,
          0.054469041512761204,
          0.22502521879150755,
          0.21253197541931768,
          -0.3766889538272967,
          0.5522988293471014,
          1.042542104299521,
          0.12374609142344761,
          -0.14012257244759443,
          0.4806765390265571,
          -0.4890160278918398,
          -0.08304421280341326,
          0.5980571569443568,
          -0.01116587160826492,
          -0.39018235480665314,
          0.19782611963883875,
          0.3367342807901713,
          0.4118340243336223,
          -0.13399363741807616,
          -0.14776597668924524,
          0.0199270259988092,
          0.5616862573653058,
          0.2977750199562849,
          -0.6456045071240485,
          0.014638236102997151,
          0.154969635748126,
          -0.4027199734175574,
          0.6523338410484295,
          -0.21694542190053437,
          0.20792531725788002,
          -0.03357809392005087,
          0.6833706992695261,
          -0.039888875714194166,
          0.7048797394293252,
          0.1121699139816598,
          0.6134123908827921,
          0.8506662798802094,
          0.3757350994966656,
          -0.05601003826039655,
          0.4167789517011253,
          -0.37868469778209046,
          0.01537514343206866,
          -0.0036619250499033964,
          -0.1312234089471398,
          -0.09719916753614156,
          0.0616493898509747,
          0.6310171706507665,
          0.11822643452375574,
          0.248647955715026,
          -0.18376534268710862,
          0.28730207160068144,
          0.42512519178097524,
          0.32881309798094804,
          -0.6419769053514827,
          0.24982648498157753,
          0.11490397649920771,
          -0.16108907884878546,
          1.0542542690056667,
          0.2800643723727233,
          -0.09472040633635202,
          0.2662176603266137,
          0.23728965004177932,
          0.5408222700309359,
          0.3305189986010246,
          -0.3450729969472156,
          0.3079992338641933,
          1.0264745188484794,
          0.8332395093719552,
          0.2684438846631056,
          0.3629794754076672,
          -0.7865836846199931,
          -0.11436401813530897,
          0.06538713226675567,
          0.22753128772234255,
          0.20890137414633,
          0.03995209037063801,
          0.9125672175671312,
          0.24535321811866811,
          0.10766019844571052,
          0.13141381041904324,
          0.4796317251539554,
          0.18804913735427067,
          0.3733937620494559,
          -0.7666158874367974,
          0.022870016430547743,
          0.18207834640262874,
          -0.09182571175382931,
          0.8253730323523372,
          0.14429333187570356,
          0.21141836063941458,
          0.04029904700744898,
          0.16569278368315188,
          0.40677961470272633,
          0.4679879509704713,
          0.24099261353041476,
          0.6838507127771866,
          0.6129850051014436,
          0.7987069120720296,
          0.3689576582786257,
          0.4291501300122063,
          -0.4735235439345123,
          0.038107312928786004,
          -0.16206032425207614,
          0.07321176676410271,
          0.708036798521866,
          0.009526352141704124,
          0.6742429569816353,
          0.3558550262517729,
          0.8075614946368009,
          0.23285153726443972,
          0.6339134441272734,
          0.10354143600985818,
          0.3275027214405294,
          -0.4428785155288354,
          -0.10598930903649564,
          0.1581647106733687,
          0.3216450049582949,
          0.465838822924741,
          0.6748324113746822,
          0.2281739254588314,
          0.14023015385532714,
          0.028436235988597718,
          0.09335714540952418,
          0.4595301585706242,
          0.11862002731397896,
          0.627295662545648,
          -0.1598530898753626,
          1.038255733249273,
          0.22472630302859442,
          0.7182636481367227,
          -0.06573693313507342,
          -0.20315709577621285,
          -0.04672308501342404,
          0.10805989277504655,
          0.8409341204239128,
          0.0034155914673282424,
          0.4850155507472715,
          0.5144617982609736,
          0.9342425470368637,
          1.0886863580661237,
          0.5202929558460372,
          -0.07947380736686475,
          0.45881146967571923,
          -0.26707136015007826,
          0.26468735292768036,
          -0.0598919936575623,
          0.28293792477548135,
          0.48260331630011144,
          0.38025278089750597,
          0.2967909908005973,
          -0.13816170073749723,
          0.42966182295719124,
          0.43888369984947173,
          1.0912388499790093,
          0.29804894623019196,
          0.21144616093624838,
          -0.023928990367649262,
          0.9326140044378696,
          0.10185008066726395,
          0.4910008629252065,
          0.09511689219227785,
          -0.0780300732745698,
          -0.09849299227839504,
          0.5421991187681747,
          0.9868491847131429,
          0.005525236286313989,
          0.47378185575276516,
          0.7010553177580967,
          0.6830868049702349,
          0.9093346380232687,
          0.14874114422095405,
          -0.00649078902925701,
          0.5626082065097626,
          0.7858842274924751,
          0.4900320495412514,
          0.055545285461150964,
          0.0010834779628511866,
          -0.1906011368385495,
          0.34756163666960344,
          -0.0112713670472709,
          -0.17490616401927636,
          0.8109998707361092,
          0.47836824876221135,
          0.7301683355479793,
          0.1862539555700646,
          0.338249071655244,
          0.004861191522358777,
          0.2687968592092062,
          0.613114863106407,
          0.525134752839055,
          0.3302662229912365,
          -0.059202467782705416,
          0.21301533254340402,
          0.7211840900264329
         ],
         "yaxis": "y"
        },
        {
         "customdata": [
          [
           0.6408470869064331
          ]
         ],
         "hovertemplate": "IS_REAL=False<br>PC1=%{x}<br>PC2=%{y}<br>WIN%=%{customdata[0]}<extra></extra>",
         "legendgroup": "False",
         "marker": {
          "color": "#EF553B",
          "symbol": "circle"
         },
         "mode": "markers",
         "name": "False",
         "orientation": "v",
         "showlegend": true,
         "type": "scatter",
         "x": [
          0.7433214453880821
         ],
         "xaxis": "x",
         "y": [
          -0.28181708418492674
         ],
         "yaxis": "y"
        }
       ],
       "layout": {
        "legend": {
         "title": {
          "text": "IS_REAL"
         },
         "tracegroupgap": 0
        },
        "margin": {
         "t": 60
        },
        "template": {
         "data": {
          "bar": [
           {
            "error_x": {
             "color": "#2a3f5f"
            },
            "error_y": {
             "color": "#2a3f5f"
            },
            "marker": {
             "line": {
              "color": "#E5ECF6",
              "width": 0.5
             },
             "pattern": {
              "fillmode": "overlay",
              "size": 10,
              "solidity": 0.2
             }
            },
            "type": "bar"
           }
          ],
          "barpolar": [
           {
            "marker": {
             "line": {
              "color": "#E5ECF6",
              "width": 0.5
             },
             "pattern": {
              "fillmode": "overlay",
              "size": 10,
              "solidity": 0.2
             }
            },
            "type": "barpolar"
           }
          ],
          "carpet": [
           {
            "aaxis": {
             "endlinecolor": "#2a3f5f",
             "gridcolor": "white",
             "linecolor": "white",
             "minorgridcolor": "white",
             "startlinecolor": "#2a3f5f"
            },
            "baxis": {
             "endlinecolor": "#2a3f5f",
             "gridcolor": "white",
             "linecolor": "white",
             "minorgridcolor": "white",
             "startlinecolor": "#2a3f5f"
            },
            "type": "carpet"
           }
          ],
          "choropleth": [
           {
            "colorbar": {
             "outlinewidth": 0,
             "ticks": ""
            },
            "type": "choropleth"
           }
          ],
          "contour": [
           {
            "colorbar": {
             "outlinewidth": 0,
             "ticks": ""
            },
            "colorscale": [
             [
              0,
              "#0d0887"
             ],
             [
              0.1111111111111111,
              "#46039f"
             ],
             [
              0.2222222222222222,
              "#7201a8"
             ],
             [
              0.3333333333333333,
              "#9c179e"
             ],
             [
              0.4444444444444444,
              "#bd3786"
             ],
             [
              0.5555555555555556,
              "#d8576b"
             ],
             [
              0.6666666666666666,
              "#ed7953"
             ],
             [
              0.7777777777777778,
              "#fb9f3a"
             ],
             [
              0.8888888888888888,
              "#fdca26"
             ],
             [
              1,
              "#f0f921"
             ]
            ],
            "type": "contour"
           }
          ],
          "contourcarpet": [
           {
            "colorbar": {
             "outlinewidth": 0,
             "ticks": ""
            },
            "type": "contourcarpet"
           }
          ],
          "heatmap": [
           {
            "colorbar": {
             "outlinewidth": 0,
             "ticks": ""
            },
            "colorscale": [
             [
              0,
              "#0d0887"
             ],
             [
              0.1111111111111111,
              "#46039f"
             ],
             [
              0.2222222222222222,
              "#7201a8"
             ],
             [
              0.3333333333333333,
              "#9c179e"
             ],
             [
              0.4444444444444444,
              "#bd3786"
             ],
             [
              0.5555555555555556,
              "#d8576b"
             ],
             [
              0.6666666666666666,
              "#ed7953"
             ],
             [
              0.7777777777777778,
              "#fb9f3a"
             ],
             [
              0.8888888888888888,
              "#fdca26"
             ],
             [
              1,
              "#f0f921"
             ]
            ],
            "type": "heatmap"
           }
          ],
          "heatmapgl": [
           {
            "colorbar": {
             "outlinewidth": 0,
             "ticks": ""
            },
            "colorscale": [
             [
              0,
              "#0d0887"
             ],
             [
              0.1111111111111111,
              "#46039f"
             ],
             [
              0.2222222222222222,
              "#7201a8"
             ],
             [
              0.3333333333333333,
              "#9c179e"
             ],
             [
              0.4444444444444444,
              "#bd3786"
             ],
             [
              0.5555555555555556,
              "#d8576b"
             ],
             [
              0.6666666666666666,
              "#ed7953"
             ],
             [
              0.7777777777777778,
              "#fb9f3a"
             ],
             [
              0.8888888888888888,
              "#fdca26"
             ],
             [
              1,
              "#f0f921"
             ]
            ],
            "type": "heatmapgl"
           }
          ],
          "histogram": [
           {
            "marker": {
             "pattern": {
              "fillmode": "overlay",
              "size": 10,
              "solidity": 0.2
             }
            },
            "type": "histogram"
           }
          ],
          "histogram2d": [
           {
            "colorbar": {
             "outlinewidth": 0,
             "ticks": ""
            },
            "colorscale": [
             [
              0,
              "#0d0887"
             ],
             [
              0.1111111111111111,
              "#46039f"
             ],
             [
              0.2222222222222222,
              "#7201a8"
             ],
             [
              0.3333333333333333,
              "#9c179e"
             ],
             [
              0.4444444444444444,
              "#bd3786"
             ],
             [
              0.5555555555555556,
              "#d8576b"
             ],
             [
              0.6666666666666666,
              "#ed7953"
             ],
             [
              0.7777777777777778,
              "#fb9f3a"
             ],
             [
              0.8888888888888888,
              "#fdca26"
             ],
             [
              1,
              "#f0f921"
             ]
            ],
            "type": "histogram2d"
           }
          ],
          "histogram2dcontour": [
           {
            "colorbar": {
             "outlinewidth": 0,
             "ticks": ""
            },
            "colorscale": [
             [
              0,
              "#0d0887"
             ],
             [
              0.1111111111111111,
              "#46039f"
             ],
             [
              0.2222222222222222,
              "#7201a8"
             ],
             [
              0.3333333333333333,
              "#9c179e"
             ],
             [
              0.4444444444444444,
              "#bd3786"
             ],
             [
              0.5555555555555556,
              "#d8576b"
             ],
             [
              0.6666666666666666,
              "#ed7953"
             ],
             [
              0.7777777777777778,
              "#fb9f3a"
             ],
             [
              0.8888888888888888,
              "#fdca26"
             ],
             [
              1,
              "#f0f921"
             ]
            ],
            "type": "histogram2dcontour"
           }
          ],
          "mesh3d": [
           {
            "colorbar": {
             "outlinewidth": 0,
             "ticks": ""
            },
            "type": "mesh3d"
           }
          ],
          "parcoords": [
           {
            "line": {
             "colorbar": {
              "outlinewidth": 0,
              "ticks": ""
             }
            },
            "type": "parcoords"
           }
          ],
          "pie": [
           {
            "automargin": true,
            "type": "pie"
           }
          ],
          "scatter": [
           {
            "marker": {
             "colorbar": {
              "outlinewidth": 0,
              "ticks": ""
             }
            },
            "type": "scatter"
           }
          ],
          "scatter3d": [
           {
            "line": {
             "colorbar": {
              "outlinewidth": 0,
              "ticks": ""
             }
            },
            "marker": {
             "colorbar": {
              "outlinewidth": 0,
              "ticks": ""
             }
            },
            "type": "scatter3d"
           }
          ],
          "scattercarpet": [
           {
            "marker": {
             "colorbar": {
              "outlinewidth": 0,
              "ticks": ""
             }
            },
            "type": "scattercarpet"
           }
          ],
          "scattergeo": [
           {
            "marker": {
             "colorbar": {
              "outlinewidth": 0,
              "ticks": ""
             }
            },
            "type": "scattergeo"
           }
          ],
          "scattergl": [
           {
            "marker": {
             "colorbar": {
              "outlinewidth": 0,
              "ticks": ""
             }
            },
            "type": "scattergl"
           }
          ],
          "scattermapbox": [
           {
            "marker": {
             "colorbar": {
              "outlinewidth": 0,
              "ticks": ""
             }
            },
            "type": "scattermapbox"
           }
          ],
          "scatterpolar": [
           {
            "marker": {
             "colorbar": {
              "outlinewidth": 0,
              "ticks": ""
             }
            },
            "type": "scatterpolar"
           }
          ],
          "scatterpolargl": [
           {
            "marker": {
             "colorbar": {
              "outlinewidth": 0,
              "ticks": ""
             }
            },
            "type": "scatterpolargl"
           }
          ],
          "scatterternary": [
           {
            "marker": {
             "colorbar": {
              "outlinewidth": 0,
              "ticks": ""
             }
            },
            "type": "scatterternary"
           }
          ],
          "surface": [
           {
            "colorbar": {
             "outlinewidth": 0,
             "ticks": ""
            },
            "colorscale": [
             [
              0,
              "#0d0887"
             ],
             [
              0.1111111111111111,
              "#46039f"
             ],
             [
              0.2222222222222222,
              "#7201a8"
             ],
             [
              0.3333333333333333,
              "#9c179e"
             ],
             [
              0.4444444444444444,
              "#bd3786"
             ],
             [
              0.5555555555555556,
              "#d8576b"
             ],
             [
              0.6666666666666666,
              "#ed7953"
             ],
             [
              0.7777777777777778,
              "#fb9f3a"
             ],
             [
              0.8888888888888888,
              "#fdca26"
             ],
             [
              1,
              "#f0f921"
             ]
            ],
            "type": "surface"
           }
          ],
          "table": [
           {
            "cells": {
             "fill": {
              "color": "#EBF0F8"
             },
             "line": {
              "color": "white"
             }
            },
            "header": {
             "fill": {
              "color": "#C8D4E3"
             },
             "line": {
              "color": "white"
             }
            },
            "type": "table"
           }
          ]
         },
         "layout": {
          "annotationdefaults": {
           "arrowcolor": "#2a3f5f",
           "arrowhead": 0,
           "arrowwidth": 1
          },
          "autotypenumbers": "strict",
          "coloraxis": {
           "colorbar": {
            "outlinewidth": 0,
            "ticks": ""
           }
          },
          "colorscale": {
           "diverging": [
            [
             0,
             "#8e0152"
            ],
            [
             0.1,
             "#c51b7d"
            ],
            [
             0.2,
             "#de77ae"
            ],
            [
             0.3,
             "#f1b6da"
            ],
            [
             0.4,
             "#fde0ef"
            ],
            [
             0.5,
             "#f7f7f7"
            ],
            [
             0.6,
             "#e6f5d0"
            ],
            [
             0.7,
             "#b8e186"
            ],
            [
             0.8,
             "#7fbc41"
            ],
            [
             0.9,
             "#4d9221"
            ],
            [
             1,
             "#276419"
            ]
           ],
           "sequential": [
            [
             0,
             "#0d0887"
            ],
            [
             0.1111111111111111,
             "#46039f"
            ],
            [
             0.2222222222222222,
             "#7201a8"
            ],
            [
             0.3333333333333333,
             "#9c179e"
            ],
            [
             0.4444444444444444,
             "#bd3786"
            ],
            [
             0.5555555555555556,
             "#d8576b"
            ],
            [
             0.6666666666666666,
             "#ed7953"
            ],
            [
             0.7777777777777778,
             "#fb9f3a"
            ],
            [
             0.8888888888888888,
             "#fdca26"
            ],
            [
             1,
             "#f0f921"
            ]
           ],
           "sequentialminus": [
            [
             0,
             "#0d0887"
            ],
            [
             0.1111111111111111,
             "#46039f"
            ],
            [
             0.2222222222222222,
             "#7201a8"
            ],
            [
             0.3333333333333333,
             "#9c179e"
            ],
            [
             0.4444444444444444,
             "#bd3786"
            ],
            [
             0.5555555555555556,
             "#d8576b"
            ],
            [
             0.6666666666666666,
             "#ed7953"
            ],
            [
             0.7777777777777778,
             "#fb9f3a"
            ],
            [
             0.8888888888888888,
             "#fdca26"
            ],
            [
             1,
             "#f0f921"
            ]
           ]
          },
          "colorway": [
           "#636efa",
           "#EF553B",
           "#00cc96",
           "#ab63fa",
           "#FFA15A",
           "#19d3f3",
           "#FF6692",
           "#B6E880",
           "#FF97FF",
           "#FECB52"
          ],
          "font": {
           "color": "#2a3f5f"
          },
          "geo": {
           "bgcolor": "white",
           "lakecolor": "white",
           "landcolor": "#E5ECF6",
           "showlakes": true,
           "showland": true,
           "subunitcolor": "white"
          },
          "hoverlabel": {
           "align": "left"
          },
          "hovermode": "closest",
          "mapbox": {
           "style": "light"
          },
          "paper_bgcolor": "white",
          "plot_bgcolor": "#E5ECF6",
          "polar": {
           "angularaxis": {
            "gridcolor": "white",
            "linecolor": "white",
            "ticks": ""
           },
           "bgcolor": "#E5ECF6",
           "radialaxis": {
            "gridcolor": "white",
            "linecolor": "white",
            "ticks": ""
           }
          },
          "scene": {
           "xaxis": {
            "backgroundcolor": "#E5ECF6",
            "gridcolor": "white",
            "gridwidth": 2,
            "linecolor": "white",
            "showbackground": true,
            "ticks": "",
            "zerolinecolor": "white"
           },
           "yaxis": {
            "backgroundcolor": "#E5ECF6",
            "gridcolor": "white",
            "gridwidth": 2,
            "linecolor": "white",
            "showbackground": true,
            "ticks": "",
            "zerolinecolor": "white"
           },
           "zaxis": {
            "backgroundcolor": "#E5ECF6",
            "gridcolor": "white",
            "gridwidth": 2,
            "linecolor": "white",
            "showbackground": true,
            "ticks": "",
            "zerolinecolor": "white"
           }
          },
          "shapedefaults": {
           "line": {
            "color": "#2a3f5f"
           }
          },
          "ternary": {
           "aaxis": {
            "gridcolor": "white",
            "linecolor": "white",
            "ticks": ""
           },
           "baxis": {
            "gridcolor": "white",
            "linecolor": "white",
            "ticks": ""
           },
           "bgcolor": "#E5ECF6",
           "caxis": {
            "gridcolor": "white",
            "linecolor": "white",
            "ticks": ""
           }
          },
          "title": {
           "x": 0.05
          },
          "xaxis": {
           "automargin": true,
           "gridcolor": "white",
           "linecolor": "white",
           "ticks": "",
           "title": {
            "standoff": 15
           },
           "zerolinecolor": "white",
           "zerolinewidth": 2
          },
          "yaxis": {
           "automargin": true,
           "gridcolor": "white",
           "linecolor": "white",
           "ticks": "",
           "title": {
            "standoff": 15
           },
           "zerolinecolor": "white",
           "zerolinewidth": 2
          }
         }
        },
        "xaxis": {
         "anchor": "y",
         "domain": [
          0,
          1
         ],
         "title": {
          "text": "PC1"
         }
        },
        "yaxis": {
         "anchor": "x",
         "domain": [
          0,
          1
         ],
         "title": {
          "text": "PC2"
         }
        }
       }
      },
      "text/html": [
       "<div>                            <div id=\"c166ec82-8971-4072-920d-06cbe6f921c0\" class=\"plotly-graph-div\" style=\"height:525px; width:100%;\"></div>            <script type=\"text/javascript\">                require([\"plotly\"], function(Plotly) {                    window.PLOTLYENV=window.PLOTLYENV || {};                                    if (document.getElementById(\"c166ec82-8971-4072-920d-06cbe6f921c0\")) {                    Plotly.newPlot(                        \"c166ec82-8971-4072-920d-06cbe6f921c0\",                        [{\"customdata\":[[0.341],[0.427],[0.598],[0.207],[0.39],[0.488],[0.427],[0.512],[0.232],[0.415],[0.683],[0.183],[0.817],[0.634],[0.512],[0.61],[0.378],[0.61],[0.5],[0.598],[0.646],[0.72],[0.537],[0.646],[0.549],[0.549],[0.671],[0.268],[0.354],[0.305],[0.439],[0.561],[0.183],[0.366],[0.646],[0.488],[0.39],[0.207],[0.549],[0.5],[0.378],[0.683],[0.61],[0.634],[0.573],[0.317],[0.585],[0.524],[0.683],[0.622],[0.61],[0.671],[0.707],[0.537],[0.573],[0.646],[0.28],[0.232],[0.402],[0.598],[0.537],[0.256],[0.354],[0.695],[0.329],[0.61],[0.256],[0.341],[0.512],[0.476],[0.707],[0.28],[0.439],[0.5],[0.61],[0.634],[0.366],[0.537],[0.524],[0.439],[0.598],[0.744],[0.707],[0.549],[0.512],[0.537],[0.451],[0.427],[0.537],[0.366],[0.207],[0.732],[0.207],[0.61],[0.463],[0.524],[0.585],[0.329],[0.61],[0.341],[0.305],[0.512],[0.622],[0.598],[0.573],[0.451],[0.512],[0.585],[0.537],[0.61],[0.72],[0.732],[0.488],[0.293],[0.573],[0.451],[0.341],[0.439],[0.28],[0.427],[0.634],[0.524],[0.659],[0.451],[0.549],[0.744],[0.341],[0.683],[0.61],[0.512],[0.5],[0.707],[0.573],[0.5],[0.476],[0.256],[0.402],[0.354],[0.5],[0.671],[0.695],[0.451],[0.402],[0.512],[0.305],[0.159],[0.549],[0.22],[0.573],[0.512],[0.707],[0.598],[0.659],[0.415],[0.622],[0.537],[0.451],[0.415],[0.549],[0.72],[0.366],[0.537],[0.512],[0.22],[0.402],[0.439],[0.524],[0.756],[0.329],[0.61],[0.72],[0.634],[0.402],[0.317],[0.549],[0.317],[0.402],[0.317],[0.5],[0.61],[0.732],[0.537],[0.78],[0.415],[0.415],[0.5],[0.573],[0.549],[0.598],[0.634],[0.488],[0.402],[0.598],[0.463],[0.28],[0.439],[0.463],[0.659],[0.256],[0.537],[0.768],[0.427],[0.329],[0.5],[0.512],[0.366],[0.293],[0.402],[0.598],[0.61],[0.817],[0.549],[0.646],[0.512],[0.634],[0.427],[0.488],[0.512],[0.268],[0.537],[0.341],[0.39],[0.5],[0.476],[0.402],[0.488],[0.427],[0.744],[0.39],[0.402],[0.707],[0.378],[0.573],[0.622],[0.5],[0.451],[0.805],[0.39],[0.402],[0.549],[0.622],[0.61],[0.72],[0.585],[0.671],[0.439],[0.28],[0.695],[0.268],[0.183],[0.317],[0.268],[0.415],[0.683],[0.28],[0.634],[0.488],[0.671],[0.5],[0.463],[0.683],[0.244],[0.5],[0.659],[0.524],[0.573],[0.756],[0.427],[0.5],[0.805],[0.61],[0.659],[0.476],[0.354],[0.646],[0.439],[0.232],[0.793],[0.293],[0.524],[0.415],[0.293],[0.415],[0.598],[0.39],[0.28],[0.72],[0.5],[0.561],[0.659],[0.207],[0.659],[0.402],[0.585],[0.232],[0.646],[0.61],[0.537],[0.5],[0.744],[0.671],[0.646],[0.329],[0.317],[0.512],[0.39],[0.354],[0.695],[0.488],[0.573],[0.561],[0.183],[0.146],[0.451],[0.354],[0.61],[0.72],[0.329],[0.659],[0.61],[0.305],[0.61],[0.488],[0.646],[0.317],[0.537],[0.683],[0.415],[0.756],[0.232],[0.695],[0.61],[0.366],[0.439],[0.524],[0.451],[0.39],[0.695],[0.561],[0.707],[0.427],[0.207],[0.293],[0.561],[0.512],[0.671],[0.634],[0.5],[0.488],[0.585],[0.293],[0.744],[0.268],[0.476],[0.28],[0.606],[0.591],[0.106],[0.758],[0.318],[0.545],[0.576],[0.379],[0.348],[0.515],[0.636],[0.606],[0.621],[0.621],[0.697],[0.47],[0.394],[0.333],[0.318],[0.545],[0.712],[0.561],[0.53],[0.5],[0.424],[0.333],[0.758],[0.348],[0.545],[0.303],[0.537],[0.506],[0.598],[0.256],[0.549],[0.293],[0.5],[0.695],[0.354],[0.573],[0.549],[0.605],[0.683],[0.549],[0.683],[0.805],[0.463],[0.378],[0.329],[0.659],[0.732],[0.244],[0.415],[0.305],[0.402],[0.341],[0.707],[0.415],[0.524],[0.354],[0.463],[0.305],[0.537],[0.524],[0.585],[0.402],[0.598],[0.439],[0.354],[0.622],[0.659],[0.683],[0.695],[0.329],[0.61],[0.659],[0.183],[0.488],[0.415],[0.451],[0.72],[0.28],[0.232],[0.585],[0.659],[0.341],[0.756],[0.585],[0.305],[0.537],[0.732],[0.488],[0.463],[0.402],[0.61],[0.646],[0.61],[0.366],[0.39],[0.817],[0.683],[0.463],[0.683],[0.256],[0.671],[0.451],[0.5],[0.195],[0.549],[0.207],[0.549],[0.305],[0.22],[0.476],[0.622],[0.354],[0.671],[0.598],[0.463],[0.561],[0.585],[0.585],[0.256],[0.585],[0.512],[0.695],[0.512],[0.402],[0.537],[0.89],[0.5],[0.549],[0.646],[0.207],[0.512],[0.585],[0.402],[0.354],[0.366],[0.39],[0.671],[0.427],[0.122],[0.28],[0.537],[0.402],[0.817],[0.683],[0.488],[0.5],[0.524],[0.646],[0.244],[0.439],[0.5],[0.622],[0.402],[0.488],[0.451],[0.817],[0.671],[0.512],[0.622],[0.317],[0.524],[0.5],[0.512],[0.378],[0.415],[0.378],[0.573],[0.354],[0.341],[0.293],[0.5],[0.39],[0.744],[0.622],[0.622],[0.598],[0.293],[0.671],[0.341],[0.439],[0.329],[0.61],[0.293],[0.561],[0.476],[0.707],[0.793],[0.585],[0.512],[0.427],[0.268],[0.537],[0.537],[0.573],[0.585],[0.354],[0.585],[0.305],[0.634],[0.256],[0.598],[0.329],[0.573],[0.72],[0.585],[0.524],[0.354],[0.598],[0.512],[0.476],[0.268],[0.232],[0.402],[0.659],[0.5],[0.695],[0.646],[0.585],[0.585],[0.451],[0.402],[0.476],[0.732],[0.439],[0.402],[0.207],[0.598],[0.512],[0.622],[0.232],[0.646],[0.476],[0.585],[0.707],[0.61],[0.39],[0.299],[0.667],[0.486],[0.354],[0.338],[0.292],[0.573],[0.63],[0.303],[0.231],[0.611],[0.616],[0.681],[0.732],[0.466],[0.603],[0.767],[0.297],[0.417],[0.318],[0.611],[0.452],[0.589],[0.466],[0.473],[0.431],[0.451],[0.736],[0.611],[0.347]],\"hovertemplate\":\"IS_REAL=True<br>PC1=%{x}<br>PC2=%{y}<br>WIN%=%{customdata[0]}<extra></extra>\",\"legendgroup\":\"True\",\"marker\":{\"color\":\"#636efa\",\"symbol\":\"circle\"},\"mode\":\"markers\",\"name\":\"True\",\"orientation\":\"v\",\"showlegend\":true,\"type\":\"scatter\",\"x\":[-0.9730691774249959,-0.6424663453970718,-0.22516385676208217,-1.7118211936059802,-0.7569446729272279,-0.11826787182516897,-0.504743061597678,-0.3059692725702235,-1.1090031701687153,-0.4719061574944315,0.13911770426775957,-1.1615385658366888,-0.04473843673509734,-0.26981581920681735,-0.2983150766602705,-0.06675924528258635,-0.6203961814215105,-0.5678648930894618,-0.7027296347215153,-0.8616743335073619,-0.19252988319225858,-0.16920418820158573,-0.05122024574198984,-0.3050069346775611,-0.29889302633871895,-0.47254715812469983,-0.2705736749553513,-1.014332837979797,-0.7928618953921758,-1.1580004616950133,-0.7653598436647226,-0.6421279059361104,-1.2937271149688427,-1.1295212557642997,-0.07721641112250588,-0.4589810217698924,-0.9052610371326095,-1.333079348555254,-0.4423087153874943,-0.7076206061520678,-0.9568575317863613,-0.21983271776849203,-0.7223254429236589,-0.038454104583383775,-0.22051229345666643,-1.1378331695599186,-0.7195139875949823,-0.626865959313842,-0.7184047043625201,-0.5955041287159752,-0.2981864636924451,-0.13194753688182326,-0.17630608633938363,-0.5146599940038348,-0.3044459036485576,-0.34089603324100337,-0.8861808558205175,-1.2206487087774662,-0.82399389349964,-0.3499511320960987,-0.6786086719517157,-1.1001002035043597,-0.5931457637391443,0.26309740364600154,-1.0394668613494455,-0.3592757519045876,-1.134951478018693,-0.9716052633368489,-0.5168967763131571,-0.6911995396027643,0.04842238189014264,-1.1195890775085438,-0.9225000887650863,-0.16724444621122586,-0.0618898093457106,-0.36016936125891125,-0.7696855271782737,-0.16934901856353948,-0.9929093577509015,-0.6360762144833142,-0.3297386155789347,0.21777774942784683,-0.35959282929778563,-0.18206147949843662,-0.8169078187141106,-0.8026214365611734,-0.7190868748457377,-0.7977358190920135,-0.6501391145295361,-0.8795766152427975,-1.336034382076462,0.3446942218832574,-1.7795174395989348,-0.5878024446733429,-0.6614092228547527,-0.7612199475101191,-0.4876807257486903,-0.9825809902602669,-0.22437491079935815,-0.5099506428469095,-1.290095179282529,-0.13626528385553094,-0.09210329920679232,-0.49815484092277673,-0.6361056168794131,-0.33018232951719506,-0.5061270664865354,-0.6756965881051907,-0.6664178808488661,-0.5034504379907757,0.19935921032472143,-0.46584101612652123,-0.6126537397081003,-1.082794745123984,-0.6405687610301459,-0.8606174679877546,-0.9684625141396893,-0.6882584203811407,-1.1317819010451378,-0.8884335461641546,0.21476804543289754,-0.722877239815444,-0.7998061232807869,-0.7371936887087774,-0.738278014104216,-0.613866728678488,-1.1327538222458235,-0.2570024512101671,-0.5583867572960092,-0.8353913873074599,-0.3589165913789597,-0.11695668179364434,-0.5095602682261573,-0.8640915566712936,-0.7343679597169106,-1.0001216586688668,-1.174081937001531,-0.856627578072798,-0.8111395539207769,0.2619824767046249,-0.5636811521923937,-0.37265175264928185,-1.0583198896308312,-1.3624498751701803,-1.3173535670188248,-1.2472114126938596,-0.37553297468030467,-0.9693302144559323,-0.7283624760994549,-0.6602511925300482,-0.2019827730059381,-0.37381595450668176,-0.5698528511346918,-0.4617876153431507,-0.30464679749204915,-0.7855830312357955,-0.6831759019368109,-0.5327486681698205,-0.6533800134862539,0.0764425382060915,-0.643941435792015,-0.2141098500544299,-0.7735149700523511,-1.2707729444268498,-0.6346638369122225,-0.706595625023946,-0.4600552640580081,0.5987005730168498,-0.8812693204946422,0.08557057721947847,-0.2693494170964726,-0.4948884122549956,-0.2901587679587103,-1.0869497211708812,-0.6633422965347063,-0.5987896172984557,-0.25595971937175455,-0.5079078127315197,-0.07424898055081992,-0.1476932053558389,-0.11121642439328,-0.060003098556583805,0.3535894244260616,-0.22646159822051554,-0.5736367749795568,-0.34232436079968537,-0.055337801008402285,0.022089059422081538,-0.30125193935641403,0.21952294844224404,-0.11855981609158854,-0.491089026842346,-0.07317667277557731,-0.569379189175327,-0.9005792318879614,-0.5010367046087966,-0.18159992548926127,1.1733584190362945,-1.0131600525580358,0.021623103909545423,0.17604431921953007,-0.14189720561496805,-0.05364283049089447,-0.7138847861805351,-0.18201699781578715,-0.7868580365807025,-0.5691099627679715,-0.36250057789566154,0.010932173604615078,-0.13684568680240386,0.2678878455043736,0.12388509480481827,0.015523054446484852,0.2905357526923939,0.1476140636549178,-0.47453464306578697,-0.2676877761331975,0.1502749299672136,-0.24465446631985008,-0.13934073734023253,-0.2291299918047889,-0.21746084658005027,0.09278528908357193,-0.35470074799718154,-0.5294754830470273,-0.5354871551023255,-0.4560721914969276,1.1631123117034015,-0.6188099397319318,-0.0859224899588047,0.4485826263690747,-0.2093592608961684,0.3020484647855136,0.044284226858576047,-0.00023613091288591842,-0.25409521470569857,0.40707628264304996,-0.3089820648647836,-0.32936980177362585,-0.2605437324644235,0.28648471984291074,0.6427071290030147,0.24160462511935735,0.578133303613477,0.06851864631149564,0.24730023249787036,-0.4936221805082382,0.8098681512458432,-0.12327418442753704,-0.5903109462244143,-0.4159208330759647,-0.5065614915068107,-0.25369940305926475,0.5125163951724969,-0.5595965552156248,0.5704933149287408,-0.4047463146251165,1.1253931045297958,-0.08654120965756484,-0.1085692857144499,0.2697553576597559,-0.4490143311305365,0.5507037073338142,0.5924609501721072,-0.10097709684804919,0.04621704380942961,0.38207245625954245,-0.43072599045699395,-0.01501242998919684,0.4365500189721949,0.3887500749153194,0.21092487246303168,-0.174829871211241,0.1257553830379243,0.1533761681558545,0.2862415506974256,-0.4641744897217419,0.621828506902083,-0.6492223329390494,0.08761599790817524,-0.1156951436101038,-0.3311958887202576,-0.07045681780986902,0.08400033741457952,0.2522939218003748,-0.4902096152946609,0.4191508941609818,-0.3538019643126162,0.6030542253057224,0.16856929974699095,-0.35265640025165684,0.451200286808711,0.1217716447277938,0.23881539016924558,-0.5012896130911518,0.32200254804904566,0.2647965389828081,-0.32712847749294505,-0.1856649021467702,0.5809690729793954,0.5089169294588303,0.309738097370676,-0.6482852600330555,0.3545370777880186,0.06631160906497595,0.008231207519487433,-0.3012315762809438,0.2822003280834593,-0.24574758225285637,-0.06875753640883596,0.04959129803078784,-0.4944168281219548,-0.8085242025889561,0.21076726534982818,0.20454635011982342,0.005159405324311511,0.5937420404049888,-0.18930038118664505,0.7972684183718606,0.08076924852829787,-0.2516426651287377,0.3704436929032412,0.32183770378951565,0.5385906373398885,-0.4683715706444922,0.025323454339273434,0.31427442270748884,-0.4283946024218846,0.17666592015741112,-0.4579580759182442,0.5621125558732806,0.5848009651186059,-0.2167914851881259,0.17383405844394212,0.44197024416324177,-0.13522260795486607,-0.2527403432279658,0.3262080974194427,-0.12672800376079776,0.4509795990021441,-0.44504105729440957,-0.3683682605904949,-0.45380385874956397,-0.06601854112541053,0.4341708823256293,0.22767203355612195,0.24412839200683384,0.19792169236521306,0.46804952897881597,-0.09320737786433038,-0.4140611523694473,0.6566065917039569,-0.33679595107647264,-0.04480861215772942,-0.6206467658088056,0.13101712457526313,-0.044540887543278194,-1.1517325402131084,0.06727965149464099,-0.8059756683904055,0.017194331672107734,0.258833562261779,-0.8467526251833595,-0.03126107050337507,-0.09199736835506218,-0.3176119841621573,-0.03241714564488058,-0.01873876850456592,-0.4612068653653738,0.03778031804262574,-0.021180199456759443,-0.3470734062387681,-0.6287251732670469,-0.7221310393795591,-0.1912030824671852,0.10223553293076472,-0.14057087084326275,0.09001397155226644,0.06302934720667089,-0.1755506317562695,-0.5221151333037878,0.695932132284533,-0.5805045988274128,-0.20850558010575962,-0.6555788334037245,0.356143191907122,0.08492179754685361,-0.12012634098417879,-0.7393602429836224,-0.2818813969269056,-0.4481629991880411,0.38342868984134443,0.3365200044489852,-0.41476896491409915,0.3158340902296789,0.43351710528094733,-0.236573749923045,0.4239605411974264,0.26550161646895915,-0.29305787164829594,0.8011424500749269,-0.02657089140798497,-0.3077419671138084,-0.3852725563350019,0.3578322499532309,0.6101903704987,-0.24229784981789448,-0.15045631627841072,-0.39533886413914276,-0.031075912999580655,-0.21384478192559467,0.8131887230587403,-0.12360727751549283,-0.09983780495523302,-0.29048924522610087,0.43854771379538193,-0.3279096466665656,0.07768643165671951,0.12165583543731394,-0.20287713894091344,-0.16821145685426378,0.6889216617033884,0.11231572846638146,-0.254253194998207,0.6094402942705941,0.47835560689892026,0.07900733604661164,0.7891994011035306,0.31282226570835636,-0.003090700865048765,0.634975689074909,-0.4705854100960366,0.4129087089204042,-0.08652228510015712,0.12879841192340855,0.6024485952654495,-0.18457841083019919,-0.4556733321799959,0.3141279625965645,0.6649367491117155,-0.2544776777892577,1.0009778132469092,0.1716101350409681,-0.36966897416097305,0.31750108368887175,0.7721248274519018,0.2904913909959669,-0.016613886218981837,-0.15518283348369347,0.2150199687366244,0.4781473608883875,0.6341795707493815,-0.08190342083128248,-0.02335336743965081,1.2803277586291342,0.24765135413541337,0.09081874695072428,1.0095665886426095,-0.19267088270292576,0.15947218837975788,-0.2397683785808854,-0.006126420337916864,-0.4734906972874543,0.17451655805642058,-0.5297113137727004,0.20971059107964052,-0.20896766421665156,-0.8285374024648727,0.1701883949311641,0.6366904470183345,-0.19075668559985576,0.7318682751457463,0.3366818848371203,-0.24599163624005105,0.24626182118829087,0.6895869797684734,0.5030371533811517,-0.04617443377653618,0.6540183270708846,0.28506987222933705,0.7497235099072433,0.5363697782737605,0.10141789232162512,0.1773421933991762,1.6526945732746157,0.29279942622168725,0.3064606230921441,0.7428200681666022,-0.462988207886424,-0.12060092438472432,0.2962661084423792,-0.05506473918871137,0.1053830639062071,0.36861656136510984,0.059389965178551274,0.7015346644842146,0.3328107682840724,-0.3273272280960662,-0.14107183558578762,0.41824669203268616,0.432958232185911,1.0273651841348057,0.3355623235709874,-0.02326094886200672,0.5831799242542246,0.3556308103347917,0.9240205893751404,0.2782717148637151,0.75550447294548,0.34363334093715026,1.0608653067313332,0.4156963793828486,0.9217434566272499,0.42420723933703647,1.7294840410277599,1.1769473722878325,0.5910367707358909,1.0064576584865017,0.10886795048628495,0.2247848231586489,0.41074333880193004,0.5854393602811382,0.3991382433505116,0.6364605655122809,0.26056194816137235,0.32866841299188976,0.19216209124312328,0.1714946215540325,0.07368584615967583,0.5935664803601891,0.35082817594231175,0.9049875013960186,0.5188249566256253,0.5339782214113645,0.8020735990623618,0.4009854497985425,0.743143538926994,0.5862816288776901,0.7446672471249848,0.45745281947036354,1.11106613456318,0.6645810466875522,0.9370956674148697,0.6051509333941829,1.575443272830858,1.2506283103051752,0.7005886344813336,0.6419204467265499,0.5877270977407354,0.0045724768949978135,0.6322658575959255,0.6817191158005618,0.8211532878226134,1.2253032291026105,0.4362614440120942,0.5747938781793915,0.44188136986891335,1.0052846647533904,0.06410968143329698,0.6074949480555861,0.1567615709945905,0.6434214993903598,1.1862857641325026,0.7625882647879549,0.757306425361999,0.7527402418039257,1.3715013647071534,0.8287540211623945,0.8965340053675002,0.35686293833155824,0.2297277236307035,0.7778411721708769,1.149052976235552,0.5981744434646142,1.7971238253305473,1.0401441801605953,0.9818374238512398,0.9924678735803584,0.8864618586937997,0.5025536943173057,0.6299648787307601,1.7420886832790705,0.8462585839804643,1.1006860091728554,0.12687873681044237,0.9671402734447718,1.0163048570820366,1.2317531877430516,0.34926990801352614,1.094305181679143,1.074402844498982,1.2960749060902856,1.360339494793369,1.1801512042806739,1.030042949397955,0.5072740498903486,1.0918414047953242,0.8780526179947075,0.26293013532247383,0.41407789919794147,0.3661122648090186,1.4884931145055764,1.097729930315113,0.5203609833092238,0.40939461991735754,1.1196438891702725,1.1117528813477424,1.2317539041160597,1.1806694249434442,1.0275743082706634,1.2306458952116406,1.7643144128527315,0.7074367989519046,1.0891870698891988,0.24708863276954576,0.9562702097462981,0.7649218201826364,1.0972582908233117,1.109888008149031,1.0005098173674718,0.8618676444106486,1.2316501940800018,1.1765290033853892,1.0536866016706823,0.8723272891251873],\"xaxis\":\"x\",\"y\":[0.16438874693459504,-0.03736408526014416,-0.7033719925996718,0.3228525818971309,-0.05779554327828391,-0.04197666410564486,-0.10479124443076343,-0.24511913822712875,0.3906265703045947,-0.11116481214374267,-0.6261527662355341,0.7286651203463608,-1.0342517796130375,-0.7350022780338868,-0.3311511820621937,-0.7198431249450815,0.008163391498340986,-0.38775595737280455,-0.18006797782872536,-0.434843451499396,-0.734350067291219,-0.9858093442932496,-0.212561382602275,-0.8901695849083905,-0.21564050899888726,-0.3981728442963592,-0.9546773148009621,0.12806142078520671,-0.021373764842075413,0.22176418226123482,-0.052583206545647236,-0.7034185651640331,0.2320322233501388,-0.062343136851850306,-0.5188182700133012,-0.16803407817478372,-0.06458580550614852,0.41374753665318426,-0.3803815837906585,-0.4176712293404343,-0.09967449892060679,-0.7276567382200664,-0.49979370690771674,-0.547469639491501,-0.6080012699840586,0.18902159000979366,-0.5081130181121918,-0.31084932895513834,-0.7332465306391347,-0.5450001205497372,-0.8701763406370687,-0.6162294622091017,-1.0856219972606196,-0.3222060312388309,-0.6098456548757214,-1.036535566499424,0.04282717193249661,0.17876548929326733,0.09027949424349087,-0.25424763570578296,-0.5227484917093028,0.18270458227358508,-0.20390482130639065,-0.48510834160956223,0.1754041102235559,-0.599400259599975,0.14932237699321294,0.17362443602787947,-0.4123015001457687,-0.3194176593988489,-0.8317318507698329,0.16794095236448586,-0.3208626300030135,-0.3071764431851798,-0.6758906731499034,-0.7064653854317079,0.01916878332362709,-0.2550472720615109,-0.5195016864511451,-0.16528298733080124,-0.6459763689212223,-0.8359396293298281,-0.8345010768236031,-0.577375884206032,-0.3776776346940131,-0.733338472768082,-0.29194434255774004,-0.12171248663377801,-0.06848176693166232,0.054132173861685805,0.3634803120147571,-0.7483962743341827,0.29115588567660244,-0.6395308414101137,-0.1860865563522064,-0.39982383792483384,-0.6732219818475392,0.008239538663287072,-0.5683101881032707,-0.08303447517623161,0.1718508416348315,-0.31399938617796197,-0.669393598764253,-0.7727796348866577,-0.5734953660109572,-0.09051801722461385,-0.12955861165550522,-0.5017289622098996,-0.3155564924564635,-0.6246557660782369,-0.7874304283388707,-0.8031219948854285,-0.3402525469560849,0.20628836507845139,-0.9993540237828505,-0.32905999432250577,0.053517118723402,-0.11491615189050447,0.18473877024847785,-0.2708634797517896,-0.5653074588923918,-0.41236820971251237,-0.9526807777796436,-0.22571896193757277,-0.47688586750980455,-0.8649988846303402,-0.025680404287558172,-0.7799206972672824,-0.6254479454651688,-0.2779625942196462,-0.4446217392786785,-0.939072935039471,-0.7109244002142432,-0.2670502540600019,-0.24233291450862243,0.37211627355634,-0.21192231611664297,0.11128702934084625,-0.3823480847108631,-0.7963837663356689,-0.9567896916666029,-0.1758235106825376,-0.08556966480917538,-0.467064898228466,0.19483340687794173,0.4970048594018521,-0.41857703350691733,0.09267598267230999,-0.34416071632351514,-0.5320321341946744,-0.6732242400514517,-0.6475305750910603,-0.8622211134117457,0.026384112861002132,-0.648959087053035,-0.3505576085539508,-0.5777631820208383,0.017353749502987764,-0.5296104667785076,-0.9535394271533022,-0.13703575075972332,-0.5787891385698111,-0.31819884555361344,0.24137003474480145,-0.0631357318405405,-0.14564501008858644,-0.1536866080120952,-0.6601083481950578,-0.12013016431732461,-0.5134774478338506,-0.9815544929671681,-0.38752612710936457,-0.015239600908226706,-0.21729890789874762,-0.1624979812781677,0.36787550710000294,0.1410426913574903,0.4474415822766901,0.076805576107073,-0.1178205777869774,-0.5036870352670625,-0.08798465098459986,-0.7906273222490381,0.3512633522549798,0.11849157873601437,-0.11093599148928633,-0.22799055125052872,-0.11996655427467709,-0.2484323351642425,-0.31372274751002033,0.11619311052708184,0.010574914907855351,-0.21873879463284926,0.2208029825497633,0.4999869192235657,0.0051551702124446605,0.1454367906633955,-0.2662728974738521,0.6593826007404207,-0.08979264433748702,-0.6017657198214937,0.3289429780935217,0.4666361145721789,-0.08498537070496029,0.048625438484912624,0.31088478221005694,0.366064607473096,0.2627744181404049,-0.3242186888546831,-0.22861722574787213,-0.5738350608797436,-0.04863329448917782,-0.4761425849803377,0.24507974500877527,-0.24796300795119697,0.2227774196312821,-0.18052584610156974,0.09756639335987022,0.5000060804203318,-0.013336519303236542,0.4803438648818997,0.16457629526889897,0.010581982510170182,0.22024015076114734,0.2996749017291758,-0.10922329486767703,0.09761886070940158,-0.4463643062123151,0.3358066101215837,0.3274345599792293,-0.6655676498044603,0.28031126294078856,-0.05365513335655024,-0.3985604044735707,0.2161810668188819,-0.004636664582188051,-0.8198055611175341,0.3405267687134655,0.24473493010353578,0.0407950225679488,-0.33326680901364575,-0.17205454101558515,-0.7287190100568196,0.23856317922108958,-0.32853322789505796,0.34398130662562393,0.46293857051689047,-0.45579759968056566,0.7599435519332037,0.633197640002464,0.49025167780682505,0.6488249172167377,0.1927501064928578,-0.33630262173551645,0.6946737944281172,-0.17941655160529013,-0.059296842250366674,-0.4071975129443693,-0.007423214280142334,0.34331836810232563,-0.336191323585834,0.7058242282584872,-0.23229480790285106,-0.6575727138972944,0.08283545151053896,-0.10217574582108045,-0.6742167010237977,0.02913224647619642,0.08104332952103818,-0.660690192668319,-0.1425201123952474,-0.2759079183996868,-0.05147371824997474,0.48205643444867274,-0.21844718057599782,0.32805264048278193,0.6734333510024171,-0.4912948507641982,0.5110048187101269,0.012018509579488895,0.17335550381947012,0.5273389057070397,0.2761915641815868,-0.15499812831610604,0.6046408582416211,0.46990927349971995,-0.3279745012444845,-0.0517283419864266,-0.11446512577469647,-0.45604697073465755,0.8074508246048266,-0.2533048845384886,0.17608597466340928,-0.31474340200762474,0.5996381559172593,-0.3297202630951309,-0.3779356407430918,-0.12906162820593303,0.1309181244025088,-0.5753848462697247,-0.2963235840964728,-0.17328679760090737,0.42412281635092053,0.5898880925641375,0.27656602442314515,0.4739425658876658,0.383949952344686,-0.23720470011957762,0.25831128430413436,-0.13021855313308983,0.09783756040990668,0.895840533087977,0.7876366515665822,0.2598149249096119,0.5225623249400598,-0.22982900667494024,-0.3814282453795811,0.2733632866903411,-0.2552274585680178,-0.2927291407453608,0.510073321950358,-0.28721379286605914,0.1411755133647789,-0.5632437724810362,0.48392113067501397,-0.019956443767189913,-0.5896751757556034,0.2217475277515681,-0.5985224457632373,0.7511482060929435,-0.4059025568689818,-0.15667897660713026,0.2402969947161073,0.29219273492196096,-0.02630738721236667,0.3012345918459384,0.2232996301461013,-0.4334396099468186,-0.11301563467131137,-0.5610455657252843,0.18366022947770672,0.7306063771378777,0.46428648251045246,-0.12508250070584104,0.15254500384099642,-0.28832890523489446,-0.2578141725602814,-0.09329279222353537,0.17493805984380656,-0.1787396588085593,0.5638824937856529,-0.3717700925655865,0.4967872746301073,-0.017209305654396413,0.6347762551744873,-0.2652006107494603,-0.38926994954157434,0.9845984325347203,-0.7642654628564252,0.6176938648339534,-0.024260832346196318,-0.1786402514324669,0.386156714655809,0.30374436516944225,0.07948784445386527,-0.16982739516479395,-0.19245231630311624,-0.2627099054115892,-0.1734430481581404,-0.48881440423124134,-0.001295706546345663,0.37494894571188614,0.5154917867307703,0.15043154619218946,-0.047440287016098516,-0.37866022945404443,0.010911743844405136,-0.3417078515398668,0.020074081792011735,0.15858689674258514,0.671282318772411,-0.4654449320400918,0.1766300427134257,-0.11450183634302716,0.4500746447552367,-0.026806582063031232,0.0002795493883506688,-0.11561047868378664,0.7629709332905457,-0.16148230804525648,0.5719874273008505,0.08198451977300708,-0.3301850539559217,0.33989379776120476,0.03295453995004165,0.021311043375919263,-0.2534233249992725,-0.551936507342253,0.008575986033628892,-0.3864679434666252,-0.6879807420368942,0.17452574640501245,0.22882856929889137,0.3140042109966833,-0.0678825003006437,-0.688513191557833,0.5674727258874418,0.23189479757436812,0.5013970719173264,0.3408886219794233,0.5731854202764861,-0.4457752706975113,0.1800697383251443,-0.06790943243151383,0.24370825494375384,0.11197422974566883,0.49162795881349375,0.12733788062575468,0.05775312841594206,-0.22516607144716516,0.4060407594217343,-0.12043444084957113,0.37871883628181324,0.4450112500247872,-0.14541287737079153,-0.12828624560875462,-0.2650188798520028,-0.4408938308181611,0.5961286466720989,-0.2036318203458569,-0.37604486276241933,0.6513837831952247,0.054469041512761204,0.22502521879150755,0.21253197541931768,-0.3766889538272967,0.5522988293471014,1.042542104299521,0.12374609142344761,-0.14012257244759443,0.4806765390265571,-0.4890160278918398,-0.08304421280341326,0.5980571569443568,-0.01116587160826492,-0.39018235480665314,0.19782611963883875,0.3367342807901713,0.4118340243336223,-0.13399363741807616,-0.14776597668924524,0.0199270259988092,0.5616862573653058,0.2977750199562849,-0.6456045071240485,0.014638236102997151,0.154969635748126,-0.4027199734175574,0.6523338410484295,-0.21694542190053437,0.20792531725788002,-0.03357809392005087,0.6833706992695261,-0.039888875714194166,0.7048797394293252,0.1121699139816598,0.6134123908827921,0.8506662798802094,0.3757350994966656,-0.05601003826039655,0.4167789517011253,-0.37868469778209046,0.01537514343206866,-0.0036619250499033964,-0.1312234089471398,-0.09719916753614156,0.0616493898509747,0.6310171706507665,0.11822643452375574,0.248647955715026,-0.18376534268710862,0.28730207160068144,0.42512519178097524,0.32881309798094804,-0.6419769053514827,0.24982648498157753,0.11490397649920771,-0.16108907884878546,1.0542542690056667,0.2800643723727233,-0.09472040633635202,0.2662176603266137,0.23728965004177932,0.5408222700309359,0.3305189986010246,-0.3450729969472156,0.3079992338641933,1.0264745188484794,0.8332395093719552,0.2684438846631056,0.3629794754076672,-0.7865836846199931,-0.11436401813530897,0.06538713226675567,0.22753128772234255,0.20890137414633,0.03995209037063801,0.9125672175671312,0.24535321811866811,0.10766019844571052,0.13141381041904324,0.4796317251539554,0.18804913735427067,0.3733937620494559,-0.7666158874367974,0.022870016430547743,0.18207834640262874,-0.09182571175382931,0.8253730323523372,0.14429333187570356,0.21141836063941458,0.04029904700744898,0.16569278368315188,0.40677961470272633,0.4679879509704713,0.24099261353041476,0.6838507127771866,0.6129850051014436,0.7987069120720296,0.3689576582786257,0.4291501300122063,-0.4735235439345123,0.038107312928786004,-0.16206032425207614,0.07321176676410271,0.708036798521866,0.009526352141704124,0.6742429569816353,0.3558550262517729,0.8075614946368009,0.23285153726443972,0.6339134441272734,0.10354143600985818,0.3275027214405294,-0.4428785155288354,-0.10598930903649564,0.1581647106733687,0.3216450049582949,0.465838822924741,0.6748324113746822,0.2281739254588314,0.14023015385532714,0.028436235988597718,0.09335714540952418,0.4595301585706242,0.11862002731397896,0.627295662545648,-0.1598530898753626,1.038255733249273,0.22472630302859442,0.7182636481367227,-0.06573693313507342,-0.20315709577621285,-0.04672308501342404,0.10805989277504655,0.8409341204239128,0.0034155914673282424,0.4850155507472715,0.5144617982609736,0.9342425470368637,1.0886863580661237,0.5202929558460372,-0.07947380736686475,0.45881146967571923,-0.26707136015007826,0.26468735292768036,-0.0598919936575623,0.28293792477548135,0.48260331630011144,0.38025278089750597,0.2967909908005973,-0.13816170073749723,0.42966182295719124,0.43888369984947173,1.0912388499790093,0.29804894623019196,0.21144616093624838,-0.023928990367649262,0.9326140044378696,0.10185008066726395,0.4910008629252065,0.09511689219227785,-0.0780300732745698,-0.09849299227839504,0.5421991187681747,0.9868491847131429,0.005525236286313989,0.47378185575276516,0.7010553177580967,0.6830868049702349,0.9093346380232687,0.14874114422095405,-0.00649078902925701,0.5626082065097626,0.7858842274924751,0.4900320495412514,0.055545285461150964,0.0010834779628511866,-0.1906011368385495,0.34756163666960344,-0.0112713670472709,-0.17490616401927636,0.8109998707361092,0.47836824876221135,0.7301683355479793,0.1862539555700646,0.338249071655244,0.004861191522358777,0.2687968592092062,0.613114863106407,0.525134752839055,0.3302662229912365,-0.059202467782705416,0.21301533254340402,0.7211840900264329],\"yaxis\":\"y\"},{\"customdata\":[[0.6408470869064331]],\"hovertemplate\":\"IS_REAL=False<br>PC1=%{x}<br>PC2=%{y}<br>WIN%=%{customdata[0]}<extra></extra>\",\"legendgroup\":\"False\",\"marker\":{\"color\":\"#EF553B\",\"symbol\":\"circle\"},\"mode\":\"markers\",\"name\":\"False\",\"orientation\":\"v\",\"showlegend\":true,\"type\":\"scatter\",\"x\":[0.7433214453880821],\"xaxis\":\"x\",\"y\":[-0.28181708418492674],\"yaxis\":\"y\"}],                        {\"legend\":{\"title\":{\"text\":\"IS_REAL\"},\"tracegroupgap\":0},\"margin\":{\"t\":60},\"template\":{\"data\":{\"bar\":[{\"error_x\":{\"color\":\"#2a3f5f\"},\"error_y\":{\"color\":\"#2a3f5f\"},\"marker\":{\"line\":{\"color\":\"#E5ECF6\",\"width\":0.5},\"pattern\":{\"fillmode\":\"overlay\",\"size\":10,\"solidity\":0.2}},\"type\":\"bar\"}],\"barpolar\":[{\"marker\":{\"line\":{\"color\":\"#E5ECF6\",\"width\":0.5},\"pattern\":{\"fillmode\":\"overlay\",\"size\":10,\"solidity\":0.2}},\"type\":\"barpolar\"}],\"carpet\":[{\"aaxis\":{\"endlinecolor\":\"#2a3f5f\",\"gridcolor\":\"white\",\"linecolor\":\"white\",\"minorgridcolor\":\"white\",\"startlinecolor\":\"#2a3f5f\"},\"baxis\":{\"endlinecolor\":\"#2a3f5f\",\"gridcolor\":\"white\",\"linecolor\":\"white\",\"minorgridcolor\":\"white\",\"startlinecolor\":\"#2a3f5f\"},\"type\":\"carpet\"}],\"choropleth\":[{\"colorbar\":{\"outlinewidth\":0,\"ticks\":\"\"},\"type\":\"choropleth\"}],\"contour\":[{\"colorbar\":{\"outlinewidth\":0,\"ticks\":\"\"},\"colorscale\":[[0.0,\"#0d0887\"],[0.1111111111111111,\"#46039f\"],[0.2222222222222222,\"#7201a8\"],[0.3333333333333333,\"#9c179e\"],[0.4444444444444444,\"#bd3786\"],[0.5555555555555556,\"#d8576b\"],[0.6666666666666666,\"#ed7953\"],[0.7777777777777778,\"#fb9f3a\"],[0.8888888888888888,\"#fdca26\"],[1.0,\"#f0f921\"]],\"type\":\"contour\"}],\"contourcarpet\":[{\"colorbar\":{\"outlinewidth\":0,\"ticks\":\"\"},\"type\":\"contourcarpet\"}],\"heatmap\":[{\"colorbar\":{\"outlinewidth\":0,\"ticks\":\"\"},\"colorscale\":[[0.0,\"#0d0887\"],[0.1111111111111111,\"#46039f\"],[0.2222222222222222,\"#7201a8\"],[0.3333333333333333,\"#9c179e\"],[0.4444444444444444,\"#bd3786\"],[0.5555555555555556,\"#d8576b\"],[0.6666666666666666,\"#ed7953\"],[0.7777777777777778,\"#fb9f3a\"],[0.8888888888888888,\"#fdca26\"],[1.0,\"#f0f921\"]],\"type\":\"heatmap\"}],\"heatmapgl\":[{\"colorbar\":{\"outlinewidth\":0,\"ticks\":\"\"},\"colorscale\":[[0.0,\"#0d0887\"],[0.1111111111111111,\"#46039f\"],[0.2222222222222222,\"#7201a8\"],[0.3333333333333333,\"#9c179e\"],[0.4444444444444444,\"#bd3786\"],[0.5555555555555556,\"#d8576b\"],[0.6666666666666666,\"#ed7953\"],[0.7777777777777778,\"#fb9f3a\"],[0.8888888888888888,\"#fdca26\"],[1.0,\"#f0f921\"]],\"type\":\"heatmapgl\"}],\"histogram\":[{\"marker\":{\"pattern\":{\"fillmode\":\"overlay\",\"size\":10,\"solidity\":0.2}},\"type\":\"histogram\"}],\"histogram2d\":[{\"colorbar\":{\"outlinewidth\":0,\"ticks\":\"\"},\"colorscale\":[[0.0,\"#0d0887\"],[0.1111111111111111,\"#46039f\"],[0.2222222222222222,\"#7201a8\"],[0.3333333333333333,\"#9c179e\"],[0.4444444444444444,\"#bd3786\"],[0.5555555555555556,\"#d8576b\"],[0.6666666666666666,\"#ed7953\"],[0.7777777777777778,\"#fb9f3a\"],[0.8888888888888888,\"#fdca26\"],[1.0,\"#f0f921\"]],\"type\":\"histogram2d\"}],\"histogram2dcontour\":[{\"colorbar\":{\"outlinewidth\":0,\"ticks\":\"\"},\"colorscale\":[[0.0,\"#0d0887\"],[0.1111111111111111,\"#46039f\"],[0.2222222222222222,\"#7201a8\"],[0.3333333333333333,\"#9c179e\"],[0.4444444444444444,\"#bd3786\"],[0.5555555555555556,\"#d8576b\"],[0.6666666666666666,\"#ed7953\"],[0.7777777777777778,\"#fb9f3a\"],[0.8888888888888888,\"#fdca26\"],[1.0,\"#f0f921\"]],\"type\":\"histogram2dcontour\"}],\"mesh3d\":[{\"colorbar\":{\"outlinewidth\":0,\"ticks\":\"\"},\"type\":\"mesh3d\"}],\"parcoords\":[{\"line\":{\"colorbar\":{\"outlinewidth\":0,\"ticks\":\"\"}},\"type\":\"parcoords\"}],\"pie\":[{\"automargin\":true,\"type\":\"pie\"}],\"scatter\":[{\"marker\":{\"colorbar\":{\"outlinewidth\":0,\"ticks\":\"\"}},\"type\":\"scatter\"}],\"scatter3d\":[{\"line\":{\"colorbar\":{\"outlinewidth\":0,\"ticks\":\"\"}},\"marker\":{\"colorbar\":{\"outlinewidth\":0,\"ticks\":\"\"}},\"type\":\"scatter3d\"}],\"scattercarpet\":[{\"marker\":{\"colorbar\":{\"outlinewidth\":0,\"ticks\":\"\"}},\"type\":\"scattercarpet\"}],\"scattergeo\":[{\"marker\":{\"colorbar\":{\"outlinewidth\":0,\"ticks\":\"\"}},\"type\":\"scattergeo\"}],\"scattergl\":[{\"marker\":{\"colorbar\":{\"outlinewidth\":0,\"ticks\":\"\"}},\"type\":\"scattergl\"}],\"scattermapbox\":[{\"marker\":{\"colorbar\":{\"outlinewidth\":0,\"ticks\":\"\"}},\"type\":\"scattermapbox\"}],\"scatterpolar\":[{\"marker\":{\"colorbar\":{\"outlinewidth\":0,\"ticks\":\"\"}},\"type\":\"scatterpolar\"}],\"scatterpolargl\":[{\"marker\":{\"colorbar\":{\"outlinewidth\":0,\"ticks\":\"\"}},\"type\":\"scatterpolargl\"}],\"scatterternary\":[{\"marker\":{\"colorbar\":{\"outlinewidth\":0,\"ticks\":\"\"}},\"type\":\"scatterternary\"}],\"surface\":[{\"colorbar\":{\"outlinewidth\":0,\"ticks\":\"\"},\"colorscale\":[[0.0,\"#0d0887\"],[0.1111111111111111,\"#46039f\"],[0.2222222222222222,\"#7201a8\"],[0.3333333333333333,\"#9c179e\"],[0.4444444444444444,\"#bd3786\"],[0.5555555555555556,\"#d8576b\"],[0.6666666666666666,\"#ed7953\"],[0.7777777777777778,\"#fb9f3a\"],[0.8888888888888888,\"#fdca26\"],[1.0,\"#f0f921\"]],\"type\":\"surface\"}],\"table\":[{\"cells\":{\"fill\":{\"color\":\"#EBF0F8\"},\"line\":{\"color\":\"white\"}},\"header\":{\"fill\":{\"color\":\"#C8D4E3\"},\"line\":{\"color\":\"white\"}},\"type\":\"table\"}]},\"layout\":{\"annotationdefaults\":{\"arrowcolor\":\"#2a3f5f\",\"arrowhead\":0,\"arrowwidth\":1},\"autotypenumbers\":\"strict\",\"coloraxis\":{\"colorbar\":{\"outlinewidth\":0,\"ticks\":\"\"}},\"colorscale\":{\"diverging\":[[0,\"#8e0152\"],[0.1,\"#c51b7d\"],[0.2,\"#de77ae\"],[0.3,\"#f1b6da\"],[0.4,\"#fde0ef\"],[0.5,\"#f7f7f7\"],[0.6,\"#e6f5d0\"],[0.7,\"#b8e186\"],[0.8,\"#7fbc41\"],[0.9,\"#4d9221\"],[1,\"#276419\"]],\"sequential\":[[0.0,\"#0d0887\"],[0.1111111111111111,\"#46039f\"],[0.2222222222222222,\"#7201a8\"],[0.3333333333333333,\"#9c179e\"],[0.4444444444444444,\"#bd3786\"],[0.5555555555555556,\"#d8576b\"],[0.6666666666666666,\"#ed7953\"],[0.7777777777777778,\"#fb9f3a\"],[0.8888888888888888,\"#fdca26\"],[1.0,\"#f0f921\"]],\"sequentialminus\":[[0.0,\"#0d0887\"],[0.1111111111111111,\"#46039f\"],[0.2222222222222222,\"#7201a8\"],[0.3333333333333333,\"#9c179e\"],[0.4444444444444444,\"#bd3786\"],[0.5555555555555556,\"#d8576b\"],[0.6666666666666666,\"#ed7953\"],[0.7777777777777778,\"#fb9f3a\"],[0.8888888888888888,\"#fdca26\"],[1.0,\"#f0f921\"]]},\"colorway\":[\"#636efa\",\"#EF553B\",\"#00cc96\",\"#ab63fa\",\"#FFA15A\",\"#19d3f3\",\"#FF6692\",\"#B6E880\",\"#FF97FF\",\"#FECB52\"],\"font\":{\"color\":\"#2a3f5f\"},\"geo\":{\"bgcolor\":\"white\",\"lakecolor\":\"white\",\"landcolor\":\"#E5ECF6\",\"showlakes\":true,\"showland\":true,\"subunitcolor\":\"white\"},\"hoverlabel\":{\"align\":\"left\"},\"hovermode\":\"closest\",\"mapbox\":{\"style\":\"light\"},\"paper_bgcolor\":\"white\",\"plot_bgcolor\":\"#E5ECF6\",\"polar\":{\"angularaxis\":{\"gridcolor\":\"white\",\"linecolor\":\"white\",\"ticks\":\"\"},\"bgcolor\":\"#E5ECF6\",\"radialaxis\":{\"gridcolor\":\"white\",\"linecolor\":\"white\",\"ticks\":\"\"}},\"scene\":{\"xaxis\":{\"backgroundcolor\":\"#E5ECF6\",\"gridcolor\":\"white\",\"gridwidth\":2,\"linecolor\":\"white\",\"showbackground\":true,\"ticks\":\"\",\"zerolinecolor\":\"white\"},\"yaxis\":{\"backgroundcolor\":\"#E5ECF6\",\"gridcolor\":\"white\",\"gridwidth\":2,\"linecolor\":\"white\",\"showbackground\":true,\"ticks\":\"\",\"zerolinecolor\":\"white\"},\"zaxis\":{\"backgroundcolor\":\"#E5ECF6\",\"gridcolor\":\"white\",\"gridwidth\":2,\"linecolor\":\"white\",\"showbackground\":true,\"ticks\":\"\",\"zerolinecolor\":\"white\"}},\"shapedefaults\":{\"line\":{\"color\":\"#2a3f5f\"}},\"ternary\":{\"aaxis\":{\"gridcolor\":\"white\",\"linecolor\":\"white\",\"ticks\":\"\"},\"baxis\":{\"gridcolor\":\"white\",\"linecolor\":\"white\",\"ticks\":\"\"},\"bgcolor\":\"#E5ECF6\",\"caxis\":{\"gridcolor\":\"white\",\"linecolor\":\"white\",\"ticks\":\"\"}},\"title\":{\"x\":0.05},\"xaxis\":{\"automargin\":true,\"gridcolor\":\"white\",\"linecolor\":\"white\",\"ticks\":\"\",\"title\":{\"standoff\":15},\"zerolinecolor\":\"white\",\"zerolinewidth\":2},\"yaxis\":{\"automargin\":true,\"gridcolor\":\"white\",\"linecolor\":\"white\",\"ticks\":\"\",\"title\":{\"standoff\":15},\"zerolinecolor\":\"white\",\"zerolinewidth\":2}}},\"xaxis\":{\"anchor\":\"y\",\"domain\":[0.0,1.0],\"title\":{\"text\":\"PC1\"}},\"yaxis\":{\"anchor\":\"x\",\"domain\":[0.0,1.0],\"title\":{\"text\":\"PC2\"}}},                        {\"responsive\": true}                    ).then(function(){\n",
       "                            \n",
       "var gd = document.getElementById('c166ec82-8971-4072-920d-06cbe6f921c0');\n",
       "var x = new MutationObserver(function (mutations, observer) {{\n",
       "        var display = window.getComputedStyle(gd).display;\n",
       "        if (!display || display === 'none') {{\n",
       "            console.log([gd, 'removed!']);\n",
       "            Plotly.purge(gd);\n",
       "            observer.disconnect();\n",
       "        }}\n",
       "}});\n",
       "\n",
       "// Listen for the removal of the full notebook cells\n",
       "var notebookContainer = gd.closest('#notebook-container');\n",
       "if (notebookContainer) {{\n",
       "    x.observe(notebookContainer, {childList: true});\n",
       "}}\n",
       "\n",
       "// Listen for the clearing of the current output cell\n",
       "var outputEl = gd.closest('.output');\n",
       "if (outputEl) {{\n",
       "    x.observe(outputEl, {childList: true});\n",
       "}}\n",
       "\n",
       "                        })                };                });            </script>        </div>"
      ]
     },
     "metadata": {},
     "output_type": "display_data"
    },
    {
     "data": {
      "application/vnd.plotly.v1+json": {
       "config": {
        "plotlyServerURL": "https://plot.ly"
       },
       "data": [
        {
         "customdata": [
          [
           0.341
          ],
          [
           0.427
          ],
          [
           0.207
          ],
          [
           0.39
          ],
          [
           0.427
          ],
          [
           0.232
          ],
          [
           0.415
          ],
          [
           0.183
          ],
          [
           0.378
          ],
          [
           0.5
          ],
          [
           0.268
          ],
          [
           0.354
          ],
          [
           0.305
          ],
          [
           0.439
          ],
          [
           0.183
          ],
          [
           0.366
          ],
          [
           0.39
          ],
          [
           0.207
          ],
          [
           0.378
          ],
          [
           0.317
          ],
          [
           0.28
          ],
          [
           0.232
          ],
          [
           0.402
          ],
          [
           0.256
          ],
          [
           0.354
          ],
          [
           0.329
          ],
          [
           0.256
          ],
          [
           0.341
          ],
          [
           0.28
          ],
          [
           0.439
          ],
          [
           0.366
          ],
          [
           0.439
          ],
          [
           0.427
          ],
          [
           0.366
          ],
          [
           0.207
          ],
          [
           0.207
          ],
          [
           0.463
          ],
          [
           0.329
          ],
          [
           0.341
          ],
          [
           0.305
          ],
          [
           0.293
          ],
          [
           0.451
          ],
          [
           0.341
          ],
          [
           0.439
          ],
          [
           0.28
          ],
          [
           0.427
          ],
          [
           0.451
          ],
          [
           0.341
          ],
          [
           0.5
          ],
          [
           0.476
          ],
          [
           0.256
          ],
          [
           0.402
          ],
          [
           0.354
          ],
          [
           0.402
          ],
          [
           0.512
          ],
          [
           0.305
          ],
          [
           0.159
          ],
          [
           0.22
          ],
          [
           0.415
          ],
          [
           0.415
          ],
          [
           0.366
          ],
          [
           0.22
          ],
          [
           0.402
          ],
          [
           0.439
          ],
          [
           0.329
          ],
          [
           0.317
          ]
         ],
         "hovertemplate": "Clusters=5<br>IS_REAL=True<br>PC1=%{x}<br>PC2=%{y}<br>WIN%=%{customdata[0]}<extra></extra>",
         "legendgroup": "5, True",
         "marker": {
          "color": "#636efa",
          "symbol": "circle"
         },
         "mode": "markers",
         "name": "5, True",
         "orientation": "v",
         "showlegend": true,
         "type": "scatter",
         "x": [
          -0.9730691774249959,
          -0.6424663453970718,
          -1.7118211936059802,
          -0.7569446729272279,
          -0.504743061597678,
          -1.1090031701687153,
          -0.4719061574944315,
          -1.1615385658366888,
          -0.6203961814215105,
          -0.7027296347215153,
          -1.014332837979797,
          -0.7928618953921758,
          -1.1580004616950133,
          -0.7653598436647226,
          -1.2937271149688427,
          -1.1295212557642997,
          -0.9052610371326095,
          -1.333079348555254,
          -0.9568575317863613,
          -1.1378331695599186,
          -0.8861808558205175,
          -1.2206487087774662,
          -0.82399389349964,
          -1.1001002035043597,
          -0.5931457637391443,
          -1.0394668613494455,
          -1.134951478018693,
          -0.9716052633368489,
          -1.1195890775085438,
          -0.9225000887650863,
          -0.7696855271782737,
          -0.6360762144833142,
          -0.7977358190920135,
          -0.8795766152427975,
          -1.336034382076462,
          -1.7795174395989348,
          -0.6614092228547527,
          -0.9825809902602669,
          -0.5099506428469095,
          -1.290095179282529,
          -1.082794745123984,
          -0.8606174679877546,
          -0.9684625141396893,
          -0.6882584203811407,
          -1.1317819010451378,
          -0.8884335461641546,
          -0.7371936887087774,
          -1.1327538222458235,
          -0.8640915566712936,
          -0.7343679597169106,
          -1.0001216586688668,
          -1.174081937001531,
          -0.856627578072798,
          -1.0583198896308312,
          -1.3624498751701803,
          -1.3173535670188248,
          -1.2472114126938596,
          -0.9693302144559323,
          -0.4617876153431507,
          -0.5327486681698205,
          -0.643941435792015,
          -1.2707729444268498,
          -0.6346638369122225,
          -0.706595625023946,
          -0.8812693204946422,
          -1.0869497211708812
         ],
         "xaxis": "x",
         "y": [
          0.16438874693459504,
          -0.03736408526014416,
          0.3228525818971309,
          -0.05779554327828391,
          -0.10479124443076343,
          0.3906265703045947,
          -0.11116481214374267,
          0.7286651203463608,
          0.008163391498340986,
          -0.18006797782872536,
          0.12806142078520671,
          -0.021373764842075413,
          0.22176418226123482,
          -0.052583206545647236,
          0.2320322233501388,
          -0.062343136851850306,
          -0.06458580550614852,
          0.41374753665318426,
          -0.09967449892060679,
          0.18902159000979366,
          0.04282717193249661,
          0.17876548929326733,
          0.09027949424349087,
          0.18270458227358508,
          -0.20390482130639065,
          0.1754041102235559,
          0.14932237699321294,
          0.17362443602787947,
          0.16794095236448586,
          -0.3208626300030135,
          0.01916878332362709,
          -0.16528298733080124,
          -0.12171248663377801,
          0.054132173861685805,
          0.3634803120147571,
          0.29115588567660244,
          -0.1860865563522064,
          0.008239538663287072,
          -0.08303447517623161,
          0.1718508416348315,
          0.20628836507845139,
          -0.32905999432250577,
          0.053517118723402,
          -0.11491615189050447,
          0.18473877024847785,
          -0.2708634797517896,
          -0.22571896193757277,
          -0.025680404287558172,
          -0.2670502540600019,
          -0.24233291450862243,
          0.37211627355634,
          -0.21192231611664297,
          0.11128702934084625,
          -0.08556966480917538,
          -0.467064898228466,
          0.19483340687794173,
          0.4970048594018521,
          0.09267598267230999,
          0.026384112861002132,
          0.017353749502987764,
          -0.13703575075972332,
          0.24137003474480145,
          -0.0631357318405405,
          -0.14564501008858644,
          -0.12013016431732461,
          -0.21729890789874762
         ],
         "yaxis": "y"
        },
        {
         "customdata": [
          [
           0.598
          ],
          [
           0.488
          ],
          [
           0.512
          ],
          [
           0.683
          ],
          [
           0.817
          ],
          [
           0.634
          ],
          [
           0.512
          ],
          [
           0.61
          ],
          [
           0.61
          ],
          [
           0.598
          ],
          [
           0.646
          ],
          [
           0.72
          ],
          [
           0.537
          ],
          [
           0.646
          ],
          [
           0.549
          ],
          [
           0.549
          ],
          [
           0.671
          ],
          [
           0.561
          ],
          [
           0.646
          ],
          [
           0.488
          ],
          [
           0.549
          ],
          [
           0.5
          ],
          [
           0.683
          ],
          [
           0.61
          ],
          [
           0.634
          ],
          [
           0.573
          ],
          [
           0.585
          ],
          [
           0.524
          ],
          [
           0.683
          ],
          [
           0.622
          ],
          [
           0.61
          ],
          [
           0.671
          ],
          [
           0.707
          ],
          [
           0.537
          ],
          [
           0.573
          ],
          [
           0.646
          ],
          [
           0.598
          ],
          [
           0.537
          ],
          [
           0.695
          ],
          [
           0.61
          ],
          [
           0.512
          ],
          [
           0.476
          ],
          [
           0.707
          ],
          [
           0.5
          ],
          [
           0.61
          ],
          [
           0.634
          ],
          [
           0.537
          ],
          [
           0.524
          ],
          [
           0.598
          ],
          [
           0.744
          ],
          [
           0.707
          ],
          [
           0.549
          ],
          [
           0.512
          ],
          [
           0.537
          ],
          [
           0.451
          ],
          [
           0.537
          ],
          [
           0.732
          ],
          [
           0.61
          ],
          [
           0.524
          ],
          [
           0.585
          ],
          [
           0.61
          ],
          [
           0.512
          ],
          [
           0.622
          ],
          [
           0.598
          ],
          [
           0.573
          ],
          [
           0.451
          ],
          [
           0.512
          ],
          [
           0.585
          ],
          [
           0.537
          ],
          [
           0.61
          ],
          [
           0.72
          ],
          [
           0.732
          ],
          [
           0.488
          ],
          [
           0.573
          ],
          [
           0.634
          ],
          [
           0.524
          ],
          [
           0.659
          ],
          [
           0.549
          ],
          [
           0.744
          ],
          [
           0.683
          ],
          [
           0.61
          ],
          [
           0.512
          ],
          [
           0.5
          ],
          [
           0.707
          ],
          [
           0.573
          ],
          [
           0.5
          ],
          [
           0.671
          ],
          [
           0.695
          ],
          [
           0.451
          ],
          [
           0.549
          ],
          [
           0.573
          ],
          [
           0.512
          ],
          [
           0.707
          ],
          [
           0.598
          ],
          [
           0.659
          ],
          [
           0.622
          ],
          [
           0.537
          ],
          [
           0.451
          ],
          [
           0.549
          ],
          [
           0.537
          ],
          [
           0.512
          ],
          [
           0.524
          ],
          [
           0.61
          ],
          [
           0.72
          ],
          [
           0.634
          ],
          [
           0.402
          ],
          [
           0.549
          ]
         ],
         "hovertemplate": "Clusters=0<br>IS_REAL=True<br>PC1=%{x}<br>PC2=%{y}<br>WIN%=%{customdata[0]}<extra></extra>",
         "legendgroup": "0, True",
         "marker": {
          "color": "#EF553B",
          "symbol": "circle"
         },
         "mode": "markers",
         "name": "0, True",
         "orientation": "v",
         "showlegend": true,
         "type": "scatter",
         "x": [
          -0.22516385676208217,
          -0.11826787182516897,
          -0.3059692725702235,
          0.13911770426775957,
          -0.04473843673509734,
          -0.26981581920681735,
          -0.2983150766602705,
          -0.06675924528258635,
          -0.5678648930894618,
          -0.8616743335073619,
          -0.19252988319225858,
          -0.16920418820158573,
          -0.05122024574198984,
          -0.3050069346775611,
          -0.29889302633871895,
          -0.47254715812469983,
          -0.2705736749553513,
          -0.6421279059361104,
          -0.07721641112250588,
          -0.4589810217698924,
          -0.4423087153874943,
          -0.7076206061520678,
          -0.21983271776849203,
          -0.7223254429236589,
          -0.038454104583383775,
          -0.22051229345666643,
          -0.7195139875949823,
          -0.626865959313842,
          -0.7184047043625201,
          -0.5955041287159752,
          -0.2981864636924451,
          -0.13194753688182326,
          -0.17630608633938363,
          -0.5146599940038348,
          -0.3044459036485576,
          -0.34089603324100337,
          -0.3499511320960987,
          -0.6786086719517157,
          0.26309740364600154,
          -0.3592757519045876,
          -0.5168967763131571,
          -0.6911995396027643,
          0.04842238189014264,
          -0.16724444621122586,
          -0.0618898093457106,
          -0.36016936125891125,
          -0.16934901856353948,
          -0.9929093577509015,
          -0.3297386155789347,
          0.21777774942784683,
          -0.35959282929778563,
          -0.18206147949843662,
          -0.8169078187141106,
          -0.8026214365611734,
          -0.7190868748457377,
          -0.6501391145295361,
          0.3446942218832574,
          -0.5878024446733429,
          -0.7612199475101191,
          -0.4876807257486903,
          -0.22437491079935815,
          -0.13626528385553094,
          -0.09210329920679232,
          -0.49815484092277673,
          -0.6361056168794131,
          -0.33018232951719506,
          -0.5061270664865354,
          -0.6756965881051907,
          -0.6664178808488661,
          -0.5034504379907757,
          0.19935921032472143,
          -0.46584101612652123,
          -0.6126537397081003,
          -0.6405687610301459,
          0.21476804543289754,
          -0.722877239815444,
          -0.7998061232807869,
          -0.738278014104216,
          -0.613866728678488,
          -0.2570024512101671,
          -0.5583867572960092,
          -0.8353913873074599,
          -0.3589165913789597,
          -0.11695668179364434,
          -0.5095602682261573,
          -0.8111395539207769,
          0.2619824767046249,
          -0.5636811521923937,
          -0.37265175264928185,
          -0.37553297468030467,
          -0.7283624760994549,
          -0.6602511925300482,
          -0.2019827730059381,
          -0.37381595450668176,
          -0.5698528511346918,
          -0.30464679749204915,
          -0.7855830312357955,
          -0.6831759019368109,
          -0.6533800134862539,
          -0.2141098500544299,
          -0.7735149700523511,
          -0.4600552640580081,
          0.08557057721947847,
          -0.2693494170964726,
          -0.4948884122549956,
          -0.2901587679587103,
          -0.6633422965347063
         ],
         "xaxis": "x",
         "y": [
          -0.7033719925996718,
          -0.04197666410564486,
          -0.24511913822712875,
          -0.6261527662355341,
          -1.0342517796130375,
          -0.7350022780338868,
          -0.3311511820621937,
          -0.7198431249450815,
          -0.38775595737280455,
          -0.434843451499396,
          -0.734350067291219,
          -0.9858093442932496,
          -0.212561382602275,
          -0.8901695849083905,
          -0.21564050899888726,
          -0.3981728442963592,
          -0.9546773148009621,
          -0.7034185651640331,
          -0.5188182700133012,
          -0.16803407817478372,
          -0.3803815837906585,
          -0.4176712293404343,
          -0.7276567382200664,
          -0.49979370690771674,
          -0.547469639491501,
          -0.6080012699840586,
          -0.5081130181121918,
          -0.31084932895513834,
          -0.7332465306391347,
          -0.5450001205497372,
          -0.8701763406370687,
          -0.6162294622091017,
          -1.0856219972606196,
          -0.3222060312388309,
          -0.6098456548757214,
          -1.036535566499424,
          -0.25424763570578296,
          -0.5227484917093028,
          -0.48510834160956223,
          -0.599400259599975,
          -0.4123015001457687,
          -0.3194176593988489,
          -0.8317318507698329,
          -0.3071764431851798,
          -0.6758906731499034,
          -0.7064653854317079,
          -0.2550472720615109,
          -0.5195016864511451,
          -0.6459763689212223,
          -0.8359396293298281,
          -0.8345010768236031,
          -0.577375884206032,
          -0.3776776346940131,
          -0.733338472768082,
          -0.29194434255774004,
          -0.06848176693166232,
          -0.7483962743341827,
          -0.6395308414101137,
          -0.39982383792483384,
          -0.6732219818475392,
          -0.5683101881032707,
          -0.31399938617796197,
          -0.669393598764253,
          -0.7727796348866577,
          -0.5734953660109572,
          -0.09051801722461385,
          -0.12955861165550522,
          -0.5017289622098996,
          -0.3155564924564635,
          -0.6246557660782369,
          -0.7874304283388707,
          -0.8031219948854285,
          -0.3402525469560849,
          -0.9993540237828505,
          -0.5653074588923918,
          -0.41236820971251237,
          -0.9526807777796436,
          -0.47688586750980455,
          -0.8649988846303402,
          -0.7799206972672824,
          -0.6254479454651688,
          -0.2779625942196462,
          -0.4446217392786785,
          -0.939072935039471,
          -0.7109244002142432,
          -0.3823480847108631,
          -0.7963837663356689,
          -0.9567896916666029,
          -0.1758235106825376,
          -0.41857703350691733,
          -0.34416071632351514,
          -0.5320321341946744,
          -0.6732242400514517,
          -0.6475305750910603,
          -0.8622211134117457,
          -0.648959087053035,
          -0.3505576085539508,
          -0.5777631820208383,
          -0.5296104667785076,
          -0.5787891385698111,
          -0.31819884555361344,
          -0.1536866080120952,
          -0.5134774478338506,
          -0.9815544929671681,
          -0.38752612710936457,
          -0.015239600908226706,
          -0.1624979812781677
         ],
         "yaxis": "y"
        },
        {
         "customdata": [
          [
           0.72
          ],
          [
           0.756
          ],
          [
           0.732
          ],
          [
           0.78
          ],
          [
           0.634
          ],
          [
           0.768
          ],
          [
           0.817
          ],
          [
           0.646
          ],
          [
           0.634
          ],
          [
           0.707
          ],
          [
           0.622
          ],
          [
           0.805
          ],
          [
           0.622
          ],
          [
           0.72
          ],
          [
           0.671
          ],
          [
           0.695
          ],
          [
           0.683
          ],
          [
           0.634
          ],
          [
           0.683
          ],
          [
           0.659
          ],
          [
           0.756
          ],
          [
           0.805
          ],
          [
           0.61
          ],
          [
           0.659
          ],
          [
           0.646
          ],
          [
           0.793
          ],
          [
           0.72
          ],
          [
           0.561
          ],
          [
           0.659
          ],
          [
           0.659
          ],
          [
           0.585
          ],
          [
           0.646
          ],
          [
           0.61
          ],
          [
           0.744
          ],
          [
           0.671
          ],
          [
           0.646
          ],
          [
           0.695
          ],
          [
           0.72
          ],
          [
           0.659
          ],
          [
           0.61
          ],
          [
           0.646
          ],
          [
           0.683
          ],
          [
           0.756
          ],
          [
           0.695
          ],
          [
           0.61
          ],
          [
           0.695
          ],
          [
           0.707
          ],
          [
           0.671
          ],
          [
           0.634
          ],
          [
           0.744
          ],
          [
           0.758
          ],
          [
           0.576
          ],
          [
           0.697
          ],
          [
           0.712
          ],
          [
           0.758
          ],
          [
           0.695
          ],
          [
           0.683
          ],
          [
           0.805
          ],
          [
           0.659
          ],
          [
           0.732
          ],
          [
           0.707
          ],
          [
           0.659
          ],
          [
           0.683
          ],
          [
           0.695
          ],
          [
           0.659
          ],
          [
           0.72
          ],
          [
           0.756
          ],
          [
           0.732
          ],
          [
           0.646
          ],
          [
           0.683
          ],
          [
           0.671
          ],
          [
           0.671
          ],
          [
           0.695
          ],
          [
           0.646
          ],
          [
           0.671
          ],
          [
           0.817
          ],
          [
           0.683
          ],
          [
           0.744
          ],
          [
           0.622
          ]
         ],
         "hovertemplate": "Clusters=3<br>IS_REAL=True<br>PC1=%{x}<br>PC2=%{y}<br>WIN%=%{customdata[0]}<extra></extra>",
         "legendgroup": "3, True",
         "marker": {
          "color": "#00cc96",
          "symbol": "circle"
         },
         "mode": "markers",
         "name": "3, True",
         "orientation": "v",
         "showlegend": true,
         "type": "scatter",
         "x": [
          0.0764425382060915,
          0.5987005730168498,
          -0.11121642439328,
          0.3535894244260616,
          0.21952294844224404,
          0.17604431921953007,
          0.2678878455043736,
          0.015523054446484852,
          0.1476140636549178,
          0.4485826263690747,
          0.044284226858576047,
          0.40707628264304996,
          0.28648471984291074,
          0.24160462511935735,
          0.06851864631149564,
          0.8098681512458432,
          0.5125163951724969,
          0.5704933149287408,
          0.2697553576597559,
          0.5924609501721072,
          0.38207245625954245,
          0.4365500189721949,
          0.3887500749153194,
          0.21092487246303168,
          0.1533761681558545,
          0.621828506902083,
          0.4191508941609818,
          0.6030542253057224,
          0.16856929974699095,
          0.451200286808711,
          0.23881539016924558,
          0.32200254804904566,
          0.2647965389828081,
          0.5809690729793954,
          0.5089169294588303,
          0.309738097370676,
          0.2822003280834593,
          0.5937420404049888,
          0.7972684183718606,
          0.3704436929032412,
          0.5385906373398885,
          0.31427442270748884,
          0.17666592015741112,
          0.5621125558732806,
          0.5848009651186059,
          0.3262080974194427,
          0.4509795990021441,
          0.22767203355612195,
          0.24412839200683384,
          0.6566065917039569,
          0.06727965149464099,
          0.258833562261779,
          0.03778031804262574,
          0.10223553293076472,
          0.695932132284533,
          0.3365200044489852,
          0.4239605411974264,
          0.8011424500749269,
          0.3578322499532309,
          0.6101903704987,
          0.8131887230587403,
          0.47835560689892026,
          0.07900733604661164,
          0.7891994011035306,
          0.634975689074909,
          0.6024485952654495,
          1.0009778132469092,
          0.7721248274519018,
          0.4781473608883875,
          1.0095665886426095,
          0.15947218837975788,
          0.7318682751457463,
          0.7497235099072433,
          0.7428200681666022,
          0.7015346644842146,
          1.0273651841348057,
          0.3355623235709874,
          0.9049875013960186,
          0.5339782214113645
         ],
         "xaxis": "x",
         "y": [
          -0.9535394271533022,
          -0.6601083481950578,
          -0.5036870352670625,
          -0.7906273222490381,
          -0.31372274751002033,
          -0.6017657198214937,
          -0.5738350608797436,
          -0.4761425849803377,
          -0.24796300795119697,
          -0.6655676498044603,
          -0.3985604044735707,
          -0.8198055611175341,
          -0.33326680901364575,
          -0.7287190100568196,
          -0.32853322789505796,
          -0.45579759968056566,
          -0.33630262173551645,
          -0.17941655160529013,
          -0.336191323585834,
          -0.6575727138972944,
          -0.6742167010237977,
          -0.660690192668319,
          -0.1425201123952474,
          -0.2759079183996868,
          -0.21844718057599782,
          -0.4912948507641982,
          -0.3279745012444845,
          -0.11446512577469647,
          -0.45604697073465755,
          -0.2533048845384886,
          -0.31474340200762474,
          -0.3297202630951309,
          -0.3779356407430918,
          -0.5753848462697247,
          -0.2963235840964728,
          -0.17328679760090737,
          -0.23720470011957762,
          -0.3814282453795811,
          -0.2552274585680178,
          -0.28721379286605914,
          -0.5632437724810362,
          -0.5896751757556034,
          -0.5985224457632373,
          -0.4059025568689818,
          -0.15667897660713026,
          -0.4334396099468186,
          -0.5610455657252843,
          -0.28832890523489446,
          -0.2578141725602814,
          -0.3717700925655865,
          -0.7642654628564252,
          -0.1786402514324669,
          -0.48881440423124134,
          -0.37866022945404443,
          -0.4654449320400918,
          -0.3301850539559217,
          -0.551936507342253,
          -0.6879807420368942,
          -0.0678825003006437,
          -0.688513191557833,
          -0.4457752706975113,
          -0.12828624560875462,
          -0.2650188798520028,
          -0.4408938308181611,
          -0.37604486276241933,
          -0.3766889538272967,
          -0.4890160278918398,
          -0.39018235480665314,
          -0.14776597668924524,
          -0.4027199734175574,
          -0.21694542190053437,
          -0.37868469778209046,
          -0.18376534268710862,
          -0.16108907884878546,
          -0.3450729969472156,
          -0.7865836846199931,
          -0.11436401813530897,
          -0.4735235439345123,
          -0.16206032425207614
         ],
         "yaxis": "y"
        },
        {
         "customdata": [
          [
           0.317
          ],
          [
           0.317
          ],
          [
           0.415
          ],
          [
           0.28
          ],
          [
           0.256
          ],
          [
           0.427
          ],
          [
           0.329
          ],
          [
           0.366
          ],
          [
           0.293
          ],
          [
           0.402
          ],
          [
           0.427
          ],
          [
           0.268
          ],
          [
           0.341
          ],
          [
           0.402
          ],
          [
           0.39
          ],
          [
           0.378
          ],
          [
           0.39
          ],
          [
           0.402
          ],
          [
           0.28
          ],
          [
           0.268
          ],
          [
           0.183
          ],
          [
           0.317
          ],
          [
           0.268
          ],
          [
           0.28
          ],
          [
           0.244
          ],
          [
           0.232
          ],
          [
           0.293
          ],
          [
           0.293
          ],
          [
           0.28
          ],
          [
           0.207
          ],
          [
           0.232
          ],
          [
           0.329
          ],
          [
           0.354
          ],
          [
           0.183
          ],
          [
           0.146
          ],
          [
           0.329
          ],
          [
           0.305
          ],
          [
           0.317
          ],
          [
           0.232
          ],
          [
           0.366
          ],
          [
           0.39
          ],
          [
           0.207
          ],
          [
           0.293
          ],
          [
           0.293
          ],
          [
           0.268
          ],
          [
           0.28
          ],
          [
           0.106
          ],
          [
           0.318
          ],
          [
           0.379
          ],
          [
           0.394
          ],
          [
           0.333
          ],
          [
           0.318
          ],
          [
           0.333
          ],
          [
           0.348
          ],
          [
           0.303
          ],
          [
           0.256
          ],
          [
           0.293
          ],
          [
           0.354
          ],
          [
           0.378
          ],
          [
           0.329
          ],
          [
           0.244
          ],
          [
           0.305
          ],
          [
           0.341
          ],
          [
           0.354
          ],
          [
           0.305
          ],
          [
           0.402
          ],
          [
           0.354
          ],
          [
           0.183
          ],
          [
           0.28
          ],
          [
           0.232
          ],
          [
           0.341
          ],
          [
           0.305
          ],
          [
           0.366
          ],
          [
           0.256
          ],
          [
           0.195
          ],
          [
           0.207
          ],
          [
           0.305
          ],
          [
           0.22
          ],
          [
           0.354
          ],
          [
           0.207
          ],
          [
           0.402
          ],
          [
           0.122
          ],
          [
           0.28
          ]
         ],
         "hovertemplate": "Clusters=1<br>IS_REAL=True<br>PC1=%{x}<br>PC2=%{y}<br>WIN%=%{customdata[0]}<extra></extra>",
         "legendgroup": "1, True",
         "marker": {
          "color": "#ab63fa",
          "symbol": "circle"
         },
         "mode": "markers",
         "name": "1, True",
         "orientation": "v",
         "showlegend": true,
         "type": "scatter",
         "x": [
          -0.5987896172984557,
          -0.5079078127315197,
          -0.22646159822051554,
          -0.9005792318879614,
          -1.0131600525580358,
          -0.14189720561496805,
          -0.05364283049089447,
          -0.7868580365807025,
          -0.5691099627679715,
          -0.36250057789566154,
          -0.47453464306578697,
          -0.24465446631985008,
          -0.2291299918047889,
          -0.5294754830470273,
          -0.6188099397319318,
          -0.2093592608961684,
          -0.3089820648647836,
          -0.32936980177362585,
          -0.4936221805082382,
          -0.12327418442753704,
          -0.5903109462244143,
          -0.4159208330759647,
          -0.5065614915068107,
          -0.5595965552156248,
          -0.4490143311305365,
          -0.4641744897217419,
          -0.6492223329390494,
          -0.3311958887202576,
          -0.4902096152946609,
          -0.35265640025165684,
          -0.5012896130911518,
          -0.6482852600330555,
          -0.3012315762809438,
          -0.4944168281219548,
          -0.8085242025889561,
          -0.18930038118664505,
          -0.2516426651287377,
          -0.4683715706444922,
          -0.4579580759182442,
          -0.2167914851881259,
          -0.2527403432279658,
          -0.3683682605904949,
          -0.45380385874956397,
          -0.4140611523694473,
          -0.33679595107647264,
          -0.6206467658088056,
          -1.1517325402131084,
          -0.8059756683904055,
          -0.8467526251833595,
          -0.3470734062387681,
          -0.6287251732670469,
          -0.7221310393795591,
          -0.5221151333037878,
          -0.5805045988274128,
          -0.6555788334037245,
          -0.7393602429836224,
          -0.4481629991880411,
          -0.41476896491409915,
          -0.3077419671138084,
          -0.3852725563350019,
          -0.24229784981789448,
          -0.39533886413914276,
          -0.21384478192559467,
          -0.29048924522610087,
          -0.3279096466665656,
          -0.16821145685426378,
          -0.254253194998207,
          -0.4705854100960366,
          -0.18457841083019919,
          -0.4556733321799959,
          -0.2544776777892577,
          -0.36966897416097305,
          -0.08190342083128248,
          -0.19267088270292576,
          -0.4734906972874543,
          -0.5297113137727004,
          -0.20896766421665156,
          -0.8285374024648727,
          -0.19075668559985576,
          -0.462988207886424,
          -0.05506473918871137,
          -0.3273272280960662,
          -0.14107183558578762
         ],
         "xaxis": "x",
         "y": [
          0.36787550710000294,
          0.4474415822766901,
          0.3512633522549798,
          0.4999869192235657,
          0.6593826007404207,
          0.3289429780935217,
          0.4666361145721789,
          0.31088478221005694,
          0.366064607473096,
          0.2627744181404049,
          0.2227774196312821,
          0.5000060804203318,
          0.4803438648818997,
          0.2996749017291758,
          0.3358066101215837,
          0.28031126294078856,
          0.3405267687134655,
          0.24473493010353578,
          0.46293857051689047,
          0.7599435519332037,
          0.633197640002464,
          0.49025167780682505,
          0.6488249172167377,
          0.6946737944281172,
          0.7058242282584872,
          0.6734333510024171,
          0.5110048187101269,
          0.5273389057070397,
          0.46990927349971995,
          0.8074508246048266,
          0.5996381559172593,
          0.42412281635092053,
          0.383949952344686,
          0.895840533087977,
          0.7876366515665822,
          0.2733632866903411,
          0.510073321950358,
          0.48392113067501397,
          0.7511482060929435,
          0.2402969947161073,
          0.2232996301461013,
          0.7306063771378777,
          0.46428648251045246,
          0.5638824937856529,
          0.4967872746301073,
          0.6347762551744873,
          0.9845984325347203,
          0.6176938648339534,
          0.386156714655809,
          0.37494894571188614,
          0.5154917867307703,
          0.15043154619218946,
          0.671282318772411,
          0.1766300427134257,
          0.4500746447552367,
          0.7629709332905457,
          0.5719874273008505,
          0.33989379776120476,
          0.22882856929889137,
          0.3140042109966833,
          0.5674727258874418,
          0.5013970719173264,
          0.5731854202764861,
          0.24370825494375384,
          0.49162795881349375,
          0.4060407594217343,
          0.4450112500247872,
          0.6513837831952247,
          0.5522988293471014,
          1.042542104299521,
          0.4806765390265571,
          0.5980571569443568,
          0.5616862573653058,
          0.6523338410484295,
          0.6833706992695261,
          0.7048797394293252,
          0.6134123908827921,
          0.8506662798802094,
          0.4167789517011253,
          1.0542542690056667,
          0.2662176603266137,
          1.0264745188484794,
          0.8332395093719552
         ],
         "yaxis": "y"
        },
        {
         "customdata": [
          [
           0.402
          ],
          [
           0.5
          ],
          [
           0.61
          ],
          [
           0.537
          ],
          [
           0.415
          ],
          [
           0.5
          ],
          [
           0.573
          ],
          [
           0.549
          ],
          [
           0.598
          ],
          [
           0.488
          ],
          [
           0.402
          ],
          [
           0.598
          ],
          [
           0.463
          ],
          [
           0.439
          ],
          [
           0.463
          ],
          [
           0.537
          ],
          [
           0.5
          ],
          [
           0.512
          ],
          [
           0.598
          ],
          [
           0.61
          ],
          [
           0.549
          ],
          [
           0.488
          ],
          [
           0.512
          ],
          [
           0.537
          ],
          [
           0.39
          ],
          [
           0.5
          ],
          [
           0.476
          ],
          [
           0.488
          ],
          [
           0.427
          ],
          [
           0.402
          ],
          [
           0.573
          ],
          [
           0.5
          ],
          [
           0.451
          ],
          [
           0.549
          ],
          [
           0.415
          ],
          [
           0.488
          ],
          [
           0.5
          ],
          [
           0.463
          ],
          [
           0.524
          ],
          [
           0.573
          ],
          [
           0.427
          ],
          [
           0.5
          ],
          [
           0.476
          ],
          [
           0.524
          ],
          [
           0.415
          ],
          [
           0.415
          ],
          [
           0.598
          ],
          [
           0.5
          ],
          [
           0.402
          ],
          [
           0.537
          ],
          [
           0.5
          ],
          [
           0.512
          ],
          [
           0.488
          ],
          [
           0.573
          ],
          [
           0.561
          ],
          [
           0.61
          ],
          [
           0.61
          ],
          [
           0.488
          ],
          [
           0.537
          ],
          [
           0.415
          ],
          [
           0.451
          ],
          [
           0.561
          ],
          [
           0.427
          ],
          [
           0.561
          ],
          [
           0.5
          ],
          [
           0.585
          ],
          [
           0.476
          ],
          [
           0.606
          ],
          [
           0.591
          ],
          [
           0.545
          ],
          [
           0.515
          ],
          [
           0.636
          ],
          [
           0.606
          ],
          [
           0.621
          ],
          [
           0.621
          ],
          [
           0.47
          ],
          [
           0.545
          ],
          [
           0.561
          ],
          [
           0.53
          ],
          [
           0.5
          ],
          [
           0.424
          ],
          [
           0.545
          ],
          [
           0.506
          ],
          [
           0.598
          ],
          [
           0.549
          ],
          [
           0.605
          ],
          [
           0.683
          ],
          [
           0.415
          ],
          [
           0.402
          ],
          [
           0.415
          ],
          [
           0.524
          ],
          [
           0.537
          ],
          [
           0.524
          ],
          [
           0.585
          ],
          [
           0.61
          ],
          [
           0.415
          ],
          [
           0.451
          ],
          [
           0.585
          ],
          [
           0.463
          ],
          [
           0.402
          ],
          [
           0.463
          ],
          [
           0.451
          ],
          [
           0.5
          ],
          [
           0.463
          ],
          [
           0.512
          ],
          [
           0.39
          ],
          [
           0.488
          ]
         ],
         "hovertemplate": "Clusters=4<br>IS_REAL=True<br>PC1=%{x}<br>PC2=%{y}<br>WIN%=%{customdata[0]}<extra></extra>",
         "legendgroup": "4, True",
         "marker": {
          "color": "#FFA15A",
          "symbol": "circle"
         },
         "mode": "markers",
         "name": "4, True",
         "orientation": "v",
         "showlegend": true,
         "type": "scatter",
         "x": [
          -0.25595971937175455,
          -0.07424898055081992,
          -0.1476932053558389,
          -0.060003098556583805,
          -0.5736367749795568,
          -0.34232436079968537,
          -0.055337801008402285,
          0.022089059422081538,
          -0.30125193935641403,
          -0.11855981609158854,
          -0.491089026842346,
          -0.07317667277557731,
          -0.569379189175327,
          -0.5010367046087966,
          -0.18159992548926127,
          0.021623103909545423,
          -0.7138847861805351,
          -0.18201699781578715,
          0.010932173604615078,
          -0.13684568680240386,
          0.12388509480481827,
          -0.2676877761331975,
          0.1502749299672136,
          -0.13934073734023253,
          -0.21746084658005027,
          0.09278528908357193,
          -0.35470074799718154,
          -0.5354871551023255,
          -0.4560721914969276,
          -0.0859224899588047,
          0.3020484647855136,
          -0.00023613091288591842,
          -0.25409521470569857,
          -0.2605437324644235,
          -0.25369940305926475,
          -0.4047463146251165,
          -0.08654120965756484,
          -0.1085692857144499,
          -0.10097709684804919,
          0.04621704380942961,
          -0.43072599045699395,
          -0.01501242998919684,
          -0.174829871211241,
          0.08761599790817524,
          -0.1156951436101038,
          -0.07045681780986902,
          0.08400033741457952,
          -0.3538019643126162,
          0.1217716447277938,
          -0.32712847749294505,
          -0.1856649021467702,
          0.06631160906497595,
          -0.24574758225285637,
          -0.06875753640883596,
          0.04959129803078784,
          0.005159405324311511,
          0.08076924852829787,
          0.32183770378951565,
          0.025323454339273434,
          -0.4283946024218846,
          -0.13522260795486607,
          -0.12672800376079776,
          -0.44504105729440957,
          -0.06601854112541053,
          0.19792169236521306,
          -0.09320737786433038,
          -0.04480861215772942,
          0.13101712457526313,
          -0.044540887543278194,
          0.017194331672107734,
          -0.09199736835506218,
          -0.3176119841621573,
          -0.03241714564488058,
          -0.01873876850456592,
          -0.4612068653653738,
          -0.021180199456759443,
          -0.1912030824671852,
          -0.14057087084326275,
          0.09001397155226644,
          0.06302934720667089,
          -0.1755506317562695,
          -0.20850558010575962,
          0.08492179754685361,
          -0.12012634098417879,
          -0.2818813969269056,
          -0.236573749923045,
          -0.29305787164829594,
          -0.15045631627841072,
          -0.031075912999580655,
          -0.12360727751549283,
          -0.09983780495523302,
          0.07768643165671951,
          0.12165583543731394,
          -0.20287713894091344,
          -0.003090700865048765,
          -0.08652228510015712,
          0.12879841192340855,
          0.1716101350409681,
          -0.016613886218981837,
          -0.15518283348369347,
          0.09081874695072428,
          -0.2397683785808854,
          -0.006126420337916864,
          -0.24599163624005105,
          -0.12060092438472432,
          0.059389965178551274,
          -0.02326094886200672
         ],
         "xaxis": "x",
         "y": [
          0.1410426913574903,
          0.076805576107073,
          -0.1178205777869774,
          -0.08798465098459986,
          0.11849157873601437,
          -0.11093599148928633,
          -0.22799055125052872,
          -0.11996655427467709,
          -0.2484323351642425,
          0.11619311052708184,
          0.010574914907855351,
          -0.21873879463284926,
          0.2208029825497633,
          0.0051551702124446605,
          0.1454367906633955,
          -0.08979264433748702,
          -0.08498537070496029,
          0.048625438484912624,
          -0.3242186888546831,
          -0.22861722574787213,
          -0.04863329448917782,
          -0.18052584610156974,
          0.09756639335987022,
          -0.013336519303236542,
          0.16457629526889897,
          0.010581982510170182,
          0.22024015076114734,
          -0.10922329486767703,
          0.09761886070940158,
          0.3274345599792293,
          -0.05365513335655024,
          0.2161810668188819,
          -0.004636664582188051,
          0.0407950225679488,
          0.1927501064928578,
          -0.059296842250366674,
          -0.007423214280142334,
          0.34331836810232563,
          0.08283545151053896,
          -0.10217574582108045,
          0.02913224647619642,
          0.08104332952103818,
          -0.05147371824997474,
          0.012018509579488895,
          0.17335550381947012,
          0.2761915641815868,
          -0.15499812831610604,
          -0.0517283419864266,
          0.17608597466340928,
          -0.12906162820593303,
          0.1309181244025088,
          0.27656602442314515,
          0.25831128430413436,
          -0.13021855313308983,
          0.09783756040990668,
          -0.22982900667494024,
          -0.2927291407453608,
          0.1411755133647789,
          -0.019956443767189913,
          0.2217475277515681,
          0.3012345918459384,
          -0.11301563467131137,
          0.18366022947770672,
          -0.12508250070584104,
          -0.09329279222353537,
          -0.1787396588085593,
          -0.017209305654396413,
          -0.2652006107494603,
          -0.38926994954157434,
          -0.024260832346196318,
          0.07948784445386527,
          -0.16982739516479395,
          -0.19245231630311624,
          -0.2627099054115892,
          -0.1734430481581404,
          -0.001295706546345663,
          -0.047440287016098516,
          0.010911743844405136,
          -0.3417078515398668,
          0.020074081792011735,
          0.15858689674258514,
          -0.11450183634302716,
          0.0002795493883506688,
          -0.11561047868378664,
          -0.16148230804525648,
          -0.2534233249992725,
          -0.3864679434666252,
          0.23189479757436812,
          0.3408886219794233,
          0.1800697383251443,
          -0.06790943243151383,
          0.12733788062575468,
          0.05775312841594206,
          -0.22516607144716516,
          -0.2036318203458569,
          0.22502521879150755,
          0.21253197541931768,
          -0.08304421280341326,
          0.3367342807901713,
          0.4118340243336223,
          0.154969635748126,
          0.20792531725788002,
          -0.03357809392005087,
          -0.0036619250499033964,
          0.2800643723727233,
          0.3305189986010246,
          0.06538713226675567
         ],
         "yaxis": "y"
        },
        {
         "customdata": [
          [
           0.659
          ],
          [
           0.744
          ],
          [
           0.671
          ],
          [
           0.817
          ],
          [
           0.89
          ],
          [
           0.646
          ],
          [
           0.622
          ],
          [
           0.488
          ],
          [
           0.817
          ],
          [
           0.671
          ],
          [
           0.622
          ],
          [
           0.61
          ],
          [
           0.561
          ],
          [
           0.707
          ],
          [
           0.793
          ],
          [
           0.585
          ],
          [
           0.634
          ],
          [
           0.72
          ],
          [
           0.598
          ],
          [
           0.512
          ],
          [
           0.659
          ],
          [
           0.695
          ],
          [
           0.646
          ],
          [
           0.585
          ],
          [
           0.585
          ],
          [
           0.451
          ],
          [
           0.732
          ],
          [
           0.402
          ],
          [
           0.598
          ],
          [
           0.512
          ],
          [
           0.622
          ],
          [
           0.646
          ],
          [
           0.476
          ],
          [
           0.585
          ],
          [
           0.707
          ],
          [
           0.61
          ],
          [
           0.667
          ],
          [
           0.486
          ],
          [
           0.573
          ],
          [
           0.63
          ],
          [
           0.611
          ],
          [
           0.616
          ],
          [
           0.681
          ],
          [
           0.732
          ],
          [
           0.466
          ],
          [
           0.603
          ],
          [
           0.767
          ],
          [
           0.417
          ],
          [
           0.611
          ],
          [
           0.589
          ],
          [
           0.466
          ],
          [
           0.473
          ],
          [
           0.451
          ],
          [
           0.736
          ],
          [
           0.611
          ]
         ],
         "hovertemplate": "Clusters=6<br>IS_REAL=True<br>PC1=%{x}<br>PC2=%{y}<br>WIN%=%{customdata[0]}<extra></extra>",
         "legendgroup": "6, True",
         "marker": {
          "color": "#19d3f3",
          "symbol": "circle"
         },
         "mode": "markers",
         "name": "6, True",
         "orientation": "v",
         "showlegend": true,
         "type": "scatter",
         "x": [
          1.1733584190362945,
          1.1631123117034015,
          1.1253931045297958,
          1.2803277586291342,
          1.6526945732746157,
          0.9240205893751404,
          1.0608653067313332,
          0.9217434566272499,
          1.7294840410277599,
          1.1769473722878325,
          1.0064576584865017,
          1.11106613456318,
          0.9370956674148697,
          1.575443272830858,
          1.2506283103051752,
          1.2253032291026105,
          1.0052846647533904,
          1.1862857641325026,
          1.3715013647071534,
          0.8287540211623945,
          1.149052976235552,
          1.7971238253305473,
          1.0401441801605953,
          0.9818374238512398,
          0.9924678735803584,
          0.8864618586937997,
          1.7420886832790705,
          1.1006860091728554,
          0.9671402734447718,
          1.0163048570820366,
          1.2317531877430516,
          1.094305181679143,
          1.074402844498982,
          1.2960749060902856,
          1.360339494793369,
          1.1801512042806739,
          1.0918414047953242,
          0.8780526179947075,
          1.4884931145055764,
          1.097729930315113,
          1.1196438891702725,
          1.1117528813477424,
          1.2317539041160597,
          1.1806694249434442,
          1.0275743082706634,
          1.2306458952116406,
          1.7643144128527315,
          1.0891870698891988,
          0.9562702097462981,
          1.0972582908233117,
          1.109888008149031,
          1.0005098173674718,
          1.2316501940800018,
          1.1765290033853892,
          1.0536866016706823
         ],
         "xaxis": "x",
         "y": [
          -0.2662728974738521,
          -0.4463643062123151,
          -0.4071975129443693,
          -0.6456045071240485,
          -0.6419769053514827,
          0.03995209037063801,
          0.13141381041904324,
          0.18804913735427067,
          -0.7666158874367974,
          0.022870016430547743,
          -0.09182571175382931,
          0.23285153726443972,
          0.10354143600985818,
          -0.4428785155288354,
          -0.10598930903649564,
          0.09335714540952418,
          -0.1598530898753626,
          -0.20315709577621285,
          0.0034155914673282424,
          0.4850155507472715,
          -0.07947380736686475,
          -0.26707136015007826,
          0.26468735292768036,
          -0.0598919936575623,
          0.28293792477548135,
          0.48260331630011144,
          -0.13816170073749723,
          0.43888369984947173,
          0.29804894623019196,
          0.21144616093624838,
          -0.023928990367649262,
          0.10185008066726395,
          0.4910008629252065,
          0.09511689219227785,
          -0.0780300732745698,
          -0.09849299227839504,
          0.005525236286313989,
          0.47378185575276516,
          0.14874114422095405,
          -0.00649078902925701,
          0.4900320495412514,
          0.055545285461150964,
          0.0010834779628511866,
          -0.1906011368385495,
          0.34756163666960344,
          -0.0112713670472709,
          -0.17490616401927636,
          0.47836824876221135,
          0.1862539555700646,
          0.004861191522358777,
          0.2687968592092062,
          0.613114863106407,
          0.3302662229912365,
          -0.059202467782705416,
          0.21301533254340402
         ],
         "yaxis": "y"
        },
        {
         "customdata": [
          [
           0.512
          ],
          [
           0.61
          ],
          [
           0.585
          ],
          [
           0.439
          ],
          [
           0.5
          ],
          [
           0.439
          ],
          [
           0.451
          ],
          [
           0.439
          ],
          [
           0.524
          ],
          [
           0.512
          ],
          [
           0.488
          ],
          [
           0.537
          ],
          [
           0.5
          ],
          [
           0.573
          ],
          [
           0.549
          ],
          [
           0.549
          ],
          [
           0.463
          ],
          [
           0.463
          ],
          [
           0.598
          ],
          [
           0.439
          ],
          [
           0.622
          ],
          [
           0.488
          ],
          [
           0.585
          ],
          [
           0.659
          ],
          [
           0.537
          ],
          [
           0.488
          ],
          [
           0.61
          ],
          [
           0.61
          ],
          [
           0.39
          ],
          [
           0.683
          ],
          [
           0.549
          ],
          [
           0.549
          ],
          [
           0.476
          ],
          [
           0.622
          ],
          [
           0.598
          ],
          [
           0.561
          ],
          [
           0.585
          ],
          [
           0.585
          ],
          [
           0.585
          ],
          [
           0.512
          ],
          [
           0.512
          ],
          [
           0.537
          ],
          [
           0.5
          ],
          [
           0.549
          ],
          [
           0.585
          ],
          [
           0.427
          ],
          [
           0.537
          ],
          [
           0.5
          ],
          [
           0.524
          ],
          [
           0.439
          ],
          [
           0.5
          ],
          [
           0.451
          ],
          [
           0.512
          ],
          [
           0.524
          ],
          [
           0.5
          ],
          [
           0.512
          ],
          [
           0.378
          ],
          [
           0.573
          ],
          [
           0.5
          ],
          [
           0.622
          ],
          [
           0.598
          ],
          [
           0.671
          ],
          [
           0.439
          ],
          [
           0.476
          ],
          [
           0.585
          ],
          [
           0.512
          ],
          [
           0.537
          ],
          [
           0.537
          ],
          [
           0.573
          ],
          [
           0.585
          ],
          [
           0.598
          ],
          [
           0.573
          ],
          [
           0.585
          ],
          [
           0.524
          ],
          [
           0.5
          ],
          [
           0.476
          ],
          [
           0.452
          ]
         ],
         "hovertemplate": "Clusters=2<br>IS_REAL=True<br>PC1=%{x}<br>PC2=%{y}<br>WIN%=%{customdata[0]}<extra></extra>",
         "legendgroup": "2, True",
         "marker": {
          "color": "#FF6692",
          "symbol": "circle"
         },
         "mode": "markers",
         "name": "2, True",
         "orientation": "v",
         "showlegend": true,
         "type": "scatter",
         "x": [
          0.2905357526923939,
          0.6427071290030147,
          0.578133303613477,
          0.24730023249787036,
          0.5507037073338142,
          0.2862415506974256,
          0.21076726534982818,
          0.17383405844394212,
          0.44197024416324177,
          0.4341708823256293,
          0.46804952897881597,
          0.356143191907122,
          0.38342868984134443,
          0.3158340902296789,
          0.43351710528094733,
          0.26550161646895915,
          -0.02657089140798497,
          0.43854771379538193,
          0.6889216617033884,
          0.11231572846638146,
          0.6094402942705941,
          0.4129087089204042,
          0.3141279625965645,
          0.6649367491117155,
          0.31750108368887175,
          0.2904913909959669,
          0.2150199687366244,
          0.6341795707493815,
          -0.02335336743965081,
          0.24765135413541337,
          0.17451655805642058,
          0.20971059107964052,
          0.1701883949311641,
          0.6366904470183345,
          0.3366818848371203,
          0.24626182118829087,
          0.6895869797684734,
          0.5030371533811517,
          0.6540183270708846,
          0.28506987222933705,
          0.5363697782737605,
          0.1773421933991762,
          0.29279942622168725,
          0.3064606230921441,
          0.2962661084423792,
          0.3328107682840724,
          0.41824669203268616,
          0.5831799242542246,
          0.3556308103347917,
          0.75550447294548,
          0.34363334093715026,
          0.42420723933703647,
          0.5910367707358909,
          0.2247848231586489,
          0.41074333880193004,
          0.5854393602811382,
          0.3991382433505116,
          0.32866841299188976,
          0.5935664803601891,
          0.5188249566256253,
          0.8020735990623618,
          0.743143538926994,
          0.7446672471249848,
          0.6051509333941829,
          0.7005886344813336,
          0.6419204467265499,
          0.6322658575959255,
          0.6817191158005618,
          0.8211532878226134,
          0.5747938781793915,
          0.6074949480555861,
          0.6434214993903598,
          0.7625882647879549,
          0.757306425361999,
          0.5981744434646142,
          0.6299648787307601,
          0.7649218201826364
         ],
         "xaxis": "x",
         "y": [
          0.24507974500877527,
          -0.17205454101558515,
          0.23856317922108958,
          0.34398130662562393,
          -0.23229480790285106,
          0.32805264048278193,
          0.2598149249096119,
          0.29219273492196096,
          -0.02630738721236667,
          0.15254500384099642,
          0.17493805984380656,
          -0.026806582063031232,
          0.08198451977300708,
          0.03295453995004165,
          0.021311043375919263,
          0.008575986033628892,
          0.17452574640501245,
          0.11197422974566883,
          -0.12043444084957113,
          0.37871883628181324,
          -0.14541287737079153,
          0.054469041512761204,
          0.12374609142344761,
          -0.14012257244759443,
          -0.01116587160826492,
          0.19782611963883875,
          -0.13399363741807616,
          0.0199270259988092,
          0.2977750199562849,
          0.014638236102997151,
          -0.039888875714194166,
          0.1121699139816598,
          0.3757350994966656,
          -0.05601003826039655,
          0.01537514343206866,
          -0.1312234089471398,
          -0.09719916753614156,
          0.0616493898509747,
          0.11822643452375574,
          0.248647955715026,
          0.28730207160068144,
          0.32881309798094804,
          0.24982648498157753,
          0.11490397649920771,
          -0.09472040633635202,
          0.3079992338641933,
          0.2684438846631056,
          0.22753128772234255,
          0.20890137414633,
          0.24535321811866811,
          0.10766019844571052,
          0.3733937620494559,
          0.18207834640262874,
          0.14429333187570356,
          0.21141836063941458,
          0.04029904700744898,
          0.16569278368315188,
          0.24099261353041476,
          0.3689576582786257,
          0.038107312928786004,
          0.07321176676410271,
          0.009526352141704124,
          0.3558550262517729,
          0.3275027214405294,
          0.1581647106733687,
          0.3216450049582949,
          0.2281739254588314,
          0.14023015385532714,
          0.028436235988597718,
          0.11862002731397896,
          0.22472630302859442,
          -0.06573693313507342,
          -0.04672308501342404,
          0.10805989277504655,
          0.45881146967571923,
          0.2967909908005973,
          0.338249071655244
         ],
         "yaxis": "y"
        },
        {
         "customdata": [
          [
           0.6408470869064331
          ]
         ],
         "hovertemplate": "Clusters=2<br>IS_REAL=False<br>PC1=%{x}<br>PC2=%{y}<br>WIN%=%{customdata[0]}<extra></extra>",
         "legendgroup": "2, False",
         "marker": {
          "color": "#FF6692",
          "symbol": "diamond"
         },
         "mode": "markers",
         "name": "2, False",
         "orientation": "v",
         "showlegend": true,
         "type": "scatter",
         "x": [
          0.7433214453880821
         ],
         "xaxis": "x",
         "y": [
          -0.28181708418492674
         ],
         "yaxis": "y"
        },
        {
         "customdata": [
          [
           0.354
          ],
          [
           0.39
          ],
          [
           0.317
          ],
          [
           0.39
          ],
          [
           0.354
          ],
          [
           0.348
          ],
          [
           0.329
          ],
          [
           0.256
          ],
          [
           0.402
          ],
          [
           0.354
          ],
          [
           0.366
          ],
          [
           0.402
          ],
          [
           0.244
          ],
          [
           0.402
          ],
          [
           0.317
          ],
          [
           0.415
          ],
          [
           0.378
          ],
          [
           0.354
          ],
          [
           0.341
          ],
          [
           0.293
          ],
          [
           0.39
          ],
          [
           0.293
          ],
          [
           0.341
          ],
          [
           0.329
          ],
          [
           0.293
          ],
          [
           0.427
          ],
          [
           0.268
          ],
          [
           0.354
          ],
          [
           0.305
          ],
          [
           0.256
          ],
          [
           0.329
          ],
          [
           0.354
          ],
          [
           0.476
          ],
          [
           0.268
          ],
          [
           0.232
          ],
          [
           0.402
          ],
          [
           0.402
          ],
          [
           0.439
          ],
          [
           0.207
          ],
          [
           0.232
          ],
          [
           0.39
          ],
          [
           0.299
          ],
          [
           0.354
          ],
          [
           0.338
          ],
          [
           0.292
          ],
          [
           0.303
          ],
          [
           0.231
          ],
          [
           0.297
          ],
          [
           0.318
          ],
          [
           0.431
          ],
          [
           0.347
          ]
         ],
         "hovertemplate": "Clusters=7<br>IS_REAL=True<br>PC1=%{x}<br>PC2=%{y}<br>WIN%=%{customdata[0]}<extra></extra>",
         "legendgroup": "7, True",
         "marker": {
          "color": "#B6E880",
          "symbol": "circle"
         },
         "mode": "markers",
         "name": "7, True",
         "orientation": "v",
         "showlegend": true,
         "type": "scatter",
         "x": [
          0.1257553830379243,
          0.2522939218003748,
          0.3545370777880186,
          0.008231207519487433,
          0.20454635011982342,
          -0.03126107050337507,
          0.31282226570835636,
          -0.04617443377653618,
          0.10141789232162512,
          0.1053830639062071,
          0.36861656136510984,
          0.432958232185911,
          0.2782717148637151,
          0.4156963793828486,
          0.10886795048628495,
          0.6364605655122809,
          0.26056194816137235,
          0.19216209124312328,
          0.1714946215540325,
          0.07368584615967583,
          0.35082817594231175,
          0.4009854497985425,
          0.5862816288776901,
          0.45745281947036354,
          0.6645810466875522,
          0.5877270977407354,
          0.0045724768949978135,
          0.4362614440120942,
          0.44188136986891335,
          0.06410968143329698,
          0.1567615709945905,
          0.7527402418039257,
          0.8965340053675002,
          0.35686293833155824,
          0.2297277236307035,
          0.7778411721708769,
          0.5025536943173057,
          0.8462585839804643,
          0.12687873681044237,
          0.34926990801352614,
          1.030042949397955,
          0.5072740498903486,
          0.26293013532247383,
          0.41407789919794147,
          0.3661122648090186,
          0.5203609833092238,
          0.40939461991735754,
          0.7074367989519046,
          0.24708863276954576,
          0.8618676444106486,
          0.8723272891251873
         ],
         "xaxis": "x",
         "y": [
          0.48205643444867274,
          0.6046408582416211,
          0.5898880925641375,
          0.4739425658876658,
          0.5225623249400598,
          0.30374436516944225,
          0.5961286466720989,
          0.6310171706507665,
          0.42512519178097524,
          0.23728965004177932,
          0.5408222700309359,
          0.3629794754076672,
          0.9125672175671312,
          0.4796317251539554,
          0.8253730323523372,
          0.40677961470272633,
          0.4679879509704713,
          0.6838507127771866,
          0.6129850051014436,
          0.7987069120720296,
          0.4291501300122063,
          0.708036798521866,
          0.6742429569816353,
          0.8075614946368009,
          0.6339134441272734,
          0.465838822924741,
          0.6748324113746822,
          0.4595301585706242,
          0.627295662545648,
          1.038255733249273,
          0.7182636481367227,
          0.8409341204239128,
          0.5144617982609736,
          0.9342425470368637,
          1.0886863580661237,
          0.5202929558460372,
          0.38025278089750597,
          0.42966182295719124,
          1.0912388499790093,
          0.9326140044378696,
          0.5421991187681747,
          0.9868491847131429,
          0.7010553177580967,
          0.6830868049702349,
          0.9093346380232687,
          0.5626082065097626,
          0.7858842274924751,
          0.8109998707361092,
          0.7301683355479793,
          0.525134752839055,
          0.7211840900264329
         ],
         "yaxis": "y"
        }
       ],
       "layout": {
        "legend": {
         "title": {
          "text": "Clusters, IS_REAL"
         },
         "tracegroupgap": 0
        },
        "margin": {
         "t": 60
        },
        "template": {
         "data": {
          "bar": [
           {
            "error_x": {
             "color": "#2a3f5f"
            },
            "error_y": {
             "color": "#2a3f5f"
            },
            "marker": {
             "line": {
              "color": "#E5ECF6",
              "width": 0.5
             },
             "pattern": {
              "fillmode": "overlay",
              "size": 10,
              "solidity": 0.2
             }
            },
            "type": "bar"
           }
          ],
          "barpolar": [
           {
            "marker": {
             "line": {
              "color": "#E5ECF6",
              "width": 0.5
             },
             "pattern": {
              "fillmode": "overlay",
              "size": 10,
              "solidity": 0.2
             }
            },
            "type": "barpolar"
           }
          ],
          "carpet": [
           {
            "aaxis": {
             "endlinecolor": "#2a3f5f",
             "gridcolor": "white",
             "linecolor": "white",
             "minorgridcolor": "white",
             "startlinecolor": "#2a3f5f"
            },
            "baxis": {
             "endlinecolor": "#2a3f5f",
             "gridcolor": "white",
             "linecolor": "white",
             "minorgridcolor": "white",
             "startlinecolor": "#2a3f5f"
            },
            "type": "carpet"
           }
          ],
          "choropleth": [
           {
            "colorbar": {
             "outlinewidth": 0,
             "ticks": ""
            },
            "type": "choropleth"
           }
          ],
          "contour": [
           {
            "colorbar": {
             "outlinewidth": 0,
             "ticks": ""
            },
            "colorscale": [
             [
              0,
              "#0d0887"
             ],
             [
              0.1111111111111111,
              "#46039f"
             ],
             [
              0.2222222222222222,
              "#7201a8"
             ],
             [
              0.3333333333333333,
              "#9c179e"
             ],
             [
              0.4444444444444444,
              "#bd3786"
             ],
             [
              0.5555555555555556,
              "#d8576b"
             ],
             [
              0.6666666666666666,
              "#ed7953"
             ],
             [
              0.7777777777777778,
              "#fb9f3a"
             ],
             [
              0.8888888888888888,
              "#fdca26"
             ],
             [
              1,
              "#f0f921"
             ]
            ],
            "type": "contour"
           }
          ],
          "contourcarpet": [
           {
            "colorbar": {
             "outlinewidth": 0,
             "ticks": ""
            },
            "type": "contourcarpet"
           }
          ],
          "heatmap": [
           {
            "colorbar": {
             "outlinewidth": 0,
             "ticks": ""
            },
            "colorscale": [
             [
              0,
              "#0d0887"
             ],
             [
              0.1111111111111111,
              "#46039f"
             ],
             [
              0.2222222222222222,
              "#7201a8"
             ],
             [
              0.3333333333333333,
              "#9c179e"
             ],
             [
              0.4444444444444444,
              "#bd3786"
             ],
             [
              0.5555555555555556,
              "#d8576b"
             ],
             [
              0.6666666666666666,
              "#ed7953"
             ],
             [
              0.7777777777777778,
              "#fb9f3a"
             ],
             [
              0.8888888888888888,
              "#fdca26"
             ],
             [
              1,
              "#f0f921"
             ]
            ],
            "type": "heatmap"
           }
          ],
          "heatmapgl": [
           {
            "colorbar": {
             "outlinewidth": 0,
             "ticks": ""
            },
            "colorscale": [
             [
              0,
              "#0d0887"
             ],
             [
              0.1111111111111111,
              "#46039f"
             ],
             [
              0.2222222222222222,
              "#7201a8"
             ],
             [
              0.3333333333333333,
              "#9c179e"
             ],
             [
              0.4444444444444444,
              "#bd3786"
             ],
             [
              0.5555555555555556,
              "#d8576b"
             ],
             [
              0.6666666666666666,
              "#ed7953"
             ],
             [
              0.7777777777777778,
              "#fb9f3a"
             ],
             [
              0.8888888888888888,
              "#fdca26"
             ],
             [
              1,
              "#f0f921"
             ]
            ],
            "type": "heatmapgl"
           }
          ],
          "histogram": [
           {
            "marker": {
             "pattern": {
              "fillmode": "overlay",
              "size": 10,
              "solidity": 0.2
             }
            },
            "type": "histogram"
           }
          ],
          "histogram2d": [
           {
            "colorbar": {
             "outlinewidth": 0,
             "ticks": ""
            },
            "colorscale": [
             [
              0,
              "#0d0887"
             ],
             [
              0.1111111111111111,
              "#46039f"
             ],
             [
              0.2222222222222222,
              "#7201a8"
             ],
             [
              0.3333333333333333,
              "#9c179e"
             ],
             [
              0.4444444444444444,
              "#bd3786"
             ],
             [
              0.5555555555555556,
              "#d8576b"
             ],
             [
              0.6666666666666666,
              "#ed7953"
             ],
             [
              0.7777777777777778,
              "#fb9f3a"
             ],
             [
              0.8888888888888888,
              "#fdca26"
             ],
             [
              1,
              "#f0f921"
             ]
            ],
            "type": "histogram2d"
           }
          ],
          "histogram2dcontour": [
           {
            "colorbar": {
             "outlinewidth": 0,
             "ticks": ""
            },
            "colorscale": [
             [
              0,
              "#0d0887"
             ],
             [
              0.1111111111111111,
              "#46039f"
             ],
             [
              0.2222222222222222,
              "#7201a8"
             ],
             [
              0.3333333333333333,
              "#9c179e"
             ],
             [
              0.4444444444444444,
              "#bd3786"
             ],
             [
              0.5555555555555556,
              "#d8576b"
             ],
             [
              0.6666666666666666,
              "#ed7953"
             ],
             [
              0.7777777777777778,
              "#fb9f3a"
             ],
             [
              0.8888888888888888,
              "#fdca26"
             ],
             [
              1,
              "#f0f921"
             ]
            ],
            "type": "histogram2dcontour"
           }
          ],
          "mesh3d": [
           {
            "colorbar": {
             "outlinewidth": 0,
             "ticks": ""
            },
            "type": "mesh3d"
           }
          ],
          "parcoords": [
           {
            "line": {
             "colorbar": {
              "outlinewidth": 0,
              "ticks": ""
             }
            },
            "type": "parcoords"
           }
          ],
          "pie": [
           {
            "automargin": true,
            "type": "pie"
           }
          ],
          "scatter": [
           {
            "marker": {
             "colorbar": {
              "outlinewidth": 0,
              "ticks": ""
             }
            },
            "type": "scatter"
           }
          ],
          "scatter3d": [
           {
            "line": {
             "colorbar": {
              "outlinewidth": 0,
              "ticks": ""
             }
            },
            "marker": {
             "colorbar": {
              "outlinewidth": 0,
              "ticks": ""
             }
            },
            "type": "scatter3d"
           }
          ],
          "scattercarpet": [
           {
            "marker": {
             "colorbar": {
              "outlinewidth": 0,
              "ticks": ""
             }
            },
            "type": "scattercarpet"
           }
          ],
          "scattergeo": [
           {
            "marker": {
             "colorbar": {
              "outlinewidth": 0,
              "ticks": ""
             }
            },
            "type": "scattergeo"
           }
          ],
          "scattergl": [
           {
            "marker": {
             "colorbar": {
              "outlinewidth": 0,
              "ticks": ""
             }
            },
            "type": "scattergl"
           }
          ],
          "scattermapbox": [
           {
            "marker": {
             "colorbar": {
              "outlinewidth": 0,
              "ticks": ""
             }
            },
            "type": "scattermapbox"
           }
          ],
          "scatterpolar": [
           {
            "marker": {
             "colorbar": {
              "outlinewidth": 0,
              "ticks": ""
             }
            },
            "type": "scatterpolar"
           }
          ],
          "scatterpolargl": [
           {
            "marker": {
             "colorbar": {
              "outlinewidth": 0,
              "ticks": ""
             }
            },
            "type": "scatterpolargl"
           }
          ],
          "scatterternary": [
           {
            "marker": {
             "colorbar": {
              "outlinewidth": 0,
              "ticks": ""
             }
            },
            "type": "scatterternary"
           }
          ],
          "surface": [
           {
            "colorbar": {
             "outlinewidth": 0,
             "ticks": ""
            },
            "colorscale": [
             [
              0,
              "#0d0887"
             ],
             [
              0.1111111111111111,
              "#46039f"
             ],
             [
              0.2222222222222222,
              "#7201a8"
             ],
             [
              0.3333333333333333,
              "#9c179e"
             ],
             [
              0.4444444444444444,
              "#bd3786"
             ],
             [
              0.5555555555555556,
              "#d8576b"
             ],
             [
              0.6666666666666666,
              "#ed7953"
             ],
             [
              0.7777777777777778,
              "#fb9f3a"
             ],
             [
              0.8888888888888888,
              "#fdca26"
             ],
             [
              1,
              "#f0f921"
             ]
            ],
            "type": "surface"
           }
          ],
          "table": [
           {
            "cells": {
             "fill": {
              "color": "#EBF0F8"
             },
             "line": {
              "color": "white"
             }
            },
            "header": {
             "fill": {
              "color": "#C8D4E3"
             },
             "line": {
              "color": "white"
             }
            },
            "type": "table"
           }
          ]
         },
         "layout": {
          "annotationdefaults": {
           "arrowcolor": "#2a3f5f",
           "arrowhead": 0,
           "arrowwidth": 1
          },
          "autotypenumbers": "strict",
          "coloraxis": {
           "colorbar": {
            "outlinewidth": 0,
            "ticks": ""
           }
          },
          "colorscale": {
           "diverging": [
            [
             0,
             "#8e0152"
            ],
            [
             0.1,
             "#c51b7d"
            ],
            [
             0.2,
             "#de77ae"
            ],
            [
             0.3,
             "#f1b6da"
            ],
            [
             0.4,
             "#fde0ef"
            ],
            [
             0.5,
             "#f7f7f7"
            ],
            [
             0.6,
             "#e6f5d0"
            ],
            [
             0.7,
             "#b8e186"
            ],
            [
             0.8,
             "#7fbc41"
            ],
            [
             0.9,
             "#4d9221"
            ],
            [
             1,
             "#276419"
            ]
           ],
           "sequential": [
            [
             0,
             "#0d0887"
            ],
            [
             0.1111111111111111,
             "#46039f"
            ],
            [
             0.2222222222222222,
             "#7201a8"
            ],
            [
             0.3333333333333333,
             "#9c179e"
            ],
            [
             0.4444444444444444,
             "#bd3786"
            ],
            [
             0.5555555555555556,
             "#d8576b"
            ],
            [
             0.6666666666666666,
             "#ed7953"
            ],
            [
             0.7777777777777778,
             "#fb9f3a"
            ],
            [
             0.8888888888888888,
             "#fdca26"
            ],
            [
             1,
             "#f0f921"
            ]
           ],
           "sequentialminus": [
            [
             0,
             "#0d0887"
            ],
            [
             0.1111111111111111,
             "#46039f"
            ],
            [
             0.2222222222222222,
             "#7201a8"
            ],
            [
             0.3333333333333333,
             "#9c179e"
            ],
            [
             0.4444444444444444,
             "#bd3786"
            ],
            [
             0.5555555555555556,
             "#d8576b"
            ],
            [
             0.6666666666666666,
             "#ed7953"
            ],
            [
             0.7777777777777778,
             "#fb9f3a"
            ],
            [
             0.8888888888888888,
             "#fdca26"
            ],
            [
             1,
             "#f0f921"
            ]
           ]
          },
          "colorway": [
           "#636efa",
           "#EF553B",
           "#00cc96",
           "#ab63fa",
           "#FFA15A",
           "#19d3f3",
           "#FF6692",
           "#B6E880",
           "#FF97FF",
           "#FECB52"
          ],
          "font": {
           "color": "#2a3f5f"
          },
          "geo": {
           "bgcolor": "white",
           "lakecolor": "white",
           "landcolor": "#E5ECF6",
           "showlakes": true,
           "showland": true,
           "subunitcolor": "white"
          },
          "hoverlabel": {
           "align": "left"
          },
          "hovermode": "closest",
          "mapbox": {
           "style": "light"
          },
          "paper_bgcolor": "white",
          "plot_bgcolor": "#E5ECF6",
          "polar": {
           "angularaxis": {
            "gridcolor": "white",
            "linecolor": "white",
            "ticks": ""
           },
           "bgcolor": "#E5ECF6",
           "radialaxis": {
            "gridcolor": "white",
            "linecolor": "white",
            "ticks": ""
           }
          },
          "scene": {
           "xaxis": {
            "backgroundcolor": "#E5ECF6",
            "gridcolor": "white",
            "gridwidth": 2,
            "linecolor": "white",
            "showbackground": true,
            "ticks": "",
            "zerolinecolor": "white"
           },
           "yaxis": {
            "backgroundcolor": "#E5ECF6",
            "gridcolor": "white",
            "gridwidth": 2,
            "linecolor": "white",
            "showbackground": true,
            "ticks": "",
            "zerolinecolor": "white"
           },
           "zaxis": {
            "backgroundcolor": "#E5ECF6",
            "gridcolor": "white",
            "gridwidth": 2,
            "linecolor": "white",
            "showbackground": true,
            "ticks": "",
            "zerolinecolor": "white"
           }
          },
          "shapedefaults": {
           "line": {
            "color": "#2a3f5f"
           }
          },
          "ternary": {
           "aaxis": {
            "gridcolor": "white",
            "linecolor": "white",
            "ticks": ""
           },
           "baxis": {
            "gridcolor": "white",
            "linecolor": "white",
            "ticks": ""
           },
           "bgcolor": "#E5ECF6",
           "caxis": {
            "gridcolor": "white",
            "linecolor": "white",
            "ticks": ""
           }
          },
          "title": {
           "x": 0.05
          },
          "xaxis": {
           "automargin": true,
           "gridcolor": "white",
           "linecolor": "white",
           "ticks": "",
           "title": {
            "standoff": 15
           },
           "zerolinecolor": "white",
           "zerolinewidth": 2
          },
          "yaxis": {
           "automargin": true,
           "gridcolor": "white",
           "linecolor": "white",
           "ticks": "",
           "title": {
            "standoff": 15
           },
           "zerolinecolor": "white",
           "zerolinewidth": 2
          }
         }
        },
        "xaxis": {
         "anchor": "y",
         "domain": [
          0,
          1
         ],
         "title": {
          "text": "PC1"
         }
        },
        "yaxis": {
         "anchor": "x",
         "domain": [
          0,
          1
         ],
         "title": {
          "text": "PC2"
         }
        }
       }
      },
      "text/html": [
       "<div>                            <div id=\"e8cd7724-0698-48c1-ac2f-567a99837e60\" class=\"plotly-graph-div\" style=\"height:525px; width:100%;\"></div>            <script type=\"text/javascript\">                require([\"plotly\"], function(Plotly) {                    window.PLOTLYENV=window.PLOTLYENV || {};                                    if (document.getElementById(\"e8cd7724-0698-48c1-ac2f-567a99837e60\")) {                    Plotly.newPlot(                        \"e8cd7724-0698-48c1-ac2f-567a99837e60\",                        [{\"customdata\":[[0.341],[0.427],[0.207],[0.39],[0.427],[0.232],[0.415],[0.183],[0.378],[0.5],[0.268],[0.354],[0.305],[0.439],[0.183],[0.366],[0.39],[0.207],[0.378],[0.317],[0.28],[0.232],[0.402],[0.256],[0.354],[0.329],[0.256],[0.341],[0.28],[0.439],[0.366],[0.439],[0.427],[0.366],[0.207],[0.207],[0.463],[0.329],[0.341],[0.305],[0.293],[0.451],[0.341],[0.439],[0.28],[0.427],[0.451],[0.341],[0.5],[0.476],[0.256],[0.402],[0.354],[0.402],[0.512],[0.305],[0.159],[0.22],[0.415],[0.415],[0.366],[0.22],[0.402],[0.439],[0.329],[0.317]],\"hovertemplate\":\"Clusters=5<br>IS_REAL=True<br>PC1=%{x}<br>PC2=%{y}<br>WIN%=%{customdata[0]}<extra></extra>\",\"legendgroup\":\"5, True\",\"marker\":{\"color\":\"#636efa\",\"symbol\":\"circle\"},\"mode\":\"markers\",\"name\":\"5, True\",\"orientation\":\"v\",\"showlegend\":true,\"type\":\"scatter\",\"x\":[-0.9730691774249959,-0.6424663453970718,-1.7118211936059802,-0.7569446729272279,-0.504743061597678,-1.1090031701687153,-0.4719061574944315,-1.1615385658366888,-0.6203961814215105,-0.7027296347215153,-1.014332837979797,-0.7928618953921758,-1.1580004616950133,-0.7653598436647226,-1.2937271149688427,-1.1295212557642997,-0.9052610371326095,-1.333079348555254,-0.9568575317863613,-1.1378331695599186,-0.8861808558205175,-1.2206487087774662,-0.82399389349964,-1.1001002035043597,-0.5931457637391443,-1.0394668613494455,-1.134951478018693,-0.9716052633368489,-1.1195890775085438,-0.9225000887650863,-0.7696855271782737,-0.6360762144833142,-0.7977358190920135,-0.8795766152427975,-1.336034382076462,-1.7795174395989348,-0.6614092228547527,-0.9825809902602669,-0.5099506428469095,-1.290095179282529,-1.082794745123984,-0.8606174679877546,-0.9684625141396893,-0.6882584203811407,-1.1317819010451378,-0.8884335461641546,-0.7371936887087774,-1.1327538222458235,-0.8640915566712936,-0.7343679597169106,-1.0001216586688668,-1.174081937001531,-0.856627578072798,-1.0583198896308312,-1.3624498751701803,-1.3173535670188248,-1.2472114126938596,-0.9693302144559323,-0.4617876153431507,-0.5327486681698205,-0.643941435792015,-1.2707729444268498,-0.6346638369122225,-0.706595625023946,-0.8812693204946422,-1.0869497211708812],\"xaxis\":\"x\",\"y\":[0.16438874693459504,-0.03736408526014416,0.3228525818971309,-0.05779554327828391,-0.10479124443076343,0.3906265703045947,-0.11116481214374267,0.7286651203463608,0.008163391498340986,-0.18006797782872536,0.12806142078520671,-0.021373764842075413,0.22176418226123482,-0.052583206545647236,0.2320322233501388,-0.062343136851850306,-0.06458580550614852,0.41374753665318426,-0.09967449892060679,0.18902159000979366,0.04282717193249661,0.17876548929326733,0.09027949424349087,0.18270458227358508,-0.20390482130639065,0.1754041102235559,0.14932237699321294,0.17362443602787947,0.16794095236448586,-0.3208626300030135,0.01916878332362709,-0.16528298733080124,-0.12171248663377801,0.054132173861685805,0.3634803120147571,0.29115588567660244,-0.1860865563522064,0.008239538663287072,-0.08303447517623161,0.1718508416348315,0.20628836507845139,-0.32905999432250577,0.053517118723402,-0.11491615189050447,0.18473877024847785,-0.2708634797517896,-0.22571896193757277,-0.025680404287558172,-0.2670502540600019,-0.24233291450862243,0.37211627355634,-0.21192231611664297,0.11128702934084625,-0.08556966480917538,-0.467064898228466,0.19483340687794173,0.4970048594018521,0.09267598267230999,0.026384112861002132,0.017353749502987764,-0.13703575075972332,0.24137003474480145,-0.0631357318405405,-0.14564501008858644,-0.12013016431732461,-0.21729890789874762],\"yaxis\":\"y\"},{\"customdata\":[[0.598],[0.488],[0.512],[0.683],[0.817],[0.634],[0.512],[0.61],[0.61],[0.598],[0.646],[0.72],[0.537],[0.646],[0.549],[0.549],[0.671],[0.561],[0.646],[0.488],[0.549],[0.5],[0.683],[0.61],[0.634],[0.573],[0.585],[0.524],[0.683],[0.622],[0.61],[0.671],[0.707],[0.537],[0.573],[0.646],[0.598],[0.537],[0.695],[0.61],[0.512],[0.476],[0.707],[0.5],[0.61],[0.634],[0.537],[0.524],[0.598],[0.744],[0.707],[0.549],[0.512],[0.537],[0.451],[0.537],[0.732],[0.61],[0.524],[0.585],[0.61],[0.512],[0.622],[0.598],[0.573],[0.451],[0.512],[0.585],[0.537],[0.61],[0.72],[0.732],[0.488],[0.573],[0.634],[0.524],[0.659],[0.549],[0.744],[0.683],[0.61],[0.512],[0.5],[0.707],[0.573],[0.5],[0.671],[0.695],[0.451],[0.549],[0.573],[0.512],[0.707],[0.598],[0.659],[0.622],[0.537],[0.451],[0.549],[0.537],[0.512],[0.524],[0.61],[0.72],[0.634],[0.402],[0.549]],\"hovertemplate\":\"Clusters=0<br>IS_REAL=True<br>PC1=%{x}<br>PC2=%{y}<br>WIN%=%{customdata[0]}<extra></extra>\",\"legendgroup\":\"0, True\",\"marker\":{\"color\":\"#EF553B\",\"symbol\":\"circle\"},\"mode\":\"markers\",\"name\":\"0, True\",\"orientation\":\"v\",\"showlegend\":true,\"type\":\"scatter\",\"x\":[-0.22516385676208217,-0.11826787182516897,-0.3059692725702235,0.13911770426775957,-0.04473843673509734,-0.26981581920681735,-0.2983150766602705,-0.06675924528258635,-0.5678648930894618,-0.8616743335073619,-0.19252988319225858,-0.16920418820158573,-0.05122024574198984,-0.3050069346775611,-0.29889302633871895,-0.47254715812469983,-0.2705736749553513,-0.6421279059361104,-0.07721641112250588,-0.4589810217698924,-0.4423087153874943,-0.7076206061520678,-0.21983271776849203,-0.7223254429236589,-0.038454104583383775,-0.22051229345666643,-0.7195139875949823,-0.626865959313842,-0.7184047043625201,-0.5955041287159752,-0.2981864636924451,-0.13194753688182326,-0.17630608633938363,-0.5146599940038348,-0.3044459036485576,-0.34089603324100337,-0.3499511320960987,-0.6786086719517157,0.26309740364600154,-0.3592757519045876,-0.5168967763131571,-0.6911995396027643,0.04842238189014264,-0.16724444621122586,-0.0618898093457106,-0.36016936125891125,-0.16934901856353948,-0.9929093577509015,-0.3297386155789347,0.21777774942784683,-0.35959282929778563,-0.18206147949843662,-0.8169078187141106,-0.8026214365611734,-0.7190868748457377,-0.6501391145295361,0.3446942218832574,-0.5878024446733429,-0.7612199475101191,-0.4876807257486903,-0.22437491079935815,-0.13626528385553094,-0.09210329920679232,-0.49815484092277673,-0.6361056168794131,-0.33018232951719506,-0.5061270664865354,-0.6756965881051907,-0.6664178808488661,-0.5034504379907757,0.19935921032472143,-0.46584101612652123,-0.6126537397081003,-0.6405687610301459,0.21476804543289754,-0.722877239815444,-0.7998061232807869,-0.738278014104216,-0.613866728678488,-0.2570024512101671,-0.5583867572960092,-0.8353913873074599,-0.3589165913789597,-0.11695668179364434,-0.5095602682261573,-0.8111395539207769,0.2619824767046249,-0.5636811521923937,-0.37265175264928185,-0.37553297468030467,-0.7283624760994549,-0.6602511925300482,-0.2019827730059381,-0.37381595450668176,-0.5698528511346918,-0.30464679749204915,-0.7855830312357955,-0.6831759019368109,-0.6533800134862539,-0.2141098500544299,-0.7735149700523511,-0.4600552640580081,0.08557057721947847,-0.2693494170964726,-0.4948884122549956,-0.2901587679587103,-0.6633422965347063],\"xaxis\":\"x\",\"y\":[-0.7033719925996718,-0.04197666410564486,-0.24511913822712875,-0.6261527662355341,-1.0342517796130375,-0.7350022780338868,-0.3311511820621937,-0.7198431249450815,-0.38775595737280455,-0.434843451499396,-0.734350067291219,-0.9858093442932496,-0.212561382602275,-0.8901695849083905,-0.21564050899888726,-0.3981728442963592,-0.9546773148009621,-0.7034185651640331,-0.5188182700133012,-0.16803407817478372,-0.3803815837906585,-0.4176712293404343,-0.7276567382200664,-0.49979370690771674,-0.547469639491501,-0.6080012699840586,-0.5081130181121918,-0.31084932895513834,-0.7332465306391347,-0.5450001205497372,-0.8701763406370687,-0.6162294622091017,-1.0856219972606196,-0.3222060312388309,-0.6098456548757214,-1.036535566499424,-0.25424763570578296,-0.5227484917093028,-0.48510834160956223,-0.599400259599975,-0.4123015001457687,-0.3194176593988489,-0.8317318507698329,-0.3071764431851798,-0.6758906731499034,-0.7064653854317079,-0.2550472720615109,-0.5195016864511451,-0.6459763689212223,-0.8359396293298281,-0.8345010768236031,-0.577375884206032,-0.3776776346940131,-0.733338472768082,-0.29194434255774004,-0.06848176693166232,-0.7483962743341827,-0.6395308414101137,-0.39982383792483384,-0.6732219818475392,-0.5683101881032707,-0.31399938617796197,-0.669393598764253,-0.7727796348866577,-0.5734953660109572,-0.09051801722461385,-0.12955861165550522,-0.5017289622098996,-0.3155564924564635,-0.6246557660782369,-0.7874304283388707,-0.8031219948854285,-0.3402525469560849,-0.9993540237828505,-0.5653074588923918,-0.41236820971251237,-0.9526807777796436,-0.47688586750980455,-0.8649988846303402,-0.7799206972672824,-0.6254479454651688,-0.2779625942196462,-0.4446217392786785,-0.939072935039471,-0.7109244002142432,-0.3823480847108631,-0.7963837663356689,-0.9567896916666029,-0.1758235106825376,-0.41857703350691733,-0.34416071632351514,-0.5320321341946744,-0.6732242400514517,-0.6475305750910603,-0.8622211134117457,-0.648959087053035,-0.3505576085539508,-0.5777631820208383,-0.5296104667785076,-0.5787891385698111,-0.31819884555361344,-0.1536866080120952,-0.5134774478338506,-0.9815544929671681,-0.38752612710936457,-0.015239600908226706,-0.1624979812781677],\"yaxis\":\"y\"},{\"customdata\":[[0.72],[0.756],[0.732],[0.78],[0.634],[0.768],[0.817],[0.646],[0.634],[0.707],[0.622],[0.805],[0.622],[0.72],[0.671],[0.695],[0.683],[0.634],[0.683],[0.659],[0.756],[0.805],[0.61],[0.659],[0.646],[0.793],[0.72],[0.561],[0.659],[0.659],[0.585],[0.646],[0.61],[0.744],[0.671],[0.646],[0.695],[0.72],[0.659],[0.61],[0.646],[0.683],[0.756],[0.695],[0.61],[0.695],[0.707],[0.671],[0.634],[0.744],[0.758],[0.576],[0.697],[0.712],[0.758],[0.695],[0.683],[0.805],[0.659],[0.732],[0.707],[0.659],[0.683],[0.695],[0.659],[0.72],[0.756],[0.732],[0.646],[0.683],[0.671],[0.671],[0.695],[0.646],[0.671],[0.817],[0.683],[0.744],[0.622]],\"hovertemplate\":\"Clusters=3<br>IS_REAL=True<br>PC1=%{x}<br>PC2=%{y}<br>WIN%=%{customdata[0]}<extra></extra>\",\"legendgroup\":\"3, True\",\"marker\":{\"color\":\"#00cc96\",\"symbol\":\"circle\"},\"mode\":\"markers\",\"name\":\"3, True\",\"orientation\":\"v\",\"showlegend\":true,\"type\":\"scatter\",\"x\":[0.0764425382060915,0.5987005730168498,-0.11121642439328,0.3535894244260616,0.21952294844224404,0.17604431921953007,0.2678878455043736,0.015523054446484852,0.1476140636549178,0.4485826263690747,0.044284226858576047,0.40707628264304996,0.28648471984291074,0.24160462511935735,0.06851864631149564,0.8098681512458432,0.5125163951724969,0.5704933149287408,0.2697553576597559,0.5924609501721072,0.38207245625954245,0.4365500189721949,0.3887500749153194,0.21092487246303168,0.1533761681558545,0.621828506902083,0.4191508941609818,0.6030542253057224,0.16856929974699095,0.451200286808711,0.23881539016924558,0.32200254804904566,0.2647965389828081,0.5809690729793954,0.5089169294588303,0.309738097370676,0.2822003280834593,0.5937420404049888,0.7972684183718606,0.3704436929032412,0.5385906373398885,0.31427442270748884,0.17666592015741112,0.5621125558732806,0.5848009651186059,0.3262080974194427,0.4509795990021441,0.22767203355612195,0.24412839200683384,0.6566065917039569,0.06727965149464099,0.258833562261779,0.03778031804262574,0.10223553293076472,0.695932132284533,0.3365200044489852,0.4239605411974264,0.8011424500749269,0.3578322499532309,0.6101903704987,0.8131887230587403,0.47835560689892026,0.07900733604661164,0.7891994011035306,0.634975689074909,0.6024485952654495,1.0009778132469092,0.7721248274519018,0.4781473608883875,1.0095665886426095,0.15947218837975788,0.7318682751457463,0.7497235099072433,0.7428200681666022,0.7015346644842146,1.0273651841348057,0.3355623235709874,0.9049875013960186,0.5339782214113645],\"xaxis\":\"x\",\"y\":[-0.9535394271533022,-0.6601083481950578,-0.5036870352670625,-0.7906273222490381,-0.31372274751002033,-0.6017657198214937,-0.5738350608797436,-0.4761425849803377,-0.24796300795119697,-0.6655676498044603,-0.3985604044735707,-0.8198055611175341,-0.33326680901364575,-0.7287190100568196,-0.32853322789505796,-0.45579759968056566,-0.33630262173551645,-0.17941655160529013,-0.336191323585834,-0.6575727138972944,-0.6742167010237977,-0.660690192668319,-0.1425201123952474,-0.2759079183996868,-0.21844718057599782,-0.4912948507641982,-0.3279745012444845,-0.11446512577469647,-0.45604697073465755,-0.2533048845384886,-0.31474340200762474,-0.3297202630951309,-0.3779356407430918,-0.5753848462697247,-0.2963235840964728,-0.17328679760090737,-0.23720470011957762,-0.3814282453795811,-0.2552274585680178,-0.28721379286605914,-0.5632437724810362,-0.5896751757556034,-0.5985224457632373,-0.4059025568689818,-0.15667897660713026,-0.4334396099468186,-0.5610455657252843,-0.28832890523489446,-0.2578141725602814,-0.3717700925655865,-0.7642654628564252,-0.1786402514324669,-0.48881440423124134,-0.37866022945404443,-0.4654449320400918,-0.3301850539559217,-0.551936507342253,-0.6879807420368942,-0.0678825003006437,-0.688513191557833,-0.4457752706975113,-0.12828624560875462,-0.2650188798520028,-0.4408938308181611,-0.37604486276241933,-0.3766889538272967,-0.4890160278918398,-0.39018235480665314,-0.14776597668924524,-0.4027199734175574,-0.21694542190053437,-0.37868469778209046,-0.18376534268710862,-0.16108907884878546,-0.3450729969472156,-0.7865836846199931,-0.11436401813530897,-0.4735235439345123,-0.16206032425207614],\"yaxis\":\"y\"},{\"customdata\":[[0.317],[0.317],[0.415],[0.28],[0.256],[0.427],[0.329],[0.366],[0.293],[0.402],[0.427],[0.268],[0.341],[0.402],[0.39],[0.378],[0.39],[0.402],[0.28],[0.268],[0.183],[0.317],[0.268],[0.28],[0.244],[0.232],[0.293],[0.293],[0.28],[0.207],[0.232],[0.329],[0.354],[0.183],[0.146],[0.329],[0.305],[0.317],[0.232],[0.366],[0.39],[0.207],[0.293],[0.293],[0.268],[0.28],[0.106],[0.318],[0.379],[0.394],[0.333],[0.318],[0.333],[0.348],[0.303],[0.256],[0.293],[0.354],[0.378],[0.329],[0.244],[0.305],[0.341],[0.354],[0.305],[0.402],[0.354],[0.183],[0.28],[0.232],[0.341],[0.305],[0.366],[0.256],[0.195],[0.207],[0.305],[0.22],[0.354],[0.207],[0.402],[0.122],[0.28]],\"hovertemplate\":\"Clusters=1<br>IS_REAL=True<br>PC1=%{x}<br>PC2=%{y}<br>WIN%=%{customdata[0]}<extra></extra>\",\"legendgroup\":\"1, True\",\"marker\":{\"color\":\"#ab63fa\",\"symbol\":\"circle\"},\"mode\":\"markers\",\"name\":\"1, True\",\"orientation\":\"v\",\"showlegend\":true,\"type\":\"scatter\",\"x\":[-0.5987896172984557,-0.5079078127315197,-0.22646159822051554,-0.9005792318879614,-1.0131600525580358,-0.14189720561496805,-0.05364283049089447,-0.7868580365807025,-0.5691099627679715,-0.36250057789566154,-0.47453464306578697,-0.24465446631985008,-0.2291299918047889,-0.5294754830470273,-0.6188099397319318,-0.2093592608961684,-0.3089820648647836,-0.32936980177362585,-0.4936221805082382,-0.12327418442753704,-0.5903109462244143,-0.4159208330759647,-0.5065614915068107,-0.5595965552156248,-0.4490143311305365,-0.4641744897217419,-0.6492223329390494,-0.3311958887202576,-0.4902096152946609,-0.35265640025165684,-0.5012896130911518,-0.6482852600330555,-0.3012315762809438,-0.4944168281219548,-0.8085242025889561,-0.18930038118664505,-0.2516426651287377,-0.4683715706444922,-0.4579580759182442,-0.2167914851881259,-0.2527403432279658,-0.3683682605904949,-0.45380385874956397,-0.4140611523694473,-0.33679595107647264,-0.6206467658088056,-1.1517325402131084,-0.8059756683904055,-0.8467526251833595,-0.3470734062387681,-0.6287251732670469,-0.7221310393795591,-0.5221151333037878,-0.5805045988274128,-0.6555788334037245,-0.7393602429836224,-0.4481629991880411,-0.41476896491409915,-0.3077419671138084,-0.3852725563350019,-0.24229784981789448,-0.39533886413914276,-0.21384478192559467,-0.29048924522610087,-0.3279096466665656,-0.16821145685426378,-0.254253194998207,-0.4705854100960366,-0.18457841083019919,-0.4556733321799959,-0.2544776777892577,-0.36966897416097305,-0.08190342083128248,-0.19267088270292576,-0.4734906972874543,-0.5297113137727004,-0.20896766421665156,-0.8285374024648727,-0.19075668559985576,-0.462988207886424,-0.05506473918871137,-0.3273272280960662,-0.14107183558578762],\"xaxis\":\"x\",\"y\":[0.36787550710000294,0.4474415822766901,0.3512633522549798,0.4999869192235657,0.6593826007404207,0.3289429780935217,0.4666361145721789,0.31088478221005694,0.366064607473096,0.2627744181404049,0.2227774196312821,0.5000060804203318,0.4803438648818997,0.2996749017291758,0.3358066101215837,0.28031126294078856,0.3405267687134655,0.24473493010353578,0.46293857051689047,0.7599435519332037,0.633197640002464,0.49025167780682505,0.6488249172167377,0.6946737944281172,0.7058242282584872,0.6734333510024171,0.5110048187101269,0.5273389057070397,0.46990927349971995,0.8074508246048266,0.5996381559172593,0.42412281635092053,0.383949952344686,0.895840533087977,0.7876366515665822,0.2733632866903411,0.510073321950358,0.48392113067501397,0.7511482060929435,0.2402969947161073,0.2232996301461013,0.7306063771378777,0.46428648251045246,0.5638824937856529,0.4967872746301073,0.6347762551744873,0.9845984325347203,0.6176938648339534,0.386156714655809,0.37494894571188614,0.5154917867307703,0.15043154619218946,0.671282318772411,0.1766300427134257,0.4500746447552367,0.7629709332905457,0.5719874273008505,0.33989379776120476,0.22882856929889137,0.3140042109966833,0.5674727258874418,0.5013970719173264,0.5731854202764861,0.24370825494375384,0.49162795881349375,0.4060407594217343,0.4450112500247872,0.6513837831952247,0.5522988293471014,1.042542104299521,0.4806765390265571,0.5980571569443568,0.5616862573653058,0.6523338410484295,0.6833706992695261,0.7048797394293252,0.6134123908827921,0.8506662798802094,0.4167789517011253,1.0542542690056667,0.2662176603266137,1.0264745188484794,0.8332395093719552],\"yaxis\":\"y\"},{\"customdata\":[[0.402],[0.5],[0.61],[0.537],[0.415],[0.5],[0.573],[0.549],[0.598],[0.488],[0.402],[0.598],[0.463],[0.439],[0.463],[0.537],[0.5],[0.512],[0.598],[0.61],[0.549],[0.488],[0.512],[0.537],[0.39],[0.5],[0.476],[0.488],[0.427],[0.402],[0.573],[0.5],[0.451],[0.549],[0.415],[0.488],[0.5],[0.463],[0.524],[0.573],[0.427],[0.5],[0.476],[0.524],[0.415],[0.415],[0.598],[0.5],[0.402],[0.537],[0.5],[0.512],[0.488],[0.573],[0.561],[0.61],[0.61],[0.488],[0.537],[0.415],[0.451],[0.561],[0.427],[0.561],[0.5],[0.585],[0.476],[0.606],[0.591],[0.545],[0.515],[0.636],[0.606],[0.621],[0.621],[0.47],[0.545],[0.561],[0.53],[0.5],[0.424],[0.545],[0.506],[0.598],[0.549],[0.605],[0.683],[0.415],[0.402],[0.415],[0.524],[0.537],[0.524],[0.585],[0.61],[0.415],[0.451],[0.585],[0.463],[0.402],[0.463],[0.451],[0.5],[0.463],[0.512],[0.39],[0.488]],\"hovertemplate\":\"Clusters=4<br>IS_REAL=True<br>PC1=%{x}<br>PC2=%{y}<br>WIN%=%{customdata[0]}<extra></extra>\",\"legendgroup\":\"4, True\",\"marker\":{\"color\":\"#FFA15A\",\"symbol\":\"circle\"},\"mode\":\"markers\",\"name\":\"4, True\",\"orientation\":\"v\",\"showlegend\":true,\"type\":\"scatter\",\"x\":[-0.25595971937175455,-0.07424898055081992,-0.1476932053558389,-0.060003098556583805,-0.5736367749795568,-0.34232436079968537,-0.055337801008402285,0.022089059422081538,-0.30125193935641403,-0.11855981609158854,-0.491089026842346,-0.07317667277557731,-0.569379189175327,-0.5010367046087966,-0.18159992548926127,0.021623103909545423,-0.7138847861805351,-0.18201699781578715,0.010932173604615078,-0.13684568680240386,0.12388509480481827,-0.2676877761331975,0.1502749299672136,-0.13934073734023253,-0.21746084658005027,0.09278528908357193,-0.35470074799718154,-0.5354871551023255,-0.4560721914969276,-0.0859224899588047,0.3020484647855136,-0.00023613091288591842,-0.25409521470569857,-0.2605437324644235,-0.25369940305926475,-0.4047463146251165,-0.08654120965756484,-0.1085692857144499,-0.10097709684804919,0.04621704380942961,-0.43072599045699395,-0.01501242998919684,-0.174829871211241,0.08761599790817524,-0.1156951436101038,-0.07045681780986902,0.08400033741457952,-0.3538019643126162,0.1217716447277938,-0.32712847749294505,-0.1856649021467702,0.06631160906497595,-0.24574758225285637,-0.06875753640883596,0.04959129803078784,0.005159405324311511,0.08076924852829787,0.32183770378951565,0.025323454339273434,-0.4283946024218846,-0.13522260795486607,-0.12672800376079776,-0.44504105729440957,-0.06601854112541053,0.19792169236521306,-0.09320737786433038,-0.04480861215772942,0.13101712457526313,-0.044540887543278194,0.017194331672107734,-0.09199736835506218,-0.3176119841621573,-0.03241714564488058,-0.01873876850456592,-0.4612068653653738,-0.021180199456759443,-0.1912030824671852,-0.14057087084326275,0.09001397155226644,0.06302934720667089,-0.1755506317562695,-0.20850558010575962,0.08492179754685361,-0.12012634098417879,-0.2818813969269056,-0.236573749923045,-0.29305787164829594,-0.15045631627841072,-0.031075912999580655,-0.12360727751549283,-0.09983780495523302,0.07768643165671951,0.12165583543731394,-0.20287713894091344,-0.003090700865048765,-0.08652228510015712,0.12879841192340855,0.1716101350409681,-0.016613886218981837,-0.15518283348369347,0.09081874695072428,-0.2397683785808854,-0.006126420337916864,-0.24599163624005105,-0.12060092438472432,0.059389965178551274,-0.02326094886200672],\"xaxis\":\"x\",\"y\":[0.1410426913574903,0.076805576107073,-0.1178205777869774,-0.08798465098459986,0.11849157873601437,-0.11093599148928633,-0.22799055125052872,-0.11996655427467709,-0.2484323351642425,0.11619311052708184,0.010574914907855351,-0.21873879463284926,0.2208029825497633,0.0051551702124446605,0.1454367906633955,-0.08979264433748702,-0.08498537070496029,0.048625438484912624,-0.3242186888546831,-0.22861722574787213,-0.04863329448917782,-0.18052584610156974,0.09756639335987022,-0.013336519303236542,0.16457629526889897,0.010581982510170182,0.22024015076114734,-0.10922329486767703,0.09761886070940158,0.3274345599792293,-0.05365513335655024,0.2161810668188819,-0.004636664582188051,0.0407950225679488,0.1927501064928578,-0.059296842250366674,-0.007423214280142334,0.34331836810232563,0.08283545151053896,-0.10217574582108045,0.02913224647619642,0.08104332952103818,-0.05147371824997474,0.012018509579488895,0.17335550381947012,0.2761915641815868,-0.15499812831610604,-0.0517283419864266,0.17608597466340928,-0.12906162820593303,0.1309181244025088,0.27656602442314515,0.25831128430413436,-0.13021855313308983,0.09783756040990668,-0.22982900667494024,-0.2927291407453608,0.1411755133647789,-0.019956443767189913,0.2217475277515681,0.3012345918459384,-0.11301563467131137,0.18366022947770672,-0.12508250070584104,-0.09329279222353537,-0.1787396588085593,-0.017209305654396413,-0.2652006107494603,-0.38926994954157434,-0.024260832346196318,0.07948784445386527,-0.16982739516479395,-0.19245231630311624,-0.2627099054115892,-0.1734430481581404,-0.001295706546345663,-0.047440287016098516,0.010911743844405136,-0.3417078515398668,0.020074081792011735,0.15858689674258514,-0.11450183634302716,0.0002795493883506688,-0.11561047868378664,-0.16148230804525648,-0.2534233249992725,-0.3864679434666252,0.23189479757436812,0.3408886219794233,0.1800697383251443,-0.06790943243151383,0.12733788062575468,0.05775312841594206,-0.22516607144716516,-0.2036318203458569,0.22502521879150755,0.21253197541931768,-0.08304421280341326,0.3367342807901713,0.4118340243336223,0.154969635748126,0.20792531725788002,-0.03357809392005087,-0.0036619250499033964,0.2800643723727233,0.3305189986010246,0.06538713226675567],\"yaxis\":\"y\"},{\"customdata\":[[0.659],[0.744],[0.671],[0.817],[0.89],[0.646],[0.622],[0.488],[0.817],[0.671],[0.622],[0.61],[0.561],[0.707],[0.793],[0.585],[0.634],[0.72],[0.598],[0.512],[0.659],[0.695],[0.646],[0.585],[0.585],[0.451],[0.732],[0.402],[0.598],[0.512],[0.622],[0.646],[0.476],[0.585],[0.707],[0.61],[0.667],[0.486],[0.573],[0.63],[0.611],[0.616],[0.681],[0.732],[0.466],[0.603],[0.767],[0.417],[0.611],[0.589],[0.466],[0.473],[0.451],[0.736],[0.611]],\"hovertemplate\":\"Clusters=6<br>IS_REAL=True<br>PC1=%{x}<br>PC2=%{y}<br>WIN%=%{customdata[0]}<extra></extra>\",\"legendgroup\":\"6, True\",\"marker\":{\"color\":\"#19d3f3\",\"symbol\":\"circle\"},\"mode\":\"markers\",\"name\":\"6, True\",\"orientation\":\"v\",\"showlegend\":true,\"type\":\"scatter\",\"x\":[1.1733584190362945,1.1631123117034015,1.1253931045297958,1.2803277586291342,1.6526945732746157,0.9240205893751404,1.0608653067313332,0.9217434566272499,1.7294840410277599,1.1769473722878325,1.0064576584865017,1.11106613456318,0.9370956674148697,1.575443272830858,1.2506283103051752,1.2253032291026105,1.0052846647533904,1.1862857641325026,1.3715013647071534,0.8287540211623945,1.149052976235552,1.7971238253305473,1.0401441801605953,0.9818374238512398,0.9924678735803584,0.8864618586937997,1.7420886832790705,1.1006860091728554,0.9671402734447718,1.0163048570820366,1.2317531877430516,1.094305181679143,1.074402844498982,1.2960749060902856,1.360339494793369,1.1801512042806739,1.0918414047953242,0.8780526179947075,1.4884931145055764,1.097729930315113,1.1196438891702725,1.1117528813477424,1.2317539041160597,1.1806694249434442,1.0275743082706634,1.2306458952116406,1.7643144128527315,1.0891870698891988,0.9562702097462981,1.0972582908233117,1.109888008149031,1.0005098173674718,1.2316501940800018,1.1765290033853892,1.0536866016706823],\"xaxis\":\"x\",\"y\":[-0.2662728974738521,-0.4463643062123151,-0.4071975129443693,-0.6456045071240485,-0.6419769053514827,0.03995209037063801,0.13141381041904324,0.18804913735427067,-0.7666158874367974,0.022870016430547743,-0.09182571175382931,0.23285153726443972,0.10354143600985818,-0.4428785155288354,-0.10598930903649564,0.09335714540952418,-0.1598530898753626,-0.20315709577621285,0.0034155914673282424,0.4850155507472715,-0.07947380736686475,-0.26707136015007826,0.26468735292768036,-0.0598919936575623,0.28293792477548135,0.48260331630011144,-0.13816170073749723,0.43888369984947173,0.29804894623019196,0.21144616093624838,-0.023928990367649262,0.10185008066726395,0.4910008629252065,0.09511689219227785,-0.0780300732745698,-0.09849299227839504,0.005525236286313989,0.47378185575276516,0.14874114422095405,-0.00649078902925701,0.4900320495412514,0.055545285461150964,0.0010834779628511866,-0.1906011368385495,0.34756163666960344,-0.0112713670472709,-0.17490616401927636,0.47836824876221135,0.1862539555700646,0.004861191522358777,0.2687968592092062,0.613114863106407,0.3302662229912365,-0.059202467782705416,0.21301533254340402],\"yaxis\":\"y\"},{\"customdata\":[[0.512],[0.61],[0.585],[0.439],[0.5],[0.439],[0.451],[0.439],[0.524],[0.512],[0.488],[0.537],[0.5],[0.573],[0.549],[0.549],[0.463],[0.463],[0.598],[0.439],[0.622],[0.488],[0.585],[0.659],[0.537],[0.488],[0.61],[0.61],[0.39],[0.683],[0.549],[0.549],[0.476],[0.622],[0.598],[0.561],[0.585],[0.585],[0.585],[0.512],[0.512],[0.537],[0.5],[0.549],[0.585],[0.427],[0.537],[0.5],[0.524],[0.439],[0.5],[0.451],[0.512],[0.524],[0.5],[0.512],[0.378],[0.573],[0.5],[0.622],[0.598],[0.671],[0.439],[0.476],[0.585],[0.512],[0.537],[0.537],[0.573],[0.585],[0.598],[0.573],[0.585],[0.524],[0.5],[0.476],[0.452]],\"hovertemplate\":\"Clusters=2<br>IS_REAL=True<br>PC1=%{x}<br>PC2=%{y}<br>WIN%=%{customdata[0]}<extra></extra>\",\"legendgroup\":\"2, True\",\"marker\":{\"color\":\"#FF6692\",\"symbol\":\"circle\"},\"mode\":\"markers\",\"name\":\"2, True\",\"orientation\":\"v\",\"showlegend\":true,\"type\":\"scatter\",\"x\":[0.2905357526923939,0.6427071290030147,0.578133303613477,0.24730023249787036,0.5507037073338142,0.2862415506974256,0.21076726534982818,0.17383405844394212,0.44197024416324177,0.4341708823256293,0.46804952897881597,0.356143191907122,0.38342868984134443,0.3158340902296789,0.43351710528094733,0.26550161646895915,-0.02657089140798497,0.43854771379538193,0.6889216617033884,0.11231572846638146,0.6094402942705941,0.4129087089204042,0.3141279625965645,0.6649367491117155,0.31750108368887175,0.2904913909959669,0.2150199687366244,0.6341795707493815,-0.02335336743965081,0.24765135413541337,0.17451655805642058,0.20971059107964052,0.1701883949311641,0.6366904470183345,0.3366818848371203,0.24626182118829087,0.6895869797684734,0.5030371533811517,0.6540183270708846,0.28506987222933705,0.5363697782737605,0.1773421933991762,0.29279942622168725,0.3064606230921441,0.2962661084423792,0.3328107682840724,0.41824669203268616,0.5831799242542246,0.3556308103347917,0.75550447294548,0.34363334093715026,0.42420723933703647,0.5910367707358909,0.2247848231586489,0.41074333880193004,0.5854393602811382,0.3991382433505116,0.32866841299188976,0.5935664803601891,0.5188249566256253,0.8020735990623618,0.743143538926994,0.7446672471249848,0.6051509333941829,0.7005886344813336,0.6419204467265499,0.6322658575959255,0.6817191158005618,0.8211532878226134,0.5747938781793915,0.6074949480555861,0.6434214993903598,0.7625882647879549,0.757306425361999,0.5981744434646142,0.6299648787307601,0.7649218201826364],\"xaxis\":\"x\",\"y\":[0.24507974500877527,-0.17205454101558515,0.23856317922108958,0.34398130662562393,-0.23229480790285106,0.32805264048278193,0.2598149249096119,0.29219273492196096,-0.02630738721236667,0.15254500384099642,0.17493805984380656,-0.026806582063031232,0.08198451977300708,0.03295453995004165,0.021311043375919263,0.008575986033628892,0.17452574640501245,0.11197422974566883,-0.12043444084957113,0.37871883628181324,-0.14541287737079153,0.054469041512761204,0.12374609142344761,-0.14012257244759443,-0.01116587160826492,0.19782611963883875,-0.13399363741807616,0.0199270259988092,0.2977750199562849,0.014638236102997151,-0.039888875714194166,0.1121699139816598,0.3757350994966656,-0.05601003826039655,0.01537514343206866,-0.1312234089471398,-0.09719916753614156,0.0616493898509747,0.11822643452375574,0.248647955715026,0.28730207160068144,0.32881309798094804,0.24982648498157753,0.11490397649920771,-0.09472040633635202,0.3079992338641933,0.2684438846631056,0.22753128772234255,0.20890137414633,0.24535321811866811,0.10766019844571052,0.3733937620494559,0.18207834640262874,0.14429333187570356,0.21141836063941458,0.04029904700744898,0.16569278368315188,0.24099261353041476,0.3689576582786257,0.038107312928786004,0.07321176676410271,0.009526352141704124,0.3558550262517729,0.3275027214405294,0.1581647106733687,0.3216450049582949,0.2281739254588314,0.14023015385532714,0.028436235988597718,0.11862002731397896,0.22472630302859442,-0.06573693313507342,-0.04672308501342404,0.10805989277504655,0.45881146967571923,0.2967909908005973,0.338249071655244],\"yaxis\":\"y\"},{\"customdata\":[[0.6408470869064331]],\"hovertemplate\":\"Clusters=2<br>IS_REAL=False<br>PC1=%{x}<br>PC2=%{y}<br>WIN%=%{customdata[0]}<extra></extra>\",\"legendgroup\":\"2, False\",\"marker\":{\"color\":\"#FF6692\",\"symbol\":\"diamond\"},\"mode\":\"markers\",\"name\":\"2, False\",\"orientation\":\"v\",\"showlegend\":true,\"type\":\"scatter\",\"x\":[0.7433214453880821],\"xaxis\":\"x\",\"y\":[-0.28181708418492674],\"yaxis\":\"y\"},{\"customdata\":[[0.354],[0.39],[0.317],[0.39],[0.354],[0.348],[0.329],[0.256],[0.402],[0.354],[0.366],[0.402],[0.244],[0.402],[0.317],[0.415],[0.378],[0.354],[0.341],[0.293],[0.39],[0.293],[0.341],[0.329],[0.293],[0.427],[0.268],[0.354],[0.305],[0.256],[0.329],[0.354],[0.476],[0.268],[0.232],[0.402],[0.402],[0.439],[0.207],[0.232],[0.39],[0.299],[0.354],[0.338],[0.292],[0.303],[0.231],[0.297],[0.318],[0.431],[0.347]],\"hovertemplate\":\"Clusters=7<br>IS_REAL=True<br>PC1=%{x}<br>PC2=%{y}<br>WIN%=%{customdata[0]}<extra></extra>\",\"legendgroup\":\"7, True\",\"marker\":{\"color\":\"#B6E880\",\"symbol\":\"circle\"},\"mode\":\"markers\",\"name\":\"7, True\",\"orientation\":\"v\",\"showlegend\":true,\"type\":\"scatter\",\"x\":[0.1257553830379243,0.2522939218003748,0.3545370777880186,0.008231207519487433,0.20454635011982342,-0.03126107050337507,0.31282226570835636,-0.04617443377653618,0.10141789232162512,0.1053830639062071,0.36861656136510984,0.432958232185911,0.2782717148637151,0.4156963793828486,0.10886795048628495,0.6364605655122809,0.26056194816137235,0.19216209124312328,0.1714946215540325,0.07368584615967583,0.35082817594231175,0.4009854497985425,0.5862816288776901,0.45745281947036354,0.6645810466875522,0.5877270977407354,0.0045724768949978135,0.4362614440120942,0.44188136986891335,0.06410968143329698,0.1567615709945905,0.7527402418039257,0.8965340053675002,0.35686293833155824,0.2297277236307035,0.7778411721708769,0.5025536943173057,0.8462585839804643,0.12687873681044237,0.34926990801352614,1.030042949397955,0.5072740498903486,0.26293013532247383,0.41407789919794147,0.3661122648090186,0.5203609833092238,0.40939461991735754,0.7074367989519046,0.24708863276954576,0.8618676444106486,0.8723272891251873],\"xaxis\":\"x\",\"y\":[0.48205643444867274,0.6046408582416211,0.5898880925641375,0.4739425658876658,0.5225623249400598,0.30374436516944225,0.5961286466720989,0.6310171706507665,0.42512519178097524,0.23728965004177932,0.5408222700309359,0.3629794754076672,0.9125672175671312,0.4796317251539554,0.8253730323523372,0.40677961470272633,0.4679879509704713,0.6838507127771866,0.6129850051014436,0.7987069120720296,0.4291501300122063,0.708036798521866,0.6742429569816353,0.8075614946368009,0.6339134441272734,0.465838822924741,0.6748324113746822,0.4595301585706242,0.627295662545648,1.038255733249273,0.7182636481367227,0.8409341204239128,0.5144617982609736,0.9342425470368637,1.0886863580661237,0.5202929558460372,0.38025278089750597,0.42966182295719124,1.0912388499790093,0.9326140044378696,0.5421991187681747,0.9868491847131429,0.7010553177580967,0.6830868049702349,0.9093346380232687,0.5626082065097626,0.7858842274924751,0.8109998707361092,0.7301683355479793,0.525134752839055,0.7211840900264329],\"yaxis\":\"y\"}],                        {\"legend\":{\"title\":{\"text\":\"Clusters, IS_REAL\"},\"tracegroupgap\":0},\"margin\":{\"t\":60},\"template\":{\"data\":{\"bar\":[{\"error_x\":{\"color\":\"#2a3f5f\"},\"error_y\":{\"color\":\"#2a3f5f\"},\"marker\":{\"line\":{\"color\":\"#E5ECF6\",\"width\":0.5},\"pattern\":{\"fillmode\":\"overlay\",\"size\":10,\"solidity\":0.2}},\"type\":\"bar\"}],\"barpolar\":[{\"marker\":{\"line\":{\"color\":\"#E5ECF6\",\"width\":0.5},\"pattern\":{\"fillmode\":\"overlay\",\"size\":10,\"solidity\":0.2}},\"type\":\"barpolar\"}],\"carpet\":[{\"aaxis\":{\"endlinecolor\":\"#2a3f5f\",\"gridcolor\":\"white\",\"linecolor\":\"white\",\"minorgridcolor\":\"white\",\"startlinecolor\":\"#2a3f5f\"},\"baxis\":{\"endlinecolor\":\"#2a3f5f\",\"gridcolor\":\"white\",\"linecolor\":\"white\",\"minorgridcolor\":\"white\",\"startlinecolor\":\"#2a3f5f\"},\"type\":\"carpet\"}],\"choropleth\":[{\"colorbar\":{\"outlinewidth\":0,\"ticks\":\"\"},\"type\":\"choropleth\"}],\"contour\":[{\"colorbar\":{\"outlinewidth\":0,\"ticks\":\"\"},\"colorscale\":[[0.0,\"#0d0887\"],[0.1111111111111111,\"#46039f\"],[0.2222222222222222,\"#7201a8\"],[0.3333333333333333,\"#9c179e\"],[0.4444444444444444,\"#bd3786\"],[0.5555555555555556,\"#d8576b\"],[0.6666666666666666,\"#ed7953\"],[0.7777777777777778,\"#fb9f3a\"],[0.8888888888888888,\"#fdca26\"],[1.0,\"#f0f921\"]],\"type\":\"contour\"}],\"contourcarpet\":[{\"colorbar\":{\"outlinewidth\":0,\"ticks\":\"\"},\"type\":\"contourcarpet\"}],\"heatmap\":[{\"colorbar\":{\"outlinewidth\":0,\"ticks\":\"\"},\"colorscale\":[[0.0,\"#0d0887\"],[0.1111111111111111,\"#46039f\"],[0.2222222222222222,\"#7201a8\"],[0.3333333333333333,\"#9c179e\"],[0.4444444444444444,\"#bd3786\"],[0.5555555555555556,\"#d8576b\"],[0.6666666666666666,\"#ed7953\"],[0.7777777777777778,\"#fb9f3a\"],[0.8888888888888888,\"#fdca26\"],[1.0,\"#f0f921\"]],\"type\":\"heatmap\"}],\"heatmapgl\":[{\"colorbar\":{\"outlinewidth\":0,\"ticks\":\"\"},\"colorscale\":[[0.0,\"#0d0887\"],[0.1111111111111111,\"#46039f\"],[0.2222222222222222,\"#7201a8\"],[0.3333333333333333,\"#9c179e\"],[0.4444444444444444,\"#bd3786\"],[0.5555555555555556,\"#d8576b\"],[0.6666666666666666,\"#ed7953\"],[0.7777777777777778,\"#fb9f3a\"],[0.8888888888888888,\"#fdca26\"],[1.0,\"#f0f921\"]],\"type\":\"heatmapgl\"}],\"histogram\":[{\"marker\":{\"pattern\":{\"fillmode\":\"overlay\",\"size\":10,\"solidity\":0.2}},\"type\":\"histogram\"}],\"histogram2d\":[{\"colorbar\":{\"outlinewidth\":0,\"ticks\":\"\"},\"colorscale\":[[0.0,\"#0d0887\"],[0.1111111111111111,\"#46039f\"],[0.2222222222222222,\"#7201a8\"],[0.3333333333333333,\"#9c179e\"],[0.4444444444444444,\"#bd3786\"],[0.5555555555555556,\"#d8576b\"],[0.6666666666666666,\"#ed7953\"],[0.7777777777777778,\"#fb9f3a\"],[0.8888888888888888,\"#fdca26\"],[1.0,\"#f0f921\"]],\"type\":\"histogram2d\"}],\"histogram2dcontour\":[{\"colorbar\":{\"outlinewidth\":0,\"ticks\":\"\"},\"colorscale\":[[0.0,\"#0d0887\"],[0.1111111111111111,\"#46039f\"],[0.2222222222222222,\"#7201a8\"],[0.3333333333333333,\"#9c179e\"],[0.4444444444444444,\"#bd3786\"],[0.5555555555555556,\"#d8576b\"],[0.6666666666666666,\"#ed7953\"],[0.7777777777777778,\"#fb9f3a\"],[0.8888888888888888,\"#fdca26\"],[1.0,\"#f0f921\"]],\"type\":\"histogram2dcontour\"}],\"mesh3d\":[{\"colorbar\":{\"outlinewidth\":0,\"ticks\":\"\"},\"type\":\"mesh3d\"}],\"parcoords\":[{\"line\":{\"colorbar\":{\"outlinewidth\":0,\"ticks\":\"\"}},\"type\":\"parcoords\"}],\"pie\":[{\"automargin\":true,\"type\":\"pie\"}],\"scatter\":[{\"marker\":{\"colorbar\":{\"outlinewidth\":0,\"ticks\":\"\"}},\"type\":\"scatter\"}],\"scatter3d\":[{\"line\":{\"colorbar\":{\"outlinewidth\":0,\"ticks\":\"\"}},\"marker\":{\"colorbar\":{\"outlinewidth\":0,\"ticks\":\"\"}},\"type\":\"scatter3d\"}],\"scattercarpet\":[{\"marker\":{\"colorbar\":{\"outlinewidth\":0,\"ticks\":\"\"}},\"type\":\"scattercarpet\"}],\"scattergeo\":[{\"marker\":{\"colorbar\":{\"outlinewidth\":0,\"ticks\":\"\"}},\"type\":\"scattergeo\"}],\"scattergl\":[{\"marker\":{\"colorbar\":{\"outlinewidth\":0,\"ticks\":\"\"}},\"type\":\"scattergl\"}],\"scattermapbox\":[{\"marker\":{\"colorbar\":{\"outlinewidth\":0,\"ticks\":\"\"}},\"type\":\"scattermapbox\"}],\"scatterpolar\":[{\"marker\":{\"colorbar\":{\"outlinewidth\":0,\"ticks\":\"\"}},\"type\":\"scatterpolar\"}],\"scatterpolargl\":[{\"marker\":{\"colorbar\":{\"outlinewidth\":0,\"ticks\":\"\"}},\"type\":\"scatterpolargl\"}],\"scatterternary\":[{\"marker\":{\"colorbar\":{\"outlinewidth\":0,\"ticks\":\"\"}},\"type\":\"scatterternary\"}],\"surface\":[{\"colorbar\":{\"outlinewidth\":0,\"ticks\":\"\"},\"colorscale\":[[0.0,\"#0d0887\"],[0.1111111111111111,\"#46039f\"],[0.2222222222222222,\"#7201a8\"],[0.3333333333333333,\"#9c179e\"],[0.4444444444444444,\"#bd3786\"],[0.5555555555555556,\"#d8576b\"],[0.6666666666666666,\"#ed7953\"],[0.7777777777777778,\"#fb9f3a\"],[0.8888888888888888,\"#fdca26\"],[1.0,\"#f0f921\"]],\"type\":\"surface\"}],\"table\":[{\"cells\":{\"fill\":{\"color\":\"#EBF0F8\"},\"line\":{\"color\":\"white\"}},\"header\":{\"fill\":{\"color\":\"#C8D4E3\"},\"line\":{\"color\":\"white\"}},\"type\":\"table\"}]},\"layout\":{\"annotationdefaults\":{\"arrowcolor\":\"#2a3f5f\",\"arrowhead\":0,\"arrowwidth\":1},\"autotypenumbers\":\"strict\",\"coloraxis\":{\"colorbar\":{\"outlinewidth\":0,\"ticks\":\"\"}},\"colorscale\":{\"diverging\":[[0,\"#8e0152\"],[0.1,\"#c51b7d\"],[0.2,\"#de77ae\"],[0.3,\"#f1b6da\"],[0.4,\"#fde0ef\"],[0.5,\"#f7f7f7\"],[0.6,\"#e6f5d0\"],[0.7,\"#b8e186\"],[0.8,\"#7fbc41\"],[0.9,\"#4d9221\"],[1,\"#276419\"]],\"sequential\":[[0.0,\"#0d0887\"],[0.1111111111111111,\"#46039f\"],[0.2222222222222222,\"#7201a8\"],[0.3333333333333333,\"#9c179e\"],[0.4444444444444444,\"#bd3786\"],[0.5555555555555556,\"#d8576b\"],[0.6666666666666666,\"#ed7953\"],[0.7777777777777778,\"#fb9f3a\"],[0.8888888888888888,\"#fdca26\"],[1.0,\"#f0f921\"]],\"sequentialminus\":[[0.0,\"#0d0887\"],[0.1111111111111111,\"#46039f\"],[0.2222222222222222,\"#7201a8\"],[0.3333333333333333,\"#9c179e\"],[0.4444444444444444,\"#bd3786\"],[0.5555555555555556,\"#d8576b\"],[0.6666666666666666,\"#ed7953\"],[0.7777777777777778,\"#fb9f3a\"],[0.8888888888888888,\"#fdca26\"],[1.0,\"#f0f921\"]]},\"colorway\":[\"#636efa\",\"#EF553B\",\"#00cc96\",\"#ab63fa\",\"#FFA15A\",\"#19d3f3\",\"#FF6692\",\"#B6E880\",\"#FF97FF\",\"#FECB52\"],\"font\":{\"color\":\"#2a3f5f\"},\"geo\":{\"bgcolor\":\"white\",\"lakecolor\":\"white\",\"landcolor\":\"#E5ECF6\",\"showlakes\":true,\"showland\":true,\"subunitcolor\":\"white\"},\"hoverlabel\":{\"align\":\"left\"},\"hovermode\":\"closest\",\"mapbox\":{\"style\":\"light\"},\"paper_bgcolor\":\"white\",\"plot_bgcolor\":\"#E5ECF6\",\"polar\":{\"angularaxis\":{\"gridcolor\":\"white\",\"linecolor\":\"white\",\"ticks\":\"\"},\"bgcolor\":\"#E5ECF6\",\"radialaxis\":{\"gridcolor\":\"white\",\"linecolor\":\"white\",\"ticks\":\"\"}},\"scene\":{\"xaxis\":{\"backgroundcolor\":\"#E5ECF6\",\"gridcolor\":\"white\",\"gridwidth\":2,\"linecolor\":\"white\",\"showbackground\":true,\"ticks\":\"\",\"zerolinecolor\":\"white\"},\"yaxis\":{\"backgroundcolor\":\"#E5ECF6\",\"gridcolor\":\"white\",\"gridwidth\":2,\"linecolor\":\"white\",\"showbackground\":true,\"ticks\":\"\",\"zerolinecolor\":\"white\"},\"zaxis\":{\"backgroundcolor\":\"#E5ECF6\",\"gridcolor\":\"white\",\"gridwidth\":2,\"linecolor\":\"white\",\"showbackground\":true,\"ticks\":\"\",\"zerolinecolor\":\"white\"}},\"shapedefaults\":{\"line\":{\"color\":\"#2a3f5f\"}},\"ternary\":{\"aaxis\":{\"gridcolor\":\"white\",\"linecolor\":\"white\",\"ticks\":\"\"},\"baxis\":{\"gridcolor\":\"white\",\"linecolor\":\"white\",\"ticks\":\"\"},\"bgcolor\":\"#E5ECF6\",\"caxis\":{\"gridcolor\":\"white\",\"linecolor\":\"white\",\"ticks\":\"\"}},\"title\":{\"x\":0.05},\"xaxis\":{\"automargin\":true,\"gridcolor\":\"white\",\"linecolor\":\"white\",\"ticks\":\"\",\"title\":{\"standoff\":15},\"zerolinecolor\":\"white\",\"zerolinewidth\":2},\"yaxis\":{\"automargin\":true,\"gridcolor\":\"white\",\"linecolor\":\"white\",\"ticks\":\"\",\"title\":{\"standoff\":15},\"zerolinecolor\":\"white\",\"zerolinewidth\":2}}},\"xaxis\":{\"anchor\":\"y\",\"domain\":[0.0,1.0],\"title\":{\"text\":\"PC1\"}},\"yaxis\":{\"anchor\":\"x\",\"domain\":[0.0,1.0],\"title\":{\"text\":\"PC2\"}}},                        {\"responsive\": true}                    ).then(function(){\n",
       "                            \n",
       "var gd = document.getElementById('e8cd7724-0698-48c1-ac2f-567a99837e60');\n",
       "var x = new MutationObserver(function (mutations, observer) {{\n",
       "        var display = window.getComputedStyle(gd).display;\n",
       "        if (!display || display === 'none') {{\n",
       "            console.log([gd, 'removed!']);\n",
       "            Plotly.purge(gd);\n",
       "            observer.disconnect();\n",
       "        }}\n",
       "}});\n",
       "\n",
       "// Listen for the removal of the full notebook cells\n",
       "var notebookContainer = gd.closest('#notebook-container');\n",
       "if (notebookContainer) {{\n",
       "    x.observe(notebookContainer, {childList: true});\n",
       "}}\n",
       "\n",
       "// Listen for the clearing of the current output cell\n",
       "var outputEl = gd.closest('.output');\n",
       "if (outputEl) {{\n",
       "    x.observe(outputEl, {childList: true});\n",
       "}}\n",
       "\n",
       "                        })                };                });            </script>        </div>"
      ]
     },
     "metadata": {},
     "output_type": "display_data"
    },
    {
     "data": {
      "text/html": [
       "<div>\n",
       "<style scoped>\n",
       "    .dataframe tbody tr th:only-of-type {\n",
       "        vertical-align: middle;\n",
       "    }\n",
       "\n",
       "    .dataframe tbody tr th {\n",
       "        vertical-align: top;\n",
       "    }\n",
       "\n",
       "    .dataframe thead th {\n",
       "        text-align: right;\n",
       "    }\n",
       "</style>\n",
       "<table border=\"1\" class=\"dataframe\">\n",
       "  <thead>\n",
       "    <tr style=\"text-align: right;\">\n",
       "      <th></th>\n",
       "      <th>TEAM</th>\n",
       "      <th>YEAR</th>\n",
       "      <th>WIN%</th>\n",
       "    </tr>\n",
       "  </thead>\n",
       "  <tbody>\n",
       "    <tr>\n",
       "      <th>495</th>\n",
       "      <td>Oklahoma City Thunder</td>\n",
       "      <td>2015-16</td>\n",
       "      <td>0.671</td>\n",
       "    </tr>\n",
       "    <tr>\n",
       "      <th>247</th>\n",
       "      <td>Los Angeles Lakers</td>\n",
       "      <td>2007-08</td>\n",
       "      <td>0.695</td>\n",
       "    </tr>\n",
       "    <tr>\n",
       "      <th>425</th>\n",
       "      <td>Houston Rockets</td>\n",
       "      <td>2013-14</td>\n",
       "      <td>0.659</td>\n",
       "    </tr>\n",
       "    <tr>\n",
       "      <th>587</th>\n",
       "      <td>Philadelphia 76ers</td>\n",
       "      <td>2018-19</td>\n",
       "      <td>0.622</td>\n",
       "    </tr>\n",
       "    <tr>\n",
       "      <th>512</th>\n",
       "      <td>Denver Nuggets</td>\n",
       "      <td>2016-17</td>\n",
       "      <td>0.488</td>\n",
       "    </tr>\n",
       "  </tbody>\n",
       "</table>\n",
       "</div>"
      ],
      "text/plain": [
       "                      TEAM     YEAR   WIN%\n",
       "495  Oklahoma City Thunder  2015-16  0.671\n",
       "247     Los Angeles Lakers  2007-08  0.695\n",
       "425        Houston Rockets  2013-14  0.659\n",
       "587     Philadelphia 76ers  2018-19  0.622\n",
       "512         Denver Nuggets  2016-17  0.488"
      ]
     },
     "execution_count": 360,
     "metadata": {},
     "output_type": "execute_result"
    }
   ],
   "source": [
    "nba_analysis.k_nearest_neighbors(team,minutes_selection_method='average',stats_selection_method='best',visualize=True)"
   ]
  },
  {
   "cell_type": "code",
   "execution_count": 361,
   "metadata": {},
   "outputs": [
    {
     "data": {
      "text/plain": [
       "3"
      ]
     },
     "execution_count": 361,
     "metadata": {},
     "output_type": "execute_result"
    }
   ],
   "source": [
    "nba_analysis.predict_roster_cluster(team,minutes_selection_method='average',stats_selection_method='best')"
   ]
  },
  {
   "cell_type": "code",
   "execution_count": 362,
   "metadata": {},
   "outputs": [
    {
     "data": {
      "text/plain": [
       "WIN%             0.640847\n",
       "PTS            110.781120\n",
       "FGM             39.017609\n",
       "FGA             86.677368\n",
       "FG%             47.599209\n",
       "3PM              7.871988\n",
       "3PA             23.394127\n",
       "3P%             36.015114\n",
       "FTM             21.931206\n",
       "FTA             31.286158\n",
       "FT%             76.375916\n",
       "OREB            12.112515\n",
       "DREB            34.336731\n",
       "REB             46.511227\n",
       "AST             24.267252\n",
       "TOV             15.364017\n",
       "STL              6.909541\n",
       "BLK              5.787009\n",
       "BLKA             5.292335\n",
       "PF              21.582930\n",
       "PFD             21.995998\n",
       "+/-              4.335916\n",
       "OFFRTG         111.961197\n",
       "DEFRTG         107.352562\n",
       "NETRTG           6.262749\n",
       "AST%            60.307384\n",
       "AST/TO           1.495610\n",
       "AST\\nRATIO      17.763536\n",
       "OREB%           33.897758\n",
       "DREB%           74.155594\n",
       "REB%            53.806049\n",
       "TOV%            15.693519\n",
       "EFG%            52.551853\n",
       "TS%             56.609928\n",
       "PACE           100.046974\n",
       "PIE             55.606682\n",
       "POSS          8458.561523\n",
       "dtype: float32"
      ]
     },
     "execution_count": 362,
     "metadata": {},
     "output_type": "execute_result"
    }
   ],
   "source": [
    "nba_analysis.predict_team_stats(team,minutes_selection_method='average',stats_selection_method='best')"
   ]
  },
  {
   "cell_type": "code",
   "execution_count": 366,
   "metadata": {},
   "outputs": [
    {
     "data": {
      "text/html": [
       "<div>\n",
       "<style scoped>\n",
       "    .dataframe tbody tr th:only-of-type {\n",
       "        vertical-align: middle;\n",
       "    }\n",
       "\n",
       "    .dataframe tbody tr th {\n",
       "        vertical-align: top;\n",
       "    }\n",
       "\n",
       "    .dataframe thead th {\n",
       "        text-align: right;\n",
       "    }\n",
       "</style>\n",
       "<table border=\"1\" class=\"dataframe\">\n",
       "  <thead>\n",
       "    <tr style=\"text-align: right;\">\n",
       "      <th></th>\n",
       "      <th>PLAYER</th>\n",
       "      <th>POS</th>\n",
       "      <th>MIN</th>\n",
       "      <th>PTS</th>\n",
       "      <th>FGM</th>\n",
       "      <th>FGA</th>\n",
       "      <th>FG%</th>\n",
       "      <th>3PM</th>\n",
       "      <th>3PA</th>\n",
       "      <th>3P%</th>\n",
       "      <th>...</th>\n",
       "      <th>OREB%</th>\n",
       "      <th>DREB%</th>\n",
       "      <th>REB%</th>\n",
       "      <th>TO RATIO</th>\n",
       "      <th>EFG%</th>\n",
       "      <th>TS%</th>\n",
       "      <th>USG%</th>\n",
       "      <th>PACE</th>\n",
       "      <th>PIE</th>\n",
       "      <th>POSS</th>\n",
       "    </tr>\n",
       "  </thead>\n",
       "  <tbody>\n",
       "    <tr>\n",
       "      <th>0</th>\n",
       "      <td>Kevin Durant</td>\n",
       "      <td>PF</td>\n",
       "      <td>36.595675</td>\n",
       "      <td>30.417184</td>\n",
       "      <td>9.980639</td>\n",
       "      <td>19.771170</td>\n",
       "      <td>50.3</td>\n",
       "      <td>2.281289</td>\n",
       "      <td>5.798276</td>\n",
       "      <td>39.1</td>\n",
       "      <td>...</td>\n",
       "      <td>2.0</td>\n",
       "      <td>16.4</td>\n",
       "      <td>9.6</td>\n",
       "      <td>10.3</td>\n",
       "      <td>56.0</td>\n",
       "      <td>63.5</td>\n",
       "      <td>32.2</td>\n",
       "      <td>97.54</td>\n",
       "      <td>19.581062</td>\n",
       "      <td>6028.305694</td>\n",
       "    </tr>\n",
       "    <tr>\n",
       "      <th>1</th>\n",
       "      <td>LeBron James</td>\n",
       "      <td>SF</td>\n",
       "      <td>34.399654</td>\n",
       "      <td>25.913798</td>\n",
       "      <td>8.850839</td>\n",
       "      <td>18.157908</td>\n",
       "      <td>48.9</td>\n",
       "      <td>1.459932</td>\n",
       "      <td>4.288551</td>\n",
       "      <td>34.4</td>\n",
       "      <td>...</td>\n",
       "      <td>3.7</td>\n",
       "      <td>16.8</td>\n",
       "      <td>10.4</td>\n",
       "      <td>8.7</td>\n",
       "      <td>53.0</td>\n",
       "      <td>59.1</td>\n",
       "      <td>33.0</td>\n",
       "      <td>90.44</td>\n",
       "      <td>20.621543</td>\n",
       "      <td>5263.968271</td>\n",
       "    </tr>\n",
       "    <tr>\n",
       "      <th>2</th>\n",
       "      <td>Kyle Kuzma</td>\n",
       "      <td>SF</td>\n",
       "      <td>31.934083</td>\n",
       "      <td>16.478806</td>\n",
       "      <td>6.243523</td>\n",
       "      <td>13.817632</td>\n",
       "      <td>45.0</td>\n",
       "      <td>2.149409</td>\n",
       "      <td>5.731758</td>\n",
       "      <td>36.6</td>\n",
       "      <td>...</td>\n",
       "      <td>3.5</td>\n",
       "      <td>15.4</td>\n",
       "      <td>9.5</td>\n",
       "      <td>10.0</td>\n",
       "      <td>52.7</td>\n",
       "      <td>54.9</td>\n",
       "      <td>21.9</td>\n",
       "      <td>101.81</td>\n",
       "      <td>10.644694</td>\n",
       "      <td>5207.712004</td>\n",
       "    </tr>\n",
       "    <tr>\n",
       "      <th>3</th>\n",
       "      <td>Dwight Howard</td>\n",
       "      <td>C</td>\n",
       "      <td>29.616609</td>\n",
       "      <td>18.037775</td>\n",
       "      <td>6.222639</td>\n",
       "      <td>10.554855</td>\n",
       "      <td>59.3</td>\n",
       "      <td>0.000000</td>\n",
       "      <td>0.078768</td>\n",
       "      <td>0.0</td>\n",
       "      <td>...</td>\n",
       "      <td>11.3</td>\n",
       "      <td>26.8</td>\n",
       "      <td>19.3</td>\n",
       "      <td>15.1</td>\n",
       "      <td>59.3</td>\n",
       "      <td>61.6</td>\n",
       "      <td>27.2</td>\n",
       "      <td>91.89</td>\n",
       "      <td>14.493234</td>\n",
       "      <td>4434.614592</td>\n",
       "    </tr>\n",
       "    <tr>\n",
       "      <th>4</th>\n",
       "      <td>David West</td>\n",
       "      <td>F</td>\n",
       "      <td>27.221626</td>\n",
       "      <td>13.936821</td>\n",
       "      <td>5.623629</td>\n",
       "      <td>11.247259</td>\n",
       "      <td>49.8</td>\n",
       "      <td>0.081502</td>\n",
       "      <td>0.244506</td>\n",
       "      <td>21.1</td>\n",
       "      <td>...</td>\n",
       "      <td>6.2</td>\n",
       "      <td>16.7</td>\n",
       "      <td>11.6</td>\n",
       "      <td>10.3</td>\n",
       "      <td>50.0</td>\n",
       "      <td>54.5</td>\n",
       "      <td>24.3</td>\n",
       "      <td>91.95</td>\n",
       "      <td>12.306783</td>\n",
       "      <td>3806.137569</td>\n",
       "    </tr>\n",
       "    <tr>\n",
       "      <th>5</th>\n",
       "      <td>Carmelo Anthony</td>\n",
       "      <td>PF</td>\n",
       "      <td>24.622837</td>\n",
       "      <td>17.433223</td>\n",
       "      <td>6.107991</td>\n",
       "      <td>13.552104</td>\n",
       "      <td>45.2</td>\n",
       "      <td>1.399748</td>\n",
       "      <td>3.435745</td>\n",
       "      <td>40.2</td>\n",
       "      <td>...</td>\n",
       "      <td>4.9</td>\n",
       "      <td>17.1</td>\n",
       "      <td>10.8</td>\n",
       "      <td>8.6</td>\n",
       "      <td>50.3</td>\n",
       "      <td>56.1</td>\n",
       "      <td>31.8</td>\n",
       "      <td>91.35</td>\n",
       "      <td>10.307234</td>\n",
       "      <td>3619.620718</td>\n",
       "    </tr>\n",
       "    <tr>\n",
       "      <th>6</th>\n",
       "      <td>Draymond Green</td>\n",
       "      <td>PF</td>\n",
       "      <td>22.170588</td>\n",
       "      <td>8.944906</td>\n",
       "      <td>3.194609</td>\n",
       "      <td>6.453111</td>\n",
       "      <td>49.0</td>\n",
       "      <td>0.766706</td>\n",
       "      <td>2.044550</td>\n",
       "      <td>38.8</td>\n",
       "      <td>...</td>\n",
       "      <td>5.0</td>\n",
       "      <td>19.8</td>\n",
       "      <td>13.1</td>\n",
       "      <td>14.2</td>\n",
       "      <td>55.1</td>\n",
       "      <td>58.7</td>\n",
       "      <td>18.4</td>\n",
       "      <td>102.13</td>\n",
       "      <td>8.689337</td>\n",
       "      <td>3816.919139</td>\n",
       "    </tr>\n",
       "    <tr>\n",
       "      <th>7</th>\n",
       "      <td>Lonzo Ball</td>\n",
       "      <td>PG</td>\n",
       "      <td>19.970588</td>\n",
       "      <td>7.341213</td>\n",
       "      <td>2.737402</td>\n",
       "      <td>6.781290</td>\n",
       "      <td>40.3</td>\n",
       "      <td>1.430914</td>\n",
       "      <td>3.919461</td>\n",
       "      <td>37.5</td>\n",
       "      <td>...</td>\n",
       "      <td>3.2</td>\n",
       "      <td>14.2</td>\n",
       "      <td>8.7</td>\n",
       "      <td>14.3</td>\n",
       "      <td>51.1</td>\n",
       "      <td>51.7</td>\n",
       "      <td>18.1</td>\n",
       "      <td>104.82</td>\n",
       "      <td>6.283581</td>\n",
       "      <td>2752.954920</td>\n",
       "    </tr>\n",
       "  </tbody>\n",
       "</table>\n",
       "<p>8 rows × 38 columns</p>\n",
       "</div>"
      ],
      "text/plain": [
       "            PLAYER POS        MIN        PTS       FGM        FGA   FG%  \\\n",
       "0     Kevin Durant  PF  36.595675  30.417184  9.980639  19.771170  50.3   \n",
       "1     LeBron James  SF  34.399654  25.913798  8.850839  18.157908  48.9   \n",
       "2       Kyle Kuzma  SF  31.934083  16.478806  6.243523  13.817632  45.0   \n",
       "3    Dwight Howard   C  29.616609  18.037775  6.222639  10.554855  59.3   \n",
       "4       David West   F  27.221626  13.936821  5.623629  11.247259  49.8   \n",
       "5  Carmelo Anthony  PF  24.622837  17.433223  6.107991  13.552104  45.2   \n",
       "6   Draymond Green  PF  22.170588   8.944906  3.194609   6.453111  49.0   \n",
       "7       Lonzo Ball  PG  19.970588   7.341213  2.737402   6.781290  40.3   \n",
       "\n",
       "        3PM       3PA   3P%  ...  OREB%  DREB%  REB%  TO RATIO  EFG%   TS%  \\\n",
       "0  2.281289  5.798276  39.1  ...    2.0   16.4   9.6      10.3  56.0  63.5   \n",
       "1  1.459932  4.288551  34.4  ...    3.7   16.8  10.4       8.7  53.0  59.1   \n",
       "2  2.149409  5.731758  36.6  ...    3.5   15.4   9.5      10.0  52.7  54.9   \n",
       "3  0.000000  0.078768   0.0  ...   11.3   26.8  19.3      15.1  59.3  61.6   \n",
       "4  0.081502  0.244506  21.1  ...    6.2   16.7  11.6      10.3  50.0  54.5   \n",
       "5  1.399748  3.435745  40.2  ...    4.9   17.1  10.8       8.6  50.3  56.1   \n",
       "6  0.766706  2.044550  38.8  ...    5.0   19.8  13.1      14.2  55.1  58.7   \n",
       "7  1.430914  3.919461  37.5  ...    3.2   14.2   8.7      14.3  51.1  51.7   \n",
       "\n",
       "   USG%    PACE        PIE         POSS  \n",
       "0  32.2   97.54  19.581062  6028.305694  \n",
       "1  33.0   90.44  20.621543  5263.968271  \n",
       "2  21.9  101.81  10.644694  5207.712004  \n",
       "3  27.2   91.89  14.493234  4434.614592  \n",
       "4  24.3   91.95  12.306783  3806.137569  \n",
       "5  31.8   91.35  10.307234  3619.620718  \n",
       "6  18.4  102.13   8.689337  3816.919139  \n",
       "7  18.1  104.82   6.283581  2752.954920  \n",
       "\n",
       "[8 rows x 38 columns]"
      ]
     },
     "execution_count": 366,
     "metadata": {},
     "output_type": "execute_result"
    }
   ],
   "source": [
    "\n",
    "pd.DataFrame(nba_analysis.team_stats_sampling(team,minutes_selection_method='average',stats_selection_method='best'),columns=['PLAYER']+nba_analysis.player_stats_required)"
   ]
  },
  {
   "cell_type": "code",
   "execution_count": null,
   "metadata": {},
   "outputs": [],
   "source": []
  }
 ],
 "metadata": {
  "kernelspec": {
   "display_name": "Python 3",
   "language": "python",
   "name": "python3"
  },
  "language_info": {
   "codemirror_mode": {
    "name": "ipython",
    "version": 3
   },
   "file_extension": ".py",
   "mimetype": "text/x-python",
   "name": "python",
   "nbconvert_exporter": "python",
   "pygments_lexer": "ipython3",
   "version": "3.8.5"
  }
 },
 "nbformat": 4,
 "nbformat_minor": 4
}
