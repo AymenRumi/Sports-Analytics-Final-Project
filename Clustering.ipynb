{
 "cells": [
  {
   "cell_type": "markdown",
   "metadata": {},
   "source": [
    "# Clustering NBA Teams"
   ]
  },
  {
   "cell_type": "code",
   "execution_count": 181,
   "metadata": {},
   "outputs": [
    {
     "data": {
      "text/html": [
       "        <script type=\"text/javascript\">\n",
       "        window.PlotlyConfig = {MathJaxConfig: 'local'};\n",
       "        if (window.MathJax) {MathJax.Hub.Config({SVG: {font: \"STIX-Web\"}});}\n",
       "        if (typeof require !== 'undefined') {\n",
       "        require.undef(\"plotly\");\n",
       "        requirejs.config({\n",
       "            paths: {\n",
       "                'plotly': ['https://cdn.plot.ly/plotly-2.4.2.min']\n",
       "            }\n",
       "        });\n",
       "        require(['plotly'], function(Plotly) {\n",
       "            window._Plotly = Plotly;\n",
       "        });\n",
       "        }\n",
       "        </script>\n",
       "        "
      ]
     },
     "metadata": {},
     "output_type": "display_data"
    }
   ],
   "source": [
    "import pandas as pd\n",
    "import numpy as np\n",
    "import plotly.express as px\n",
    "from sklearn.preprocessing import MinMaxScaler\n",
    "from sklearn.decomposition import PCA\n",
    "from sklearn.cluster import KMeans\n",
    "from plotly.offline import init_notebook_mode\n",
    "init_notebook_mode(connected = True)"
   ]
  },
  {
   "cell_type": "markdown",
   "metadata": {},
   "source": [
    "# Importing Dataset"
   ]
  },
  {
   "cell_type": "code",
   "execution_count": 2,
   "metadata": {},
   "outputs": [],
   "source": [
    "# importing team data\n",
    "\n",
    "teams=pd.read_csv('NBA_Team_Data_1999-2020.csv',index_col=0)"
   ]
  },
  {
   "cell_type": "code",
   "execution_count": 3,
   "metadata": {},
   "outputs": [],
   "source": [
    "# important team statistics \n",
    "\n",
    "team_stats=teams.drop(['TEAM','YEAR','GP','W','L','MIN'],axis=1)"
   ]
  },
  {
   "cell_type": "code",
   "execution_count": 7,
   "metadata": {},
   "outputs": [
    {
     "data": {
      "text/plain": [
       "Index(['WIN%', 'PTS', 'FGM', 'FGA', 'FG%', '3PM', '3PA', '3P%', 'FTM', 'FTA',\n",
       "       'FT%', 'OREB', 'DREB', 'REB', 'AST', 'TOV', 'STL', 'BLK', 'BLKA', 'PF',\n",
       "       'PFD', '+/-', 'OFFRTG', 'DEFRTG', 'NETRTG', 'AST%', 'AST/TO',\n",
       "       'AST\\nRATIO', 'OREB%', 'DREB%', 'REB%', 'TOV%', 'EFG%', 'TS%', 'PACE',\n",
       "       'PIE', 'POSS'],\n",
       "      dtype='object')"
      ]
     },
     "execution_count": 7,
     "metadata": {},
     "output_type": "execute_result"
    }
   ],
   "source": [
    "team_stats.columns"
   ]
  },
  {
   "cell_type": "code",
   "execution_count": 8,
   "metadata": {},
   "outputs": [
    {
     "data": {
      "text/html": [
       "<div>\n",
       "<style scoped>\n",
       "    .dataframe tbody tr th:only-of-type {\n",
       "        vertical-align: middle;\n",
       "    }\n",
       "\n",
       "    .dataframe tbody tr th {\n",
       "        vertical-align: top;\n",
       "    }\n",
       "\n",
       "    .dataframe thead th {\n",
       "        text-align: right;\n",
       "    }\n",
       "</style>\n",
       "<table border=\"1\" class=\"dataframe\">\n",
       "  <thead>\n",
       "    <tr style=\"text-align: right;\">\n",
       "      <th></th>\n",
       "      <th>WIN%</th>\n",
       "      <th>PTS</th>\n",
       "      <th>FGM</th>\n",
       "      <th>FGA</th>\n",
       "      <th>FG%</th>\n",
       "      <th>3PM</th>\n",
       "      <th>3PA</th>\n",
       "      <th>3P%</th>\n",
       "      <th>FTM</th>\n",
       "      <th>FTA</th>\n",
       "      <th>...</th>\n",
       "      <th>AST\\nRATIO</th>\n",
       "      <th>OREB%</th>\n",
       "      <th>DREB%</th>\n",
       "      <th>REB%</th>\n",
       "      <th>TOV%</th>\n",
       "      <th>EFG%</th>\n",
       "      <th>TS%</th>\n",
       "      <th>PACE</th>\n",
       "      <th>PIE</th>\n",
       "      <th>POSS</th>\n",
       "    </tr>\n",
       "  </thead>\n",
       "  <tbody>\n",
       "    <tr>\n",
       "      <th>0</th>\n",
       "      <td>0.341</td>\n",
       "      <td>94.3</td>\n",
       "      <td>36.6</td>\n",
       "      <td>83.0</td>\n",
       "      <td>44.1</td>\n",
       "      <td>3.1</td>\n",
       "      <td>9.9</td>\n",
       "      <td>31.7</td>\n",
       "      <td>18.0</td>\n",
       "      <td>24.2</td>\n",
       "      <td>...</td>\n",
       "      <td>14.6</td>\n",
       "      <td>33.4</td>\n",
       "      <td>69.8</td>\n",
       "      <td>51.6</td>\n",
       "      <td>16.4</td>\n",
       "      <td>46.0</td>\n",
       "      <td>50.3</td>\n",
       "      <td>93.55</td>\n",
       "      <td>46.2</td>\n",
       "      <td>7731</td>\n",
       "    </tr>\n",
       "    <tr>\n",
       "      <th>1</th>\n",
       "      <td>0.427</td>\n",
       "      <td>99.3</td>\n",
       "      <td>37.2</td>\n",
       "      <td>83.9</td>\n",
       "      <td>44.4</td>\n",
       "      <td>5.1</td>\n",
       "      <td>15.4</td>\n",
       "      <td>33.1</td>\n",
       "      <td>19.8</td>\n",
       "      <td>26.5</td>\n",
       "      <td>...</td>\n",
       "      <td>15.9</td>\n",
       "      <td>32.7</td>\n",
       "      <td>70.5</td>\n",
       "      <td>50.6</td>\n",
       "      <td>15.9</td>\n",
       "      <td>47.4</td>\n",
       "      <td>52.0</td>\n",
       "      <td>96.19</td>\n",
       "      <td>47.6</td>\n",
       "      <td>7918</td>\n",
       "    </tr>\n",
       "    <tr>\n",
       "      <th>2</th>\n",
       "      <td>0.598</td>\n",
       "      <td>98.4</td>\n",
       "      <td>35.8</td>\n",
       "      <td>79.7</td>\n",
       "      <td>44.9</td>\n",
       "      <td>4.1</td>\n",
       "      <td>12.2</td>\n",
       "      <td>33.9</td>\n",
       "      <td>22.7</td>\n",
       "      <td>30.0</td>\n",
       "      <td>...</td>\n",
       "      <td>18.4</td>\n",
       "      <td>28.3</td>\n",
       "      <td>71.2</td>\n",
       "      <td>50.1</td>\n",
       "      <td>15.3</td>\n",
       "      <td>47.5</td>\n",
       "      <td>53.0</td>\n",
       "      <td>95.58</td>\n",
       "      <td>54.1</td>\n",
       "      <td>7876</td>\n",
       "    </tr>\n",
       "    <tr>\n",
       "      <th>3</th>\n",
       "      <td>0.207</td>\n",
       "      <td>84.8</td>\n",
       "      <td>31.3</td>\n",
       "      <td>75.4</td>\n",
       "      <td>41.5</td>\n",
       "      <td>4.1</td>\n",
       "      <td>12.6</td>\n",
       "      <td>32.9</td>\n",
       "      <td>18.1</td>\n",
       "      <td>25.5</td>\n",
       "      <td>...</td>\n",
       "      <td>15.8</td>\n",
       "      <td>33.1</td>\n",
       "      <td>67.6</td>\n",
       "      <td>49.9</td>\n",
       "      <td>20.8</td>\n",
       "      <td>44.3</td>\n",
       "      <td>49.0</td>\n",
       "      <td>90.93</td>\n",
       "      <td>41.7</td>\n",
       "      <td>7492</td>\n",
       "    </tr>\n",
       "    <tr>\n",
       "      <th>4</th>\n",
       "      <td>0.390</td>\n",
       "      <td>97.0</td>\n",
       "      <td>36.3</td>\n",
       "      <td>82.1</td>\n",
       "      <td>44.2</td>\n",
       "      <td>4.2</td>\n",
       "      <td>11.2</td>\n",
       "      <td>37.3</td>\n",
       "      <td>20.2</td>\n",
       "      <td>26.9</td>\n",
       "      <td>...</td>\n",
       "      <td>17.3</td>\n",
       "      <td>30.8</td>\n",
       "      <td>68.5</td>\n",
       "      <td>49.6</td>\n",
       "      <td>17.7</td>\n",
       "      <td>46.8</td>\n",
       "      <td>51.6</td>\n",
       "      <td>97.36</td>\n",
       "      <td>47.5</td>\n",
       "      <td>8051</td>\n",
       "    </tr>\n",
       "    <tr>\n",
       "      <th>...</th>\n",
       "      <td>...</td>\n",
       "      <td>...</td>\n",
       "      <td>...</td>\n",
       "      <td>...</td>\n",
       "      <td>...</td>\n",
       "      <td>...</td>\n",
       "      <td>...</td>\n",
       "      <td>...</td>\n",
       "      <td>...</td>\n",
       "      <td>...</td>\n",
       "      <td>...</td>\n",
       "      <td>...</td>\n",
       "      <td>...</td>\n",
       "      <td>...</td>\n",
       "      <td>...</td>\n",
       "      <td>...</td>\n",
       "      <td>...</td>\n",
       "      <td>...</td>\n",
       "      <td>...</td>\n",
       "      <td>...</td>\n",
       "      <td>...</td>\n",
       "    </tr>\n",
       "    <tr>\n",
       "      <th>620</th>\n",
       "      <td>0.431</td>\n",
       "      <td>110.1</td>\n",
       "      <td>40.9</td>\n",
       "      <td>88.4</td>\n",
       "      <td>46.2</td>\n",
       "      <td>12.7</td>\n",
       "      <td>34.9</td>\n",
       "      <td>36.4</td>\n",
       "      <td>15.7</td>\n",
       "      <td>20.3</td>\n",
       "      <td>...</td>\n",
       "      <td>17.4</td>\n",
       "      <td>25.8</td>\n",
       "      <td>73.6</td>\n",
       "      <td>49.2</td>\n",
       "      <td>14.4</td>\n",
       "      <td>53.4</td>\n",
       "      <td>56.6</td>\n",
       "      <td>99.60</td>\n",
       "      <td>47.9</td>\n",
       "      <td>7239</td>\n",
       "    </tr>\n",
       "    <tr>\n",
       "      <th>621</th>\n",
       "      <td>0.451</td>\n",
       "      <td>114.1</td>\n",
       "      <td>42.2</td>\n",
       "      <td>89.4</td>\n",
       "      <td>47.2</td>\n",
       "      <td>10.7</td>\n",
       "      <td>28.5</td>\n",
       "      <td>37.6</td>\n",
       "      <td>19.0</td>\n",
       "      <td>23.4</td>\n",
       "      <td>...</td>\n",
       "      <td>17.9</td>\n",
       "      <td>23.3</td>\n",
       "      <td>75.1</td>\n",
       "      <td>49.5</td>\n",
       "      <td>12.3</td>\n",
       "      <td>53.1</td>\n",
       "      <td>57.2</td>\n",
       "      <td>101.14</td>\n",
       "      <td>50.2</td>\n",
       "      <td>7249</td>\n",
       "    </tr>\n",
       "    <tr>\n",
       "      <th>622</th>\n",
       "      <td>0.736</td>\n",
       "      <td>112.8</td>\n",
       "      <td>40.2</td>\n",
       "      <td>87.9</td>\n",
       "      <td>45.8</td>\n",
       "      <td>13.8</td>\n",
       "      <td>37.0</td>\n",
       "      <td>37.4</td>\n",
       "      <td>18.5</td>\n",
       "      <td>23.2</td>\n",
       "      <td>...</td>\n",
       "      <td>18.1</td>\n",
       "      <td>25.6</td>\n",
       "      <td>72.1</td>\n",
       "      <td>49.6</td>\n",
       "      <td>14.6</td>\n",
       "      <td>53.6</td>\n",
       "      <td>57.4</td>\n",
       "      <td>101.19</td>\n",
       "      <td>53.0</td>\n",
       "      <td>7328</td>\n",
       "    </tr>\n",
       "    <tr>\n",
       "      <th>623</th>\n",
       "      <td>0.611</td>\n",
       "      <td>111.3</td>\n",
       "      <td>40.1</td>\n",
       "      <td>85.1</td>\n",
       "      <td>47.1</td>\n",
       "      <td>13.4</td>\n",
       "      <td>35.2</td>\n",
       "      <td>38.0</td>\n",
       "      <td>17.8</td>\n",
       "      <td>22.8</td>\n",
       "      <td>...</td>\n",
       "      <td>16.8</td>\n",
       "      <td>26.1</td>\n",
       "      <td>74.6</td>\n",
       "      <td>51.2</td>\n",
       "      <td>15.2</td>\n",
       "      <td>54.9</td>\n",
       "      <td>58.5</td>\n",
       "      <td>99.15</td>\n",
       "      <td>51.3</td>\n",
       "      <td>7169</td>\n",
       "    </tr>\n",
       "    <tr>\n",
       "      <th>624</th>\n",
       "      <td>0.347</td>\n",
       "      <td>114.4</td>\n",
       "      <td>41.5</td>\n",
       "      <td>90.9</td>\n",
       "      <td>45.7</td>\n",
       "      <td>12.0</td>\n",
       "      <td>32.6</td>\n",
       "      <td>36.8</td>\n",
       "      <td>19.4</td>\n",
       "      <td>24.6</td>\n",
       "      <td>...</td>\n",
       "      <td>17.6</td>\n",
       "      <td>26.2</td>\n",
       "      <td>71.2</td>\n",
       "      <td>47.8</td>\n",
       "      <td>13.6</td>\n",
       "      <td>52.3</td>\n",
       "      <td>56.2</td>\n",
       "      <td>103.38</td>\n",
       "      <td>47.3</td>\n",
       "      <td>7475</td>\n",
       "    </tr>\n",
       "  </tbody>\n",
       "</table>\n",
       "<p>625 rows × 37 columns</p>\n",
       "</div>"
      ],
      "text/plain": [
       "      WIN%    PTS   FGM   FGA   FG%   3PM   3PA   3P%   FTM   FTA  ...  \\\n",
       "0    0.341   94.3  36.6  83.0  44.1   3.1   9.9  31.7  18.0  24.2  ...   \n",
       "1    0.427   99.3  37.2  83.9  44.4   5.1  15.4  33.1  19.8  26.5  ...   \n",
       "2    0.598   98.4  35.8  79.7  44.9   4.1  12.2  33.9  22.7  30.0  ...   \n",
       "3    0.207   84.8  31.3  75.4  41.5   4.1  12.6  32.9  18.1  25.5  ...   \n",
       "4    0.390   97.0  36.3  82.1  44.2   4.2  11.2  37.3  20.2  26.9  ...   \n",
       "..     ...    ...   ...   ...   ...   ...   ...   ...   ...   ...  ...   \n",
       "620  0.431  110.1  40.9  88.4  46.2  12.7  34.9  36.4  15.7  20.3  ...   \n",
       "621  0.451  114.1  42.2  89.4  47.2  10.7  28.5  37.6  19.0  23.4  ...   \n",
       "622  0.736  112.8  40.2  87.9  45.8  13.8  37.0  37.4  18.5  23.2  ...   \n",
       "623  0.611  111.3  40.1  85.1  47.1  13.4  35.2  38.0  17.8  22.8  ...   \n",
       "624  0.347  114.4  41.5  90.9  45.7  12.0  32.6  36.8  19.4  24.6  ...   \n",
       "\n",
       "     AST\\nRATIO  OREB%  DREB%  REB%  TOV%  EFG%   TS%    PACE   PIE  POSS  \n",
       "0          14.6   33.4   69.8  51.6  16.4  46.0  50.3   93.55  46.2  7731  \n",
       "1          15.9   32.7   70.5  50.6  15.9  47.4  52.0   96.19  47.6  7918  \n",
       "2          18.4   28.3   71.2  50.1  15.3  47.5  53.0   95.58  54.1  7876  \n",
       "3          15.8   33.1   67.6  49.9  20.8  44.3  49.0   90.93  41.7  7492  \n",
       "4          17.3   30.8   68.5  49.6  17.7  46.8  51.6   97.36  47.5  8051  \n",
       "..          ...    ...    ...   ...   ...   ...   ...     ...   ...   ...  \n",
       "620        17.4   25.8   73.6  49.2  14.4  53.4  56.6   99.60  47.9  7239  \n",
       "621        17.9   23.3   75.1  49.5  12.3  53.1  57.2  101.14  50.2  7249  \n",
       "622        18.1   25.6   72.1  49.6  14.6  53.6  57.4  101.19  53.0  7328  \n",
       "623        16.8   26.1   74.6  51.2  15.2  54.9  58.5   99.15  51.3  7169  \n",
       "624        17.6   26.2   71.2  47.8  13.6  52.3  56.2  103.38  47.3  7475  \n",
       "\n",
       "[625 rows x 37 columns]"
      ]
     },
     "execution_count": 8,
     "metadata": {},
     "output_type": "execute_result"
    }
   ],
   "source": [
    "team_stats"
   ]
  },
  {
   "cell_type": "markdown",
   "metadata": {},
   "source": [
    "# Normalizing Team Stats Data"
   ]
  },
  {
   "cell_type": "code",
   "execution_count": 13,
   "metadata": {},
   "outputs": [
    {
     "data": {
      "text/html": [
       "<div>\n",
       "<style scoped>\n",
       "    .dataframe tbody tr th:only-of-type {\n",
       "        vertical-align: middle;\n",
       "    }\n",
       "\n",
       "    .dataframe tbody tr th {\n",
       "        vertical-align: top;\n",
       "    }\n",
       "\n",
       "    .dataframe thead th {\n",
       "        text-align: right;\n",
       "    }\n",
       "</style>\n",
       "<table border=\"1\" class=\"dataframe\">\n",
       "  <thead>\n",
       "    <tr style=\"text-align: right;\">\n",
       "      <th></th>\n",
       "      <th>WIN%</th>\n",
       "      <th>PTS</th>\n",
       "      <th>FGM</th>\n",
       "      <th>FGA</th>\n",
       "      <th>FG%</th>\n",
       "      <th>3PM</th>\n",
       "      <th>3PA</th>\n",
       "      <th>3P%</th>\n",
       "      <th>FTM</th>\n",
       "      <th>FTA</th>\n",
       "      <th>...</th>\n",
       "      <th>AST\\nRATIO</th>\n",
       "      <th>OREB%</th>\n",
       "      <th>DREB%</th>\n",
       "      <th>REB%</th>\n",
       "      <th>TOV%</th>\n",
       "      <th>EFG%</th>\n",
       "      <th>TS%</th>\n",
       "      <th>PACE</th>\n",
       "      <th>PIE</th>\n",
       "      <th>POSS</th>\n",
       "    </tr>\n",
       "  </thead>\n",
       "  <tbody>\n",
       "    <tr>\n",
       "      <th>0</th>\n",
       "      <td>0.299745</td>\n",
       "      <td>0.292754</td>\n",
       "      <td>0.417323</td>\n",
       "      <td>0.441624</td>\n",
       "      <td>0.343750</td>\n",
       "      <td>0.044118</td>\n",
       "      <td>0.055851</td>\n",
       "      <td>0.282609</td>\n",
       "      <td>0.487395</td>\n",
       "      <td>0.510067</td>\n",
       "      <td>...</td>\n",
       "      <td>0.070423</td>\n",
       "      <td>0.751592</td>\n",
       "      <td>0.398438</td>\n",
       "      <td>0.715909</td>\n",
       "      <td>0.505618</td>\n",
       "      <td>0.226950</td>\n",
       "      <td>0.253731</td>\n",
       "      <td>0.339956</td>\n",
       "      <td>0.300000</td>\n",
       "      <td>0.664827</td>\n",
       "    </tr>\n",
       "    <tr>\n",
       "      <th>1</th>\n",
       "      <td>0.409439</td>\n",
       "      <td>0.437681</td>\n",
       "      <td>0.464567</td>\n",
       "      <td>0.487310</td>\n",
       "      <td>0.375000</td>\n",
       "      <td>0.191176</td>\n",
       "      <td>0.202128</td>\n",
       "      <td>0.384058</td>\n",
       "      <td>0.638655</td>\n",
       "      <td>0.664430</td>\n",
       "      <td>...</td>\n",
       "      <td>0.253521</td>\n",
       "      <td>0.707006</td>\n",
       "      <td>0.453125</td>\n",
       "      <td>0.602273</td>\n",
       "      <td>0.449438</td>\n",
       "      <td>0.326241</td>\n",
       "      <td>0.380597</td>\n",
       "      <td>0.485651</td>\n",
       "      <td>0.382353</td>\n",
       "      <td>0.733628</td>\n",
       "    </tr>\n",
       "    <tr>\n",
       "      <th>2</th>\n",
       "      <td>0.627551</td>\n",
       "      <td>0.411594</td>\n",
       "      <td>0.354331</td>\n",
       "      <td>0.274112</td>\n",
       "      <td>0.427083</td>\n",
       "      <td>0.117647</td>\n",
       "      <td>0.117021</td>\n",
       "      <td>0.442029</td>\n",
       "      <td>0.882353</td>\n",
       "      <td>0.899329</td>\n",
       "      <td>...</td>\n",
       "      <td>0.605634</td>\n",
       "      <td>0.426752</td>\n",
       "      <td>0.507812</td>\n",
       "      <td>0.545455</td>\n",
       "      <td>0.382022</td>\n",
       "      <td>0.333333</td>\n",
       "      <td>0.455224</td>\n",
       "      <td>0.451987</td>\n",
       "      <td>0.764706</td>\n",
       "      <td>0.718175</td>\n",
       "    </tr>\n",
       "    <tr>\n",
       "      <th>3</th>\n",
       "      <td>0.128827</td>\n",
       "      <td>0.017391</td>\n",
       "      <td>0.000000</td>\n",
       "      <td>0.055838</td>\n",
       "      <td>0.072917</td>\n",
       "      <td>0.117647</td>\n",
       "      <td>0.127660</td>\n",
       "      <td>0.369565</td>\n",
       "      <td>0.495798</td>\n",
       "      <td>0.597315</td>\n",
       "      <td>...</td>\n",
       "      <td>0.239437</td>\n",
       "      <td>0.732484</td>\n",
       "      <td>0.226562</td>\n",
       "      <td>0.522727</td>\n",
       "      <td>1.000000</td>\n",
       "      <td>0.106383</td>\n",
       "      <td>0.156716</td>\n",
       "      <td>0.195364</td>\n",
       "      <td>0.035294</td>\n",
       "      <td>0.576895</td>\n",
       "    </tr>\n",
       "    <tr>\n",
       "      <th>4</th>\n",
       "      <td>0.362245</td>\n",
       "      <td>0.371014</td>\n",
       "      <td>0.393701</td>\n",
       "      <td>0.395939</td>\n",
       "      <td>0.354167</td>\n",
       "      <td>0.125000</td>\n",
       "      <td>0.090426</td>\n",
       "      <td>0.688406</td>\n",
       "      <td>0.672269</td>\n",
       "      <td>0.691275</td>\n",
       "      <td>...</td>\n",
       "      <td>0.450704</td>\n",
       "      <td>0.585987</td>\n",
       "      <td>0.296875</td>\n",
       "      <td>0.488636</td>\n",
       "      <td>0.651685</td>\n",
       "      <td>0.283688</td>\n",
       "      <td>0.350746</td>\n",
       "      <td>0.550221</td>\n",
       "      <td>0.376471</td>\n",
       "      <td>0.782561</td>\n",
       "    </tr>\n",
       "    <tr>\n",
       "      <th>...</th>\n",
       "      <td>...</td>\n",
       "      <td>...</td>\n",
       "      <td>...</td>\n",
       "      <td>...</td>\n",
       "      <td>...</td>\n",
       "      <td>...</td>\n",
       "      <td>...</td>\n",
       "      <td>...</td>\n",
       "      <td>...</td>\n",
       "      <td>...</td>\n",
       "      <td>...</td>\n",
       "      <td>...</td>\n",
       "      <td>...</td>\n",
       "      <td>...</td>\n",
       "      <td>...</td>\n",
       "      <td>...</td>\n",
       "      <td>...</td>\n",
       "      <td>...</td>\n",
       "      <td>...</td>\n",
       "      <td>...</td>\n",
       "      <td>...</td>\n",
       "    </tr>\n",
       "    <tr>\n",
       "      <th>620</th>\n",
       "      <td>0.414541</td>\n",
       "      <td>0.750725</td>\n",
       "      <td>0.755906</td>\n",
       "      <td>0.715736</td>\n",
       "      <td>0.562500</td>\n",
       "      <td>0.750000</td>\n",
       "      <td>0.720745</td>\n",
       "      <td>0.623188</td>\n",
       "      <td>0.294118</td>\n",
       "      <td>0.248322</td>\n",
       "      <td>...</td>\n",
       "      <td>0.464789</td>\n",
       "      <td>0.267516</td>\n",
       "      <td>0.695312</td>\n",
       "      <td>0.443182</td>\n",
       "      <td>0.280899</td>\n",
       "      <td>0.751773</td>\n",
       "      <td>0.723881</td>\n",
       "      <td>0.673841</td>\n",
       "      <td>0.400000</td>\n",
       "      <td>0.483812</td>\n",
       "    </tr>\n",
       "    <tr>\n",
       "      <th>621</th>\n",
       "      <td>0.440051</td>\n",
       "      <td>0.866667</td>\n",
       "      <td>0.858268</td>\n",
       "      <td>0.766497</td>\n",
       "      <td>0.666667</td>\n",
       "      <td>0.602941</td>\n",
       "      <td>0.550532</td>\n",
       "      <td>0.710145</td>\n",
       "      <td>0.571429</td>\n",
       "      <td>0.456376</td>\n",
       "      <td>...</td>\n",
       "      <td>0.535211</td>\n",
       "      <td>0.108280</td>\n",
       "      <td>0.812500</td>\n",
       "      <td>0.477273</td>\n",
       "      <td>0.044944</td>\n",
       "      <td>0.730496</td>\n",
       "      <td>0.768657</td>\n",
       "      <td>0.758830</td>\n",
       "      <td>0.535294</td>\n",
       "      <td>0.487491</td>\n",
       "    </tr>\n",
       "    <tr>\n",
       "      <th>622</th>\n",
       "      <td>0.803571</td>\n",
       "      <td>0.828986</td>\n",
       "      <td>0.700787</td>\n",
       "      <td>0.690355</td>\n",
       "      <td>0.520833</td>\n",
       "      <td>0.830882</td>\n",
       "      <td>0.776596</td>\n",
       "      <td>0.695652</td>\n",
       "      <td>0.529412</td>\n",
       "      <td>0.442953</td>\n",
       "      <td>...</td>\n",
       "      <td>0.563380</td>\n",
       "      <td>0.254777</td>\n",
       "      <td>0.578125</td>\n",
       "      <td>0.488636</td>\n",
       "      <td>0.303371</td>\n",
       "      <td>0.765957</td>\n",
       "      <td>0.783582</td>\n",
       "      <td>0.761589</td>\n",
       "      <td>0.700000</td>\n",
       "      <td>0.516556</td>\n",
       "    </tr>\n",
       "    <tr>\n",
       "      <th>623</th>\n",
       "      <td>0.644133</td>\n",
       "      <td>0.785507</td>\n",
       "      <td>0.692913</td>\n",
       "      <td>0.548223</td>\n",
       "      <td>0.656250</td>\n",
       "      <td>0.801471</td>\n",
       "      <td>0.728723</td>\n",
       "      <td>0.739130</td>\n",
       "      <td>0.470588</td>\n",
       "      <td>0.416107</td>\n",
       "      <td>...</td>\n",
       "      <td>0.380282</td>\n",
       "      <td>0.286624</td>\n",
       "      <td>0.773438</td>\n",
       "      <td>0.670455</td>\n",
       "      <td>0.370787</td>\n",
       "      <td>0.858156</td>\n",
       "      <td>0.865672</td>\n",
       "      <td>0.649007</td>\n",
       "      <td>0.600000</td>\n",
       "      <td>0.458057</td>\n",
       "    </tr>\n",
       "    <tr>\n",
       "      <th>624</th>\n",
       "      <td>0.307398</td>\n",
       "      <td>0.875362</td>\n",
       "      <td>0.803150</td>\n",
       "      <td>0.842640</td>\n",
       "      <td>0.510417</td>\n",
       "      <td>0.698529</td>\n",
       "      <td>0.659574</td>\n",
       "      <td>0.652174</td>\n",
       "      <td>0.605042</td>\n",
       "      <td>0.536913</td>\n",
       "      <td>...</td>\n",
       "      <td>0.492958</td>\n",
       "      <td>0.292994</td>\n",
       "      <td>0.507812</td>\n",
       "      <td>0.284091</td>\n",
       "      <td>0.191011</td>\n",
       "      <td>0.673759</td>\n",
       "      <td>0.694030</td>\n",
       "      <td>0.882450</td>\n",
       "      <td>0.364706</td>\n",
       "      <td>0.570640</td>\n",
       "    </tr>\n",
       "  </tbody>\n",
       "</table>\n",
       "<p>625 rows × 37 columns</p>\n",
       "</div>"
      ],
      "text/plain": [
       "         WIN%       PTS       FGM       FGA       FG%       3PM       3PA  \\\n",
       "0    0.299745  0.292754  0.417323  0.441624  0.343750  0.044118  0.055851   \n",
       "1    0.409439  0.437681  0.464567  0.487310  0.375000  0.191176  0.202128   \n",
       "2    0.627551  0.411594  0.354331  0.274112  0.427083  0.117647  0.117021   \n",
       "3    0.128827  0.017391  0.000000  0.055838  0.072917  0.117647  0.127660   \n",
       "4    0.362245  0.371014  0.393701  0.395939  0.354167  0.125000  0.090426   \n",
       "..        ...       ...       ...       ...       ...       ...       ...   \n",
       "620  0.414541  0.750725  0.755906  0.715736  0.562500  0.750000  0.720745   \n",
       "621  0.440051  0.866667  0.858268  0.766497  0.666667  0.602941  0.550532   \n",
       "622  0.803571  0.828986  0.700787  0.690355  0.520833  0.830882  0.776596   \n",
       "623  0.644133  0.785507  0.692913  0.548223  0.656250  0.801471  0.728723   \n",
       "624  0.307398  0.875362  0.803150  0.842640  0.510417  0.698529  0.659574   \n",
       "\n",
       "          3P%       FTM       FTA  ...  AST\\nRATIO     OREB%     DREB%  \\\n",
       "0    0.282609  0.487395  0.510067  ...    0.070423  0.751592  0.398438   \n",
       "1    0.384058  0.638655  0.664430  ...    0.253521  0.707006  0.453125   \n",
       "2    0.442029  0.882353  0.899329  ...    0.605634  0.426752  0.507812   \n",
       "3    0.369565  0.495798  0.597315  ...    0.239437  0.732484  0.226562   \n",
       "4    0.688406  0.672269  0.691275  ...    0.450704  0.585987  0.296875   \n",
       "..        ...       ...       ...  ...         ...       ...       ...   \n",
       "620  0.623188  0.294118  0.248322  ...    0.464789  0.267516  0.695312   \n",
       "621  0.710145  0.571429  0.456376  ...    0.535211  0.108280  0.812500   \n",
       "622  0.695652  0.529412  0.442953  ...    0.563380  0.254777  0.578125   \n",
       "623  0.739130  0.470588  0.416107  ...    0.380282  0.286624  0.773438   \n",
       "624  0.652174  0.605042  0.536913  ...    0.492958  0.292994  0.507812   \n",
       "\n",
       "         REB%      TOV%      EFG%       TS%      PACE       PIE      POSS  \n",
       "0    0.715909  0.505618  0.226950  0.253731  0.339956  0.300000  0.664827  \n",
       "1    0.602273  0.449438  0.326241  0.380597  0.485651  0.382353  0.733628  \n",
       "2    0.545455  0.382022  0.333333  0.455224  0.451987  0.764706  0.718175  \n",
       "3    0.522727  1.000000  0.106383  0.156716  0.195364  0.035294  0.576895  \n",
       "4    0.488636  0.651685  0.283688  0.350746  0.550221  0.376471  0.782561  \n",
       "..        ...       ...       ...       ...       ...       ...       ...  \n",
       "620  0.443182  0.280899  0.751773  0.723881  0.673841  0.400000  0.483812  \n",
       "621  0.477273  0.044944  0.730496  0.768657  0.758830  0.535294  0.487491  \n",
       "622  0.488636  0.303371  0.765957  0.783582  0.761589  0.700000  0.516556  \n",
       "623  0.670455  0.370787  0.858156  0.865672  0.649007  0.600000  0.458057  \n",
       "624  0.284091  0.191011  0.673759  0.694030  0.882450  0.364706  0.570640  \n",
       "\n",
       "[625 rows x 37 columns]"
      ]
     },
     "execution_count": 13,
     "metadata": {},
     "output_type": "execute_result"
    }
   ],
   "source": [
    "scaler = MinMaxScaler()\n",
    "scaler.fit(team_stats)\n",
    "normalized_team_stats=scaler.transform(team_stats)\n",
    "normalized_team_stats=pd.DataFrame(normalized_team_stats)\n",
    "normalized_team_stats.columns=team_stats.columns\n",
    "normalized_team_stats"
   ]
  },
  {
   "cell_type": "markdown",
   "metadata": {},
   "source": [
    "# Function to Visualize NBA Team Clusters"
   ]
  },
  {
   "cell_type": "code",
   "execution_count": 154,
   "metadata": {},
   "outputs": [],
   "source": [
    "\"\"\" Visualize KMeans Clustering of NBA Teams\n",
    "\n",
    "Args:\n",
    "    normalized_df: normalized team stats df to cluster\n",
    "    teams: teams df\n",
    "    stats: team statistics df\n",
    "    components: number of components to visualize 2 or 3\n",
    "    color: what feature color scatter points by \n",
    "    hover_data: data to see on plotly scatterplot hover\n",
    "\n",
    "\n",
    "Returns:\n",
    "    pca: dataframe with principal components\n",
    "    knn: Kmeans object trained on data\n",
    "\n",
    "Raises:\n",
    "    Exception(): Invalid input\n",
    "\n",
    "\"\"\"\n",
    "\n",
    "def visualize_KMeans_clustering(normalized_df,teams,stats,k,components,color='Clusters',hover_data=['WIN%','TEAM'],output=False):\n",
    "    \n",
    "    if components!=2 and components!=3:\n",
    "        raise Exception(\"Invalid component: '{}' - Must select 2 or 3\".format(components))\n",
    "    \n",
    "    \n",
    "    # 2 principal components\n",
    "    \n",
    "    if components==2:\n",
    "        \n",
    "        # fitting clusters on normalized data\n",
    "        \n",
    "        knn=KMeans(n_clusters=k,random_state=0)\n",
    "        df_fit=normalized_df.copy()\n",
    "        \n",
    "        # adding more weight to winning percentage\n",
    "        \n",
    "        df_fit['WIN%']=df_fit['WIN%']*2\n",
    "        knn.fit(df_fit)\n",
    "        \n",
    "        # dimensionality reduction w/ PCA\n",
    "        \n",
    "        pca = PCA(n_components=2)\n",
    "        components = pca.fit_transform(normalized_df)\n",
    "        pca=pd.DataFrame(data=components,  columns=[\"PC1\", \"PC2\"])\n",
    "        \n",
    "        pca['TEAM']=teams['TEAM']+\" \"+teams['YEAR']\n",
    "        pca['Clusters']=knn.labels_\n",
    "        pca['Clusters']=pca['Clusters'].astype('O')\n",
    "        \n",
    "        pca=pd.concat([pca,stats],axis=1)\n",
    "        \n",
    "        # visualizing w/ plotly \n",
    "        \n",
    "        fig = px.scatter(pca, x='PC1', y='PC2',color=color,hover_data=hover_data)\n",
    "        fig.show()\n",
    "        \n",
    "        # returning df and trained object\n",
    "        if output!=False:\n",
    "            return pca,knn\n",
    "    \n",
    "    else:\n",
    "        \n",
    "        # same as above but 3 principal components\n",
    "        \n",
    "        knn=KMeans(n_clusters=k,random_state=0)\n",
    "        df_fit=normalized_df.copy()\n",
    "        df_fit['WIN%']=df_fit['WIN%']*2\n",
    "        knn.fit(df_fit)\n",
    "        \n",
    "        pca = PCA(n_components=3)\n",
    "        components = pca.fit_transform(normalized_df)\n",
    "        \n",
    "        total_var = pca.explained_variance_ratio_.sum() * 100\n",
    "        \n",
    "        pca=pd.DataFrame(data=components,  columns=[\"PC1\", \"PC2\",\"PC3\"])\n",
    "        \n",
    "        pca['TEAM']=teams['TEAM']+\" \"+teams['YEAR']\n",
    "        pca['Clusters']=knn.labels_\n",
    "        pca['Clusters']=pca['Clusters'].astype('O')\n",
    "        \n",
    "        pca=pd.concat([pca,stats],axis=1)\n",
    "        \n",
    "        \n",
    "        fig = px.scatter_3d(pca, x='PC1', y='PC2', z='PC3',color=color,hover_data=hover_data,title=f'Total Explained Variance: {total_var:.2f}%',labels={'0': 'PC 1', '1': 'PC 2', '2': 'PC 3'})\n",
    "        fig.show()\n",
    "        \n",
    "        if output!=False:\n",
    "            return pca,knn\n",
    "    \n",
    "\n"
   ]
  },
  {
   "cell_type": "code",
   "execution_count": 182,
   "metadata": {},
   "outputs": [
    {
     "data": {
      "application/vnd.plotly.v1+json": {
       "config": {
        "plotlyServerURL": "https://plot.ly"
       },
       "data": [
        {
         "customdata": [
          [
           0.341,
           "Atlanta Hawks 1999-00"
          ],
          [
           0.427,
           "Boston Celtics 1999-00"
          ],
          [
           0.207,
           "Chicago Bulls 1999-00"
          ],
          [
           0.39,
           "Cleveland Cavaliers 1999-00"
          ],
          [
           0.427,
           "Denver Nuggets 1999-00"
          ],
          [
           0.232,
           "Golden State Warriors 1999-00"
          ],
          [
           0.415,
           "Houston Rockets 1999-00"
          ],
          [
           0.183,
           "Los Angeles Clippers 1999-00"
          ],
          [
           0.378,
           "New Jersey Nets 1999-00"
          ],
          [
           0.5,
           "Orlando Magic 1999-00"
          ],
          [
           0.268,
           "Vancouver Grizzlies 1999-00"
          ],
          [
           0.354,
           "Washington Wizards 1999-00"
          ],
          [
           0.305,
           "Atlanta Hawks 2000-01"
          ],
          [
           0.439,
           "Boston Celtics 2000-01"
          ],
          [
           0.183,
           "Chicago Bulls 2000-01"
          ],
          [
           0.366,
           "Cleveland Cavaliers 2000-01"
          ],
          [
           0.39,
           "Detroit Pistons 2000-01"
          ],
          [
           0.207,
           "Golden State Warriors 2000-01"
          ],
          [
           0.378,
           "Los Angeles Clippers 2000-01"
          ],
          [
           0.317,
           "New Jersey Nets 2000-01"
          ],
          [
           0.28,
           "Vancouver Grizzlies 2000-01"
          ],
          [
           0.232,
           "Washington Wizards 2000-01"
          ],
          [
           0.402,
           "Atlanta Hawks 2001-02"
          ],
          [
           0.256,
           "Chicago Bulls 2001-02"
          ],
          [
           0.354,
           "Cleveland Cavaliers 2001-02"
          ],
          [
           0.329,
           "Denver Nuggets 2001-02"
          ],
          [
           0.256,
           "Golden State Warriors 2001-02"
          ],
          [
           0.341,
           "Houston Rockets 2001-02"
          ],
          [
           0.28,
           "Memphis Grizzlies 2001-02"
          ],
          [
           0.439,
           "Miami Heat 2001-02"
          ],
          [
           0.366,
           "New York Knicks 2001-02"
          ],
          [
           0.439,
           "Phoenix Suns 2001-02"
          ],
          [
           0.427,
           "Atlanta Hawks 2002-03"
          ],
          [
           0.366,
           "Chicago Bulls 2002-03"
          ],
          [
           0.207,
           "Cleveland Cavaliers 2002-03"
          ],
          [
           0.207,
           "Denver Nuggets 2002-03"
          ],
          [
           0.463,
           "Golden State Warriors 2002-03"
          ],
          [
           0.329,
           "Los Angeles Clippers 2002-03"
          ],
          [
           0.341,
           "Memphis Grizzlies 2002-03"
          ],
          [
           0.305,
           "Miami Heat 2002-03"
          ],
          [
           0.293,
           "Toronto Raptors 2002-03"
          ],
          [
           0.451,
           "Washington Wizards 2002-03"
          ],
          [
           0.341,
           "Atlanta Hawks 2003-04"
          ],
          [
           0.439,
           "Boston Celtics 2003-04"
          ],
          [
           0.28,
           "Chicago Bulls 2003-04"
          ],
          [
           0.427,
           "Cleveland Cavaliers 2003-04"
          ],
          [
           0.451,
           "Golden State Warriors 2003-04"
          ],
          [
           0.341,
           "Los Angeles Clippers 2003-04"
          ],
          [
           0.5,
           "New Orleans Hornets 2003-04"
          ],
          [
           0.476,
           "New York Knicks 2003-04"
          ],
          [
           0.256,
           "Orlando Magic 2003-04"
          ],
          [
           0.402,
           "Philadelphia 76ers 2003-04"
          ],
          [
           0.354,
           "Phoenix Suns 2003-04"
          ],
          [
           0.402,
           "Toronto Raptors 2003-04"
          ],
          [
           0.512,
           "Utah Jazz 2003-04"
          ],
          [
           0.305,
           "Washington Wizards 2003-04"
          ],
          [
           0.159,
           "Atlanta Hawks 2004-05"
          ],
          [
           0.22,
           "Charlotte Bobcats 2004-05"
          ],
          [
           0.415,
           "Golden State Warriors 2004-05"
          ],
          [
           0.415,
           "Los Angeles Lakers 2004-05"
          ],
          [
           0.366,
           "Milwaukee Bucks 2004-05"
          ],
          [
           0.22,
           "New Orleans Hornets 2004-05"
          ],
          [
           0.402,
           "New York Knicks 2004-05"
          ],
          [
           0.439,
           "Orlando Magic 2004-05"
          ],
          [
           0.329,
           "Portland Trail Blazers 2004-05"
          ],
          [
           0.317,
           "Utah Jazz 2004-05"
          ]
         ],
         "hovertemplate": "Clusters=5<br>PC1=%{x}<br>PC2=%{y}<br>WIN%=%{customdata[0]}<br>TEAM=%{customdata[1]}<extra></extra>",
         "legendgroup": "5",
         "marker": {
          "color": "#636efa",
          "symbol": "circle"
         },
         "mode": "markers",
         "name": "5",
         "orientation": "v",
         "showlegend": true,
         "type": "scatter",
         "x": [
          -0.9728225824753165,
          -0.6427353718852998,
          -1.710535804406136,
          -0.7572290593688361,
          -0.5051592305728763,
          -1.1086571943460952,
          -0.47228724577749076,
          -1.1581143248297159,
          -0.6184116188346284,
          -0.7041086641243609,
          -1.0136542782101365,
          -0.7930636156328926,
          -1.1565354479130898,
          -0.7635541557914663,
          -1.2905454199333573,
          -1.1293057108605276,
          -0.9056061602839462,
          -1.3323434209998033,
          -0.9562317066619795,
          -1.1358780178949457,
          -0.8838653815441025,
          -1.220584870738333,
          -0.8222026945616813,
          -1.0973239885379587,
          -0.5921715444395625,
          -1.0375373404373736,
          -1.1367187972826287,
          -0.9693099627052327,
          -1.1172144933397825,
          -0.9203262732432559,
          -0.766668657907079,
          -0.6343001125092218,
          -0.7968936555605926,
          -0.8786336348575551,
          -1.335923918779304,
          -1.7785564196463794,
          -0.6637698999723355,
          -0.9818828975386102,
          -0.5081038599371427,
          -1.2870535630522366,
          -1.0801797393391328,
          -0.8589304704170503,
          -0.9672794377062126,
          -0.6862268061506094,
          -1.1295915376661156,
          -0.8885366875459568,
          -0.7362035766316485,
          -1.133632048829641,
          -0.8628119513914239,
          -0.7328584157268334,
          -0.997359142069803,
          -1.1725842976541863,
          -0.8540332125534891,
          -1.0538024904358394,
          -1.3640101120544248,
          -1.3166884746880678,
          -1.2458289427168767,
          -0.9679145141141497,
          -0.4595537152906207,
          -0.5320115132277798,
          -0.6432367028422907,
          -1.2680502756313412,
          -0.633412517609062,
          -0.7074854224746023,
          -0.8798917949815027,
          -1.0877259571262894
         ],
         "xaxis": "x",
         "y": [
          0.16685090224121568,
          -0.03502826554997557,
          0.3257277314000674,
          -0.05540753712734161,
          -0.10286803697646235,
          0.3937429953720006,
          -0.10927368275806487,
          0.7290130532474227,
          0.007998900661599155,
          -0.17660226436654772,
          0.13007989685744611,
          -0.01899257896634358,
          0.22336358397479786,
          -0.05244213753663205,
          0.231839916846861,
          -0.05994934713257018,
          -0.061894075109276005,
          0.416791232006158,
          -0.09813039065807659,
          0.1900004097049592,
          0.04251731038801694,
          0.18192972926109974,
          0.09070657070352563,
          0.1825299430833001,
          -0.2036742363870832,
          0.1761111192109733,
          0.1544000761439637,
          0.17382954395616387,
          0.16829305359462304,
          -0.3216035412692154,
          0.01787714760540726,
          -0.16564103849785466,
          -0.12069007674142268,
          0.055535966461625695,
          0.3670677735982905,
          0.294436532537412,
          -0.18176113459638288,
          0.009985407941348588,
          -0.08355002369408487,
          0.17170530672604425,
          0.20641100183557615,
          -0.3292945382203278,
          0.054770089514406144,
          -0.11520959140257857,
          0.18534685688066888,
          -0.2690110904341617,
          -0.22518805437306105,
          -0.02201643708252552,
          -0.26663449264464845,
          -0.24243223127739258,
          0.3722456806661609,
          -0.21118313043058232,
          0.11104481383284698,
          -0.08817821569982022,
          -0.46309078223601036,
          0.1976576636408881,
          0.4993394147914947,
          0.09373835785952093,
          0.02561425354174207,
          0.018266788144817893,
          -0.13623030448432774,
          0.24162534604679717,
          -0.06269012473782298,
          -0.14277449277531978,
          -0.11957595295445109,
          -0.21428440475469893
         ],
         "yaxis": "y"
        },
        {
         "customdata": [
          [
           0.598,
           "Charlotte Hornets 1999-00"
          ],
          [
           0.488,
           "Dallas Mavericks 1999-00"
          ],
          [
           0.512,
           "Detroit Pistons 1999-00"
          ],
          [
           0.683,
           "Indiana Pacers 1999-00"
          ],
          [
           0.817,
           "Los Angeles Lakers 1999-00"
          ],
          [
           0.634,
           "Miami Heat 1999-00"
          ],
          [
           0.512,
           "Milwaukee Bucks 1999-00"
          ],
          [
           0.61,
           "Minnesota Timberwolves 1999-00"
          ],
          [
           0.61,
           "New York Knicks 1999-00"
          ],
          [
           0.598,
           "Philadelphia 76ers 1999-00"
          ],
          [
           0.646,
           "Phoenix Suns 1999-00"
          ],
          [
           0.72,
           "Portland Trail Blazers 1999-00"
          ],
          [
           0.537,
           "Sacramento Kings 1999-00"
          ],
          [
           0.646,
           "San Antonio Spurs 1999-00"
          ],
          [
           0.549,
           "Seattle SuperSonics 1999-00"
          ],
          [
           0.549,
           "Toronto Raptors 1999-00"
          ],
          [
           0.671,
           "Utah Jazz 1999-00"
          ],
          [
           0.561,
           "Charlotte Hornets 2000-01"
          ],
          [
           0.646,
           "Dallas Mavericks 2000-01"
          ],
          [
           0.488,
           "Denver Nuggets 2000-01"
          ],
          [
           0.549,
           "Houston Rockets 2000-01"
          ],
          [
           0.5,
           "Indiana Pacers 2000-01"
          ],
          [
           0.683,
           "Los Angeles Lakers 2000-01"
          ],
          [
           0.61,
           "Miami Heat 2000-01"
          ],
          [
           0.634,
           "Milwaukee Bucks 2000-01"
          ],
          [
           0.573,
           "Minnesota Timberwolves 2000-01"
          ],
          [
           0.585,
           "New York Knicks 2000-01"
          ],
          [
           0.524,
           "Orlando Magic 2000-01"
          ],
          [
           0.683,
           "Philadelphia 76ers 2000-01"
          ],
          [
           0.622,
           "Phoenix Suns 2000-01"
          ],
          [
           0.61,
           "Portland Trail Blazers 2000-01"
          ],
          [
           0.671,
           "Sacramento Kings 2000-01"
          ],
          [
           0.707,
           "San Antonio Spurs 2000-01"
          ],
          [
           0.537,
           "Seattle SuperSonics 2000-01"
          ],
          [
           0.573,
           "Toronto Raptors 2000-01"
          ],
          [
           0.646,
           "Utah Jazz 2000-01"
          ],
          [
           0.598,
           "Boston Celtics 2001-02"
          ],
          [
           0.537,
           "Charlotte Hornets 2001-02"
          ],
          [
           0.695,
           "Dallas Mavericks 2001-02"
          ],
          [
           0.61,
           "Detroit Pistons 2001-02"
          ],
          [
           0.512,
           "Indiana Pacers 2001-02"
          ],
          [
           0.476,
           "Los Angeles Clippers 2001-02"
          ],
          [
           0.707,
           "Los Angeles Lakers 2001-02"
          ],
          [
           0.5,
           "Milwaukee Bucks 2001-02"
          ],
          [
           0.61,
           "Minnesota Timberwolves 2001-02"
          ],
          [
           0.634,
           "New Jersey Nets 2001-02"
          ],
          [
           0.537,
           "Orlando Magic 2001-02"
          ],
          [
           0.524,
           "Philadelphia 76ers 2001-02"
          ],
          [
           0.598,
           "Portland Trail Blazers 2001-02"
          ],
          [
           0.744,
           "Sacramento Kings 2001-02"
          ],
          [
           0.707,
           "San Antonio Spurs 2001-02"
          ],
          [
           0.549,
           "Seattle SuperSonics 2001-02"
          ],
          [
           0.512,
           "Toronto Raptors 2001-02"
          ],
          [
           0.537,
           "Utah Jazz 2001-02"
          ],
          [
           0.451,
           "Washington Wizards 2001-02"
          ],
          [
           0.537,
           "Boston Celtics 2002-03"
          ],
          [
           0.732,
           "Dallas Mavericks 2002-03"
          ],
          [
           0.61,
           "Detroit Pistons 2002-03"
          ],
          [
           0.524,
           "Houston Rockets 2002-03"
          ],
          [
           0.585,
           "Indiana Pacers 2002-03"
          ],
          [
           0.61,
           "Los Angeles Lakers 2002-03"
          ],
          [
           0.512,
           "Milwaukee Bucks 2002-03"
          ],
          [
           0.622,
           "Minnesota Timberwolves 2002-03"
          ],
          [
           0.598,
           "New Jersey Nets 2002-03"
          ],
          [
           0.573,
           "New Orleans Hornets 2002-03"
          ],
          [
           0.451,
           "New York Knicks 2002-03"
          ],
          [
           0.512,
           "Orlando Magic 2002-03"
          ],
          [
           0.585,
           "Philadelphia 76ers 2002-03"
          ],
          [
           0.537,
           "Phoenix Suns 2002-03"
          ],
          [
           0.61,
           "Portland Trail Blazers 2002-03"
          ],
          [
           0.72,
           "Sacramento Kings 2002-03"
          ],
          [
           0.732,
           "San Antonio Spurs 2002-03"
          ],
          [
           0.488,
           "Seattle SuperSonics 2002-03"
          ],
          [
           0.573,
           "Utah Jazz 2002-03"
          ],
          [
           0.634,
           "Dallas Mavericks 2003-04"
          ],
          [
           0.524,
           "Denver Nuggets 2003-04"
          ],
          [
           0.659,
           "Detroit Pistons 2003-04"
          ],
          [
           0.549,
           "Houston Rockets 2003-04"
          ],
          [
           0.744,
           "Indiana Pacers 2003-04"
          ],
          [
           0.683,
           "Los Angeles Lakers 2003-04"
          ],
          [
           0.61,
           "Memphis Grizzlies 2003-04"
          ],
          [
           0.512,
           "Miami Heat 2003-04"
          ],
          [
           0.5,
           "Milwaukee Bucks 2003-04"
          ],
          [
           0.707,
           "Minnesota Timberwolves 2003-04"
          ],
          [
           0.573,
           "New Jersey Nets 2003-04"
          ],
          [
           0.5,
           "Portland Trail Blazers 2003-04"
          ],
          [
           0.671,
           "Sacramento Kings 2003-04"
          ],
          [
           0.695,
           "San Antonio Spurs 2003-04"
          ],
          [
           0.451,
           "Seattle SuperSonics 2003-04"
          ],
          [
           0.549,
           "Boston Celtics 2004-05"
          ],
          [
           0.573,
           "Chicago Bulls 2004-05"
          ],
          [
           0.512,
           "Cleveland Cavaliers 2004-05"
          ],
          [
           0.707,
           "Dallas Mavericks 2004-05"
          ],
          [
           0.598,
           "Denver Nuggets 2004-05"
          ],
          [
           0.659,
           "Detroit Pistons 2004-05"
          ],
          [
           0.622,
           "Houston Rockets 2004-05"
          ],
          [
           0.537,
           "Indiana Pacers 2004-05"
          ],
          [
           0.451,
           "Los Angeles Clippers 2004-05"
          ],
          [
           0.549,
           "Memphis Grizzlies 2004-05"
          ],
          [
           0.537,
           "Minnesota Timberwolves 2004-05"
          ],
          [
           0.512,
           "New Jersey Nets 2004-05"
          ],
          [
           0.524,
           "Philadelphia 76ers 2004-05"
          ],
          [
           0.61,
           "Sacramento Kings 2004-05"
          ],
          [
           0.72,
           "San Antonio Spurs 2004-05"
          ],
          [
           0.634,
           "Seattle SuperSonics 2004-05"
          ],
          [
           0.402,
           "Toronto Raptors 2004-05"
          ],
          [
           0.549,
           "Washington Wizards 2004-05"
          ]
         ],
         "hovertemplate": "Clusters=0<br>PC1=%{x}<br>PC2=%{y}<br>WIN%=%{customdata[0]}<br>TEAM=%{customdata[1]}<extra></extra>",
         "legendgroup": "0",
         "marker": {
          "color": "#EF553B",
          "symbol": "circle"
         },
         "mode": "markers",
         "name": "0",
         "orientation": "v",
         "showlegend": true,
         "type": "scatter",
         "x": [
          -0.22597985524632824,
          -0.1154801218597252,
          -0.30680391866182743,
          0.1400087661953885,
          -0.047052712696578194,
          -0.2692680927859699,
          -0.2977060538141207,
          -0.06608292395919267,
          -0.5659196630555635,
          -0.8625565328494474,
          -0.19291751578550023,
          -0.17013184034109244,
          -0.051153850663411875,
          -0.30605748798523597,
          -0.29754730119571443,
          -0.47231223177918463,
          -0.2715351996100921,
          -0.6422170438485488,
          -0.07583988950170738,
          -0.4580076047825363,
          -0.4416300661082572,
          -0.7067528876534932,
          -0.22129019236707337,
          -0.7197941033123154,
          -0.03724775327129772,
          -0.21915191345996227,
          -0.7171025411233803,
          -0.6263907328029311,
          -0.7201096155039521,
          -0.594958306726938,
          -0.29824167924047335,
          -0.13211441852411224,
          -0.1774182277898473,
          -0.5138902050509792,
          -0.30452447102219343,
          -0.34266327365281407,
          -0.34760338850750344,
          -0.6785341674390734,
          0.2643931141669668,
          -0.3571802726260012,
          -0.5167859616743901,
          -0.6912324878233909,
          0.04834319781392184,
          -0.1647810012181476,
          -0.061818809539756506,
          -0.35983304058432786,
          -0.16707731156680639,
          -0.9935543844325095,
          -0.32953407918445676,
          0.21723462324687007,
          -0.3600069084374702,
          -0.17983818497624482,
          -0.8151965649351534,
          -0.8051622068954412,
          -0.7173881463228338,
          -0.6468917367942126,
          0.3469335387255516,
          -0.5864061270227525,
          -0.761318490000207,
          -0.4887195496039762,
          -0.22471638353622378,
          -0.13343378657215524,
          -0.09144604141536955,
          -0.4987242430177801,
          -0.6360031461350776,
          -0.32639640095442957,
          -0.5045930086319518,
          -0.6763473335521692,
          -0.665459359099193,
          -0.5029862682365862,
          0.20026494796973254,
          -0.46664494824781766,
          -0.6101046236532155,
          -0.6425425835890277,
          0.21517008082015013,
          -0.7232659362009995,
          -0.8003090325974245,
          -0.7372502968517484,
          -0.6137309885130624,
          -0.2573940346377829,
          -0.5582486887975594,
          -0.8336937609173217,
          -0.3584392721751249,
          -0.11559188410243376,
          -0.507824591647368,
          -0.8093724844462502,
          0.262988637443926,
          -0.5641946277810964,
          -0.3697517328543477,
          -0.37590265929074074,
          -0.7284771565994915,
          -0.6606163568440325,
          -0.20273396072773195,
          -0.3745686844391657,
          -0.5703644501979445,
          -0.3038439964925603,
          -0.7844735594488504,
          -0.684157714706446,
          -0.6520770241662555,
          -0.21299851419586258,
          -0.7716792592746717,
          -0.4592561647665641,
          0.08666982328602246,
          -0.2698430073319665,
          -0.49498372943917285,
          -0.2875465373834264,
          -0.6637361412689899
         ],
         "xaxis": "x",
         "y": [
          -0.702587554526475,
          -0.044060966086001546,
          -0.24314132345142317,
          -0.6277171688542554,
          -1.0326154798551899,
          -0.7357440282004925,
          -0.3310101921215913,
          -0.7211122441337395,
          -0.38885860766833796,
          -0.4322112589727379,
          -0.7340267606527049,
          -0.9854773534831,
          -0.2119214745953974,
          -0.8893030199601136,
          -0.2161197798178107,
          -0.3975589677702539,
          -0.9541584523891885,
          -0.7027994705616114,
          -0.5202525325024748,
          -0.16794384423132586,
          -0.3802102843865332,
          -0.41742750112877597,
          -0.7261550675400157,
          -0.5015089847775389,
          -0.5488433044258904,
          -0.6094919443195683,
          -0.5097269251455919,
          -0.30992885104150697,
          -0.7305792023028728,
          -0.5447315569289708,
          -0.8704445764951538,
          -0.6159558430385665,
          -1.0852943582431909,
          -0.3218907331195884,
          -0.6096610434444666,
          -1.0351318819316984,
          -0.25577220558257185,
          -0.5218265679143408,
          -0.48699947254141296,
          -0.6013871247472965,
          -0.4114832491498395,
          -0.3180278519306839,
          -0.8323574425861769,
          -0.3093913796198476,
          -0.6764419097324307,
          -0.7066890296832121,
          -0.2568409002000137,
          -0.5172076486560652,
          -0.6460464358700779,
          -0.8362983605119056,
          -0.834055912229903,
          -0.5797258247232012,
          -0.37805941219676953,
          -0.7296650321792472,
          -0.29241368183566635,
          -0.07018466870999826,
          -0.7519455344520253,
          -0.6405054250512981,
          -0.3983039908690865,
          -0.6716444132138976,
          -0.5677495017584836,
          -0.3166504615560681,
          -0.6705277287027718,
          -0.7718911265972598,
          -0.5727961370470375,
          -0.09358079652145015,
          -0.12969704789171374,
          -0.4998141093547686,
          -0.31515881693139475,
          -0.6246189734148594,
          -0.7893090944740769,
          -0.8019761555400313,
          -0.3418845051142312,
          -0.9971364547563306,
          -0.5663126613481659,
          -0.41051966865387124,
          -0.9516907729809528,
          -0.4768724439995212,
          -0.8648568694924688,
          -0.7796502600421243,
          -0.6248290904104247,
          -0.27815723285489213,
          -0.44463326294949945,
          -0.9414082748290369,
          -0.7126028441652288,
          -0.3828748590768119,
          -0.7986030663490332,
          -0.9561517716299949,
          -0.17785297939334355,
          -0.41734902219892994,
          -0.34258129526549647,
          -0.5306588451664245,
          -0.6722482255126262,
          -0.6463517973072123,
          -0.8615248647511734,
          -0.6497753886749432,
          -0.35021199056397345,
          -0.5758479755143328,
          -0.5300039574411841,
          -0.5800783260092636,
          -0.3187552448321585,
          -0.1531324796641951,
          -0.5149382280407039,
          -0.981511440058332,
          -0.38637786921846873,
          -0.01679987978984004,
          -0.16018825027198844
         ],
         "yaxis": "y"
        },
        {
         "customdata": [
          [
           0.72,
           "Miami Heat 2004-05"
          ],
          [
           0.756,
           "Phoenix Suns 2004-05"
          ],
          [
           0.732,
           "Dallas Mavericks 2005-06"
          ],
          [
           0.78,
           "Detroit Pistons 2005-06"
          ],
          [
           0.634,
           "Miami Heat 2005-06"
          ],
          [
           0.768,
           "San Antonio Spurs 2005-06"
          ],
          [
           0.817,
           "Dallas Mavericks 2006-07"
          ],
          [
           0.646,
           "Detroit Pistons 2006-07"
          ],
          [
           0.634,
           "Houston Rockets 2006-07"
          ],
          [
           0.707,
           "San Antonio Spurs 2006-07"
          ],
          [
           0.622,
           "Utah Jazz 2006-07"
          ],
          [
           0.805,
           "Boston Celtics 2007-08"
          ],
          [
           0.622,
           "Dallas Mavericks 2007-08"
          ],
          [
           0.72,
           "Detroit Pistons 2007-08"
          ],
          [
           0.671,
           "Houston Rockets 2007-08"
          ],
          [
           0.695,
           "Los Angeles Lakers 2007-08"
          ],
          [
           0.683,
           "New Orleans Hornets 2007-08"
          ],
          [
           0.634,
           "Orlando Magic 2007-08"
          ],
          [
           0.683,
           "San Antonio Spurs 2007-08"
          ],
          [
           0.659,
           "Utah Jazz 2007-08"
          ],
          [
           0.756,
           "Boston Celtics 2008-09"
          ],
          [
           0.805,
           "Cleveland Cavaliers 2008-09"
          ],
          [
           0.61,
           "Dallas Mavericks 2008-09"
          ],
          [
           0.659,
           "Denver Nuggets 2008-09"
          ],
          [
           0.646,
           "Houston Rockets 2008-09"
          ],
          [
           0.793,
           "Los Angeles Lakers 2008-09"
          ],
          [
           0.72,
           "Orlando Magic 2008-09"
          ],
          [
           0.561,
           "Phoenix Suns 2008-09"
          ],
          [
           0.659,
           "Portland Trail Blazers 2008-09"
          ],
          [
           0.659,
           "San Antonio Spurs 2008-09"
          ],
          [
           0.585,
           "Utah Jazz 2008-09"
          ],
          [
           0.646,
           "Atlanta Hawks 2009-10"
          ],
          [
           0.61,
           "Boston Celtics 2009-10"
          ],
          [
           0.744,
           "Cleveland Cavaliers 2009-10"
          ],
          [
           0.671,
           "Dallas Mavericks 2009-10"
          ],
          [
           0.646,
           "Denver Nuggets 2009-10"
          ],
          [
           0.695,
           "Los Angeles Lakers 2009-10"
          ],
          [
           0.72,
           "Orlando Magic 2009-10"
          ],
          [
           0.659,
           "Phoenix Suns 2009-10"
          ],
          [
           0.61,
           "San Antonio Spurs 2009-10"
          ],
          [
           0.646,
           "Utah Jazz 2009-10"
          ],
          [
           0.683,
           "Boston Celtics 2010-11"
          ],
          [
           0.756,
           "Chicago Bulls 2010-11"
          ],
          [
           0.695,
           "Dallas Mavericks 2010-11"
          ],
          [
           0.61,
           "Denver Nuggets 2010-11"
          ],
          [
           0.695,
           "Los Angeles Lakers 2010-11"
          ],
          [
           0.707,
           "Miami Heat 2010-11"
          ],
          [
           0.671,
           "Oklahoma City Thunder 2010-11"
          ],
          [
           0.634,
           "Orlando Magic 2010-11"
          ],
          [
           0.744,
           "San Antonio Spurs 2010-11"
          ],
          [
           0.758,
           "Chicago Bulls 2011-12"
          ],
          [
           0.576,
           "Denver Nuggets 2011-12"
          ],
          [
           0.697,
           "Miami Heat 2011-12"
          ],
          [
           0.712,
           "Oklahoma City Thunder 2011-12"
          ],
          [
           0.758,
           "San Antonio Spurs 2011-12"
          ],
          [
           0.695,
           "Denver Nuggets 2012-13"
          ],
          [
           0.683,
           "Los Angeles Clippers 2012-13"
          ],
          [
           0.805,
           "Miami Heat 2012-13"
          ],
          [
           0.659,
           "New York Knicks 2012-13"
          ],
          [
           0.732,
           "Oklahoma City Thunder 2012-13"
          ],
          [
           0.707,
           "San Antonio Spurs 2012-13"
          ],
          [
           0.659,
           "Houston Rockets 2013-14"
          ],
          [
           0.683,
           "Indiana Pacers 2013-14"
          ],
          [
           0.695,
           "Los Angeles Clippers 2013-14"
          ],
          [
           0.659,
           "Miami Heat 2013-14"
          ],
          [
           0.72,
           "Oklahoma City Thunder 2013-14"
          ],
          [
           0.756,
           "San Antonio Spurs 2013-14"
          ],
          [
           0.732,
           "Atlanta Hawks 2014-15"
          ],
          [
           0.646,
           "Cleveland Cavaliers 2014-15"
          ],
          [
           0.683,
           "Los Angeles Clippers 2014-15"
          ],
          [
           0.671,
           "Memphis Grizzlies 2014-15"
          ],
          [
           0.671,
           "San Antonio Spurs 2014-15"
          ],
          [
           0.695,
           "Cleveland Cavaliers 2015-16"
          ],
          [
           0.646,
           "LA Clippers 2015-16"
          ],
          [
           0.671,
           "Oklahoma City Thunder 2015-16"
          ],
          [
           0.817,
           "San Antonio Spurs 2015-16"
          ],
          [
           0.683,
           "Toronto Raptors 2015-16"
          ],
          [
           0.744,
           "San Antonio Spurs 2016-17"
          ],
          [
           0.622,
           "Utah Jazz 2016-17"
          ]
         ],
         "hovertemplate": "Clusters=3<br>PC1=%{x}<br>PC2=%{y}<br>WIN%=%{customdata[0]}<br>TEAM=%{customdata[1]}<extra></extra>",
         "legendgroup": "3",
         "marker": {
          "color": "#00cc96",
          "symbol": "circle"
         },
         "mode": "markers",
         "name": "3",
         "orientation": "v",
         "showlegend": true,
         "type": "scatter",
         "x": [
          0.07544122678091793,
          0.5988199841957479,
          -0.1128109508566671,
          0.3552635970421613,
          0.21876299076576933,
          0.1770371297411642,
          0.2673660366072406,
          0.01717735806871623,
          0.1488327052493235,
          0.4494367468689322,
          0.041529119407034715,
          0.4059564829463663,
          0.28663423894242857,
          0.24227087588361806,
          0.06910477715681725,
          0.808951047009987,
          0.5147366710240995,
          0.5707945088202445,
          0.272102717244858,
          0.5906695741666261,
          0.3809654636804153,
          0.43691653720055956,
          0.39023549301102156,
          0.2095178843501507,
          0.15399779895682736,
          0.6210488259805,
          0.4194855020190496,
          0.602327174239398,
          0.16853436065390626,
          0.45432833049422394,
          0.23792151323187113,
          0.3233132413159518,
          0.2658458888091457,
          0.5806850874765249,
          0.5107154231244613,
          0.30879292931361507,
          0.2825169084235802,
          0.5937443085039493,
          0.796752979383592,
          0.37073231216706864,
          0.5371380500423364,
          0.31595843428657316,
          0.17566161468402067,
          0.5636712070043597,
          0.5839873808765782,
          0.326364722562029,
          0.4505289129906532,
          0.22658155344986533,
          0.24432506048818758,
          0.6576617565699046,
          0.06710521658539698,
          0.25833280108991075,
          0.03869650777534912,
          0.10139272844808807,
          0.6975705525875341,
          0.3348831946335142,
          0.4244276812679446,
          0.8032409444568999,
          0.360906701455262,
          0.6088230246086241,
          0.8151446082709534,
          0.476238598099707,
          0.07921037418851312,
          0.7888865557354591,
          0.6377914151440003,
          0.6016724014589085,
          1.0023325762951814,
          0.7745806830742875,
          0.4789870454936758,
          1.0109289288987147,
          0.16090233608614948,
          0.7331270824771706,
          0.7506682873252392,
          0.7450782079530861,
          0.6989195998984467,
          1.0283002341238567,
          0.33538047892666173,
          0.9058637291499143,
          0.5353913361464077
         ],
         "xaxis": "x",
         "y": [
          -0.9534457247336562,
          -0.6615111261318627,
          -0.501638496511488,
          -0.793771592797509,
          -0.3129370221961679,
          -0.6034039250044665,
          -0.5738586423219649,
          -0.4780430126515302,
          -0.24917003731277754,
          -0.6676561815981247,
          -0.3954859268283397,
          -0.8197735565577424,
          -0.333732968711045,
          -0.7304069520028378,
          -0.3290504894665964,
          -0.45604139835384616,
          -0.339401447756958,
          -0.18011370185586487,
          -0.33912483519540915,
          -0.6568849226994328,
          -0.6739580568645168,
          -0.6621199287253834,
          -0.14426560080343762,
          -0.274166239217904,
          -0.21897105298181582,
          -0.4913704199892699,
          -0.32868864957029603,
          -0.11391761851235142,
          -0.45628159526294887,
          -0.25731204121677115,
          -0.31380726829148886,
          -0.3314418166580992,
          -0.37933349318471477,
          -0.5762668427977717,
          -0.2989122226923481,
          -0.17202127279194626,
          -0.2375522938126679,
          -0.3822139779377838,
          -0.25555616157152833,
          -0.2878768537985153,
          -0.5627345131063238,
          -0.5923257059132621,
          -0.5979568476060768,
          -0.4085683129955827,
          -0.15611220377480375,
          -0.434074840788051,
          -0.5614261431260559,
          -0.2870287823375216,
          -0.25801162681909007,
          -0.3738517454516156,
          -0.7647615942869486,
          -0.17788475409183016,
          -0.48972606153851655,
          -0.37747385556326785,
          -0.46839332522466015,
          -0.32847432619765754,
          -0.5532005601073706,
          -0.6919484607685216,
          -0.0710571503473907,
          -0.6882820962647025,
          -0.4493003886429767,
          -0.1259257015365367,
          -0.2650125168375364,
          -0.44168808825500105,
          -0.3799436975041813,
          -0.3765469083470703,
          -0.49229779833398163,
          -0.394064205870562,
          -0.14889380556236453,
          -0.405800232525098,
          -0.21831411771399253,
          -0.38119409500499724,
          -0.18559224197740692,
          -0.16414203300942606,
          -0.34302851897722,
          -0.7899960823797468,
          -0.11398889875245218,
          -0.4760580983049082,
          -0.16399885716647125
         ],
         "yaxis": "y"
        },
        {
         "customdata": [
          [
           0.317,
           "Atlanta Hawks 2005-06"
          ],
          [
           0.317,
           "Charlotte Bobcats 2005-06"
          ],
          [
           0.415,
           "Golden State Warriors 2005-06"
          ],
          [
           0.28,
           "New York Knicks 2005-06"
          ],
          [
           0.256,
           "Portland Trail Blazers 2005-06"
          ],
          [
           0.427,
           "Seattle SuperSonics 2005-06"
          ],
          [
           0.329,
           "Toronto Raptors 2005-06"
          ],
          [
           0.366,
           "Atlanta Hawks 2006-07"
          ],
          [
           0.293,
           "Boston Celtics 2006-07"
          ],
          [
           0.402,
           "Charlotte Bobcats 2006-07"
          ],
          [
           0.427,
           "Indiana Pacers 2006-07"
          ],
          [
           0.268,
           "Memphis Grizzlies 2006-07"
          ],
          [
           0.341,
           "Milwaukee Bucks 2006-07"
          ],
          [
           0.402,
           "New York Knicks 2006-07"
          ],
          [
           0.39,
           "Portland Trail Blazers 2006-07"
          ],
          [
           0.378,
           "Seattle SuperSonics 2006-07"
          ],
          [
           0.39,
           "Charlotte Bobcats 2007-08"
          ],
          [
           0.402,
           "Chicago Bulls 2007-08"
          ],
          [
           0.28,
           "Los Angeles Clippers 2007-08"
          ],
          [
           0.268,
           "Memphis Grizzlies 2007-08"
          ],
          [
           0.183,
           "Miami Heat 2007-08"
          ],
          [
           0.317,
           "Milwaukee Bucks 2007-08"
          ],
          [
           0.268,
           "Minnesota Timberwolves 2007-08"
          ],
          [
           0.28,
           "New York Knicks 2007-08"
          ],
          [
           0.244,
           "Seattle SuperSonics 2007-08"
          ],
          [
           0.232,
           "Los Angeles Clippers 2008-09"
          ],
          [
           0.293,
           "Memphis Grizzlies 2008-09"
          ],
          [
           0.293,
           "Minnesota Timberwolves 2008-09"
          ],
          [
           0.28,
           "Oklahoma City Thunder 2008-09"
          ],
          [
           0.207,
           "Sacramento Kings 2008-09"
          ],
          [
           0.232,
           "Washington Wizards 2008-09"
          ],
          [
           0.329,
           "Detroit Pistons 2009-10"
          ],
          [
           0.354,
           "Los Angeles Clippers 2009-10"
          ],
          [
           0.183,
           "Minnesota Timberwolves 2009-10"
          ],
          [
           0.146,
           "New Jersey Nets 2009-10"
          ],
          [
           0.329,
           "Philadelphia 76ers 2009-10"
          ],
          [
           0.305,
           "Sacramento Kings 2009-10"
          ],
          [
           0.317,
           "Washington Wizards 2009-10"
          ],
          [
           0.232,
           "Cleveland Cavaliers 2010-11"
          ],
          [
           0.366,
           "Detroit Pistons 2010-11"
          ],
          [
           0.39,
           "Los Angeles Clippers 2010-11"
          ],
          [
           0.207,
           "Minnesota Timberwolves 2010-11"
          ],
          [
           0.293,
           "New Jersey Nets 2010-11"
          ],
          [
           0.293,
           "Sacramento Kings 2010-11"
          ],
          [
           0.268,
           "Toronto Raptors 2010-11"
          ],
          [
           0.28,
           "Washington Wizards 2010-11"
          ],
          [
           0.106,
           "Charlotte Bobcats 2011-12"
          ],
          [
           0.318,
           "Cleveland Cavaliers 2011-12"
          ],
          [
           0.379,
           "Detroit Pistons 2011-12"
          ],
          [
           0.394,
           "Minnesota Timberwolves 2011-12"
          ],
          [
           0.333,
           "New Jersey Nets 2011-12"
          ],
          [
           0.318,
           "New Orleans Hornets 2011-12"
          ],
          [
           0.333,
           "Sacramento Kings 2011-12"
          ],
          [
           0.348,
           "Toronto Raptors 2011-12"
          ],
          [
           0.303,
           "Washington Wizards 2011-12"
          ],
          [
           0.256,
           "Charlotte Bobcats 2012-13"
          ],
          [
           0.293,
           "Cleveland Cavaliers 2012-13"
          ],
          [
           0.354,
           "Detroit Pistons 2012-13"
          ],
          [
           0.378,
           "Minnesota Timberwolves 2012-13"
          ],
          [
           0.329,
           "New Orleans Hornets 2012-13"
          ],
          [
           0.244,
           "Orlando Magic 2012-13"
          ],
          [
           0.305,
           "Phoenix Suns 2012-13"
          ],
          [
           0.341,
           "Sacramento Kings 2012-13"
          ],
          [
           0.354,
           "Washington Wizards 2012-13"
          ],
          [
           0.305,
           "Boston Celtics 2013-14"
          ],
          [
           0.402,
           "Cleveland Cavaliers 2013-14"
          ],
          [
           0.354,
           "Detroit Pistons 2013-14"
          ],
          [
           0.183,
           "Milwaukee Bucks 2013-14"
          ],
          [
           0.28,
           "Orlando Magic 2013-14"
          ],
          [
           0.232,
           "Philadelphia 76ers 2013-14"
          ],
          [
           0.341,
           "Sacramento Kings 2013-14"
          ],
          [
           0.305,
           "Utah Jazz 2013-14"
          ],
          [
           0.366,
           "Denver Nuggets 2014-15"
          ],
          [
           0.256,
           "Los Angeles Lakers 2014-15"
          ],
          [
           0.195,
           "Minnesota Timberwolves 2014-15"
          ],
          [
           0.207,
           "New York Knicks 2014-15"
          ],
          [
           0.305,
           "Orlando Magic 2014-15"
          ],
          [
           0.22,
           "Philadelphia 76ers 2014-15"
          ],
          [
           0.354,
           "Sacramento Kings 2014-15"
          ],
          [
           0.207,
           "Los Angeles Lakers 2015-16"
          ],
          [
           0.402,
           "Milwaukee Bucks 2015-16"
          ],
          [
           0.122,
           "Philadelphia 76ers 2015-16"
          ],
          [
           0.28,
           "Phoenix Suns 2015-16"
          ]
         ],
         "hovertemplate": "Clusters=1<br>PC1=%{x}<br>PC2=%{y}<br>WIN%=%{customdata[0]}<br>TEAM=%{customdata[1]}<extra></extra>",
         "legendgroup": "1",
         "marker": {
          "color": "#ab63fa",
          "symbol": "circle"
         },
         "mode": "markers",
         "name": "1",
         "orientation": "v",
         "showlegend": true,
         "type": "scatter",
         "x": [
          -0.5982426836472085,
          -0.5059675600762994,
          -0.22503003119374346,
          -0.9018961630440114,
          -1.009669511054553,
          -0.1408827312142678,
          -0.05119970509753105,
          -0.786273220490556,
          -0.568543884249104,
          -0.3609291028605178,
          -0.47423771063452197,
          -0.24420454098092248,
          -0.22657969804732428,
          -0.5306588536291189,
          -0.6174074580567608,
          -0.20739022942353275,
          -0.30712617010470916,
          -0.32847931185099916,
          -0.4913720264592538,
          -0.12129641189690941,
          -0.5859101940395242,
          -0.4145081111095884,
          -0.5038758602540153,
          -0.5579927814610889,
          -0.4475970985514006,
          -0.4607951523660226,
          -0.6473039232836696,
          -0.3298507031384276,
          -0.4895052052829991,
          -0.35031329151407975,
          -0.4989165955625623,
          -0.6465732230828204,
          -0.29930983322201427,
          -0.4926560324547165,
          -0.8053190744202582,
          -0.1870350201170899,
          -0.2505500686821057,
          -0.4667502834355492,
          -0.45527519474941547,
          -0.21382265564160532,
          -0.2526780685522688,
          -0.36802255185034716,
          -0.4512849491289801,
          -0.41371200440851635,
          -0.3352039715669256,
          -0.6188767943665949,
          -1.146860569638609,
          -0.8036997553610068,
          -0.8440071106923865,
          -0.3457348779514732,
          -0.625117824026162,
          -0.7196368093060752,
          -0.5196355876876022,
          -0.5778693266180568,
          -0.6524402752077532,
          -0.7368993562767938,
          -0.44601926955186916,
          -0.41315885329373,
          -0.30656181101622687,
          -0.3833268831876393,
          -0.23842481411997804,
          -0.39244148709344356,
          -0.21142971804471516,
          -0.287705991698456,
          -0.32569569844287305,
          -0.166575762833798,
          -0.25389450966956306,
          -0.4678894198084415,
          -0.1814004132480155,
          -0.4533234783213258,
          -0.2548116619950665,
          -0.3668652292037988,
          -0.08057564507628452,
          -0.19026116391381495,
          -0.47155264188861085,
          -0.5253651706010123,
          -0.20530891919098693,
          -0.8258940317390392,
          -0.19182612838903634,
          -0.4599365197548792,
          -0.05319253171307476,
          -0.3235441113914019,
          -0.13996078226421868
         ],
         "xaxis": "x",
         "y": [
          0.36991370399635415,
          0.4480015152663606,
          0.35165467360016206,
          0.5048694838019038,
          0.6592931433803697,
          0.3296462025115418,
          0.4657525519746827,
          0.31306708267637795,
          0.36795202811760097,
          0.2630106038326863,
          0.22455367595191414,
          0.5017671568159725,
          0.4797203074082849,
          0.30337485743679,
          0.33678613442884187,
          0.27991606601542635,
          0.3405165169430161,
          0.24560460074735915,
          0.4628592639695897,
          0.7602152042305257,
          0.6312613719310235,
          0.49107238202789705,
          0.6487561458483758,
          0.6959857861900649,
          0.707076050099185,
          0.6724967939920208,
          0.5118430824652502,
          0.5281338639098712,
          0.47163706176542797,
          0.8078333192901698,
          0.5997849494659794,
          0.42494848809064223,
          0.38377495631522734,
          0.8972305227768694,
          0.7876972160198562,
          0.2725397594690948,
          0.5111034953664084,
          0.48463398644941313,
          0.7510671979432659,
          0.23862953947072743,
          0.2249263578332459,
          0.7330911393831322,
          0.46380278631364574,
          0.56613557238415,
          0.49733727783828674,
          0.6359975871593181,
          0.9836292320137774,
          0.6185604458660473,
          0.3861366942173174,
          0.3756498957624002,
          0.5143783364739368,
          0.1499726668115351,
          0.671702522707586,
          0.1757875513113097,
          0.449508686673451,
          0.7637076273584127,
          0.5722755416726083,
          0.34024312624324077,
          0.22929744566670415,
          0.3137890148846405,
          0.5652786854217248,
          0.5005844608584384,
          0.5728661259995037,
          0.24234147846441217,
          0.4914210130409393,
          0.4060626773459568,
          0.44684168760372656,
          0.6511515825542573,
          0.5509072980921342,
          1.0436217423124559,
          0.4832909989442438,
          0.5974553101915632,
          0.5623061271056011,
          0.6519593117588116,
          0.6841019967714321,
          0.7029632821790013,
          0.6116815593187298,
          0.8516820867941393,
          0.4199214641001868,
          1.054440114139329,
          0.26558649274992796,
          1.0256095313146945,
          0.8346683484201237
         ],
         "yaxis": "y"
        },
        {
         "customdata": [
          [
           0.402,
           "Boston Celtics 2005-06"
          ],
          [
           0.5,
           "Chicago Bulls 2005-06"
          ],
          [
           0.61,
           "Cleveland Cavaliers 2005-06"
          ],
          [
           0.537,
           "Denver Nuggets 2005-06"
          ],
          [
           0.415,
           "Houston Rockets 2005-06"
          ],
          [
           0.5,
           "Indiana Pacers 2005-06"
          ],
          [
           0.573,
           "Los Angeles Clippers 2005-06"
          ],
          [
           0.549,
           "Los Angeles Lakers 2005-06"
          ],
          [
           0.598,
           "Memphis Grizzlies 2005-06"
          ],
          [
           0.488,
           "Milwaukee Bucks 2005-06"
          ],
          [
           0.402,
           "Minnesota Timberwolves 2005-06"
          ],
          [
           0.598,
           "New Jersey Nets 2005-06"
          ],
          [
           0.463,
           "New Orleans/Oklahoma City Hornets 2005-06"
          ],
          [
           0.439,
           "Orlando Magic 2005-06"
          ],
          [
           0.463,
           "Philadelphia 76ers 2005-06"
          ],
          [
           0.537,
           "Sacramento Kings 2005-06"
          ],
          [
           0.5,
           "Utah Jazz 2005-06"
          ],
          [
           0.512,
           "Washington Wizards 2005-06"
          ],
          [
           0.598,
           "Chicago Bulls 2006-07"
          ],
          [
           0.61,
           "Cleveland Cavaliers 2006-07"
          ],
          [
           0.549,
           "Denver Nuggets 2006-07"
          ],
          [
           0.488,
           "Los Angeles Clippers 2006-07"
          ],
          [
           0.512,
           "Los Angeles Lakers 2006-07"
          ],
          [
           0.537,
           "Miami Heat 2006-07"
          ],
          [
           0.39,
           "Minnesota Timberwolves 2006-07"
          ],
          [
           0.5,
           "New Jersey Nets 2006-07"
          ],
          [
           0.476,
           "New Orleans/Oklahoma City Hornets 2006-07"
          ],
          [
           0.488,
           "Orlando Magic 2006-07"
          ],
          [
           0.427,
           "Philadelphia 76ers 2006-07"
          ],
          [
           0.402,
           "Sacramento Kings 2006-07"
          ],
          [
           0.573,
           "Toronto Raptors 2006-07"
          ],
          [
           0.5,
           "Washington Wizards 2006-07"
          ],
          [
           0.451,
           "Atlanta Hawks 2007-08"
          ],
          [
           0.549,
           "Cleveland Cavaliers 2007-08"
          ],
          [
           0.415,
           "New Jersey Nets 2007-08"
          ],
          [
           0.488,
           "Philadelphia 76ers 2007-08"
          ],
          [
           0.5,
           "Portland Trail Blazers 2007-08"
          ],
          [
           0.463,
           "Sacramento Kings 2007-08"
          ],
          [
           0.524,
           "Washington Wizards 2007-08"
          ],
          [
           0.573,
           "Atlanta Hawks 2008-09"
          ],
          [
           0.427,
           "Charlotte Bobcats 2008-09"
          ],
          [
           0.5,
           "Chicago Bulls 2008-09"
          ],
          [
           0.476,
           "Detroit Pistons 2008-09"
          ],
          [
           0.524,
           "Miami Heat 2008-09"
          ],
          [
           0.415,
           "Milwaukee Bucks 2008-09"
          ],
          [
           0.415,
           "New Jersey Nets 2008-09"
          ],
          [
           0.598,
           "New Orleans Hornets 2008-09"
          ],
          [
           0.5,
           "Philadelphia 76ers 2008-09"
          ],
          [
           0.402,
           "Toronto Raptors 2008-09"
          ],
          [
           0.537,
           "Charlotte Bobcats 2009-10"
          ],
          [
           0.5,
           "Chicago Bulls 2009-10"
          ],
          [
           0.512,
           "Houston Rockets 2009-10"
          ],
          [
           0.488,
           "Memphis Grizzlies 2009-10"
          ],
          [
           0.573,
           "Miami Heat 2009-10"
          ],
          [
           0.561,
           "Milwaukee Bucks 2009-10"
          ],
          [
           0.61,
           "Oklahoma City Thunder 2009-10"
          ],
          [
           0.61,
           "Portland Trail Blazers 2009-10"
          ],
          [
           0.488,
           "Toronto Raptors 2009-10"
          ],
          [
           0.537,
           "Atlanta Hawks 2010-11"
          ],
          [
           0.415,
           "Charlotte Bobcats 2010-11"
          ],
          [
           0.451,
           "Indiana Pacers 2010-11"
          ],
          [
           0.561,
           "Memphis Grizzlies 2010-11"
          ],
          [
           0.427,
           "Milwaukee Bucks 2010-11"
          ],
          [
           0.561,
           "New Orleans Hornets 2010-11"
          ],
          [
           0.5,
           "Philadelphia 76ers 2010-11"
          ],
          [
           0.585,
           "Portland Trail Blazers 2010-11"
          ],
          [
           0.476,
           "Utah Jazz 2010-11"
          ],
          [
           0.606,
           "Atlanta Hawks 2011-12"
          ],
          [
           0.591,
           "Boston Celtics 2011-12"
          ],
          [
           0.545,
           "Dallas Mavericks 2011-12"
          ],
          [
           0.515,
           "Houston Rockets 2011-12"
          ],
          [
           0.636,
           "Indiana Pacers 2011-12"
          ],
          [
           0.606,
           "Los Angeles Clippers 2011-12"
          ],
          [
           0.621,
           "Los Angeles Lakers 2011-12"
          ],
          [
           0.621,
           "Memphis Grizzlies 2011-12"
          ],
          [
           0.47,
           "Milwaukee Bucks 2011-12"
          ],
          [
           0.545,
           "New York Knicks 2011-12"
          ],
          [
           0.561,
           "Orlando Magic 2011-12"
          ],
          [
           0.53,
           "Philadelphia 76ers 2011-12"
          ],
          [
           0.5,
           "Phoenix Suns 2011-12"
          ],
          [
           0.424,
           "Portland Trail Blazers 2011-12"
          ],
          [
           0.545,
           "Utah Jazz 2011-12"
          ],
          [
           0.506,
           "Boston Celtics 2012-13"
          ],
          [
           0.598,
           "Brooklyn Nets 2012-13"
          ],
          [
           0.549,
           "Chicago Bulls 2012-13"
          ],
          [
           0.605,
           "Indiana Pacers 2012-13"
          ],
          [
           0.683,
           "Memphis Grizzlies 2012-13"
          ],
          [
           0.415,
           "Philadelphia 76ers 2012-13"
          ],
          [
           0.402,
           "Portland Trail Blazers 2012-13"
          ],
          [
           0.415,
           "Toronto Raptors 2012-13"
          ],
          [
           0.524,
           "Utah Jazz 2012-13"
          ],
          [
           0.537,
           "Brooklyn Nets 2013-14"
          ],
          [
           0.524,
           "Charlotte Bobcats 2013-14"
          ],
          [
           0.585,
           "Chicago Bulls 2013-14"
          ],
          [
           0.61,
           "Memphis Grizzlies 2013-14"
          ],
          [
           0.415,
           "New Orleans Pelicans 2013-14"
          ],
          [
           0.451,
           "New York Knicks 2013-14"
          ],
          [
           0.585,
           "Toronto Raptors 2013-14"
          ],
          [
           0.463,
           "Brooklyn Nets 2014-15"
          ],
          [
           0.402,
           "Charlotte Hornets 2014-15"
          ],
          [
           0.463,
           "Indiana Pacers 2014-15"
          ],
          [
           0.451,
           "Miami Heat 2014-15"
          ],
          [
           0.5,
           "Milwaukee Bucks 2014-15"
          ],
          [
           0.463,
           "Utah Jazz 2014-15"
          ],
          [
           0.512,
           "Memphis Grizzlies 2015-16"
          ],
          [
           0.39,
           "New York Knicks 2015-16"
          ],
          [
           0.488,
           "Utah Jazz 2015-16"
          ]
         ],
         "hovertemplate": "Clusters=4<br>PC1=%{x}<br>PC2=%{y}<br>WIN%=%{customdata[0]}<br>TEAM=%{customdata[1]}<extra></extra>",
         "legendgroup": "4",
         "marker": {
          "color": "#FFA15A",
          "symbol": "circle"
         },
         "mode": "markers",
         "name": "4",
         "orientation": "v",
         "showlegend": true,
         "type": "scatter",
         "x": [
          -0.25549556800968937,
          -0.07342276563247425,
          -0.14788947554078885,
          -0.06003787908065175,
          -0.57162610122082,
          -0.34191490356182663,
          -0.0555084608657803,
          0.02238535166422298,
          -0.2997828741606153,
          -0.11773670513551537,
          -0.48894838674107527,
          -0.07196151972313679,
          -0.5678579820659343,
          -0.5011615673331863,
          -0.1804216117858237,
          0.022510658610136968,
          -0.7156258284452727,
          -0.18237274758163757,
          0.010078404616235388,
          -0.13696132670966607,
          0.12235863636155771,
          -0.2678381857547938,
          0.1504786445271151,
          -0.13741649974786954,
          -0.21564096006456593,
          0.09407662315418983,
          -0.3536665888347792,
          -0.5366169617937596,
          -0.4547503328662321,
          -0.08468520854521848,
          0.30455399614665113,
          -2.8706762515338546e-06,
          -0.2541734191079785,
          -0.26021977831727583,
          -0.2528419797710336,
          -0.40470155240230155,
          -0.08390569657798133,
          -0.1081471994781298,
          -0.09948014693894532,
          0.048208046756970935,
          -0.4295942019980775,
          -0.0145023235645761,
          -0.17268700576906618,
          0.09052219839546505,
          -0.11448904721211627,
          -0.06809812242235645,
          0.08675018360985139,
          -0.35373722273239894,
          0.12421367114293169,
          -0.32719500901989895,
          -0.18502310308523048,
          0.06712443846956109,
          -0.24679876902086784,
          -0.06718228274473295,
          0.05173074362599744,
          0.004249291141719645,
          0.08176656183175383,
          0.3230784539868473,
          0.028385611990253367,
          -0.4268426874740228,
          -0.1346409385102497,
          -0.12635684097108696,
          -0.4423771048798442,
          -0.06401073290744436,
          0.20005669965141307,
          -0.09115808502266134,
          -0.04382758079981149,
          0.13408227108256368,
          -0.04067867181055218,
          0.020670437220458367,
          -0.0893669193959125,
          -0.3175633774844047,
          -0.03058353882346272,
          -0.018766967960343096,
          -0.45994256732765104,
          -0.018610228545280796,
          -0.19007549867367907,
          -0.1381249102294734,
          0.09400729476682501,
          0.06577110692815763,
          -0.17261629412978416,
          -0.2086105423829478,
          0.08837131722673022,
          -0.11969664790376128,
          -0.2807716159591531,
          -0.2369852546557629,
          -0.29246424658320025,
          -0.14601829851068623,
          -0.02804546268820046,
          -0.1210677562872214,
          -0.0992433475208284,
          0.08074546083320906,
          0.12365630370935862,
          -0.2025418351502304,
          -0.0017517776803032182,
          -0.0852256684973374,
          0.13222333213524914,
          0.1722222486668558,
          -0.0138591599949609,
          -0.1525383935920851,
          0.09232896969610425,
          -0.2371023182500023,
          -0.004352656928566769,
          -0.24557158947030475,
          -0.11896795387451287,
          0.061708135581196276,
          -0.0222435264563561
         ],
         "xaxis": "x",
         "y": [
          0.14213144462843236,
          0.07698251768137826,
          -0.11665643993430812,
          -0.08706615183093194,
          0.11828079491874133,
          -0.11011121220946302,
          -0.2273138083169888,
          -0.11962363752478516,
          -0.24909212791204158,
          0.1165469214211464,
          0.00986265366418844,
          -0.2196459227832232,
          0.22136121702779674,
          0.007064328850833811,
          0.14566469724771336,
          -0.09012738155036394,
          -0.08121492545130791,
          0.05048311834196941,
          -0.32295588603849934,
          -0.2277733584517974,
          -0.04622811020889491,
          -0.17943807237790943,
          0.09819514144683007,
          -0.014385793292573,
          0.1639562512694523,
          0.009738730196465118,
          0.2209312334376438,
          -0.10629612830670475,
          0.09796345652596453,
          0.327791014926112,
          -0.05623624600116603,
          0.21733150091292117,
          -0.0032888581619427326,
          0.041812932036630245,
          0.19328721895559706,
          -0.05780250889248388,
          -0.009496203965987306,
          0.34469021360441043,
          0.08240086072649849,
          -0.1037435134530161,
          0.02948677387543732,
          0.08157886278026441,
          -0.05293254894119133,
          0.009567577717399944,
          0.1733898607404304,
          0.27503328227532653,
          -0.1576475874311365,
          -0.050348442822648706,
          0.17418529366112914,
          -0.1277711069481431,
          0.13156850968732595,
          0.27694846446246946,
          0.261391651454927,
          -0.13116488250939515,
          0.09639008479409963,
          -0.22825487271240127,
          -0.29370235814490875,
          0.14032524238396926,
          -0.022743967047918662,
          0.22188976556542178,
          0.30229168275120794,
          -0.1123773105320906,
          0.18264006976619565,
          -0.1266134606597631,
          -0.09537877489341173,
          -0.18033301751826064,
          -0.017409542496628412,
          -0.26842809937415396,
          -0.3934032095148541,
          -0.027275927658278264,
          0.07778296349843272,
          -0.16860949904595107,
          -0.19378228416407797,
          -0.26237882727011647,
          -0.1733179345542726,
          -0.0032110762386587713,
          -0.04736607168540177,
          0.009325742056737538,
          -0.3461161187861626,
          0.017786702739366774,
          0.15683485562345176,
          -0.11328153952721447,
          -0.0028361615730002677,
          -0.11521632614941711,
          -0.1618050541972907,
          -0.2521434820855265,
          -0.3864470737321788,
          0.22836591282926363,
          0.3389518010224128,
          0.17862401536463016,
          -0.06765633216708317,
          0.12501141739734686,
          0.056121372391262504,
          -0.22487580250037606,
          -0.2046820897435376,
          0.22503947832432228,
          0.2097879539003165,
          -0.08326670271802594,
          0.3351556935834318,
          0.4105745186756176,
          0.15416463089465465,
          0.20664863621737045,
          -0.034631757941557574,
          -0.002855421006600497,
          0.2798988712651365,
          0.3291625069179433,
          0.06532831163148133
         ],
         "yaxis": "y"
        },
        {
         "customdata": [
          [
           0.659,
           "Phoenix Suns 2005-06"
          ],
          [
           0.744,
           "Phoenix Suns 2006-07"
          ],
          [
           0.671,
           "Phoenix Suns 2007-08"
          ],
          [
           0.817,
           "Golden State Warriors 2014-15"
          ],
          [
           0.89,
           "Golden State Warriors 2015-16"
          ],
          [
           0.646,
           "Boston Celtics 2016-17"
          ],
          [
           0.622,
           "Cleveland Cavaliers 2016-17"
          ],
          [
           0.488,
           "Denver Nuggets 2016-17"
          ],
          [
           0.817,
           "Golden State Warriors 2016-17"
          ],
          [
           0.671,
           "Houston Rockets 2016-17"
          ],
          [
           0.622,
           "LA Clippers 2016-17"
          ],
          [
           0.61,
           "Cleveland Cavaliers 2017-18"
          ],
          [
           0.561,
           "Denver Nuggets 2017-18"
          ],
          [
           0.707,
           "Golden State Warriors 2017-18"
          ],
          [
           0.793,
           "Houston Rockets 2017-18"
          ],
          [
           0.585,
           "New Orleans Pelicans 2017-18"
          ],
          [
           0.634,
           "Philadelphia 76ers 2017-18"
          ],
          [
           0.72,
           "Toronto Raptors 2017-18"
          ],
          [
           0.598,
           "Boston Celtics 2018-19"
          ],
          [
           0.512,
           "Brooklyn Nets 2018-19"
          ],
          [
           0.659,
           "Denver Nuggets 2018-19"
          ],
          [
           0.695,
           "Golden State Warriors 2018-19"
          ],
          [
           0.646,
           "Houston Rockets 2018-19"
          ],
          [
           0.585,
           "Indiana Pacers 2018-19"
          ],
          [
           0.585,
           "LA Clippers 2018-19"
          ],
          [
           0.451,
           "Los Angeles Lakers 2018-19"
          ],
          [
           0.732,
           "Milwaukee Bucks 2018-19"
          ],
          [
           0.402,
           "New Orleans Pelicans 2018-19"
          ],
          [
           0.598,
           "Oklahoma City Thunder 2018-19"
          ],
          [
           0.512,
           "Orlando Magic 2018-19"
          ],
          [
           0.622,
           "Philadelphia 76ers 2018-19"
          ],
          [
           0.646,
           "Portland Trail Blazers 2018-19"
          ],
          [
           0.476,
           "Sacramento Kings 2018-19"
          ],
          [
           0.585,
           "San Antonio Spurs 2018-19"
          ],
          [
           0.707,
           "Toronto Raptors 2018-19"
          ],
          [
           0.61,
           "Utah Jazz 2018-19"
          ],
          [
           0.667,
           "Boston Celtics 2019-20"
          ],
          [
           0.486,
           "Brooklyn Nets 2019-20"
          ],
          [
           0.573,
           "Dallas Mavericks 2019-20"
          ],
          [
           0.63,
           "Denver Nuggets 2019-20"
          ],
          [
           0.611,
           "Houston Rockets 2019-20"
          ],
          [
           0.616,
           "Indiana Pacers 2019-20"
          ],
          [
           0.681,
           "LA Clippers 2019-20"
          ],
          [
           0.732,
           "Los Angeles Lakers 2019-20"
          ],
          [
           0.466,
           "Memphis Grizzlies 2019-20"
          ],
          [
           0.603,
           "Miami Heat 2019-20"
          ],
          [
           0.767,
           "Milwaukee Bucks 2019-20"
          ],
          [
           0.417,
           "New Orleans Pelicans 2019-20"
          ],
          [
           0.611,
           "Oklahoma City Thunder 2019-20"
          ],
          [
           0.589,
           "Philadelphia 76ers 2019-20"
          ],
          [
           0.466,
           "Phoenix Suns 2019-20"
          ],
          [
           0.473,
           "Portland Trail Blazers 2019-20"
          ],
          [
           0.451,
           "San Antonio Spurs 2019-20"
          ],
          [
           0.736,
           "Toronto Raptors 2019-20"
          ],
          [
           0.611,
           "Utah Jazz 2019-20"
          ]
         ],
         "hovertemplate": "Clusters=6<br>PC1=%{x}<br>PC2=%{y}<br>WIN%=%{customdata[0]}<br>TEAM=%{customdata[1]}<extra></extra>",
         "legendgroup": "6",
         "marker": {
          "color": "#19d3f3",
          "symbol": "circle"
         },
         "mode": "markers",
         "name": "6",
         "orientation": "v",
         "showlegend": true,
         "type": "scatter",
         "x": [
          1.1764526317432051,
          1.164518885657563,
          1.126454955481658,
          1.2812638482294982,
          1.6526023876002929,
          0.9261435381067658,
          1.062595635704785,
          0.9211775931641177,
          1.7294446671919024,
          1.1768369422932319,
          1.0077060117699919,
          1.1132928743918609,
          0.9376719752776027,
          1.5765516213665656,
          1.2513712301972464,
          1.2271082752346312,
          1.0046153194768024,
          1.1870967281668652,
          1.3739337771661169,
          0.829059237269196,
          1.1495152699378044,
          1.7979242987319648,
          1.0420112406827924,
          0.983645331313539,
          0.9916190027437719,
          0.8871650505822335,
          1.7417058916758843,
          1.100792513856778,
          0.9668127028258743,
          1.0187344367918179,
          1.230489450892644,
          1.0935601327494802,
          1.076203890834533,
          1.2982672601130236,
          1.3612042384118277,
          1.1793983778053279,
          1.0922013626496483,
          0.8786275876974404,
          1.4894103845332716,
          1.0993088645979414,
          1.1209582034823615,
          1.1149075369618013,
          1.230955890628352,
          1.1805741059628272,
          1.0286276802450673,
          1.2313633864242437,
          1.7632077595419118,
          1.0897645683645698,
          0.9581362381002512,
          1.0982042448231744,
          1.1109271978597377,
          1.0025452353199231,
          1.2338817526568604,
          1.1775145832995983,
          1.0547811815285817
         ],
         "xaxis": "x",
         "y": [
          -0.2713931060865719,
          -0.4498464268075659,
          -0.4101902409472193,
          -0.6490443282270543,
          -0.6449260061800594,
          0.03694113513644741,
          0.12881800156441672,
          0.18822436141604607,
          -0.7699775523056506,
          0.02203418513030149,
          -0.09418417416620967,
          0.2297871065311457,
          0.1023293608334123,
          -0.44677043372564185,
          -0.10809525170949096,
          0.09029205392931391,
          -0.16021845980110694,
          -0.2055104526455801,
          -0.0007320656881674076,
          0.4850694164942184,
          -0.08129233666528848,
          -0.27065714533836926,
          0.2624513606836425,
          -0.06280910510271416,
          0.28365627191865084,
          0.48210447314757365,
          -0.14002905042762115,
          0.43854639578811894,
          0.29840371854245096,
          0.20809210198268308,
          -0.023806139748309686,
          0.1019054211794934,
          0.48903101023157725,
          0.09137900367861822,
          -0.08048865191409145,
          -0.09896634374591132,
          0.004323641373812779,
          0.47339149655875346,
          0.14632522725220307,
          -0.009255852726991929,
          0.4887551500177708,
          0.05109572467223866,
          0.0008869885207354498,
          -0.1918310736420988,
          0.34615603961918984,
          -0.013340626557553532,
          -0.1760322280275223,
          0.4776683110742356,
          0.18387181770919137,
          0.002813510391401832,
          0.2670944729717999,
          0.6112611396167265,
          0.3271259410217316,
          -0.06137045507198221,
          0.21129485861105826
         ],
         "yaxis": "y"
        },
        {
         "customdata": [
          [
           0.512,
           "Golden State Warriors 2006-07"
          ],
          [
           0.61,
           "Denver Nuggets 2007-08"
          ],
          [
           0.585,
           "Golden State Warriors 2007-08"
          ],
          [
           0.439,
           "Indiana Pacers 2007-08"
          ],
          [
           0.5,
           "Toronto Raptors 2007-08"
          ],
          [
           0.439,
           "Indiana Pacers 2008-09"
          ],
          [
           0.451,
           "New Orleans Hornets 2009-10"
          ],
          [
           0.439,
           "Golden State Warriors 2010-11"
          ],
          [
           0.524,
           "Houston Rockets 2010-11"
          ],
          [
           0.512,
           "New York Knicks 2010-11"
          ],
          [
           0.488,
           "Phoenix Suns 2010-11"
          ],
          [
           0.537,
           "Atlanta Hawks 2012-13"
          ],
          [
           0.5,
           "Dallas Mavericks 2012-13"
          ],
          [
           0.573,
           "Golden State Warriors 2012-13"
          ],
          [
           0.549,
           "Houston Rockets 2012-13"
          ],
          [
           0.549,
           "Los Angeles Lakers 2012-13"
          ],
          [
           0.463,
           "Milwaukee Bucks 2012-13"
          ],
          [
           0.463,
           "Atlanta Hawks 2013-14"
          ],
          [
           0.598,
           "Dallas Mavericks 2013-14"
          ],
          [
           0.439,
           "Denver Nuggets 2013-14"
          ],
          [
           0.622,
           "Golden State Warriors 2013-14"
          ],
          [
           0.488,
           "Minnesota Timberwolves 2013-14"
          ],
          [
           0.585,
           "Phoenix Suns 2013-14"
          ],
          [
           0.659,
           "Portland Trail Blazers 2013-14"
          ],
          [
           0.537,
           "Washington Wizards 2013-14"
          ],
          [
           0.488,
           "Boston Celtics 2014-15"
          ],
          [
           0.61,
           "Chicago Bulls 2014-15"
          ],
          [
           0.61,
           "Dallas Mavericks 2014-15"
          ],
          [
           0.39,
           "Detroit Pistons 2014-15"
          ],
          [
           0.683,
           "Houston Rockets 2014-15"
          ],
          [
           0.549,
           "New Orleans Pelicans 2014-15"
          ],
          [
           0.549,
           "Oklahoma City Thunder 2014-15"
          ],
          [
           0.476,
           "Phoenix Suns 2014-15"
          ],
          [
           0.622,
           "Portland Trail Blazers 2014-15"
          ],
          [
           0.598,
           "Toronto Raptors 2014-15"
          ],
          [
           0.561,
           "Washington Wizards 2014-15"
          ],
          [
           0.585,
           "Atlanta Hawks 2015-16"
          ],
          [
           0.585,
           "Boston Celtics 2015-16"
          ],
          [
           0.585,
           "Charlotte Hornets 2015-16"
          ],
          [
           0.512,
           "Chicago Bulls 2015-16"
          ],
          [
           0.512,
           "Dallas Mavericks 2015-16"
          ],
          [
           0.537,
           "Detroit Pistons 2015-16"
          ],
          [
           0.5,
           "Houston Rockets 2015-16"
          ],
          [
           0.549,
           "Indiana Pacers 2015-16"
          ],
          [
           0.585,
           "Miami Heat 2015-16"
          ],
          [
           0.427,
           "Orlando Magic 2015-16"
          ],
          [
           0.537,
           "Portland Trail Blazers 2015-16"
          ],
          [
           0.5,
           "Washington Wizards 2015-16"
          ],
          [
           0.524,
           "Atlanta Hawks 2016-17"
          ],
          [
           0.439,
           "Charlotte Hornets 2016-17"
          ],
          [
           0.5,
           "Chicago Bulls 2016-17"
          ],
          [
           0.451,
           "Detroit Pistons 2016-17"
          ],
          [
           0.512,
           "Indiana Pacers 2016-17"
          ],
          [
           0.524,
           "Memphis Grizzlies 2016-17"
          ],
          [
           0.5,
           "Miami Heat 2016-17"
          ],
          [
           0.512,
           "Milwaukee Bucks 2016-17"
          ],
          [
           0.378,
           "Minnesota Timberwolves 2016-17"
          ],
          [
           0.573,
           "Oklahoma City Thunder 2016-17"
          ],
          [
           0.5,
           "Portland Trail Blazers 2016-17"
          ],
          [
           0.622,
           "Toronto Raptors 2016-17"
          ],
          [
           0.598,
           "Washington Wizards 2016-17"
          ],
          [
           0.671,
           "Boston Celtics 2017-18"
          ],
          [
           0.439,
           "Charlotte Hornets 2017-18"
          ],
          [
           0.476,
           "Detroit Pistons 2017-18"
          ],
          [
           0.585,
           "Indiana Pacers 2017-18"
          ],
          [
           0.512,
           "LA Clippers 2017-18"
          ],
          [
           0.537,
           "Miami Heat 2017-18"
          ],
          [
           0.537,
           "Milwaukee Bucks 2017-18"
          ],
          [
           0.573,
           "Minnesota Timberwolves 2017-18"
          ],
          [
           0.585,
           "Oklahoma City Thunder 2017-18"
          ],
          [
           0.598,
           "Portland Trail Blazers 2017-18"
          ],
          [
           0.573,
           "San Antonio Spurs 2017-18"
          ],
          [
           0.585,
           "Utah Jazz 2017-18"
          ],
          [
           0.524,
           "Washington Wizards 2017-18"
          ],
          [
           0.5,
           "Detroit Pistons 2018-19"
          ],
          [
           0.476,
           "Miami Heat 2018-19"
          ],
          [
           0.452,
           "Orlando Magic 2019-20"
          ]
         ],
         "hovertemplate": "Clusters=2<br>PC1=%{x}<br>PC2=%{y}<br>WIN%=%{customdata[0]}<br>TEAM=%{customdata[1]}<extra></extra>",
         "legendgroup": "2",
         "marker": {
          "color": "#FF6692",
          "symbol": "circle"
         },
         "mode": "markers",
         "name": "2",
         "orientation": "v",
         "showlegend": true,
         "type": "scatter",
         "x": [
          0.29164430487579995,
          0.6414305491020297,
          0.579250389020651,
          0.24853243425497518,
          0.5540834936247523,
          0.28724210917675086,
          0.2141361927278762,
          0.1768662210938495,
          0.442380297878381,
          0.4359392447657465,
          0.4703444580879556,
          0.3596935185492731,
          0.38646120445742826,
          0.31713162168212106,
          0.4332112597104417,
          0.2652774791786347,
          -0.0242966735038097,
          0.4415037461343977,
          0.6915809812041631,
          0.11206166664923686,
          0.6103307330331271,
          0.4123814469546204,
          0.3148567454906445,
          0.6649384785949933,
          0.31970101215458085,
          0.2928261858370546,
          0.21482420036255018,
          0.6367914996765537,
          -0.021415007837449655,
          0.2477607954259025,
          0.1757171044748541,
          0.20907959414006283,
          0.172471683607465,
          0.6386833546050453,
          0.338075348696591,
          0.24740707858316555,
          0.6926073428388106,
          0.5040055699823833,
          0.6559356682300516,
          0.286556415591282,
          0.5395023508100939,
          0.17784678781591873,
          0.2928771421304051,
          0.30808616835268043,
          0.29721983481902,
          0.33530136996040505,
          0.4189854357494719,
          0.5856367886180207,
          0.35647475445834015,
          0.7579691489306439,
          0.34446571131483394,
          0.42690154790345236,
          0.5934368320254906,
          0.22644424306455913,
          0.4127657025051367,
          0.5879560835190646,
          0.39998050095878585,
          0.32767017672879334,
          0.5950286296293777,
          0.5195934571701775,
          0.8034280330645724,
          0.7451464008101201,
          0.7453043840612245,
          0.6081115163450719,
          0.7033906310789756,
          0.6423733853240876,
          0.6348244311922169,
          0.6842094329850561,
          0.8223968194259652,
          0.5750893464640645,
          0.6088305418665887,
          0.645337904876566,
          0.7641011066406542,
          0.7588536509336988,
          0.5993928825377625,
          0.6312135493598482,
          0.7673083076735103
         ],
         "xaxis": "x",
         "y": [
          0.2449022903275114,
          -0.17100111647691765,
          0.23791268404088342,
          0.34373794697455384,
          -0.2366984415536529,
          0.32794893769426114,
          0.2570236891903421,
          0.29007649711654554,
          -0.02672281986897072,
          0.15109790302421616,
          0.17275965568130447,
          -0.030592084282814926,
          0.07895595812610094,
          0.031871493954099515,
          0.021921945105278878,
          0.009273944183281625,
          0.1732434089432517,
          0.10894494199349883,
          -0.12386398749332618,
          0.380446954470375,
          -0.14679244300839614,
          0.05535822856284428,
          0.12373357184901289,
          -0.1407465689631535,
          -0.013313570841353818,
          0.19594009344714025,
          -0.133592848661488,
          0.016972171032842254,
          0.29704729120017437,
          0.0152469707808744,
          -0.04081605379702993,
          0.11366236740805373,
          0.3746182717261079,
          -0.05862061091854161,
          0.014243551915031976,
          -0.13239092483980422,
          -0.10101049582246811,
          0.06079604037581978,
          0.11599528182887267,
          0.24769431763675595,
          0.2842339970082779,
          0.32944855936987716,
          0.25082932268124447,
          0.11377387600490313,
          -0.09563951239262869,
          0.3060628161128091,
          0.26830772859235863,
          0.22508421153410882,
          0.20862010792742408,
          0.24247237548370723,
          0.10714203331129561,
          0.37109714510384373,
          0.17962528345271842,
          0.1431896043630459,
          0.20975763788882398,
          0.037425880270025615,
          0.16521994359760564,
          0.24293973725463605,
          0.36791534841136875,
          0.03750153687333424,
          0.07142112926024914,
          0.006907768038080625,
          0.35532590734384,
          0.3246003067392978,
          0.1550881215917999,
          0.32159851129332606,
          0.22551146108767384,
          0.13750967856185278,
          0.02662330175788594,
          0.11857916206135916,
          0.22351992523343542,
          -0.0682897152951547,
          -0.04889507834452473,
          0.1060746942663441,
          0.4581382912407029,
          0.29573389639702,
          0.33574044742764914
         ],
         "yaxis": "y"
        },
        {
         "customdata": [
          [
           0.354,
           "Golden State Warriors 2008-09"
          ],
          [
           0.39,
           "New York Knicks 2008-09"
          ],
          [
           0.317,
           "Golden State Warriors 2009-10"
          ],
          [
           0.39,
           "Indiana Pacers 2009-10"
          ],
          [
           0.354,
           "New York Knicks 2009-10"
          ],
          [
           0.348,
           "Golden State Warriors 2011-12"
          ],
          [
           0.329,
           "Los Angeles Lakers 2013-14"
          ],
          [
           0.256,
           "Brooklyn Nets 2015-16"
          ],
          [
           0.402,
           "Denver Nuggets 2015-16"
          ],
          [
           0.354,
           "Minnesota Timberwolves 2015-16"
          ],
          [
           0.366,
           "New Orleans Pelicans 2015-16"
          ],
          [
           0.402,
           "Sacramento Kings 2015-16"
          ],
          [
           0.244,
           "Brooklyn Nets 2016-17"
          ],
          [
           0.402,
           "Dallas Mavericks 2016-17"
          ],
          [
           0.317,
           "Los Angeles Lakers 2016-17"
          ],
          [
           0.415,
           "New Orleans Pelicans 2016-17"
          ],
          [
           0.378,
           "New York Knicks 2016-17"
          ],
          [
           0.354,
           "Orlando Magic 2016-17"
          ],
          [
           0.341,
           "Philadelphia 76ers 2016-17"
          ],
          [
           0.293,
           "Phoenix Suns 2016-17"
          ],
          [
           0.39,
           "Sacramento Kings 2016-17"
          ],
          [
           0.293,
           "Atlanta Hawks 2017-18"
          ],
          [
           0.341,
           "Brooklyn Nets 2017-18"
          ],
          [
           0.329,
           "Chicago Bulls 2017-18"
          ],
          [
           0.293,
           "Dallas Mavericks 2017-18"
          ],
          [
           0.427,
           "Los Angeles Lakers 2017-18"
          ],
          [
           0.268,
           "Memphis Grizzlies 2017-18"
          ],
          [
           0.354,
           "New York Knicks 2017-18"
          ],
          [
           0.305,
           "Orlando Magic 2017-18"
          ],
          [
           0.256,
           "Phoenix Suns 2017-18"
          ],
          [
           0.329,
           "Sacramento Kings 2017-18"
          ],
          [
           0.354,
           "Atlanta Hawks 2018-19"
          ],
          [
           0.476,
           "Charlotte Hornets 2018-19"
          ],
          [
           0.268,
           "Chicago Bulls 2018-19"
          ],
          [
           0.232,
           "Cleveland Cavaliers 2018-19"
          ],
          [
           0.402,
           "Dallas Mavericks 2018-19"
          ],
          [
           0.402,
           "Memphis Grizzlies 2018-19"
          ],
          [
           0.439,
           "Minnesota Timberwolves 2018-19"
          ],
          [
           0.207,
           "New York Knicks 2018-19"
          ],
          [
           0.232,
           "Phoenix Suns 2018-19"
          ],
          [
           0.39,
           "Washington Wizards 2018-19"
          ],
          [
           0.299,
           "Atlanta Hawks 2019-20"
          ],
          [
           0.354,
           "Charlotte Hornets 2019-20"
          ],
          [
           0.338,
           "Chicago Bulls 2019-20"
          ],
          [
           0.292,
           "Cleveland Cavaliers 2019-20"
          ],
          [
           0.303,
           "Detroit Pistons 2019-20"
          ],
          [
           0.231,
           "Golden State Warriors 2019-20"
          ],
          [
           0.297,
           "Minnesota Timberwolves 2019-20"
          ],
          [
           0.318,
           "New York Knicks 2019-20"
          ],
          [
           0.431,
           "Sacramento Kings 2019-20"
          ],
          [
           0.347,
           "Washington Wizards 2019-20"
          ]
         ],
         "hovertemplate": "Clusters=7<br>PC1=%{x}<br>PC2=%{y}<br>WIN%=%{customdata[0]}<br>TEAM=%{customdata[1]}<extra></extra>",
         "legendgroup": "7",
         "marker": {
          "color": "#B6E880",
          "symbol": "circle"
         },
         "mode": "markers",
         "name": "7",
         "orientation": "v",
         "showlegend": true,
         "type": "scatter",
         "x": [
          0.1261768452783743,
          0.2548725070849257,
          0.3573793413889833,
          0.010489490023800098,
          0.2080762932284349,
          -0.026093980559739365,
          0.31663123619628936,
          -0.04307691238110615,
          0.1020169910037439,
          0.10617773138815723,
          0.37136039069038584,
          0.43350544768640836,
          0.2802472299247376,
          0.42176332315028237,
          0.11105978989143227,
          0.6398438763846747,
          0.2624677982453156,
          0.19540339828816006,
          0.17365088963818057,
          0.07381111854303282,
          0.3533257787067141,
          0.40420686563523534,
          0.5884555252124269,
          0.46100516748000353,
          0.6696400441039906,
          0.5884287318241319,
          0.007543653645082667,
          0.43838931468042963,
          0.4455462503866773,
          0.06596675624205144,
          0.16157429981340962,
          0.7534753708300295,
          0.898596892198585,
          0.3604053442019111,
          0.2331536284001979,
          0.7789909703670822,
          0.5052082360322332,
          0.8473036464709193,
          0.12941715918888771,
          0.3526557997510416,
          1.032325077543249,
          0.5094275039763431,
          0.2666273071462383,
          0.41757380853043474,
          0.36857368375736543,
          0.5230718105184593,
          0.4127329638188821,
          0.7092265873831081,
          0.24874175274947946,
          0.8649448171062942,
          0.8746427021277348
         ],
         "xaxis": "x",
         "y": [
          0.48331333629859746,
          0.6033879560143587,
          0.5882998041824337,
          0.4731956711302634,
          0.5201091515051162,
          0.29954992090526106,
          0.5932879357944625,
          0.629567622589864,
          0.42586823764378684,
          0.23750019918687992,
          0.5389344268049094,
          0.36323097756839867,
          0.9124652761519143,
          0.4738262947867127,
          0.8252038062703229,
          0.40350605250547616,
          0.4671360291043837,
          0.6819343882325066,
          0.6122912475061779,
          0.800946261418331,
          0.42738246591180196,
          0.7058667281386412,
          0.6728361790672542,
          0.8050223345418557,
          0.6290459691363006,
          0.4658317296578496,
          0.6735669471614714,
          0.4580240099191386,
          0.6244274252230508,
          1.0388460359748013,
          0.7147521923894896,
          0.8413262706981696,
          0.512416557856878,
          0.9322320400209846,
          1.0872565297881343,
          0.5194683797725045,
          0.3779884833621309,
          0.42876067016755665,
          1.0910677553355546,
          0.9309409711264199,
          0.5398170464412225,
          0.9863792043728211,
          0.6985816872300762,
          0.6808187738273268,
          0.9084806806496841,
          0.5606195497472899,
          0.7837268541331098,
          0.8103151686361333,
          0.7301699584834812,
          0.5221275794360707,
          0.7193961845040391
         ],
         "yaxis": "y"
        }
       ],
       "layout": {
        "legend": {
         "title": {
          "text": "Clusters"
         },
         "tracegroupgap": 0
        },
        "margin": {
         "t": 60
        },
        "template": {
         "data": {
          "bar": [
           {
            "error_x": {
             "color": "#2a3f5f"
            },
            "error_y": {
             "color": "#2a3f5f"
            },
            "marker": {
             "line": {
              "color": "#E5ECF6",
              "width": 0.5
             },
             "pattern": {
              "fillmode": "overlay",
              "size": 10,
              "solidity": 0.2
             }
            },
            "type": "bar"
           }
          ],
          "barpolar": [
           {
            "marker": {
             "line": {
              "color": "#E5ECF6",
              "width": 0.5
             },
             "pattern": {
              "fillmode": "overlay",
              "size": 10,
              "solidity": 0.2
             }
            },
            "type": "barpolar"
           }
          ],
          "carpet": [
           {
            "aaxis": {
             "endlinecolor": "#2a3f5f",
             "gridcolor": "white",
             "linecolor": "white",
             "minorgridcolor": "white",
             "startlinecolor": "#2a3f5f"
            },
            "baxis": {
             "endlinecolor": "#2a3f5f",
             "gridcolor": "white",
             "linecolor": "white",
             "minorgridcolor": "white",
             "startlinecolor": "#2a3f5f"
            },
            "type": "carpet"
           }
          ],
          "choropleth": [
           {
            "colorbar": {
             "outlinewidth": 0,
             "ticks": ""
            },
            "type": "choropleth"
           }
          ],
          "contour": [
           {
            "colorbar": {
             "outlinewidth": 0,
             "ticks": ""
            },
            "colorscale": [
             [
              0,
              "#0d0887"
             ],
             [
              0.1111111111111111,
              "#46039f"
             ],
             [
              0.2222222222222222,
              "#7201a8"
             ],
             [
              0.3333333333333333,
              "#9c179e"
             ],
             [
              0.4444444444444444,
              "#bd3786"
             ],
             [
              0.5555555555555556,
              "#d8576b"
             ],
             [
              0.6666666666666666,
              "#ed7953"
             ],
             [
              0.7777777777777778,
              "#fb9f3a"
             ],
             [
              0.8888888888888888,
              "#fdca26"
             ],
             [
              1,
              "#f0f921"
             ]
            ],
            "type": "contour"
           }
          ],
          "contourcarpet": [
           {
            "colorbar": {
             "outlinewidth": 0,
             "ticks": ""
            },
            "type": "contourcarpet"
           }
          ],
          "heatmap": [
           {
            "colorbar": {
             "outlinewidth": 0,
             "ticks": ""
            },
            "colorscale": [
             [
              0,
              "#0d0887"
             ],
             [
              0.1111111111111111,
              "#46039f"
             ],
             [
              0.2222222222222222,
              "#7201a8"
             ],
             [
              0.3333333333333333,
              "#9c179e"
             ],
             [
              0.4444444444444444,
              "#bd3786"
             ],
             [
              0.5555555555555556,
              "#d8576b"
             ],
             [
              0.6666666666666666,
              "#ed7953"
             ],
             [
              0.7777777777777778,
              "#fb9f3a"
             ],
             [
              0.8888888888888888,
              "#fdca26"
             ],
             [
              1,
              "#f0f921"
             ]
            ],
            "type": "heatmap"
           }
          ],
          "heatmapgl": [
           {
            "colorbar": {
             "outlinewidth": 0,
             "ticks": ""
            },
            "colorscale": [
             [
              0,
              "#0d0887"
             ],
             [
              0.1111111111111111,
              "#46039f"
             ],
             [
              0.2222222222222222,
              "#7201a8"
             ],
             [
              0.3333333333333333,
              "#9c179e"
             ],
             [
              0.4444444444444444,
              "#bd3786"
             ],
             [
              0.5555555555555556,
              "#d8576b"
             ],
             [
              0.6666666666666666,
              "#ed7953"
             ],
             [
              0.7777777777777778,
              "#fb9f3a"
             ],
             [
              0.8888888888888888,
              "#fdca26"
             ],
             [
              1,
              "#f0f921"
             ]
            ],
            "type": "heatmapgl"
           }
          ],
          "histogram": [
           {
            "marker": {
             "pattern": {
              "fillmode": "overlay",
              "size": 10,
              "solidity": 0.2
             }
            },
            "type": "histogram"
           }
          ],
          "histogram2d": [
           {
            "colorbar": {
             "outlinewidth": 0,
             "ticks": ""
            },
            "colorscale": [
             [
              0,
              "#0d0887"
             ],
             [
              0.1111111111111111,
              "#46039f"
             ],
             [
              0.2222222222222222,
              "#7201a8"
             ],
             [
              0.3333333333333333,
              "#9c179e"
             ],
             [
              0.4444444444444444,
              "#bd3786"
             ],
             [
              0.5555555555555556,
              "#d8576b"
             ],
             [
              0.6666666666666666,
              "#ed7953"
             ],
             [
              0.7777777777777778,
              "#fb9f3a"
             ],
             [
              0.8888888888888888,
              "#fdca26"
             ],
             [
              1,
              "#f0f921"
             ]
            ],
            "type": "histogram2d"
           }
          ],
          "histogram2dcontour": [
           {
            "colorbar": {
             "outlinewidth": 0,
             "ticks": ""
            },
            "colorscale": [
             [
              0,
              "#0d0887"
             ],
             [
              0.1111111111111111,
              "#46039f"
             ],
             [
              0.2222222222222222,
              "#7201a8"
             ],
             [
              0.3333333333333333,
              "#9c179e"
             ],
             [
              0.4444444444444444,
              "#bd3786"
             ],
             [
              0.5555555555555556,
              "#d8576b"
             ],
             [
              0.6666666666666666,
              "#ed7953"
             ],
             [
              0.7777777777777778,
              "#fb9f3a"
             ],
             [
              0.8888888888888888,
              "#fdca26"
             ],
             [
              1,
              "#f0f921"
             ]
            ],
            "type": "histogram2dcontour"
           }
          ],
          "mesh3d": [
           {
            "colorbar": {
             "outlinewidth": 0,
             "ticks": ""
            },
            "type": "mesh3d"
           }
          ],
          "parcoords": [
           {
            "line": {
             "colorbar": {
              "outlinewidth": 0,
              "ticks": ""
             }
            },
            "type": "parcoords"
           }
          ],
          "pie": [
           {
            "automargin": true,
            "type": "pie"
           }
          ],
          "scatter": [
           {
            "marker": {
             "colorbar": {
              "outlinewidth": 0,
              "ticks": ""
             }
            },
            "type": "scatter"
           }
          ],
          "scatter3d": [
           {
            "line": {
             "colorbar": {
              "outlinewidth": 0,
              "ticks": ""
             }
            },
            "marker": {
             "colorbar": {
              "outlinewidth": 0,
              "ticks": ""
             }
            },
            "type": "scatter3d"
           }
          ],
          "scattercarpet": [
           {
            "marker": {
             "colorbar": {
              "outlinewidth": 0,
              "ticks": ""
             }
            },
            "type": "scattercarpet"
           }
          ],
          "scattergeo": [
           {
            "marker": {
             "colorbar": {
              "outlinewidth": 0,
              "ticks": ""
             }
            },
            "type": "scattergeo"
           }
          ],
          "scattergl": [
           {
            "marker": {
             "colorbar": {
              "outlinewidth": 0,
              "ticks": ""
             }
            },
            "type": "scattergl"
           }
          ],
          "scattermapbox": [
           {
            "marker": {
             "colorbar": {
              "outlinewidth": 0,
              "ticks": ""
             }
            },
            "type": "scattermapbox"
           }
          ],
          "scatterpolar": [
           {
            "marker": {
             "colorbar": {
              "outlinewidth": 0,
              "ticks": ""
             }
            },
            "type": "scatterpolar"
           }
          ],
          "scatterpolargl": [
           {
            "marker": {
             "colorbar": {
              "outlinewidth": 0,
              "ticks": ""
             }
            },
            "type": "scatterpolargl"
           }
          ],
          "scatterternary": [
           {
            "marker": {
             "colorbar": {
              "outlinewidth": 0,
              "ticks": ""
             }
            },
            "type": "scatterternary"
           }
          ],
          "surface": [
           {
            "colorbar": {
             "outlinewidth": 0,
             "ticks": ""
            },
            "colorscale": [
             [
              0,
              "#0d0887"
             ],
             [
              0.1111111111111111,
              "#46039f"
             ],
             [
              0.2222222222222222,
              "#7201a8"
             ],
             [
              0.3333333333333333,
              "#9c179e"
             ],
             [
              0.4444444444444444,
              "#bd3786"
             ],
             [
              0.5555555555555556,
              "#d8576b"
             ],
             [
              0.6666666666666666,
              "#ed7953"
             ],
             [
              0.7777777777777778,
              "#fb9f3a"
             ],
             [
              0.8888888888888888,
              "#fdca26"
             ],
             [
              1,
              "#f0f921"
             ]
            ],
            "type": "surface"
           }
          ],
          "table": [
           {
            "cells": {
             "fill": {
              "color": "#EBF0F8"
             },
             "line": {
              "color": "white"
             }
            },
            "header": {
             "fill": {
              "color": "#C8D4E3"
             },
             "line": {
              "color": "white"
             }
            },
            "type": "table"
           }
          ]
         },
         "layout": {
          "annotationdefaults": {
           "arrowcolor": "#2a3f5f",
           "arrowhead": 0,
           "arrowwidth": 1
          },
          "autotypenumbers": "strict",
          "coloraxis": {
           "colorbar": {
            "outlinewidth": 0,
            "ticks": ""
           }
          },
          "colorscale": {
           "diverging": [
            [
             0,
             "#8e0152"
            ],
            [
             0.1,
             "#c51b7d"
            ],
            [
             0.2,
             "#de77ae"
            ],
            [
             0.3,
             "#f1b6da"
            ],
            [
             0.4,
             "#fde0ef"
            ],
            [
             0.5,
             "#f7f7f7"
            ],
            [
             0.6,
             "#e6f5d0"
            ],
            [
             0.7,
             "#b8e186"
            ],
            [
             0.8,
             "#7fbc41"
            ],
            [
             0.9,
             "#4d9221"
            ],
            [
             1,
             "#276419"
            ]
           ],
           "sequential": [
            [
             0,
             "#0d0887"
            ],
            [
             0.1111111111111111,
             "#46039f"
            ],
            [
             0.2222222222222222,
             "#7201a8"
            ],
            [
             0.3333333333333333,
             "#9c179e"
            ],
            [
             0.4444444444444444,
             "#bd3786"
            ],
            [
             0.5555555555555556,
             "#d8576b"
            ],
            [
             0.6666666666666666,
             "#ed7953"
            ],
            [
             0.7777777777777778,
             "#fb9f3a"
            ],
            [
             0.8888888888888888,
             "#fdca26"
            ],
            [
             1,
             "#f0f921"
            ]
           ],
           "sequentialminus": [
            [
             0,
             "#0d0887"
            ],
            [
             0.1111111111111111,
             "#46039f"
            ],
            [
             0.2222222222222222,
             "#7201a8"
            ],
            [
             0.3333333333333333,
             "#9c179e"
            ],
            [
             0.4444444444444444,
             "#bd3786"
            ],
            [
             0.5555555555555556,
             "#d8576b"
            ],
            [
             0.6666666666666666,
             "#ed7953"
            ],
            [
             0.7777777777777778,
             "#fb9f3a"
            ],
            [
             0.8888888888888888,
             "#fdca26"
            ],
            [
             1,
             "#f0f921"
            ]
           ]
          },
          "colorway": [
           "#636efa",
           "#EF553B",
           "#00cc96",
           "#ab63fa",
           "#FFA15A",
           "#19d3f3",
           "#FF6692",
           "#B6E880",
           "#FF97FF",
           "#FECB52"
          ],
          "font": {
           "color": "#2a3f5f"
          },
          "geo": {
           "bgcolor": "white",
           "lakecolor": "white",
           "landcolor": "#E5ECF6",
           "showlakes": true,
           "showland": true,
           "subunitcolor": "white"
          },
          "hoverlabel": {
           "align": "left"
          },
          "hovermode": "closest",
          "mapbox": {
           "style": "light"
          },
          "paper_bgcolor": "white",
          "plot_bgcolor": "#E5ECF6",
          "polar": {
           "angularaxis": {
            "gridcolor": "white",
            "linecolor": "white",
            "ticks": ""
           },
           "bgcolor": "#E5ECF6",
           "radialaxis": {
            "gridcolor": "white",
            "linecolor": "white",
            "ticks": ""
           }
          },
          "scene": {
           "xaxis": {
            "backgroundcolor": "#E5ECF6",
            "gridcolor": "white",
            "gridwidth": 2,
            "linecolor": "white",
            "showbackground": true,
            "ticks": "",
            "zerolinecolor": "white"
           },
           "yaxis": {
            "backgroundcolor": "#E5ECF6",
            "gridcolor": "white",
            "gridwidth": 2,
            "linecolor": "white",
            "showbackground": true,
            "ticks": "",
            "zerolinecolor": "white"
           },
           "zaxis": {
            "backgroundcolor": "#E5ECF6",
            "gridcolor": "white",
            "gridwidth": 2,
            "linecolor": "white",
            "showbackground": true,
            "ticks": "",
            "zerolinecolor": "white"
           }
          },
          "shapedefaults": {
           "line": {
            "color": "#2a3f5f"
           }
          },
          "ternary": {
           "aaxis": {
            "gridcolor": "white",
            "linecolor": "white",
            "ticks": ""
           },
           "baxis": {
            "gridcolor": "white",
            "linecolor": "white",
            "ticks": ""
           },
           "bgcolor": "#E5ECF6",
           "caxis": {
            "gridcolor": "white",
            "linecolor": "white",
            "ticks": ""
           }
          },
          "title": {
           "x": 0.05
          },
          "xaxis": {
           "automargin": true,
           "gridcolor": "white",
           "linecolor": "white",
           "ticks": "",
           "title": {
            "standoff": 15
           },
           "zerolinecolor": "white",
           "zerolinewidth": 2
          },
          "yaxis": {
           "automargin": true,
           "gridcolor": "white",
           "linecolor": "white",
           "ticks": "",
           "title": {
            "standoff": 15
           },
           "zerolinecolor": "white",
           "zerolinewidth": 2
          }
         }
        },
        "xaxis": {
         "anchor": "y",
         "domain": [
          0,
          1
         ],
         "title": {
          "text": "PC1"
         }
        },
        "yaxis": {
         "anchor": "x",
         "domain": [
          0,
          1
         ],
         "title": {
          "text": "PC2"
         }
        }
       }
      },
      "text/html": [
       "<div>                            <div id=\"1553da69-5521-45c1-8532-6da98b6bf0e8\" class=\"plotly-graph-div\" style=\"height:525px; width:100%;\"></div>            <script type=\"text/javascript\">                require([\"plotly\"], function(Plotly) {                    window.PLOTLYENV=window.PLOTLYENV || {};                                    if (document.getElementById(\"1553da69-5521-45c1-8532-6da98b6bf0e8\")) {                    Plotly.newPlot(                        \"1553da69-5521-45c1-8532-6da98b6bf0e8\",                        [{\"customdata\":[[0.341,\"Atlanta Hawks 1999-00\"],[0.427,\"Boston Celtics 1999-00\"],[0.207,\"Chicago Bulls 1999-00\"],[0.39,\"Cleveland Cavaliers 1999-00\"],[0.427,\"Denver Nuggets 1999-00\"],[0.232,\"Golden State Warriors 1999-00\"],[0.415,\"Houston Rockets 1999-00\"],[0.183,\"Los Angeles Clippers 1999-00\"],[0.378,\"New Jersey Nets 1999-00\"],[0.5,\"Orlando Magic 1999-00\"],[0.268,\"Vancouver Grizzlies 1999-00\"],[0.354,\"Washington Wizards 1999-00\"],[0.305,\"Atlanta Hawks 2000-01\"],[0.439,\"Boston Celtics 2000-01\"],[0.183,\"Chicago Bulls 2000-01\"],[0.366,\"Cleveland Cavaliers 2000-01\"],[0.39,\"Detroit Pistons 2000-01\"],[0.207,\"Golden State Warriors 2000-01\"],[0.378,\"Los Angeles Clippers 2000-01\"],[0.317,\"New Jersey Nets 2000-01\"],[0.28,\"Vancouver Grizzlies 2000-01\"],[0.232,\"Washington Wizards 2000-01\"],[0.402,\"Atlanta Hawks 2001-02\"],[0.256,\"Chicago Bulls 2001-02\"],[0.354,\"Cleveland Cavaliers 2001-02\"],[0.329,\"Denver Nuggets 2001-02\"],[0.256,\"Golden State Warriors 2001-02\"],[0.341,\"Houston Rockets 2001-02\"],[0.28,\"Memphis Grizzlies 2001-02\"],[0.439,\"Miami Heat 2001-02\"],[0.366,\"New York Knicks 2001-02\"],[0.439,\"Phoenix Suns 2001-02\"],[0.427,\"Atlanta Hawks 2002-03\"],[0.366,\"Chicago Bulls 2002-03\"],[0.207,\"Cleveland Cavaliers 2002-03\"],[0.207,\"Denver Nuggets 2002-03\"],[0.463,\"Golden State Warriors 2002-03\"],[0.329,\"Los Angeles Clippers 2002-03\"],[0.341,\"Memphis Grizzlies 2002-03\"],[0.305,\"Miami Heat 2002-03\"],[0.293,\"Toronto Raptors 2002-03\"],[0.451,\"Washington Wizards 2002-03\"],[0.341,\"Atlanta Hawks 2003-04\"],[0.439,\"Boston Celtics 2003-04\"],[0.28,\"Chicago Bulls 2003-04\"],[0.427,\"Cleveland Cavaliers 2003-04\"],[0.451,\"Golden State Warriors 2003-04\"],[0.341,\"Los Angeles Clippers 2003-04\"],[0.5,\"New Orleans Hornets 2003-04\"],[0.476,\"New York Knicks 2003-04\"],[0.256,\"Orlando Magic 2003-04\"],[0.402,\"Philadelphia 76ers 2003-04\"],[0.354,\"Phoenix Suns 2003-04\"],[0.402,\"Toronto Raptors 2003-04\"],[0.512,\"Utah Jazz 2003-04\"],[0.305,\"Washington Wizards 2003-04\"],[0.159,\"Atlanta Hawks 2004-05\"],[0.22,\"Charlotte Bobcats 2004-05\"],[0.415,\"Golden State Warriors 2004-05\"],[0.415,\"Los Angeles Lakers 2004-05\"],[0.366,\"Milwaukee Bucks 2004-05\"],[0.22,\"New Orleans Hornets 2004-05\"],[0.402,\"New York Knicks 2004-05\"],[0.439,\"Orlando Magic 2004-05\"],[0.329,\"Portland Trail Blazers 2004-05\"],[0.317,\"Utah Jazz 2004-05\"]],\"hovertemplate\":\"Clusters=5<br>PC1=%{x}<br>PC2=%{y}<br>WIN%=%{customdata[0]}<br>TEAM=%{customdata[1]}<extra></extra>\",\"legendgroup\":\"5\",\"marker\":{\"color\":\"#636efa\",\"symbol\":\"circle\"},\"mode\":\"markers\",\"name\":\"5\",\"orientation\":\"v\",\"showlegend\":true,\"type\":\"scatter\",\"x\":[-0.9728225824753165,-0.6427353718852998,-1.710535804406136,-0.7572290593688361,-0.5051592305728763,-1.1086571943460952,-0.47228724577749076,-1.1581143248297159,-0.6184116188346284,-0.7041086641243609,-1.0136542782101365,-0.7930636156328926,-1.1565354479130898,-0.7635541557914663,-1.2905454199333573,-1.1293057108605276,-0.9056061602839462,-1.3323434209998033,-0.9562317066619795,-1.1358780178949457,-0.8838653815441025,-1.220584870738333,-0.8222026945616813,-1.0973239885379587,-0.5921715444395625,-1.0375373404373736,-1.1367187972826287,-0.9693099627052327,-1.1172144933397825,-0.9203262732432559,-0.766668657907079,-0.6343001125092218,-0.7968936555605926,-0.8786336348575551,-1.335923918779304,-1.7785564196463794,-0.6637698999723355,-0.9818828975386102,-0.5081038599371427,-1.2870535630522366,-1.0801797393391328,-0.8589304704170503,-0.9672794377062126,-0.6862268061506094,-1.1295915376661156,-0.8885366875459568,-0.7362035766316485,-1.133632048829641,-0.8628119513914239,-0.7328584157268334,-0.997359142069803,-1.1725842976541863,-0.8540332125534891,-1.0538024904358394,-1.3640101120544248,-1.3166884746880678,-1.2458289427168767,-0.9679145141141497,-0.4595537152906207,-0.5320115132277798,-0.6432367028422907,-1.2680502756313412,-0.633412517609062,-0.7074854224746023,-0.8798917949815027,-1.0877259571262894],\"xaxis\":\"x\",\"y\":[0.16685090224121568,-0.03502826554997557,0.3257277314000674,-0.05540753712734161,-0.10286803697646235,0.3937429953720006,-0.10927368275806487,0.7290130532474227,0.007998900661599155,-0.17660226436654772,0.13007989685744611,-0.01899257896634358,0.22336358397479786,-0.05244213753663205,0.231839916846861,-0.05994934713257018,-0.061894075109276005,0.416791232006158,-0.09813039065807659,0.1900004097049592,0.04251731038801694,0.18192972926109974,0.09070657070352563,0.1825299430833001,-0.2036742363870832,0.1761111192109733,0.1544000761439637,0.17382954395616387,0.16829305359462304,-0.3216035412692154,0.01787714760540726,-0.16564103849785466,-0.12069007674142268,0.055535966461625695,0.3670677735982905,0.294436532537412,-0.18176113459638288,0.009985407941348588,-0.08355002369408487,0.17170530672604425,0.20641100183557615,-0.3292945382203278,0.054770089514406144,-0.11520959140257857,0.18534685688066888,-0.2690110904341617,-0.22518805437306105,-0.02201643708252552,-0.26663449264464845,-0.24243223127739258,0.3722456806661609,-0.21118313043058232,0.11104481383284698,-0.08817821569982022,-0.46309078223601036,0.1976576636408881,0.4993394147914947,0.09373835785952093,0.02561425354174207,0.018266788144817893,-0.13623030448432774,0.24162534604679717,-0.06269012473782298,-0.14277449277531978,-0.11957595295445109,-0.21428440475469893],\"yaxis\":\"y\"},{\"customdata\":[[0.598,\"Charlotte Hornets 1999-00\"],[0.488,\"Dallas Mavericks 1999-00\"],[0.512,\"Detroit Pistons 1999-00\"],[0.683,\"Indiana Pacers 1999-00\"],[0.817,\"Los Angeles Lakers 1999-00\"],[0.634,\"Miami Heat 1999-00\"],[0.512,\"Milwaukee Bucks 1999-00\"],[0.61,\"Minnesota Timberwolves 1999-00\"],[0.61,\"New York Knicks 1999-00\"],[0.598,\"Philadelphia 76ers 1999-00\"],[0.646,\"Phoenix Suns 1999-00\"],[0.72,\"Portland Trail Blazers 1999-00\"],[0.537,\"Sacramento Kings 1999-00\"],[0.646,\"San Antonio Spurs 1999-00\"],[0.549,\"Seattle SuperSonics 1999-00\"],[0.549,\"Toronto Raptors 1999-00\"],[0.671,\"Utah Jazz 1999-00\"],[0.561,\"Charlotte Hornets 2000-01\"],[0.646,\"Dallas Mavericks 2000-01\"],[0.488,\"Denver Nuggets 2000-01\"],[0.549,\"Houston Rockets 2000-01\"],[0.5,\"Indiana Pacers 2000-01\"],[0.683,\"Los Angeles Lakers 2000-01\"],[0.61,\"Miami Heat 2000-01\"],[0.634,\"Milwaukee Bucks 2000-01\"],[0.573,\"Minnesota Timberwolves 2000-01\"],[0.585,\"New York Knicks 2000-01\"],[0.524,\"Orlando Magic 2000-01\"],[0.683,\"Philadelphia 76ers 2000-01\"],[0.622,\"Phoenix Suns 2000-01\"],[0.61,\"Portland Trail Blazers 2000-01\"],[0.671,\"Sacramento Kings 2000-01\"],[0.707,\"San Antonio Spurs 2000-01\"],[0.537,\"Seattle SuperSonics 2000-01\"],[0.573,\"Toronto Raptors 2000-01\"],[0.646,\"Utah Jazz 2000-01\"],[0.598,\"Boston Celtics 2001-02\"],[0.537,\"Charlotte Hornets 2001-02\"],[0.695,\"Dallas Mavericks 2001-02\"],[0.61,\"Detroit Pistons 2001-02\"],[0.512,\"Indiana Pacers 2001-02\"],[0.476,\"Los Angeles Clippers 2001-02\"],[0.707,\"Los Angeles Lakers 2001-02\"],[0.5,\"Milwaukee Bucks 2001-02\"],[0.61,\"Minnesota Timberwolves 2001-02\"],[0.634,\"New Jersey Nets 2001-02\"],[0.537,\"Orlando Magic 2001-02\"],[0.524,\"Philadelphia 76ers 2001-02\"],[0.598,\"Portland Trail Blazers 2001-02\"],[0.744,\"Sacramento Kings 2001-02\"],[0.707,\"San Antonio Spurs 2001-02\"],[0.549,\"Seattle SuperSonics 2001-02\"],[0.512,\"Toronto Raptors 2001-02\"],[0.537,\"Utah Jazz 2001-02\"],[0.451,\"Washington Wizards 2001-02\"],[0.537,\"Boston Celtics 2002-03\"],[0.732,\"Dallas Mavericks 2002-03\"],[0.61,\"Detroit Pistons 2002-03\"],[0.524,\"Houston Rockets 2002-03\"],[0.585,\"Indiana Pacers 2002-03\"],[0.61,\"Los Angeles Lakers 2002-03\"],[0.512,\"Milwaukee Bucks 2002-03\"],[0.622,\"Minnesota Timberwolves 2002-03\"],[0.598,\"New Jersey Nets 2002-03\"],[0.573,\"New Orleans Hornets 2002-03\"],[0.451,\"New York Knicks 2002-03\"],[0.512,\"Orlando Magic 2002-03\"],[0.585,\"Philadelphia 76ers 2002-03\"],[0.537,\"Phoenix Suns 2002-03\"],[0.61,\"Portland Trail Blazers 2002-03\"],[0.72,\"Sacramento Kings 2002-03\"],[0.732,\"San Antonio Spurs 2002-03\"],[0.488,\"Seattle SuperSonics 2002-03\"],[0.573,\"Utah Jazz 2002-03\"],[0.634,\"Dallas Mavericks 2003-04\"],[0.524,\"Denver Nuggets 2003-04\"],[0.659,\"Detroit Pistons 2003-04\"],[0.549,\"Houston Rockets 2003-04\"],[0.744,\"Indiana Pacers 2003-04\"],[0.683,\"Los Angeles Lakers 2003-04\"],[0.61,\"Memphis Grizzlies 2003-04\"],[0.512,\"Miami Heat 2003-04\"],[0.5,\"Milwaukee Bucks 2003-04\"],[0.707,\"Minnesota Timberwolves 2003-04\"],[0.573,\"New Jersey Nets 2003-04\"],[0.5,\"Portland Trail Blazers 2003-04\"],[0.671,\"Sacramento Kings 2003-04\"],[0.695,\"San Antonio Spurs 2003-04\"],[0.451,\"Seattle SuperSonics 2003-04\"],[0.549,\"Boston Celtics 2004-05\"],[0.573,\"Chicago Bulls 2004-05\"],[0.512,\"Cleveland Cavaliers 2004-05\"],[0.707,\"Dallas Mavericks 2004-05\"],[0.598,\"Denver Nuggets 2004-05\"],[0.659,\"Detroit Pistons 2004-05\"],[0.622,\"Houston Rockets 2004-05\"],[0.537,\"Indiana Pacers 2004-05\"],[0.451,\"Los Angeles Clippers 2004-05\"],[0.549,\"Memphis Grizzlies 2004-05\"],[0.537,\"Minnesota Timberwolves 2004-05\"],[0.512,\"New Jersey Nets 2004-05\"],[0.524,\"Philadelphia 76ers 2004-05\"],[0.61,\"Sacramento Kings 2004-05\"],[0.72,\"San Antonio Spurs 2004-05\"],[0.634,\"Seattle SuperSonics 2004-05\"],[0.402,\"Toronto Raptors 2004-05\"],[0.549,\"Washington Wizards 2004-05\"]],\"hovertemplate\":\"Clusters=0<br>PC1=%{x}<br>PC2=%{y}<br>WIN%=%{customdata[0]}<br>TEAM=%{customdata[1]}<extra></extra>\",\"legendgroup\":\"0\",\"marker\":{\"color\":\"#EF553B\",\"symbol\":\"circle\"},\"mode\":\"markers\",\"name\":\"0\",\"orientation\":\"v\",\"showlegend\":true,\"type\":\"scatter\",\"x\":[-0.22597985524632824,-0.1154801218597252,-0.30680391866182743,0.1400087661953885,-0.047052712696578194,-0.2692680927859699,-0.2977060538141207,-0.06608292395919267,-0.5659196630555635,-0.8625565328494474,-0.19291751578550023,-0.17013184034109244,-0.051153850663411875,-0.30605748798523597,-0.29754730119571443,-0.47231223177918463,-0.2715351996100921,-0.6422170438485488,-0.07583988950170738,-0.4580076047825363,-0.4416300661082572,-0.7067528876534932,-0.22129019236707337,-0.7197941033123154,-0.03724775327129772,-0.21915191345996227,-0.7171025411233803,-0.6263907328029311,-0.7201096155039521,-0.594958306726938,-0.29824167924047335,-0.13211441852411224,-0.1774182277898473,-0.5138902050509792,-0.30452447102219343,-0.34266327365281407,-0.34760338850750344,-0.6785341674390734,0.2643931141669668,-0.3571802726260012,-0.5167859616743901,-0.6912324878233909,0.04834319781392184,-0.1647810012181476,-0.061818809539756506,-0.35983304058432786,-0.16707731156680639,-0.9935543844325095,-0.32953407918445676,0.21723462324687007,-0.3600069084374702,-0.17983818497624482,-0.8151965649351534,-0.8051622068954412,-0.7173881463228338,-0.6468917367942126,0.3469335387255516,-0.5864061270227525,-0.761318490000207,-0.4887195496039762,-0.22471638353622378,-0.13343378657215524,-0.09144604141536955,-0.4987242430177801,-0.6360031461350776,-0.32639640095442957,-0.5045930086319518,-0.6763473335521692,-0.665459359099193,-0.5029862682365862,0.20026494796973254,-0.46664494824781766,-0.6101046236532155,-0.6425425835890277,0.21517008082015013,-0.7232659362009995,-0.8003090325974245,-0.7372502968517484,-0.6137309885130624,-0.2573940346377829,-0.5582486887975594,-0.8336937609173217,-0.3584392721751249,-0.11559188410243376,-0.507824591647368,-0.8093724844462502,0.262988637443926,-0.5641946277810964,-0.3697517328543477,-0.37590265929074074,-0.7284771565994915,-0.6606163568440325,-0.20273396072773195,-0.3745686844391657,-0.5703644501979445,-0.3038439964925603,-0.7844735594488504,-0.684157714706446,-0.6520770241662555,-0.21299851419586258,-0.7716792592746717,-0.4592561647665641,0.08666982328602246,-0.2698430073319665,-0.49498372943917285,-0.2875465373834264,-0.6637361412689899],\"xaxis\":\"x\",\"y\":[-0.702587554526475,-0.044060966086001546,-0.24314132345142317,-0.6277171688542554,-1.0326154798551899,-0.7357440282004925,-0.3310101921215913,-0.7211122441337395,-0.38885860766833796,-0.4322112589727379,-0.7340267606527049,-0.9854773534831,-0.2119214745953974,-0.8893030199601136,-0.2161197798178107,-0.3975589677702539,-0.9541584523891885,-0.7027994705616114,-0.5202525325024748,-0.16794384423132586,-0.3802102843865332,-0.41742750112877597,-0.7261550675400157,-0.5015089847775389,-0.5488433044258904,-0.6094919443195683,-0.5097269251455919,-0.30992885104150697,-0.7305792023028728,-0.5447315569289708,-0.8704445764951538,-0.6159558430385665,-1.0852943582431909,-0.3218907331195884,-0.6096610434444666,-1.0351318819316984,-0.25577220558257185,-0.5218265679143408,-0.48699947254141296,-0.6013871247472965,-0.4114832491498395,-0.3180278519306839,-0.8323574425861769,-0.3093913796198476,-0.6764419097324307,-0.7066890296832121,-0.2568409002000137,-0.5172076486560652,-0.6460464358700779,-0.8362983605119056,-0.834055912229903,-0.5797258247232012,-0.37805941219676953,-0.7296650321792472,-0.29241368183566635,-0.07018466870999826,-0.7519455344520253,-0.6405054250512981,-0.3983039908690865,-0.6716444132138976,-0.5677495017584836,-0.3166504615560681,-0.6705277287027718,-0.7718911265972598,-0.5727961370470375,-0.09358079652145015,-0.12969704789171374,-0.4998141093547686,-0.31515881693139475,-0.6246189734148594,-0.7893090944740769,-0.8019761555400313,-0.3418845051142312,-0.9971364547563306,-0.5663126613481659,-0.41051966865387124,-0.9516907729809528,-0.4768724439995212,-0.8648568694924688,-0.7796502600421243,-0.6248290904104247,-0.27815723285489213,-0.44463326294949945,-0.9414082748290369,-0.7126028441652288,-0.3828748590768119,-0.7986030663490332,-0.9561517716299949,-0.17785297939334355,-0.41734902219892994,-0.34258129526549647,-0.5306588451664245,-0.6722482255126262,-0.6463517973072123,-0.8615248647511734,-0.6497753886749432,-0.35021199056397345,-0.5758479755143328,-0.5300039574411841,-0.5800783260092636,-0.3187552448321585,-0.1531324796641951,-0.5149382280407039,-0.981511440058332,-0.38637786921846873,-0.01679987978984004,-0.16018825027198844],\"yaxis\":\"y\"},{\"customdata\":[[0.72,\"Miami Heat 2004-05\"],[0.756,\"Phoenix Suns 2004-05\"],[0.732,\"Dallas Mavericks 2005-06\"],[0.78,\"Detroit Pistons 2005-06\"],[0.634,\"Miami Heat 2005-06\"],[0.768,\"San Antonio Spurs 2005-06\"],[0.817,\"Dallas Mavericks 2006-07\"],[0.646,\"Detroit Pistons 2006-07\"],[0.634,\"Houston Rockets 2006-07\"],[0.707,\"San Antonio Spurs 2006-07\"],[0.622,\"Utah Jazz 2006-07\"],[0.805,\"Boston Celtics 2007-08\"],[0.622,\"Dallas Mavericks 2007-08\"],[0.72,\"Detroit Pistons 2007-08\"],[0.671,\"Houston Rockets 2007-08\"],[0.695,\"Los Angeles Lakers 2007-08\"],[0.683,\"New Orleans Hornets 2007-08\"],[0.634,\"Orlando Magic 2007-08\"],[0.683,\"San Antonio Spurs 2007-08\"],[0.659,\"Utah Jazz 2007-08\"],[0.756,\"Boston Celtics 2008-09\"],[0.805,\"Cleveland Cavaliers 2008-09\"],[0.61,\"Dallas Mavericks 2008-09\"],[0.659,\"Denver Nuggets 2008-09\"],[0.646,\"Houston Rockets 2008-09\"],[0.793,\"Los Angeles Lakers 2008-09\"],[0.72,\"Orlando Magic 2008-09\"],[0.561,\"Phoenix Suns 2008-09\"],[0.659,\"Portland Trail Blazers 2008-09\"],[0.659,\"San Antonio Spurs 2008-09\"],[0.585,\"Utah Jazz 2008-09\"],[0.646,\"Atlanta Hawks 2009-10\"],[0.61,\"Boston Celtics 2009-10\"],[0.744,\"Cleveland Cavaliers 2009-10\"],[0.671,\"Dallas Mavericks 2009-10\"],[0.646,\"Denver Nuggets 2009-10\"],[0.695,\"Los Angeles Lakers 2009-10\"],[0.72,\"Orlando Magic 2009-10\"],[0.659,\"Phoenix Suns 2009-10\"],[0.61,\"San Antonio Spurs 2009-10\"],[0.646,\"Utah Jazz 2009-10\"],[0.683,\"Boston Celtics 2010-11\"],[0.756,\"Chicago Bulls 2010-11\"],[0.695,\"Dallas Mavericks 2010-11\"],[0.61,\"Denver Nuggets 2010-11\"],[0.695,\"Los Angeles Lakers 2010-11\"],[0.707,\"Miami Heat 2010-11\"],[0.671,\"Oklahoma City Thunder 2010-11\"],[0.634,\"Orlando Magic 2010-11\"],[0.744,\"San Antonio Spurs 2010-11\"],[0.758,\"Chicago Bulls 2011-12\"],[0.576,\"Denver Nuggets 2011-12\"],[0.697,\"Miami Heat 2011-12\"],[0.712,\"Oklahoma City Thunder 2011-12\"],[0.758,\"San Antonio Spurs 2011-12\"],[0.695,\"Denver Nuggets 2012-13\"],[0.683,\"Los Angeles Clippers 2012-13\"],[0.805,\"Miami Heat 2012-13\"],[0.659,\"New York Knicks 2012-13\"],[0.732,\"Oklahoma City Thunder 2012-13\"],[0.707,\"San Antonio Spurs 2012-13\"],[0.659,\"Houston Rockets 2013-14\"],[0.683,\"Indiana Pacers 2013-14\"],[0.695,\"Los Angeles Clippers 2013-14\"],[0.659,\"Miami Heat 2013-14\"],[0.72,\"Oklahoma City Thunder 2013-14\"],[0.756,\"San Antonio Spurs 2013-14\"],[0.732,\"Atlanta Hawks 2014-15\"],[0.646,\"Cleveland Cavaliers 2014-15\"],[0.683,\"Los Angeles Clippers 2014-15\"],[0.671,\"Memphis Grizzlies 2014-15\"],[0.671,\"San Antonio Spurs 2014-15\"],[0.695,\"Cleveland Cavaliers 2015-16\"],[0.646,\"LA Clippers 2015-16\"],[0.671,\"Oklahoma City Thunder 2015-16\"],[0.817,\"San Antonio Spurs 2015-16\"],[0.683,\"Toronto Raptors 2015-16\"],[0.744,\"San Antonio Spurs 2016-17\"],[0.622,\"Utah Jazz 2016-17\"]],\"hovertemplate\":\"Clusters=3<br>PC1=%{x}<br>PC2=%{y}<br>WIN%=%{customdata[0]}<br>TEAM=%{customdata[1]}<extra></extra>\",\"legendgroup\":\"3\",\"marker\":{\"color\":\"#00cc96\",\"symbol\":\"circle\"},\"mode\":\"markers\",\"name\":\"3\",\"orientation\":\"v\",\"showlegend\":true,\"type\":\"scatter\",\"x\":[0.07544122678091793,0.5988199841957479,-0.1128109508566671,0.3552635970421613,0.21876299076576933,0.1770371297411642,0.2673660366072406,0.01717735806871623,0.1488327052493235,0.4494367468689322,0.041529119407034715,0.4059564829463663,0.28663423894242857,0.24227087588361806,0.06910477715681725,0.808951047009987,0.5147366710240995,0.5707945088202445,0.272102717244858,0.5906695741666261,0.3809654636804153,0.43691653720055956,0.39023549301102156,0.2095178843501507,0.15399779895682736,0.6210488259805,0.4194855020190496,0.602327174239398,0.16853436065390626,0.45432833049422394,0.23792151323187113,0.3233132413159518,0.2658458888091457,0.5806850874765249,0.5107154231244613,0.30879292931361507,0.2825169084235802,0.5937443085039493,0.796752979383592,0.37073231216706864,0.5371380500423364,0.31595843428657316,0.17566161468402067,0.5636712070043597,0.5839873808765782,0.326364722562029,0.4505289129906532,0.22658155344986533,0.24432506048818758,0.6576617565699046,0.06710521658539698,0.25833280108991075,0.03869650777534912,0.10139272844808807,0.6975705525875341,0.3348831946335142,0.4244276812679446,0.8032409444568999,0.360906701455262,0.6088230246086241,0.8151446082709534,0.476238598099707,0.07921037418851312,0.7888865557354591,0.6377914151440003,0.6016724014589085,1.0023325762951814,0.7745806830742875,0.4789870454936758,1.0109289288987147,0.16090233608614948,0.7331270824771706,0.7506682873252392,0.7450782079530861,0.6989195998984467,1.0283002341238567,0.33538047892666173,0.9058637291499143,0.5353913361464077],\"xaxis\":\"x\",\"y\":[-0.9534457247336562,-0.6615111261318627,-0.501638496511488,-0.793771592797509,-0.3129370221961679,-0.6034039250044665,-0.5738586423219649,-0.4780430126515302,-0.24917003731277754,-0.6676561815981247,-0.3954859268283397,-0.8197735565577424,-0.333732968711045,-0.7304069520028378,-0.3290504894665964,-0.45604139835384616,-0.339401447756958,-0.18011370185586487,-0.33912483519540915,-0.6568849226994328,-0.6739580568645168,-0.6621199287253834,-0.14426560080343762,-0.274166239217904,-0.21897105298181582,-0.4913704199892699,-0.32868864957029603,-0.11391761851235142,-0.45628159526294887,-0.25731204121677115,-0.31380726829148886,-0.3314418166580992,-0.37933349318471477,-0.5762668427977717,-0.2989122226923481,-0.17202127279194626,-0.2375522938126679,-0.3822139779377838,-0.25555616157152833,-0.2878768537985153,-0.5627345131063238,-0.5923257059132621,-0.5979568476060768,-0.4085683129955827,-0.15611220377480375,-0.434074840788051,-0.5614261431260559,-0.2870287823375216,-0.25801162681909007,-0.3738517454516156,-0.7647615942869486,-0.17788475409183016,-0.48972606153851655,-0.37747385556326785,-0.46839332522466015,-0.32847432619765754,-0.5532005601073706,-0.6919484607685216,-0.0710571503473907,-0.6882820962647025,-0.4493003886429767,-0.1259257015365367,-0.2650125168375364,-0.44168808825500105,-0.3799436975041813,-0.3765469083470703,-0.49229779833398163,-0.394064205870562,-0.14889380556236453,-0.405800232525098,-0.21831411771399253,-0.38119409500499724,-0.18559224197740692,-0.16414203300942606,-0.34302851897722,-0.7899960823797468,-0.11398889875245218,-0.4760580983049082,-0.16399885716647125],\"yaxis\":\"y\"},{\"customdata\":[[0.317,\"Atlanta Hawks 2005-06\"],[0.317,\"Charlotte Bobcats 2005-06\"],[0.415,\"Golden State Warriors 2005-06\"],[0.28,\"New York Knicks 2005-06\"],[0.256,\"Portland Trail Blazers 2005-06\"],[0.427,\"Seattle SuperSonics 2005-06\"],[0.329,\"Toronto Raptors 2005-06\"],[0.366,\"Atlanta Hawks 2006-07\"],[0.293,\"Boston Celtics 2006-07\"],[0.402,\"Charlotte Bobcats 2006-07\"],[0.427,\"Indiana Pacers 2006-07\"],[0.268,\"Memphis Grizzlies 2006-07\"],[0.341,\"Milwaukee Bucks 2006-07\"],[0.402,\"New York Knicks 2006-07\"],[0.39,\"Portland Trail Blazers 2006-07\"],[0.378,\"Seattle SuperSonics 2006-07\"],[0.39,\"Charlotte Bobcats 2007-08\"],[0.402,\"Chicago Bulls 2007-08\"],[0.28,\"Los Angeles Clippers 2007-08\"],[0.268,\"Memphis Grizzlies 2007-08\"],[0.183,\"Miami Heat 2007-08\"],[0.317,\"Milwaukee Bucks 2007-08\"],[0.268,\"Minnesota Timberwolves 2007-08\"],[0.28,\"New York Knicks 2007-08\"],[0.244,\"Seattle SuperSonics 2007-08\"],[0.232,\"Los Angeles Clippers 2008-09\"],[0.293,\"Memphis Grizzlies 2008-09\"],[0.293,\"Minnesota Timberwolves 2008-09\"],[0.28,\"Oklahoma City Thunder 2008-09\"],[0.207,\"Sacramento Kings 2008-09\"],[0.232,\"Washington Wizards 2008-09\"],[0.329,\"Detroit Pistons 2009-10\"],[0.354,\"Los Angeles Clippers 2009-10\"],[0.183,\"Minnesota Timberwolves 2009-10\"],[0.146,\"New Jersey Nets 2009-10\"],[0.329,\"Philadelphia 76ers 2009-10\"],[0.305,\"Sacramento Kings 2009-10\"],[0.317,\"Washington Wizards 2009-10\"],[0.232,\"Cleveland Cavaliers 2010-11\"],[0.366,\"Detroit Pistons 2010-11\"],[0.39,\"Los Angeles Clippers 2010-11\"],[0.207,\"Minnesota Timberwolves 2010-11\"],[0.293,\"New Jersey Nets 2010-11\"],[0.293,\"Sacramento Kings 2010-11\"],[0.268,\"Toronto Raptors 2010-11\"],[0.28,\"Washington Wizards 2010-11\"],[0.106,\"Charlotte Bobcats 2011-12\"],[0.318,\"Cleveland Cavaliers 2011-12\"],[0.379,\"Detroit Pistons 2011-12\"],[0.394,\"Minnesota Timberwolves 2011-12\"],[0.333,\"New Jersey Nets 2011-12\"],[0.318,\"New Orleans Hornets 2011-12\"],[0.333,\"Sacramento Kings 2011-12\"],[0.348,\"Toronto Raptors 2011-12\"],[0.303,\"Washington Wizards 2011-12\"],[0.256,\"Charlotte Bobcats 2012-13\"],[0.293,\"Cleveland Cavaliers 2012-13\"],[0.354,\"Detroit Pistons 2012-13\"],[0.378,\"Minnesota Timberwolves 2012-13\"],[0.329,\"New Orleans Hornets 2012-13\"],[0.244,\"Orlando Magic 2012-13\"],[0.305,\"Phoenix Suns 2012-13\"],[0.341,\"Sacramento Kings 2012-13\"],[0.354,\"Washington Wizards 2012-13\"],[0.305,\"Boston Celtics 2013-14\"],[0.402,\"Cleveland Cavaliers 2013-14\"],[0.354,\"Detroit Pistons 2013-14\"],[0.183,\"Milwaukee Bucks 2013-14\"],[0.28,\"Orlando Magic 2013-14\"],[0.232,\"Philadelphia 76ers 2013-14\"],[0.341,\"Sacramento Kings 2013-14\"],[0.305,\"Utah Jazz 2013-14\"],[0.366,\"Denver Nuggets 2014-15\"],[0.256,\"Los Angeles Lakers 2014-15\"],[0.195,\"Minnesota Timberwolves 2014-15\"],[0.207,\"New York Knicks 2014-15\"],[0.305,\"Orlando Magic 2014-15\"],[0.22,\"Philadelphia 76ers 2014-15\"],[0.354,\"Sacramento Kings 2014-15\"],[0.207,\"Los Angeles Lakers 2015-16\"],[0.402,\"Milwaukee Bucks 2015-16\"],[0.122,\"Philadelphia 76ers 2015-16\"],[0.28,\"Phoenix Suns 2015-16\"]],\"hovertemplate\":\"Clusters=1<br>PC1=%{x}<br>PC2=%{y}<br>WIN%=%{customdata[0]}<br>TEAM=%{customdata[1]}<extra></extra>\",\"legendgroup\":\"1\",\"marker\":{\"color\":\"#ab63fa\",\"symbol\":\"circle\"},\"mode\":\"markers\",\"name\":\"1\",\"orientation\":\"v\",\"showlegend\":true,\"type\":\"scatter\",\"x\":[-0.5982426836472085,-0.5059675600762994,-0.22503003119374346,-0.9018961630440114,-1.009669511054553,-0.1408827312142678,-0.05119970509753105,-0.786273220490556,-0.568543884249104,-0.3609291028605178,-0.47423771063452197,-0.24420454098092248,-0.22657969804732428,-0.5306588536291189,-0.6174074580567608,-0.20739022942353275,-0.30712617010470916,-0.32847931185099916,-0.4913720264592538,-0.12129641189690941,-0.5859101940395242,-0.4145081111095884,-0.5038758602540153,-0.5579927814610889,-0.4475970985514006,-0.4607951523660226,-0.6473039232836696,-0.3298507031384276,-0.4895052052829991,-0.35031329151407975,-0.4989165955625623,-0.6465732230828204,-0.29930983322201427,-0.4926560324547165,-0.8053190744202582,-0.1870350201170899,-0.2505500686821057,-0.4667502834355492,-0.45527519474941547,-0.21382265564160532,-0.2526780685522688,-0.36802255185034716,-0.4512849491289801,-0.41371200440851635,-0.3352039715669256,-0.6188767943665949,-1.146860569638609,-0.8036997553610068,-0.8440071106923865,-0.3457348779514732,-0.625117824026162,-0.7196368093060752,-0.5196355876876022,-0.5778693266180568,-0.6524402752077532,-0.7368993562767938,-0.44601926955186916,-0.41315885329373,-0.30656181101622687,-0.3833268831876393,-0.23842481411997804,-0.39244148709344356,-0.21142971804471516,-0.287705991698456,-0.32569569844287305,-0.166575762833798,-0.25389450966956306,-0.4678894198084415,-0.1814004132480155,-0.4533234783213258,-0.2548116619950665,-0.3668652292037988,-0.08057564507628452,-0.19026116391381495,-0.47155264188861085,-0.5253651706010123,-0.20530891919098693,-0.8258940317390392,-0.19182612838903634,-0.4599365197548792,-0.05319253171307476,-0.3235441113914019,-0.13996078226421868],\"xaxis\":\"x\",\"y\":[0.36991370399635415,0.4480015152663606,0.35165467360016206,0.5048694838019038,0.6592931433803697,0.3296462025115418,0.4657525519746827,0.31306708267637795,0.36795202811760097,0.2630106038326863,0.22455367595191414,0.5017671568159725,0.4797203074082849,0.30337485743679,0.33678613442884187,0.27991606601542635,0.3405165169430161,0.24560460074735915,0.4628592639695897,0.7602152042305257,0.6312613719310235,0.49107238202789705,0.6487561458483758,0.6959857861900649,0.707076050099185,0.6724967939920208,0.5118430824652502,0.5281338639098712,0.47163706176542797,0.8078333192901698,0.5997849494659794,0.42494848809064223,0.38377495631522734,0.8972305227768694,0.7876972160198562,0.2725397594690948,0.5111034953664084,0.48463398644941313,0.7510671979432659,0.23862953947072743,0.2249263578332459,0.7330911393831322,0.46380278631364574,0.56613557238415,0.49733727783828674,0.6359975871593181,0.9836292320137774,0.6185604458660473,0.3861366942173174,0.3756498957624002,0.5143783364739368,0.1499726668115351,0.671702522707586,0.1757875513113097,0.449508686673451,0.7637076273584127,0.5722755416726083,0.34024312624324077,0.22929744566670415,0.3137890148846405,0.5652786854217248,0.5005844608584384,0.5728661259995037,0.24234147846441217,0.4914210130409393,0.4060626773459568,0.44684168760372656,0.6511515825542573,0.5509072980921342,1.0436217423124559,0.4832909989442438,0.5974553101915632,0.5623061271056011,0.6519593117588116,0.6841019967714321,0.7029632821790013,0.6116815593187298,0.8516820867941393,0.4199214641001868,1.054440114139329,0.26558649274992796,1.0256095313146945,0.8346683484201237],\"yaxis\":\"y\"},{\"customdata\":[[0.402,\"Boston Celtics 2005-06\"],[0.5,\"Chicago Bulls 2005-06\"],[0.61,\"Cleveland Cavaliers 2005-06\"],[0.537,\"Denver Nuggets 2005-06\"],[0.415,\"Houston Rockets 2005-06\"],[0.5,\"Indiana Pacers 2005-06\"],[0.573,\"Los Angeles Clippers 2005-06\"],[0.549,\"Los Angeles Lakers 2005-06\"],[0.598,\"Memphis Grizzlies 2005-06\"],[0.488,\"Milwaukee Bucks 2005-06\"],[0.402,\"Minnesota Timberwolves 2005-06\"],[0.598,\"New Jersey Nets 2005-06\"],[0.463,\"New Orleans/Oklahoma City Hornets 2005-06\"],[0.439,\"Orlando Magic 2005-06\"],[0.463,\"Philadelphia 76ers 2005-06\"],[0.537,\"Sacramento Kings 2005-06\"],[0.5,\"Utah Jazz 2005-06\"],[0.512,\"Washington Wizards 2005-06\"],[0.598,\"Chicago Bulls 2006-07\"],[0.61,\"Cleveland Cavaliers 2006-07\"],[0.549,\"Denver Nuggets 2006-07\"],[0.488,\"Los Angeles Clippers 2006-07\"],[0.512,\"Los Angeles Lakers 2006-07\"],[0.537,\"Miami Heat 2006-07\"],[0.39,\"Minnesota Timberwolves 2006-07\"],[0.5,\"New Jersey Nets 2006-07\"],[0.476,\"New Orleans/Oklahoma City Hornets 2006-07\"],[0.488,\"Orlando Magic 2006-07\"],[0.427,\"Philadelphia 76ers 2006-07\"],[0.402,\"Sacramento Kings 2006-07\"],[0.573,\"Toronto Raptors 2006-07\"],[0.5,\"Washington Wizards 2006-07\"],[0.451,\"Atlanta Hawks 2007-08\"],[0.549,\"Cleveland Cavaliers 2007-08\"],[0.415,\"New Jersey Nets 2007-08\"],[0.488,\"Philadelphia 76ers 2007-08\"],[0.5,\"Portland Trail Blazers 2007-08\"],[0.463,\"Sacramento Kings 2007-08\"],[0.524,\"Washington Wizards 2007-08\"],[0.573,\"Atlanta Hawks 2008-09\"],[0.427,\"Charlotte Bobcats 2008-09\"],[0.5,\"Chicago Bulls 2008-09\"],[0.476,\"Detroit Pistons 2008-09\"],[0.524,\"Miami Heat 2008-09\"],[0.415,\"Milwaukee Bucks 2008-09\"],[0.415,\"New Jersey Nets 2008-09\"],[0.598,\"New Orleans Hornets 2008-09\"],[0.5,\"Philadelphia 76ers 2008-09\"],[0.402,\"Toronto Raptors 2008-09\"],[0.537,\"Charlotte Bobcats 2009-10\"],[0.5,\"Chicago Bulls 2009-10\"],[0.512,\"Houston Rockets 2009-10\"],[0.488,\"Memphis Grizzlies 2009-10\"],[0.573,\"Miami Heat 2009-10\"],[0.561,\"Milwaukee Bucks 2009-10\"],[0.61,\"Oklahoma City Thunder 2009-10\"],[0.61,\"Portland Trail Blazers 2009-10\"],[0.488,\"Toronto Raptors 2009-10\"],[0.537,\"Atlanta Hawks 2010-11\"],[0.415,\"Charlotte Bobcats 2010-11\"],[0.451,\"Indiana Pacers 2010-11\"],[0.561,\"Memphis Grizzlies 2010-11\"],[0.427,\"Milwaukee Bucks 2010-11\"],[0.561,\"New Orleans Hornets 2010-11\"],[0.5,\"Philadelphia 76ers 2010-11\"],[0.585,\"Portland Trail Blazers 2010-11\"],[0.476,\"Utah Jazz 2010-11\"],[0.606,\"Atlanta Hawks 2011-12\"],[0.591,\"Boston Celtics 2011-12\"],[0.545,\"Dallas Mavericks 2011-12\"],[0.515,\"Houston Rockets 2011-12\"],[0.636,\"Indiana Pacers 2011-12\"],[0.606,\"Los Angeles Clippers 2011-12\"],[0.621,\"Los Angeles Lakers 2011-12\"],[0.621,\"Memphis Grizzlies 2011-12\"],[0.47,\"Milwaukee Bucks 2011-12\"],[0.545,\"New York Knicks 2011-12\"],[0.561,\"Orlando Magic 2011-12\"],[0.53,\"Philadelphia 76ers 2011-12\"],[0.5,\"Phoenix Suns 2011-12\"],[0.424,\"Portland Trail Blazers 2011-12\"],[0.545,\"Utah Jazz 2011-12\"],[0.506,\"Boston Celtics 2012-13\"],[0.598,\"Brooklyn Nets 2012-13\"],[0.549,\"Chicago Bulls 2012-13\"],[0.605,\"Indiana Pacers 2012-13\"],[0.683,\"Memphis Grizzlies 2012-13\"],[0.415,\"Philadelphia 76ers 2012-13\"],[0.402,\"Portland Trail Blazers 2012-13\"],[0.415,\"Toronto Raptors 2012-13\"],[0.524,\"Utah Jazz 2012-13\"],[0.537,\"Brooklyn Nets 2013-14\"],[0.524,\"Charlotte Bobcats 2013-14\"],[0.585,\"Chicago Bulls 2013-14\"],[0.61,\"Memphis Grizzlies 2013-14\"],[0.415,\"New Orleans Pelicans 2013-14\"],[0.451,\"New York Knicks 2013-14\"],[0.585,\"Toronto Raptors 2013-14\"],[0.463,\"Brooklyn Nets 2014-15\"],[0.402,\"Charlotte Hornets 2014-15\"],[0.463,\"Indiana Pacers 2014-15\"],[0.451,\"Miami Heat 2014-15\"],[0.5,\"Milwaukee Bucks 2014-15\"],[0.463,\"Utah Jazz 2014-15\"],[0.512,\"Memphis Grizzlies 2015-16\"],[0.39,\"New York Knicks 2015-16\"],[0.488,\"Utah Jazz 2015-16\"]],\"hovertemplate\":\"Clusters=4<br>PC1=%{x}<br>PC2=%{y}<br>WIN%=%{customdata[0]}<br>TEAM=%{customdata[1]}<extra></extra>\",\"legendgroup\":\"4\",\"marker\":{\"color\":\"#FFA15A\",\"symbol\":\"circle\"},\"mode\":\"markers\",\"name\":\"4\",\"orientation\":\"v\",\"showlegend\":true,\"type\":\"scatter\",\"x\":[-0.25549556800968937,-0.07342276563247425,-0.14788947554078885,-0.06003787908065175,-0.57162610122082,-0.34191490356182663,-0.0555084608657803,0.02238535166422298,-0.2997828741606153,-0.11773670513551537,-0.48894838674107527,-0.07196151972313679,-0.5678579820659343,-0.5011615673331863,-0.1804216117858237,0.022510658610136968,-0.7156258284452727,-0.18237274758163757,0.010078404616235388,-0.13696132670966607,0.12235863636155771,-0.2678381857547938,0.1504786445271151,-0.13741649974786954,-0.21564096006456593,0.09407662315418983,-0.3536665888347792,-0.5366169617937596,-0.4547503328662321,-0.08468520854521848,0.30455399614665113,-2.8706762515338546e-06,-0.2541734191079785,-0.26021977831727583,-0.2528419797710336,-0.40470155240230155,-0.08390569657798133,-0.1081471994781298,-0.09948014693894532,0.048208046756970935,-0.4295942019980775,-0.0145023235645761,-0.17268700576906618,0.09052219839546505,-0.11448904721211627,-0.06809812242235645,0.08675018360985139,-0.35373722273239894,0.12421367114293169,-0.32719500901989895,-0.18502310308523048,0.06712443846956109,-0.24679876902086784,-0.06718228274473295,0.05173074362599744,0.004249291141719645,0.08176656183175383,0.3230784539868473,0.028385611990253367,-0.4268426874740228,-0.1346409385102497,-0.12635684097108696,-0.4423771048798442,-0.06401073290744436,0.20005669965141307,-0.09115808502266134,-0.04382758079981149,0.13408227108256368,-0.04067867181055218,0.020670437220458367,-0.0893669193959125,-0.3175633774844047,-0.03058353882346272,-0.018766967960343096,-0.45994256732765104,-0.018610228545280796,-0.19007549867367907,-0.1381249102294734,0.09400729476682501,0.06577110692815763,-0.17261629412978416,-0.2086105423829478,0.08837131722673022,-0.11969664790376128,-0.2807716159591531,-0.2369852546557629,-0.29246424658320025,-0.14601829851068623,-0.02804546268820046,-0.1210677562872214,-0.0992433475208284,0.08074546083320906,0.12365630370935862,-0.2025418351502304,-0.0017517776803032182,-0.0852256684973374,0.13222333213524914,0.1722222486668558,-0.0138591599949609,-0.1525383935920851,0.09232896969610425,-0.2371023182500023,-0.004352656928566769,-0.24557158947030475,-0.11896795387451287,0.061708135581196276,-0.0222435264563561],\"xaxis\":\"x\",\"y\":[0.14213144462843236,0.07698251768137826,-0.11665643993430812,-0.08706615183093194,0.11828079491874133,-0.11011121220946302,-0.2273138083169888,-0.11962363752478516,-0.24909212791204158,0.1165469214211464,0.00986265366418844,-0.2196459227832232,0.22136121702779674,0.007064328850833811,0.14566469724771336,-0.09012738155036394,-0.08121492545130791,0.05048311834196941,-0.32295588603849934,-0.2277733584517974,-0.04622811020889491,-0.17943807237790943,0.09819514144683007,-0.014385793292573,0.1639562512694523,0.009738730196465118,0.2209312334376438,-0.10629612830670475,0.09796345652596453,0.327791014926112,-0.05623624600116603,0.21733150091292117,-0.0032888581619427326,0.041812932036630245,0.19328721895559706,-0.05780250889248388,-0.009496203965987306,0.34469021360441043,0.08240086072649849,-0.1037435134530161,0.02948677387543732,0.08157886278026441,-0.05293254894119133,0.009567577717399944,0.1733898607404304,0.27503328227532653,-0.1576475874311365,-0.050348442822648706,0.17418529366112914,-0.1277711069481431,0.13156850968732595,0.27694846446246946,0.261391651454927,-0.13116488250939515,0.09639008479409963,-0.22825487271240127,-0.29370235814490875,0.14032524238396926,-0.022743967047918662,0.22188976556542178,0.30229168275120794,-0.1123773105320906,0.18264006976619565,-0.1266134606597631,-0.09537877489341173,-0.18033301751826064,-0.017409542496628412,-0.26842809937415396,-0.3934032095148541,-0.027275927658278264,0.07778296349843272,-0.16860949904595107,-0.19378228416407797,-0.26237882727011647,-0.1733179345542726,-0.0032110762386587713,-0.04736607168540177,0.009325742056737538,-0.3461161187861626,0.017786702739366774,0.15683485562345176,-0.11328153952721447,-0.0028361615730002677,-0.11521632614941711,-0.1618050541972907,-0.2521434820855265,-0.3864470737321788,0.22836591282926363,0.3389518010224128,0.17862401536463016,-0.06765633216708317,0.12501141739734686,0.056121372391262504,-0.22487580250037606,-0.2046820897435376,0.22503947832432228,0.2097879539003165,-0.08326670271802594,0.3351556935834318,0.4105745186756176,0.15416463089465465,0.20664863621737045,-0.034631757941557574,-0.002855421006600497,0.2798988712651365,0.3291625069179433,0.06532831163148133],\"yaxis\":\"y\"},{\"customdata\":[[0.659,\"Phoenix Suns 2005-06\"],[0.744,\"Phoenix Suns 2006-07\"],[0.671,\"Phoenix Suns 2007-08\"],[0.817,\"Golden State Warriors 2014-15\"],[0.89,\"Golden State Warriors 2015-16\"],[0.646,\"Boston Celtics 2016-17\"],[0.622,\"Cleveland Cavaliers 2016-17\"],[0.488,\"Denver Nuggets 2016-17\"],[0.817,\"Golden State Warriors 2016-17\"],[0.671,\"Houston Rockets 2016-17\"],[0.622,\"LA Clippers 2016-17\"],[0.61,\"Cleveland Cavaliers 2017-18\"],[0.561,\"Denver Nuggets 2017-18\"],[0.707,\"Golden State Warriors 2017-18\"],[0.793,\"Houston Rockets 2017-18\"],[0.585,\"New Orleans Pelicans 2017-18\"],[0.634,\"Philadelphia 76ers 2017-18\"],[0.72,\"Toronto Raptors 2017-18\"],[0.598,\"Boston Celtics 2018-19\"],[0.512,\"Brooklyn Nets 2018-19\"],[0.659,\"Denver Nuggets 2018-19\"],[0.695,\"Golden State Warriors 2018-19\"],[0.646,\"Houston Rockets 2018-19\"],[0.585,\"Indiana Pacers 2018-19\"],[0.585,\"LA Clippers 2018-19\"],[0.451,\"Los Angeles Lakers 2018-19\"],[0.732,\"Milwaukee Bucks 2018-19\"],[0.402,\"New Orleans Pelicans 2018-19\"],[0.598,\"Oklahoma City Thunder 2018-19\"],[0.512,\"Orlando Magic 2018-19\"],[0.622,\"Philadelphia 76ers 2018-19\"],[0.646,\"Portland Trail Blazers 2018-19\"],[0.476,\"Sacramento Kings 2018-19\"],[0.585,\"San Antonio Spurs 2018-19\"],[0.707,\"Toronto Raptors 2018-19\"],[0.61,\"Utah Jazz 2018-19\"],[0.667,\"Boston Celtics 2019-20\"],[0.486,\"Brooklyn Nets 2019-20\"],[0.573,\"Dallas Mavericks 2019-20\"],[0.63,\"Denver Nuggets 2019-20\"],[0.611,\"Houston Rockets 2019-20\"],[0.616,\"Indiana Pacers 2019-20\"],[0.681,\"LA Clippers 2019-20\"],[0.732,\"Los Angeles Lakers 2019-20\"],[0.466,\"Memphis Grizzlies 2019-20\"],[0.603,\"Miami Heat 2019-20\"],[0.767,\"Milwaukee Bucks 2019-20\"],[0.417,\"New Orleans Pelicans 2019-20\"],[0.611,\"Oklahoma City Thunder 2019-20\"],[0.589,\"Philadelphia 76ers 2019-20\"],[0.466,\"Phoenix Suns 2019-20\"],[0.473,\"Portland Trail Blazers 2019-20\"],[0.451,\"San Antonio Spurs 2019-20\"],[0.736,\"Toronto Raptors 2019-20\"],[0.611,\"Utah Jazz 2019-20\"]],\"hovertemplate\":\"Clusters=6<br>PC1=%{x}<br>PC2=%{y}<br>WIN%=%{customdata[0]}<br>TEAM=%{customdata[1]}<extra></extra>\",\"legendgroup\":\"6\",\"marker\":{\"color\":\"#19d3f3\",\"symbol\":\"circle\"},\"mode\":\"markers\",\"name\":\"6\",\"orientation\":\"v\",\"showlegend\":true,\"type\":\"scatter\",\"x\":[1.1764526317432051,1.164518885657563,1.126454955481658,1.2812638482294982,1.6526023876002929,0.9261435381067658,1.062595635704785,0.9211775931641177,1.7294446671919024,1.1768369422932319,1.0077060117699919,1.1132928743918609,0.9376719752776027,1.5765516213665656,1.2513712301972464,1.2271082752346312,1.0046153194768024,1.1870967281668652,1.3739337771661169,0.829059237269196,1.1495152699378044,1.7979242987319648,1.0420112406827924,0.983645331313539,0.9916190027437719,0.8871650505822335,1.7417058916758843,1.100792513856778,0.9668127028258743,1.0187344367918179,1.230489450892644,1.0935601327494802,1.076203890834533,1.2982672601130236,1.3612042384118277,1.1793983778053279,1.0922013626496483,0.8786275876974404,1.4894103845332716,1.0993088645979414,1.1209582034823615,1.1149075369618013,1.230955890628352,1.1805741059628272,1.0286276802450673,1.2313633864242437,1.7632077595419118,1.0897645683645698,0.9581362381002512,1.0982042448231744,1.1109271978597377,1.0025452353199231,1.2338817526568604,1.1775145832995983,1.0547811815285817],\"xaxis\":\"x\",\"y\":[-0.2713931060865719,-0.4498464268075659,-0.4101902409472193,-0.6490443282270543,-0.6449260061800594,0.03694113513644741,0.12881800156441672,0.18822436141604607,-0.7699775523056506,0.02203418513030149,-0.09418417416620967,0.2297871065311457,0.1023293608334123,-0.44677043372564185,-0.10809525170949096,0.09029205392931391,-0.16021845980110694,-0.2055104526455801,-0.0007320656881674076,0.4850694164942184,-0.08129233666528848,-0.27065714533836926,0.2624513606836425,-0.06280910510271416,0.28365627191865084,0.48210447314757365,-0.14002905042762115,0.43854639578811894,0.29840371854245096,0.20809210198268308,-0.023806139748309686,0.1019054211794934,0.48903101023157725,0.09137900367861822,-0.08048865191409145,-0.09896634374591132,0.004323641373812779,0.47339149655875346,0.14632522725220307,-0.009255852726991929,0.4887551500177708,0.05109572467223866,0.0008869885207354498,-0.1918310736420988,0.34615603961918984,-0.013340626557553532,-0.1760322280275223,0.4776683110742356,0.18387181770919137,0.002813510391401832,0.2670944729717999,0.6112611396167265,0.3271259410217316,-0.06137045507198221,0.21129485861105826],\"yaxis\":\"y\"},{\"customdata\":[[0.512,\"Golden State Warriors 2006-07\"],[0.61,\"Denver Nuggets 2007-08\"],[0.585,\"Golden State Warriors 2007-08\"],[0.439,\"Indiana Pacers 2007-08\"],[0.5,\"Toronto Raptors 2007-08\"],[0.439,\"Indiana Pacers 2008-09\"],[0.451,\"New Orleans Hornets 2009-10\"],[0.439,\"Golden State Warriors 2010-11\"],[0.524,\"Houston Rockets 2010-11\"],[0.512,\"New York Knicks 2010-11\"],[0.488,\"Phoenix Suns 2010-11\"],[0.537,\"Atlanta Hawks 2012-13\"],[0.5,\"Dallas Mavericks 2012-13\"],[0.573,\"Golden State Warriors 2012-13\"],[0.549,\"Houston Rockets 2012-13\"],[0.549,\"Los Angeles Lakers 2012-13\"],[0.463,\"Milwaukee Bucks 2012-13\"],[0.463,\"Atlanta Hawks 2013-14\"],[0.598,\"Dallas Mavericks 2013-14\"],[0.439,\"Denver Nuggets 2013-14\"],[0.622,\"Golden State Warriors 2013-14\"],[0.488,\"Minnesota Timberwolves 2013-14\"],[0.585,\"Phoenix Suns 2013-14\"],[0.659,\"Portland Trail Blazers 2013-14\"],[0.537,\"Washington Wizards 2013-14\"],[0.488,\"Boston Celtics 2014-15\"],[0.61,\"Chicago Bulls 2014-15\"],[0.61,\"Dallas Mavericks 2014-15\"],[0.39,\"Detroit Pistons 2014-15\"],[0.683,\"Houston Rockets 2014-15\"],[0.549,\"New Orleans Pelicans 2014-15\"],[0.549,\"Oklahoma City Thunder 2014-15\"],[0.476,\"Phoenix Suns 2014-15\"],[0.622,\"Portland Trail Blazers 2014-15\"],[0.598,\"Toronto Raptors 2014-15\"],[0.561,\"Washington Wizards 2014-15\"],[0.585,\"Atlanta Hawks 2015-16\"],[0.585,\"Boston Celtics 2015-16\"],[0.585,\"Charlotte Hornets 2015-16\"],[0.512,\"Chicago Bulls 2015-16\"],[0.512,\"Dallas Mavericks 2015-16\"],[0.537,\"Detroit Pistons 2015-16\"],[0.5,\"Houston Rockets 2015-16\"],[0.549,\"Indiana Pacers 2015-16\"],[0.585,\"Miami Heat 2015-16\"],[0.427,\"Orlando Magic 2015-16\"],[0.537,\"Portland Trail Blazers 2015-16\"],[0.5,\"Washington Wizards 2015-16\"],[0.524,\"Atlanta Hawks 2016-17\"],[0.439,\"Charlotte Hornets 2016-17\"],[0.5,\"Chicago Bulls 2016-17\"],[0.451,\"Detroit Pistons 2016-17\"],[0.512,\"Indiana Pacers 2016-17\"],[0.524,\"Memphis Grizzlies 2016-17\"],[0.5,\"Miami Heat 2016-17\"],[0.512,\"Milwaukee Bucks 2016-17\"],[0.378,\"Minnesota Timberwolves 2016-17\"],[0.573,\"Oklahoma City Thunder 2016-17\"],[0.5,\"Portland Trail Blazers 2016-17\"],[0.622,\"Toronto Raptors 2016-17\"],[0.598,\"Washington Wizards 2016-17\"],[0.671,\"Boston Celtics 2017-18\"],[0.439,\"Charlotte Hornets 2017-18\"],[0.476,\"Detroit Pistons 2017-18\"],[0.585,\"Indiana Pacers 2017-18\"],[0.512,\"LA Clippers 2017-18\"],[0.537,\"Miami Heat 2017-18\"],[0.537,\"Milwaukee Bucks 2017-18\"],[0.573,\"Minnesota Timberwolves 2017-18\"],[0.585,\"Oklahoma City Thunder 2017-18\"],[0.598,\"Portland Trail Blazers 2017-18\"],[0.573,\"San Antonio Spurs 2017-18\"],[0.585,\"Utah Jazz 2017-18\"],[0.524,\"Washington Wizards 2017-18\"],[0.5,\"Detroit Pistons 2018-19\"],[0.476,\"Miami Heat 2018-19\"],[0.452,\"Orlando Magic 2019-20\"]],\"hovertemplate\":\"Clusters=2<br>PC1=%{x}<br>PC2=%{y}<br>WIN%=%{customdata[0]}<br>TEAM=%{customdata[1]}<extra></extra>\",\"legendgroup\":\"2\",\"marker\":{\"color\":\"#FF6692\",\"symbol\":\"circle\"},\"mode\":\"markers\",\"name\":\"2\",\"orientation\":\"v\",\"showlegend\":true,\"type\":\"scatter\",\"x\":[0.29164430487579995,0.6414305491020297,0.579250389020651,0.24853243425497518,0.5540834936247523,0.28724210917675086,0.2141361927278762,0.1768662210938495,0.442380297878381,0.4359392447657465,0.4703444580879556,0.3596935185492731,0.38646120445742826,0.31713162168212106,0.4332112597104417,0.2652774791786347,-0.0242966735038097,0.4415037461343977,0.6915809812041631,0.11206166664923686,0.6103307330331271,0.4123814469546204,0.3148567454906445,0.6649384785949933,0.31970101215458085,0.2928261858370546,0.21482420036255018,0.6367914996765537,-0.021415007837449655,0.2477607954259025,0.1757171044748541,0.20907959414006283,0.172471683607465,0.6386833546050453,0.338075348696591,0.24740707858316555,0.6926073428388106,0.5040055699823833,0.6559356682300516,0.286556415591282,0.5395023508100939,0.17784678781591873,0.2928771421304051,0.30808616835268043,0.29721983481902,0.33530136996040505,0.4189854357494719,0.5856367886180207,0.35647475445834015,0.7579691489306439,0.34446571131483394,0.42690154790345236,0.5934368320254906,0.22644424306455913,0.4127657025051367,0.5879560835190646,0.39998050095878585,0.32767017672879334,0.5950286296293777,0.5195934571701775,0.8034280330645724,0.7451464008101201,0.7453043840612245,0.6081115163450719,0.7033906310789756,0.6423733853240876,0.6348244311922169,0.6842094329850561,0.8223968194259652,0.5750893464640645,0.6088305418665887,0.645337904876566,0.7641011066406542,0.7588536509336988,0.5993928825377625,0.6312135493598482,0.7673083076735103],\"xaxis\":\"x\",\"y\":[0.2449022903275114,-0.17100111647691765,0.23791268404088342,0.34373794697455384,-0.2366984415536529,0.32794893769426114,0.2570236891903421,0.29007649711654554,-0.02672281986897072,0.15109790302421616,0.17275965568130447,-0.030592084282814926,0.07895595812610094,0.031871493954099515,0.021921945105278878,0.009273944183281625,0.1732434089432517,0.10894494199349883,-0.12386398749332618,0.380446954470375,-0.14679244300839614,0.05535822856284428,0.12373357184901289,-0.1407465689631535,-0.013313570841353818,0.19594009344714025,-0.133592848661488,0.016972171032842254,0.29704729120017437,0.0152469707808744,-0.04081605379702993,0.11366236740805373,0.3746182717261079,-0.05862061091854161,0.014243551915031976,-0.13239092483980422,-0.10101049582246811,0.06079604037581978,0.11599528182887267,0.24769431763675595,0.2842339970082779,0.32944855936987716,0.25082932268124447,0.11377387600490313,-0.09563951239262869,0.3060628161128091,0.26830772859235863,0.22508421153410882,0.20862010792742408,0.24247237548370723,0.10714203331129561,0.37109714510384373,0.17962528345271842,0.1431896043630459,0.20975763788882398,0.037425880270025615,0.16521994359760564,0.24293973725463605,0.36791534841136875,0.03750153687333424,0.07142112926024914,0.006907768038080625,0.35532590734384,0.3246003067392978,0.1550881215917999,0.32159851129332606,0.22551146108767384,0.13750967856185278,0.02662330175788594,0.11857916206135916,0.22351992523343542,-0.0682897152951547,-0.04889507834452473,0.1060746942663441,0.4581382912407029,0.29573389639702,0.33574044742764914],\"yaxis\":\"y\"},{\"customdata\":[[0.354,\"Golden State Warriors 2008-09\"],[0.39,\"New York Knicks 2008-09\"],[0.317,\"Golden State Warriors 2009-10\"],[0.39,\"Indiana Pacers 2009-10\"],[0.354,\"New York Knicks 2009-10\"],[0.348,\"Golden State Warriors 2011-12\"],[0.329,\"Los Angeles Lakers 2013-14\"],[0.256,\"Brooklyn Nets 2015-16\"],[0.402,\"Denver Nuggets 2015-16\"],[0.354,\"Minnesota Timberwolves 2015-16\"],[0.366,\"New Orleans Pelicans 2015-16\"],[0.402,\"Sacramento Kings 2015-16\"],[0.244,\"Brooklyn Nets 2016-17\"],[0.402,\"Dallas Mavericks 2016-17\"],[0.317,\"Los Angeles Lakers 2016-17\"],[0.415,\"New Orleans Pelicans 2016-17\"],[0.378,\"New York Knicks 2016-17\"],[0.354,\"Orlando Magic 2016-17\"],[0.341,\"Philadelphia 76ers 2016-17\"],[0.293,\"Phoenix Suns 2016-17\"],[0.39,\"Sacramento Kings 2016-17\"],[0.293,\"Atlanta Hawks 2017-18\"],[0.341,\"Brooklyn Nets 2017-18\"],[0.329,\"Chicago Bulls 2017-18\"],[0.293,\"Dallas Mavericks 2017-18\"],[0.427,\"Los Angeles Lakers 2017-18\"],[0.268,\"Memphis Grizzlies 2017-18\"],[0.354,\"New York Knicks 2017-18\"],[0.305,\"Orlando Magic 2017-18\"],[0.256,\"Phoenix Suns 2017-18\"],[0.329,\"Sacramento Kings 2017-18\"],[0.354,\"Atlanta Hawks 2018-19\"],[0.476,\"Charlotte Hornets 2018-19\"],[0.268,\"Chicago Bulls 2018-19\"],[0.232,\"Cleveland Cavaliers 2018-19\"],[0.402,\"Dallas Mavericks 2018-19\"],[0.402,\"Memphis Grizzlies 2018-19\"],[0.439,\"Minnesota Timberwolves 2018-19\"],[0.207,\"New York Knicks 2018-19\"],[0.232,\"Phoenix Suns 2018-19\"],[0.39,\"Washington Wizards 2018-19\"],[0.299,\"Atlanta Hawks 2019-20\"],[0.354,\"Charlotte Hornets 2019-20\"],[0.338,\"Chicago Bulls 2019-20\"],[0.292,\"Cleveland Cavaliers 2019-20\"],[0.303,\"Detroit Pistons 2019-20\"],[0.231,\"Golden State Warriors 2019-20\"],[0.297,\"Minnesota Timberwolves 2019-20\"],[0.318,\"New York Knicks 2019-20\"],[0.431,\"Sacramento Kings 2019-20\"],[0.347,\"Washington Wizards 2019-20\"]],\"hovertemplate\":\"Clusters=7<br>PC1=%{x}<br>PC2=%{y}<br>WIN%=%{customdata[0]}<br>TEAM=%{customdata[1]}<extra></extra>\",\"legendgroup\":\"7\",\"marker\":{\"color\":\"#B6E880\",\"symbol\":\"circle\"},\"mode\":\"markers\",\"name\":\"7\",\"orientation\":\"v\",\"showlegend\":true,\"type\":\"scatter\",\"x\":[0.1261768452783743,0.2548725070849257,0.3573793413889833,0.010489490023800098,0.2080762932284349,-0.026093980559739365,0.31663123619628936,-0.04307691238110615,0.1020169910037439,0.10617773138815723,0.37136039069038584,0.43350544768640836,0.2802472299247376,0.42176332315028237,0.11105978989143227,0.6398438763846747,0.2624677982453156,0.19540339828816006,0.17365088963818057,0.07381111854303282,0.3533257787067141,0.40420686563523534,0.5884555252124269,0.46100516748000353,0.6696400441039906,0.5884287318241319,0.007543653645082667,0.43838931468042963,0.4455462503866773,0.06596675624205144,0.16157429981340962,0.7534753708300295,0.898596892198585,0.3604053442019111,0.2331536284001979,0.7789909703670822,0.5052082360322332,0.8473036464709193,0.12941715918888771,0.3526557997510416,1.032325077543249,0.5094275039763431,0.2666273071462383,0.41757380853043474,0.36857368375736543,0.5230718105184593,0.4127329638188821,0.7092265873831081,0.24874175274947946,0.8649448171062942,0.8746427021277348],\"xaxis\":\"x\",\"y\":[0.48331333629859746,0.6033879560143587,0.5882998041824337,0.4731956711302634,0.5201091515051162,0.29954992090526106,0.5932879357944625,0.629567622589864,0.42586823764378684,0.23750019918687992,0.5389344268049094,0.36323097756839867,0.9124652761519143,0.4738262947867127,0.8252038062703229,0.40350605250547616,0.4671360291043837,0.6819343882325066,0.6122912475061779,0.800946261418331,0.42738246591180196,0.7058667281386412,0.6728361790672542,0.8050223345418557,0.6290459691363006,0.4658317296578496,0.6735669471614714,0.4580240099191386,0.6244274252230508,1.0388460359748013,0.7147521923894896,0.8413262706981696,0.512416557856878,0.9322320400209846,1.0872565297881343,0.5194683797725045,0.3779884833621309,0.42876067016755665,1.0910677553355546,0.9309409711264199,0.5398170464412225,0.9863792043728211,0.6985816872300762,0.6808187738273268,0.9084806806496841,0.5606195497472899,0.7837268541331098,0.8103151686361333,0.7301699584834812,0.5221275794360707,0.7193961845040391],\"yaxis\":\"y\"}],                        {\"legend\":{\"title\":{\"text\":\"Clusters\"},\"tracegroupgap\":0},\"margin\":{\"t\":60},\"template\":{\"data\":{\"bar\":[{\"error_x\":{\"color\":\"#2a3f5f\"},\"error_y\":{\"color\":\"#2a3f5f\"},\"marker\":{\"line\":{\"color\":\"#E5ECF6\",\"width\":0.5},\"pattern\":{\"fillmode\":\"overlay\",\"size\":10,\"solidity\":0.2}},\"type\":\"bar\"}],\"barpolar\":[{\"marker\":{\"line\":{\"color\":\"#E5ECF6\",\"width\":0.5},\"pattern\":{\"fillmode\":\"overlay\",\"size\":10,\"solidity\":0.2}},\"type\":\"barpolar\"}],\"carpet\":[{\"aaxis\":{\"endlinecolor\":\"#2a3f5f\",\"gridcolor\":\"white\",\"linecolor\":\"white\",\"minorgridcolor\":\"white\",\"startlinecolor\":\"#2a3f5f\"},\"baxis\":{\"endlinecolor\":\"#2a3f5f\",\"gridcolor\":\"white\",\"linecolor\":\"white\",\"minorgridcolor\":\"white\",\"startlinecolor\":\"#2a3f5f\"},\"type\":\"carpet\"}],\"choropleth\":[{\"colorbar\":{\"outlinewidth\":0,\"ticks\":\"\"},\"type\":\"choropleth\"}],\"contour\":[{\"colorbar\":{\"outlinewidth\":0,\"ticks\":\"\"},\"colorscale\":[[0.0,\"#0d0887\"],[0.1111111111111111,\"#46039f\"],[0.2222222222222222,\"#7201a8\"],[0.3333333333333333,\"#9c179e\"],[0.4444444444444444,\"#bd3786\"],[0.5555555555555556,\"#d8576b\"],[0.6666666666666666,\"#ed7953\"],[0.7777777777777778,\"#fb9f3a\"],[0.8888888888888888,\"#fdca26\"],[1.0,\"#f0f921\"]],\"type\":\"contour\"}],\"contourcarpet\":[{\"colorbar\":{\"outlinewidth\":0,\"ticks\":\"\"},\"type\":\"contourcarpet\"}],\"heatmap\":[{\"colorbar\":{\"outlinewidth\":0,\"ticks\":\"\"},\"colorscale\":[[0.0,\"#0d0887\"],[0.1111111111111111,\"#46039f\"],[0.2222222222222222,\"#7201a8\"],[0.3333333333333333,\"#9c179e\"],[0.4444444444444444,\"#bd3786\"],[0.5555555555555556,\"#d8576b\"],[0.6666666666666666,\"#ed7953\"],[0.7777777777777778,\"#fb9f3a\"],[0.8888888888888888,\"#fdca26\"],[1.0,\"#f0f921\"]],\"type\":\"heatmap\"}],\"heatmapgl\":[{\"colorbar\":{\"outlinewidth\":0,\"ticks\":\"\"},\"colorscale\":[[0.0,\"#0d0887\"],[0.1111111111111111,\"#46039f\"],[0.2222222222222222,\"#7201a8\"],[0.3333333333333333,\"#9c179e\"],[0.4444444444444444,\"#bd3786\"],[0.5555555555555556,\"#d8576b\"],[0.6666666666666666,\"#ed7953\"],[0.7777777777777778,\"#fb9f3a\"],[0.8888888888888888,\"#fdca26\"],[1.0,\"#f0f921\"]],\"type\":\"heatmapgl\"}],\"histogram\":[{\"marker\":{\"pattern\":{\"fillmode\":\"overlay\",\"size\":10,\"solidity\":0.2}},\"type\":\"histogram\"}],\"histogram2d\":[{\"colorbar\":{\"outlinewidth\":0,\"ticks\":\"\"},\"colorscale\":[[0.0,\"#0d0887\"],[0.1111111111111111,\"#46039f\"],[0.2222222222222222,\"#7201a8\"],[0.3333333333333333,\"#9c179e\"],[0.4444444444444444,\"#bd3786\"],[0.5555555555555556,\"#d8576b\"],[0.6666666666666666,\"#ed7953\"],[0.7777777777777778,\"#fb9f3a\"],[0.8888888888888888,\"#fdca26\"],[1.0,\"#f0f921\"]],\"type\":\"histogram2d\"}],\"histogram2dcontour\":[{\"colorbar\":{\"outlinewidth\":0,\"ticks\":\"\"},\"colorscale\":[[0.0,\"#0d0887\"],[0.1111111111111111,\"#46039f\"],[0.2222222222222222,\"#7201a8\"],[0.3333333333333333,\"#9c179e\"],[0.4444444444444444,\"#bd3786\"],[0.5555555555555556,\"#d8576b\"],[0.6666666666666666,\"#ed7953\"],[0.7777777777777778,\"#fb9f3a\"],[0.8888888888888888,\"#fdca26\"],[1.0,\"#f0f921\"]],\"type\":\"histogram2dcontour\"}],\"mesh3d\":[{\"colorbar\":{\"outlinewidth\":0,\"ticks\":\"\"},\"type\":\"mesh3d\"}],\"parcoords\":[{\"line\":{\"colorbar\":{\"outlinewidth\":0,\"ticks\":\"\"}},\"type\":\"parcoords\"}],\"pie\":[{\"automargin\":true,\"type\":\"pie\"}],\"scatter\":[{\"marker\":{\"colorbar\":{\"outlinewidth\":0,\"ticks\":\"\"}},\"type\":\"scatter\"}],\"scatter3d\":[{\"line\":{\"colorbar\":{\"outlinewidth\":0,\"ticks\":\"\"}},\"marker\":{\"colorbar\":{\"outlinewidth\":0,\"ticks\":\"\"}},\"type\":\"scatter3d\"}],\"scattercarpet\":[{\"marker\":{\"colorbar\":{\"outlinewidth\":0,\"ticks\":\"\"}},\"type\":\"scattercarpet\"}],\"scattergeo\":[{\"marker\":{\"colorbar\":{\"outlinewidth\":0,\"ticks\":\"\"}},\"type\":\"scattergeo\"}],\"scattergl\":[{\"marker\":{\"colorbar\":{\"outlinewidth\":0,\"ticks\":\"\"}},\"type\":\"scattergl\"}],\"scattermapbox\":[{\"marker\":{\"colorbar\":{\"outlinewidth\":0,\"ticks\":\"\"}},\"type\":\"scattermapbox\"}],\"scatterpolar\":[{\"marker\":{\"colorbar\":{\"outlinewidth\":0,\"ticks\":\"\"}},\"type\":\"scatterpolar\"}],\"scatterpolargl\":[{\"marker\":{\"colorbar\":{\"outlinewidth\":0,\"ticks\":\"\"}},\"type\":\"scatterpolargl\"}],\"scatterternary\":[{\"marker\":{\"colorbar\":{\"outlinewidth\":0,\"ticks\":\"\"}},\"type\":\"scatterternary\"}],\"surface\":[{\"colorbar\":{\"outlinewidth\":0,\"ticks\":\"\"},\"colorscale\":[[0.0,\"#0d0887\"],[0.1111111111111111,\"#46039f\"],[0.2222222222222222,\"#7201a8\"],[0.3333333333333333,\"#9c179e\"],[0.4444444444444444,\"#bd3786\"],[0.5555555555555556,\"#d8576b\"],[0.6666666666666666,\"#ed7953\"],[0.7777777777777778,\"#fb9f3a\"],[0.8888888888888888,\"#fdca26\"],[1.0,\"#f0f921\"]],\"type\":\"surface\"}],\"table\":[{\"cells\":{\"fill\":{\"color\":\"#EBF0F8\"},\"line\":{\"color\":\"white\"}},\"header\":{\"fill\":{\"color\":\"#C8D4E3\"},\"line\":{\"color\":\"white\"}},\"type\":\"table\"}]},\"layout\":{\"annotationdefaults\":{\"arrowcolor\":\"#2a3f5f\",\"arrowhead\":0,\"arrowwidth\":1},\"autotypenumbers\":\"strict\",\"coloraxis\":{\"colorbar\":{\"outlinewidth\":0,\"ticks\":\"\"}},\"colorscale\":{\"diverging\":[[0,\"#8e0152\"],[0.1,\"#c51b7d\"],[0.2,\"#de77ae\"],[0.3,\"#f1b6da\"],[0.4,\"#fde0ef\"],[0.5,\"#f7f7f7\"],[0.6,\"#e6f5d0\"],[0.7,\"#b8e186\"],[0.8,\"#7fbc41\"],[0.9,\"#4d9221\"],[1,\"#276419\"]],\"sequential\":[[0.0,\"#0d0887\"],[0.1111111111111111,\"#46039f\"],[0.2222222222222222,\"#7201a8\"],[0.3333333333333333,\"#9c179e\"],[0.4444444444444444,\"#bd3786\"],[0.5555555555555556,\"#d8576b\"],[0.6666666666666666,\"#ed7953\"],[0.7777777777777778,\"#fb9f3a\"],[0.8888888888888888,\"#fdca26\"],[1.0,\"#f0f921\"]],\"sequentialminus\":[[0.0,\"#0d0887\"],[0.1111111111111111,\"#46039f\"],[0.2222222222222222,\"#7201a8\"],[0.3333333333333333,\"#9c179e\"],[0.4444444444444444,\"#bd3786\"],[0.5555555555555556,\"#d8576b\"],[0.6666666666666666,\"#ed7953\"],[0.7777777777777778,\"#fb9f3a\"],[0.8888888888888888,\"#fdca26\"],[1.0,\"#f0f921\"]]},\"colorway\":[\"#636efa\",\"#EF553B\",\"#00cc96\",\"#ab63fa\",\"#FFA15A\",\"#19d3f3\",\"#FF6692\",\"#B6E880\",\"#FF97FF\",\"#FECB52\"],\"font\":{\"color\":\"#2a3f5f\"},\"geo\":{\"bgcolor\":\"white\",\"lakecolor\":\"white\",\"landcolor\":\"#E5ECF6\",\"showlakes\":true,\"showland\":true,\"subunitcolor\":\"white\"},\"hoverlabel\":{\"align\":\"left\"},\"hovermode\":\"closest\",\"mapbox\":{\"style\":\"light\"},\"paper_bgcolor\":\"white\",\"plot_bgcolor\":\"#E5ECF6\",\"polar\":{\"angularaxis\":{\"gridcolor\":\"white\",\"linecolor\":\"white\",\"ticks\":\"\"},\"bgcolor\":\"#E5ECF6\",\"radialaxis\":{\"gridcolor\":\"white\",\"linecolor\":\"white\",\"ticks\":\"\"}},\"scene\":{\"xaxis\":{\"backgroundcolor\":\"#E5ECF6\",\"gridcolor\":\"white\",\"gridwidth\":2,\"linecolor\":\"white\",\"showbackground\":true,\"ticks\":\"\",\"zerolinecolor\":\"white\"},\"yaxis\":{\"backgroundcolor\":\"#E5ECF6\",\"gridcolor\":\"white\",\"gridwidth\":2,\"linecolor\":\"white\",\"showbackground\":true,\"ticks\":\"\",\"zerolinecolor\":\"white\"},\"zaxis\":{\"backgroundcolor\":\"#E5ECF6\",\"gridcolor\":\"white\",\"gridwidth\":2,\"linecolor\":\"white\",\"showbackground\":true,\"ticks\":\"\",\"zerolinecolor\":\"white\"}},\"shapedefaults\":{\"line\":{\"color\":\"#2a3f5f\"}},\"ternary\":{\"aaxis\":{\"gridcolor\":\"white\",\"linecolor\":\"white\",\"ticks\":\"\"},\"baxis\":{\"gridcolor\":\"white\",\"linecolor\":\"white\",\"ticks\":\"\"},\"bgcolor\":\"#E5ECF6\",\"caxis\":{\"gridcolor\":\"white\",\"linecolor\":\"white\",\"ticks\":\"\"}},\"title\":{\"x\":0.05},\"xaxis\":{\"automargin\":true,\"gridcolor\":\"white\",\"linecolor\":\"white\",\"ticks\":\"\",\"title\":{\"standoff\":15},\"zerolinecolor\":\"white\",\"zerolinewidth\":2},\"yaxis\":{\"automargin\":true,\"gridcolor\":\"white\",\"linecolor\":\"white\",\"ticks\":\"\",\"title\":{\"standoff\":15},\"zerolinecolor\":\"white\",\"zerolinewidth\":2}}},\"xaxis\":{\"anchor\":\"y\",\"domain\":[0.0,1.0],\"title\":{\"text\":\"PC1\"}},\"yaxis\":{\"anchor\":\"x\",\"domain\":[0.0,1.0],\"title\":{\"text\":\"PC2\"}}},                        {\"responsive\": true}                    ).then(function(){\n",
       "                            \n",
       "var gd = document.getElementById('1553da69-5521-45c1-8532-6da98b6bf0e8');\n",
       "var x = new MutationObserver(function (mutations, observer) {{\n",
       "        var display = window.getComputedStyle(gd).display;\n",
       "        if (!display || display === 'none') {{\n",
       "            console.log([gd, 'removed!']);\n",
       "            Plotly.purge(gd);\n",
       "            observer.disconnect();\n",
       "        }}\n",
       "}});\n",
       "\n",
       "// Listen for the removal of the full notebook cells\n",
       "var notebookContainer = gd.closest('#notebook-container');\n",
       "if (notebookContainer) {{\n",
       "    x.observe(notebookContainer, {childList: true});\n",
       "}}\n",
       "\n",
       "// Listen for the clearing of the current output cell\n",
       "var outputEl = gd.closest('.output');\n",
       "if (outputEl) {{\n",
       "    x.observe(outputEl, {childList: true});\n",
       "}}\n",
       "\n",
       "                        })                };                });            </script>        </div>"
      ]
     },
     "metadata": {},
     "output_type": "display_data"
    }
   ],
   "source": [
    "df,knn=visualize_KMeans_clustering(normalized_team_stats,teams,team_stats,8,2,output=True)"
   ]
  },
  {
   "cell_type": "code",
   "execution_count": 183,
   "metadata": {},
   "outputs": [
    {
     "data": {
      "application/vnd.plotly.v1+json": {
       "config": {
        "plotlyServerURL": "https://plot.ly"
       },
       "data": [
        {
         "customdata": [
          [
           0.341,
           "Atlanta Hawks 1999-00"
          ],
          [
           0.427,
           "Boston Celtics 1999-00"
          ],
          [
           0.598,
           "Charlotte Hornets 1999-00"
          ],
          [
           0.207,
           "Chicago Bulls 1999-00"
          ],
          [
           0.39,
           "Cleveland Cavaliers 1999-00"
          ],
          [
           0.488,
           "Dallas Mavericks 1999-00"
          ],
          [
           0.427,
           "Denver Nuggets 1999-00"
          ],
          [
           0.512,
           "Detroit Pistons 1999-00"
          ],
          [
           0.232,
           "Golden State Warriors 1999-00"
          ],
          [
           0.415,
           "Houston Rockets 1999-00"
          ],
          [
           0.683,
           "Indiana Pacers 1999-00"
          ],
          [
           0.183,
           "Los Angeles Clippers 1999-00"
          ],
          [
           0.817,
           "Los Angeles Lakers 1999-00"
          ],
          [
           0.634,
           "Miami Heat 1999-00"
          ],
          [
           0.512,
           "Milwaukee Bucks 1999-00"
          ],
          [
           0.61,
           "Minnesota Timberwolves 1999-00"
          ],
          [
           0.378,
           "New Jersey Nets 1999-00"
          ],
          [
           0.61,
           "New York Knicks 1999-00"
          ],
          [
           0.5,
           "Orlando Magic 1999-00"
          ],
          [
           0.598,
           "Philadelphia 76ers 1999-00"
          ],
          [
           0.646,
           "Phoenix Suns 1999-00"
          ],
          [
           0.72,
           "Portland Trail Blazers 1999-00"
          ],
          [
           0.537,
           "Sacramento Kings 1999-00"
          ],
          [
           0.646,
           "San Antonio Spurs 1999-00"
          ],
          [
           0.549,
           "Seattle SuperSonics 1999-00"
          ],
          [
           0.549,
           "Toronto Raptors 1999-00"
          ],
          [
           0.671,
           "Utah Jazz 1999-00"
          ],
          [
           0.268,
           "Vancouver Grizzlies 1999-00"
          ],
          [
           0.354,
           "Washington Wizards 1999-00"
          ],
          [
           0.305,
           "Atlanta Hawks 2000-01"
          ],
          [
           0.439,
           "Boston Celtics 2000-01"
          ],
          [
           0.561,
           "Charlotte Hornets 2000-01"
          ],
          [
           0.183,
           "Chicago Bulls 2000-01"
          ],
          [
           0.366,
           "Cleveland Cavaliers 2000-01"
          ],
          [
           0.646,
           "Dallas Mavericks 2000-01"
          ],
          [
           0.488,
           "Denver Nuggets 2000-01"
          ],
          [
           0.39,
           "Detroit Pistons 2000-01"
          ],
          [
           0.207,
           "Golden State Warriors 2000-01"
          ],
          [
           0.549,
           "Houston Rockets 2000-01"
          ],
          [
           0.5,
           "Indiana Pacers 2000-01"
          ],
          [
           0.378,
           "Los Angeles Clippers 2000-01"
          ],
          [
           0.683,
           "Los Angeles Lakers 2000-01"
          ],
          [
           0.61,
           "Miami Heat 2000-01"
          ],
          [
           0.634,
           "Milwaukee Bucks 2000-01"
          ],
          [
           0.573,
           "Minnesota Timberwolves 2000-01"
          ],
          [
           0.317,
           "New Jersey Nets 2000-01"
          ],
          [
           0.585,
           "New York Knicks 2000-01"
          ],
          [
           0.524,
           "Orlando Magic 2000-01"
          ],
          [
           0.683,
           "Philadelphia 76ers 2000-01"
          ],
          [
           0.622,
           "Phoenix Suns 2000-01"
          ],
          [
           0.61,
           "Portland Trail Blazers 2000-01"
          ],
          [
           0.671,
           "Sacramento Kings 2000-01"
          ],
          [
           0.707,
           "San Antonio Spurs 2000-01"
          ],
          [
           0.537,
           "Seattle SuperSonics 2000-01"
          ],
          [
           0.573,
           "Toronto Raptors 2000-01"
          ],
          [
           0.646,
           "Utah Jazz 2000-01"
          ],
          [
           0.28,
           "Vancouver Grizzlies 2000-01"
          ],
          [
           0.232,
           "Washington Wizards 2000-01"
          ],
          [
           0.402,
           "Atlanta Hawks 2001-02"
          ],
          [
           0.598,
           "Boston Celtics 2001-02"
          ],
          [
           0.537,
           "Charlotte Hornets 2001-02"
          ],
          [
           0.256,
           "Chicago Bulls 2001-02"
          ],
          [
           0.354,
           "Cleveland Cavaliers 2001-02"
          ],
          [
           0.695,
           "Dallas Mavericks 2001-02"
          ],
          [
           0.329,
           "Denver Nuggets 2001-02"
          ],
          [
           0.61,
           "Detroit Pistons 2001-02"
          ],
          [
           0.256,
           "Golden State Warriors 2001-02"
          ],
          [
           0.341,
           "Houston Rockets 2001-02"
          ],
          [
           0.512,
           "Indiana Pacers 2001-02"
          ],
          [
           0.476,
           "Los Angeles Clippers 2001-02"
          ],
          [
           0.707,
           "Los Angeles Lakers 2001-02"
          ],
          [
           0.28,
           "Memphis Grizzlies 2001-02"
          ],
          [
           0.439,
           "Miami Heat 2001-02"
          ],
          [
           0.5,
           "Milwaukee Bucks 2001-02"
          ],
          [
           0.61,
           "Minnesota Timberwolves 2001-02"
          ],
          [
           0.634,
           "New Jersey Nets 2001-02"
          ],
          [
           0.366,
           "New York Knicks 2001-02"
          ],
          [
           0.537,
           "Orlando Magic 2001-02"
          ],
          [
           0.524,
           "Philadelphia 76ers 2001-02"
          ],
          [
           0.439,
           "Phoenix Suns 2001-02"
          ],
          [
           0.598,
           "Portland Trail Blazers 2001-02"
          ],
          [
           0.744,
           "Sacramento Kings 2001-02"
          ],
          [
           0.707,
           "San Antonio Spurs 2001-02"
          ],
          [
           0.549,
           "Seattle SuperSonics 2001-02"
          ],
          [
           0.512,
           "Toronto Raptors 2001-02"
          ],
          [
           0.537,
           "Utah Jazz 2001-02"
          ],
          [
           0.451,
           "Washington Wizards 2001-02"
          ],
          [
           0.427,
           "Atlanta Hawks 2002-03"
          ],
          [
           0.537,
           "Boston Celtics 2002-03"
          ],
          [
           0.366,
           "Chicago Bulls 2002-03"
          ],
          [
           0.207,
           "Cleveland Cavaliers 2002-03"
          ],
          [
           0.732,
           "Dallas Mavericks 2002-03"
          ],
          [
           0.207,
           "Denver Nuggets 2002-03"
          ],
          [
           0.61,
           "Detroit Pistons 2002-03"
          ],
          [
           0.463,
           "Golden State Warriors 2002-03"
          ],
          [
           0.524,
           "Houston Rockets 2002-03"
          ],
          [
           0.585,
           "Indiana Pacers 2002-03"
          ],
          [
           0.329,
           "Los Angeles Clippers 2002-03"
          ],
          [
           0.61,
           "Los Angeles Lakers 2002-03"
          ],
          [
           0.341,
           "Memphis Grizzlies 2002-03"
          ],
          [
           0.305,
           "Miami Heat 2002-03"
          ],
          [
           0.512,
           "Milwaukee Bucks 2002-03"
          ],
          [
           0.622,
           "Minnesota Timberwolves 2002-03"
          ],
          [
           0.598,
           "New Jersey Nets 2002-03"
          ],
          [
           0.573,
           "New Orleans Hornets 2002-03"
          ],
          [
           0.451,
           "New York Knicks 2002-03"
          ],
          [
           0.512,
           "Orlando Magic 2002-03"
          ],
          [
           0.585,
           "Philadelphia 76ers 2002-03"
          ],
          [
           0.537,
           "Phoenix Suns 2002-03"
          ],
          [
           0.61,
           "Portland Trail Blazers 2002-03"
          ],
          [
           0.72,
           "Sacramento Kings 2002-03"
          ],
          [
           0.732,
           "San Antonio Spurs 2002-03"
          ],
          [
           0.488,
           "Seattle SuperSonics 2002-03"
          ],
          [
           0.293,
           "Toronto Raptors 2002-03"
          ],
          [
           0.573,
           "Utah Jazz 2002-03"
          ],
          [
           0.451,
           "Washington Wizards 2002-03"
          ],
          [
           0.341,
           "Atlanta Hawks 2003-04"
          ],
          [
           0.439,
           "Boston Celtics 2003-04"
          ],
          [
           0.28,
           "Chicago Bulls 2003-04"
          ],
          [
           0.427,
           "Cleveland Cavaliers 2003-04"
          ],
          [
           0.634,
           "Dallas Mavericks 2003-04"
          ],
          [
           0.524,
           "Denver Nuggets 2003-04"
          ],
          [
           0.659,
           "Detroit Pistons 2003-04"
          ],
          [
           0.451,
           "Golden State Warriors 2003-04"
          ],
          [
           0.549,
           "Houston Rockets 2003-04"
          ],
          [
           0.744,
           "Indiana Pacers 2003-04"
          ],
          [
           0.341,
           "Los Angeles Clippers 2003-04"
          ],
          [
           0.683,
           "Los Angeles Lakers 2003-04"
          ],
          [
           0.61,
           "Memphis Grizzlies 2003-04"
          ],
          [
           0.512,
           "Miami Heat 2003-04"
          ],
          [
           0.5,
           "Milwaukee Bucks 2003-04"
          ],
          [
           0.707,
           "Minnesota Timberwolves 2003-04"
          ],
          [
           0.573,
           "New Jersey Nets 2003-04"
          ],
          [
           0.5,
           "New Orleans Hornets 2003-04"
          ],
          [
           0.476,
           "New York Knicks 2003-04"
          ],
          [
           0.256,
           "Orlando Magic 2003-04"
          ],
          [
           0.402,
           "Philadelphia 76ers 2003-04"
          ],
          [
           0.354,
           "Phoenix Suns 2003-04"
          ],
          [
           0.5,
           "Portland Trail Blazers 2003-04"
          ],
          [
           0.671,
           "Sacramento Kings 2003-04"
          ],
          [
           0.695,
           "San Antonio Spurs 2003-04"
          ],
          [
           0.451,
           "Seattle SuperSonics 2003-04"
          ],
          [
           0.402,
           "Toronto Raptors 2003-04"
          ],
          [
           0.512,
           "Utah Jazz 2003-04"
          ],
          [
           0.305,
           "Washington Wizards 2003-04"
          ],
          [
           0.159,
           "Atlanta Hawks 2004-05"
          ],
          [
           0.549,
           "Boston Celtics 2004-05"
          ],
          [
           0.22,
           "Charlotte Bobcats 2004-05"
          ],
          [
           0.573,
           "Chicago Bulls 2004-05"
          ],
          [
           0.512,
           "Cleveland Cavaliers 2004-05"
          ],
          [
           0.707,
           "Dallas Mavericks 2004-05"
          ],
          [
           0.598,
           "Denver Nuggets 2004-05"
          ],
          [
           0.659,
           "Detroit Pistons 2004-05"
          ],
          [
           0.415,
           "Golden State Warriors 2004-05"
          ],
          [
           0.622,
           "Houston Rockets 2004-05"
          ],
          [
           0.537,
           "Indiana Pacers 2004-05"
          ],
          [
           0.451,
           "Los Angeles Clippers 2004-05"
          ],
          [
           0.415,
           "Los Angeles Lakers 2004-05"
          ],
          [
           0.549,
           "Memphis Grizzlies 2004-05"
          ],
          [
           0.72,
           "Miami Heat 2004-05"
          ],
          [
           0.366,
           "Milwaukee Bucks 2004-05"
          ],
          [
           0.537,
           "Minnesota Timberwolves 2004-05"
          ],
          [
           0.512,
           "New Jersey Nets 2004-05"
          ],
          [
           0.22,
           "New Orleans Hornets 2004-05"
          ],
          [
           0.402,
           "New York Knicks 2004-05"
          ],
          [
           0.439,
           "Orlando Magic 2004-05"
          ],
          [
           0.524,
           "Philadelphia 76ers 2004-05"
          ],
          [
           0.756,
           "Phoenix Suns 2004-05"
          ],
          [
           0.329,
           "Portland Trail Blazers 2004-05"
          ],
          [
           0.61,
           "Sacramento Kings 2004-05"
          ],
          [
           0.72,
           "San Antonio Spurs 2004-05"
          ],
          [
           0.634,
           "Seattle SuperSonics 2004-05"
          ],
          [
           0.402,
           "Toronto Raptors 2004-05"
          ],
          [
           0.317,
           "Utah Jazz 2004-05"
          ],
          [
           0.549,
           "Washington Wizards 2004-05"
          ],
          [
           0.317,
           "Atlanta Hawks 2005-06"
          ],
          [
           0.402,
           "Boston Celtics 2005-06"
          ],
          [
           0.317,
           "Charlotte Bobcats 2005-06"
          ],
          [
           0.5,
           "Chicago Bulls 2005-06"
          ],
          [
           0.61,
           "Cleveland Cavaliers 2005-06"
          ],
          [
           0.732,
           "Dallas Mavericks 2005-06"
          ],
          [
           0.537,
           "Denver Nuggets 2005-06"
          ],
          [
           0.78,
           "Detroit Pistons 2005-06"
          ],
          [
           0.415,
           "Golden State Warriors 2005-06"
          ],
          [
           0.415,
           "Houston Rockets 2005-06"
          ],
          [
           0.5,
           "Indiana Pacers 2005-06"
          ],
          [
           0.573,
           "Los Angeles Clippers 2005-06"
          ],
          [
           0.549,
           "Los Angeles Lakers 2005-06"
          ],
          [
           0.598,
           "Memphis Grizzlies 2005-06"
          ],
          [
           0.634,
           "Miami Heat 2005-06"
          ],
          [
           0.488,
           "Milwaukee Bucks 2005-06"
          ],
          [
           0.402,
           "Minnesota Timberwolves 2005-06"
          ],
          [
           0.598,
           "New Jersey Nets 2005-06"
          ],
          [
           0.463,
           "New Orleans/Oklahoma City Hornets 2005-06"
          ],
          [
           0.28,
           "New York Knicks 2005-06"
          ],
          [
           0.439,
           "Orlando Magic 2005-06"
          ],
          [
           0.463,
           "Philadelphia 76ers 2005-06"
          ],
          [
           0.659,
           "Phoenix Suns 2005-06"
          ],
          [
           0.256,
           "Portland Trail Blazers 2005-06"
          ],
          [
           0.537,
           "Sacramento Kings 2005-06"
          ],
          [
           0.768,
           "San Antonio Spurs 2005-06"
          ],
          [
           0.427,
           "Seattle SuperSonics 2005-06"
          ],
          [
           0.329,
           "Toronto Raptors 2005-06"
          ],
          [
           0.5,
           "Utah Jazz 2005-06"
          ],
          [
           0.512,
           "Washington Wizards 2005-06"
          ],
          [
           0.366,
           "Atlanta Hawks 2006-07"
          ],
          [
           0.293,
           "Boston Celtics 2006-07"
          ],
          [
           0.402,
           "Charlotte Bobcats 2006-07"
          ],
          [
           0.598,
           "Chicago Bulls 2006-07"
          ],
          [
           0.61,
           "Cleveland Cavaliers 2006-07"
          ],
          [
           0.817,
           "Dallas Mavericks 2006-07"
          ],
          [
           0.549,
           "Denver Nuggets 2006-07"
          ],
          [
           0.646,
           "Detroit Pistons 2006-07"
          ],
          [
           0.512,
           "Golden State Warriors 2006-07"
          ],
          [
           0.634,
           "Houston Rockets 2006-07"
          ],
          [
           0.427,
           "Indiana Pacers 2006-07"
          ],
          [
           0.488,
           "Los Angeles Clippers 2006-07"
          ],
          [
           0.512,
           "Los Angeles Lakers 2006-07"
          ],
          [
           0.268,
           "Memphis Grizzlies 2006-07"
          ],
          [
           0.537,
           "Miami Heat 2006-07"
          ],
          [
           0.341,
           "Milwaukee Bucks 2006-07"
          ],
          [
           0.39,
           "Minnesota Timberwolves 2006-07"
          ],
          [
           0.5,
           "New Jersey Nets 2006-07"
          ],
          [
           0.476,
           "New Orleans/Oklahoma City Hornets 2006-07"
          ],
          [
           0.402,
           "New York Knicks 2006-07"
          ],
          [
           0.488,
           "Orlando Magic 2006-07"
          ],
          [
           0.427,
           "Philadelphia 76ers 2006-07"
          ],
          [
           0.744,
           "Phoenix Suns 2006-07"
          ],
          [
           0.39,
           "Portland Trail Blazers 2006-07"
          ],
          [
           0.402,
           "Sacramento Kings 2006-07"
          ],
          [
           0.707,
           "San Antonio Spurs 2006-07"
          ],
          [
           0.378,
           "Seattle SuperSonics 2006-07"
          ],
          [
           0.573,
           "Toronto Raptors 2006-07"
          ],
          [
           0.622,
           "Utah Jazz 2006-07"
          ],
          [
           0.5,
           "Washington Wizards 2006-07"
          ],
          [
           0.451,
           "Atlanta Hawks 2007-08"
          ],
          [
           0.805,
           "Boston Celtics 2007-08"
          ],
          [
           0.39,
           "Charlotte Bobcats 2007-08"
          ],
          [
           0.402,
           "Chicago Bulls 2007-08"
          ],
          [
           0.549,
           "Cleveland Cavaliers 2007-08"
          ],
          [
           0.622,
           "Dallas Mavericks 2007-08"
          ],
          [
           0.61,
           "Denver Nuggets 2007-08"
          ],
          [
           0.72,
           "Detroit Pistons 2007-08"
          ],
          [
           0.585,
           "Golden State Warriors 2007-08"
          ],
          [
           0.671,
           "Houston Rockets 2007-08"
          ],
          [
           0.439,
           "Indiana Pacers 2007-08"
          ],
          [
           0.28,
           "Los Angeles Clippers 2007-08"
          ],
          [
           0.695,
           "Los Angeles Lakers 2007-08"
          ],
          [
           0.268,
           "Memphis Grizzlies 2007-08"
          ],
          [
           0.183,
           "Miami Heat 2007-08"
          ],
          [
           0.317,
           "Milwaukee Bucks 2007-08"
          ],
          [
           0.268,
           "Minnesota Timberwolves 2007-08"
          ],
          [
           0.415,
           "New Jersey Nets 2007-08"
          ],
          [
           0.683,
           "New Orleans Hornets 2007-08"
          ],
          [
           0.28,
           "New York Knicks 2007-08"
          ],
          [
           0.634,
           "Orlando Magic 2007-08"
          ],
          [
           0.488,
           "Philadelphia 76ers 2007-08"
          ],
          [
           0.671,
           "Phoenix Suns 2007-08"
          ],
          [
           0.5,
           "Portland Trail Blazers 2007-08"
          ],
          [
           0.463,
           "Sacramento Kings 2007-08"
          ],
          [
           0.683,
           "San Antonio Spurs 2007-08"
          ],
          [
           0.244,
           "Seattle SuperSonics 2007-08"
          ],
          [
           0.5,
           "Toronto Raptors 2007-08"
          ],
          [
           0.659,
           "Utah Jazz 2007-08"
          ],
          [
           0.524,
           "Washington Wizards 2007-08"
          ],
          [
           0.573,
           "Atlanta Hawks 2008-09"
          ],
          [
           0.756,
           "Boston Celtics 2008-09"
          ],
          [
           0.427,
           "Charlotte Bobcats 2008-09"
          ],
          [
           0.5,
           "Chicago Bulls 2008-09"
          ],
          [
           0.805,
           "Cleveland Cavaliers 2008-09"
          ],
          [
           0.61,
           "Dallas Mavericks 2008-09"
          ],
          [
           0.659,
           "Denver Nuggets 2008-09"
          ],
          [
           0.476,
           "Detroit Pistons 2008-09"
          ],
          [
           0.354,
           "Golden State Warriors 2008-09"
          ],
          [
           0.646,
           "Houston Rockets 2008-09"
          ],
          [
           0.439,
           "Indiana Pacers 2008-09"
          ],
          [
           0.232,
           "Los Angeles Clippers 2008-09"
          ],
          [
           0.793,
           "Los Angeles Lakers 2008-09"
          ],
          [
           0.293,
           "Memphis Grizzlies 2008-09"
          ],
          [
           0.524,
           "Miami Heat 2008-09"
          ],
          [
           0.415,
           "Milwaukee Bucks 2008-09"
          ],
          [
           0.293,
           "Minnesota Timberwolves 2008-09"
          ],
          [
           0.415,
           "New Jersey Nets 2008-09"
          ],
          [
           0.598,
           "New Orleans Hornets 2008-09"
          ],
          [
           0.39,
           "New York Knicks 2008-09"
          ],
          [
           0.28,
           "Oklahoma City Thunder 2008-09"
          ],
          [
           0.72,
           "Orlando Magic 2008-09"
          ],
          [
           0.5,
           "Philadelphia 76ers 2008-09"
          ],
          [
           0.561,
           "Phoenix Suns 2008-09"
          ],
          [
           0.659,
           "Portland Trail Blazers 2008-09"
          ],
          [
           0.207,
           "Sacramento Kings 2008-09"
          ],
          [
           0.659,
           "San Antonio Spurs 2008-09"
          ],
          [
           0.402,
           "Toronto Raptors 2008-09"
          ],
          [
           0.585,
           "Utah Jazz 2008-09"
          ],
          [
           0.232,
           "Washington Wizards 2008-09"
          ],
          [
           0.646,
           "Atlanta Hawks 2009-10"
          ],
          [
           0.61,
           "Boston Celtics 2009-10"
          ],
          [
           0.537,
           "Charlotte Bobcats 2009-10"
          ],
          [
           0.5,
           "Chicago Bulls 2009-10"
          ],
          [
           0.744,
           "Cleveland Cavaliers 2009-10"
          ],
          [
           0.671,
           "Dallas Mavericks 2009-10"
          ],
          [
           0.646,
           "Denver Nuggets 2009-10"
          ],
          [
           0.329,
           "Detroit Pistons 2009-10"
          ],
          [
           0.317,
           "Golden State Warriors 2009-10"
          ],
          [
           0.512,
           "Houston Rockets 2009-10"
          ],
          [
           0.39,
           "Indiana Pacers 2009-10"
          ],
          [
           0.354,
           "Los Angeles Clippers 2009-10"
          ],
          [
           0.695,
           "Los Angeles Lakers 2009-10"
          ],
          [
           0.488,
           "Memphis Grizzlies 2009-10"
          ],
          [
           0.573,
           "Miami Heat 2009-10"
          ],
          [
           0.561,
           "Milwaukee Bucks 2009-10"
          ],
          [
           0.183,
           "Minnesota Timberwolves 2009-10"
          ],
          [
           0.146,
           "New Jersey Nets 2009-10"
          ],
          [
           0.451,
           "New Orleans Hornets 2009-10"
          ],
          [
           0.354,
           "New York Knicks 2009-10"
          ],
          [
           0.61,
           "Oklahoma City Thunder 2009-10"
          ],
          [
           0.72,
           "Orlando Magic 2009-10"
          ],
          [
           0.329,
           "Philadelphia 76ers 2009-10"
          ],
          [
           0.659,
           "Phoenix Suns 2009-10"
          ],
          [
           0.61,
           "Portland Trail Blazers 2009-10"
          ],
          [
           0.305,
           "Sacramento Kings 2009-10"
          ],
          [
           0.61,
           "San Antonio Spurs 2009-10"
          ],
          [
           0.488,
           "Toronto Raptors 2009-10"
          ],
          [
           0.646,
           "Utah Jazz 2009-10"
          ],
          [
           0.317,
           "Washington Wizards 2009-10"
          ],
          [
           0.537,
           "Atlanta Hawks 2010-11"
          ],
          [
           0.683,
           "Boston Celtics 2010-11"
          ],
          [
           0.415,
           "Charlotte Bobcats 2010-11"
          ],
          [
           0.756,
           "Chicago Bulls 2010-11"
          ],
          [
           0.232,
           "Cleveland Cavaliers 2010-11"
          ],
          [
           0.695,
           "Dallas Mavericks 2010-11"
          ],
          [
           0.61,
           "Denver Nuggets 2010-11"
          ],
          [
           0.366,
           "Detroit Pistons 2010-11"
          ],
          [
           0.439,
           "Golden State Warriors 2010-11"
          ],
          [
           0.524,
           "Houston Rockets 2010-11"
          ],
          [
           0.451,
           "Indiana Pacers 2010-11"
          ],
          [
           0.39,
           "Los Angeles Clippers 2010-11"
          ],
          [
           0.695,
           "Los Angeles Lakers 2010-11"
          ],
          [
           0.561,
           "Memphis Grizzlies 2010-11"
          ],
          [
           0.707,
           "Miami Heat 2010-11"
          ],
          [
           0.427,
           "Milwaukee Bucks 2010-11"
          ],
          [
           0.207,
           "Minnesota Timberwolves 2010-11"
          ],
          [
           0.293,
           "New Jersey Nets 2010-11"
          ],
          [
           0.561,
           "New Orleans Hornets 2010-11"
          ],
          [
           0.512,
           "New York Knicks 2010-11"
          ],
          [
           0.671,
           "Oklahoma City Thunder 2010-11"
          ],
          [
           0.634,
           "Orlando Magic 2010-11"
          ],
          [
           0.5,
           "Philadelphia 76ers 2010-11"
          ],
          [
           0.488,
           "Phoenix Suns 2010-11"
          ],
          [
           0.585,
           "Portland Trail Blazers 2010-11"
          ],
          [
           0.293,
           "Sacramento Kings 2010-11"
          ],
          [
           0.744,
           "San Antonio Spurs 2010-11"
          ],
          [
           0.268,
           "Toronto Raptors 2010-11"
          ],
          [
           0.476,
           "Utah Jazz 2010-11"
          ],
          [
           0.28,
           "Washington Wizards 2010-11"
          ],
          [
           0.606,
           "Atlanta Hawks 2011-12"
          ],
          [
           0.591,
           "Boston Celtics 2011-12"
          ],
          [
           0.106,
           "Charlotte Bobcats 2011-12"
          ],
          [
           0.758,
           "Chicago Bulls 2011-12"
          ],
          [
           0.318,
           "Cleveland Cavaliers 2011-12"
          ],
          [
           0.545,
           "Dallas Mavericks 2011-12"
          ],
          [
           0.576,
           "Denver Nuggets 2011-12"
          ],
          [
           0.379,
           "Detroit Pistons 2011-12"
          ],
          [
           0.348,
           "Golden State Warriors 2011-12"
          ],
          [
           0.515,
           "Houston Rockets 2011-12"
          ],
          [
           0.636,
           "Indiana Pacers 2011-12"
          ],
          [
           0.606,
           "Los Angeles Clippers 2011-12"
          ],
          [
           0.621,
           "Los Angeles Lakers 2011-12"
          ],
          [
           0.621,
           "Memphis Grizzlies 2011-12"
          ],
          [
           0.697,
           "Miami Heat 2011-12"
          ],
          [
           0.47,
           "Milwaukee Bucks 2011-12"
          ],
          [
           0.394,
           "Minnesota Timberwolves 2011-12"
          ],
          [
           0.333,
           "New Jersey Nets 2011-12"
          ],
          [
           0.318,
           "New Orleans Hornets 2011-12"
          ],
          [
           0.545,
           "New York Knicks 2011-12"
          ],
          [
           0.712,
           "Oklahoma City Thunder 2011-12"
          ],
          [
           0.561,
           "Orlando Magic 2011-12"
          ],
          [
           0.53,
           "Philadelphia 76ers 2011-12"
          ],
          [
           0.5,
           "Phoenix Suns 2011-12"
          ],
          [
           0.424,
           "Portland Trail Blazers 2011-12"
          ],
          [
           0.333,
           "Sacramento Kings 2011-12"
          ],
          [
           0.758,
           "San Antonio Spurs 2011-12"
          ],
          [
           0.348,
           "Toronto Raptors 2011-12"
          ],
          [
           0.545,
           "Utah Jazz 2011-12"
          ],
          [
           0.303,
           "Washington Wizards 2011-12"
          ],
          [
           0.537,
           "Atlanta Hawks 2012-13"
          ],
          [
           0.506,
           "Boston Celtics 2012-13"
          ],
          [
           0.598,
           "Brooklyn Nets 2012-13"
          ],
          [
           0.256,
           "Charlotte Bobcats 2012-13"
          ],
          [
           0.549,
           "Chicago Bulls 2012-13"
          ],
          [
           0.293,
           "Cleveland Cavaliers 2012-13"
          ],
          [
           0.5,
           "Dallas Mavericks 2012-13"
          ],
          [
           0.695,
           "Denver Nuggets 2012-13"
          ],
          [
           0.354,
           "Detroit Pistons 2012-13"
          ],
          [
           0.573,
           "Golden State Warriors 2012-13"
          ],
          [
           0.549,
           "Houston Rockets 2012-13"
          ],
          [
           0.605,
           "Indiana Pacers 2012-13"
          ],
          [
           0.683,
           "Los Angeles Clippers 2012-13"
          ],
          [
           0.549,
           "Los Angeles Lakers 2012-13"
          ],
          [
           0.683,
           "Memphis Grizzlies 2012-13"
          ],
          [
           0.805,
           "Miami Heat 2012-13"
          ],
          [
           0.463,
           "Milwaukee Bucks 2012-13"
          ],
          [
           0.378,
           "Minnesota Timberwolves 2012-13"
          ],
          [
           0.329,
           "New Orleans Hornets 2012-13"
          ],
          [
           0.659,
           "New York Knicks 2012-13"
          ],
          [
           0.732,
           "Oklahoma City Thunder 2012-13"
          ],
          [
           0.244,
           "Orlando Magic 2012-13"
          ],
          [
           0.415,
           "Philadelphia 76ers 2012-13"
          ],
          [
           0.305,
           "Phoenix Suns 2012-13"
          ],
          [
           0.402,
           "Portland Trail Blazers 2012-13"
          ],
          [
           0.341,
           "Sacramento Kings 2012-13"
          ],
          [
           0.707,
           "San Antonio Spurs 2012-13"
          ],
          [
           0.415,
           "Toronto Raptors 2012-13"
          ],
          [
           0.524,
           "Utah Jazz 2012-13"
          ],
          [
           0.354,
           "Washington Wizards 2012-13"
          ],
          [
           0.463,
           "Atlanta Hawks 2013-14"
          ],
          [
           0.305,
           "Boston Celtics 2013-14"
          ],
          [
           0.537,
           "Brooklyn Nets 2013-14"
          ],
          [
           0.524,
           "Charlotte Bobcats 2013-14"
          ],
          [
           0.585,
           "Chicago Bulls 2013-14"
          ],
          [
           0.402,
           "Cleveland Cavaliers 2013-14"
          ],
          [
           0.598,
           "Dallas Mavericks 2013-14"
          ],
          [
           0.439,
           "Denver Nuggets 2013-14"
          ],
          [
           0.354,
           "Detroit Pistons 2013-14"
          ],
          [
           0.622,
           "Golden State Warriors 2013-14"
          ],
          [
           0.659,
           "Houston Rockets 2013-14"
          ],
          [
           0.683,
           "Indiana Pacers 2013-14"
          ],
          [
           0.695,
           "Los Angeles Clippers 2013-14"
          ],
          [
           0.329,
           "Los Angeles Lakers 2013-14"
          ],
          [
           0.61,
           "Memphis Grizzlies 2013-14"
          ],
          [
           0.659,
           "Miami Heat 2013-14"
          ],
          [
           0.183,
           "Milwaukee Bucks 2013-14"
          ],
          [
           0.488,
           "Minnesota Timberwolves 2013-14"
          ],
          [
           0.415,
           "New Orleans Pelicans 2013-14"
          ],
          [
           0.451,
           "New York Knicks 2013-14"
          ],
          [
           0.72,
           "Oklahoma City Thunder 2013-14"
          ],
          [
           0.28,
           "Orlando Magic 2013-14"
          ],
          [
           0.232,
           "Philadelphia 76ers 2013-14"
          ],
          [
           0.585,
           "Phoenix Suns 2013-14"
          ],
          [
           0.659,
           "Portland Trail Blazers 2013-14"
          ],
          [
           0.341,
           "Sacramento Kings 2013-14"
          ],
          [
           0.756,
           "San Antonio Spurs 2013-14"
          ],
          [
           0.585,
           "Toronto Raptors 2013-14"
          ],
          [
           0.305,
           "Utah Jazz 2013-14"
          ],
          [
           0.537,
           "Washington Wizards 2013-14"
          ],
          [
           0.732,
           "Atlanta Hawks 2014-15"
          ],
          [
           0.488,
           "Boston Celtics 2014-15"
          ],
          [
           0.463,
           "Brooklyn Nets 2014-15"
          ],
          [
           0.402,
           "Charlotte Hornets 2014-15"
          ],
          [
           0.61,
           "Chicago Bulls 2014-15"
          ],
          [
           0.646,
           "Cleveland Cavaliers 2014-15"
          ],
          [
           0.61,
           "Dallas Mavericks 2014-15"
          ],
          [
           0.366,
           "Denver Nuggets 2014-15"
          ],
          [
           0.39,
           "Detroit Pistons 2014-15"
          ],
          [
           0.817,
           "Golden State Warriors 2014-15"
          ],
          [
           0.683,
           "Houston Rockets 2014-15"
          ],
          [
           0.463,
           "Indiana Pacers 2014-15"
          ],
          [
           0.683,
           "Los Angeles Clippers 2014-15"
          ],
          [
           0.256,
           "Los Angeles Lakers 2014-15"
          ],
          [
           0.671,
           "Memphis Grizzlies 2014-15"
          ],
          [
           0.451,
           "Miami Heat 2014-15"
          ],
          [
           0.5,
           "Milwaukee Bucks 2014-15"
          ],
          [
           0.195,
           "Minnesota Timberwolves 2014-15"
          ],
          [
           0.549,
           "New Orleans Pelicans 2014-15"
          ],
          [
           0.207,
           "New York Knicks 2014-15"
          ],
          [
           0.549,
           "Oklahoma City Thunder 2014-15"
          ],
          [
           0.305,
           "Orlando Magic 2014-15"
          ],
          [
           0.22,
           "Philadelphia 76ers 2014-15"
          ],
          [
           0.476,
           "Phoenix Suns 2014-15"
          ],
          [
           0.622,
           "Portland Trail Blazers 2014-15"
          ],
          [
           0.354,
           "Sacramento Kings 2014-15"
          ],
          [
           0.671,
           "San Antonio Spurs 2014-15"
          ],
          [
           0.598,
           "Toronto Raptors 2014-15"
          ],
          [
           0.463,
           "Utah Jazz 2014-15"
          ],
          [
           0.561,
           "Washington Wizards 2014-15"
          ],
          [
           0.585,
           "Atlanta Hawks 2015-16"
          ],
          [
           0.585,
           "Boston Celtics 2015-16"
          ],
          [
           0.256,
           "Brooklyn Nets 2015-16"
          ],
          [
           0.585,
           "Charlotte Hornets 2015-16"
          ],
          [
           0.512,
           "Chicago Bulls 2015-16"
          ],
          [
           0.695,
           "Cleveland Cavaliers 2015-16"
          ],
          [
           0.512,
           "Dallas Mavericks 2015-16"
          ],
          [
           0.402,
           "Denver Nuggets 2015-16"
          ],
          [
           0.537,
           "Detroit Pistons 2015-16"
          ],
          [
           0.89,
           "Golden State Warriors 2015-16"
          ],
          [
           0.5,
           "Houston Rockets 2015-16"
          ],
          [
           0.549,
           "Indiana Pacers 2015-16"
          ],
          [
           0.646,
           "LA Clippers 2015-16"
          ],
          [
           0.207,
           "Los Angeles Lakers 2015-16"
          ],
          [
           0.512,
           "Memphis Grizzlies 2015-16"
          ],
          [
           0.585,
           "Miami Heat 2015-16"
          ],
          [
           0.402,
           "Milwaukee Bucks 2015-16"
          ],
          [
           0.354,
           "Minnesota Timberwolves 2015-16"
          ],
          [
           0.366,
           "New Orleans Pelicans 2015-16"
          ],
          [
           0.39,
           "New York Knicks 2015-16"
          ],
          [
           0.671,
           "Oklahoma City Thunder 2015-16"
          ],
          [
           0.427,
           "Orlando Magic 2015-16"
          ],
          [
           0.122,
           "Philadelphia 76ers 2015-16"
          ],
          [
           0.28,
           "Phoenix Suns 2015-16"
          ],
          [
           0.537,
           "Portland Trail Blazers 2015-16"
          ],
          [
           0.402,
           "Sacramento Kings 2015-16"
          ],
          [
           0.817,
           "San Antonio Spurs 2015-16"
          ],
          [
           0.683,
           "Toronto Raptors 2015-16"
          ],
          [
           0.488,
           "Utah Jazz 2015-16"
          ],
          [
           0.5,
           "Washington Wizards 2015-16"
          ],
          [
           0.524,
           "Atlanta Hawks 2016-17"
          ],
          [
           0.646,
           "Boston Celtics 2016-17"
          ],
          [
           0.244,
           "Brooklyn Nets 2016-17"
          ],
          [
           0.439,
           "Charlotte Hornets 2016-17"
          ],
          [
           0.5,
           "Chicago Bulls 2016-17"
          ],
          [
           0.622,
           "Cleveland Cavaliers 2016-17"
          ],
          [
           0.402,
           "Dallas Mavericks 2016-17"
          ],
          [
           0.488,
           "Denver Nuggets 2016-17"
          ],
          [
           0.451,
           "Detroit Pistons 2016-17"
          ],
          [
           0.817,
           "Golden State Warriors 2016-17"
          ],
          [
           0.671,
           "Houston Rockets 2016-17"
          ],
          [
           0.512,
           "Indiana Pacers 2016-17"
          ],
          [
           0.622,
           "LA Clippers 2016-17"
          ],
          [
           0.317,
           "Los Angeles Lakers 2016-17"
          ],
          [
           0.524,
           "Memphis Grizzlies 2016-17"
          ],
          [
           0.5,
           "Miami Heat 2016-17"
          ],
          [
           0.512,
           "Milwaukee Bucks 2016-17"
          ],
          [
           0.378,
           "Minnesota Timberwolves 2016-17"
          ],
          [
           0.415,
           "New Orleans Pelicans 2016-17"
          ],
          [
           0.378,
           "New York Knicks 2016-17"
          ],
          [
           0.573,
           "Oklahoma City Thunder 2016-17"
          ],
          [
           0.354,
           "Orlando Magic 2016-17"
          ],
          [
           0.341,
           "Philadelphia 76ers 2016-17"
          ],
          [
           0.293,
           "Phoenix Suns 2016-17"
          ],
          [
           0.5,
           "Portland Trail Blazers 2016-17"
          ],
          [
           0.39,
           "Sacramento Kings 2016-17"
          ],
          [
           0.744,
           "San Antonio Spurs 2016-17"
          ],
          [
           0.622,
           "Toronto Raptors 2016-17"
          ],
          [
           0.622,
           "Utah Jazz 2016-17"
          ],
          [
           0.598,
           "Washington Wizards 2016-17"
          ],
          [
           0.293,
           "Atlanta Hawks 2017-18"
          ],
          [
           0.671,
           "Boston Celtics 2017-18"
          ],
          [
           0.341,
           "Brooklyn Nets 2017-18"
          ],
          [
           0.439,
           "Charlotte Hornets 2017-18"
          ],
          [
           0.329,
           "Chicago Bulls 2017-18"
          ],
          [
           0.61,
           "Cleveland Cavaliers 2017-18"
          ],
          [
           0.293,
           "Dallas Mavericks 2017-18"
          ],
          [
           0.561,
           "Denver Nuggets 2017-18"
          ],
          [
           0.476,
           "Detroit Pistons 2017-18"
          ],
          [
           0.707,
           "Golden State Warriors 2017-18"
          ],
          [
           0.793,
           "Houston Rockets 2017-18"
          ],
          [
           0.585,
           "Indiana Pacers 2017-18"
          ],
          [
           0.512,
           "LA Clippers 2017-18"
          ],
          [
           0.427,
           "Los Angeles Lakers 2017-18"
          ],
          [
           0.268,
           "Memphis Grizzlies 2017-18"
          ],
          [
           0.537,
           "Miami Heat 2017-18"
          ],
          [
           0.537,
           "Milwaukee Bucks 2017-18"
          ],
          [
           0.573,
           "Minnesota Timberwolves 2017-18"
          ],
          [
           0.585,
           "New Orleans Pelicans 2017-18"
          ],
          [
           0.354,
           "New York Knicks 2017-18"
          ],
          [
           0.585,
           "Oklahoma City Thunder 2017-18"
          ],
          [
           0.305,
           "Orlando Magic 2017-18"
          ],
          [
           0.634,
           "Philadelphia 76ers 2017-18"
          ],
          [
           0.256,
           "Phoenix Suns 2017-18"
          ],
          [
           0.598,
           "Portland Trail Blazers 2017-18"
          ],
          [
           0.329,
           "Sacramento Kings 2017-18"
          ],
          [
           0.573,
           "San Antonio Spurs 2017-18"
          ],
          [
           0.72,
           "Toronto Raptors 2017-18"
          ],
          [
           0.585,
           "Utah Jazz 2017-18"
          ],
          [
           0.524,
           "Washington Wizards 2017-18"
          ],
          [
           0.354,
           "Atlanta Hawks 2018-19"
          ],
          [
           0.598,
           "Boston Celtics 2018-19"
          ],
          [
           0.512,
           "Brooklyn Nets 2018-19"
          ],
          [
           0.476,
           "Charlotte Hornets 2018-19"
          ],
          [
           0.268,
           "Chicago Bulls 2018-19"
          ],
          [
           0.232,
           "Cleveland Cavaliers 2018-19"
          ],
          [
           0.402,
           "Dallas Mavericks 2018-19"
          ],
          [
           0.659,
           "Denver Nuggets 2018-19"
          ],
          [
           0.5,
           "Detroit Pistons 2018-19"
          ],
          [
           0.695,
           "Golden State Warriors 2018-19"
          ],
          [
           0.646,
           "Houston Rockets 2018-19"
          ],
          [
           0.585,
           "Indiana Pacers 2018-19"
          ],
          [
           0.585,
           "LA Clippers 2018-19"
          ],
          [
           0.451,
           "Los Angeles Lakers 2018-19"
          ],
          [
           0.402,
           "Memphis Grizzlies 2018-19"
          ],
          [
           0.476,
           "Miami Heat 2018-19"
          ],
          [
           0.732,
           "Milwaukee Bucks 2018-19"
          ],
          [
           0.439,
           "Minnesota Timberwolves 2018-19"
          ],
          [
           0.402,
           "New Orleans Pelicans 2018-19"
          ],
          [
           0.207,
           "New York Knicks 2018-19"
          ],
          [
           0.598,
           "Oklahoma City Thunder 2018-19"
          ],
          [
           0.512,
           "Orlando Magic 2018-19"
          ],
          [
           0.622,
           "Philadelphia 76ers 2018-19"
          ],
          [
           0.232,
           "Phoenix Suns 2018-19"
          ],
          [
           0.646,
           "Portland Trail Blazers 2018-19"
          ],
          [
           0.476,
           "Sacramento Kings 2018-19"
          ],
          [
           0.585,
           "San Antonio Spurs 2018-19"
          ],
          [
           0.707,
           "Toronto Raptors 2018-19"
          ],
          [
           0.61,
           "Utah Jazz 2018-19"
          ],
          [
           0.39,
           "Washington Wizards 2018-19"
          ],
          [
           0.299,
           "Atlanta Hawks 2019-20"
          ],
          [
           0.667,
           "Boston Celtics 2019-20"
          ],
          [
           0.486,
           "Brooklyn Nets 2019-20"
          ],
          [
           0.354,
           "Charlotte Hornets 2019-20"
          ],
          [
           0.338,
           "Chicago Bulls 2019-20"
          ],
          [
           0.292,
           "Cleveland Cavaliers 2019-20"
          ],
          [
           0.573,
           "Dallas Mavericks 2019-20"
          ],
          [
           0.63,
           "Denver Nuggets 2019-20"
          ],
          [
           0.303,
           "Detroit Pistons 2019-20"
          ],
          [
           0.231,
           "Golden State Warriors 2019-20"
          ],
          [
           0.611,
           "Houston Rockets 2019-20"
          ],
          [
           0.616,
           "Indiana Pacers 2019-20"
          ],
          [
           0.681,
           "LA Clippers 2019-20"
          ],
          [
           0.732,
           "Los Angeles Lakers 2019-20"
          ],
          [
           0.466,
           "Memphis Grizzlies 2019-20"
          ],
          [
           0.603,
           "Miami Heat 2019-20"
          ],
          [
           0.767,
           "Milwaukee Bucks 2019-20"
          ],
          [
           0.297,
           "Minnesota Timberwolves 2019-20"
          ],
          [
           0.417,
           "New Orleans Pelicans 2019-20"
          ],
          [
           0.318,
           "New York Knicks 2019-20"
          ],
          [
           0.611,
           "Oklahoma City Thunder 2019-20"
          ],
          [
           0.452,
           "Orlando Magic 2019-20"
          ],
          [
           0.589,
           "Philadelphia 76ers 2019-20"
          ],
          [
           0.466,
           "Phoenix Suns 2019-20"
          ],
          [
           0.473,
           "Portland Trail Blazers 2019-20"
          ],
          [
           0.431,
           "Sacramento Kings 2019-20"
          ],
          [
           0.451,
           "San Antonio Spurs 2019-20"
          ],
          [
           0.736,
           "Toronto Raptors 2019-20"
          ],
          [
           0.611,
           "Utah Jazz 2019-20"
          ],
          [
           0.347,
           "Washington Wizards 2019-20"
          ]
         ],
         "hovertemplate": "PC1=%{x}<br>PC2=%{y}<br>WIN%=%{marker.color}<br>TEAM=%{customdata[1]}<extra></extra>",
         "legendgroup": "",
         "marker": {
          "color": [
           0.341,
           0.427,
           0.598,
           0.207,
           0.39,
           0.488,
           0.427,
           0.512,
           0.232,
           0.415,
           0.683,
           0.183,
           0.817,
           0.634,
           0.512,
           0.61,
           0.378,
           0.61,
           0.5,
           0.598,
           0.646,
           0.72,
           0.537,
           0.646,
           0.549,
           0.549,
           0.671,
           0.268,
           0.354,
           0.305,
           0.439,
           0.561,
           0.183,
           0.366,
           0.646,
           0.488,
           0.39,
           0.207,
           0.549,
           0.5,
           0.378,
           0.683,
           0.61,
           0.634,
           0.573,
           0.317,
           0.585,
           0.524,
           0.683,
           0.622,
           0.61,
           0.671,
           0.707,
           0.537,
           0.573,
           0.646,
           0.28,
           0.232,
           0.402,
           0.598,
           0.537,
           0.256,
           0.354,
           0.695,
           0.329,
           0.61,
           0.256,
           0.341,
           0.512,
           0.476,
           0.707,
           0.28,
           0.439,
           0.5,
           0.61,
           0.634,
           0.366,
           0.537,
           0.524,
           0.439,
           0.598,
           0.744,
           0.707,
           0.549,
           0.512,
           0.537,
           0.451,
           0.427,
           0.537,
           0.366,
           0.207,
           0.732,
           0.207,
           0.61,
           0.463,
           0.524,
           0.585,
           0.329,
           0.61,
           0.341,
           0.305,
           0.512,
           0.622,
           0.598,
           0.573,
           0.451,
           0.512,
           0.585,
           0.537,
           0.61,
           0.72,
           0.732,
           0.488,
           0.293,
           0.573,
           0.451,
           0.341,
           0.439,
           0.28,
           0.427,
           0.634,
           0.524,
           0.659,
           0.451,
           0.549,
           0.744,
           0.341,
           0.683,
           0.61,
           0.512,
           0.5,
           0.707,
           0.573,
           0.5,
           0.476,
           0.256,
           0.402,
           0.354,
           0.5,
           0.671,
           0.695,
           0.451,
           0.402,
           0.512,
           0.305,
           0.159,
           0.549,
           0.22,
           0.573,
           0.512,
           0.707,
           0.598,
           0.659,
           0.415,
           0.622,
           0.537,
           0.451,
           0.415,
           0.549,
           0.72,
           0.366,
           0.537,
           0.512,
           0.22,
           0.402,
           0.439,
           0.524,
           0.756,
           0.329,
           0.61,
           0.72,
           0.634,
           0.402,
           0.317,
           0.549,
           0.317,
           0.402,
           0.317,
           0.5,
           0.61,
           0.732,
           0.537,
           0.78,
           0.415,
           0.415,
           0.5,
           0.573,
           0.549,
           0.598,
           0.634,
           0.488,
           0.402,
           0.598,
           0.463,
           0.28,
           0.439,
           0.463,
           0.659,
           0.256,
           0.537,
           0.768,
           0.427,
           0.329,
           0.5,
           0.512,
           0.366,
           0.293,
           0.402,
           0.598,
           0.61,
           0.817,
           0.549,
           0.646,
           0.512,
           0.634,
           0.427,
           0.488,
           0.512,
           0.268,
           0.537,
           0.341,
           0.39,
           0.5,
           0.476,
           0.402,
           0.488,
           0.427,
           0.744,
           0.39,
           0.402,
           0.707,
           0.378,
           0.573,
           0.622,
           0.5,
           0.451,
           0.805,
           0.39,
           0.402,
           0.549,
           0.622,
           0.61,
           0.72,
           0.585,
           0.671,
           0.439,
           0.28,
           0.695,
           0.268,
           0.183,
           0.317,
           0.268,
           0.415,
           0.683,
           0.28,
           0.634,
           0.488,
           0.671,
           0.5,
           0.463,
           0.683,
           0.244,
           0.5,
           0.659,
           0.524,
           0.573,
           0.756,
           0.427,
           0.5,
           0.805,
           0.61,
           0.659,
           0.476,
           0.354,
           0.646,
           0.439,
           0.232,
           0.793,
           0.293,
           0.524,
           0.415,
           0.293,
           0.415,
           0.598,
           0.39,
           0.28,
           0.72,
           0.5,
           0.561,
           0.659,
           0.207,
           0.659,
           0.402,
           0.585,
           0.232,
           0.646,
           0.61,
           0.537,
           0.5,
           0.744,
           0.671,
           0.646,
           0.329,
           0.317,
           0.512,
           0.39,
           0.354,
           0.695,
           0.488,
           0.573,
           0.561,
           0.183,
           0.146,
           0.451,
           0.354,
           0.61,
           0.72,
           0.329,
           0.659,
           0.61,
           0.305,
           0.61,
           0.488,
           0.646,
           0.317,
           0.537,
           0.683,
           0.415,
           0.756,
           0.232,
           0.695,
           0.61,
           0.366,
           0.439,
           0.524,
           0.451,
           0.39,
           0.695,
           0.561,
           0.707,
           0.427,
           0.207,
           0.293,
           0.561,
           0.512,
           0.671,
           0.634,
           0.5,
           0.488,
           0.585,
           0.293,
           0.744,
           0.268,
           0.476,
           0.28,
           0.606,
           0.591,
           0.106,
           0.758,
           0.318,
           0.545,
           0.576,
           0.379,
           0.348,
           0.515,
           0.636,
           0.606,
           0.621,
           0.621,
           0.697,
           0.47,
           0.394,
           0.333,
           0.318,
           0.545,
           0.712,
           0.561,
           0.53,
           0.5,
           0.424,
           0.333,
           0.758,
           0.348,
           0.545,
           0.303,
           0.537,
           0.506,
           0.598,
           0.256,
           0.549,
           0.293,
           0.5,
           0.695,
           0.354,
           0.573,
           0.549,
           0.605,
           0.683,
           0.549,
           0.683,
           0.805,
           0.463,
           0.378,
           0.329,
           0.659,
           0.732,
           0.244,
           0.415,
           0.305,
           0.402,
           0.341,
           0.707,
           0.415,
           0.524,
           0.354,
           0.463,
           0.305,
           0.537,
           0.524,
           0.585,
           0.402,
           0.598,
           0.439,
           0.354,
           0.622,
           0.659,
           0.683,
           0.695,
           0.329,
           0.61,
           0.659,
           0.183,
           0.488,
           0.415,
           0.451,
           0.72,
           0.28,
           0.232,
           0.585,
           0.659,
           0.341,
           0.756,
           0.585,
           0.305,
           0.537,
           0.732,
           0.488,
           0.463,
           0.402,
           0.61,
           0.646,
           0.61,
           0.366,
           0.39,
           0.817,
           0.683,
           0.463,
           0.683,
           0.256,
           0.671,
           0.451,
           0.5,
           0.195,
           0.549,
           0.207,
           0.549,
           0.305,
           0.22,
           0.476,
           0.622,
           0.354,
           0.671,
           0.598,
           0.463,
           0.561,
           0.585,
           0.585,
           0.256,
           0.585,
           0.512,
           0.695,
           0.512,
           0.402,
           0.537,
           0.89,
           0.5,
           0.549,
           0.646,
           0.207,
           0.512,
           0.585,
           0.402,
           0.354,
           0.366,
           0.39,
           0.671,
           0.427,
           0.122,
           0.28,
           0.537,
           0.402,
           0.817,
           0.683,
           0.488,
           0.5,
           0.524,
           0.646,
           0.244,
           0.439,
           0.5,
           0.622,
           0.402,
           0.488,
           0.451,
           0.817,
           0.671,
           0.512,
           0.622,
           0.317,
           0.524,
           0.5,
           0.512,
           0.378,
           0.415,
           0.378,
           0.573,
           0.354,
           0.341,
           0.293,
           0.5,
           0.39,
           0.744,
           0.622,
           0.622,
           0.598,
           0.293,
           0.671,
           0.341,
           0.439,
           0.329,
           0.61,
           0.293,
           0.561,
           0.476,
           0.707,
           0.793,
           0.585,
           0.512,
           0.427,
           0.268,
           0.537,
           0.537,
           0.573,
           0.585,
           0.354,
           0.585,
           0.305,
           0.634,
           0.256,
           0.598,
           0.329,
           0.573,
           0.72,
           0.585,
           0.524,
           0.354,
           0.598,
           0.512,
           0.476,
           0.268,
           0.232,
           0.402,
           0.659,
           0.5,
           0.695,
           0.646,
           0.585,
           0.585,
           0.451,
           0.402,
           0.476,
           0.732,
           0.439,
           0.402,
           0.207,
           0.598,
           0.512,
           0.622,
           0.232,
           0.646,
           0.476,
           0.585,
           0.707,
           0.61,
           0.39,
           0.299,
           0.667,
           0.486,
           0.354,
           0.338,
           0.292,
           0.573,
           0.63,
           0.303,
           0.231,
           0.611,
           0.616,
           0.681,
           0.732,
           0.466,
           0.603,
           0.767,
           0.297,
           0.417,
           0.318,
           0.611,
           0.452,
           0.589,
           0.466,
           0.473,
           0.431,
           0.451,
           0.736,
           0.611,
           0.347
          ],
          "coloraxis": "coloraxis",
          "symbol": "circle"
         },
         "mode": "markers",
         "name": "",
         "orientation": "v",
         "showlegend": false,
         "type": "scatter",
         "x": [
          -0.9728225824328638,
          -0.6427353720980602,
          -0.22597985514145086,
          -1.7105358044955565,
          -0.7572290594627845,
          -0.11548012173981184,
          -0.5051592305566072,
          -0.30680391872984064,
          -1.1086571944861783,
          -0.472287245659304,
          0.14000876614957128,
          -1.1581143248159012,
          -0.04705271273943782,
          -0.2692680928520522,
          -0.2977060540045533,
          -0.06608292412420055,
          -0.6184116188377675,
          -0.5659196631187454,
          -0.7041086640933757,
          -0.8625565327819396,
          -0.1929175158874464,
          -0.17013184045050725,
          -0.05115385069719212,
          -0.3060574877919364,
          -0.29754730114609407,
          -0.47231223189489785,
          -0.2715351997042065,
          -1.0136542781061328,
          -0.7930636156457096,
          -1.15653544780783,
          -0.7635541558433462,
          -0.6422170439379088,
          -1.2905454200077884,
          -1.1293057107415356,
          -0.07583988946216043,
          -0.45800760467443247,
          -0.905606160372868,
          -1.3323434210452785,
          -0.44163006599221594,
          -0.7067528877282074,
          -0.956231706511726,
          -0.22129019242023984,
          -0.7197941032718351,
          -0.037247753401357095,
          -0.2191519135994145,
          -1.135878017810141,
          -0.7171025412219323,
          -0.6263907328602435,
          -0.7201096153964451,
          -0.594958306826302,
          -0.29824167935019313,
          -0.13211441832429097,
          -0.17741822743542335,
          -0.513890204796775,
          -0.30452447099889485,
          -0.34266327372395367,
          -0.883865381425576,
          -1.2205848706789009,
          -0.8222026943769337,
          -0.34760338848445116,
          -0.67853416742392,
          -1.097323988561907,
          -0.5921715443306791,
          0.2643931141713014,
          -1.0375373403841652,
          -0.3571802725613065,
          -1.1367187972557393,
          -0.9693099625322484,
          -0.5167859616413557,
          -0.6912324876535055,
          0.04834319782362231,
          -1.1172144931421617,
          -0.920326273297571,
          -0.16478100119186162,
          -0.06181880954371427,
          -0.35983304053534076,
          -0.7666686579950789,
          -0.1670773114991914,
          -0.9935543844222546,
          -0.6343001124769813,
          -0.3295340792122997,
          0.21723462339508312,
          -0.3600069081619243,
          -0.1798381849199153,
          -0.8151965650220359,
          -0.8051622068774634,
          -0.717388146300566,
          -0.7968936555297931,
          -0.6468917368980941,
          -0.8786336348963992,
          -1.3359239187749627,
          0.34693353865926685,
          -1.7785564197847037,
          -0.5864061270815133,
          -0.6637698999127501,
          -0.7613184899483021,
          -0.48871954951117774,
          -0.9818828974992743,
          -0.22471638370819702,
          -0.5081038597641457,
          -1.2870535631558686,
          -0.13343378661624766,
          -0.09144604132011627,
          -0.49872424304718743,
          -0.6360031461934413,
          -0.3263964011804737,
          -0.5045930087121768,
          -0.6763473334942273,
          -0.6654593590495823,
          -0.5029862682367202,
          0.20026494805752096,
          -0.46664494804570306,
          -0.610104623671779,
          -1.080179739321247,
          -0.6425425835978563,
          -0.8589304704062422,
          -0.9672794377556756,
          -0.6862268061398482,
          -1.1295915377707102,
          -0.8885366875437481,
          0.21517008081486153,
          -0.7232659361370377,
          -0.8003090325478212,
          -0.736203576553953,
          -0.7372502968960157,
          -0.6137309884284721,
          -1.1336320489367386,
          -0.2573940347053026,
          -0.558248688783142,
          -0.8336937609373888,
          -0.3584392720962891,
          -0.11559188415769009,
          -0.5078245917383113,
          -0.8628119515094836,
          -0.7328584158415011,
          -0.9973591419665554,
          -1.1725842975809837,
          -0.8540332124971673,
          -0.8093724843700866,
          0.26298863755485513,
          -0.5641946276946165,
          -0.3697517328911555,
          -1.0538024904930552,
          -1.3640101121319712,
          -1.3166884746320058,
          -1.2458289427361096,
          -0.3759026593085393,
          -0.9679145140928889,
          -0.7284771567305097,
          -0.6606163569056245,
          -0.20273396068085683,
          -0.3745686843715027,
          -0.570364450183757,
          -0.4595537153091334,
          -0.303843996617801,
          -0.7844735595286666,
          -0.6841577147378057,
          -0.532011513267942,
          -0.6520770241053155,
          0.0754412268537014,
          -0.6432367028786111,
          -0.21299851429982997,
          -0.7716792594224973,
          -1.2680502757836516,
          -0.6334125177152917,
          -0.7074854225395852,
          -0.4592561648713452,
          0.598819984375289,
          -0.8798917948429503,
          0.08666982327449646,
          -0.26984300721401255,
          -0.4949837296010623,
          -0.287546537411577,
          -1.087725957290448,
          -0.6637361412791882,
          -0.5982426837667454,
          -0.255495568060274,
          -0.5059675601814363,
          -0.07342276575219,
          -0.14788947556979237,
          -0.11281095086363142,
          -0.06003787905688948,
          0.3552635970093238,
          -0.22503003131688404,
          -0.5716261013908104,
          -0.3419149036115947,
          -0.05550846090727363,
          0.02238535148327024,
          -0.2997828740218597,
          0.21876299069388994,
          -0.11773670521595495,
          -0.4889483867847277,
          -0.07196151999208387,
          -0.5678579820488229,
          -0.9018961631824138,
          -0.5011615673018471,
          -0.18042161167669116,
          1.1764526316715234,
          -1.0096695109748146,
          0.02251065861818375,
          0.17703712983108852,
          -0.1408827313574896,
          -0.051199705237895826,
          -0.7156258285755585,
          -0.1823727477246091,
          -0.7862732206019081,
          -0.5685438843090939,
          -0.36092910292847596,
          0.010078404598889975,
          -0.13696132682879456,
          0.2673660364384669,
          0.12235863639704318,
          0.01717735794048788,
          0.29164430484529297,
          0.14883270516277747,
          -0.47423771076921317,
          -0.26783818592608555,
          0.15047864451175097,
          -0.2442045408432412,
          -0.13741649974239886,
          -0.22657969800995997,
          -0.2156409601176259,
          0.09407662305766494,
          -0.35366658879323637,
          -0.5306588537269755,
          -0.53661696178771,
          -0.45475033288997185,
          1.1645188856831743,
          -0.6174074581987837,
          -0.08468520853001178,
          0.4494367469464879,
          -0.20739022955733474,
          0.30455399612839545,
          0.041529119221098226,
          -2.870749592229872e-06,
          -0.2541734190629454,
          0.40595648288031305,
          -0.30712616993893177,
          -0.32847931185166335,
          -0.26021977837563237,
          0.2866342388669995,
          0.6414305491889236,
          0.24227087577462364,
          0.5792503889521139,
          0.06910477713344552,
          0.24853243417610701,
          -0.49137202647426637,
          0.808951047039721,
          -0.12129641170569087,
          -0.5859101939930293,
          -0.4145081111534091,
          -0.5038758602419926,
          -0.2528419799159619,
          0.5147366710235105,
          -0.5579927814770678,
          0.5707945089136026,
          -0.4047015523306013,
          1.1264549556266823,
          -0.08390569664815846,
          -0.10814719938133695,
          0.2721027173287986,
          -0.44759709845828216,
          0.5540834936363775,
          0.5906695740996059,
          -0.0994801469866691,
          0.048208046821731534,
          0.3809654636392519,
          -0.42959420187176195,
          -0.014502323448980309,
          0.43691653721921814,
          0.39023549296312554,
          0.20951788441898095,
          -0.17268700581931054,
          0.12617684536194326,
          0.1539977990614832,
          0.2872421091658837,
          -0.4607951522566683,
          0.6210488259787297,
          -0.6473039231567206,
          0.09052219839741589,
          -0.11448904743998323,
          -0.32985070311986064,
          -0.06809812246424943,
          0.08675018348715263,
          0.2548725071031334,
          -0.4895052052630364,
          0.41948550204547475,
          -0.3537372227026915,
          0.602327174406648,
          0.16853436053438542,
          -0.3503132915214328,
          0.45432833061749156,
          0.12421367122450094,
          0.2379215132140848,
          -0.4989165955056703,
          0.3233132413463266,
          0.2658458888478146,
          -0.3271950087990631,
          -0.18502310294539914,
          0.58068508759695,
          0.5107154231486054,
          0.3087929293778558,
          -0.6465732232037521,
          0.3573793414642356,
          0.06712443859305056,
          0.01048949003482893,
          -0.29930983317846954,
          0.2825169084212704,
          -0.246798768796075,
          -0.06718228272528977,
          0.05173074352910396,
          -0.49265603236500116,
          -0.8053190743658539,
          0.21413619276553264,
          0.2080762932271276,
          0.004249291123947712,
          0.5937443085224176,
          -0.18703502017540716,
          0.7967529795055627,
          0.08176656173829445,
          -0.25055006859099443,
          0.3707323122796167,
          0.32307845405036023,
          0.5371380500847519,
          -0.46675028338277136,
          0.028385612032239268,
          0.31595843437743915,
          -0.4268426872867651,
          0.17566161483106812,
          -0.4552751945796431,
          0.5636712069754821,
          0.5839873811189205,
          -0.21382265557787145,
          0.17686622102925792,
          0.4423802979287365,
          -0.13464093843964875,
          -0.25267806854499114,
          0.3263647225830634,
          -0.1263568407657787,
          0.45052891294884045,
          -0.4423771048849441,
          -0.3680225518787529,
          -0.4512849492113689,
          -0.06401073288277002,
          0.4359392447539813,
          0.22658155335744035,
          0.24432506047521926,
          0.2000566997248562,
          0.4703444581484888,
          -0.09115808516531598,
          -0.4137120043778914,
          0.6576617567170265,
          -0.33520397150674575,
          -0.04382758083529618,
          -0.6188767943834644,
          0.13408227106984172,
          -0.04067867184925787,
          -1.1468605696387304,
          0.06710521656216574,
          -0.803699755403495,
          0.020670437035238156,
          0.25833280120902974,
          -0.8440071107709952,
          -0.026093980608601828,
          -0.08936691953444455,
          -0.3175633775708987,
          -0.030583539022202077,
          -0.018766968014919706,
          -0.45994256742486905,
          0.038696507680131914,
          -0.018610228767484874,
          -0.34573487797947594,
          -0.6251178242318829,
          -0.7196368093320782,
          -0.19007549888966463,
          0.10139272843325736,
          -0.13812491032679994,
          0.09400729479388426,
          0.06577110684486222,
          -0.172616294274943,
          -0.5196355876622913,
          0.6975705526857933,
          -0.5778693268969168,
          -0.20861054251470285,
          -0.6524402753915413,
          0.3596935186795149,
          0.08837131728698061,
          -0.11969664786764689,
          -0.7368993559673139,
          -0.2807716159272589,
          -0.44601926944016945,
          0.3864612044539701,
          0.33488319491569774,
          -0.4131588531251355,
          0.3171316216890387,
          0.4332112598283098,
          -0.23698525460969766,
          0.42442768119194724,
          0.2652774793508106,
          -0.29246424659664366,
          0.8032409445525546,
          -0.02429667351340107,
          -0.3065618108994404,
          -0.38332688309525575,
          0.3609067013488325,
          0.6088230246268026,
          -0.23842481406008612,
          -0.14601829840863875,
          -0.39244148710219695,
          -0.028045462686454317,
          -0.21142971789739237,
          0.8151446085189148,
          -0.12106775640868934,
          -0.09924334744994527,
          -0.28770599173500944,
          0.4415037461145742,
          -0.325695698626434,
          0.08074546078377638,
          0.12365630392326474,
          -0.2025418350721554,
          -0.1665757627823124,
          0.691580981118976,
          0.11206166664874939,
          -0.25389450967757626,
          0.6103307329398457,
          0.4762385983057331,
          0.07921037418989643,
          0.7888865556148099,
          0.31663123632930645,
          -0.0017517775928407365,
          0.6377914151844994,
          -0.4678894198148451,
          0.412381447016533,
          -0.08522566835614365,
          0.13222333191453606,
          0.6016724012564,
          -0.18140041314470143,
          -0.45332347821491886,
          0.31485674540255587,
          0.6649384784391099,
          -0.2548116620103259,
          1.002332576476951,
          0.1722222484552483,
          -0.3668652292031666,
          0.3197010120976929,
          0.7745806832008697,
          0.2928261857667187,
          -0.013859159937651805,
          -0.15253839343003828,
          0.21482420049195664,
          0.47898704550823135,
          0.6367914996504471,
          -0.08057564510141951,
          -0.021415007845607386,
          1.2812638481658711,
          0.24776079535607687,
          0.09232896964120973,
          1.0109289287678696,
          -0.1902611639378219,
          0.16090233620015498,
          -0.2371023182050423,
          -0.00435265699529971,
          -0.4715526418038878,
          0.17571710471511476,
          -0.5253651707570248,
          0.20907959400684026,
          -0.20530891908473195,
          -0.8258940317945878,
          0.1724716835135303,
          0.6386833545190419,
          -0.19182612820550798,
          0.733127082517905,
          0.3380753487011812,
          -0.2455715894549539,
          0.24740707855271338,
          0.6926073429460863,
          0.5040055698776825,
          -0.043076912206684415,
          0.6559356684110014,
          0.2865564157735524,
          0.750668287252193,
          0.5395023507930183,
          0.10201699107466855,
          0.1778467878408868,
          1.6526023875810731,
          0.29287714210115373,
          0.30808616836103464,
          0.745078207931904,
          -0.45993651971523897,
          -0.11896795388237305,
          0.29721983497764365,
          -0.05319253153338613,
          0.10617773146607816,
          0.37136039073744265,
          0.061708135551355625,
          0.6989195998252754,
          0.33530137005178745,
          -0.32354411126078914,
          -0.13996078235931395,
          0.41898543573484304,
          0.43350544779956,
          1.0283002342185772,
          0.33538047907117224,
          -0.022243526447151024,
          0.5856367886037053,
          0.35647475459807687,
          0.926143538090809,
          0.28024723002374624,
          0.7579691491441923,
          0.34446571129466896,
          1.062595635828588,
          0.42176332304216785,
          0.921177593160186,
          0.4269015479214144,
          1.7294446671666053,
          1.1768369422631941,
          0.5934368321650656,
          1.0077060117252628,
          0.11105978994256889,
          0.22644424290032697,
          0.4127657026113121,
          0.5879560836058444,
          0.3999805009606807,
          0.639843876519364,
          0.2624677981999138,
          0.3276701767388387,
          0.19540339837485582,
          0.17365088958651897,
          0.07381111842877978,
          0.5950286297341801,
          0.3533257788141951,
          0.9058637291993769,
          0.519593457219761,
          0.5353913361955116,
          0.8034280330359131,
          0.4042068657016949,
          0.7451464007946818,
          0.588455525259065,
          0.7453043842625492,
          0.4610051674986475,
          1.1132928744735628,
          0.6696400441371605,
          0.9376719753156014,
          0.6081115164375333,
          1.5765516214124973,
          1.251371230166378,
          0.7033906312516359,
          0.6423733855168746,
          0.5884287319162328,
          0.007543653537037307,
          0.6348244312048792,
          0.6842094330370976,
          0.8223968195423662,
          1.2271082753432094,
          0.43838931468278025,
          0.5750893464094773,
          0.44554625049124097,
          1.0046153194170204,
          0.06596675633864658,
          0.608830541957322,
          0.16157429987401292,
          0.6453379049167244,
          1.1870967281469977,
          0.7641011066595301,
          0.7588536508910643,
          0.7534753707019077,
          1.3739337770308402,
          0.8290592372548378,
          0.8985968923668457,
          0.3604053443935649,
          0.23315362844592716,
          0.7789909703123451,
          1.1495152698641224,
          0.5993928824053604,
          1.7979242985999466,
          1.0420112405183548,
          0.9836453314684384,
          0.9916190028900509,
          0.8871650506957557,
          0.5052082359869093,
          0.6312135493189643,
          1.741705891752672,
          0.8473036465242796,
          1.1007925139131702,
          0.12941715928971334,
          0.9668127027532405,
          1.0187344367872184,
          1.230489450783206,
          0.35265579968697797,
          1.0935601327401336,
          1.076203890900342,
          1.2982672602268963,
          1.3612042383588865,
          1.1793983777588148,
          1.0323250775383974,
          0.5094275038456637,
          1.0922013625444735,
          0.8786275875712161,
          0.26662730696932835,
          0.4175738083393943,
          0.3685736837754279,
          1.4894103843851219,
          1.099308864411732,
          0.5230718104875117,
          0.41273296356227746,
          1.120958203307669,
          1.1149075369606751,
          1.2309558904415074,
          1.180574105770199,
          1.028627680175076,
          1.2313633862378301,
          1.7632077595147224,
          0.7092265871773478,
          1.089764568213123,
          0.2487417525316775,
          0.9581362380516407,
          0.7673083075860023,
          1.0982042446058244,
          1.1109271976999981,
          1.0025452352983215,
          0.8649448168537351,
          1.2338817526259729,
          1.1775145831801206,
          1.054781181453712,
          0.8746427019484067
         ],
         "xaxis": "x",
         "y": [
          0.16685090107992287,
          -0.035028262745858955,
          -0.702587559007341,
          0.32572773320652826,
          -0.0554075331851343,
          -0.044060964945161867,
          -0.10286803403388692,
          -0.24314132455871118,
          0.3937429986765324,
          -0.10927368679935584,
          -0.627717166216532,
          0.729013055169865,
          -1.032615478262826,
          -0.7357440242354554,
          -0.33101018772579344,
          -0.7211122396108197,
          0.007998902318948124,
          -0.3888586045410307,
          -0.17660226326359527,
          -0.4322112611104808,
          -0.7340267558952753,
          -0.9854773523305708,
          -0.21192147437120204,
          -0.8893030234723481,
          -0.21611978227573672,
          -0.3975589614205383,
          -0.9541584499744652,
          0.13007989316264432,
          -0.018992577505213663,
          0.223363582817697,
          -0.052442137565064405,
          -0.7027994684311053,
          0.2318399179626346,
          -0.05994934982287163,
          -0.5202525305377701,
          -0.16794384410731747,
          -0.061894070685245786,
          0.4167912322033361,
          -0.3802102894793119,
          -0.4174274973714966,
          -0.09813039398109831,
          -0.7261550679660973,
          -0.5015089869470534,
          -0.5488433007120583,
          -0.6094919397877584,
          0.19000040844964294,
          -0.5097269224142827,
          -0.3099288463613087,
          -0.7305792070555575,
          -0.5447315546571531,
          -0.87044457653175,
          -0.6159558476473893,
          -1.0852943657486138,
          -0.32189073913357036,
          -0.6096610420624137,
          -1.035131881297662,
          0.04251730703146931,
          0.18192972576173638,
          0.09070656493127056,
          -0.255772206963787,
          -0.5218265687423813,
          0.18252994183363963,
          -0.20367423901793588,
          -0.48699947229825713,
          0.1761111195205209,
          -0.6013871248892859,
          0.15440007632938027,
          0.17382953892962996,
          -0.4114832502785637,
          -0.31802785484238805,
          -0.8323574431246316,
          0.16829304790243124,
          -0.32160353903833255,
          -0.3093913813084989,
          -0.6764419091353091,
          -0.7066890299779219,
          0.01787714901097384,
          -0.25684090177184893,
          -0.5172076519576866,
          -0.16564103875486758,
          -0.646046438307534,
          -0.8362983662418843,
          -0.8340559189292531,
          -0.5797258273751613,
          -0.3780594089065116,
          -0.729665033754851,
          -0.29241368226158754,
          -0.12069007671789639,
          -0.07018466775515053,
          0.05553596896071995,
          0.36706777503311405,
          -0.7519455303493906,
          0.29443653573727774,
          -0.6405054226325212,
          -0.181761134962562,
          -0.39830399215596063,
          -0.6716444157907557,
          0.009985406668819256,
          -0.5677494978141812,
          -0.08355002721884984,
          0.17170530910689696,
          -0.31665046157030563,
          -0.6705277308576132,
          -0.7718911275280139,
          -0.5727961348792151,
          -0.0935807910180469,
          -0.12969704696172918,
          -0.499814115713072,
          -0.31515881783781496,
          -0.6246189782745026,
          -0.7893090952106213,
          -0.8019761606281169,
          -0.34188450701258155,
          0.2064110008773938,
          -0.9971364570902832,
          -0.3292945411660433,
          0.05477009067232422,
          -0.11520959342547085,
          0.1853468612173976,
          -0.269011089477523,
          -0.566312662036469,
          -0.41051966909983084,
          -0.951690771773699,
          -0.22518805812435272,
          -0.4768724418617315,
          -0.8648568723219766,
          -0.02201643623187613,
          -0.7796502624789852,
          -0.624829089264288,
          -0.27815723297692485,
          -0.4446332663906741,
          -0.9414082723478147,
          -0.7126028444846728,
          -0.2666344910952972,
          -0.24243222737464212,
          0.37224567696959815,
          -0.21118313336116537,
          0.11104481213620757,
          -0.3828748621670339,
          -0.7986030710289042,
          -0.9561517728068888,
          -0.1778529787268617,
          -0.08817821192275199,
          -0.4630907799856757,
          0.19765766158607573,
          0.49933941206964244,
          -0.41734902344065283,
          0.09373835743132194,
          -0.34258129027028944,
          -0.5306588448639689,
          -0.6722482267729153,
          -0.6463517999200469,
          -0.8615248654840437,
          0.02561425516216839,
          -0.6497753863713447,
          -0.3502119899668116,
          -0.5758479773083496,
          0.018266787560887794,
          -0.5300039584528597,
          -0.9534457295111473,
          -0.1362303073237674,
          -0.5800783232866278,
          -0.31875524216729195,
          0.24162534898179563,
          -0.06269012538418332,
          -0.14277449205055703,
          -0.15313247897816767,
          -0.6615111305444809,
          -0.11957595553486629,
          -0.5149382296773215,
          -0.9815114423456733,
          -0.38637786703968263,
          -0.01679988024153975,
          -0.214284403315774,
          -0.1601882527895771,
          0.3699137086384956,
          0.1421314470743159,
          0.44800151870939403,
          0.07698252452617081,
          -0.11665644041118202,
          -0.5016384937229936,
          -0.0870661515875627,
          -0.793771589853514,
          0.35165467866450323,
          0.11828079953422439,
          -0.11011120958165582,
          -0.2273138048992596,
          -0.11962363297572762,
          -0.24909212925411175,
          -0.3129370214969943,
          0.11654692294856993,
          0.009862657311145799,
          -0.21964591702905845,
          0.2213612160619288,
          0.5048694857648478,
          0.007064327445335797,
          0.14566469523022918,
          -0.27139310037602693,
          0.6592931426206625,
          -0.09012738233324825,
          -0.6034039250800595,
          0.32964620594998095,
          0.46575255520321246,
          -0.081214920241043,
          0.05048312203029335,
          0.31306708706816816,
          0.3679520311728,
          0.2630106070661107,
          -0.3229558816647757,
          -0.22777335568930562,
          -0.57385863654092,
          -0.04622811074273299,
          -0.4780430076285601,
          0.24490229378156275,
          -0.2491700340439208,
          0.2245536824552763,
          -0.1794380673050896,
          0.09819514252729164,
          0.5017671535823206,
          -0.014385793531097087,
          0.47972030506613605,
          0.1639562525676199,
          0.00973873159641055,
          0.22093123272761653,
          0.30337485714563067,
          -0.1062961291985864,
          0.09796345722634003,
          -0.4498464256751544,
          0.33678613808296065,
          0.3277910126599678,
          -0.6676561834069175,
          0.27991606878837544,
          -0.05623624597088691,
          -0.39548592449103526,
          0.21733150294005882,
          -0.003288858316177176,
          -0.8197735545410235,
          0.3405165138516638,
          0.24560460388327915,
          0.041812934422744016,
          -0.33373296600054614,
          -0.17100111696607417,
          -0.7304069477489896,
          0.2379126871524167,
          -0.3290504879135468,
          0.34373795239263305,
          0.4628592646806015,
          -0.45604139865294924,
          0.760215199051221,
          0.6312613703357386,
          0.49107238252605634,
          0.6487561448567175,
          0.1932872228393857,
          -0.339401448713624,
          0.6959857844158859,
          -0.18011370533419202,
          -0.0578025130411114,
          -0.4101902421530306,
          -0.009496200613375347,
          0.34469021130326405,
          -0.33912483755153355,
          0.7070760498402615,
          -0.23669844164513043,
          -0.6568849236378476,
          0.08240086183806038,
          -0.1037435159108336,
          -0.6739580555652986,
          0.02948677151484472,
          0.08157886295394241,
          -0.6621199280722291,
          -0.14426559908196132,
          -0.27416623973570936,
          -0.05293254784956778,
          0.4833133384313804,
          -0.21897105460403202,
          0.32794894177253947,
          0.672496793464815,
          -0.49137041959144734,
          0.5118430790840125,
          0.009567578382463469,
          0.17338986759373973,
          0.5281338632424466,
          0.2750332843310195,
          -0.15764758511913832,
          0.6033879548047243,
          0.4716370609404156,
          -0.32868864920889834,
          -0.05034844500451803,
          -0.11391762422838499,
          -0.4562815927687837,
          0.8078333209415706,
          -0.25731204474326236,
          0.17418529264001106,
          -0.31380726928060076,
          0.5997849465098717,
          -0.33144181725521304,
          -0.3793334958279597,
          -0.12777111205441546,
          0.13156850844990667,
          -0.5762668478450164,
          -0.29891222147036806,
          -0.17202127435671516,
          0.42494848830291587,
          0.5882998031648768,
          0.27694846229785336,
          0.47319567438627586,
          0.3837749551208455,
          -0.23755229318572102,
          0.261391644350375,
          -0.13116488183004232,
          0.09639009044444376,
          0.8972305196045937,
          0.7876972151966912,
          0.25702368724812225,
          0.5201091507899297,
          -0.22825487062941094,
          -0.3822139783452786,
          0.2725397603231451,
          -0.2555561627446309,
          -0.2937023565815094,
          0.5111034933921468,
          -0.2878768572406464,
          0.1403252401610829,
          -0.5627345160508196,
          0.4846339873445573,
          -0.022743969141689507,
          -0.592325709868898,
          0.22188976081729006,
          -0.5979568496550544,
          0.7510671933856583,
          -0.4085683136119532,
          -0.1561122111963087,
          0.23862953621886399,
          0.29007650104833493,
          -0.026722820064351182,
          0.3022916844973821,
          0.2249263564776824,
          -0.43407484052573125,
          -0.11237731573834343,
          -0.5614261431354,
          0.18264007178110658,
          0.7330911429638282,
          0.4638027897048287,
          -0.12661346215771305,
          0.1510979059867776,
          -0.28702877905914154,
          -0.2580116275008827,
          -0.0953787773276612,
          0.1727596546040052,
          -0.18033301408926145,
          0.5661355723004907,
          -0.3738517492849819,
          0.49733727445999726,
          -0.017409540617956958,
          0.6359975902650575,
          -0.2684281016242407,
          -0.3934032081483059,
          0.9836292310208901,
          -0.7647615936649053,
          0.6185604446427858,
          -0.027275925204379454,
          -0.1778847621235101,
          0.3861366937594072,
          0.2995499228732115,
          0.07778296646491183,
          -0.168609496067237,
          -0.1937822829079582,
          -0.26237882941708285,
          -0.17331793437494483,
          -0.4897260615174858,
          -0.00321107163640083,
          0.3756498944622869,
          0.5143783389096414,
          0.14997266459802058,
          -0.04736606969162557,
          -0.37747385357470215,
          0.009325739973407444,
          -0.3461161204837613,
          0.01778670329283309,
          0.15683485721190726,
          0.671702519882821,
          -0.46839333137157224,
          0.1757875574778489,
          -0.11328153858729338,
          0.449508690941519,
          -0.030592088035684792,
          -0.002836162184565682,
          -0.11521632760547926,
          0.7637076217311225,
          -0.16180505212680354,
          0.5722755395415833,
          0.07895596087197213,
          -0.3284743320387331,
          0.34024312226950265,
          0.031871496741248506,
          0.021921941448397538,
          -0.2521434789870861,
          -0.5532005595586106,
          0.00927393896323371,
          -0.3864470710974167,
          -0.6919484640394735,
          0.1732434140138451,
          0.22929744163425472,
          0.31378901425909106,
          -0.07105714861002514,
          -0.6882820937172585,
          0.565278684282269,
          0.2283659117645904,
          0.5005844627158801,
          0.3389518007974282,
          0.5728661232511008,
          -0.4493003943156936,
          0.17862402002148975,
          -0.0676563313950892,
          0.24234148185718865,
          0.10894494129392292,
          0.4914210184494104,
          0.12501141732106572,
          0.056121368079551114,
          -0.22487580168210358,
          0.40606267634868903,
          -0.12386398570978006,
          0.38044695719635624,
          0.4468416861489625,
          -0.14679243816743848,
          -0.12592570691285704,
          -0.26501251355786615,
          -0.44168808662595194,
          0.5932879354900672,
          -0.20468209285006866,
          -0.3799437020656447,
          0.651151584456008,
          0.055358225376701674,
          0.22503947777760452,
          0.20978795991726085,
          -0.3765469015820082,
          0.5509072960162618,
          1.0436217399117929,
          0.12373357474486064,
          -0.14074656254538526,
          0.48329099823685734,
          -0.49229780161606934,
          -0.08326669556199527,
          0.5974553097905266,
          -0.013313568846282348,
          -0.3940642091309412,
          0.19594009558702696,
          0.3351556916678051,
          0.41057451678950796,
          -0.1335928489396932,
          -0.14889380739110747,
          0.016972172702956263,
          0.5623061294418471,
          0.2970472916679437,
          -0.6490443237733025,
          0.015246973803791735,
          0.15416463447849138,
          -0.40580023022056105,
          0.6519593127455267,
          -0.21831412111082446,
          0.20664863366033295,
          -0.03463175426059126,
          0.6841019934633388,
          -0.040816057695353396,
          0.7029632883270122,
          0.11366237268186721,
          0.6116815558930813,
          0.8516820909973216,
          0.37461827541352816,
          -0.058620606925788764,
          0.41992145813522264,
          -0.3811940950878926,
          0.01424355209742138,
          -0.002855421261759609,
          -0.1323909234200281,
          -0.10101049576467501,
          0.06079604495717971,
          0.6295676166685102,
          0.11599527866596204,
          0.24769431778156087,
          -0.18559224099281393,
          0.28423399776383945,
          0.4258682362116302,
          0.3294485566100856,
          -0.6449260028666887,
          0.2508293221099886,
          0.11377387705107089,
          -0.16414203166354532,
          1.0544401135161983,
          0.2798988712468033,
          -0.09563951586232398,
          0.2655864890841846,
          0.2375001957020725,
          0.5389344252410423,
          0.3291625107571085,
          -0.3430285163878855,
          0.3060628148544196,
          1.0256095305283095,
          0.8346683513359748,
          0.2683077304471247,
          0.3632309735691393,
          -0.7899960841155143,
          -0.11398890201334498,
          0.06532831153602212,
          0.22508421029564815,
          0.2086201036601646,
          0.03694113588369115,
          0.9124652746327827,
          0.2424723693493946,
          0.10714203347054474,
          0.12881799675674144,
          0.4738262966844961,
          0.1882243583292852,
          0.37109714152219586,
          -0.7699775507700299,
          0.022034184183971104,
          0.1796252806371839,
          -0.0941841757622627,
          0.8252038035340015,
          0.14318960876989575,
          0.20975763676935497,
          0.037425877432128205,
          0.16521994147901978,
          0.40350604979574783,
          0.4671360324903585,
          0.24293973606017905,
          0.6819343857413633,
          0.6122912502099891,
          0.8009462651893317,
          0.3679153470928064,
          0.4273824615953489,
          -0.47605809808695176,
          0.03750153553085994,
          -0.16399885958351706,
          0.0714211290182588,
          0.7058667266167327,
          0.006907769806032769,
          0.6728361796345825,
          0.35532590032947226,
          0.8050223324244545,
          0.22978710166266395,
          0.629045967592315,
          0.10232935847106804,
          0.32460030363695336,
          -0.4467704325181562,
          -0.10809525268997303,
          0.1550881161275112,
          0.3215985049507705,
          0.465831727383843,
          0.673566950852164,
          0.2255114617673919,
          0.13750967633064756,
          0.026623295822585616,
          0.09029205198431202,
          0.4580240107429233,
          0.11857916257475067,
          0.6244274227947257,
          -0.16021845735959284,
          1.038846034122734,
          0.22351992495137044,
          0.714752190410328,
          -0.06828971619368003,
          -0.20551044981161656,
          -0.048895079239241614,
          0.10607469485504034,
          0.8413262756100132,
          -0.0007320610363853147,
          0.48506941783370977,
          0.5124165539224358,
          0.9322320351742259,
          1.0872565260170783,
          0.5194683801645933,
          -0.08129233616497743,
          0.4581382946007445,
          -0.2706571400016992,
          0.262451365378806,
          -0.06280910938168852,
          0.2836562701478877,
          0.48210447019360286,
          0.3779884853262477,
          0.29573389822890733,
          -0.14002905136317464,
          0.42876066926687995,
          0.43854639450060307,
          1.0910677545665732,
          0.2984037213493914,
          0.20809210318038165,
          -0.023806137469171512,
          0.9309409731601481,
          0.10190542234209188,
          0.48903100946189776,
          0.09137900093990088,
          -0.08048864941899328,
          -0.09896634298450412,
          0.5398170452394615,
          0.9863792059604771,
          0.004323644069250472,
          0.47339149830528815,
          0.6985816880521869,
          0.6808187744575719,
          0.9084806735909822,
          0.14632522933955178,
          -0.00925585116563314,
          0.5606195458758361,
          0.7837268564275479,
          0.48875515334607733,
          0.05109572405252462,
          0.0008869923207260088,
          -0.19183107113983583,
          0.34615604016617274,
          -0.013340625718101028,
          -0.17603222826564824,
          0.8103151705904846,
          0.4776683127724892,
          0.7301699592307904,
          0.1838718163072474,
          0.3357404469958983,
          0.0028135132198117145,
          0.26709447449528734,
          0.6112611421030589,
          0.5221275828263144,
          0.3271259391086285,
          -0.061370451944057366,
          0.21129485773032436,
          0.7193961870658152
         ],
         "yaxis": "y"
        }
       ],
       "layout": {
        "coloraxis": {
         "colorbar": {
          "title": {
           "text": "WIN%"
          }
         },
         "colorscale": [
          [
           0,
           "#0d0887"
          ],
          [
           0.1111111111111111,
           "#46039f"
          ],
          [
           0.2222222222222222,
           "#7201a8"
          ],
          [
           0.3333333333333333,
           "#9c179e"
          ],
          [
           0.4444444444444444,
           "#bd3786"
          ],
          [
           0.5555555555555556,
           "#d8576b"
          ],
          [
           0.6666666666666666,
           "#ed7953"
          ],
          [
           0.7777777777777778,
           "#fb9f3a"
          ],
          [
           0.8888888888888888,
           "#fdca26"
          ],
          [
           1,
           "#f0f921"
          ]
         ]
        },
        "legend": {
         "tracegroupgap": 0
        },
        "margin": {
         "t": 60
        },
        "template": {
         "data": {
          "bar": [
           {
            "error_x": {
             "color": "#2a3f5f"
            },
            "error_y": {
             "color": "#2a3f5f"
            },
            "marker": {
             "line": {
              "color": "#E5ECF6",
              "width": 0.5
             },
             "pattern": {
              "fillmode": "overlay",
              "size": 10,
              "solidity": 0.2
             }
            },
            "type": "bar"
           }
          ],
          "barpolar": [
           {
            "marker": {
             "line": {
              "color": "#E5ECF6",
              "width": 0.5
             },
             "pattern": {
              "fillmode": "overlay",
              "size": 10,
              "solidity": 0.2
             }
            },
            "type": "barpolar"
           }
          ],
          "carpet": [
           {
            "aaxis": {
             "endlinecolor": "#2a3f5f",
             "gridcolor": "white",
             "linecolor": "white",
             "minorgridcolor": "white",
             "startlinecolor": "#2a3f5f"
            },
            "baxis": {
             "endlinecolor": "#2a3f5f",
             "gridcolor": "white",
             "linecolor": "white",
             "minorgridcolor": "white",
             "startlinecolor": "#2a3f5f"
            },
            "type": "carpet"
           }
          ],
          "choropleth": [
           {
            "colorbar": {
             "outlinewidth": 0,
             "ticks": ""
            },
            "type": "choropleth"
           }
          ],
          "contour": [
           {
            "colorbar": {
             "outlinewidth": 0,
             "ticks": ""
            },
            "colorscale": [
             [
              0,
              "#0d0887"
             ],
             [
              0.1111111111111111,
              "#46039f"
             ],
             [
              0.2222222222222222,
              "#7201a8"
             ],
             [
              0.3333333333333333,
              "#9c179e"
             ],
             [
              0.4444444444444444,
              "#bd3786"
             ],
             [
              0.5555555555555556,
              "#d8576b"
             ],
             [
              0.6666666666666666,
              "#ed7953"
             ],
             [
              0.7777777777777778,
              "#fb9f3a"
             ],
             [
              0.8888888888888888,
              "#fdca26"
             ],
             [
              1,
              "#f0f921"
             ]
            ],
            "type": "contour"
           }
          ],
          "contourcarpet": [
           {
            "colorbar": {
             "outlinewidth": 0,
             "ticks": ""
            },
            "type": "contourcarpet"
           }
          ],
          "heatmap": [
           {
            "colorbar": {
             "outlinewidth": 0,
             "ticks": ""
            },
            "colorscale": [
             [
              0,
              "#0d0887"
             ],
             [
              0.1111111111111111,
              "#46039f"
             ],
             [
              0.2222222222222222,
              "#7201a8"
             ],
             [
              0.3333333333333333,
              "#9c179e"
             ],
             [
              0.4444444444444444,
              "#bd3786"
             ],
             [
              0.5555555555555556,
              "#d8576b"
             ],
             [
              0.6666666666666666,
              "#ed7953"
             ],
             [
              0.7777777777777778,
              "#fb9f3a"
             ],
             [
              0.8888888888888888,
              "#fdca26"
             ],
             [
              1,
              "#f0f921"
             ]
            ],
            "type": "heatmap"
           }
          ],
          "heatmapgl": [
           {
            "colorbar": {
             "outlinewidth": 0,
             "ticks": ""
            },
            "colorscale": [
             [
              0,
              "#0d0887"
             ],
             [
              0.1111111111111111,
              "#46039f"
             ],
             [
              0.2222222222222222,
              "#7201a8"
             ],
             [
              0.3333333333333333,
              "#9c179e"
             ],
             [
              0.4444444444444444,
              "#bd3786"
             ],
             [
              0.5555555555555556,
              "#d8576b"
             ],
             [
              0.6666666666666666,
              "#ed7953"
             ],
             [
              0.7777777777777778,
              "#fb9f3a"
             ],
             [
              0.8888888888888888,
              "#fdca26"
             ],
             [
              1,
              "#f0f921"
             ]
            ],
            "type": "heatmapgl"
           }
          ],
          "histogram": [
           {
            "marker": {
             "pattern": {
              "fillmode": "overlay",
              "size": 10,
              "solidity": 0.2
             }
            },
            "type": "histogram"
           }
          ],
          "histogram2d": [
           {
            "colorbar": {
             "outlinewidth": 0,
             "ticks": ""
            },
            "colorscale": [
             [
              0,
              "#0d0887"
             ],
             [
              0.1111111111111111,
              "#46039f"
             ],
             [
              0.2222222222222222,
              "#7201a8"
             ],
             [
              0.3333333333333333,
              "#9c179e"
             ],
             [
              0.4444444444444444,
              "#bd3786"
             ],
             [
              0.5555555555555556,
              "#d8576b"
             ],
             [
              0.6666666666666666,
              "#ed7953"
             ],
             [
              0.7777777777777778,
              "#fb9f3a"
             ],
             [
              0.8888888888888888,
              "#fdca26"
             ],
             [
              1,
              "#f0f921"
             ]
            ],
            "type": "histogram2d"
           }
          ],
          "histogram2dcontour": [
           {
            "colorbar": {
             "outlinewidth": 0,
             "ticks": ""
            },
            "colorscale": [
             [
              0,
              "#0d0887"
             ],
             [
              0.1111111111111111,
              "#46039f"
             ],
             [
              0.2222222222222222,
              "#7201a8"
             ],
             [
              0.3333333333333333,
              "#9c179e"
             ],
             [
              0.4444444444444444,
              "#bd3786"
             ],
             [
              0.5555555555555556,
              "#d8576b"
             ],
             [
              0.6666666666666666,
              "#ed7953"
             ],
             [
              0.7777777777777778,
              "#fb9f3a"
             ],
             [
              0.8888888888888888,
              "#fdca26"
             ],
             [
              1,
              "#f0f921"
             ]
            ],
            "type": "histogram2dcontour"
           }
          ],
          "mesh3d": [
           {
            "colorbar": {
             "outlinewidth": 0,
             "ticks": ""
            },
            "type": "mesh3d"
           }
          ],
          "parcoords": [
           {
            "line": {
             "colorbar": {
              "outlinewidth": 0,
              "ticks": ""
             }
            },
            "type": "parcoords"
           }
          ],
          "pie": [
           {
            "automargin": true,
            "type": "pie"
           }
          ],
          "scatter": [
           {
            "marker": {
             "colorbar": {
              "outlinewidth": 0,
              "ticks": ""
             }
            },
            "type": "scatter"
           }
          ],
          "scatter3d": [
           {
            "line": {
             "colorbar": {
              "outlinewidth": 0,
              "ticks": ""
             }
            },
            "marker": {
             "colorbar": {
              "outlinewidth": 0,
              "ticks": ""
             }
            },
            "type": "scatter3d"
           }
          ],
          "scattercarpet": [
           {
            "marker": {
             "colorbar": {
              "outlinewidth": 0,
              "ticks": ""
             }
            },
            "type": "scattercarpet"
           }
          ],
          "scattergeo": [
           {
            "marker": {
             "colorbar": {
              "outlinewidth": 0,
              "ticks": ""
             }
            },
            "type": "scattergeo"
           }
          ],
          "scattergl": [
           {
            "marker": {
             "colorbar": {
              "outlinewidth": 0,
              "ticks": ""
             }
            },
            "type": "scattergl"
           }
          ],
          "scattermapbox": [
           {
            "marker": {
             "colorbar": {
              "outlinewidth": 0,
              "ticks": ""
             }
            },
            "type": "scattermapbox"
           }
          ],
          "scatterpolar": [
           {
            "marker": {
             "colorbar": {
              "outlinewidth": 0,
              "ticks": ""
             }
            },
            "type": "scatterpolar"
           }
          ],
          "scatterpolargl": [
           {
            "marker": {
             "colorbar": {
              "outlinewidth": 0,
              "ticks": ""
             }
            },
            "type": "scatterpolargl"
           }
          ],
          "scatterternary": [
           {
            "marker": {
             "colorbar": {
              "outlinewidth": 0,
              "ticks": ""
             }
            },
            "type": "scatterternary"
           }
          ],
          "surface": [
           {
            "colorbar": {
             "outlinewidth": 0,
             "ticks": ""
            },
            "colorscale": [
             [
              0,
              "#0d0887"
             ],
             [
              0.1111111111111111,
              "#46039f"
             ],
             [
              0.2222222222222222,
              "#7201a8"
             ],
             [
              0.3333333333333333,
              "#9c179e"
             ],
             [
              0.4444444444444444,
              "#bd3786"
             ],
             [
              0.5555555555555556,
              "#d8576b"
             ],
             [
              0.6666666666666666,
              "#ed7953"
             ],
             [
              0.7777777777777778,
              "#fb9f3a"
             ],
             [
              0.8888888888888888,
              "#fdca26"
             ],
             [
              1,
              "#f0f921"
             ]
            ],
            "type": "surface"
           }
          ],
          "table": [
           {
            "cells": {
             "fill": {
              "color": "#EBF0F8"
             },
             "line": {
              "color": "white"
             }
            },
            "header": {
             "fill": {
              "color": "#C8D4E3"
             },
             "line": {
              "color": "white"
             }
            },
            "type": "table"
           }
          ]
         },
         "layout": {
          "annotationdefaults": {
           "arrowcolor": "#2a3f5f",
           "arrowhead": 0,
           "arrowwidth": 1
          },
          "autotypenumbers": "strict",
          "coloraxis": {
           "colorbar": {
            "outlinewidth": 0,
            "ticks": ""
           }
          },
          "colorscale": {
           "diverging": [
            [
             0,
             "#8e0152"
            ],
            [
             0.1,
             "#c51b7d"
            ],
            [
             0.2,
             "#de77ae"
            ],
            [
             0.3,
             "#f1b6da"
            ],
            [
             0.4,
             "#fde0ef"
            ],
            [
             0.5,
             "#f7f7f7"
            ],
            [
             0.6,
             "#e6f5d0"
            ],
            [
             0.7,
             "#b8e186"
            ],
            [
             0.8,
             "#7fbc41"
            ],
            [
             0.9,
             "#4d9221"
            ],
            [
             1,
             "#276419"
            ]
           ],
           "sequential": [
            [
             0,
             "#0d0887"
            ],
            [
             0.1111111111111111,
             "#46039f"
            ],
            [
             0.2222222222222222,
             "#7201a8"
            ],
            [
             0.3333333333333333,
             "#9c179e"
            ],
            [
             0.4444444444444444,
             "#bd3786"
            ],
            [
             0.5555555555555556,
             "#d8576b"
            ],
            [
             0.6666666666666666,
             "#ed7953"
            ],
            [
             0.7777777777777778,
             "#fb9f3a"
            ],
            [
             0.8888888888888888,
             "#fdca26"
            ],
            [
             1,
             "#f0f921"
            ]
           ],
           "sequentialminus": [
            [
             0,
             "#0d0887"
            ],
            [
             0.1111111111111111,
             "#46039f"
            ],
            [
             0.2222222222222222,
             "#7201a8"
            ],
            [
             0.3333333333333333,
             "#9c179e"
            ],
            [
             0.4444444444444444,
             "#bd3786"
            ],
            [
             0.5555555555555556,
             "#d8576b"
            ],
            [
             0.6666666666666666,
             "#ed7953"
            ],
            [
             0.7777777777777778,
             "#fb9f3a"
            ],
            [
             0.8888888888888888,
             "#fdca26"
            ],
            [
             1,
             "#f0f921"
            ]
           ]
          },
          "colorway": [
           "#636efa",
           "#EF553B",
           "#00cc96",
           "#ab63fa",
           "#FFA15A",
           "#19d3f3",
           "#FF6692",
           "#B6E880",
           "#FF97FF",
           "#FECB52"
          ],
          "font": {
           "color": "#2a3f5f"
          },
          "geo": {
           "bgcolor": "white",
           "lakecolor": "white",
           "landcolor": "#E5ECF6",
           "showlakes": true,
           "showland": true,
           "subunitcolor": "white"
          },
          "hoverlabel": {
           "align": "left"
          },
          "hovermode": "closest",
          "mapbox": {
           "style": "light"
          },
          "paper_bgcolor": "white",
          "plot_bgcolor": "#E5ECF6",
          "polar": {
           "angularaxis": {
            "gridcolor": "white",
            "linecolor": "white",
            "ticks": ""
           },
           "bgcolor": "#E5ECF6",
           "radialaxis": {
            "gridcolor": "white",
            "linecolor": "white",
            "ticks": ""
           }
          },
          "scene": {
           "xaxis": {
            "backgroundcolor": "#E5ECF6",
            "gridcolor": "white",
            "gridwidth": 2,
            "linecolor": "white",
            "showbackground": true,
            "ticks": "",
            "zerolinecolor": "white"
           },
           "yaxis": {
            "backgroundcolor": "#E5ECF6",
            "gridcolor": "white",
            "gridwidth": 2,
            "linecolor": "white",
            "showbackground": true,
            "ticks": "",
            "zerolinecolor": "white"
           },
           "zaxis": {
            "backgroundcolor": "#E5ECF6",
            "gridcolor": "white",
            "gridwidth": 2,
            "linecolor": "white",
            "showbackground": true,
            "ticks": "",
            "zerolinecolor": "white"
           }
          },
          "shapedefaults": {
           "line": {
            "color": "#2a3f5f"
           }
          },
          "ternary": {
           "aaxis": {
            "gridcolor": "white",
            "linecolor": "white",
            "ticks": ""
           },
           "baxis": {
            "gridcolor": "white",
            "linecolor": "white",
            "ticks": ""
           },
           "bgcolor": "#E5ECF6",
           "caxis": {
            "gridcolor": "white",
            "linecolor": "white",
            "ticks": ""
           }
          },
          "title": {
           "x": 0.05
          },
          "xaxis": {
           "automargin": true,
           "gridcolor": "white",
           "linecolor": "white",
           "ticks": "",
           "title": {
            "standoff": 15
           },
           "zerolinecolor": "white",
           "zerolinewidth": 2
          },
          "yaxis": {
           "automargin": true,
           "gridcolor": "white",
           "linecolor": "white",
           "ticks": "",
           "title": {
            "standoff": 15
           },
           "zerolinecolor": "white",
           "zerolinewidth": 2
          }
         }
        },
        "xaxis": {
         "anchor": "y",
         "domain": [
          0,
          1
         ],
         "title": {
          "text": "PC1"
         }
        },
        "yaxis": {
         "anchor": "x",
         "domain": [
          0,
          1
         ],
         "title": {
          "text": "PC2"
         }
        }
       }
      },
      "text/html": [
       "<div>                            <div id=\"a6b2f4ff-6a97-468e-a972-920e61633a02\" class=\"plotly-graph-div\" style=\"height:525px; width:100%;\"></div>            <script type=\"text/javascript\">                require([\"plotly\"], function(Plotly) {                    window.PLOTLYENV=window.PLOTLYENV || {};                                    if (document.getElementById(\"a6b2f4ff-6a97-468e-a972-920e61633a02\")) {                    Plotly.newPlot(                        \"a6b2f4ff-6a97-468e-a972-920e61633a02\",                        [{\"customdata\":[[0.341,\"Atlanta Hawks 1999-00\"],[0.427,\"Boston Celtics 1999-00\"],[0.598,\"Charlotte Hornets 1999-00\"],[0.207,\"Chicago Bulls 1999-00\"],[0.39,\"Cleveland Cavaliers 1999-00\"],[0.488,\"Dallas Mavericks 1999-00\"],[0.427,\"Denver Nuggets 1999-00\"],[0.512,\"Detroit Pistons 1999-00\"],[0.232,\"Golden State Warriors 1999-00\"],[0.415,\"Houston Rockets 1999-00\"],[0.683,\"Indiana Pacers 1999-00\"],[0.183,\"Los Angeles Clippers 1999-00\"],[0.817,\"Los Angeles Lakers 1999-00\"],[0.634,\"Miami Heat 1999-00\"],[0.512,\"Milwaukee Bucks 1999-00\"],[0.61,\"Minnesota Timberwolves 1999-00\"],[0.378,\"New Jersey Nets 1999-00\"],[0.61,\"New York Knicks 1999-00\"],[0.5,\"Orlando Magic 1999-00\"],[0.598,\"Philadelphia 76ers 1999-00\"],[0.646,\"Phoenix Suns 1999-00\"],[0.72,\"Portland Trail Blazers 1999-00\"],[0.537,\"Sacramento Kings 1999-00\"],[0.646,\"San Antonio Spurs 1999-00\"],[0.549,\"Seattle SuperSonics 1999-00\"],[0.549,\"Toronto Raptors 1999-00\"],[0.671,\"Utah Jazz 1999-00\"],[0.268,\"Vancouver Grizzlies 1999-00\"],[0.354,\"Washington Wizards 1999-00\"],[0.305,\"Atlanta Hawks 2000-01\"],[0.439,\"Boston Celtics 2000-01\"],[0.561,\"Charlotte Hornets 2000-01\"],[0.183,\"Chicago Bulls 2000-01\"],[0.366,\"Cleveland Cavaliers 2000-01\"],[0.646,\"Dallas Mavericks 2000-01\"],[0.488,\"Denver Nuggets 2000-01\"],[0.39,\"Detroit Pistons 2000-01\"],[0.207,\"Golden State Warriors 2000-01\"],[0.549,\"Houston Rockets 2000-01\"],[0.5,\"Indiana Pacers 2000-01\"],[0.378,\"Los Angeles Clippers 2000-01\"],[0.683,\"Los Angeles Lakers 2000-01\"],[0.61,\"Miami Heat 2000-01\"],[0.634,\"Milwaukee Bucks 2000-01\"],[0.573,\"Minnesota Timberwolves 2000-01\"],[0.317,\"New Jersey Nets 2000-01\"],[0.585,\"New York Knicks 2000-01\"],[0.524,\"Orlando Magic 2000-01\"],[0.683,\"Philadelphia 76ers 2000-01\"],[0.622,\"Phoenix Suns 2000-01\"],[0.61,\"Portland Trail Blazers 2000-01\"],[0.671,\"Sacramento Kings 2000-01\"],[0.707,\"San Antonio Spurs 2000-01\"],[0.537,\"Seattle SuperSonics 2000-01\"],[0.573,\"Toronto Raptors 2000-01\"],[0.646,\"Utah Jazz 2000-01\"],[0.28,\"Vancouver Grizzlies 2000-01\"],[0.232,\"Washington Wizards 2000-01\"],[0.402,\"Atlanta Hawks 2001-02\"],[0.598,\"Boston Celtics 2001-02\"],[0.537,\"Charlotte Hornets 2001-02\"],[0.256,\"Chicago Bulls 2001-02\"],[0.354,\"Cleveland Cavaliers 2001-02\"],[0.695,\"Dallas Mavericks 2001-02\"],[0.329,\"Denver Nuggets 2001-02\"],[0.61,\"Detroit Pistons 2001-02\"],[0.256,\"Golden State Warriors 2001-02\"],[0.341,\"Houston Rockets 2001-02\"],[0.512,\"Indiana Pacers 2001-02\"],[0.476,\"Los Angeles Clippers 2001-02\"],[0.707,\"Los Angeles Lakers 2001-02\"],[0.28,\"Memphis Grizzlies 2001-02\"],[0.439,\"Miami Heat 2001-02\"],[0.5,\"Milwaukee Bucks 2001-02\"],[0.61,\"Minnesota Timberwolves 2001-02\"],[0.634,\"New Jersey Nets 2001-02\"],[0.366,\"New York Knicks 2001-02\"],[0.537,\"Orlando Magic 2001-02\"],[0.524,\"Philadelphia 76ers 2001-02\"],[0.439,\"Phoenix Suns 2001-02\"],[0.598,\"Portland Trail Blazers 2001-02\"],[0.744,\"Sacramento Kings 2001-02\"],[0.707,\"San Antonio Spurs 2001-02\"],[0.549,\"Seattle SuperSonics 2001-02\"],[0.512,\"Toronto Raptors 2001-02\"],[0.537,\"Utah Jazz 2001-02\"],[0.451,\"Washington Wizards 2001-02\"],[0.427,\"Atlanta Hawks 2002-03\"],[0.537,\"Boston Celtics 2002-03\"],[0.366,\"Chicago Bulls 2002-03\"],[0.207,\"Cleveland Cavaliers 2002-03\"],[0.732,\"Dallas Mavericks 2002-03\"],[0.207,\"Denver Nuggets 2002-03\"],[0.61,\"Detroit Pistons 2002-03\"],[0.463,\"Golden State Warriors 2002-03\"],[0.524,\"Houston Rockets 2002-03\"],[0.585,\"Indiana Pacers 2002-03\"],[0.329,\"Los Angeles Clippers 2002-03\"],[0.61,\"Los Angeles Lakers 2002-03\"],[0.341,\"Memphis Grizzlies 2002-03\"],[0.305,\"Miami Heat 2002-03\"],[0.512,\"Milwaukee Bucks 2002-03\"],[0.622,\"Minnesota Timberwolves 2002-03\"],[0.598,\"New Jersey Nets 2002-03\"],[0.573,\"New Orleans Hornets 2002-03\"],[0.451,\"New York Knicks 2002-03\"],[0.512,\"Orlando Magic 2002-03\"],[0.585,\"Philadelphia 76ers 2002-03\"],[0.537,\"Phoenix Suns 2002-03\"],[0.61,\"Portland Trail Blazers 2002-03\"],[0.72,\"Sacramento Kings 2002-03\"],[0.732,\"San Antonio Spurs 2002-03\"],[0.488,\"Seattle SuperSonics 2002-03\"],[0.293,\"Toronto Raptors 2002-03\"],[0.573,\"Utah Jazz 2002-03\"],[0.451,\"Washington Wizards 2002-03\"],[0.341,\"Atlanta Hawks 2003-04\"],[0.439,\"Boston Celtics 2003-04\"],[0.28,\"Chicago Bulls 2003-04\"],[0.427,\"Cleveland Cavaliers 2003-04\"],[0.634,\"Dallas Mavericks 2003-04\"],[0.524,\"Denver Nuggets 2003-04\"],[0.659,\"Detroit Pistons 2003-04\"],[0.451,\"Golden State Warriors 2003-04\"],[0.549,\"Houston Rockets 2003-04\"],[0.744,\"Indiana Pacers 2003-04\"],[0.341,\"Los Angeles Clippers 2003-04\"],[0.683,\"Los Angeles Lakers 2003-04\"],[0.61,\"Memphis Grizzlies 2003-04\"],[0.512,\"Miami Heat 2003-04\"],[0.5,\"Milwaukee Bucks 2003-04\"],[0.707,\"Minnesota Timberwolves 2003-04\"],[0.573,\"New Jersey Nets 2003-04\"],[0.5,\"New Orleans Hornets 2003-04\"],[0.476,\"New York Knicks 2003-04\"],[0.256,\"Orlando Magic 2003-04\"],[0.402,\"Philadelphia 76ers 2003-04\"],[0.354,\"Phoenix Suns 2003-04\"],[0.5,\"Portland Trail Blazers 2003-04\"],[0.671,\"Sacramento Kings 2003-04\"],[0.695,\"San Antonio Spurs 2003-04\"],[0.451,\"Seattle SuperSonics 2003-04\"],[0.402,\"Toronto Raptors 2003-04\"],[0.512,\"Utah Jazz 2003-04\"],[0.305,\"Washington Wizards 2003-04\"],[0.159,\"Atlanta Hawks 2004-05\"],[0.549,\"Boston Celtics 2004-05\"],[0.22,\"Charlotte Bobcats 2004-05\"],[0.573,\"Chicago Bulls 2004-05\"],[0.512,\"Cleveland Cavaliers 2004-05\"],[0.707,\"Dallas Mavericks 2004-05\"],[0.598,\"Denver Nuggets 2004-05\"],[0.659,\"Detroit Pistons 2004-05\"],[0.415,\"Golden State Warriors 2004-05\"],[0.622,\"Houston Rockets 2004-05\"],[0.537,\"Indiana Pacers 2004-05\"],[0.451,\"Los Angeles Clippers 2004-05\"],[0.415,\"Los Angeles Lakers 2004-05\"],[0.549,\"Memphis Grizzlies 2004-05\"],[0.72,\"Miami Heat 2004-05\"],[0.366,\"Milwaukee Bucks 2004-05\"],[0.537,\"Minnesota Timberwolves 2004-05\"],[0.512,\"New Jersey Nets 2004-05\"],[0.22,\"New Orleans Hornets 2004-05\"],[0.402,\"New York Knicks 2004-05\"],[0.439,\"Orlando Magic 2004-05\"],[0.524,\"Philadelphia 76ers 2004-05\"],[0.756,\"Phoenix Suns 2004-05\"],[0.329,\"Portland Trail Blazers 2004-05\"],[0.61,\"Sacramento Kings 2004-05\"],[0.72,\"San Antonio Spurs 2004-05\"],[0.634,\"Seattle SuperSonics 2004-05\"],[0.402,\"Toronto Raptors 2004-05\"],[0.317,\"Utah Jazz 2004-05\"],[0.549,\"Washington Wizards 2004-05\"],[0.317,\"Atlanta Hawks 2005-06\"],[0.402,\"Boston Celtics 2005-06\"],[0.317,\"Charlotte Bobcats 2005-06\"],[0.5,\"Chicago Bulls 2005-06\"],[0.61,\"Cleveland Cavaliers 2005-06\"],[0.732,\"Dallas Mavericks 2005-06\"],[0.537,\"Denver Nuggets 2005-06\"],[0.78,\"Detroit Pistons 2005-06\"],[0.415,\"Golden State Warriors 2005-06\"],[0.415,\"Houston Rockets 2005-06\"],[0.5,\"Indiana Pacers 2005-06\"],[0.573,\"Los Angeles Clippers 2005-06\"],[0.549,\"Los Angeles Lakers 2005-06\"],[0.598,\"Memphis Grizzlies 2005-06\"],[0.634,\"Miami Heat 2005-06\"],[0.488,\"Milwaukee Bucks 2005-06\"],[0.402,\"Minnesota Timberwolves 2005-06\"],[0.598,\"New Jersey Nets 2005-06\"],[0.463,\"New Orleans/Oklahoma City Hornets 2005-06\"],[0.28,\"New York Knicks 2005-06\"],[0.439,\"Orlando Magic 2005-06\"],[0.463,\"Philadelphia 76ers 2005-06\"],[0.659,\"Phoenix Suns 2005-06\"],[0.256,\"Portland Trail Blazers 2005-06\"],[0.537,\"Sacramento Kings 2005-06\"],[0.768,\"San Antonio Spurs 2005-06\"],[0.427,\"Seattle SuperSonics 2005-06\"],[0.329,\"Toronto Raptors 2005-06\"],[0.5,\"Utah Jazz 2005-06\"],[0.512,\"Washington Wizards 2005-06\"],[0.366,\"Atlanta Hawks 2006-07\"],[0.293,\"Boston Celtics 2006-07\"],[0.402,\"Charlotte Bobcats 2006-07\"],[0.598,\"Chicago Bulls 2006-07\"],[0.61,\"Cleveland Cavaliers 2006-07\"],[0.817,\"Dallas Mavericks 2006-07\"],[0.549,\"Denver Nuggets 2006-07\"],[0.646,\"Detroit Pistons 2006-07\"],[0.512,\"Golden State Warriors 2006-07\"],[0.634,\"Houston Rockets 2006-07\"],[0.427,\"Indiana Pacers 2006-07\"],[0.488,\"Los Angeles Clippers 2006-07\"],[0.512,\"Los Angeles Lakers 2006-07\"],[0.268,\"Memphis Grizzlies 2006-07\"],[0.537,\"Miami Heat 2006-07\"],[0.341,\"Milwaukee Bucks 2006-07\"],[0.39,\"Minnesota Timberwolves 2006-07\"],[0.5,\"New Jersey Nets 2006-07\"],[0.476,\"New Orleans/Oklahoma City Hornets 2006-07\"],[0.402,\"New York Knicks 2006-07\"],[0.488,\"Orlando Magic 2006-07\"],[0.427,\"Philadelphia 76ers 2006-07\"],[0.744,\"Phoenix Suns 2006-07\"],[0.39,\"Portland Trail Blazers 2006-07\"],[0.402,\"Sacramento Kings 2006-07\"],[0.707,\"San Antonio Spurs 2006-07\"],[0.378,\"Seattle SuperSonics 2006-07\"],[0.573,\"Toronto Raptors 2006-07\"],[0.622,\"Utah Jazz 2006-07\"],[0.5,\"Washington Wizards 2006-07\"],[0.451,\"Atlanta Hawks 2007-08\"],[0.805,\"Boston Celtics 2007-08\"],[0.39,\"Charlotte Bobcats 2007-08\"],[0.402,\"Chicago Bulls 2007-08\"],[0.549,\"Cleveland Cavaliers 2007-08\"],[0.622,\"Dallas Mavericks 2007-08\"],[0.61,\"Denver Nuggets 2007-08\"],[0.72,\"Detroit Pistons 2007-08\"],[0.585,\"Golden State Warriors 2007-08\"],[0.671,\"Houston Rockets 2007-08\"],[0.439,\"Indiana Pacers 2007-08\"],[0.28,\"Los Angeles Clippers 2007-08\"],[0.695,\"Los Angeles Lakers 2007-08\"],[0.268,\"Memphis Grizzlies 2007-08\"],[0.183,\"Miami Heat 2007-08\"],[0.317,\"Milwaukee Bucks 2007-08\"],[0.268,\"Minnesota Timberwolves 2007-08\"],[0.415,\"New Jersey Nets 2007-08\"],[0.683,\"New Orleans Hornets 2007-08\"],[0.28,\"New York Knicks 2007-08\"],[0.634,\"Orlando Magic 2007-08\"],[0.488,\"Philadelphia 76ers 2007-08\"],[0.671,\"Phoenix Suns 2007-08\"],[0.5,\"Portland Trail Blazers 2007-08\"],[0.463,\"Sacramento Kings 2007-08\"],[0.683,\"San Antonio Spurs 2007-08\"],[0.244,\"Seattle SuperSonics 2007-08\"],[0.5,\"Toronto Raptors 2007-08\"],[0.659,\"Utah Jazz 2007-08\"],[0.524,\"Washington Wizards 2007-08\"],[0.573,\"Atlanta Hawks 2008-09\"],[0.756,\"Boston Celtics 2008-09\"],[0.427,\"Charlotte Bobcats 2008-09\"],[0.5,\"Chicago Bulls 2008-09\"],[0.805,\"Cleveland Cavaliers 2008-09\"],[0.61,\"Dallas Mavericks 2008-09\"],[0.659,\"Denver Nuggets 2008-09\"],[0.476,\"Detroit Pistons 2008-09\"],[0.354,\"Golden State Warriors 2008-09\"],[0.646,\"Houston Rockets 2008-09\"],[0.439,\"Indiana Pacers 2008-09\"],[0.232,\"Los Angeles Clippers 2008-09\"],[0.793,\"Los Angeles Lakers 2008-09\"],[0.293,\"Memphis Grizzlies 2008-09\"],[0.524,\"Miami Heat 2008-09\"],[0.415,\"Milwaukee Bucks 2008-09\"],[0.293,\"Minnesota Timberwolves 2008-09\"],[0.415,\"New Jersey Nets 2008-09\"],[0.598,\"New Orleans Hornets 2008-09\"],[0.39,\"New York Knicks 2008-09\"],[0.28,\"Oklahoma City Thunder 2008-09\"],[0.72,\"Orlando Magic 2008-09\"],[0.5,\"Philadelphia 76ers 2008-09\"],[0.561,\"Phoenix Suns 2008-09\"],[0.659,\"Portland Trail Blazers 2008-09\"],[0.207,\"Sacramento Kings 2008-09\"],[0.659,\"San Antonio Spurs 2008-09\"],[0.402,\"Toronto Raptors 2008-09\"],[0.585,\"Utah Jazz 2008-09\"],[0.232,\"Washington Wizards 2008-09\"],[0.646,\"Atlanta Hawks 2009-10\"],[0.61,\"Boston Celtics 2009-10\"],[0.537,\"Charlotte Bobcats 2009-10\"],[0.5,\"Chicago Bulls 2009-10\"],[0.744,\"Cleveland Cavaliers 2009-10\"],[0.671,\"Dallas Mavericks 2009-10\"],[0.646,\"Denver Nuggets 2009-10\"],[0.329,\"Detroit Pistons 2009-10\"],[0.317,\"Golden State Warriors 2009-10\"],[0.512,\"Houston Rockets 2009-10\"],[0.39,\"Indiana Pacers 2009-10\"],[0.354,\"Los Angeles Clippers 2009-10\"],[0.695,\"Los Angeles Lakers 2009-10\"],[0.488,\"Memphis Grizzlies 2009-10\"],[0.573,\"Miami Heat 2009-10\"],[0.561,\"Milwaukee Bucks 2009-10\"],[0.183,\"Minnesota Timberwolves 2009-10\"],[0.146,\"New Jersey Nets 2009-10\"],[0.451,\"New Orleans Hornets 2009-10\"],[0.354,\"New York Knicks 2009-10\"],[0.61,\"Oklahoma City Thunder 2009-10\"],[0.72,\"Orlando Magic 2009-10\"],[0.329,\"Philadelphia 76ers 2009-10\"],[0.659,\"Phoenix Suns 2009-10\"],[0.61,\"Portland Trail Blazers 2009-10\"],[0.305,\"Sacramento Kings 2009-10\"],[0.61,\"San Antonio Spurs 2009-10\"],[0.488,\"Toronto Raptors 2009-10\"],[0.646,\"Utah Jazz 2009-10\"],[0.317,\"Washington Wizards 2009-10\"],[0.537,\"Atlanta Hawks 2010-11\"],[0.683,\"Boston Celtics 2010-11\"],[0.415,\"Charlotte Bobcats 2010-11\"],[0.756,\"Chicago Bulls 2010-11\"],[0.232,\"Cleveland Cavaliers 2010-11\"],[0.695,\"Dallas Mavericks 2010-11\"],[0.61,\"Denver Nuggets 2010-11\"],[0.366,\"Detroit Pistons 2010-11\"],[0.439,\"Golden State Warriors 2010-11\"],[0.524,\"Houston Rockets 2010-11\"],[0.451,\"Indiana Pacers 2010-11\"],[0.39,\"Los Angeles Clippers 2010-11\"],[0.695,\"Los Angeles Lakers 2010-11\"],[0.561,\"Memphis Grizzlies 2010-11\"],[0.707,\"Miami Heat 2010-11\"],[0.427,\"Milwaukee Bucks 2010-11\"],[0.207,\"Minnesota Timberwolves 2010-11\"],[0.293,\"New Jersey Nets 2010-11\"],[0.561,\"New Orleans Hornets 2010-11\"],[0.512,\"New York Knicks 2010-11\"],[0.671,\"Oklahoma City Thunder 2010-11\"],[0.634,\"Orlando Magic 2010-11\"],[0.5,\"Philadelphia 76ers 2010-11\"],[0.488,\"Phoenix Suns 2010-11\"],[0.585,\"Portland Trail Blazers 2010-11\"],[0.293,\"Sacramento Kings 2010-11\"],[0.744,\"San Antonio Spurs 2010-11\"],[0.268,\"Toronto Raptors 2010-11\"],[0.476,\"Utah Jazz 2010-11\"],[0.28,\"Washington Wizards 2010-11\"],[0.606,\"Atlanta Hawks 2011-12\"],[0.591,\"Boston Celtics 2011-12\"],[0.106,\"Charlotte Bobcats 2011-12\"],[0.758,\"Chicago Bulls 2011-12\"],[0.318,\"Cleveland Cavaliers 2011-12\"],[0.545,\"Dallas Mavericks 2011-12\"],[0.576,\"Denver Nuggets 2011-12\"],[0.379,\"Detroit Pistons 2011-12\"],[0.348,\"Golden State Warriors 2011-12\"],[0.515,\"Houston Rockets 2011-12\"],[0.636,\"Indiana Pacers 2011-12\"],[0.606,\"Los Angeles Clippers 2011-12\"],[0.621,\"Los Angeles Lakers 2011-12\"],[0.621,\"Memphis Grizzlies 2011-12\"],[0.697,\"Miami Heat 2011-12\"],[0.47,\"Milwaukee Bucks 2011-12\"],[0.394,\"Minnesota Timberwolves 2011-12\"],[0.333,\"New Jersey Nets 2011-12\"],[0.318,\"New Orleans Hornets 2011-12\"],[0.545,\"New York Knicks 2011-12\"],[0.712,\"Oklahoma City Thunder 2011-12\"],[0.561,\"Orlando Magic 2011-12\"],[0.53,\"Philadelphia 76ers 2011-12\"],[0.5,\"Phoenix Suns 2011-12\"],[0.424,\"Portland Trail Blazers 2011-12\"],[0.333,\"Sacramento Kings 2011-12\"],[0.758,\"San Antonio Spurs 2011-12\"],[0.348,\"Toronto Raptors 2011-12\"],[0.545,\"Utah Jazz 2011-12\"],[0.303,\"Washington Wizards 2011-12\"],[0.537,\"Atlanta Hawks 2012-13\"],[0.506,\"Boston Celtics 2012-13\"],[0.598,\"Brooklyn Nets 2012-13\"],[0.256,\"Charlotte Bobcats 2012-13\"],[0.549,\"Chicago Bulls 2012-13\"],[0.293,\"Cleveland Cavaliers 2012-13\"],[0.5,\"Dallas Mavericks 2012-13\"],[0.695,\"Denver Nuggets 2012-13\"],[0.354,\"Detroit Pistons 2012-13\"],[0.573,\"Golden State Warriors 2012-13\"],[0.549,\"Houston Rockets 2012-13\"],[0.605,\"Indiana Pacers 2012-13\"],[0.683,\"Los Angeles Clippers 2012-13\"],[0.549,\"Los Angeles Lakers 2012-13\"],[0.683,\"Memphis Grizzlies 2012-13\"],[0.805,\"Miami Heat 2012-13\"],[0.463,\"Milwaukee Bucks 2012-13\"],[0.378,\"Minnesota Timberwolves 2012-13\"],[0.329,\"New Orleans Hornets 2012-13\"],[0.659,\"New York Knicks 2012-13\"],[0.732,\"Oklahoma City Thunder 2012-13\"],[0.244,\"Orlando Magic 2012-13\"],[0.415,\"Philadelphia 76ers 2012-13\"],[0.305,\"Phoenix Suns 2012-13\"],[0.402,\"Portland Trail Blazers 2012-13\"],[0.341,\"Sacramento Kings 2012-13\"],[0.707,\"San Antonio Spurs 2012-13\"],[0.415,\"Toronto Raptors 2012-13\"],[0.524,\"Utah Jazz 2012-13\"],[0.354,\"Washington Wizards 2012-13\"],[0.463,\"Atlanta Hawks 2013-14\"],[0.305,\"Boston Celtics 2013-14\"],[0.537,\"Brooklyn Nets 2013-14\"],[0.524,\"Charlotte Bobcats 2013-14\"],[0.585,\"Chicago Bulls 2013-14\"],[0.402,\"Cleveland Cavaliers 2013-14\"],[0.598,\"Dallas Mavericks 2013-14\"],[0.439,\"Denver Nuggets 2013-14\"],[0.354,\"Detroit Pistons 2013-14\"],[0.622,\"Golden State Warriors 2013-14\"],[0.659,\"Houston Rockets 2013-14\"],[0.683,\"Indiana Pacers 2013-14\"],[0.695,\"Los Angeles Clippers 2013-14\"],[0.329,\"Los Angeles Lakers 2013-14\"],[0.61,\"Memphis Grizzlies 2013-14\"],[0.659,\"Miami Heat 2013-14\"],[0.183,\"Milwaukee Bucks 2013-14\"],[0.488,\"Minnesota Timberwolves 2013-14\"],[0.415,\"New Orleans Pelicans 2013-14\"],[0.451,\"New York Knicks 2013-14\"],[0.72,\"Oklahoma City Thunder 2013-14\"],[0.28,\"Orlando Magic 2013-14\"],[0.232,\"Philadelphia 76ers 2013-14\"],[0.585,\"Phoenix Suns 2013-14\"],[0.659,\"Portland Trail Blazers 2013-14\"],[0.341,\"Sacramento Kings 2013-14\"],[0.756,\"San Antonio Spurs 2013-14\"],[0.585,\"Toronto Raptors 2013-14\"],[0.305,\"Utah Jazz 2013-14\"],[0.537,\"Washington Wizards 2013-14\"],[0.732,\"Atlanta Hawks 2014-15\"],[0.488,\"Boston Celtics 2014-15\"],[0.463,\"Brooklyn Nets 2014-15\"],[0.402,\"Charlotte Hornets 2014-15\"],[0.61,\"Chicago Bulls 2014-15\"],[0.646,\"Cleveland Cavaliers 2014-15\"],[0.61,\"Dallas Mavericks 2014-15\"],[0.366,\"Denver Nuggets 2014-15\"],[0.39,\"Detroit Pistons 2014-15\"],[0.817,\"Golden State Warriors 2014-15\"],[0.683,\"Houston Rockets 2014-15\"],[0.463,\"Indiana Pacers 2014-15\"],[0.683,\"Los Angeles Clippers 2014-15\"],[0.256,\"Los Angeles Lakers 2014-15\"],[0.671,\"Memphis Grizzlies 2014-15\"],[0.451,\"Miami Heat 2014-15\"],[0.5,\"Milwaukee Bucks 2014-15\"],[0.195,\"Minnesota Timberwolves 2014-15\"],[0.549,\"New Orleans Pelicans 2014-15\"],[0.207,\"New York Knicks 2014-15\"],[0.549,\"Oklahoma City Thunder 2014-15\"],[0.305,\"Orlando Magic 2014-15\"],[0.22,\"Philadelphia 76ers 2014-15\"],[0.476,\"Phoenix Suns 2014-15\"],[0.622,\"Portland Trail Blazers 2014-15\"],[0.354,\"Sacramento Kings 2014-15\"],[0.671,\"San Antonio Spurs 2014-15\"],[0.598,\"Toronto Raptors 2014-15\"],[0.463,\"Utah Jazz 2014-15\"],[0.561,\"Washington Wizards 2014-15\"],[0.585,\"Atlanta Hawks 2015-16\"],[0.585,\"Boston Celtics 2015-16\"],[0.256,\"Brooklyn Nets 2015-16\"],[0.585,\"Charlotte Hornets 2015-16\"],[0.512,\"Chicago Bulls 2015-16\"],[0.695,\"Cleveland Cavaliers 2015-16\"],[0.512,\"Dallas Mavericks 2015-16\"],[0.402,\"Denver Nuggets 2015-16\"],[0.537,\"Detroit Pistons 2015-16\"],[0.89,\"Golden State Warriors 2015-16\"],[0.5,\"Houston Rockets 2015-16\"],[0.549,\"Indiana Pacers 2015-16\"],[0.646,\"LA Clippers 2015-16\"],[0.207,\"Los Angeles Lakers 2015-16\"],[0.512,\"Memphis Grizzlies 2015-16\"],[0.585,\"Miami Heat 2015-16\"],[0.402,\"Milwaukee Bucks 2015-16\"],[0.354,\"Minnesota Timberwolves 2015-16\"],[0.366,\"New Orleans Pelicans 2015-16\"],[0.39,\"New York Knicks 2015-16\"],[0.671,\"Oklahoma City Thunder 2015-16\"],[0.427,\"Orlando Magic 2015-16\"],[0.122,\"Philadelphia 76ers 2015-16\"],[0.28,\"Phoenix Suns 2015-16\"],[0.537,\"Portland Trail Blazers 2015-16\"],[0.402,\"Sacramento Kings 2015-16\"],[0.817,\"San Antonio Spurs 2015-16\"],[0.683,\"Toronto Raptors 2015-16\"],[0.488,\"Utah Jazz 2015-16\"],[0.5,\"Washington Wizards 2015-16\"],[0.524,\"Atlanta Hawks 2016-17\"],[0.646,\"Boston Celtics 2016-17\"],[0.244,\"Brooklyn Nets 2016-17\"],[0.439,\"Charlotte Hornets 2016-17\"],[0.5,\"Chicago Bulls 2016-17\"],[0.622,\"Cleveland Cavaliers 2016-17\"],[0.402,\"Dallas Mavericks 2016-17\"],[0.488,\"Denver Nuggets 2016-17\"],[0.451,\"Detroit Pistons 2016-17\"],[0.817,\"Golden State Warriors 2016-17\"],[0.671,\"Houston Rockets 2016-17\"],[0.512,\"Indiana Pacers 2016-17\"],[0.622,\"LA Clippers 2016-17\"],[0.317,\"Los Angeles Lakers 2016-17\"],[0.524,\"Memphis Grizzlies 2016-17\"],[0.5,\"Miami Heat 2016-17\"],[0.512,\"Milwaukee Bucks 2016-17\"],[0.378,\"Minnesota Timberwolves 2016-17\"],[0.415,\"New Orleans Pelicans 2016-17\"],[0.378,\"New York Knicks 2016-17\"],[0.573,\"Oklahoma City Thunder 2016-17\"],[0.354,\"Orlando Magic 2016-17\"],[0.341,\"Philadelphia 76ers 2016-17\"],[0.293,\"Phoenix Suns 2016-17\"],[0.5,\"Portland Trail Blazers 2016-17\"],[0.39,\"Sacramento Kings 2016-17\"],[0.744,\"San Antonio Spurs 2016-17\"],[0.622,\"Toronto Raptors 2016-17\"],[0.622,\"Utah Jazz 2016-17\"],[0.598,\"Washington Wizards 2016-17\"],[0.293,\"Atlanta Hawks 2017-18\"],[0.671,\"Boston Celtics 2017-18\"],[0.341,\"Brooklyn Nets 2017-18\"],[0.439,\"Charlotte Hornets 2017-18\"],[0.329,\"Chicago Bulls 2017-18\"],[0.61,\"Cleveland Cavaliers 2017-18\"],[0.293,\"Dallas Mavericks 2017-18\"],[0.561,\"Denver Nuggets 2017-18\"],[0.476,\"Detroit Pistons 2017-18\"],[0.707,\"Golden State Warriors 2017-18\"],[0.793,\"Houston Rockets 2017-18\"],[0.585,\"Indiana Pacers 2017-18\"],[0.512,\"LA Clippers 2017-18\"],[0.427,\"Los Angeles Lakers 2017-18\"],[0.268,\"Memphis Grizzlies 2017-18\"],[0.537,\"Miami Heat 2017-18\"],[0.537,\"Milwaukee Bucks 2017-18\"],[0.573,\"Minnesota Timberwolves 2017-18\"],[0.585,\"New Orleans Pelicans 2017-18\"],[0.354,\"New York Knicks 2017-18\"],[0.585,\"Oklahoma City Thunder 2017-18\"],[0.305,\"Orlando Magic 2017-18\"],[0.634,\"Philadelphia 76ers 2017-18\"],[0.256,\"Phoenix Suns 2017-18\"],[0.598,\"Portland Trail Blazers 2017-18\"],[0.329,\"Sacramento Kings 2017-18\"],[0.573,\"San Antonio Spurs 2017-18\"],[0.72,\"Toronto Raptors 2017-18\"],[0.585,\"Utah Jazz 2017-18\"],[0.524,\"Washington Wizards 2017-18\"],[0.354,\"Atlanta Hawks 2018-19\"],[0.598,\"Boston Celtics 2018-19\"],[0.512,\"Brooklyn Nets 2018-19\"],[0.476,\"Charlotte Hornets 2018-19\"],[0.268,\"Chicago Bulls 2018-19\"],[0.232,\"Cleveland Cavaliers 2018-19\"],[0.402,\"Dallas Mavericks 2018-19\"],[0.659,\"Denver Nuggets 2018-19\"],[0.5,\"Detroit Pistons 2018-19\"],[0.695,\"Golden State Warriors 2018-19\"],[0.646,\"Houston Rockets 2018-19\"],[0.585,\"Indiana Pacers 2018-19\"],[0.585,\"LA Clippers 2018-19\"],[0.451,\"Los Angeles Lakers 2018-19\"],[0.402,\"Memphis Grizzlies 2018-19\"],[0.476,\"Miami Heat 2018-19\"],[0.732,\"Milwaukee Bucks 2018-19\"],[0.439,\"Minnesota Timberwolves 2018-19\"],[0.402,\"New Orleans Pelicans 2018-19\"],[0.207,\"New York Knicks 2018-19\"],[0.598,\"Oklahoma City Thunder 2018-19\"],[0.512,\"Orlando Magic 2018-19\"],[0.622,\"Philadelphia 76ers 2018-19\"],[0.232,\"Phoenix Suns 2018-19\"],[0.646,\"Portland Trail Blazers 2018-19\"],[0.476,\"Sacramento Kings 2018-19\"],[0.585,\"San Antonio Spurs 2018-19\"],[0.707,\"Toronto Raptors 2018-19\"],[0.61,\"Utah Jazz 2018-19\"],[0.39,\"Washington Wizards 2018-19\"],[0.299,\"Atlanta Hawks 2019-20\"],[0.667,\"Boston Celtics 2019-20\"],[0.486,\"Brooklyn Nets 2019-20\"],[0.354,\"Charlotte Hornets 2019-20\"],[0.338,\"Chicago Bulls 2019-20\"],[0.292,\"Cleveland Cavaliers 2019-20\"],[0.573,\"Dallas Mavericks 2019-20\"],[0.63,\"Denver Nuggets 2019-20\"],[0.303,\"Detroit Pistons 2019-20\"],[0.231,\"Golden State Warriors 2019-20\"],[0.611,\"Houston Rockets 2019-20\"],[0.616,\"Indiana Pacers 2019-20\"],[0.681,\"LA Clippers 2019-20\"],[0.732,\"Los Angeles Lakers 2019-20\"],[0.466,\"Memphis Grizzlies 2019-20\"],[0.603,\"Miami Heat 2019-20\"],[0.767,\"Milwaukee Bucks 2019-20\"],[0.297,\"Minnesota Timberwolves 2019-20\"],[0.417,\"New Orleans Pelicans 2019-20\"],[0.318,\"New York Knicks 2019-20\"],[0.611,\"Oklahoma City Thunder 2019-20\"],[0.452,\"Orlando Magic 2019-20\"],[0.589,\"Philadelphia 76ers 2019-20\"],[0.466,\"Phoenix Suns 2019-20\"],[0.473,\"Portland Trail Blazers 2019-20\"],[0.431,\"Sacramento Kings 2019-20\"],[0.451,\"San Antonio Spurs 2019-20\"],[0.736,\"Toronto Raptors 2019-20\"],[0.611,\"Utah Jazz 2019-20\"],[0.347,\"Washington Wizards 2019-20\"]],\"hovertemplate\":\"PC1=%{x}<br>PC2=%{y}<br>WIN%=%{marker.color}<br>TEAM=%{customdata[1]}<extra></extra>\",\"legendgroup\":\"\",\"marker\":{\"color\":[0.341,0.427,0.598,0.207,0.39,0.488,0.427,0.512,0.232,0.415,0.683,0.183,0.817,0.634,0.512,0.61,0.378,0.61,0.5,0.598,0.646,0.72,0.537,0.646,0.549,0.549,0.671,0.268,0.354,0.305,0.439,0.561,0.183,0.366,0.646,0.488,0.39,0.207,0.549,0.5,0.378,0.683,0.61,0.634,0.573,0.317,0.585,0.524,0.683,0.622,0.61,0.671,0.707,0.537,0.573,0.646,0.28,0.232,0.402,0.598,0.537,0.256,0.354,0.695,0.329,0.61,0.256,0.341,0.512,0.476,0.707,0.28,0.439,0.5,0.61,0.634,0.366,0.537,0.524,0.439,0.598,0.744,0.707,0.549,0.512,0.537,0.451,0.427,0.537,0.366,0.207,0.732,0.207,0.61,0.463,0.524,0.585,0.329,0.61,0.341,0.305,0.512,0.622,0.598,0.573,0.451,0.512,0.585,0.537,0.61,0.72,0.732,0.488,0.293,0.573,0.451,0.341,0.439,0.28,0.427,0.634,0.524,0.659,0.451,0.549,0.744,0.341,0.683,0.61,0.512,0.5,0.707,0.573,0.5,0.476,0.256,0.402,0.354,0.5,0.671,0.695,0.451,0.402,0.512,0.305,0.159,0.549,0.22,0.573,0.512,0.707,0.598,0.659,0.415,0.622,0.537,0.451,0.415,0.549,0.72,0.366,0.537,0.512,0.22,0.402,0.439,0.524,0.756,0.329,0.61,0.72,0.634,0.402,0.317,0.549,0.317,0.402,0.317,0.5,0.61,0.732,0.537,0.78,0.415,0.415,0.5,0.573,0.549,0.598,0.634,0.488,0.402,0.598,0.463,0.28,0.439,0.463,0.659,0.256,0.537,0.768,0.427,0.329,0.5,0.512,0.366,0.293,0.402,0.598,0.61,0.817,0.549,0.646,0.512,0.634,0.427,0.488,0.512,0.268,0.537,0.341,0.39,0.5,0.476,0.402,0.488,0.427,0.744,0.39,0.402,0.707,0.378,0.573,0.622,0.5,0.451,0.805,0.39,0.402,0.549,0.622,0.61,0.72,0.585,0.671,0.439,0.28,0.695,0.268,0.183,0.317,0.268,0.415,0.683,0.28,0.634,0.488,0.671,0.5,0.463,0.683,0.244,0.5,0.659,0.524,0.573,0.756,0.427,0.5,0.805,0.61,0.659,0.476,0.354,0.646,0.439,0.232,0.793,0.293,0.524,0.415,0.293,0.415,0.598,0.39,0.28,0.72,0.5,0.561,0.659,0.207,0.659,0.402,0.585,0.232,0.646,0.61,0.537,0.5,0.744,0.671,0.646,0.329,0.317,0.512,0.39,0.354,0.695,0.488,0.573,0.561,0.183,0.146,0.451,0.354,0.61,0.72,0.329,0.659,0.61,0.305,0.61,0.488,0.646,0.317,0.537,0.683,0.415,0.756,0.232,0.695,0.61,0.366,0.439,0.524,0.451,0.39,0.695,0.561,0.707,0.427,0.207,0.293,0.561,0.512,0.671,0.634,0.5,0.488,0.585,0.293,0.744,0.268,0.476,0.28,0.606,0.591,0.106,0.758,0.318,0.545,0.576,0.379,0.348,0.515,0.636,0.606,0.621,0.621,0.697,0.47,0.394,0.333,0.318,0.545,0.712,0.561,0.53,0.5,0.424,0.333,0.758,0.348,0.545,0.303,0.537,0.506,0.598,0.256,0.549,0.293,0.5,0.695,0.354,0.573,0.549,0.605,0.683,0.549,0.683,0.805,0.463,0.378,0.329,0.659,0.732,0.244,0.415,0.305,0.402,0.341,0.707,0.415,0.524,0.354,0.463,0.305,0.537,0.524,0.585,0.402,0.598,0.439,0.354,0.622,0.659,0.683,0.695,0.329,0.61,0.659,0.183,0.488,0.415,0.451,0.72,0.28,0.232,0.585,0.659,0.341,0.756,0.585,0.305,0.537,0.732,0.488,0.463,0.402,0.61,0.646,0.61,0.366,0.39,0.817,0.683,0.463,0.683,0.256,0.671,0.451,0.5,0.195,0.549,0.207,0.549,0.305,0.22,0.476,0.622,0.354,0.671,0.598,0.463,0.561,0.585,0.585,0.256,0.585,0.512,0.695,0.512,0.402,0.537,0.89,0.5,0.549,0.646,0.207,0.512,0.585,0.402,0.354,0.366,0.39,0.671,0.427,0.122,0.28,0.537,0.402,0.817,0.683,0.488,0.5,0.524,0.646,0.244,0.439,0.5,0.622,0.402,0.488,0.451,0.817,0.671,0.512,0.622,0.317,0.524,0.5,0.512,0.378,0.415,0.378,0.573,0.354,0.341,0.293,0.5,0.39,0.744,0.622,0.622,0.598,0.293,0.671,0.341,0.439,0.329,0.61,0.293,0.561,0.476,0.707,0.793,0.585,0.512,0.427,0.268,0.537,0.537,0.573,0.585,0.354,0.585,0.305,0.634,0.256,0.598,0.329,0.573,0.72,0.585,0.524,0.354,0.598,0.512,0.476,0.268,0.232,0.402,0.659,0.5,0.695,0.646,0.585,0.585,0.451,0.402,0.476,0.732,0.439,0.402,0.207,0.598,0.512,0.622,0.232,0.646,0.476,0.585,0.707,0.61,0.39,0.299,0.667,0.486,0.354,0.338,0.292,0.573,0.63,0.303,0.231,0.611,0.616,0.681,0.732,0.466,0.603,0.767,0.297,0.417,0.318,0.611,0.452,0.589,0.466,0.473,0.431,0.451,0.736,0.611,0.347],\"coloraxis\":\"coloraxis\",\"symbol\":\"circle\"},\"mode\":\"markers\",\"name\":\"\",\"orientation\":\"v\",\"showlegend\":false,\"type\":\"scatter\",\"x\":[-0.9728225824328638,-0.6427353720980602,-0.22597985514145086,-1.7105358044955565,-0.7572290594627845,-0.11548012173981184,-0.5051592305566072,-0.30680391872984064,-1.1086571944861783,-0.472287245659304,0.14000876614957128,-1.1581143248159012,-0.04705271273943782,-0.2692680928520522,-0.2977060540045533,-0.06608292412420055,-0.6184116188377675,-0.5659196631187454,-0.7041086640933757,-0.8625565327819396,-0.1929175158874464,-0.17013184045050725,-0.05115385069719212,-0.3060574877919364,-0.29754730114609407,-0.47231223189489785,-0.2715351997042065,-1.0136542781061328,-0.7930636156457096,-1.15653544780783,-0.7635541558433462,-0.6422170439379088,-1.2905454200077884,-1.1293057107415356,-0.07583988946216043,-0.45800760467443247,-0.905606160372868,-1.3323434210452785,-0.44163006599221594,-0.7067528877282074,-0.956231706511726,-0.22129019242023984,-0.7197941032718351,-0.037247753401357095,-0.2191519135994145,-1.135878017810141,-0.7171025412219323,-0.6263907328602435,-0.7201096153964451,-0.594958306826302,-0.29824167935019313,-0.13211441832429097,-0.17741822743542335,-0.513890204796775,-0.30452447099889485,-0.34266327372395367,-0.883865381425576,-1.2205848706789009,-0.8222026943769337,-0.34760338848445116,-0.67853416742392,-1.097323988561907,-0.5921715443306791,0.2643931141713014,-1.0375373403841652,-0.3571802725613065,-1.1367187972557393,-0.9693099625322484,-0.5167859616413557,-0.6912324876535055,0.04834319782362231,-1.1172144931421617,-0.920326273297571,-0.16478100119186162,-0.06181880954371427,-0.35983304053534076,-0.7666686579950789,-0.1670773114991914,-0.9935543844222546,-0.6343001124769813,-0.3295340792122997,0.21723462339508312,-0.3600069081619243,-0.1798381849199153,-0.8151965650220359,-0.8051622068774634,-0.717388146300566,-0.7968936555297931,-0.6468917368980941,-0.8786336348963992,-1.3359239187749627,0.34693353865926685,-1.7785564197847037,-0.5864061270815133,-0.6637698999127501,-0.7613184899483021,-0.48871954951117774,-0.9818828974992743,-0.22471638370819702,-0.5081038597641457,-1.2870535631558686,-0.13343378661624766,-0.09144604132011627,-0.49872424304718743,-0.6360031461934413,-0.3263964011804737,-0.5045930087121768,-0.6763473334942273,-0.6654593590495823,-0.5029862682367202,0.20026494805752096,-0.46664494804570306,-0.610104623671779,-1.080179739321247,-0.6425425835978563,-0.8589304704062422,-0.9672794377556756,-0.6862268061398482,-1.1295915377707102,-0.8885366875437481,0.21517008081486153,-0.7232659361370377,-0.8003090325478212,-0.736203576553953,-0.7372502968960157,-0.6137309884284721,-1.1336320489367386,-0.2573940347053026,-0.558248688783142,-0.8336937609373888,-0.3584392720962891,-0.11559188415769009,-0.5078245917383113,-0.8628119515094836,-0.7328584158415011,-0.9973591419665554,-1.1725842975809837,-0.8540332124971673,-0.8093724843700866,0.26298863755485513,-0.5641946276946165,-0.3697517328911555,-1.0538024904930552,-1.3640101121319712,-1.3166884746320058,-1.2458289427361096,-0.3759026593085393,-0.9679145140928889,-0.7284771567305097,-0.6606163569056245,-0.20273396068085683,-0.3745686843715027,-0.570364450183757,-0.4595537153091334,-0.303843996617801,-0.7844735595286666,-0.6841577147378057,-0.532011513267942,-0.6520770241053155,0.0754412268537014,-0.6432367028786111,-0.21299851429982997,-0.7716792594224973,-1.2680502757836516,-0.6334125177152917,-0.7074854225395852,-0.4592561648713452,0.598819984375289,-0.8798917948429503,0.08666982327449646,-0.26984300721401255,-0.4949837296010623,-0.287546537411577,-1.087725957290448,-0.6637361412791882,-0.5982426837667454,-0.255495568060274,-0.5059675601814363,-0.07342276575219,-0.14788947556979237,-0.11281095086363142,-0.06003787905688948,0.3552635970093238,-0.22503003131688404,-0.5716261013908104,-0.3419149036115947,-0.05550846090727363,0.02238535148327024,-0.2997828740218597,0.21876299069388994,-0.11773670521595495,-0.4889483867847277,-0.07196151999208387,-0.5678579820488229,-0.9018961631824138,-0.5011615673018471,-0.18042161167669116,1.1764526316715234,-1.0096695109748146,0.02251065861818375,0.17703712983108852,-0.1408827313574896,-0.051199705237895826,-0.7156258285755585,-0.1823727477246091,-0.7862732206019081,-0.5685438843090939,-0.36092910292847596,0.010078404598889975,-0.13696132682879456,0.2673660364384669,0.12235863639704318,0.01717735794048788,0.29164430484529297,0.14883270516277747,-0.47423771076921317,-0.26783818592608555,0.15047864451175097,-0.2442045408432412,-0.13741649974239886,-0.22657969800995997,-0.2156409601176259,0.09407662305766494,-0.35366658879323637,-0.5306588537269755,-0.53661696178771,-0.45475033288997185,1.1645188856831743,-0.6174074581987837,-0.08468520853001178,0.4494367469464879,-0.20739022955733474,0.30455399612839545,0.041529119221098226,-2.870749592229872e-06,-0.2541734190629454,0.40595648288031305,-0.30712616993893177,-0.32847931185166335,-0.26021977837563237,0.2866342388669995,0.6414305491889236,0.24227087577462364,0.5792503889521139,0.06910477713344552,0.24853243417610701,-0.49137202647426637,0.808951047039721,-0.12129641170569087,-0.5859101939930293,-0.4145081111534091,-0.5038758602419926,-0.2528419799159619,0.5147366710235105,-0.5579927814770678,0.5707945089136026,-0.4047015523306013,1.1264549556266823,-0.08390569664815846,-0.10814719938133695,0.2721027173287986,-0.44759709845828216,0.5540834936363775,0.5906695740996059,-0.0994801469866691,0.048208046821731534,0.3809654636392519,-0.42959420187176195,-0.014502323448980309,0.43691653721921814,0.39023549296312554,0.20951788441898095,-0.17268700581931054,0.12617684536194326,0.1539977990614832,0.2872421091658837,-0.4607951522566683,0.6210488259787297,-0.6473039231567206,0.09052219839741589,-0.11448904743998323,-0.32985070311986064,-0.06809812246424943,0.08675018348715263,0.2548725071031334,-0.4895052052630364,0.41948550204547475,-0.3537372227026915,0.602327174406648,0.16853436053438542,-0.3503132915214328,0.45432833061749156,0.12421367122450094,0.2379215132140848,-0.4989165955056703,0.3233132413463266,0.2658458888478146,-0.3271950087990631,-0.18502310294539914,0.58068508759695,0.5107154231486054,0.3087929293778558,-0.6465732232037521,0.3573793414642356,0.06712443859305056,0.01048949003482893,-0.29930983317846954,0.2825169084212704,-0.246798768796075,-0.06718228272528977,0.05173074352910396,-0.49265603236500116,-0.8053190743658539,0.21413619276553264,0.2080762932271276,0.004249291123947712,0.5937443085224176,-0.18703502017540716,0.7967529795055627,0.08176656173829445,-0.25055006859099443,0.3707323122796167,0.32307845405036023,0.5371380500847519,-0.46675028338277136,0.028385612032239268,0.31595843437743915,-0.4268426872867651,0.17566161483106812,-0.4552751945796431,0.5636712069754821,0.5839873811189205,-0.21382265557787145,0.17686622102925792,0.4423802979287365,-0.13464093843964875,-0.25267806854499114,0.3263647225830634,-0.1263568407657787,0.45052891294884045,-0.4423771048849441,-0.3680225518787529,-0.4512849492113689,-0.06401073288277002,0.4359392447539813,0.22658155335744035,0.24432506047521926,0.2000566997248562,0.4703444581484888,-0.09115808516531598,-0.4137120043778914,0.6576617567170265,-0.33520397150674575,-0.04382758083529618,-0.6188767943834644,0.13408227106984172,-0.04067867184925787,-1.1468605696387304,0.06710521656216574,-0.803699755403495,0.020670437035238156,0.25833280120902974,-0.8440071107709952,-0.026093980608601828,-0.08936691953444455,-0.3175633775708987,-0.030583539022202077,-0.018766968014919706,-0.45994256742486905,0.038696507680131914,-0.018610228767484874,-0.34573487797947594,-0.6251178242318829,-0.7196368093320782,-0.19007549888966463,0.10139272843325736,-0.13812491032679994,0.09400729479388426,0.06577110684486222,-0.172616294274943,-0.5196355876622913,0.6975705526857933,-0.5778693268969168,-0.20861054251470285,-0.6524402753915413,0.3596935186795149,0.08837131728698061,-0.11969664786764689,-0.7368993559673139,-0.2807716159272589,-0.44601926944016945,0.3864612044539701,0.33488319491569774,-0.4131588531251355,0.3171316216890387,0.4332112598283098,-0.23698525460969766,0.42442768119194724,0.2652774793508106,-0.29246424659664366,0.8032409445525546,-0.02429667351340107,-0.3065618108994404,-0.38332688309525575,0.3609067013488325,0.6088230246268026,-0.23842481406008612,-0.14601829840863875,-0.39244148710219695,-0.028045462686454317,-0.21142971789739237,0.8151446085189148,-0.12106775640868934,-0.09924334744994527,-0.28770599173500944,0.4415037461145742,-0.325695698626434,0.08074546078377638,0.12365630392326474,-0.2025418350721554,-0.1665757627823124,0.691580981118976,0.11206166664874939,-0.25389450967757626,0.6103307329398457,0.4762385983057331,0.07921037418989643,0.7888865556148099,0.31663123632930645,-0.0017517775928407365,0.6377914151844994,-0.4678894198148451,0.412381447016533,-0.08522566835614365,0.13222333191453606,0.6016724012564,-0.18140041314470143,-0.45332347821491886,0.31485674540255587,0.6649384784391099,-0.2548116620103259,1.002332576476951,0.1722222484552483,-0.3668652292031666,0.3197010120976929,0.7745806832008697,0.2928261857667187,-0.013859159937651805,-0.15253839343003828,0.21482420049195664,0.47898704550823135,0.6367914996504471,-0.08057564510141951,-0.021415007845607386,1.2812638481658711,0.24776079535607687,0.09232896964120973,1.0109289287678696,-0.1902611639378219,0.16090233620015498,-0.2371023182050423,-0.00435265699529971,-0.4715526418038878,0.17571710471511476,-0.5253651707570248,0.20907959400684026,-0.20530891908473195,-0.8258940317945878,0.1724716835135303,0.6386833545190419,-0.19182612820550798,0.733127082517905,0.3380753487011812,-0.2455715894549539,0.24740707855271338,0.6926073429460863,0.5040055698776825,-0.043076912206684415,0.6559356684110014,0.2865564157735524,0.750668287252193,0.5395023507930183,0.10201699107466855,0.1778467878408868,1.6526023875810731,0.29287714210115373,0.30808616836103464,0.745078207931904,-0.45993651971523897,-0.11896795388237305,0.29721983497764365,-0.05319253153338613,0.10617773146607816,0.37136039073744265,0.061708135551355625,0.6989195998252754,0.33530137005178745,-0.32354411126078914,-0.13996078235931395,0.41898543573484304,0.43350544779956,1.0283002342185772,0.33538047907117224,-0.022243526447151024,0.5856367886037053,0.35647475459807687,0.926143538090809,0.28024723002374624,0.7579691491441923,0.34446571129466896,1.062595635828588,0.42176332304216785,0.921177593160186,0.4269015479214144,1.7294446671666053,1.1768369422631941,0.5934368321650656,1.0077060117252628,0.11105978994256889,0.22644424290032697,0.4127657026113121,0.5879560836058444,0.3999805009606807,0.639843876519364,0.2624677981999138,0.3276701767388387,0.19540339837485582,0.17365088958651897,0.07381111842877978,0.5950286297341801,0.3533257788141951,0.9058637291993769,0.519593457219761,0.5353913361955116,0.8034280330359131,0.4042068657016949,0.7451464007946818,0.588455525259065,0.7453043842625492,0.4610051674986475,1.1132928744735628,0.6696400441371605,0.9376719753156014,0.6081115164375333,1.5765516214124973,1.251371230166378,0.7033906312516359,0.6423733855168746,0.5884287319162328,0.007543653537037307,0.6348244312048792,0.6842094330370976,0.8223968195423662,1.2271082753432094,0.43838931468278025,0.5750893464094773,0.44554625049124097,1.0046153194170204,0.06596675633864658,0.608830541957322,0.16157429987401292,0.6453379049167244,1.1870967281469977,0.7641011066595301,0.7588536508910643,0.7534753707019077,1.3739337770308402,0.8290592372548378,0.8985968923668457,0.3604053443935649,0.23315362844592716,0.7789909703123451,1.1495152698641224,0.5993928824053604,1.7979242985999466,1.0420112405183548,0.9836453314684384,0.9916190028900509,0.8871650506957557,0.5052082359869093,0.6312135493189643,1.741705891752672,0.8473036465242796,1.1007925139131702,0.12941715928971334,0.9668127027532405,1.0187344367872184,1.230489450783206,0.35265579968697797,1.0935601327401336,1.076203890900342,1.2982672602268963,1.3612042383588865,1.1793983777588148,1.0323250775383974,0.5094275038456637,1.0922013625444735,0.8786275875712161,0.26662730696932835,0.4175738083393943,0.3685736837754279,1.4894103843851219,1.099308864411732,0.5230718104875117,0.41273296356227746,1.120958203307669,1.1149075369606751,1.2309558904415074,1.180574105770199,1.028627680175076,1.2313633862378301,1.7632077595147224,0.7092265871773478,1.089764568213123,0.2487417525316775,0.9581362380516407,0.7673083075860023,1.0982042446058244,1.1109271976999981,1.0025452352983215,0.8649448168537351,1.2338817526259729,1.1775145831801206,1.054781181453712,0.8746427019484067],\"xaxis\":\"x\",\"y\":[0.16685090107992287,-0.035028262745858955,-0.702587559007341,0.32572773320652826,-0.0554075331851343,-0.044060964945161867,-0.10286803403388692,-0.24314132455871118,0.3937429986765324,-0.10927368679935584,-0.627717166216532,0.729013055169865,-1.032615478262826,-0.7357440242354554,-0.33101018772579344,-0.7211122396108197,0.007998902318948124,-0.3888586045410307,-0.17660226326359527,-0.4322112611104808,-0.7340267558952753,-0.9854773523305708,-0.21192147437120204,-0.8893030234723481,-0.21611978227573672,-0.3975589614205383,-0.9541584499744652,0.13007989316264432,-0.018992577505213663,0.223363582817697,-0.052442137565064405,-0.7027994684311053,0.2318399179626346,-0.05994934982287163,-0.5202525305377701,-0.16794384410731747,-0.061894070685245786,0.4167912322033361,-0.3802102894793119,-0.4174274973714966,-0.09813039398109831,-0.7261550679660973,-0.5015089869470534,-0.5488433007120583,-0.6094919397877584,0.19000040844964294,-0.5097269224142827,-0.3099288463613087,-0.7305792070555575,-0.5447315546571531,-0.87044457653175,-0.6159558476473893,-1.0852943657486138,-0.32189073913357036,-0.6096610420624137,-1.035131881297662,0.04251730703146931,0.18192972576173638,0.09070656493127056,-0.255772206963787,-0.5218265687423813,0.18252994183363963,-0.20367423901793588,-0.48699947229825713,0.1761111195205209,-0.6013871248892859,0.15440007632938027,0.17382953892962996,-0.4114832502785637,-0.31802785484238805,-0.8323574431246316,0.16829304790243124,-0.32160353903833255,-0.3093913813084989,-0.6764419091353091,-0.7066890299779219,0.01787714901097384,-0.25684090177184893,-0.5172076519576866,-0.16564103875486758,-0.646046438307534,-0.8362983662418843,-0.8340559189292531,-0.5797258273751613,-0.3780594089065116,-0.729665033754851,-0.29241368226158754,-0.12069007671789639,-0.07018466775515053,0.05553596896071995,0.36706777503311405,-0.7519455303493906,0.29443653573727774,-0.6405054226325212,-0.181761134962562,-0.39830399215596063,-0.6716444157907557,0.009985406668819256,-0.5677494978141812,-0.08355002721884984,0.17170530910689696,-0.31665046157030563,-0.6705277308576132,-0.7718911275280139,-0.5727961348792151,-0.0935807910180469,-0.12969704696172918,-0.499814115713072,-0.31515881783781496,-0.6246189782745026,-0.7893090952106213,-0.8019761606281169,-0.34188450701258155,0.2064110008773938,-0.9971364570902832,-0.3292945411660433,0.05477009067232422,-0.11520959342547085,0.1853468612173976,-0.269011089477523,-0.566312662036469,-0.41051966909983084,-0.951690771773699,-0.22518805812435272,-0.4768724418617315,-0.8648568723219766,-0.02201643623187613,-0.7796502624789852,-0.624829089264288,-0.27815723297692485,-0.4446332663906741,-0.9414082723478147,-0.7126028444846728,-0.2666344910952972,-0.24243222737464212,0.37224567696959815,-0.21118313336116537,0.11104481213620757,-0.3828748621670339,-0.7986030710289042,-0.9561517728068888,-0.1778529787268617,-0.08817821192275199,-0.4630907799856757,0.19765766158607573,0.49933941206964244,-0.41734902344065283,0.09373835743132194,-0.34258129027028944,-0.5306588448639689,-0.6722482267729153,-0.6463517999200469,-0.8615248654840437,0.02561425516216839,-0.6497753863713447,-0.3502119899668116,-0.5758479773083496,0.018266787560887794,-0.5300039584528597,-0.9534457295111473,-0.1362303073237674,-0.5800783232866278,-0.31875524216729195,0.24162534898179563,-0.06269012538418332,-0.14277449205055703,-0.15313247897816767,-0.6615111305444809,-0.11957595553486629,-0.5149382296773215,-0.9815114423456733,-0.38637786703968263,-0.01679988024153975,-0.214284403315774,-0.1601882527895771,0.3699137086384956,0.1421314470743159,0.44800151870939403,0.07698252452617081,-0.11665644041118202,-0.5016384937229936,-0.0870661515875627,-0.793771589853514,0.35165467866450323,0.11828079953422439,-0.11011120958165582,-0.2273138048992596,-0.11962363297572762,-0.24909212925411175,-0.3129370214969943,0.11654692294856993,0.009862657311145799,-0.21964591702905845,0.2213612160619288,0.5048694857648478,0.007064327445335797,0.14566469523022918,-0.27139310037602693,0.6592931426206625,-0.09012738233324825,-0.6034039250800595,0.32964620594998095,0.46575255520321246,-0.081214920241043,0.05048312203029335,0.31306708706816816,0.3679520311728,0.2630106070661107,-0.3229558816647757,-0.22777335568930562,-0.57385863654092,-0.04622811074273299,-0.4780430076285601,0.24490229378156275,-0.2491700340439208,0.2245536824552763,-0.1794380673050896,0.09819514252729164,0.5017671535823206,-0.014385793531097087,0.47972030506613605,0.1639562525676199,0.00973873159641055,0.22093123272761653,0.30337485714563067,-0.1062961291985864,0.09796345722634003,-0.4498464256751544,0.33678613808296065,0.3277910126599678,-0.6676561834069175,0.27991606878837544,-0.05623624597088691,-0.39548592449103526,0.21733150294005882,-0.003288858316177176,-0.8197735545410235,0.3405165138516638,0.24560460388327915,0.041812934422744016,-0.33373296600054614,-0.17100111696607417,-0.7304069477489896,0.2379126871524167,-0.3290504879135468,0.34373795239263305,0.4628592646806015,-0.45604139865294924,0.760215199051221,0.6312613703357386,0.49107238252605634,0.6487561448567175,0.1932872228393857,-0.339401448713624,0.6959857844158859,-0.18011370533419202,-0.0578025130411114,-0.4101902421530306,-0.009496200613375347,0.34469021130326405,-0.33912483755153355,0.7070760498402615,-0.23669844164513043,-0.6568849236378476,0.08240086183806038,-0.1037435159108336,-0.6739580555652986,0.02948677151484472,0.08157886295394241,-0.6621199280722291,-0.14426559908196132,-0.27416623973570936,-0.05293254784956778,0.4833133384313804,-0.21897105460403202,0.32794894177253947,0.672496793464815,-0.49137041959144734,0.5118430790840125,0.009567578382463469,0.17338986759373973,0.5281338632424466,0.2750332843310195,-0.15764758511913832,0.6033879548047243,0.4716370609404156,-0.32868864920889834,-0.05034844500451803,-0.11391762422838499,-0.4562815927687837,0.8078333209415706,-0.25731204474326236,0.17418529264001106,-0.31380726928060076,0.5997849465098717,-0.33144181725521304,-0.3793334958279597,-0.12777111205441546,0.13156850844990667,-0.5762668478450164,-0.29891222147036806,-0.17202127435671516,0.42494848830291587,0.5882998031648768,0.27694846229785336,0.47319567438627586,0.3837749551208455,-0.23755229318572102,0.261391644350375,-0.13116488183004232,0.09639009044444376,0.8972305196045937,0.7876972151966912,0.25702368724812225,0.5201091507899297,-0.22825487062941094,-0.3822139783452786,0.2725397603231451,-0.2555561627446309,-0.2937023565815094,0.5111034933921468,-0.2878768572406464,0.1403252401610829,-0.5627345160508196,0.4846339873445573,-0.022743969141689507,-0.592325709868898,0.22188976081729006,-0.5979568496550544,0.7510671933856583,-0.4085683136119532,-0.1561122111963087,0.23862953621886399,0.29007650104833493,-0.026722820064351182,0.3022916844973821,0.2249263564776824,-0.43407484052573125,-0.11237731573834343,-0.5614261431354,0.18264007178110658,0.7330911429638282,0.4638027897048287,-0.12661346215771305,0.1510979059867776,-0.28702877905914154,-0.2580116275008827,-0.0953787773276612,0.1727596546040052,-0.18033301408926145,0.5661355723004907,-0.3738517492849819,0.49733727445999726,-0.017409540617956958,0.6359975902650575,-0.2684281016242407,-0.3934032081483059,0.9836292310208901,-0.7647615936649053,0.6185604446427858,-0.027275925204379454,-0.1778847621235101,0.3861366937594072,0.2995499228732115,0.07778296646491183,-0.168609496067237,-0.1937822829079582,-0.26237882941708285,-0.17331793437494483,-0.4897260615174858,-0.00321107163640083,0.3756498944622869,0.5143783389096414,0.14997266459802058,-0.04736606969162557,-0.37747385357470215,0.009325739973407444,-0.3461161204837613,0.01778670329283309,0.15683485721190726,0.671702519882821,-0.46839333137157224,0.1757875574778489,-0.11328153858729338,0.449508690941519,-0.030592088035684792,-0.002836162184565682,-0.11521632760547926,0.7637076217311225,-0.16180505212680354,0.5722755395415833,0.07895596087197213,-0.3284743320387331,0.34024312226950265,0.031871496741248506,0.021921941448397538,-0.2521434789870861,-0.5532005595586106,0.00927393896323371,-0.3864470710974167,-0.6919484640394735,0.1732434140138451,0.22929744163425472,0.31378901425909106,-0.07105714861002514,-0.6882820937172585,0.565278684282269,0.2283659117645904,0.5005844627158801,0.3389518007974282,0.5728661232511008,-0.4493003943156936,0.17862402002148975,-0.0676563313950892,0.24234148185718865,0.10894494129392292,0.4914210184494104,0.12501141732106572,0.056121368079551114,-0.22487580168210358,0.40606267634868903,-0.12386398570978006,0.38044695719635624,0.4468416861489625,-0.14679243816743848,-0.12592570691285704,-0.26501251355786615,-0.44168808662595194,0.5932879354900672,-0.20468209285006866,-0.3799437020656447,0.651151584456008,0.055358225376701674,0.22503947777760452,0.20978795991726085,-0.3765469015820082,0.5509072960162618,1.0436217399117929,0.12373357474486064,-0.14074656254538526,0.48329099823685734,-0.49229780161606934,-0.08326669556199527,0.5974553097905266,-0.013313568846282348,-0.3940642091309412,0.19594009558702696,0.3351556916678051,0.41057451678950796,-0.1335928489396932,-0.14889380739110747,0.016972172702956263,0.5623061294418471,0.2970472916679437,-0.6490443237733025,0.015246973803791735,0.15416463447849138,-0.40580023022056105,0.6519593127455267,-0.21831412111082446,0.20664863366033295,-0.03463175426059126,0.6841019934633388,-0.040816057695353396,0.7029632883270122,0.11366237268186721,0.6116815558930813,0.8516820909973216,0.37461827541352816,-0.058620606925788764,0.41992145813522264,-0.3811940950878926,0.01424355209742138,-0.002855421261759609,-0.1323909234200281,-0.10101049576467501,0.06079604495717971,0.6295676166685102,0.11599527866596204,0.24769431778156087,-0.18559224099281393,0.28423399776383945,0.4258682362116302,0.3294485566100856,-0.6449260028666887,0.2508293221099886,0.11377387705107089,-0.16414203166354532,1.0544401135161983,0.2798988712468033,-0.09563951586232398,0.2655864890841846,0.2375001957020725,0.5389344252410423,0.3291625107571085,-0.3430285163878855,0.3060628148544196,1.0256095305283095,0.8346683513359748,0.2683077304471247,0.3632309735691393,-0.7899960841155143,-0.11398890201334498,0.06532831153602212,0.22508421029564815,0.2086201036601646,0.03694113588369115,0.9124652746327827,0.2424723693493946,0.10714203347054474,0.12881799675674144,0.4738262966844961,0.1882243583292852,0.37109714152219586,-0.7699775507700299,0.022034184183971104,0.1796252806371839,-0.0941841757622627,0.8252038035340015,0.14318960876989575,0.20975763676935497,0.037425877432128205,0.16521994147901978,0.40350604979574783,0.4671360324903585,0.24293973606017905,0.6819343857413633,0.6122912502099891,0.8009462651893317,0.3679153470928064,0.4273824615953489,-0.47605809808695176,0.03750153553085994,-0.16399885958351706,0.0714211290182588,0.7058667266167327,0.006907769806032769,0.6728361796345825,0.35532590032947226,0.8050223324244545,0.22978710166266395,0.629045967592315,0.10232935847106804,0.32460030363695336,-0.4467704325181562,-0.10809525268997303,0.1550881161275112,0.3215985049507705,0.465831727383843,0.673566950852164,0.2255114617673919,0.13750967633064756,0.026623295822585616,0.09029205198431202,0.4580240107429233,0.11857916257475067,0.6244274227947257,-0.16021845735959284,1.038846034122734,0.22351992495137044,0.714752190410328,-0.06828971619368003,-0.20551044981161656,-0.048895079239241614,0.10607469485504034,0.8413262756100132,-0.0007320610363853147,0.48506941783370977,0.5124165539224358,0.9322320351742259,1.0872565260170783,0.5194683801645933,-0.08129233616497743,0.4581382946007445,-0.2706571400016992,0.262451365378806,-0.06280910938168852,0.2836562701478877,0.48210447019360286,0.3779884853262477,0.29573389822890733,-0.14002905136317464,0.42876066926687995,0.43854639450060307,1.0910677545665732,0.2984037213493914,0.20809210318038165,-0.023806137469171512,0.9309409731601481,0.10190542234209188,0.48903100946189776,0.09137900093990088,-0.08048864941899328,-0.09896634298450412,0.5398170452394615,0.9863792059604771,0.004323644069250472,0.47339149830528815,0.6985816880521869,0.6808187744575719,0.9084806735909822,0.14632522933955178,-0.00925585116563314,0.5606195458758361,0.7837268564275479,0.48875515334607733,0.05109572405252462,0.0008869923207260088,-0.19183107113983583,0.34615604016617274,-0.013340625718101028,-0.17603222826564824,0.8103151705904846,0.4776683127724892,0.7301699592307904,0.1838718163072474,0.3357404469958983,0.0028135132198117145,0.26709447449528734,0.6112611421030589,0.5221275828263144,0.3271259391086285,-0.061370451944057366,0.21129485773032436,0.7193961870658152],\"yaxis\":\"y\"}],                        {\"coloraxis\":{\"colorbar\":{\"title\":{\"text\":\"WIN%\"}},\"colorscale\":[[0.0,\"#0d0887\"],[0.1111111111111111,\"#46039f\"],[0.2222222222222222,\"#7201a8\"],[0.3333333333333333,\"#9c179e\"],[0.4444444444444444,\"#bd3786\"],[0.5555555555555556,\"#d8576b\"],[0.6666666666666666,\"#ed7953\"],[0.7777777777777778,\"#fb9f3a\"],[0.8888888888888888,\"#fdca26\"],[1.0,\"#f0f921\"]]},\"legend\":{\"tracegroupgap\":0},\"margin\":{\"t\":60},\"template\":{\"data\":{\"bar\":[{\"error_x\":{\"color\":\"#2a3f5f\"},\"error_y\":{\"color\":\"#2a3f5f\"},\"marker\":{\"line\":{\"color\":\"#E5ECF6\",\"width\":0.5},\"pattern\":{\"fillmode\":\"overlay\",\"size\":10,\"solidity\":0.2}},\"type\":\"bar\"}],\"barpolar\":[{\"marker\":{\"line\":{\"color\":\"#E5ECF6\",\"width\":0.5},\"pattern\":{\"fillmode\":\"overlay\",\"size\":10,\"solidity\":0.2}},\"type\":\"barpolar\"}],\"carpet\":[{\"aaxis\":{\"endlinecolor\":\"#2a3f5f\",\"gridcolor\":\"white\",\"linecolor\":\"white\",\"minorgridcolor\":\"white\",\"startlinecolor\":\"#2a3f5f\"},\"baxis\":{\"endlinecolor\":\"#2a3f5f\",\"gridcolor\":\"white\",\"linecolor\":\"white\",\"minorgridcolor\":\"white\",\"startlinecolor\":\"#2a3f5f\"},\"type\":\"carpet\"}],\"choropleth\":[{\"colorbar\":{\"outlinewidth\":0,\"ticks\":\"\"},\"type\":\"choropleth\"}],\"contour\":[{\"colorbar\":{\"outlinewidth\":0,\"ticks\":\"\"},\"colorscale\":[[0.0,\"#0d0887\"],[0.1111111111111111,\"#46039f\"],[0.2222222222222222,\"#7201a8\"],[0.3333333333333333,\"#9c179e\"],[0.4444444444444444,\"#bd3786\"],[0.5555555555555556,\"#d8576b\"],[0.6666666666666666,\"#ed7953\"],[0.7777777777777778,\"#fb9f3a\"],[0.8888888888888888,\"#fdca26\"],[1.0,\"#f0f921\"]],\"type\":\"contour\"}],\"contourcarpet\":[{\"colorbar\":{\"outlinewidth\":0,\"ticks\":\"\"},\"type\":\"contourcarpet\"}],\"heatmap\":[{\"colorbar\":{\"outlinewidth\":0,\"ticks\":\"\"},\"colorscale\":[[0.0,\"#0d0887\"],[0.1111111111111111,\"#46039f\"],[0.2222222222222222,\"#7201a8\"],[0.3333333333333333,\"#9c179e\"],[0.4444444444444444,\"#bd3786\"],[0.5555555555555556,\"#d8576b\"],[0.6666666666666666,\"#ed7953\"],[0.7777777777777778,\"#fb9f3a\"],[0.8888888888888888,\"#fdca26\"],[1.0,\"#f0f921\"]],\"type\":\"heatmap\"}],\"heatmapgl\":[{\"colorbar\":{\"outlinewidth\":0,\"ticks\":\"\"},\"colorscale\":[[0.0,\"#0d0887\"],[0.1111111111111111,\"#46039f\"],[0.2222222222222222,\"#7201a8\"],[0.3333333333333333,\"#9c179e\"],[0.4444444444444444,\"#bd3786\"],[0.5555555555555556,\"#d8576b\"],[0.6666666666666666,\"#ed7953\"],[0.7777777777777778,\"#fb9f3a\"],[0.8888888888888888,\"#fdca26\"],[1.0,\"#f0f921\"]],\"type\":\"heatmapgl\"}],\"histogram\":[{\"marker\":{\"pattern\":{\"fillmode\":\"overlay\",\"size\":10,\"solidity\":0.2}},\"type\":\"histogram\"}],\"histogram2d\":[{\"colorbar\":{\"outlinewidth\":0,\"ticks\":\"\"},\"colorscale\":[[0.0,\"#0d0887\"],[0.1111111111111111,\"#46039f\"],[0.2222222222222222,\"#7201a8\"],[0.3333333333333333,\"#9c179e\"],[0.4444444444444444,\"#bd3786\"],[0.5555555555555556,\"#d8576b\"],[0.6666666666666666,\"#ed7953\"],[0.7777777777777778,\"#fb9f3a\"],[0.8888888888888888,\"#fdca26\"],[1.0,\"#f0f921\"]],\"type\":\"histogram2d\"}],\"histogram2dcontour\":[{\"colorbar\":{\"outlinewidth\":0,\"ticks\":\"\"},\"colorscale\":[[0.0,\"#0d0887\"],[0.1111111111111111,\"#46039f\"],[0.2222222222222222,\"#7201a8\"],[0.3333333333333333,\"#9c179e\"],[0.4444444444444444,\"#bd3786\"],[0.5555555555555556,\"#d8576b\"],[0.6666666666666666,\"#ed7953\"],[0.7777777777777778,\"#fb9f3a\"],[0.8888888888888888,\"#fdca26\"],[1.0,\"#f0f921\"]],\"type\":\"histogram2dcontour\"}],\"mesh3d\":[{\"colorbar\":{\"outlinewidth\":0,\"ticks\":\"\"},\"type\":\"mesh3d\"}],\"parcoords\":[{\"line\":{\"colorbar\":{\"outlinewidth\":0,\"ticks\":\"\"}},\"type\":\"parcoords\"}],\"pie\":[{\"automargin\":true,\"type\":\"pie\"}],\"scatter\":[{\"marker\":{\"colorbar\":{\"outlinewidth\":0,\"ticks\":\"\"}},\"type\":\"scatter\"}],\"scatter3d\":[{\"line\":{\"colorbar\":{\"outlinewidth\":0,\"ticks\":\"\"}},\"marker\":{\"colorbar\":{\"outlinewidth\":0,\"ticks\":\"\"}},\"type\":\"scatter3d\"}],\"scattercarpet\":[{\"marker\":{\"colorbar\":{\"outlinewidth\":0,\"ticks\":\"\"}},\"type\":\"scattercarpet\"}],\"scattergeo\":[{\"marker\":{\"colorbar\":{\"outlinewidth\":0,\"ticks\":\"\"}},\"type\":\"scattergeo\"}],\"scattergl\":[{\"marker\":{\"colorbar\":{\"outlinewidth\":0,\"ticks\":\"\"}},\"type\":\"scattergl\"}],\"scattermapbox\":[{\"marker\":{\"colorbar\":{\"outlinewidth\":0,\"ticks\":\"\"}},\"type\":\"scattermapbox\"}],\"scatterpolar\":[{\"marker\":{\"colorbar\":{\"outlinewidth\":0,\"ticks\":\"\"}},\"type\":\"scatterpolar\"}],\"scatterpolargl\":[{\"marker\":{\"colorbar\":{\"outlinewidth\":0,\"ticks\":\"\"}},\"type\":\"scatterpolargl\"}],\"scatterternary\":[{\"marker\":{\"colorbar\":{\"outlinewidth\":0,\"ticks\":\"\"}},\"type\":\"scatterternary\"}],\"surface\":[{\"colorbar\":{\"outlinewidth\":0,\"ticks\":\"\"},\"colorscale\":[[0.0,\"#0d0887\"],[0.1111111111111111,\"#46039f\"],[0.2222222222222222,\"#7201a8\"],[0.3333333333333333,\"#9c179e\"],[0.4444444444444444,\"#bd3786\"],[0.5555555555555556,\"#d8576b\"],[0.6666666666666666,\"#ed7953\"],[0.7777777777777778,\"#fb9f3a\"],[0.8888888888888888,\"#fdca26\"],[1.0,\"#f0f921\"]],\"type\":\"surface\"}],\"table\":[{\"cells\":{\"fill\":{\"color\":\"#EBF0F8\"},\"line\":{\"color\":\"white\"}},\"header\":{\"fill\":{\"color\":\"#C8D4E3\"},\"line\":{\"color\":\"white\"}},\"type\":\"table\"}]},\"layout\":{\"annotationdefaults\":{\"arrowcolor\":\"#2a3f5f\",\"arrowhead\":0,\"arrowwidth\":1},\"autotypenumbers\":\"strict\",\"coloraxis\":{\"colorbar\":{\"outlinewidth\":0,\"ticks\":\"\"}},\"colorscale\":{\"diverging\":[[0,\"#8e0152\"],[0.1,\"#c51b7d\"],[0.2,\"#de77ae\"],[0.3,\"#f1b6da\"],[0.4,\"#fde0ef\"],[0.5,\"#f7f7f7\"],[0.6,\"#e6f5d0\"],[0.7,\"#b8e186\"],[0.8,\"#7fbc41\"],[0.9,\"#4d9221\"],[1,\"#276419\"]],\"sequential\":[[0.0,\"#0d0887\"],[0.1111111111111111,\"#46039f\"],[0.2222222222222222,\"#7201a8\"],[0.3333333333333333,\"#9c179e\"],[0.4444444444444444,\"#bd3786\"],[0.5555555555555556,\"#d8576b\"],[0.6666666666666666,\"#ed7953\"],[0.7777777777777778,\"#fb9f3a\"],[0.8888888888888888,\"#fdca26\"],[1.0,\"#f0f921\"]],\"sequentialminus\":[[0.0,\"#0d0887\"],[0.1111111111111111,\"#46039f\"],[0.2222222222222222,\"#7201a8\"],[0.3333333333333333,\"#9c179e\"],[0.4444444444444444,\"#bd3786\"],[0.5555555555555556,\"#d8576b\"],[0.6666666666666666,\"#ed7953\"],[0.7777777777777778,\"#fb9f3a\"],[0.8888888888888888,\"#fdca26\"],[1.0,\"#f0f921\"]]},\"colorway\":[\"#636efa\",\"#EF553B\",\"#00cc96\",\"#ab63fa\",\"#FFA15A\",\"#19d3f3\",\"#FF6692\",\"#B6E880\",\"#FF97FF\",\"#FECB52\"],\"font\":{\"color\":\"#2a3f5f\"},\"geo\":{\"bgcolor\":\"white\",\"lakecolor\":\"white\",\"landcolor\":\"#E5ECF6\",\"showlakes\":true,\"showland\":true,\"subunitcolor\":\"white\"},\"hoverlabel\":{\"align\":\"left\"},\"hovermode\":\"closest\",\"mapbox\":{\"style\":\"light\"},\"paper_bgcolor\":\"white\",\"plot_bgcolor\":\"#E5ECF6\",\"polar\":{\"angularaxis\":{\"gridcolor\":\"white\",\"linecolor\":\"white\",\"ticks\":\"\"},\"bgcolor\":\"#E5ECF6\",\"radialaxis\":{\"gridcolor\":\"white\",\"linecolor\":\"white\",\"ticks\":\"\"}},\"scene\":{\"xaxis\":{\"backgroundcolor\":\"#E5ECF6\",\"gridcolor\":\"white\",\"gridwidth\":2,\"linecolor\":\"white\",\"showbackground\":true,\"ticks\":\"\",\"zerolinecolor\":\"white\"},\"yaxis\":{\"backgroundcolor\":\"#E5ECF6\",\"gridcolor\":\"white\",\"gridwidth\":2,\"linecolor\":\"white\",\"showbackground\":true,\"ticks\":\"\",\"zerolinecolor\":\"white\"},\"zaxis\":{\"backgroundcolor\":\"#E5ECF6\",\"gridcolor\":\"white\",\"gridwidth\":2,\"linecolor\":\"white\",\"showbackground\":true,\"ticks\":\"\",\"zerolinecolor\":\"white\"}},\"shapedefaults\":{\"line\":{\"color\":\"#2a3f5f\"}},\"ternary\":{\"aaxis\":{\"gridcolor\":\"white\",\"linecolor\":\"white\",\"ticks\":\"\"},\"baxis\":{\"gridcolor\":\"white\",\"linecolor\":\"white\",\"ticks\":\"\"},\"bgcolor\":\"#E5ECF6\",\"caxis\":{\"gridcolor\":\"white\",\"linecolor\":\"white\",\"ticks\":\"\"}},\"title\":{\"x\":0.05},\"xaxis\":{\"automargin\":true,\"gridcolor\":\"white\",\"linecolor\":\"white\",\"ticks\":\"\",\"title\":{\"standoff\":15},\"zerolinecolor\":\"white\",\"zerolinewidth\":2},\"yaxis\":{\"automargin\":true,\"gridcolor\":\"white\",\"linecolor\":\"white\",\"ticks\":\"\",\"title\":{\"standoff\":15},\"zerolinecolor\":\"white\",\"zerolinewidth\":2}}},\"xaxis\":{\"anchor\":\"y\",\"domain\":[0.0,1.0],\"title\":{\"text\":\"PC1\"}},\"yaxis\":{\"anchor\":\"x\",\"domain\":[0.0,1.0],\"title\":{\"text\":\"PC2\"}}},                        {\"responsive\": true}                    ).then(function(){\n",
       "                            \n",
       "var gd = document.getElementById('a6b2f4ff-6a97-468e-a972-920e61633a02');\n",
       "var x = new MutationObserver(function (mutations, observer) {{\n",
       "        var display = window.getComputedStyle(gd).display;\n",
       "        if (!display || display === 'none') {{\n",
       "            console.log([gd, 'removed!']);\n",
       "            Plotly.purge(gd);\n",
       "            observer.disconnect();\n",
       "        }}\n",
       "}});\n",
       "\n",
       "// Listen for the removal of the full notebook cells\n",
       "var notebookContainer = gd.closest('#notebook-container');\n",
       "if (notebookContainer) {{\n",
       "    x.observe(notebookContainer, {childList: true});\n",
       "}}\n",
       "\n",
       "// Listen for the clearing of the current output cell\n",
       "var outputEl = gd.closest('.output');\n",
       "if (outputEl) {{\n",
       "    x.observe(outputEl, {childList: true});\n",
       "}}\n",
       "\n",
       "                        })                };                });            </script>        </div>"
      ]
     },
     "metadata": {},
     "output_type": "display_data"
    }
   ],
   "source": [
    "visualize_KMeans_clustering(normalized_team_stats,teams,team_stats,8,2,color='WIN%')"
   ]
  },
  {
   "cell_type": "code",
   "execution_count": 184,
   "metadata": {},
   "outputs": [
    {
     "data": {
      "application/vnd.plotly.v1+json": {
       "config": {
        "plotlyServerURL": "https://plot.ly"
       },
       "data": [
        {
         "customdata": [
          [
           0.341,
           "Atlanta Hawks 1999-00"
          ],
          [
           0.427,
           "Boston Celtics 1999-00"
          ],
          [
           0.598,
           "Charlotte Hornets 1999-00"
          ],
          [
           0.207,
           "Chicago Bulls 1999-00"
          ],
          [
           0.39,
           "Cleveland Cavaliers 1999-00"
          ],
          [
           0.488,
           "Dallas Mavericks 1999-00"
          ],
          [
           0.427,
           "Denver Nuggets 1999-00"
          ],
          [
           0.512,
           "Detroit Pistons 1999-00"
          ],
          [
           0.232,
           "Golden State Warriors 1999-00"
          ],
          [
           0.415,
           "Houston Rockets 1999-00"
          ],
          [
           0.683,
           "Indiana Pacers 1999-00"
          ],
          [
           0.183,
           "Los Angeles Clippers 1999-00"
          ],
          [
           0.817,
           "Los Angeles Lakers 1999-00"
          ],
          [
           0.634,
           "Miami Heat 1999-00"
          ],
          [
           0.512,
           "Milwaukee Bucks 1999-00"
          ],
          [
           0.61,
           "Minnesota Timberwolves 1999-00"
          ],
          [
           0.378,
           "New Jersey Nets 1999-00"
          ],
          [
           0.61,
           "New York Knicks 1999-00"
          ],
          [
           0.5,
           "Orlando Magic 1999-00"
          ],
          [
           0.598,
           "Philadelphia 76ers 1999-00"
          ],
          [
           0.646,
           "Phoenix Suns 1999-00"
          ],
          [
           0.72,
           "Portland Trail Blazers 1999-00"
          ],
          [
           0.537,
           "Sacramento Kings 1999-00"
          ],
          [
           0.646,
           "San Antonio Spurs 1999-00"
          ],
          [
           0.549,
           "Seattle SuperSonics 1999-00"
          ],
          [
           0.549,
           "Toronto Raptors 1999-00"
          ],
          [
           0.671,
           "Utah Jazz 1999-00"
          ],
          [
           0.268,
           "Vancouver Grizzlies 1999-00"
          ],
          [
           0.354,
           "Washington Wizards 1999-00"
          ],
          [
           0.305,
           "Atlanta Hawks 2000-01"
          ],
          [
           0.439,
           "Boston Celtics 2000-01"
          ],
          [
           0.561,
           "Charlotte Hornets 2000-01"
          ],
          [
           0.183,
           "Chicago Bulls 2000-01"
          ],
          [
           0.366,
           "Cleveland Cavaliers 2000-01"
          ],
          [
           0.646,
           "Dallas Mavericks 2000-01"
          ],
          [
           0.488,
           "Denver Nuggets 2000-01"
          ],
          [
           0.39,
           "Detroit Pistons 2000-01"
          ],
          [
           0.207,
           "Golden State Warriors 2000-01"
          ],
          [
           0.549,
           "Houston Rockets 2000-01"
          ],
          [
           0.5,
           "Indiana Pacers 2000-01"
          ],
          [
           0.378,
           "Los Angeles Clippers 2000-01"
          ],
          [
           0.683,
           "Los Angeles Lakers 2000-01"
          ],
          [
           0.61,
           "Miami Heat 2000-01"
          ],
          [
           0.634,
           "Milwaukee Bucks 2000-01"
          ],
          [
           0.573,
           "Minnesota Timberwolves 2000-01"
          ],
          [
           0.317,
           "New Jersey Nets 2000-01"
          ],
          [
           0.585,
           "New York Knicks 2000-01"
          ],
          [
           0.524,
           "Orlando Magic 2000-01"
          ],
          [
           0.683,
           "Philadelphia 76ers 2000-01"
          ],
          [
           0.622,
           "Phoenix Suns 2000-01"
          ],
          [
           0.61,
           "Portland Trail Blazers 2000-01"
          ],
          [
           0.671,
           "Sacramento Kings 2000-01"
          ],
          [
           0.707,
           "San Antonio Spurs 2000-01"
          ],
          [
           0.537,
           "Seattle SuperSonics 2000-01"
          ],
          [
           0.573,
           "Toronto Raptors 2000-01"
          ],
          [
           0.646,
           "Utah Jazz 2000-01"
          ],
          [
           0.28,
           "Vancouver Grizzlies 2000-01"
          ],
          [
           0.232,
           "Washington Wizards 2000-01"
          ],
          [
           0.402,
           "Atlanta Hawks 2001-02"
          ],
          [
           0.598,
           "Boston Celtics 2001-02"
          ],
          [
           0.537,
           "Charlotte Hornets 2001-02"
          ],
          [
           0.256,
           "Chicago Bulls 2001-02"
          ],
          [
           0.354,
           "Cleveland Cavaliers 2001-02"
          ],
          [
           0.695,
           "Dallas Mavericks 2001-02"
          ],
          [
           0.329,
           "Denver Nuggets 2001-02"
          ],
          [
           0.61,
           "Detroit Pistons 2001-02"
          ],
          [
           0.256,
           "Golden State Warriors 2001-02"
          ],
          [
           0.341,
           "Houston Rockets 2001-02"
          ],
          [
           0.512,
           "Indiana Pacers 2001-02"
          ],
          [
           0.476,
           "Los Angeles Clippers 2001-02"
          ],
          [
           0.707,
           "Los Angeles Lakers 2001-02"
          ],
          [
           0.28,
           "Memphis Grizzlies 2001-02"
          ],
          [
           0.439,
           "Miami Heat 2001-02"
          ],
          [
           0.5,
           "Milwaukee Bucks 2001-02"
          ],
          [
           0.61,
           "Minnesota Timberwolves 2001-02"
          ],
          [
           0.634,
           "New Jersey Nets 2001-02"
          ],
          [
           0.366,
           "New York Knicks 2001-02"
          ],
          [
           0.537,
           "Orlando Magic 2001-02"
          ],
          [
           0.524,
           "Philadelphia 76ers 2001-02"
          ],
          [
           0.439,
           "Phoenix Suns 2001-02"
          ],
          [
           0.598,
           "Portland Trail Blazers 2001-02"
          ],
          [
           0.744,
           "Sacramento Kings 2001-02"
          ],
          [
           0.707,
           "San Antonio Spurs 2001-02"
          ],
          [
           0.549,
           "Seattle SuperSonics 2001-02"
          ],
          [
           0.512,
           "Toronto Raptors 2001-02"
          ],
          [
           0.537,
           "Utah Jazz 2001-02"
          ],
          [
           0.451,
           "Washington Wizards 2001-02"
          ],
          [
           0.427,
           "Atlanta Hawks 2002-03"
          ],
          [
           0.537,
           "Boston Celtics 2002-03"
          ],
          [
           0.366,
           "Chicago Bulls 2002-03"
          ],
          [
           0.207,
           "Cleveland Cavaliers 2002-03"
          ],
          [
           0.732,
           "Dallas Mavericks 2002-03"
          ],
          [
           0.207,
           "Denver Nuggets 2002-03"
          ],
          [
           0.61,
           "Detroit Pistons 2002-03"
          ],
          [
           0.463,
           "Golden State Warriors 2002-03"
          ],
          [
           0.524,
           "Houston Rockets 2002-03"
          ],
          [
           0.585,
           "Indiana Pacers 2002-03"
          ],
          [
           0.329,
           "Los Angeles Clippers 2002-03"
          ],
          [
           0.61,
           "Los Angeles Lakers 2002-03"
          ],
          [
           0.341,
           "Memphis Grizzlies 2002-03"
          ],
          [
           0.305,
           "Miami Heat 2002-03"
          ],
          [
           0.512,
           "Milwaukee Bucks 2002-03"
          ],
          [
           0.622,
           "Minnesota Timberwolves 2002-03"
          ],
          [
           0.598,
           "New Jersey Nets 2002-03"
          ],
          [
           0.573,
           "New Orleans Hornets 2002-03"
          ],
          [
           0.451,
           "New York Knicks 2002-03"
          ],
          [
           0.512,
           "Orlando Magic 2002-03"
          ],
          [
           0.585,
           "Philadelphia 76ers 2002-03"
          ],
          [
           0.537,
           "Phoenix Suns 2002-03"
          ],
          [
           0.61,
           "Portland Trail Blazers 2002-03"
          ],
          [
           0.72,
           "Sacramento Kings 2002-03"
          ],
          [
           0.732,
           "San Antonio Spurs 2002-03"
          ],
          [
           0.488,
           "Seattle SuperSonics 2002-03"
          ],
          [
           0.293,
           "Toronto Raptors 2002-03"
          ],
          [
           0.573,
           "Utah Jazz 2002-03"
          ],
          [
           0.451,
           "Washington Wizards 2002-03"
          ],
          [
           0.341,
           "Atlanta Hawks 2003-04"
          ],
          [
           0.439,
           "Boston Celtics 2003-04"
          ],
          [
           0.28,
           "Chicago Bulls 2003-04"
          ],
          [
           0.427,
           "Cleveland Cavaliers 2003-04"
          ],
          [
           0.634,
           "Dallas Mavericks 2003-04"
          ],
          [
           0.524,
           "Denver Nuggets 2003-04"
          ],
          [
           0.659,
           "Detroit Pistons 2003-04"
          ],
          [
           0.451,
           "Golden State Warriors 2003-04"
          ],
          [
           0.549,
           "Houston Rockets 2003-04"
          ],
          [
           0.744,
           "Indiana Pacers 2003-04"
          ],
          [
           0.341,
           "Los Angeles Clippers 2003-04"
          ],
          [
           0.683,
           "Los Angeles Lakers 2003-04"
          ],
          [
           0.61,
           "Memphis Grizzlies 2003-04"
          ],
          [
           0.512,
           "Miami Heat 2003-04"
          ],
          [
           0.5,
           "Milwaukee Bucks 2003-04"
          ],
          [
           0.707,
           "Minnesota Timberwolves 2003-04"
          ],
          [
           0.573,
           "New Jersey Nets 2003-04"
          ],
          [
           0.5,
           "New Orleans Hornets 2003-04"
          ],
          [
           0.476,
           "New York Knicks 2003-04"
          ],
          [
           0.256,
           "Orlando Magic 2003-04"
          ],
          [
           0.402,
           "Philadelphia 76ers 2003-04"
          ],
          [
           0.354,
           "Phoenix Suns 2003-04"
          ],
          [
           0.5,
           "Portland Trail Blazers 2003-04"
          ],
          [
           0.671,
           "Sacramento Kings 2003-04"
          ],
          [
           0.695,
           "San Antonio Spurs 2003-04"
          ],
          [
           0.451,
           "Seattle SuperSonics 2003-04"
          ],
          [
           0.402,
           "Toronto Raptors 2003-04"
          ],
          [
           0.512,
           "Utah Jazz 2003-04"
          ],
          [
           0.305,
           "Washington Wizards 2003-04"
          ],
          [
           0.159,
           "Atlanta Hawks 2004-05"
          ],
          [
           0.549,
           "Boston Celtics 2004-05"
          ],
          [
           0.22,
           "Charlotte Bobcats 2004-05"
          ],
          [
           0.573,
           "Chicago Bulls 2004-05"
          ],
          [
           0.512,
           "Cleveland Cavaliers 2004-05"
          ],
          [
           0.707,
           "Dallas Mavericks 2004-05"
          ],
          [
           0.598,
           "Denver Nuggets 2004-05"
          ],
          [
           0.659,
           "Detroit Pistons 2004-05"
          ],
          [
           0.415,
           "Golden State Warriors 2004-05"
          ],
          [
           0.622,
           "Houston Rockets 2004-05"
          ],
          [
           0.537,
           "Indiana Pacers 2004-05"
          ],
          [
           0.451,
           "Los Angeles Clippers 2004-05"
          ],
          [
           0.415,
           "Los Angeles Lakers 2004-05"
          ],
          [
           0.549,
           "Memphis Grizzlies 2004-05"
          ],
          [
           0.72,
           "Miami Heat 2004-05"
          ],
          [
           0.366,
           "Milwaukee Bucks 2004-05"
          ],
          [
           0.537,
           "Minnesota Timberwolves 2004-05"
          ],
          [
           0.512,
           "New Jersey Nets 2004-05"
          ],
          [
           0.22,
           "New Orleans Hornets 2004-05"
          ],
          [
           0.402,
           "New York Knicks 2004-05"
          ],
          [
           0.439,
           "Orlando Magic 2004-05"
          ],
          [
           0.524,
           "Philadelphia 76ers 2004-05"
          ],
          [
           0.756,
           "Phoenix Suns 2004-05"
          ],
          [
           0.329,
           "Portland Trail Blazers 2004-05"
          ],
          [
           0.61,
           "Sacramento Kings 2004-05"
          ],
          [
           0.72,
           "San Antonio Spurs 2004-05"
          ],
          [
           0.634,
           "Seattle SuperSonics 2004-05"
          ],
          [
           0.402,
           "Toronto Raptors 2004-05"
          ],
          [
           0.317,
           "Utah Jazz 2004-05"
          ],
          [
           0.549,
           "Washington Wizards 2004-05"
          ],
          [
           0.317,
           "Atlanta Hawks 2005-06"
          ],
          [
           0.402,
           "Boston Celtics 2005-06"
          ],
          [
           0.317,
           "Charlotte Bobcats 2005-06"
          ],
          [
           0.5,
           "Chicago Bulls 2005-06"
          ],
          [
           0.61,
           "Cleveland Cavaliers 2005-06"
          ],
          [
           0.732,
           "Dallas Mavericks 2005-06"
          ],
          [
           0.537,
           "Denver Nuggets 2005-06"
          ],
          [
           0.78,
           "Detroit Pistons 2005-06"
          ],
          [
           0.415,
           "Golden State Warriors 2005-06"
          ],
          [
           0.415,
           "Houston Rockets 2005-06"
          ],
          [
           0.5,
           "Indiana Pacers 2005-06"
          ],
          [
           0.573,
           "Los Angeles Clippers 2005-06"
          ],
          [
           0.549,
           "Los Angeles Lakers 2005-06"
          ],
          [
           0.598,
           "Memphis Grizzlies 2005-06"
          ],
          [
           0.634,
           "Miami Heat 2005-06"
          ],
          [
           0.488,
           "Milwaukee Bucks 2005-06"
          ],
          [
           0.402,
           "Minnesota Timberwolves 2005-06"
          ],
          [
           0.598,
           "New Jersey Nets 2005-06"
          ],
          [
           0.463,
           "New Orleans/Oklahoma City Hornets 2005-06"
          ],
          [
           0.28,
           "New York Knicks 2005-06"
          ],
          [
           0.439,
           "Orlando Magic 2005-06"
          ],
          [
           0.463,
           "Philadelphia 76ers 2005-06"
          ],
          [
           0.659,
           "Phoenix Suns 2005-06"
          ],
          [
           0.256,
           "Portland Trail Blazers 2005-06"
          ],
          [
           0.537,
           "Sacramento Kings 2005-06"
          ],
          [
           0.768,
           "San Antonio Spurs 2005-06"
          ],
          [
           0.427,
           "Seattle SuperSonics 2005-06"
          ],
          [
           0.329,
           "Toronto Raptors 2005-06"
          ],
          [
           0.5,
           "Utah Jazz 2005-06"
          ],
          [
           0.512,
           "Washington Wizards 2005-06"
          ],
          [
           0.366,
           "Atlanta Hawks 2006-07"
          ],
          [
           0.293,
           "Boston Celtics 2006-07"
          ],
          [
           0.402,
           "Charlotte Bobcats 2006-07"
          ],
          [
           0.598,
           "Chicago Bulls 2006-07"
          ],
          [
           0.61,
           "Cleveland Cavaliers 2006-07"
          ],
          [
           0.817,
           "Dallas Mavericks 2006-07"
          ],
          [
           0.549,
           "Denver Nuggets 2006-07"
          ],
          [
           0.646,
           "Detroit Pistons 2006-07"
          ],
          [
           0.512,
           "Golden State Warriors 2006-07"
          ],
          [
           0.634,
           "Houston Rockets 2006-07"
          ],
          [
           0.427,
           "Indiana Pacers 2006-07"
          ],
          [
           0.488,
           "Los Angeles Clippers 2006-07"
          ],
          [
           0.512,
           "Los Angeles Lakers 2006-07"
          ],
          [
           0.268,
           "Memphis Grizzlies 2006-07"
          ],
          [
           0.537,
           "Miami Heat 2006-07"
          ],
          [
           0.341,
           "Milwaukee Bucks 2006-07"
          ],
          [
           0.39,
           "Minnesota Timberwolves 2006-07"
          ],
          [
           0.5,
           "New Jersey Nets 2006-07"
          ],
          [
           0.476,
           "New Orleans/Oklahoma City Hornets 2006-07"
          ],
          [
           0.402,
           "New York Knicks 2006-07"
          ],
          [
           0.488,
           "Orlando Magic 2006-07"
          ],
          [
           0.427,
           "Philadelphia 76ers 2006-07"
          ],
          [
           0.744,
           "Phoenix Suns 2006-07"
          ],
          [
           0.39,
           "Portland Trail Blazers 2006-07"
          ],
          [
           0.402,
           "Sacramento Kings 2006-07"
          ],
          [
           0.707,
           "San Antonio Spurs 2006-07"
          ],
          [
           0.378,
           "Seattle SuperSonics 2006-07"
          ],
          [
           0.573,
           "Toronto Raptors 2006-07"
          ],
          [
           0.622,
           "Utah Jazz 2006-07"
          ],
          [
           0.5,
           "Washington Wizards 2006-07"
          ],
          [
           0.451,
           "Atlanta Hawks 2007-08"
          ],
          [
           0.805,
           "Boston Celtics 2007-08"
          ],
          [
           0.39,
           "Charlotte Bobcats 2007-08"
          ],
          [
           0.402,
           "Chicago Bulls 2007-08"
          ],
          [
           0.549,
           "Cleveland Cavaliers 2007-08"
          ],
          [
           0.622,
           "Dallas Mavericks 2007-08"
          ],
          [
           0.61,
           "Denver Nuggets 2007-08"
          ],
          [
           0.72,
           "Detroit Pistons 2007-08"
          ],
          [
           0.585,
           "Golden State Warriors 2007-08"
          ],
          [
           0.671,
           "Houston Rockets 2007-08"
          ],
          [
           0.439,
           "Indiana Pacers 2007-08"
          ],
          [
           0.28,
           "Los Angeles Clippers 2007-08"
          ],
          [
           0.695,
           "Los Angeles Lakers 2007-08"
          ],
          [
           0.268,
           "Memphis Grizzlies 2007-08"
          ],
          [
           0.183,
           "Miami Heat 2007-08"
          ],
          [
           0.317,
           "Milwaukee Bucks 2007-08"
          ],
          [
           0.268,
           "Minnesota Timberwolves 2007-08"
          ],
          [
           0.415,
           "New Jersey Nets 2007-08"
          ],
          [
           0.683,
           "New Orleans Hornets 2007-08"
          ],
          [
           0.28,
           "New York Knicks 2007-08"
          ],
          [
           0.634,
           "Orlando Magic 2007-08"
          ],
          [
           0.488,
           "Philadelphia 76ers 2007-08"
          ],
          [
           0.671,
           "Phoenix Suns 2007-08"
          ],
          [
           0.5,
           "Portland Trail Blazers 2007-08"
          ],
          [
           0.463,
           "Sacramento Kings 2007-08"
          ],
          [
           0.683,
           "San Antonio Spurs 2007-08"
          ],
          [
           0.244,
           "Seattle SuperSonics 2007-08"
          ],
          [
           0.5,
           "Toronto Raptors 2007-08"
          ],
          [
           0.659,
           "Utah Jazz 2007-08"
          ],
          [
           0.524,
           "Washington Wizards 2007-08"
          ],
          [
           0.573,
           "Atlanta Hawks 2008-09"
          ],
          [
           0.756,
           "Boston Celtics 2008-09"
          ],
          [
           0.427,
           "Charlotte Bobcats 2008-09"
          ],
          [
           0.5,
           "Chicago Bulls 2008-09"
          ],
          [
           0.805,
           "Cleveland Cavaliers 2008-09"
          ],
          [
           0.61,
           "Dallas Mavericks 2008-09"
          ],
          [
           0.659,
           "Denver Nuggets 2008-09"
          ],
          [
           0.476,
           "Detroit Pistons 2008-09"
          ],
          [
           0.354,
           "Golden State Warriors 2008-09"
          ],
          [
           0.646,
           "Houston Rockets 2008-09"
          ],
          [
           0.439,
           "Indiana Pacers 2008-09"
          ],
          [
           0.232,
           "Los Angeles Clippers 2008-09"
          ],
          [
           0.793,
           "Los Angeles Lakers 2008-09"
          ],
          [
           0.293,
           "Memphis Grizzlies 2008-09"
          ],
          [
           0.524,
           "Miami Heat 2008-09"
          ],
          [
           0.415,
           "Milwaukee Bucks 2008-09"
          ],
          [
           0.293,
           "Minnesota Timberwolves 2008-09"
          ],
          [
           0.415,
           "New Jersey Nets 2008-09"
          ],
          [
           0.598,
           "New Orleans Hornets 2008-09"
          ],
          [
           0.39,
           "New York Knicks 2008-09"
          ],
          [
           0.28,
           "Oklahoma City Thunder 2008-09"
          ],
          [
           0.72,
           "Orlando Magic 2008-09"
          ],
          [
           0.5,
           "Philadelphia 76ers 2008-09"
          ],
          [
           0.561,
           "Phoenix Suns 2008-09"
          ],
          [
           0.659,
           "Portland Trail Blazers 2008-09"
          ],
          [
           0.207,
           "Sacramento Kings 2008-09"
          ],
          [
           0.659,
           "San Antonio Spurs 2008-09"
          ],
          [
           0.402,
           "Toronto Raptors 2008-09"
          ],
          [
           0.585,
           "Utah Jazz 2008-09"
          ],
          [
           0.232,
           "Washington Wizards 2008-09"
          ],
          [
           0.646,
           "Atlanta Hawks 2009-10"
          ],
          [
           0.61,
           "Boston Celtics 2009-10"
          ],
          [
           0.537,
           "Charlotte Bobcats 2009-10"
          ],
          [
           0.5,
           "Chicago Bulls 2009-10"
          ],
          [
           0.744,
           "Cleveland Cavaliers 2009-10"
          ],
          [
           0.671,
           "Dallas Mavericks 2009-10"
          ],
          [
           0.646,
           "Denver Nuggets 2009-10"
          ],
          [
           0.329,
           "Detroit Pistons 2009-10"
          ],
          [
           0.317,
           "Golden State Warriors 2009-10"
          ],
          [
           0.512,
           "Houston Rockets 2009-10"
          ],
          [
           0.39,
           "Indiana Pacers 2009-10"
          ],
          [
           0.354,
           "Los Angeles Clippers 2009-10"
          ],
          [
           0.695,
           "Los Angeles Lakers 2009-10"
          ],
          [
           0.488,
           "Memphis Grizzlies 2009-10"
          ],
          [
           0.573,
           "Miami Heat 2009-10"
          ],
          [
           0.561,
           "Milwaukee Bucks 2009-10"
          ],
          [
           0.183,
           "Minnesota Timberwolves 2009-10"
          ],
          [
           0.146,
           "New Jersey Nets 2009-10"
          ],
          [
           0.451,
           "New Orleans Hornets 2009-10"
          ],
          [
           0.354,
           "New York Knicks 2009-10"
          ],
          [
           0.61,
           "Oklahoma City Thunder 2009-10"
          ],
          [
           0.72,
           "Orlando Magic 2009-10"
          ],
          [
           0.329,
           "Philadelphia 76ers 2009-10"
          ],
          [
           0.659,
           "Phoenix Suns 2009-10"
          ],
          [
           0.61,
           "Portland Trail Blazers 2009-10"
          ],
          [
           0.305,
           "Sacramento Kings 2009-10"
          ],
          [
           0.61,
           "San Antonio Spurs 2009-10"
          ],
          [
           0.488,
           "Toronto Raptors 2009-10"
          ],
          [
           0.646,
           "Utah Jazz 2009-10"
          ],
          [
           0.317,
           "Washington Wizards 2009-10"
          ],
          [
           0.537,
           "Atlanta Hawks 2010-11"
          ],
          [
           0.683,
           "Boston Celtics 2010-11"
          ],
          [
           0.415,
           "Charlotte Bobcats 2010-11"
          ],
          [
           0.756,
           "Chicago Bulls 2010-11"
          ],
          [
           0.232,
           "Cleveland Cavaliers 2010-11"
          ],
          [
           0.695,
           "Dallas Mavericks 2010-11"
          ],
          [
           0.61,
           "Denver Nuggets 2010-11"
          ],
          [
           0.366,
           "Detroit Pistons 2010-11"
          ],
          [
           0.439,
           "Golden State Warriors 2010-11"
          ],
          [
           0.524,
           "Houston Rockets 2010-11"
          ],
          [
           0.451,
           "Indiana Pacers 2010-11"
          ],
          [
           0.39,
           "Los Angeles Clippers 2010-11"
          ],
          [
           0.695,
           "Los Angeles Lakers 2010-11"
          ],
          [
           0.561,
           "Memphis Grizzlies 2010-11"
          ],
          [
           0.707,
           "Miami Heat 2010-11"
          ],
          [
           0.427,
           "Milwaukee Bucks 2010-11"
          ],
          [
           0.207,
           "Minnesota Timberwolves 2010-11"
          ],
          [
           0.293,
           "New Jersey Nets 2010-11"
          ],
          [
           0.561,
           "New Orleans Hornets 2010-11"
          ],
          [
           0.512,
           "New York Knicks 2010-11"
          ],
          [
           0.671,
           "Oklahoma City Thunder 2010-11"
          ],
          [
           0.634,
           "Orlando Magic 2010-11"
          ],
          [
           0.5,
           "Philadelphia 76ers 2010-11"
          ],
          [
           0.488,
           "Phoenix Suns 2010-11"
          ],
          [
           0.585,
           "Portland Trail Blazers 2010-11"
          ],
          [
           0.293,
           "Sacramento Kings 2010-11"
          ],
          [
           0.744,
           "San Antonio Spurs 2010-11"
          ],
          [
           0.268,
           "Toronto Raptors 2010-11"
          ],
          [
           0.476,
           "Utah Jazz 2010-11"
          ],
          [
           0.28,
           "Washington Wizards 2010-11"
          ],
          [
           0.606,
           "Atlanta Hawks 2011-12"
          ],
          [
           0.591,
           "Boston Celtics 2011-12"
          ],
          [
           0.106,
           "Charlotte Bobcats 2011-12"
          ],
          [
           0.758,
           "Chicago Bulls 2011-12"
          ],
          [
           0.318,
           "Cleveland Cavaliers 2011-12"
          ],
          [
           0.545,
           "Dallas Mavericks 2011-12"
          ],
          [
           0.576,
           "Denver Nuggets 2011-12"
          ],
          [
           0.379,
           "Detroit Pistons 2011-12"
          ],
          [
           0.348,
           "Golden State Warriors 2011-12"
          ],
          [
           0.515,
           "Houston Rockets 2011-12"
          ],
          [
           0.636,
           "Indiana Pacers 2011-12"
          ],
          [
           0.606,
           "Los Angeles Clippers 2011-12"
          ],
          [
           0.621,
           "Los Angeles Lakers 2011-12"
          ],
          [
           0.621,
           "Memphis Grizzlies 2011-12"
          ],
          [
           0.697,
           "Miami Heat 2011-12"
          ],
          [
           0.47,
           "Milwaukee Bucks 2011-12"
          ],
          [
           0.394,
           "Minnesota Timberwolves 2011-12"
          ],
          [
           0.333,
           "New Jersey Nets 2011-12"
          ],
          [
           0.318,
           "New Orleans Hornets 2011-12"
          ],
          [
           0.545,
           "New York Knicks 2011-12"
          ],
          [
           0.712,
           "Oklahoma City Thunder 2011-12"
          ],
          [
           0.561,
           "Orlando Magic 2011-12"
          ],
          [
           0.53,
           "Philadelphia 76ers 2011-12"
          ],
          [
           0.5,
           "Phoenix Suns 2011-12"
          ],
          [
           0.424,
           "Portland Trail Blazers 2011-12"
          ],
          [
           0.333,
           "Sacramento Kings 2011-12"
          ],
          [
           0.758,
           "San Antonio Spurs 2011-12"
          ],
          [
           0.348,
           "Toronto Raptors 2011-12"
          ],
          [
           0.545,
           "Utah Jazz 2011-12"
          ],
          [
           0.303,
           "Washington Wizards 2011-12"
          ],
          [
           0.537,
           "Atlanta Hawks 2012-13"
          ],
          [
           0.506,
           "Boston Celtics 2012-13"
          ],
          [
           0.598,
           "Brooklyn Nets 2012-13"
          ],
          [
           0.256,
           "Charlotte Bobcats 2012-13"
          ],
          [
           0.549,
           "Chicago Bulls 2012-13"
          ],
          [
           0.293,
           "Cleveland Cavaliers 2012-13"
          ],
          [
           0.5,
           "Dallas Mavericks 2012-13"
          ],
          [
           0.695,
           "Denver Nuggets 2012-13"
          ],
          [
           0.354,
           "Detroit Pistons 2012-13"
          ],
          [
           0.573,
           "Golden State Warriors 2012-13"
          ],
          [
           0.549,
           "Houston Rockets 2012-13"
          ],
          [
           0.605,
           "Indiana Pacers 2012-13"
          ],
          [
           0.683,
           "Los Angeles Clippers 2012-13"
          ],
          [
           0.549,
           "Los Angeles Lakers 2012-13"
          ],
          [
           0.683,
           "Memphis Grizzlies 2012-13"
          ],
          [
           0.805,
           "Miami Heat 2012-13"
          ],
          [
           0.463,
           "Milwaukee Bucks 2012-13"
          ],
          [
           0.378,
           "Minnesota Timberwolves 2012-13"
          ],
          [
           0.329,
           "New Orleans Hornets 2012-13"
          ],
          [
           0.659,
           "New York Knicks 2012-13"
          ],
          [
           0.732,
           "Oklahoma City Thunder 2012-13"
          ],
          [
           0.244,
           "Orlando Magic 2012-13"
          ],
          [
           0.415,
           "Philadelphia 76ers 2012-13"
          ],
          [
           0.305,
           "Phoenix Suns 2012-13"
          ],
          [
           0.402,
           "Portland Trail Blazers 2012-13"
          ],
          [
           0.341,
           "Sacramento Kings 2012-13"
          ],
          [
           0.707,
           "San Antonio Spurs 2012-13"
          ],
          [
           0.415,
           "Toronto Raptors 2012-13"
          ],
          [
           0.524,
           "Utah Jazz 2012-13"
          ],
          [
           0.354,
           "Washington Wizards 2012-13"
          ],
          [
           0.463,
           "Atlanta Hawks 2013-14"
          ],
          [
           0.305,
           "Boston Celtics 2013-14"
          ],
          [
           0.537,
           "Brooklyn Nets 2013-14"
          ],
          [
           0.524,
           "Charlotte Bobcats 2013-14"
          ],
          [
           0.585,
           "Chicago Bulls 2013-14"
          ],
          [
           0.402,
           "Cleveland Cavaliers 2013-14"
          ],
          [
           0.598,
           "Dallas Mavericks 2013-14"
          ],
          [
           0.439,
           "Denver Nuggets 2013-14"
          ],
          [
           0.354,
           "Detroit Pistons 2013-14"
          ],
          [
           0.622,
           "Golden State Warriors 2013-14"
          ],
          [
           0.659,
           "Houston Rockets 2013-14"
          ],
          [
           0.683,
           "Indiana Pacers 2013-14"
          ],
          [
           0.695,
           "Los Angeles Clippers 2013-14"
          ],
          [
           0.329,
           "Los Angeles Lakers 2013-14"
          ],
          [
           0.61,
           "Memphis Grizzlies 2013-14"
          ],
          [
           0.659,
           "Miami Heat 2013-14"
          ],
          [
           0.183,
           "Milwaukee Bucks 2013-14"
          ],
          [
           0.488,
           "Minnesota Timberwolves 2013-14"
          ],
          [
           0.415,
           "New Orleans Pelicans 2013-14"
          ],
          [
           0.451,
           "New York Knicks 2013-14"
          ],
          [
           0.72,
           "Oklahoma City Thunder 2013-14"
          ],
          [
           0.28,
           "Orlando Magic 2013-14"
          ],
          [
           0.232,
           "Philadelphia 76ers 2013-14"
          ],
          [
           0.585,
           "Phoenix Suns 2013-14"
          ],
          [
           0.659,
           "Portland Trail Blazers 2013-14"
          ],
          [
           0.341,
           "Sacramento Kings 2013-14"
          ],
          [
           0.756,
           "San Antonio Spurs 2013-14"
          ],
          [
           0.585,
           "Toronto Raptors 2013-14"
          ],
          [
           0.305,
           "Utah Jazz 2013-14"
          ],
          [
           0.537,
           "Washington Wizards 2013-14"
          ],
          [
           0.732,
           "Atlanta Hawks 2014-15"
          ],
          [
           0.488,
           "Boston Celtics 2014-15"
          ],
          [
           0.463,
           "Brooklyn Nets 2014-15"
          ],
          [
           0.402,
           "Charlotte Hornets 2014-15"
          ],
          [
           0.61,
           "Chicago Bulls 2014-15"
          ],
          [
           0.646,
           "Cleveland Cavaliers 2014-15"
          ],
          [
           0.61,
           "Dallas Mavericks 2014-15"
          ],
          [
           0.366,
           "Denver Nuggets 2014-15"
          ],
          [
           0.39,
           "Detroit Pistons 2014-15"
          ],
          [
           0.817,
           "Golden State Warriors 2014-15"
          ],
          [
           0.683,
           "Houston Rockets 2014-15"
          ],
          [
           0.463,
           "Indiana Pacers 2014-15"
          ],
          [
           0.683,
           "Los Angeles Clippers 2014-15"
          ],
          [
           0.256,
           "Los Angeles Lakers 2014-15"
          ],
          [
           0.671,
           "Memphis Grizzlies 2014-15"
          ],
          [
           0.451,
           "Miami Heat 2014-15"
          ],
          [
           0.5,
           "Milwaukee Bucks 2014-15"
          ],
          [
           0.195,
           "Minnesota Timberwolves 2014-15"
          ],
          [
           0.549,
           "New Orleans Pelicans 2014-15"
          ],
          [
           0.207,
           "New York Knicks 2014-15"
          ],
          [
           0.549,
           "Oklahoma City Thunder 2014-15"
          ],
          [
           0.305,
           "Orlando Magic 2014-15"
          ],
          [
           0.22,
           "Philadelphia 76ers 2014-15"
          ],
          [
           0.476,
           "Phoenix Suns 2014-15"
          ],
          [
           0.622,
           "Portland Trail Blazers 2014-15"
          ],
          [
           0.354,
           "Sacramento Kings 2014-15"
          ],
          [
           0.671,
           "San Antonio Spurs 2014-15"
          ],
          [
           0.598,
           "Toronto Raptors 2014-15"
          ],
          [
           0.463,
           "Utah Jazz 2014-15"
          ],
          [
           0.561,
           "Washington Wizards 2014-15"
          ],
          [
           0.585,
           "Atlanta Hawks 2015-16"
          ],
          [
           0.585,
           "Boston Celtics 2015-16"
          ],
          [
           0.256,
           "Brooklyn Nets 2015-16"
          ],
          [
           0.585,
           "Charlotte Hornets 2015-16"
          ],
          [
           0.512,
           "Chicago Bulls 2015-16"
          ],
          [
           0.695,
           "Cleveland Cavaliers 2015-16"
          ],
          [
           0.512,
           "Dallas Mavericks 2015-16"
          ],
          [
           0.402,
           "Denver Nuggets 2015-16"
          ],
          [
           0.537,
           "Detroit Pistons 2015-16"
          ],
          [
           0.89,
           "Golden State Warriors 2015-16"
          ],
          [
           0.5,
           "Houston Rockets 2015-16"
          ],
          [
           0.549,
           "Indiana Pacers 2015-16"
          ],
          [
           0.646,
           "LA Clippers 2015-16"
          ],
          [
           0.207,
           "Los Angeles Lakers 2015-16"
          ],
          [
           0.512,
           "Memphis Grizzlies 2015-16"
          ],
          [
           0.585,
           "Miami Heat 2015-16"
          ],
          [
           0.402,
           "Milwaukee Bucks 2015-16"
          ],
          [
           0.354,
           "Minnesota Timberwolves 2015-16"
          ],
          [
           0.366,
           "New Orleans Pelicans 2015-16"
          ],
          [
           0.39,
           "New York Knicks 2015-16"
          ],
          [
           0.671,
           "Oklahoma City Thunder 2015-16"
          ],
          [
           0.427,
           "Orlando Magic 2015-16"
          ],
          [
           0.122,
           "Philadelphia 76ers 2015-16"
          ],
          [
           0.28,
           "Phoenix Suns 2015-16"
          ],
          [
           0.537,
           "Portland Trail Blazers 2015-16"
          ],
          [
           0.402,
           "Sacramento Kings 2015-16"
          ],
          [
           0.817,
           "San Antonio Spurs 2015-16"
          ],
          [
           0.683,
           "Toronto Raptors 2015-16"
          ],
          [
           0.488,
           "Utah Jazz 2015-16"
          ],
          [
           0.5,
           "Washington Wizards 2015-16"
          ],
          [
           0.524,
           "Atlanta Hawks 2016-17"
          ],
          [
           0.646,
           "Boston Celtics 2016-17"
          ],
          [
           0.244,
           "Brooklyn Nets 2016-17"
          ],
          [
           0.439,
           "Charlotte Hornets 2016-17"
          ],
          [
           0.5,
           "Chicago Bulls 2016-17"
          ],
          [
           0.622,
           "Cleveland Cavaliers 2016-17"
          ],
          [
           0.402,
           "Dallas Mavericks 2016-17"
          ],
          [
           0.488,
           "Denver Nuggets 2016-17"
          ],
          [
           0.451,
           "Detroit Pistons 2016-17"
          ],
          [
           0.817,
           "Golden State Warriors 2016-17"
          ],
          [
           0.671,
           "Houston Rockets 2016-17"
          ],
          [
           0.512,
           "Indiana Pacers 2016-17"
          ],
          [
           0.622,
           "LA Clippers 2016-17"
          ],
          [
           0.317,
           "Los Angeles Lakers 2016-17"
          ],
          [
           0.524,
           "Memphis Grizzlies 2016-17"
          ],
          [
           0.5,
           "Miami Heat 2016-17"
          ],
          [
           0.512,
           "Milwaukee Bucks 2016-17"
          ],
          [
           0.378,
           "Minnesota Timberwolves 2016-17"
          ],
          [
           0.415,
           "New Orleans Pelicans 2016-17"
          ],
          [
           0.378,
           "New York Knicks 2016-17"
          ],
          [
           0.573,
           "Oklahoma City Thunder 2016-17"
          ],
          [
           0.354,
           "Orlando Magic 2016-17"
          ],
          [
           0.341,
           "Philadelphia 76ers 2016-17"
          ],
          [
           0.293,
           "Phoenix Suns 2016-17"
          ],
          [
           0.5,
           "Portland Trail Blazers 2016-17"
          ],
          [
           0.39,
           "Sacramento Kings 2016-17"
          ],
          [
           0.744,
           "San Antonio Spurs 2016-17"
          ],
          [
           0.622,
           "Toronto Raptors 2016-17"
          ],
          [
           0.622,
           "Utah Jazz 2016-17"
          ],
          [
           0.598,
           "Washington Wizards 2016-17"
          ],
          [
           0.293,
           "Atlanta Hawks 2017-18"
          ],
          [
           0.671,
           "Boston Celtics 2017-18"
          ],
          [
           0.341,
           "Brooklyn Nets 2017-18"
          ],
          [
           0.439,
           "Charlotte Hornets 2017-18"
          ],
          [
           0.329,
           "Chicago Bulls 2017-18"
          ],
          [
           0.61,
           "Cleveland Cavaliers 2017-18"
          ],
          [
           0.293,
           "Dallas Mavericks 2017-18"
          ],
          [
           0.561,
           "Denver Nuggets 2017-18"
          ],
          [
           0.476,
           "Detroit Pistons 2017-18"
          ],
          [
           0.707,
           "Golden State Warriors 2017-18"
          ],
          [
           0.793,
           "Houston Rockets 2017-18"
          ],
          [
           0.585,
           "Indiana Pacers 2017-18"
          ],
          [
           0.512,
           "LA Clippers 2017-18"
          ],
          [
           0.427,
           "Los Angeles Lakers 2017-18"
          ],
          [
           0.268,
           "Memphis Grizzlies 2017-18"
          ],
          [
           0.537,
           "Miami Heat 2017-18"
          ],
          [
           0.537,
           "Milwaukee Bucks 2017-18"
          ],
          [
           0.573,
           "Minnesota Timberwolves 2017-18"
          ],
          [
           0.585,
           "New Orleans Pelicans 2017-18"
          ],
          [
           0.354,
           "New York Knicks 2017-18"
          ],
          [
           0.585,
           "Oklahoma City Thunder 2017-18"
          ],
          [
           0.305,
           "Orlando Magic 2017-18"
          ],
          [
           0.634,
           "Philadelphia 76ers 2017-18"
          ],
          [
           0.256,
           "Phoenix Suns 2017-18"
          ],
          [
           0.598,
           "Portland Trail Blazers 2017-18"
          ],
          [
           0.329,
           "Sacramento Kings 2017-18"
          ],
          [
           0.573,
           "San Antonio Spurs 2017-18"
          ],
          [
           0.72,
           "Toronto Raptors 2017-18"
          ],
          [
           0.585,
           "Utah Jazz 2017-18"
          ],
          [
           0.524,
           "Washington Wizards 2017-18"
          ],
          [
           0.354,
           "Atlanta Hawks 2018-19"
          ],
          [
           0.598,
           "Boston Celtics 2018-19"
          ],
          [
           0.512,
           "Brooklyn Nets 2018-19"
          ],
          [
           0.476,
           "Charlotte Hornets 2018-19"
          ],
          [
           0.268,
           "Chicago Bulls 2018-19"
          ],
          [
           0.232,
           "Cleveland Cavaliers 2018-19"
          ],
          [
           0.402,
           "Dallas Mavericks 2018-19"
          ],
          [
           0.659,
           "Denver Nuggets 2018-19"
          ],
          [
           0.5,
           "Detroit Pistons 2018-19"
          ],
          [
           0.695,
           "Golden State Warriors 2018-19"
          ],
          [
           0.646,
           "Houston Rockets 2018-19"
          ],
          [
           0.585,
           "Indiana Pacers 2018-19"
          ],
          [
           0.585,
           "LA Clippers 2018-19"
          ],
          [
           0.451,
           "Los Angeles Lakers 2018-19"
          ],
          [
           0.402,
           "Memphis Grizzlies 2018-19"
          ],
          [
           0.476,
           "Miami Heat 2018-19"
          ],
          [
           0.732,
           "Milwaukee Bucks 2018-19"
          ],
          [
           0.439,
           "Minnesota Timberwolves 2018-19"
          ],
          [
           0.402,
           "New Orleans Pelicans 2018-19"
          ],
          [
           0.207,
           "New York Knicks 2018-19"
          ],
          [
           0.598,
           "Oklahoma City Thunder 2018-19"
          ],
          [
           0.512,
           "Orlando Magic 2018-19"
          ],
          [
           0.622,
           "Philadelphia 76ers 2018-19"
          ],
          [
           0.232,
           "Phoenix Suns 2018-19"
          ],
          [
           0.646,
           "Portland Trail Blazers 2018-19"
          ],
          [
           0.476,
           "Sacramento Kings 2018-19"
          ],
          [
           0.585,
           "San Antonio Spurs 2018-19"
          ],
          [
           0.707,
           "Toronto Raptors 2018-19"
          ],
          [
           0.61,
           "Utah Jazz 2018-19"
          ],
          [
           0.39,
           "Washington Wizards 2018-19"
          ],
          [
           0.299,
           "Atlanta Hawks 2019-20"
          ],
          [
           0.667,
           "Boston Celtics 2019-20"
          ],
          [
           0.486,
           "Brooklyn Nets 2019-20"
          ],
          [
           0.354,
           "Charlotte Hornets 2019-20"
          ],
          [
           0.338,
           "Chicago Bulls 2019-20"
          ],
          [
           0.292,
           "Cleveland Cavaliers 2019-20"
          ],
          [
           0.573,
           "Dallas Mavericks 2019-20"
          ],
          [
           0.63,
           "Denver Nuggets 2019-20"
          ],
          [
           0.303,
           "Detroit Pistons 2019-20"
          ],
          [
           0.231,
           "Golden State Warriors 2019-20"
          ],
          [
           0.611,
           "Houston Rockets 2019-20"
          ],
          [
           0.616,
           "Indiana Pacers 2019-20"
          ],
          [
           0.681,
           "LA Clippers 2019-20"
          ],
          [
           0.732,
           "Los Angeles Lakers 2019-20"
          ],
          [
           0.466,
           "Memphis Grizzlies 2019-20"
          ],
          [
           0.603,
           "Miami Heat 2019-20"
          ],
          [
           0.767,
           "Milwaukee Bucks 2019-20"
          ],
          [
           0.297,
           "Minnesota Timberwolves 2019-20"
          ],
          [
           0.417,
           "New Orleans Pelicans 2019-20"
          ],
          [
           0.318,
           "New York Knicks 2019-20"
          ],
          [
           0.611,
           "Oklahoma City Thunder 2019-20"
          ],
          [
           0.452,
           "Orlando Magic 2019-20"
          ],
          [
           0.589,
           "Philadelphia 76ers 2019-20"
          ],
          [
           0.466,
           "Phoenix Suns 2019-20"
          ],
          [
           0.473,
           "Portland Trail Blazers 2019-20"
          ],
          [
           0.431,
           "Sacramento Kings 2019-20"
          ],
          [
           0.451,
           "San Antonio Spurs 2019-20"
          ],
          [
           0.736,
           "Toronto Raptors 2019-20"
          ],
          [
           0.611,
           "Utah Jazz 2019-20"
          ],
          [
           0.347,
           "Washington Wizards 2019-20"
          ]
         ],
         "hovertemplate": "PC1=%{x}<br>PC2=%{y}<br>WIN%=%{customdata[0]}<br>TEAM=%{customdata[1]}<br>POSS=%{marker.color}<extra></extra>",
         "legendgroup": "",
         "marker": {
          "color": [
           7731,
           7918,
           7876,
           7492,
           8051,
           7941,
           7944,
           8063,
           7991,
           7892,
           7777,
           7849,
           7840,
           7548,
           7796,
           7751,
           7820,
           7485,
           8120,
           7782,
           7895,
           7505,
           8306,
           7620,
           7809,
           7760,
           7488,
           7647,
           7781,
           7695,
           7748,
           7565,
           7486,
           7613,
           7803,
           7751,
           7955,
           7879,
           7575,
           7566,
           7559,
           7710,
           7331,
           7733,
           7679,
           7674,
           7276,
           7828,
           7619,
           7792,
           7475,
           8010,
           7514,
           7643,
           7671,
           7503,
           7662,
           7695,
           7678,
           7738,
           7480,
           7549,
           7553,
           7823,
           7537,
           7495,
           7890,
           7456,
           7721,
           7524,
           7691,
           7629,
           7346,
           7591,
           7578,
           7707,
           7487,
           7805,
           7424,
           7663,
           7482,
           7951,
           7528,
           7468,
           7414,
           7582,
           7395,
           7683,
           7602,
           7857,
           7870,
           7726,
           7568,
           7318,
           7897,
           7508,
           7696,
           7613,
           7797,
           7813,
           7353,
           7607,
           7681,
           7661,
           7522,
           7611,
           7788,
           7694,
           7637,
           7486,
           7987,
           7558,
           7379,
           7507,
           7483,
           7390,
           7680,
           7757,
           7694,
           7577,
           7814,
           7786,
           7365,
           7535,
           7384,
           7311,
           7624,
           7729,
           7670,
           7361,
           7682,
           7441,
           7475,
           7476,
           7563,
           7608,
           7379,
           7699,
           7289,
           7765,
           7428,
           7542,
           7348,
           7271,
           7751,
           7695,
           7839,
           7743,
           7707,
           7516,
           7749,
           7792,
           7364,
           7830,
           7467,
           7351,
           7564,
           7610,
           7355,
           7647,
           7584,
           7440,
           7501,
           7382,
           7634,
           7891,
           7985,
           8034,
           7481,
           7819,
           7435,
           7353,
           7762,
           7409,
           7816,
           7607,
           7722,
           7851,
           7762,
           7510,
           7397,
           7877,
           7268,
           7800,
           7358,
           7470,
           7675,
           7632,
           7232,
           7622,
           7646,
           7409,
           7513,
           7442,
           7633,
           7395,
           7780,
           8067,
           7308,
           7701,
           7382,
           7689,
           7678,
           7398,
           7742,
           7533,
           7680,
           7758,
           7790,
           7598,
           7476,
           8093,
           7332,
           8228,
           7598,
           7697,
           7554,
           7898,
           7883,
           7503,
           7709,
           7689,
           7682,
           7551,
           7661,
           7465,
           7606,
           8002,
           7431,
           7898,
           7440,
           7674,
           7719,
           7661,
           7870,
           7634,
           7575,
           7678,
           7754,
           7540,
           7518,
           8330,
           7279,
           8249,
           7525,
           8111,
           7698,
           7974,
           7945,
           7538,
           7654,
           7632,
           7679,
           7517,
           7676,
           7757,
           7536,
           8058,
           7381,
           7920,
           7377,
           8030,
           7543,
           7773,
           7533,
           7428,
           7560,
           7401,
           7816,
           7395,
           7651,
           7848,
           7302,
           8247,
           7532,
           8037,
           7723,
           7874,
           7528,
           7547,
           7736,
           7645,
           7530,
           7303,
           8066,
           7841,
           7649,
           7512,
           7984,
           7273,
           7901,
           7395,
           7697,
           7827,
           7576,
           7515,
           7609,
           7519,
           7794,
           7573,
           7757,
           7876,
           7379,
           8338,
           7857,
           8024,
           7670,
           7749,
           7816,
           7485,
           7698,
           8002,
           7628,
           7721,
           7872,
           7774,
           7614,
           7648,
           7937,
           7339,
           7855,
           7605,
           7746,
           7791,
           7656,
           7410,
           7500,
           7444,
           7542,
           7715,
           7581,
           7888,
           7428,
           7916,
           7880,
           7864,
           7718,
           7594,
           7656,
           7564,
           7477,
           8034,
           7563,
           7387,
           7945,
           7824,
           7575,
           7709,
           7930,
           7359,
           7923,
           7691,
           7723,
           7619,
           7871,
           6117,
           6055,
           6080,
           5982,
           6140,
           6195,
           6346,
           6000,
           6212,
           6215,
           6115,
           5989,
           6145,
           6099,
           6154,
           6256,
           6268,
           6036,
           5924,
           6242,
           6273,
           5978,
           6016,
           6173,
           6143,
           6333,
           6220,
           6008,
           6236,
           6182,
           7744,
           7652,
           7433,
           7632,
           7460,
           7666,
           7917,
           7960,
           7571,
           7893,
           7988,
           7420,
           7552,
           7830,
           7394,
           7572,
           7909,
           7712,
           7379,
           7462,
           7808,
           7646,
           7566,
           7793,
           7649,
           7804,
           7892,
           7591,
           7629,
           7699,
           7892,
           7745,
           7663,
           7712,
           7549,
           7784,
           7852,
           8146,
           7874,
           8045,
           8040,
           7656,
           7954,
           8177,
           7476,
           7615,
           7685,
           8139,
           7703,
           7556,
           7954,
           7837,
           8236,
           7973,
           7930,
           7840,
           7887,
           7696,
           7605,
           7872,
           7775,
           8007,
           7777,
           7753,
           7775,
           7682,
           7976,
           8011,
           7741,
           8170,
           8037,
           7753,
           7844,
           7892,
           7696,
           7526,
           7867,
           7873,
           7608,
           7618,
           7988,
           7773,
           7950,
           8058,
           7868,
           7952,
           7860,
           7736,
           7486,
           7844,
           8059,
           8191,
           7903,
           7966,
           8008,
           7764,
           7950,
           7963,
           7942,
           8303,
           8139,
           8068,
           7995,
           7930,
           7763,
           7779,
           7858,
           7965,
           8041,
           7763,
           8061,
           8018,
           8119,
           8152,
           8012,
           8302,
           7767,
           7707,
           7625,
           8163,
           8091,
           8005,
           8371,
           7934,
           7919,
           8019,
           7668,
           8167,
           7890,
           8279,
           8289,
           7989,
           7968,
           8143,
           7702,
           7875,
           7828,
           7870,
           8173,
           7990,
           8099,
           7989,
           8179,
           8320,
           8088,
           7911,
           7832,
           7867,
           7579,
           8109,
           8114,
           7987,
           8238,
           8143,
           8160,
           8114,
           7959,
           8095,
           7981,
           8251,
           8078,
           7977,
           8167,
           8361,
           7865,
           7985,
           8013,
           7985,
           8443,
           8059,
           8036,
           8096,
           8299,
           8293,
           7992,
           7860,
           7867,
           8104,
           7951,
           8087,
           8642,
           8282,
           8452,
           8202,
           8232,
           8021,
           8216,
           8096,
           8101,
           8390,
           8130,
           8097,
           8475,
           8534,
           8038,
           8122,
           8533,
           8341,
           8553,
           8244,
           8549,
           8133,
           8467,
           8371,
           8269,
           8545,
           8162,
           8334,
           8308,
           8486,
           6999,
           7255,
           7404,
           6317,
           6563,
           6497,
           7569,
           7217,
           6507,
           6623,
           7539,
           7299,
           7396,
           7211,
           7562,
           7306,
           7739,
           6736,
           7548,
           6594,
           7218,
           7255,
           7304,
           7449,
           7519,
           7239,
           7249,
           7328,
           7169,
           7475
          ],
          "coloraxis": "coloraxis",
          "symbol": "circle"
         },
         "mode": "markers",
         "name": "",
         "orientation": "v",
         "showlegend": false,
         "type": "scatter",
         "x": [
          -0.9728225824817565,
          -0.6427353720901211,
          -0.2259798552227813,
          -1.710535804484826,
          -0.7572290593855654,
          -0.11548012167848772,
          -0.505159230457783,
          -0.3068039187851867,
          -1.108657194444007,
          -0.4722872457297718,
          0.14000876619383376,
          -1.1581143247915622,
          -0.04705271271012554,
          -0.26926809276471564,
          -0.29770605397801186,
          -0.0660829240874866,
          -0.6184116187885718,
          -0.5659196630669007,
          -0.7041086640915253,
          -0.8625565328091758,
          -0.1929175158135008,
          -0.17013184046358876,
          -0.051153850749589704,
          -0.3060574878121749,
          -0.297547301166263,
          -0.4723122317558684,
          -0.27153519965321493,
          -1.0136542781625149,
          -0.7930636155890725,
          -1.1565354478157852,
          -0.7635541558369764,
          -0.6422170439181435,
          -1.2905454199970818,
          -1.1293057107711195,
          -0.07583988939680752,
          -0.45800760459210416,
          -0.9056061603024472,
          -1.332343421079906,
          -0.4416300660796525,
          -0.7067528876566627,
          -0.9562317065347566,
          -0.2212901924262124,
          -0.7197941032949003,
          -0.037247753351346655,
          -0.21915191354937205,
          -1.1358780177846073,
          -0.7171025412019201,
          -0.6263907327340139,
          -0.7201096154991685,
          -0.5949583068267529,
          -0.29824167941280216,
          -0.13211441839603216,
          -0.17741822747044103,
          -0.5138902048363507,
          -0.3045244709345415,
          -0.34266327369242927,
          -0.883865381471207,
          -1.2205848707491591,
          -0.8222026944601046,
          -0.3476033884871883,
          -0.6785341674349952,
          -1.0973239885955317,
          -0.592171544344548,
          0.2643931141994713,
          -1.0375373403279453,
          -0.35718027253616613,
          -1.1367187972451243,
          -0.9693099626035113,
          -0.5167859616480879,
          -0.6912324876608424,
          0.048343197844639064,
          -1.1172144932318098,
          -0.9203262732659464,
          -0.1647810012105673,
          -0.06181880953157188,
          -0.35983304052708376,
          -0.7666686579899549,
          -0.16707731150690502,
          -0.9935543845375923,
          -0.6343001124879255,
          -0.3295340792899868,
          0.21723462328106946,
          -0.36000690822799736,
          -0.1798381849588902,
          -0.8151965649766448,
          -0.8051622068882418,
          -0.7173881462941005,
          -0.7968936555460105,
          -0.646891736893783,
          -0.8786336348506736,
          -1.33592391876891,
          0.34693353873416954,
          -1.778556419758132,
          -0.5864061270233694,
          -0.6637698999062369,
          -0.7613184899927175,
          -0.48871954952684593,
          -0.9818828975204821,
          -0.22471638367051677,
          -0.5081038597954061,
          -1.2870535631385847,
          -0.13343378661112043,
          -0.09144604134640157,
          -0.49872424308607893,
          -0.6360031461642544,
          -0.32639640112674023,
          -0.504593008710028,
          -0.6763473336462832,
          -0.6654593590547309,
          -0.5029862683775814,
          0.20026494804246522,
          -0.4666449481024914,
          -0.6101046237125552,
          -1.0801797393329466,
          -0.6425425836582872,
          -0.8589304704976694,
          -0.9672794377652104,
          -0.6862268061910832,
          -1.1295915376961263,
          -0.8885366875328818,
          0.2151700807808506,
          -0.7232659361411901,
          -0.8003090325120488,
          -0.7362035766146838,
          -0.7372502968784082,
          -0.6137309884487319,
          -1.1336320489699476,
          -0.25739403478538125,
          -0.5582486887296498,
          -0.8336937609260798,
          -0.3584392721464821,
          -0.11559188413070022,
          -0.5078245917845918,
          -0.8628119515124585,
          -0.7328584158063317,
          -0.9973591420033935,
          -1.1725842976340304,
          -0.854033212531393,
          -0.8093724844310589,
          0.26298863748577544,
          -0.564194627690461,
          -0.36975173286759283,
          -1.0538024904238281,
          -1.3640101120711743,
          -1.316688474682007,
          -1.2458289428043572,
          -0.3759026593379284,
          -0.9679145140821833,
          -0.7284771566369495,
          -0.6606163569097134,
          -0.2027339606968535,
          -0.3745686844082348,
          -0.5703644501912379,
          -0.45955371524528454,
          -0.3038439965953631,
          -0.7844735595197604,
          -0.6841577148050104,
          -0.5320115132689343,
          -0.6520770240695785,
          0.07544122679240918,
          -0.6432367029578818,
          -0.21299851426947125,
          -0.7716792593812977,
          -1.2680502757455046,
          -0.6334125177638988,
          -0.707485422572391,
          -0.4592561649125043,
          0.5988199843371322,
          -0.8798917948574538,
          0.08666982322767885,
          -0.26984300719960613,
          -0.494983729566762,
          -0.2875465374073936,
          -1.0877259572719415,
          -0.6637361413332791,
          -0.5982426836808723,
          -0.25549556801181883,
          -0.5059675601308948,
          -0.07342276559831189,
          -0.14788947558555343,
          -0.11281095079476364,
          -0.06003787904763656,
          0.3552635970960752,
          -0.22503003120536327,
          -0.5716261013365106,
          -0.3419149035547937,
          -0.05550846086396918,
          0.022385351540794515,
          -0.2997828739598776,
          0.2187629906938619,
          -0.11773670518858054,
          -0.4889483867164124,
          -0.07196151992478507,
          -0.5678579820666911,
          -0.9018961631712722,
          -0.50116156732121,
          -0.1804216117029724,
          1.176452631769047,
          -1.0096695109468783,
          0.02251065859153032,
          0.17703712987720152,
          -0.14088273131385695,
          -0.051199705186002836,
          -0.7156258284562492,
          -0.1823727476880482,
          -0.7862732205386701,
          -0.5685438842504109,
          -0.36092910285145724,
          0.01007840470084853,
          -0.13696132679941428,
          0.267366036509849,
          0.12235863637528989,
          0.017177358016180318,
          0.2916443049220397,
          0.14883270521627628,
          -0.47423771066407455,
          -0.26783818588571157,
          0.15047864454358753,
          -0.24420454087159807,
          -0.13741649974090175,
          -0.22657969804568023,
          -0.21564096013504216,
          0.09407662309282318,
          -0.3536665888134728,
          -0.53065885376577,
          -0.5366169618101634,
          -0.4547503329236453,
          1.164518885703887,
          -0.6174074581633973,
          -0.08468520857979615,
          0.44943674692933555,
          -0.20739022956391065,
          0.30455399610831113,
          0.04152911923757391,
          -2.8707213782514906e-06,
          -0.25417341906442786,
          0.40595648291034603,
          -0.3071261699300007,
          -0.3284793117721369,
          -0.26021977832970716,
          0.28663423890866935,
          0.6414305491898251,
          0.24227087585545168,
          0.5792503890083348,
          0.06910477715875113,
          0.248532434291833,
          -0.49137202647676215,
          0.8089510470392991,
          -0.12129641177761613,
          -0.5859101940215318,
          -0.41450811115971514,
          -0.5038758602617751,
          -0.2528419798532509,
          0.5147366709905802,
          -0.5579927815229255,
          0.5707945088864912,
          -0.4047015524305983,
          1.1264549556364523,
          -0.08390569658510841,
          -0.10814719942368993,
          0.27210271730437974,
          -0.4475970984837305,
          0.5540834936349502,
          0.5906695740652718,
          -0.09948014699039437,
          0.04820804679865427,
          0.38096546366046474,
          -0.4295942018672878,
          -0.014502323419911593,
          0.43691653725507423,
          0.39023549296148297,
          0.20951788444231711,
          -0.1726870058017306,
          0.12617684542859145,
          0.1539977990459258,
          0.2872421092563139,
          -0.46079515223808915,
          0.6210488259711089,
          -0.647303923207026,
          0.09052219841514825,
          -0.11448904734327316,
          -0.3298507031148077,
          -0.0680981224031143,
          0.08675018348695357,
          0.2548725070762541,
          -0.4895052053299086,
          0.4194855020825856,
          -0.3537372227656673,
          0.6023271743078679,
          0.16853436056150736,
          -0.3503132914847382,
          0.45432833058783473,
          0.12421367120567982,
          0.2379215131772837,
          -0.49891659557419843,
          0.3233132413469645,
          0.26584588879973653,
          -0.3271950088527199,
          -0.1850231029539136,
          0.5806850875219463,
          0.510715423159614,
          0.3087929293729261,
          -0.6465732232348389,
          0.35737934144879246,
          0.06712443859855907,
          0.010489490116319436,
          -0.29930983321761845,
          0.2825169084094777,
          -0.2467987689204765,
          -0.06718228271203852,
          0.05173074364531829,
          -0.4926560324555542,
          -0.8053190743928014,
          0.21413619270932097,
          0.20807629319687176,
          0.004249291128267233,
          0.5937443085318845,
          -0.18703502021046856,
          0.7967529795266328,
          0.08176656174929682,
          -0.2505500686066898,
          0.3707323122472974,
          0.3230784540323658,
          0.5371380500387833,
          -0.4667502833575022,
          0.02838561198396297,
          0.31595843429252807,
          -0.4268426873316029,
          0.1756616148402013,
          -0.455275194617202,
          0.5636712069379612,
          0.5839873810490593,
          -0.2138226556292484,
          0.1768662210871854,
          0.4423802979485342,
          -0.13464093838289287,
          -0.25267806857849395,
          0.3263647225788762,
          -0.12635684084376475,
          0.4505289129156125,
          -0.44237710484599635,
          -0.3680225518268597,
          -0.45128494915151396,
          -0.0640107329092247,
          0.4359392448202599,
          0.2265815533823258,
          0.24432506046345173,
          0.20005669967010853,
          0.47034445814425074,
          -0.09115808515361876,
          -0.41371200439292616,
          0.657661756676599,
          -0.33520397157795506,
          -0.04382758079602243,
          -0.6188767943404768,
          0.1340822710452352,
          -0.0406786718000696,
          -1.1468605696269785,
          0.06710521660888168,
          -0.8036997553852738,
          0.02067043703750947,
          0.2583328011088401,
          -0.8440071107872837,
          -0.026093980523860975,
          -0.08936691948056553,
          -0.31756337747689,
          -0.0305835389877101,
          -0.018766968077027185,
          -0.45994256744717393,
          0.03869650764577785,
          -0.018610228712383253,
          -0.3457348779901962,
          -0.6251178242105231,
          -0.7196368093689006,
          -0.19007549888476066,
          0.10139272848937113,
          -0.13812491034583277,
          0.09400729479548553,
          0.0657711068595207,
          -0.17261629426753902,
          -0.5196355876888304,
          0.697570552611964,
          -0.577869326795577,
          -0.20861054250259878,
          -0.6524402753368559,
          0.35969351861941345,
          0.08837131727542064,
          -0.11969664789787623,
          -0.7368993559870136,
          -0.2807716158715422,
          -0.44601926943910636,
          0.38646120448913723,
          0.3348831948760977,
          -0.4131588531551659,
          0.31713162174409354,
          0.4332112597878869,
          -0.23698525451926108,
          0.424427681173203,
          0.26527747928745865,
          -0.2924642465609327,
          0.8032409444892938,
          -0.02429667342295658,
          -0.3065618109786413,
          -0.38332688307251356,
          0.3609067013701468,
          0.6088230246494049,
          -0.23842481409170235,
          -0.14601829841254396,
          -0.3924414870907537,
          -0.028045462713150913,
          -0.21142971791183107,
          0.8151446084303567,
          -0.12106775633420083,
          -0.09924334740685377,
          -0.2877059916818321,
          0.4415037460689225,
          -0.3256956985884677,
          0.08074546076876604,
          0.12365630389951193,
          -0.20254183503251627,
          -0.16657576279353167,
          0.6915809811034048,
          0.11206166672586709,
          -0.2538945097283558,
          0.6103307330072234,
          0.47623859825983106,
          0.07921037424284433,
          0.7888865556166038,
          0.31663123636038065,
          -0.001751777662062826,
          0.6377914150573951,
          -0.46788941977392606,
          0.4123814469360996,
          -0.08522566830745922,
          0.13222333198607425,
          0.601672401313587,
          -0.1814004131800853,
          -0.4533234782471493,
          0.3148567454163004,
          0.6649384785195707,
          -0.2548116620430939,
          1.0023325764322792,
          0.17222224856936197,
          -0.3668652292215067,
          0.3197010121054683,
          0.7745806831566276,
          0.292826185788019,
          -0.013859159987889363,
          -0.15253839342428208,
          0.2148242005221216,
          0.4789870454671799,
          0.6367914996664519,
          -0.08057564503325859,
          -0.021415007833039755,
          1.281263848225496,
          0.2477607954173918,
          0.09232896970682457,
          1.0109289288041634,
          -0.1902611639264495,
          0.1609023361259654,
          -0.23710231826676437,
          -0.004352656964672333,
          -0.47155264188931867,
          0.17571710471098867,
          -0.525365170676963,
          0.20907959407048415,
          -0.2053089191481447,
          -0.8258940317183213,
          0.17247168352972525,
          0.6386833545474406,
          -0.1918261283019393,
          0.7331270825048766,
          0.3380753487178116,
          -0.24557158947065016,
          0.24740707854915897,
          0.6926073429613697,
          0.5040055699429923,
          -0.04307691232964217,
          0.6559356684033524,
          0.28655641582622454,
          0.7506682872630959,
          0.5395023507995492,
          0.10201699106929986,
          0.17784678778407972,
          1.6526023876556177,
          0.2928771420891544,
          0.308086168346636,
          0.7450782079713959,
          -0.4599365197271523,
          -0.11896795389058328,
          0.29721983490805165,
          -0.05319253158004925,
          0.10617773138277205,
          0.37136039071029237,
          0.061708135608563024,
          0.6989195998222546,
          0.3353013700395477,
          -0.3235441112263512,
          -0.13996078233987633,
          0.41898543578501163,
          0.43350544771684557,
          1.028300234158601,
          0.33538047904464335,
          -0.022243526460298372,
          0.585636788552692,
          0.3564747545209247,
          0.9261435381293639,
          0.28024723000398444,
          0.7579691490717633,
          0.34446571124560643,
          1.0625956357645585,
          0.4217633230420132,
          0.92117759307023,
          0.4269015478127306,
          1.7294446671720072,
          1.1768369422485205,
          0.5934368321200877,
          1.0077060116667387,
          0.11105978987225927,
          0.2264442429703131,
          0.4127657026377164,
          0.5879560835653926,
          0.3999805008896265,
          0.639843876478008,
          0.262467798240811,
          0.3276701766974254,
          0.19540339833759074,
          0.17365088962113076,
          0.0738111184595585,
          0.5950286297466355,
          0.35332577874343435,
          0.9058637291962645,
          0.5195934571900164,
          0.5353913361479457,
          0.8034280330004049,
          0.4042068656750602,
          0.7451464008250975,
          0.5884555253072148,
          0.7453043841579742,
          0.46100516744403525,
          1.1132928743759523,
          0.6696400441216205,
          0.9376719752590978,
          0.6081115163887648,
          1.5765516214239805,
          1.2513712301453912,
          0.7033906311498227,
          0.6423733854262227,
          0.5884287318868678,
          0.007543653592350206,
          0.634824431217494,
          0.6842094329898261,
          0.8223968194076823,
          1.227108275293062,
          0.4383893146689499,
          0.5750893463970356,
          0.4455462504569112,
          1.0046153194487326,
          0.06596675632779177,
          0.6088305419600807,
          0.16157429983383587,
          0.6453379048686029,
          1.187096728220639,
          0.7641011066224841,
          0.7588536508853454,
          0.7534753707814795,
          1.3739337770823776,
          0.8290592373015789,
          0.8985968923467809,
          0.3604053443257846,
          0.23315362836811407,
          0.7789909703169695,
          1.1495152698579088,
          0.5993928824691002,
          1.7979242986756618,
          1.0420112406104205,
          0.9836453314107783,
          0.9916190029208236,
          0.8871650506530334,
          0.5052082360267585,
          0.6312135493609974,
          1.7417058917497321,
          0.8473036465159982,
          1.1007925138908432,
          0.12941715930697323,
          0.9668127027968408,
          1.0187344368049995,
          1.2304894507916373,
          0.3526557997003908,
          1.0935601327490727,
          1.0762038909123743,
          1.298267260176214,
          1.3612042383890586,
          1.1793983777670605,
          1.0323250775012993,
          0.5094275038986693,
          1.0922013626124591,
          0.8786275876188943,
          0.26662730700015375,
          0.417573808345327,
          0.3685736836488014,
          1.4894103844312019,
          1.0993088644087632,
          0.5230718104515927,
          0.412732963567167,
          1.1209582033717584,
          1.1149075369621966,
          1.2309558905058933,
          1.1805741057801808,
          1.0286276801828904,
          1.231363386231927,
          1.763207759517717,
          0.7092265872215429,
          1.0897645682388235,
          0.24874175253618935,
          0.9581362380072218,
          0.7673083075639965,
          1.0982042446240767,
          1.1109271977133814,
          1.002545235386354,
          0.864944816882789,
          1.2338817525892316,
          1.1775145832619869,
          1.0547811814436532,
          0.8746427019938919
         ],
         "xaxis": "x",
         "y": [
          0.16685090145864354,
          -0.03502826764321594,
          -0.7025875546846058,
          0.3257277310781353,
          -0.05540753749163335,
          -0.044060964462028424,
          -0.10286803715800091,
          -0.24314132462227328,
          0.39374299415177844,
          -0.1092736814192631,
          -0.6277171692805824,
          0.7290130525252564,
          -1.0326154815480841,
          -0.7357440289070023,
          -0.3310101942523367,
          -0.7211122464728836,
          0.007998900951812566,
          -0.3888586084296511,
          -0.17660226440730178,
          -0.43221125837942403,
          -0.7340267609521285,
          -0.9854773545401606,
          -0.21192147539780395,
          -0.8893030185610858,
          -0.2161197790755797,
          -0.39755896859510664,
          -0.9541584529411093,
          0.13007989837334016,
          -0.01899257859512174,
          0.22336358542153134,
          -0.05244213746282733,
          -0.7027994716941971,
          0.23183991620609934,
          -0.05994934600779039,
          -0.5202525323914495,
          -0.16794384276637378,
          -0.06189407629326398,
          0.4167912312768315,
          -0.3802102833627154,
          -0.41742750218809815,
          -0.09813038992382335,
          -0.7261550689884875,
          -0.5015089838496628,
          -0.5488433054618732,
          -0.6094919460701512,
          0.19000041052176175,
          -0.5097269263139913,
          -0.3099288510308011,
          -0.7305792017274099,
          -0.5447315584356156,
          -0.87044457802185,
          -0.615955841023768,
          -1.0852943548308642,
          -0.32189072962009496,
          -0.609661042762659,
          -1.0351318822751854,
          0.04251731159037184,
          0.18192972943258404,
          0.09070657277243802,
          -0.25577220432948633,
          -0.5218265679735269,
          0.18252994240710463,
          -0.20367423516435126,
          -0.4869994725129623,
          0.17611112069337956,
          -0.6013871243025382,
          0.1544000761998325,
          0.17382954559228178,
          -0.4114832489985793,
          -0.31802785015890217,
          -0.8323574430834968,
          0.16829305480070536,
          -0.32160354235484656,
          -0.30939137933416605,
          -0.6764419093950171,
          -0.7066890291557766,
          0.017877147103338112,
          -0.2568408992106684,
          -0.5172076491454927,
          -0.16564103802758898,
          -0.6460464356797415,
          -0.8362983596822721,
          -0.8340559099434067,
          -0.5797258235735022,
          -0.37805941263672616,
          -0.7296650317458636,
          -0.29241368119964745,
          -0.12069007678444514,
          -0.0701846693051908,
          0.05553596562389468,
          0.36706777331924734,
          -0.7519455350444554,
          0.29443653128674585,
          -0.6405054253979144,
          -0.18176113383458622,
          -0.3983039906558013,
          -0.6716444121615704,
          0.009985407773117615,
          -0.5677495039351907,
          -0.08355002220095821,
          0.17170530570094045,
          -0.31665046186259604,
          -0.6705277281935478,
          -0.7718911270788037,
          -0.5727961366727623,
          -0.09358079802815485,
          -0.12969704824893924,
          -0.4998141092459438,
          -0.3151588162641272,
          -0.6246189735516562,
          -0.7893090939374703,
          -0.8019761539160516,
          -0.34188450480941573,
          0.20641100191730868,
          -0.9971364550412662,
          -0.32929453941096487,
          0.054770088862944516,
          -0.11520959127121239,
          0.18534685638284518,
          -0.2690110912205816,
          -0.5663126616514078,
          -0.4105196681851317,
          -0.9516907724424996,
          -0.2251880538712336,
          -0.47687244405487317,
          -0.8648568676104151,
          -0.022016438204307497,
          -0.7796502619661417,
          -0.6248290901517458,
          -0.2781572322649607,
          -0.4446332625033971,
          -0.9414082761033231,
          -0.7126028450939792,
          -0.2666344930403321,
          -0.2424322321811804,
          0.372245681794133,
          -0.21118312936407793,
          0.11104481407289955,
          -0.3828748581303966,
          -0.7986030644249019,
          -0.9561517710462113,
          -0.17785297876957107,
          -0.0881782160500862,
          -0.4630907823830935,
          0.19765766444883207,
          0.49933941391266645,
          -0.4173490230207629,
          0.09373835785736383,
          -0.34258129562197587,
          -0.5306588461187877,
          -0.6722482254860075,
          -0.6463517973714358,
          -0.8615248648444285,
          0.025614253781508983,
          -0.649775389745143,
          -0.35021199110040063,
          -0.5758479765036036,
          0.018266788342235926,
          -0.5300039561420403,
          -0.9534457255246953,
          -0.1362303054868745,
          -0.5800783276252125,
          -0.3187552458158014,
          0.24162534523732257,
          -0.06269012587156172,
          -0.1427744946806823,
          -0.15313248108547173,
          -0.6615111241855245,
          -0.1195759516965642,
          -0.5149382279734175,
          -0.9815114387164675,
          -0.3863778697199057,
          -0.016799880016676313,
          -0.21428440644604088,
          -0.16018825046436716,
          0.3699137034061249,
          0.14213144406792375,
          0.44800151440286534,
          0.07698251766173611,
          -0.11665644056106708,
          -0.5016384961785124,
          -0.08706615228082493,
          -0.7937715924637978,
          0.35165467297661646,
          0.11828079342594423,
          -0.11011121222709144,
          -0.2273138099821723,
          -0.1196236390654769,
          -0.24909212530301517,
          -0.3129370240493376,
          0.11654692146014017,
          0.009862652688336812,
          -0.21964592544336278,
          0.2213612169690375,
          0.5048694827080166,
          0.007064328986177754,
          0.1456646977227353,
          -0.27139310620474716,
          0.6592931440326051,
          -0.09012738112439299,
          -0.603403923863123,
          0.3296462021799157,
          0.4657525509710303,
          -0.08121492624581762,
          0.05048311704596769,
          0.3130670814963756,
          0.367952028156075,
          0.2630106036590935,
          -0.3229558852519809,
          -0.2277733593269197,
          -0.5738586435781518,
          -0.04622811010593377,
          -0.47804301416726985,
          0.24490229019497287,
          -0.24917003724369496,
          0.224553675122857,
          -0.1794380749174119,
          0.09819514148183643,
          0.5017671580944031,
          -0.014385793921201066,
          0.4797203085001298,
          0.16395625058620467,
          0.009738729832906601,
          0.22093123413217283,
          0.30337485674882775,
          -0.10629612858992463,
          0.09796345550730934,
          -0.44984642612291315,
          0.33678613313533645,
          0.3277910148353782,
          -0.667656180643595,
          0.27991606500218486,
          -0.05623624657705476,
          -0.3954859285170195,
          0.21733150011856056,
          -0.0032888576646035307,
          -0.8197735563852212,
          0.3405165190925184,
          0.2456046015948936,
          0.04181293193496792,
          -0.3337329696876493,
          -0.17100111653804667,
          -0.7304069528073731,
          0.23791268367565854,
          -0.32905048924408464,
          0.3437379469462659,
          0.46285926281064066,
          -0.45604139801825183,
          0.7602152055832699,
          0.631261372040087,
          0.49107238173164597,
          0.6487561462051598,
          0.19328721755990064,
          -0.3394014472288007,
          0.695985786302675,
          -0.1801137006047313,
          -0.057802508823904634,
          -0.4101902400219092,
          -0.009496204125868117,
          0.3446902146964606,
          -0.33912483405388955,
          0.7070760503052793,
          -0.2366984411929995,
          -0.6568849233244345,
          0.0824008605534191,
          -0.10374351266672596,
          -0.6739580564997405,
          0.029486776277157515,
          0.08157886451416624,
          -0.6621199279286086,
          -0.1442656015921555,
          -0.27416623833871984,
          -0.05293254977121919,
          0.48331333665907955,
          -0.21897105089019248,
          0.32794893808210024,
          0.6724967950337399,
          -0.4913704198666886,
          0.5118430835210649,
          0.009567577392203944,
          0.1733898591083349,
          0.5281338648641509,
          0.27503328240966923,
          -0.1576475887237725,
          0.6033879572118195,
          0.4716370614183012,
          -0.3286886490923116,
          -0.05034844308255008,
          -0.11391761741149202,
          -0.4562815955892998,
          0.8078333195439892,
          -0.2573120397757006,
          0.1741852943105205,
          -0.3138072686475665,
          0.5997849495531038,
          -0.331441816290877,
          -0.37933349324842003,
          -0.12777110429776012,
          0.13156851032081096,
          -0.5762668420136416,
          -0.29891222260286965,
          -0.17202127231483066,
          0.42494848670589563,
          0.5882998046015578,
          0.2769484669973254,
          0.47319567115718847,
          0.38377495612898704,
          -0.2375522940171501,
          0.2613916532489221,
          -0.13116488283501815,
          0.09639008483159066,
          0.8972305231978072,
          0.78769721589852,
          0.2570236896125392,
          0.5201091516514471,
          -0.22825487346243822,
          -0.38221397779364386,
          0.2725397581485083,
          -0.2555561596440643,
          -0.2937023589332689,
          0.5111034962951382,
          -0.2878768525469787,
          0.14032524240319827,
          -0.562734512795993,
          0.4846339870095644,
          -0.02274396679055697,
          -0.5923257054899722,
          0.2218897673084258,
          -0.5979568453596272,
          0.751067199784883,
          -0.40856831324153037,
          -0.15611220098157785,
          0.23862954039138043,
          0.2900764971563295,
          -0.026722818365819724,
          0.302291683829979,
          0.2249263578835924,
          -0.43407484040367117,
          -0.11237730880514173,
          -0.5614261445022753,
          0.18264006980858633,
          0.7330911399099302,
          0.4638027855426953,
          -0.1266134604875094,
          0.1510979030050584,
          -0.28702878399351656,
          -0.2580116265940989,
          -0.09537877460894557,
          0.17275965654846379,
          -0.18033301830643408,
          0.5661355726454553,
          -0.37385174348687705,
          0.4973372777534631,
          -0.017409542989397703,
          0.6359975863973831,
          -0.2684281000448543,
          -0.39340321088877284,
          0.9836292303204196,
          -0.7647615942578521,
          0.6185604455681908,
          -0.027275930937743272,
          -0.1778847539090953,
          0.3861366928912665,
          0.2995499198416464,
          0.0777829618819163,
          -0.16860949998094377,
          -0.19378228662060057,
          -0.2623788292799319,
          -0.1733179366155964,
          -0.4897260639726659,
          -0.0032110792133339073,
          0.37564989492593104,
          0.5143783344551293,
          0.1499726655463178,
          -0.04736607429570875,
          -0.37747385725080546,
          0.009325741151194505,
          -0.3461161198010549,
          0.01778670061331291,
          0.156834853454973,
          0.6717025219958815,
          -0.46839332479588247,
          0.1757875476970159,
          -0.11328154236182805,
          0.44950868296641294,
          -0.030592082702812273,
          -0.002836161232477157,
          -0.11521632480841643,
          0.7637076308282713,
          -0.1618050526327054,
          0.572275544014114,
          0.07895595778599618,
          -0.3284743229776659,
          0.34024312858949524,
          0.03187149504742281,
          0.021921947675843458,
          -0.25214348059154035,
          -0.5532005607315225,
          0.009273946019871422,
          -0.38644707300059716,
          -0.6919484599705148,
          0.1732434091916438,
          0.22929744678060032,
          0.3137890169086513,
          -0.07105715022888989,
          -0.6882820967200097,
          0.5652786859974765,
          0.22836591422571553,
          0.5005844608071851,
          0.33895180155381405,
          0.5728661284882252,
          -0.44930038621093527,
          0.17862401454171953,
          -0.06765633067352211,
          0.24234147846230447,
          0.10894494219613247,
          0.4914210115915837,
          0.12501141718619363,
          0.05612137415484511,
          -0.22487580048481678,
          0.40606267868570073,
          -0.12386398822742539,
          0.38044695497951003,
          0.4468416870977183,
          -0.14679244341782377,
          -0.12592569924104907,
          -0.26501251659745934,
          -0.4416880899753848,
          0.5932879372355299,
          -0.2046820888182252,
          -0.37994369797987637,
          0.6511515829807634,
          0.055358229538223315,
          0.22503947994096388,
          0.20978795209497625,
          -0.3765469108619374,
          0.5509072991091131,
          1.0436217436335786,
          0.1237335711706899,
          -0.14074656973836258,
          0.48329099860589647,
          -0.4922977962192614,
          -0.08326670368002594,
          0.597455310183623,
          -0.013313571136653794,
          -0.39406420360396915,
          0.1959400932811629,
          0.3351556936822029,
          0.41057451963652136,
          -0.1335928467389637,
          -0.14889380442488948,
          0.016972170607869975,
          0.5623061274233989,
          0.297047291658315,
          -0.6490443283761413,
          0.015246971509985852,
          0.15416463060122798,
          -0.40580023418422345,
          0.6519593110813053,
          -0.21831411685999316,
          0.20664863630455726,
          -0.0346317581236413,
          0.6841019973899094,
          -0.040816050941585795,
          0.7029632809508682,
          0.11366236588507686,
          0.6116815602694078,
          0.8516820868412628,
          0.37461827055445407,
          -0.058620611406469084,
          0.41992146578087586,
          -0.3811940945859355,
          0.01424355254925109,
          -0.002855420699566533,
          -0.1323909253601386,
          -0.10101049454580323,
          0.06079604000590152,
          0.6295676239531736,
          0.11599528397062216,
          0.2476943200807916,
          -0.1855922418404289,
          0.28423399694970314,
          0.42586823884578684,
          0.32944855965884584,
          -0.644926005333733,
          0.2508293226379939,
          0.11377387584953143,
          -0.16414203409642492,
          1.0544401142965363,
          0.2798988712280619,
          -0.0956395123393937,
          0.26558649398561124,
          0.23750019913731193,
          0.5389344270551973,
          0.3291625062000716,
          -0.3430285197788585,
          0.3060628169481502,
          1.0256095325767465,
          0.8346683481184405,
          0.2683077293524019,
          0.3632309783928526,
          -0.7899960821156141,
          -0.1139888970607826,
          0.06532831198785685,
          0.22508421095299935,
          0.2086201093500637,
          0.03694113610596757,
          0.9124652770047287,
          0.24247237749815018,
          0.10714203292944398,
          0.1288180033978933,
          0.47382629360720346,
          0.18822436178455784,
          0.3710971442428289,
          -0.7699775525208739,
          0.022034186014674814,
          0.17962528469837585,
          -0.0941841753646651,
          0.8252038067204739,
          0.14318960358446625,
          0.20975763912146378,
          0.037425880906091495,
          0.1652199434284226,
          0.4035060527531258,
          0.4671360286089979,
          0.24293973717721049,
          0.6819343885820818,
          0.6122912474850558,
          0.8009462595559061,
          0.3679153497596806,
          0.4273824670982569,
          -0.4760580976122676,
          0.03750153715032335,
          -0.16399885688646476,
          0.07142112909607796,
          0.7058667296339353,
          0.006907768667171805,
          0.6728361804009341,
          0.3553259089085496,
          0.8050223350631504,
          0.229787107217006,
          0.6290459696416838,
          0.10232936182947998,
          0.32460030827559777,
          -0.446770433755279,
          -0.10809525126772938,
          0.1550881233827913,
          0.3215985130900232,
          0.46583173055406224,
          0.6735669464780518,
          0.22551146148941012,
          0.13750967823030313,
          0.026623302332783285,
          0.09029205416927763,
          0.45802400962391093,
          0.11857916191238156,
          0.6244274261533728,
          -0.16021845971069512,
          1.0388460368486983,
          0.22351992639585047,
          0.7147521931284639,
          -0.06828971549762154,
          -0.20551045242705468,
          -0.04889507801674893,
          0.10607469426360737,
          0.8413262702441883,
          -0.0007320668832002827,
          0.4850694172920976,
          0.5124165600286067,
          0.9322320415196198,
          1.087256530862512,
          0.5194683794383885,
          -0.0812923366958531,
          0.45813829094142755,
          -0.270657146646309,
          0.2624513603789834,
          -0.06280910345618507,
          0.2836562736899437,
          0.48210447354567904,
          0.377988482690136,
          0.2957338962968965,
          -0.14002904998162385,
          0.42876067077368984,
          0.4385463958973263,
          1.091067756105031,
          0.2984037179000799,
          0.2080921019999923,
          -0.023806141324713755,
          0.930940969855441,
          0.1019054214368518,
          0.4890310110839232,
          0.09137900426228612,
          -0.08048865215871072,
          -0.09896634427331141,
          0.5398170459423574,
          0.9863792023973819,
          0.004323640320614314,
          0.47339149520607626,
          0.698581685433994,
          0.6808187715939694,
          0.9084806804472664,
          0.1463252258528768,
          -0.009255854892215464,
          0.5606195490679979,
          0.7837268501169257,
          0.4887551480174461,
          0.051095723726475646,
          0.0008869863170390293,
          -0.19183107721189355,
          0.3461560380211118,
          -0.01334062869951298,
          -0.17603222954715117,
          0.8103151652734696,
          0.47766830937511395,
          0.7301699546717345,
          0.18387181566394178,
          0.33574044555934074,
          0.0028135074958533864,
          0.2670944712502402,
          0.6112611388399252,
          0.5221275764920226,
          0.3271259387913983,
          -0.061370455718294324,
          0.21129485776925538,
          0.719396182236297
         ],
         "yaxis": "y"
        }
       ],
       "layout": {
        "coloraxis": {
         "colorbar": {
          "title": {
           "text": "POSS"
          }
         },
         "colorscale": [
          [
           0,
           "#0d0887"
          ],
          [
           0.1111111111111111,
           "#46039f"
          ],
          [
           0.2222222222222222,
           "#7201a8"
          ],
          [
           0.3333333333333333,
           "#9c179e"
          ],
          [
           0.4444444444444444,
           "#bd3786"
          ],
          [
           0.5555555555555556,
           "#d8576b"
          ],
          [
           0.6666666666666666,
           "#ed7953"
          ],
          [
           0.7777777777777778,
           "#fb9f3a"
          ],
          [
           0.8888888888888888,
           "#fdca26"
          ],
          [
           1,
           "#f0f921"
          ]
         ]
        },
        "legend": {
         "tracegroupgap": 0
        },
        "margin": {
         "t": 60
        },
        "template": {
         "data": {
          "bar": [
           {
            "error_x": {
             "color": "#2a3f5f"
            },
            "error_y": {
             "color": "#2a3f5f"
            },
            "marker": {
             "line": {
              "color": "#E5ECF6",
              "width": 0.5
             },
             "pattern": {
              "fillmode": "overlay",
              "size": 10,
              "solidity": 0.2
             }
            },
            "type": "bar"
           }
          ],
          "barpolar": [
           {
            "marker": {
             "line": {
              "color": "#E5ECF6",
              "width": 0.5
             },
             "pattern": {
              "fillmode": "overlay",
              "size": 10,
              "solidity": 0.2
             }
            },
            "type": "barpolar"
           }
          ],
          "carpet": [
           {
            "aaxis": {
             "endlinecolor": "#2a3f5f",
             "gridcolor": "white",
             "linecolor": "white",
             "minorgridcolor": "white",
             "startlinecolor": "#2a3f5f"
            },
            "baxis": {
             "endlinecolor": "#2a3f5f",
             "gridcolor": "white",
             "linecolor": "white",
             "minorgridcolor": "white",
             "startlinecolor": "#2a3f5f"
            },
            "type": "carpet"
           }
          ],
          "choropleth": [
           {
            "colorbar": {
             "outlinewidth": 0,
             "ticks": ""
            },
            "type": "choropleth"
           }
          ],
          "contour": [
           {
            "colorbar": {
             "outlinewidth": 0,
             "ticks": ""
            },
            "colorscale": [
             [
              0,
              "#0d0887"
             ],
             [
              0.1111111111111111,
              "#46039f"
             ],
             [
              0.2222222222222222,
              "#7201a8"
             ],
             [
              0.3333333333333333,
              "#9c179e"
             ],
             [
              0.4444444444444444,
              "#bd3786"
             ],
             [
              0.5555555555555556,
              "#d8576b"
             ],
             [
              0.6666666666666666,
              "#ed7953"
             ],
             [
              0.7777777777777778,
              "#fb9f3a"
             ],
             [
              0.8888888888888888,
              "#fdca26"
             ],
             [
              1,
              "#f0f921"
             ]
            ],
            "type": "contour"
           }
          ],
          "contourcarpet": [
           {
            "colorbar": {
             "outlinewidth": 0,
             "ticks": ""
            },
            "type": "contourcarpet"
           }
          ],
          "heatmap": [
           {
            "colorbar": {
             "outlinewidth": 0,
             "ticks": ""
            },
            "colorscale": [
             [
              0,
              "#0d0887"
             ],
             [
              0.1111111111111111,
              "#46039f"
             ],
             [
              0.2222222222222222,
              "#7201a8"
             ],
             [
              0.3333333333333333,
              "#9c179e"
             ],
             [
              0.4444444444444444,
              "#bd3786"
             ],
             [
              0.5555555555555556,
              "#d8576b"
             ],
             [
              0.6666666666666666,
              "#ed7953"
             ],
             [
              0.7777777777777778,
              "#fb9f3a"
             ],
             [
              0.8888888888888888,
              "#fdca26"
             ],
             [
              1,
              "#f0f921"
             ]
            ],
            "type": "heatmap"
           }
          ],
          "heatmapgl": [
           {
            "colorbar": {
             "outlinewidth": 0,
             "ticks": ""
            },
            "colorscale": [
             [
              0,
              "#0d0887"
             ],
             [
              0.1111111111111111,
              "#46039f"
             ],
             [
              0.2222222222222222,
              "#7201a8"
             ],
             [
              0.3333333333333333,
              "#9c179e"
             ],
             [
              0.4444444444444444,
              "#bd3786"
             ],
             [
              0.5555555555555556,
              "#d8576b"
             ],
             [
              0.6666666666666666,
              "#ed7953"
             ],
             [
              0.7777777777777778,
              "#fb9f3a"
             ],
             [
              0.8888888888888888,
              "#fdca26"
             ],
             [
              1,
              "#f0f921"
             ]
            ],
            "type": "heatmapgl"
           }
          ],
          "histogram": [
           {
            "marker": {
             "pattern": {
              "fillmode": "overlay",
              "size": 10,
              "solidity": 0.2
             }
            },
            "type": "histogram"
           }
          ],
          "histogram2d": [
           {
            "colorbar": {
             "outlinewidth": 0,
             "ticks": ""
            },
            "colorscale": [
             [
              0,
              "#0d0887"
             ],
             [
              0.1111111111111111,
              "#46039f"
             ],
             [
              0.2222222222222222,
              "#7201a8"
             ],
             [
              0.3333333333333333,
              "#9c179e"
             ],
             [
              0.4444444444444444,
              "#bd3786"
             ],
             [
              0.5555555555555556,
              "#d8576b"
             ],
             [
              0.6666666666666666,
              "#ed7953"
             ],
             [
              0.7777777777777778,
              "#fb9f3a"
             ],
             [
              0.8888888888888888,
              "#fdca26"
             ],
             [
              1,
              "#f0f921"
             ]
            ],
            "type": "histogram2d"
           }
          ],
          "histogram2dcontour": [
           {
            "colorbar": {
             "outlinewidth": 0,
             "ticks": ""
            },
            "colorscale": [
             [
              0,
              "#0d0887"
             ],
             [
              0.1111111111111111,
              "#46039f"
             ],
             [
              0.2222222222222222,
              "#7201a8"
             ],
             [
              0.3333333333333333,
              "#9c179e"
             ],
             [
              0.4444444444444444,
              "#bd3786"
             ],
             [
              0.5555555555555556,
              "#d8576b"
             ],
             [
              0.6666666666666666,
              "#ed7953"
             ],
             [
              0.7777777777777778,
              "#fb9f3a"
             ],
             [
              0.8888888888888888,
              "#fdca26"
             ],
             [
              1,
              "#f0f921"
             ]
            ],
            "type": "histogram2dcontour"
           }
          ],
          "mesh3d": [
           {
            "colorbar": {
             "outlinewidth": 0,
             "ticks": ""
            },
            "type": "mesh3d"
           }
          ],
          "parcoords": [
           {
            "line": {
             "colorbar": {
              "outlinewidth": 0,
              "ticks": ""
             }
            },
            "type": "parcoords"
           }
          ],
          "pie": [
           {
            "automargin": true,
            "type": "pie"
           }
          ],
          "scatter": [
           {
            "marker": {
             "colorbar": {
              "outlinewidth": 0,
              "ticks": ""
             }
            },
            "type": "scatter"
           }
          ],
          "scatter3d": [
           {
            "line": {
             "colorbar": {
              "outlinewidth": 0,
              "ticks": ""
             }
            },
            "marker": {
             "colorbar": {
              "outlinewidth": 0,
              "ticks": ""
             }
            },
            "type": "scatter3d"
           }
          ],
          "scattercarpet": [
           {
            "marker": {
             "colorbar": {
              "outlinewidth": 0,
              "ticks": ""
             }
            },
            "type": "scattercarpet"
           }
          ],
          "scattergeo": [
           {
            "marker": {
             "colorbar": {
              "outlinewidth": 0,
              "ticks": ""
             }
            },
            "type": "scattergeo"
           }
          ],
          "scattergl": [
           {
            "marker": {
             "colorbar": {
              "outlinewidth": 0,
              "ticks": ""
             }
            },
            "type": "scattergl"
           }
          ],
          "scattermapbox": [
           {
            "marker": {
             "colorbar": {
              "outlinewidth": 0,
              "ticks": ""
             }
            },
            "type": "scattermapbox"
           }
          ],
          "scatterpolar": [
           {
            "marker": {
             "colorbar": {
              "outlinewidth": 0,
              "ticks": ""
             }
            },
            "type": "scatterpolar"
           }
          ],
          "scatterpolargl": [
           {
            "marker": {
             "colorbar": {
              "outlinewidth": 0,
              "ticks": ""
             }
            },
            "type": "scatterpolargl"
           }
          ],
          "scatterternary": [
           {
            "marker": {
             "colorbar": {
              "outlinewidth": 0,
              "ticks": ""
             }
            },
            "type": "scatterternary"
           }
          ],
          "surface": [
           {
            "colorbar": {
             "outlinewidth": 0,
             "ticks": ""
            },
            "colorscale": [
             [
              0,
              "#0d0887"
             ],
             [
              0.1111111111111111,
              "#46039f"
             ],
             [
              0.2222222222222222,
              "#7201a8"
             ],
             [
              0.3333333333333333,
              "#9c179e"
             ],
             [
              0.4444444444444444,
              "#bd3786"
             ],
             [
              0.5555555555555556,
              "#d8576b"
             ],
             [
              0.6666666666666666,
              "#ed7953"
             ],
             [
              0.7777777777777778,
              "#fb9f3a"
             ],
             [
              0.8888888888888888,
              "#fdca26"
             ],
             [
              1,
              "#f0f921"
             ]
            ],
            "type": "surface"
           }
          ],
          "table": [
           {
            "cells": {
             "fill": {
              "color": "#EBF0F8"
             },
             "line": {
              "color": "white"
             }
            },
            "header": {
             "fill": {
              "color": "#C8D4E3"
             },
             "line": {
              "color": "white"
             }
            },
            "type": "table"
           }
          ]
         },
         "layout": {
          "annotationdefaults": {
           "arrowcolor": "#2a3f5f",
           "arrowhead": 0,
           "arrowwidth": 1
          },
          "autotypenumbers": "strict",
          "coloraxis": {
           "colorbar": {
            "outlinewidth": 0,
            "ticks": ""
           }
          },
          "colorscale": {
           "diverging": [
            [
             0,
             "#8e0152"
            ],
            [
             0.1,
             "#c51b7d"
            ],
            [
             0.2,
             "#de77ae"
            ],
            [
             0.3,
             "#f1b6da"
            ],
            [
             0.4,
             "#fde0ef"
            ],
            [
             0.5,
             "#f7f7f7"
            ],
            [
             0.6,
             "#e6f5d0"
            ],
            [
             0.7,
             "#b8e186"
            ],
            [
             0.8,
             "#7fbc41"
            ],
            [
             0.9,
             "#4d9221"
            ],
            [
             1,
             "#276419"
            ]
           ],
           "sequential": [
            [
             0,
             "#0d0887"
            ],
            [
             0.1111111111111111,
             "#46039f"
            ],
            [
             0.2222222222222222,
             "#7201a8"
            ],
            [
             0.3333333333333333,
             "#9c179e"
            ],
            [
             0.4444444444444444,
             "#bd3786"
            ],
            [
             0.5555555555555556,
             "#d8576b"
            ],
            [
             0.6666666666666666,
             "#ed7953"
            ],
            [
             0.7777777777777778,
             "#fb9f3a"
            ],
            [
             0.8888888888888888,
             "#fdca26"
            ],
            [
             1,
             "#f0f921"
            ]
           ],
           "sequentialminus": [
            [
             0,
             "#0d0887"
            ],
            [
             0.1111111111111111,
             "#46039f"
            ],
            [
             0.2222222222222222,
             "#7201a8"
            ],
            [
             0.3333333333333333,
             "#9c179e"
            ],
            [
             0.4444444444444444,
             "#bd3786"
            ],
            [
             0.5555555555555556,
             "#d8576b"
            ],
            [
             0.6666666666666666,
             "#ed7953"
            ],
            [
             0.7777777777777778,
             "#fb9f3a"
            ],
            [
             0.8888888888888888,
             "#fdca26"
            ],
            [
             1,
             "#f0f921"
            ]
           ]
          },
          "colorway": [
           "#636efa",
           "#EF553B",
           "#00cc96",
           "#ab63fa",
           "#FFA15A",
           "#19d3f3",
           "#FF6692",
           "#B6E880",
           "#FF97FF",
           "#FECB52"
          ],
          "font": {
           "color": "#2a3f5f"
          },
          "geo": {
           "bgcolor": "white",
           "lakecolor": "white",
           "landcolor": "#E5ECF6",
           "showlakes": true,
           "showland": true,
           "subunitcolor": "white"
          },
          "hoverlabel": {
           "align": "left"
          },
          "hovermode": "closest",
          "mapbox": {
           "style": "light"
          },
          "paper_bgcolor": "white",
          "plot_bgcolor": "#E5ECF6",
          "polar": {
           "angularaxis": {
            "gridcolor": "white",
            "linecolor": "white",
            "ticks": ""
           },
           "bgcolor": "#E5ECF6",
           "radialaxis": {
            "gridcolor": "white",
            "linecolor": "white",
            "ticks": ""
           }
          },
          "scene": {
           "xaxis": {
            "backgroundcolor": "#E5ECF6",
            "gridcolor": "white",
            "gridwidth": 2,
            "linecolor": "white",
            "showbackground": true,
            "ticks": "",
            "zerolinecolor": "white"
           },
           "yaxis": {
            "backgroundcolor": "#E5ECF6",
            "gridcolor": "white",
            "gridwidth": 2,
            "linecolor": "white",
            "showbackground": true,
            "ticks": "",
            "zerolinecolor": "white"
           },
           "zaxis": {
            "backgroundcolor": "#E5ECF6",
            "gridcolor": "white",
            "gridwidth": 2,
            "linecolor": "white",
            "showbackground": true,
            "ticks": "",
            "zerolinecolor": "white"
           }
          },
          "shapedefaults": {
           "line": {
            "color": "#2a3f5f"
           }
          },
          "ternary": {
           "aaxis": {
            "gridcolor": "white",
            "linecolor": "white",
            "ticks": ""
           },
           "baxis": {
            "gridcolor": "white",
            "linecolor": "white",
            "ticks": ""
           },
           "bgcolor": "#E5ECF6",
           "caxis": {
            "gridcolor": "white",
            "linecolor": "white",
            "ticks": ""
           }
          },
          "title": {
           "x": 0.05
          },
          "xaxis": {
           "automargin": true,
           "gridcolor": "white",
           "linecolor": "white",
           "ticks": "",
           "title": {
            "standoff": 15
           },
           "zerolinecolor": "white",
           "zerolinewidth": 2
          },
          "yaxis": {
           "automargin": true,
           "gridcolor": "white",
           "linecolor": "white",
           "ticks": "",
           "title": {
            "standoff": 15
           },
           "zerolinecolor": "white",
           "zerolinewidth": 2
          }
         }
        },
        "xaxis": {
         "anchor": "y",
         "domain": [
          0,
          1
         ],
         "title": {
          "text": "PC1"
         }
        },
        "yaxis": {
         "anchor": "x",
         "domain": [
          0,
          1
         ],
         "title": {
          "text": "PC2"
         }
        }
       }
      },
      "text/html": [
       "<div>                            <div id=\"48853211-60db-4b15-8782-8363cd8330f0\" class=\"plotly-graph-div\" style=\"height:525px; width:100%;\"></div>            <script type=\"text/javascript\">                require([\"plotly\"], function(Plotly) {                    window.PLOTLYENV=window.PLOTLYENV || {};                                    if (document.getElementById(\"48853211-60db-4b15-8782-8363cd8330f0\")) {                    Plotly.newPlot(                        \"48853211-60db-4b15-8782-8363cd8330f0\",                        [{\"customdata\":[[0.341,\"Atlanta Hawks 1999-00\"],[0.427,\"Boston Celtics 1999-00\"],[0.598,\"Charlotte Hornets 1999-00\"],[0.207,\"Chicago Bulls 1999-00\"],[0.39,\"Cleveland Cavaliers 1999-00\"],[0.488,\"Dallas Mavericks 1999-00\"],[0.427,\"Denver Nuggets 1999-00\"],[0.512,\"Detroit Pistons 1999-00\"],[0.232,\"Golden State Warriors 1999-00\"],[0.415,\"Houston Rockets 1999-00\"],[0.683,\"Indiana Pacers 1999-00\"],[0.183,\"Los Angeles Clippers 1999-00\"],[0.817,\"Los Angeles Lakers 1999-00\"],[0.634,\"Miami Heat 1999-00\"],[0.512,\"Milwaukee Bucks 1999-00\"],[0.61,\"Minnesota Timberwolves 1999-00\"],[0.378,\"New Jersey Nets 1999-00\"],[0.61,\"New York Knicks 1999-00\"],[0.5,\"Orlando Magic 1999-00\"],[0.598,\"Philadelphia 76ers 1999-00\"],[0.646,\"Phoenix Suns 1999-00\"],[0.72,\"Portland Trail Blazers 1999-00\"],[0.537,\"Sacramento Kings 1999-00\"],[0.646,\"San Antonio Spurs 1999-00\"],[0.549,\"Seattle SuperSonics 1999-00\"],[0.549,\"Toronto Raptors 1999-00\"],[0.671,\"Utah Jazz 1999-00\"],[0.268,\"Vancouver Grizzlies 1999-00\"],[0.354,\"Washington Wizards 1999-00\"],[0.305,\"Atlanta Hawks 2000-01\"],[0.439,\"Boston Celtics 2000-01\"],[0.561,\"Charlotte Hornets 2000-01\"],[0.183,\"Chicago Bulls 2000-01\"],[0.366,\"Cleveland Cavaliers 2000-01\"],[0.646,\"Dallas Mavericks 2000-01\"],[0.488,\"Denver Nuggets 2000-01\"],[0.39,\"Detroit Pistons 2000-01\"],[0.207,\"Golden State Warriors 2000-01\"],[0.549,\"Houston Rockets 2000-01\"],[0.5,\"Indiana Pacers 2000-01\"],[0.378,\"Los Angeles Clippers 2000-01\"],[0.683,\"Los Angeles Lakers 2000-01\"],[0.61,\"Miami Heat 2000-01\"],[0.634,\"Milwaukee Bucks 2000-01\"],[0.573,\"Minnesota Timberwolves 2000-01\"],[0.317,\"New Jersey Nets 2000-01\"],[0.585,\"New York Knicks 2000-01\"],[0.524,\"Orlando Magic 2000-01\"],[0.683,\"Philadelphia 76ers 2000-01\"],[0.622,\"Phoenix Suns 2000-01\"],[0.61,\"Portland Trail Blazers 2000-01\"],[0.671,\"Sacramento Kings 2000-01\"],[0.707,\"San Antonio Spurs 2000-01\"],[0.537,\"Seattle SuperSonics 2000-01\"],[0.573,\"Toronto Raptors 2000-01\"],[0.646,\"Utah Jazz 2000-01\"],[0.28,\"Vancouver Grizzlies 2000-01\"],[0.232,\"Washington Wizards 2000-01\"],[0.402,\"Atlanta Hawks 2001-02\"],[0.598,\"Boston Celtics 2001-02\"],[0.537,\"Charlotte Hornets 2001-02\"],[0.256,\"Chicago Bulls 2001-02\"],[0.354,\"Cleveland Cavaliers 2001-02\"],[0.695,\"Dallas Mavericks 2001-02\"],[0.329,\"Denver Nuggets 2001-02\"],[0.61,\"Detroit Pistons 2001-02\"],[0.256,\"Golden State Warriors 2001-02\"],[0.341,\"Houston Rockets 2001-02\"],[0.512,\"Indiana Pacers 2001-02\"],[0.476,\"Los Angeles Clippers 2001-02\"],[0.707,\"Los Angeles Lakers 2001-02\"],[0.28,\"Memphis Grizzlies 2001-02\"],[0.439,\"Miami Heat 2001-02\"],[0.5,\"Milwaukee Bucks 2001-02\"],[0.61,\"Minnesota Timberwolves 2001-02\"],[0.634,\"New Jersey Nets 2001-02\"],[0.366,\"New York Knicks 2001-02\"],[0.537,\"Orlando Magic 2001-02\"],[0.524,\"Philadelphia 76ers 2001-02\"],[0.439,\"Phoenix Suns 2001-02\"],[0.598,\"Portland Trail Blazers 2001-02\"],[0.744,\"Sacramento Kings 2001-02\"],[0.707,\"San Antonio Spurs 2001-02\"],[0.549,\"Seattle SuperSonics 2001-02\"],[0.512,\"Toronto Raptors 2001-02\"],[0.537,\"Utah Jazz 2001-02\"],[0.451,\"Washington Wizards 2001-02\"],[0.427,\"Atlanta Hawks 2002-03\"],[0.537,\"Boston Celtics 2002-03\"],[0.366,\"Chicago Bulls 2002-03\"],[0.207,\"Cleveland Cavaliers 2002-03\"],[0.732,\"Dallas Mavericks 2002-03\"],[0.207,\"Denver Nuggets 2002-03\"],[0.61,\"Detroit Pistons 2002-03\"],[0.463,\"Golden State Warriors 2002-03\"],[0.524,\"Houston Rockets 2002-03\"],[0.585,\"Indiana Pacers 2002-03\"],[0.329,\"Los Angeles Clippers 2002-03\"],[0.61,\"Los Angeles Lakers 2002-03\"],[0.341,\"Memphis Grizzlies 2002-03\"],[0.305,\"Miami Heat 2002-03\"],[0.512,\"Milwaukee Bucks 2002-03\"],[0.622,\"Minnesota Timberwolves 2002-03\"],[0.598,\"New Jersey Nets 2002-03\"],[0.573,\"New Orleans Hornets 2002-03\"],[0.451,\"New York Knicks 2002-03\"],[0.512,\"Orlando Magic 2002-03\"],[0.585,\"Philadelphia 76ers 2002-03\"],[0.537,\"Phoenix Suns 2002-03\"],[0.61,\"Portland Trail Blazers 2002-03\"],[0.72,\"Sacramento Kings 2002-03\"],[0.732,\"San Antonio Spurs 2002-03\"],[0.488,\"Seattle SuperSonics 2002-03\"],[0.293,\"Toronto Raptors 2002-03\"],[0.573,\"Utah Jazz 2002-03\"],[0.451,\"Washington Wizards 2002-03\"],[0.341,\"Atlanta Hawks 2003-04\"],[0.439,\"Boston Celtics 2003-04\"],[0.28,\"Chicago Bulls 2003-04\"],[0.427,\"Cleveland Cavaliers 2003-04\"],[0.634,\"Dallas Mavericks 2003-04\"],[0.524,\"Denver Nuggets 2003-04\"],[0.659,\"Detroit Pistons 2003-04\"],[0.451,\"Golden State Warriors 2003-04\"],[0.549,\"Houston Rockets 2003-04\"],[0.744,\"Indiana Pacers 2003-04\"],[0.341,\"Los Angeles Clippers 2003-04\"],[0.683,\"Los Angeles Lakers 2003-04\"],[0.61,\"Memphis Grizzlies 2003-04\"],[0.512,\"Miami Heat 2003-04\"],[0.5,\"Milwaukee Bucks 2003-04\"],[0.707,\"Minnesota Timberwolves 2003-04\"],[0.573,\"New Jersey Nets 2003-04\"],[0.5,\"New Orleans Hornets 2003-04\"],[0.476,\"New York Knicks 2003-04\"],[0.256,\"Orlando Magic 2003-04\"],[0.402,\"Philadelphia 76ers 2003-04\"],[0.354,\"Phoenix Suns 2003-04\"],[0.5,\"Portland Trail Blazers 2003-04\"],[0.671,\"Sacramento Kings 2003-04\"],[0.695,\"San Antonio Spurs 2003-04\"],[0.451,\"Seattle SuperSonics 2003-04\"],[0.402,\"Toronto Raptors 2003-04\"],[0.512,\"Utah Jazz 2003-04\"],[0.305,\"Washington Wizards 2003-04\"],[0.159,\"Atlanta Hawks 2004-05\"],[0.549,\"Boston Celtics 2004-05\"],[0.22,\"Charlotte Bobcats 2004-05\"],[0.573,\"Chicago Bulls 2004-05\"],[0.512,\"Cleveland Cavaliers 2004-05\"],[0.707,\"Dallas Mavericks 2004-05\"],[0.598,\"Denver Nuggets 2004-05\"],[0.659,\"Detroit Pistons 2004-05\"],[0.415,\"Golden State Warriors 2004-05\"],[0.622,\"Houston Rockets 2004-05\"],[0.537,\"Indiana Pacers 2004-05\"],[0.451,\"Los Angeles Clippers 2004-05\"],[0.415,\"Los Angeles Lakers 2004-05\"],[0.549,\"Memphis Grizzlies 2004-05\"],[0.72,\"Miami Heat 2004-05\"],[0.366,\"Milwaukee Bucks 2004-05\"],[0.537,\"Minnesota Timberwolves 2004-05\"],[0.512,\"New Jersey Nets 2004-05\"],[0.22,\"New Orleans Hornets 2004-05\"],[0.402,\"New York Knicks 2004-05\"],[0.439,\"Orlando Magic 2004-05\"],[0.524,\"Philadelphia 76ers 2004-05\"],[0.756,\"Phoenix Suns 2004-05\"],[0.329,\"Portland Trail Blazers 2004-05\"],[0.61,\"Sacramento Kings 2004-05\"],[0.72,\"San Antonio Spurs 2004-05\"],[0.634,\"Seattle SuperSonics 2004-05\"],[0.402,\"Toronto Raptors 2004-05\"],[0.317,\"Utah Jazz 2004-05\"],[0.549,\"Washington Wizards 2004-05\"],[0.317,\"Atlanta Hawks 2005-06\"],[0.402,\"Boston Celtics 2005-06\"],[0.317,\"Charlotte Bobcats 2005-06\"],[0.5,\"Chicago Bulls 2005-06\"],[0.61,\"Cleveland Cavaliers 2005-06\"],[0.732,\"Dallas Mavericks 2005-06\"],[0.537,\"Denver Nuggets 2005-06\"],[0.78,\"Detroit Pistons 2005-06\"],[0.415,\"Golden State Warriors 2005-06\"],[0.415,\"Houston Rockets 2005-06\"],[0.5,\"Indiana Pacers 2005-06\"],[0.573,\"Los Angeles Clippers 2005-06\"],[0.549,\"Los Angeles Lakers 2005-06\"],[0.598,\"Memphis Grizzlies 2005-06\"],[0.634,\"Miami Heat 2005-06\"],[0.488,\"Milwaukee Bucks 2005-06\"],[0.402,\"Minnesota Timberwolves 2005-06\"],[0.598,\"New Jersey Nets 2005-06\"],[0.463,\"New Orleans/Oklahoma City Hornets 2005-06\"],[0.28,\"New York Knicks 2005-06\"],[0.439,\"Orlando Magic 2005-06\"],[0.463,\"Philadelphia 76ers 2005-06\"],[0.659,\"Phoenix Suns 2005-06\"],[0.256,\"Portland Trail Blazers 2005-06\"],[0.537,\"Sacramento Kings 2005-06\"],[0.768,\"San Antonio Spurs 2005-06\"],[0.427,\"Seattle SuperSonics 2005-06\"],[0.329,\"Toronto Raptors 2005-06\"],[0.5,\"Utah Jazz 2005-06\"],[0.512,\"Washington Wizards 2005-06\"],[0.366,\"Atlanta Hawks 2006-07\"],[0.293,\"Boston Celtics 2006-07\"],[0.402,\"Charlotte Bobcats 2006-07\"],[0.598,\"Chicago Bulls 2006-07\"],[0.61,\"Cleveland Cavaliers 2006-07\"],[0.817,\"Dallas Mavericks 2006-07\"],[0.549,\"Denver Nuggets 2006-07\"],[0.646,\"Detroit Pistons 2006-07\"],[0.512,\"Golden State Warriors 2006-07\"],[0.634,\"Houston Rockets 2006-07\"],[0.427,\"Indiana Pacers 2006-07\"],[0.488,\"Los Angeles Clippers 2006-07\"],[0.512,\"Los Angeles Lakers 2006-07\"],[0.268,\"Memphis Grizzlies 2006-07\"],[0.537,\"Miami Heat 2006-07\"],[0.341,\"Milwaukee Bucks 2006-07\"],[0.39,\"Minnesota Timberwolves 2006-07\"],[0.5,\"New Jersey Nets 2006-07\"],[0.476,\"New Orleans/Oklahoma City Hornets 2006-07\"],[0.402,\"New York Knicks 2006-07\"],[0.488,\"Orlando Magic 2006-07\"],[0.427,\"Philadelphia 76ers 2006-07\"],[0.744,\"Phoenix Suns 2006-07\"],[0.39,\"Portland Trail Blazers 2006-07\"],[0.402,\"Sacramento Kings 2006-07\"],[0.707,\"San Antonio Spurs 2006-07\"],[0.378,\"Seattle SuperSonics 2006-07\"],[0.573,\"Toronto Raptors 2006-07\"],[0.622,\"Utah Jazz 2006-07\"],[0.5,\"Washington Wizards 2006-07\"],[0.451,\"Atlanta Hawks 2007-08\"],[0.805,\"Boston Celtics 2007-08\"],[0.39,\"Charlotte Bobcats 2007-08\"],[0.402,\"Chicago Bulls 2007-08\"],[0.549,\"Cleveland Cavaliers 2007-08\"],[0.622,\"Dallas Mavericks 2007-08\"],[0.61,\"Denver Nuggets 2007-08\"],[0.72,\"Detroit Pistons 2007-08\"],[0.585,\"Golden State Warriors 2007-08\"],[0.671,\"Houston Rockets 2007-08\"],[0.439,\"Indiana Pacers 2007-08\"],[0.28,\"Los Angeles Clippers 2007-08\"],[0.695,\"Los Angeles Lakers 2007-08\"],[0.268,\"Memphis Grizzlies 2007-08\"],[0.183,\"Miami Heat 2007-08\"],[0.317,\"Milwaukee Bucks 2007-08\"],[0.268,\"Minnesota Timberwolves 2007-08\"],[0.415,\"New Jersey Nets 2007-08\"],[0.683,\"New Orleans Hornets 2007-08\"],[0.28,\"New York Knicks 2007-08\"],[0.634,\"Orlando Magic 2007-08\"],[0.488,\"Philadelphia 76ers 2007-08\"],[0.671,\"Phoenix Suns 2007-08\"],[0.5,\"Portland Trail Blazers 2007-08\"],[0.463,\"Sacramento Kings 2007-08\"],[0.683,\"San Antonio Spurs 2007-08\"],[0.244,\"Seattle SuperSonics 2007-08\"],[0.5,\"Toronto Raptors 2007-08\"],[0.659,\"Utah Jazz 2007-08\"],[0.524,\"Washington Wizards 2007-08\"],[0.573,\"Atlanta Hawks 2008-09\"],[0.756,\"Boston Celtics 2008-09\"],[0.427,\"Charlotte Bobcats 2008-09\"],[0.5,\"Chicago Bulls 2008-09\"],[0.805,\"Cleveland Cavaliers 2008-09\"],[0.61,\"Dallas Mavericks 2008-09\"],[0.659,\"Denver Nuggets 2008-09\"],[0.476,\"Detroit Pistons 2008-09\"],[0.354,\"Golden State Warriors 2008-09\"],[0.646,\"Houston Rockets 2008-09\"],[0.439,\"Indiana Pacers 2008-09\"],[0.232,\"Los Angeles Clippers 2008-09\"],[0.793,\"Los Angeles Lakers 2008-09\"],[0.293,\"Memphis Grizzlies 2008-09\"],[0.524,\"Miami Heat 2008-09\"],[0.415,\"Milwaukee Bucks 2008-09\"],[0.293,\"Minnesota Timberwolves 2008-09\"],[0.415,\"New Jersey Nets 2008-09\"],[0.598,\"New Orleans Hornets 2008-09\"],[0.39,\"New York Knicks 2008-09\"],[0.28,\"Oklahoma City Thunder 2008-09\"],[0.72,\"Orlando Magic 2008-09\"],[0.5,\"Philadelphia 76ers 2008-09\"],[0.561,\"Phoenix Suns 2008-09\"],[0.659,\"Portland Trail Blazers 2008-09\"],[0.207,\"Sacramento Kings 2008-09\"],[0.659,\"San Antonio Spurs 2008-09\"],[0.402,\"Toronto Raptors 2008-09\"],[0.585,\"Utah Jazz 2008-09\"],[0.232,\"Washington Wizards 2008-09\"],[0.646,\"Atlanta Hawks 2009-10\"],[0.61,\"Boston Celtics 2009-10\"],[0.537,\"Charlotte Bobcats 2009-10\"],[0.5,\"Chicago Bulls 2009-10\"],[0.744,\"Cleveland Cavaliers 2009-10\"],[0.671,\"Dallas Mavericks 2009-10\"],[0.646,\"Denver Nuggets 2009-10\"],[0.329,\"Detroit Pistons 2009-10\"],[0.317,\"Golden State Warriors 2009-10\"],[0.512,\"Houston Rockets 2009-10\"],[0.39,\"Indiana Pacers 2009-10\"],[0.354,\"Los Angeles Clippers 2009-10\"],[0.695,\"Los Angeles Lakers 2009-10\"],[0.488,\"Memphis Grizzlies 2009-10\"],[0.573,\"Miami Heat 2009-10\"],[0.561,\"Milwaukee Bucks 2009-10\"],[0.183,\"Minnesota Timberwolves 2009-10\"],[0.146,\"New Jersey Nets 2009-10\"],[0.451,\"New Orleans Hornets 2009-10\"],[0.354,\"New York Knicks 2009-10\"],[0.61,\"Oklahoma City Thunder 2009-10\"],[0.72,\"Orlando Magic 2009-10\"],[0.329,\"Philadelphia 76ers 2009-10\"],[0.659,\"Phoenix Suns 2009-10\"],[0.61,\"Portland Trail Blazers 2009-10\"],[0.305,\"Sacramento Kings 2009-10\"],[0.61,\"San Antonio Spurs 2009-10\"],[0.488,\"Toronto Raptors 2009-10\"],[0.646,\"Utah Jazz 2009-10\"],[0.317,\"Washington Wizards 2009-10\"],[0.537,\"Atlanta Hawks 2010-11\"],[0.683,\"Boston Celtics 2010-11\"],[0.415,\"Charlotte Bobcats 2010-11\"],[0.756,\"Chicago Bulls 2010-11\"],[0.232,\"Cleveland Cavaliers 2010-11\"],[0.695,\"Dallas Mavericks 2010-11\"],[0.61,\"Denver Nuggets 2010-11\"],[0.366,\"Detroit Pistons 2010-11\"],[0.439,\"Golden State Warriors 2010-11\"],[0.524,\"Houston Rockets 2010-11\"],[0.451,\"Indiana Pacers 2010-11\"],[0.39,\"Los Angeles Clippers 2010-11\"],[0.695,\"Los Angeles Lakers 2010-11\"],[0.561,\"Memphis Grizzlies 2010-11\"],[0.707,\"Miami Heat 2010-11\"],[0.427,\"Milwaukee Bucks 2010-11\"],[0.207,\"Minnesota Timberwolves 2010-11\"],[0.293,\"New Jersey Nets 2010-11\"],[0.561,\"New Orleans Hornets 2010-11\"],[0.512,\"New York Knicks 2010-11\"],[0.671,\"Oklahoma City Thunder 2010-11\"],[0.634,\"Orlando Magic 2010-11\"],[0.5,\"Philadelphia 76ers 2010-11\"],[0.488,\"Phoenix Suns 2010-11\"],[0.585,\"Portland Trail Blazers 2010-11\"],[0.293,\"Sacramento Kings 2010-11\"],[0.744,\"San Antonio Spurs 2010-11\"],[0.268,\"Toronto Raptors 2010-11\"],[0.476,\"Utah Jazz 2010-11\"],[0.28,\"Washington Wizards 2010-11\"],[0.606,\"Atlanta Hawks 2011-12\"],[0.591,\"Boston Celtics 2011-12\"],[0.106,\"Charlotte Bobcats 2011-12\"],[0.758,\"Chicago Bulls 2011-12\"],[0.318,\"Cleveland Cavaliers 2011-12\"],[0.545,\"Dallas Mavericks 2011-12\"],[0.576,\"Denver Nuggets 2011-12\"],[0.379,\"Detroit Pistons 2011-12\"],[0.348,\"Golden State Warriors 2011-12\"],[0.515,\"Houston Rockets 2011-12\"],[0.636,\"Indiana Pacers 2011-12\"],[0.606,\"Los Angeles Clippers 2011-12\"],[0.621,\"Los Angeles Lakers 2011-12\"],[0.621,\"Memphis Grizzlies 2011-12\"],[0.697,\"Miami Heat 2011-12\"],[0.47,\"Milwaukee Bucks 2011-12\"],[0.394,\"Minnesota Timberwolves 2011-12\"],[0.333,\"New Jersey Nets 2011-12\"],[0.318,\"New Orleans Hornets 2011-12\"],[0.545,\"New York Knicks 2011-12\"],[0.712,\"Oklahoma City Thunder 2011-12\"],[0.561,\"Orlando Magic 2011-12\"],[0.53,\"Philadelphia 76ers 2011-12\"],[0.5,\"Phoenix Suns 2011-12\"],[0.424,\"Portland Trail Blazers 2011-12\"],[0.333,\"Sacramento Kings 2011-12\"],[0.758,\"San Antonio Spurs 2011-12\"],[0.348,\"Toronto Raptors 2011-12\"],[0.545,\"Utah Jazz 2011-12\"],[0.303,\"Washington Wizards 2011-12\"],[0.537,\"Atlanta Hawks 2012-13\"],[0.506,\"Boston Celtics 2012-13\"],[0.598,\"Brooklyn Nets 2012-13\"],[0.256,\"Charlotte Bobcats 2012-13\"],[0.549,\"Chicago Bulls 2012-13\"],[0.293,\"Cleveland Cavaliers 2012-13\"],[0.5,\"Dallas Mavericks 2012-13\"],[0.695,\"Denver Nuggets 2012-13\"],[0.354,\"Detroit Pistons 2012-13\"],[0.573,\"Golden State Warriors 2012-13\"],[0.549,\"Houston Rockets 2012-13\"],[0.605,\"Indiana Pacers 2012-13\"],[0.683,\"Los Angeles Clippers 2012-13\"],[0.549,\"Los Angeles Lakers 2012-13\"],[0.683,\"Memphis Grizzlies 2012-13\"],[0.805,\"Miami Heat 2012-13\"],[0.463,\"Milwaukee Bucks 2012-13\"],[0.378,\"Minnesota Timberwolves 2012-13\"],[0.329,\"New Orleans Hornets 2012-13\"],[0.659,\"New York Knicks 2012-13\"],[0.732,\"Oklahoma City Thunder 2012-13\"],[0.244,\"Orlando Magic 2012-13\"],[0.415,\"Philadelphia 76ers 2012-13\"],[0.305,\"Phoenix Suns 2012-13\"],[0.402,\"Portland Trail Blazers 2012-13\"],[0.341,\"Sacramento Kings 2012-13\"],[0.707,\"San Antonio Spurs 2012-13\"],[0.415,\"Toronto Raptors 2012-13\"],[0.524,\"Utah Jazz 2012-13\"],[0.354,\"Washington Wizards 2012-13\"],[0.463,\"Atlanta Hawks 2013-14\"],[0.305,\"Boston Celtics 2013-14\"],[0.537,\"Brooklyn Nets 2013-14\"],[0.524,\"Charlotte Bobcats 2013-14\"],[0.585,\"Chicago Bulls 2013-14\"],[0.402,\"Cleveland Cavaliers 2013-14\"],[0.598,\"Dallas Mavericks 2013-14\"],[0.439,\"Denver Nuggets 2013-14\"],[0.354,\"Detroit Pistons 2013-14\"],[0.622,\"Golden State Warriors 2013-14\"],[0.659,\"Houston Rockets 2013-14\"],[0.683,\"Indiana Pacers 2013-14\"],[0.695,\"Los Angeles Clippers 2013-14\"],[0.329,\"Los Angeles Lakers 2013-14\"],[0.61,\"Memphis Grizzlies 2013-14\"],[0.659,\"Miami Heat 2013-14\"],[0.183,\"Milwaukee Bucks 2013-14\"],[0.488,\"Minnesota Timberwolves 2013-14\"],[0.415,\"New Orleans Pelicans 2013-14\"],[0.451,\"New York Knicks 2013-14\"],[0.72,\"Oklahoma City Thunder 2013-14\"],[0.28,\"Orlando Magic 2013-14\"],[0.232,\"Philadelphia 76ers 2013-14\"],[0.585,\"Phoenix Suns 2013-14\"],[0.659,\"Portland Trail Blazers 2013-14\"],[0.341,\"Sacramento Kings 2013-14\"],[0.756,\"San Antonio Spurs 2013-14\"],[0.585,\"Toronto Raptors 2013-14\"],[0.305,\"Utah Jazz 2013-14\"],[0.537,\"Washington Wizards 2013-14\"],[0.732,\"Atlanta Hawks 2014-15\"],[0.488,\"Boston Celtics 2014-15\"],[0.463,\"Brooklyn Nets 2014-15\"],[0.402,\"Charlotte Hornets 2014-15\"],[0.61,\"Chicago Bulls 2014-15\"],[0.646,\"Cleveland Cavaliers 2014-15\"],[0.61,\"Dallas Mavericks 2014-15\"],[0.366,\"Denver Nuggets 2014-15\"],[0.39,\"Detroit Pistons 2014-15\"],[0.817,\"Golden State Warriors 2014-15\"],[0.683,\"Houston Rockets 2014-15\"],[0.463,\"Indiana Pacers 2014-15\"],[0.683,\"Los Angeles Clippers 2014-15\"],[0.256,\"Los Angeles Lakers 2014-15\"],[0.671,\"Memphis Grizzlies 2014-15\"],[0.451,\"Miami Heat 2014-15\"],[0.5,\"Milwaukee Bucks 2014-15\"],[0.195,\"Minnesota Timberwolves 2014-15\"],[0.549,\"New Orleans Pelicans 2014-15\"],[0.207,\"New York Knicks 2014-15\"],[0.549,\"Oklahoma City Thunder 2014-15\"],[0.305,\"Orlando Magic 2014-15\"],[0.22,\"Philadelphia 76ers 2014-15\"],[0.476,\"Phoenix Suns 2014-15\"],[0.622,\"Portland Trail Blazers 2014-15\"],[0.354,\"Sacramento Kings 2014-15\"],[0.671,\"San Antonio Spurs 2014-15\"],[0.598,\"Toronto Raptors 2014-15\"],[0.463,\"Utah Jazz 2014-15\"],[0.561,\"Washington Wizards 2014-15\"],[0.585,\"Atlanta Hawks 2015-16\"],[0.585,\"Boston Celtics 2015-16\"],[0.256,\"Brooklyn Nets 2015-16\"],[0.585,\"Charlotte Hornets 2015-16\"],[0.512,\"Chicago Bulls 2015-16\"],[0.695,\"Cleveland Cavaliers 2015-16\"],[0.512,\"Dallas Mavericks 2015-16\"],[0.402,\"Denver Nuggets 2015-16\"],[0.537,\"Detroit Pistons 2015-16\"],[0.89,\"Golden State Warriors 2015-16\"],[0.5,\"Houston Rockets 2015-16\"],[0.549,\"Indiana Pacers 2015-16\"],[0.646,\"LA Clippers 2015-16\"],[0.207,\"Los Angeles Lakers 2015-16\"],[0.512,\"Memphis Grizzlies 2015-16\"],[0.585,\"Miami Heat 2015-16\"],[0.402,\"Milwaukee Bucks 2015-16\"],[0.354,\"Minnesota Timberwolves 2015-16\"],[0.366,\"New Orleans Pelicans 2015-16\"],[0.39,\"New York Knicks 2015-16\"],[0.671,\"Oklahoma City Thunder 2015-16\"],[0.427,\"Orlando Magic 2015-16\"],[0.122,\"Philadelphia 76ers 2015-16\"],[0.28,\"Phoenix Suns 2015-16\"],[0.537,\"Portland Trail Blazers 2015-16\"],[0.402,\"Sacramento Kings 2015-16\"],[0.817,\"San Antonio Spurs 2015-16\"],[0.683,\"Toronto Raptors 2015-16\"],[0.488,\"Utah Jazz 2015-16\"],[0.5,\"Washington Wizards 2015-16\"],[0.524,\"Atlanta Hawks 2016-17\"],[0.646,\"Boston Celtics 2016-17\"],[0.244,\"Brooklyn Nets 2016-17\"],[0.439,\"Charlotte Hornets 2016-17\"],[0.5,\"Chicago Bulls 2016-17\"],[0.622,\"Cleveland Cavaliers 2016-17\"],[0.402,\"Dallas Mavericks 2016-17\"],[0.488,\"Denver Nuggets 2016-17\"],[0.451,\"Detroit Pistons 2016-17\"],[0.817,\"Golden State Warriors 2016-17\"],[0.671,\"Houston Rockets 2016-17\"],[0.512,\"Indiana Pacers 2016-17\"],[0.622,\"LA Clippers 2016-17\"],[0.317,\"Los Angeles Lakers 2016-17\"],[0.524,\"Memphis Grizzlies 2016-17\"],[0.5,\"Miami Heat 2016-17\"],[0.512,\"Milwaukee Bucks 2016-17\"],[0.378,\"Minnesota Timberwolves 2016-17\"],[0.415,\"New Orleans Pelicans 2016-17\"],[0.378,\"New York Knicks 2016-17\"],[0.573,\"Oklahoma City Thunder 2016-17\"],[0.354,\"Orlando Magic 2016-17\"],[0.341,\"Philadelphia 76ers 2016-17\"],[0.293,\"Phoenix Suns 2016-17\"],[0.5,\"Portland Trail Blazers 2016-17\"],[0.39,\"Sacramento Kings 2016-17\"],[0.744,\"San Antonio Spurs 2016-17\"],[0.622,\"Toronto Raptors 2016-17\"],[0.622,\"Utah Jazz 2016-17\"],[0.598,\"Washington Wizards 2016-17\"],[0.293,\"Atlanta Hawks 2017-18\"],[0.671,\"Boston Celtics 2017-18\"],[0.341,\"Brooklyn Nets 2017-18\"],[0.439,\"Charlotte Hornets 2017-18\"],[0.329,\"Chicago Bulls 2017-18\"],[0.61,\"Cleveland Cavaliers 2017-18\"],[0.293,\"Dallas Mavericks 2017-18\"],[0.561,\"Denver Nuggets 2017-18\"],[0.476,\"Detroit Pistons 2017-18\"],[0.707,\"Golden State Warriors 2017-18\"],[0.793,\"Houston Rockets 2017-18\"],[0.585,\"Indiana Pacers 2017-18\"],[0.512,\"LA Clippers 2017-18\"],[0.427,\"Los Angeles Lakers 2017-18\"],[0.268,\"Memphis Grizzlies 2017-18\"],[0.537,\"Miami Heat 2017-18\"],[0.537,\"Milwaukee Bucks 2017-18\"],[0.573,\"Minnesota Timberwolves 2017-18\"],[0.585,\"New Orleans Pelicans 2017-18\"],[0.354,\"New York Knicks 2017-18\"],[0.585,\"Oklahoma City Thunder 2017-18\"],[0.305,\"Orlando Magic 2017-18\"],[0.634,\"Philadelphia 76ers 2017-18\"],[0.256,\"Phoenix Suns 2017-18\"],[0.598,\"Portland Trail Blazers 2017-18\"],[0.329,\"Sacramento Kings 2017-18\"],[0.573,\"San Antonio Spurs 2017-18\"],[0.72,\"Toronto Raptors 2017-18\"],[0.585,\"Utah Jazz 2017-18\"],[0.524,\"Washington Wizards 2017-18\"],[0.354,\"Atlanta Hawks 2018-19\"],[0.598,\"Boston Celtics 2018-19\"],[0.512,\"Brooklyn Nets 2018-19\"],[0.476,\"Charlotte Hornets 2018-19\"],[0.268,\"Chicago Bulls 2018-19\"],[0.232,\"Cleveland Cavaliers 2018-19\"],[0.402,\"Dallas Mavericks 2018-19\"],[0.659,\"Denver Nuggets 2018-19\"],[0.5,\"Detroit Pistons 2018-19\"],[0.695,\"Golden State Warriors 2018-19\"],[0.646,\"Houston Rockets 2018-19\"],[0.585,\"Indiana Pacers 2018-19\"],[0.585,\"LA Clippers 2018-19\"],[0.451,\"Los Angeles Lakers 2018-19\"],[0.402,\"Memphis Grizzlies 2018-19\"],[0.476,\"Miami Heat 2018-19\"],[0.732,\"Milwaukee Bucks 2018-19\"],[0.439,\"Minnesota Timberwolves 2018-19\"],[0.402,\"New Orleans Pelicans 2018-19\"],[0.207,\"New York Knicks 2018-19\"],[0.598,\"Oklahoma City Thunder 2018-19\"],[0.512,\"Orlando Magic 2018-19\"],[0.622,\"Philadelphia 76ers 2018-19\"],[0.232,\"Phoenix Suns 2018-19\"],[0.646,\"Portland Trail Blazers 2018-19\"],[0.476,\"Sacramento Kings 2018-19\"],[0.585,\"San Antonio Spurs 2018-19\"],[0.707,\"Toronto Raptors 2018-19\"],[0.61,\"Utah Jazz 2018-19\"],[0.39,\"Washington Wizards 2018-19\"],[0.299,\"Atlanta Hawks 2019-20\"],[0.667,\"Boston Celtics 2019-20\"],[0.486,\"Brooklyn Nets 2019-20\"],[0.354,\"Charlotte Hornets 2019-20\"],[0.338,\"Chicago Bulls 2019-20\"],[0.292,\"Cleveland Cavaliers 2019-20\"],[0.573,\"Dallas Mavericks 2019-20\"],[0.63,\"Denver Nuggets 2019-20\"],[0.303,\"Detroit Pistons 2019-20\"],[0.231,\"Golden State Warriors 2019-20\"],[0.611,\"Houston Rockets 2019-20\"],[0.616,\"Indiana Pacers 2019-20\"],[0.681,\"LA Clippers 2019-20\"],[0.732,\"Los Angeles Lakers 2019-20\"],[0.466,\"Memphis Grizzlies 2019-20\"],[0.603,\"Miami Heat 2019-20\"],[0.767,\"Milwaukee Bucks 2019-20\"],[0.297,\"Minnesota Timberwolves 2019-20\"],[0.417,\"New Orleans Pelicans 2019-20\"],[0.318,\"New York Knicks 2019-20\"],[0.611,\"Oklahoma City Thunder 2019-20\"],[0.452,\"Orlando Magic 2019-20\"],[0.589,\"Philadelphia 76ers 2019-20\"],[0.466,\"Phoenix Suns 2019-20\"],[0.473,\"Portland Trail Blazers 2019-20\"],[0.431,\"Sacramento Kings 2019-20\"],[0.451,\"San Antonio Spurs 2019-20\"],[0.736,\"Toronto Raptors 2019-20\"],[0.611,\"Utah Jazz 2019-20\"],[0.347,\"Washington Wizards 2019-20\"]],\"hovertemplate\":\"PC1=%{x}<br>PC2=%{y}<br>WIN%=%{customdata[0]}<br>TEAM=%{customdata[1]}<br>POSS=%{marker.color}<extra></extra>\",\"legendgroup\":\"\",\"marker\":{\"color\":[7731,7918,7876,7492,8051,7941,7944,8063,7991,7892,7777,7849,7840,7548,7796,7751,7820,7485,8120,7782,7895,7505,8306,7620,7809,7760,7488,7647,7781,7695,7748,7565,7486,7613,7803,7751,7955,7879,7575,7566,7559,7710,7331,7733,7679,7674,7276,7828,7619,7792,7475,8010,7514,7643,7671,7503,7662,7695,7678,7738,7480,7549,7553,7823,7537,7495,7890,7456,7721,7524,7691,7629,7346,7591,7578,7707,7487,7805,7424,7663,7482,7951,7528,7468,7414,7582,7395,7683,7602,7857,7870,7726,7568,7318,7897,7508,7696,7613,7797,7813,7353,7607,7681,7661,7522,7611,7788,7694,7637,7486,7987,7558,7379,7507,7483,7390,7680,7757,7694,7577,7814,7786,7365,7535,7384,7311,7624,7729,7670,7361,7682,7441,7475,7476,7563,7608,7379,7699,7289,7765,7428,7542,7348,7271,7751,7695,7839,7743,7707,7516,7749,7792,7364,7830,7467,7351,7564,7610,7355,7647,7584,7440,7501,7382,7634,7891,7985,8034,7481,7819,7435,7353,7762,7409,7816,7607,7722,7851,7762,7510,7397,7877,7268,7800,7358,7470,7675,7632,7232,7622,7646,7409,7513,7442,7633,7395,7780,8067,7308,7701,7382,7689,7678,7398,7742,7533,7680,7758,7790,7598,7476,8093,7332,8228,7598,7697,7554,7898,7883,7503,7709,7689,7682,7551,7661,7465,7606,8002,7431,7898,7440,7674,7719,7661,7870,7634,7575,7678,7754,7540,7518,8330,7279,8249,7525,8111,7698,7974,7945,7538,7654,7632,7679,7517,7676,7757,7536,8058,7381,7920,7377,8030,7543,7773,7533,7428,7560,7401,7816,7395,7651,7848,7302,8247,7532,8037,7723,7874,7528,7547,7736,7645,7530,7303,8066,7841,7649,7512,7984,7273,7901,7395,7697,7827,7576,7515,7609,7519,7794,7573,7757,7876,7379,8338,7857,8024,7670,7749,7816,7485,7698,8002,7628,7721,7872,7774,7614,7648,7937,7339,7855,7605,7746,7791,7656,7410,7500,7444,7542,7715,7581,7888,7428,7916,7880,7864,7718,7594,7656,7564,7477,8034,7563,7387,7945,7824,7575,7709,7930,7359,7923,7691,7723,7619,7871,6117,6055,6080,5982,6140,6195,6346,6000,6212,6215,6115,5989,6145,6099,6154,6256,6268,6036,5924,6242,6273,5978,6016,6173,6143,6333,6220,6008,6236,6182,7744,7652,7433,7632,7460,7666,7917,7960,7571,7893,7988,7420,7552,7830,7394,7572,7909,7712,7379,7462,7808,7646,7566,7793,7649,7804,7892,7591,7629,7699,7892,7745,7663,7712,7549,7784,7852,8146,7874,8045,8040,7656,7954,8177,7476,7615,7685,8139,7703,7556,7954,7837,8236,7973,7930,7840,7887,7696,7605,7872,7775,8007,7777,7753,7775,7682,7976,8011,7741,8170,8037,7753,7844,7892,7696,7526,7867,7873,7608,7618,7988,7773,7950,8058,7868,7952,7860,7736,7486,7844,8059,8191,7903,7966,8008,7764,7950,7963,7942,8303,8139,8068,7995,7930,7763,7779,7858,7965,8041,7763,8061,8018,8119,8152,8012,8302,7767,7707,7625,8163,8091,8005,8371,7934,7919,8019,7668,8167,7890,8279,8289,7989,7968,8143,7702,7875,7828,7870,8173,7990,8099,7989,8179,8320,8088,7911,7832,7867,7579,8109,8114,7987,8238,8143,8160,8114,7959,8095,7981,8251,8078,7977,8167,8361,7865,7985,8013,7985,8443,8059,8036,8096,8299,8293,7992,7860,7867,8104,7951,8087,8642,8282,8452,8202,8232,8021,8216,8096,8101,8390,8130,8097,8475,8534,8038,8122,8533,8341,8553,8244,8549,8133,8467,8371,8269,8545,8162,8334,8308,8486,6999,7255,7404,6317,6563,6497,7569,7217,6507,6623,7539,7299,7396,7211,7562,7306,7739,6736,7548,6594,7218,7255,7304,7449,7519,7239,7249,7328,7169,7475],\"coloraxis\":\"coloraxis\",\"symbol\":\"circle\"},\"mode\":\"markers\",\"name\":\"\",\"orientation\":\"v\",\"showlegend\":false,\"type\":\"scatter\",\"x\":[-0.9728225824817565,-0.6427353720901211,-0.2259798552227813,-1.710535804484826,-0.7572290593855654,-0.11548012167848772,-0.505159230457783,-0.3068039187851867,-1.108657194444007,-0.4722872457297718,0.14000876619383376,-1.1581143247915622,-0.04705271271012554,-0.26926809276471564,-0.29770605397801186,-0.0660829240874866,-0.6184116187885718,-0.5659196630669007,-0.7041086640915253,-0.8625565328091758,-0.1929175158135008,-0.17013184046358876,-0.051153850749589704,-0.3060574878121749,-0.297547301166263,-0.4723122317558684,-0.27153519965321493,-1.0136542781625149,-0.7930636155890725,-1.1565354478157852,-0.7635541558369764,-0.6422170439181435,-1.2905454199970818,-1.1293057107711195,-0.07583988939680752,-0.45800760459210416,-0.9056061603024472,-1.332343421079906,-0.4416300660796525,-0.7067528876566627,-0.9562317065347566,-0.2212901924262124,-0.7197941032949003,-0.037247753351346655,-0.21915191354937205,-1.1358780177846073,-0.7171025412019201,-0.6263907327340139,-0.7201096154991685,-0.5949583068267529,-0.29824167941280216,-0.13211441839603216,-0.17741822747044103,-0.5138902048363507,-0.3045244709345415,-0.34266327369242927,-0.883865381471207,-1.2205848707491591,-0.8222026944601046,-0.3476033884871883,-0.6785341674349952,-1.0973239885955317,-0.592171544344548,0.2643931141994713,-1.0375373403279453,-0.35718027253616613,-1.1367187972451243,-0.9693099626035113,-0.5167859616480879,-0.6912324876608424,0.048343197844639064,-1.1172144932318098,-0.9203262732659464,-0.1647810012105673,-0.06181880953157188,-0.35983304052708376,-0.7666686579899549,-0.16707731150690502,-0.9935543845375923,-0.6343001124879255,-0.3295340792899868,0.21723462328106946,-0.36000690822799736,-0.1798381849588902,-0.8151965649766448,-0.8051622068882418,-0.7173881462941005,-0.7968936555460105,-0.646891736893783,-0.8786336348506736,-1.33592391876891,0.34693353873416954,-1.778556419758132,-0.5864061270233694,-0.6637698999062369,-0.7613184899927175,-0.48871954952684593,-0.9818828975204821,-0.22471638367051677,-0.5081038597954061,-1.2870535631385847,-0.13343378661112043,-0.09144604134640157,-0.49872424308607893,-0.6360031461642544,-0.32639640112674023,-0.504593008710028,-0.6763473336462832,-0.6654593590547309,-0.5029862683775814,0.20026494804246522,-0.4666449481024914,-0.6101046237125552,-1.0801797393329466,-0.6425425836582872,-0.8589304704976694,-0.9672794377652104,-0.6862268061910832,-1.1295915376961263,-0.8885366875328818,0.2151700807808506,-0.7232659361411901,-0.8003090325120488,-0.7362035766146838,-0.7372502968784082,-0.6137309884487319,-1.1336320489699476,-0.25739403478538125,-0.5582486887296498,-0.8336937609260798,-0.3584392721464821,-0.11559188413070022,-0.5078245917845918,-0.8628119515124585,-0.7328584158063317,-0.9973591420033935,-1.1725842976340304,-0.854033212531393,-0.8093724844310589,0.26298863748577544,-0.564194627690461,-0.36975173286759283,-1.0538024904238281,-1.3640101120711743,-1.316688474682007,-1.2458289428043572,-0.3759026593379284,-0.9679145140821833,-0.7284771566369495,-0.6606163569097134,-0.2027339606968535,-0.3745686844082348,-0.5703644501912379,-0.45955371524528454,-0.3038439965953631,-0.7844735595197604,-0.6841577148050104,-0.5320115132689343,-0.6520770240695785,0.07544122679240918,-0.6432367029578818,-0.21299851426947125,-0.7716792593812977,-1.2680502757455046,-0.6334125177638988,-0.707485422572391,-0.4592561649125043,0.5988199843371322,-0.8798917948574538,0.08666982322767885,-0.26984300719960613,-0.494983729566762,-0.2875465374073936,-1.0877259572719415,-0.6637361413332791,-0.5982426836808723,-0.25549556801181883,-0.5059675601308948,-0.07342276559831189,-0.14788947558555343,-0.11281095079476364,-0.06003787904763656,0.3552635970960752,-0.22503003120536327,-0.5716261013365106,-0.3419149035547937,-0.05550846086396918,0.022385351540794515,-0.2997828739598776,0.2187629906938619,-0.11773670518858054,-0.4889483867164124,-0.07196151992478507,-0.5678579820666911,-0.9018961631712722,-0.50116156732121,-0.1804216117029724,1.176452631769047,-1.0096695109468783,0.02251065859153032,0.17703712987720152,-0.14088273131385695,-0.051199705186002836,-0.7156258284562492,-0.1823727476880482,-0.7862732205386701,-0.5685438842504109,-0.36092910285145724,0.01007840470084853,-0.13696132679941428,0.267366036509849,0.12235863637528989,0.017177358016180318,0.2916443049220397,0.14883270521627628,-0.47423771066407455,-0.26783818588571157,0.15047864454358753,-0.24420454087159807,-0.13741649974090175,-0.22657969804568023,-0.21564096013504216,0.09407662309282318,-0.3536665888134728,-0.53065885376577,-0.5366169618101634,-0.4547503329236453,1.164518885703887,-0.6174074581633973,-0.08468520857979615,0.44943674692933555,-0.20739022956391065,0.30455399610831113,0.04152911923757391,-2.8707213782514906e-06,-0.25417341906442786,0.40595648291034603,-0.3071261699300007,-0.3284793117721369,-0.26021977832970716,0.28663423890866935,0.6414305491898251,0.24227087585545168,0.5792503890083348,0.06910477715875113,0.248532434291833,-0.49137202647676215,0.8089510470392991,-0.12129641177761613,-0.5859101940215318,-0.41450811115971514,-0.5038758602617751,-0.2528419798532509,0.5147366709905802,-0.5579927815229255,0.5707945088864912,-0.4047015524305983,1.1264549556364523,-0.08390569658510841,-0.10814719942368993,0.27210271730437974,-0.4475970984837305,0.5540834936349502,0.5906695740652718,-0.09948014699039437,0.04820804679865427,0.38096546366046474,-0.4295942018672878,-0.014502323419911593,0.43691653725507423,0.39023549296148297,0.20951788444231711,-0.1726870058017306,0.12617684542859145,0.1539977990459258,0.2872421092563139,-0.46079515223808915,0.6210488259711089,-0.647303923207026,0.09052219841514825,-0.11448904734327316,-0.3298507031148077,-0.0680981224031143,0.08675018348695357,0.2548725070762541,-0.4895052053299086,0.4194855020825856,-0.3537372227656673,0.6023271743078679,0.16853436056150736,-0.3503132914847382,0.45432833058783473,0.12421367120567982,0.2379215131772837,-0.49891659557419843,0.3233132413469645,0.26584588879973653,-0.3271950088527199,-0.1850231029539136,0.5806850875219463,0.510715423159614,0.3087929293729261,-0.6465732232348389,0.35737934144879246,0.06712443859855907,0.010489490116319436,-0.29930983321761845,0.2825169084094777,-0.2467987689204765,-0.06718228271203852,0.05173074364531829,-0.4926560324555542,-0.8053190743928014,0.21413619270932097,0.20807629319687176,0.004249291128267233,0.5937443085318845,-0.18703502021046856,0.7967529795266328,0.08176656174929682,-0.2505500686066898,0.3707323122472974,0.3230784540323658,0.5371380500387833,-0.4667502833575022,0.02838561198396297,0.31595843429252807,-0.4268426873316029,0.1756616148402013,-0.455275194617202,0.5636712069379612,0.5839873810490593,-0.2138226556292484,0.1768662210871854,0.4423802979485342,-0.13464093838289287,-0.25267806857849395,0.3263647225788762,-0.12635684084376475,0.4505289129156125,-0.44237710484599635,-0.3680225518268597,-0.45128494915151396,-0.0640107329092247,0.4359392448202599,0.2265815533823258,0.24432506046345173,0.20005669967010853,0.47034445814425074,-0.09115808515361876,-0.41371200439292616,0.657661756676599,-0.33520397157795506,-0.04382758079602243,-0.6188767943404768,0.1340822710452352,-0.0406786718000696,-1.1468605696269785,0.06710521660888168,-0.8036997553852738,0.02067043703750947,0.2583328011088401,-0.8440071107872837,-0.026093980523860975,-0.08936691948056553,-0.31756337747689,-0.0305835389877101,-0.018766968077027185,-0.45994256744717393,0.03869650764577785,-0.018610228712383253,-0.3457348779901962,-0.6251178242105231,-0.7196368093689006,-0.19007549888476066,0.10139272848937113,-0.13812491034583277,0.09400729479548553,0.0657711068595207,-0.17261629426753902,-0.5196355876888304,0.697570552611964,-0.577869326795577,-0.20861054250259878,-0.6524402753368559,0.35969351861941345,0.08837131727542064,-0.11969664789787623,-0.7368993559870136,-0.2807716158715422,-0.44601926943910636,0.38646120448913723,0.3348831948760977,-0.4131588531551659,0.31713162174409354,0.4332112597878869,-0.23698525451926108,0.424427681173203,0.26527747928745865,-0.2924642465609327,0.8032409444892938,-0.02429667342295658,-0.3065618109786413,-0.38332688307251356,0.3609067013701468,0.6088230246494049,-0.23842481409170235,-0.14601829841254396,-0.3924414870907537,-0.028045462713150913,-0.21142971791183107,0.8151446084303567,-0.12106775633420083,-0.09924334740685377,-0.2877059916818321,0.4415037460689225,-0.3256956985884677,0.08074546076876604,0.12365630389951193,-0.20254183503251627,-0.16657576279353167,0.6915809811034048,0.11206166672586709,-0.2538945097283558,0.6103307330072234,0.47623859825983106,0.07921037424284433,0.7888865556166038,0.31663123636038065,-0.001751777662062826,0.6377914150573951,-0.46788941977392606,0.4123814469360996,-0.08522566830745922,0.13222333198607425,0.601672401313587,-0.1814004131800853,-0.4533234782471493,0.3148567454163004,0.6649384785195707,-0.2548116620430939,1.0023325764322792,0.17222224856936197,-0.3668652292215067,0.3197010121054683,0.7745806831566276,0.292826185788019,-0.013859159987889363,-0.15253839342428208,0.2148242005221216,0.4789870454671799,0.6367914996664519,-0.08057564503325859,-0.021415007833039755,1.281263848225496,0.2477607954173918,0.09232896970682457,1.0109289288041634,-0.1902611639264495,0.1609023361259654,-0.23710231826676437,-0.004352656964672333,-0.47155264188931867,0.17571710471098867,-0.525365170676963,0.20907959407048415,-0.2053089191481447,-0.8258940317183213,0.17247168352972525,0.6386833545474406,-0.1918261283019393,0.7331270825048766,0.3380753487178116,-0.24557158947065016,0.24740707854915897,0.6926073429613697,0.5040055699429923,-0.04307691232964217,0.6559356684033524,0.28655641582622454,0.7506682872630959,0.5395023507995492,0.10201699106929986,0.17784678778407972,1.6526023876556177,0.2928771420891544,0.308086168346636,0.7450782079713959,-0.4599365197271523,-0.11896795389058328,0.29721983490805165,-0.05319253158004925,0.10617773138277205,0.37136039071029237,0.061708135608563024,0.6989195998222546,0.3353013700395477,-0.3235441112263512,-0.13996078233987633,0.41898543578501163,0.43350544771684557,1.028300234158601,0.33538047904464335,-0.022243526460298372,0.585636788552692,0.3564747545209247,0.9261435381293639,0.28024723000398444,0.7579691490717633,0.34446571124560643,1.0625956357645585,0.4217633230420132,0.92117759307023,0.4269015478127306,1.7294446671720072,1.1768369422485205,0.5934368321200877,1.0077060116667387,0.11105978987225927,0.2264442429703131,0.4127657026377164,0.5879560835653926,0.3999805008896265,0.639843876478008,0.262467798240811,0.3276701766974254,0.19540339833759074,0.17365088962113076,0.0738111184595585,0.5950286297466355,0.35332577874343435,0.9058637291962645,0.5195934571900164,0.5353913361479457,0.8034280330004049,0.4042068656750602,0.7451464008250975,0.5884555253072148,0.7453043841579742,0.46100516744403525,1.1132928743759523,0.6696400441216205,0.9376719752590978,0.6081115163887648,1.5765516214239805,1.2513712301453912,0.7033906311498227,0.6423733854262227,0.5884287318868678,0.007543653592350206,0.634824431217494,0.6842094329898261,0.8223968194076823,1.227108275293062,0.4383893146689499,0.5750893463970356,0.4455462504569112,1.0046153194487326,0.06596675632779177,0.6088305419600807,0.16157429983383587,0.6453379048686029,1.187096728220639,0.7641011066224841,0.7588536508853454,0.7534753707814795,1.3739337770823776,0.8290592373015789,0.8985968923467809,0.3604053443257846,0.23315362836811407,0.7789909703169695,1.1495152698579088,0.5993928824691002,1.7979242986756618,1.0420112406104205,0.9836453314107783,0.9916190029208236,0.8871650506530334,0.5052082360267585,0.6312135493609974,1.7417058917497321,0.8473036465159982,1.1007925138908432,0.12941715930697323,0.9668127027968408,1.0187344368049995,1.2304894507916373,0.3526557997003908,1.0935601327490727,1.0762038909123743,1.298267260176214,1.3612042383890586,1.1793983777670605,1.0323250775012993,0.5094275038986693,1.0922013626124591,0.8786275876188943,0.26662730700015375,0.417573808345327,0.3685736836488014,1.4894103844312019,1.0993088644087632,0.5230718104515927,0.412732963567167,1.1209582033717584,1.1149075369621966,1.2309558905058933,1.1805741057801808,1.0286276801828904,1.231363386231927,1.763207759517717,0.7092265872215429,1.0897645682388235,0.24874175253618935,0.9581362380072218,0.7673083075639965,1.0982042446240767,1.1109271977133814,1.002545235386354,0.864944816882789,1.2338817525892316,1.1775145832619869,1.0547811814436532,0.8746427019938919],\"xaxis\":\"x\",\"y\":[0.16685090145864354,-0.03502826764321594,-0.7025875546846058,0.3257277310781353,-0.05540753749163335,-0.044060964462028424,-0.10286803715800091,-0.24314132462227328,0.39374299415177844,-0.1092736814192631,-0.6277171692805824,0.7290130525252564,-1.0326154815480841,-0.7357440289070023,-0.3310101942523367,-0.7211122464728836,0.007998900951812566,-0.3888586084296511,-0.17660226440730178,-0.43221125837942403,-0.7340267609521285,-0.9854773545401606,-0.21192147539780395,-0.8893030185610858,-0.2161197790755797,-0.39755896859510664,-0.9541584529411093,0.13007989837334016,-0.01899257859512174,0.22336358542153134,-0.05244213746282733,-0.7027994716941971,0.23183991620609934,-0.05994934600779039,-0.5202525323914495,-0.16794384276637378,-0.06189407629326398,0.4167912312768315,-0.3802102833627154,-0.41742750218809815,-0.09813038992382335,-0.7261550689884875,-0.5015089838496628,-0.5488433054618732,-0.6094919460701512,0.19000041052176175,-0.5097269263139913,-0.3099288510308011,-0.7305792017274099,-0.5447315584356156,-0.87044457802185,-0.615955841023768,-1.0852943548308642,-0.32189072962009496,-0.609661042762659,-1.0351318822751854,0.04251731159037184,0.18192972943258404,0.09070657277243802,-0.25577220432948633,-0.5218265679735269,0.18252994240710463,-0.20367423516435126,-0.4869994725129623,0.17611112069337956,-0.6013871243025382,0.1544000761998325,0.17382954559228178,-0.4114832489985793,-0.31802785015890217,-0.8323574430834968,0.16829305480070536,-0.32160354235484656,-0.30939137933416605,-0.6764419093950171,-0.7066890291557766,0.017877147103338112,-0.2568408992106684,-0.5172076491454927,-0.16564103802758898,-0.6460464356797415,-0.8362983596822721,-0.8340559099434067,-0.5797258235735022,-0.37805941263672616,-0.7296650317458636,-0.29241368119964745,-0.12069007678444514,-0.0701846693051908,0.05553596562389468,0.36706777331924734,-0.7519455350444554,0.29443653128674585,-0.6405054253979144,-0.18176113383458622,-0.3983039906558013,-0.6716444121615704,0.009985407773117615,-0.5677495039351907,-0.08355002220095821,0.17170530570094045,-0.31665046186259604,-0.6705277281935478,-0.7718911270788037,-0.5727961366727623,-0.09358079802815485,-0.12969704824893924,-0.4998141092459438,-0.3151588162641272,-0.6246189735516562,-0.7893090939374703,-0.8019761539160516,-0.34188450480941573,0.20641100191730868,-0.9971364550412662,-0.32929453941096487,0.054770088862944516,-0.11520959127121239,0.18534685638284518,-0.2690110912205816,-0.5663126616514078,-0.4105196681851317,-0.9516907724424996,-0.2251880538712336,-0.47687244405487317,-0.8648568676104151,-0.022016438204307497,-0.7796502619661417,-0.6248290901517458,-0.2781572322649607,-0.4446332625033971,-0.9414082761033231,-0.7126028450939792,-0.2666344930403321,-0.2424322321811804,0.372245681794133,-0.21118312936407793,0.11104481407289955,-0.3828748581303966,-0.7986030644249019,-0.9561517710462113,-0.17785297876957107,-0.0881782160500862,-0.4630907823830935,0.19765766444883207,0.49933941391266645,-0.4173490230207629,0.09373835785736383,-0.34258129562197587,-0.5306588461187877,-0.6722482254860075,-0.6463517973714358,-0.8615248648444285,0.025614253781508983,-0.649775389745143,-0.35021199110040063,-0.5758479765036036,0.018266788342235926,-0.5300039561420403,-0.9534457255246953,-0.1362303054868745,-0.5800783276252125,-0.3187552458158014,0.24162534523732257,-0.06269012587156172,-0.1427744946806823,-0.15313248108547173,-0.6615111241855245,-0.1195759516965642,-0.5149382279734175,-0.9815114387164675,-0.3863778697199057,-0.016799880016676313,-0.21428440644604088,-0.16018825046436716,0.3699137034061249,0.14213144406792375,0.44800151440286534,0.07698251766173611,-0.11665644056106708,-0.5016384961785124,-0.08706615228082493,-0.7937715924637978,0.35165467297661646,0.11828079342594423,-0.11011121222709144,-0.2273138099821723,-0.1196236390654769,-0.24909212530301517,-0.3129370240493376,0.11654692146014017,0.009862652688336812,-0.21964592544336278,0.2213612169690375,0.5048694827080166,0.007064328986177754,0.1456646977227353,-0.27139310620474716,0.6592931440326051,-0.09012738112439299,-0.603403923863123,0.3296462021799157,0.4657525509710303,-0.08121492624581762,0.05048311704596769,0.3130670814963756,0.367952028156075,0.2630106036590935,-0.3229558852519809,-0.2277733593269197,-0.5738586435781518,-0.04622811010593377,-0.47804301416726985,0.24490229019497287,-0.24917003724369496,0.224553675122857,-0.1794380749174119,0.09819514148183643,0.5017671580944031,-0.014385793921201066,0.4797203085001298,0.16395625058620467,0.009738729832906601,0.22093123413217283,0.30337485674882775,-0.10629612858992463,0.09796345550730934,-0.44984642612291315,0.33678613313533645,0.3277910148353782,-0.667656180643595,0.27991606500218486,-0.05623624657705476,-0.3954859285170195,0.21733150011856056,-0.0032888576646035307,-0.8197735563852212,0.3405165190925184,0.2456046015948936,0.04181293193496792,-0.3337329696876493,-0.17100111653804667,-0.7304069528073731,0.23791268367565854,-0.32905048924408464,0.3437379469462659,0.46285926281064066,-0.45604139801825183,0.7602152055832699,0.631261372040087,0.49107238173164597,0.6487561462051598,0.19328721755990064,-0.3394014472288007,0.695985786302675,-0.1801137006047313,-0.057802508823904634,-0.4101902400219092,-0.009496204125868117,0.3446902146964606,-0.33912483405388955,0.7070760503052793,-0.2366984411929995,-0.6568849233244345,0.0824008605534191,-0.10374351266672596,-0.6739580564997405,0.029486776277157515,0.08157886451416624,-0.6621199279286086,-0.1442656015921555,-0.27416623833871984,-0.05293254977121919,0.48331333665907955,-0.21897105089019248,0.32794893808210024,0.6724967950337399,-0.4913704198666886,0.5118430835210649,0.009567577392203944,0.1733898591083349,0.5281338648641509,0.27503328240966923,-0.1576475887237725,0.6033879572118195,0.4716370614183012,-0.3286886490923116,-0.05034844308255008,-0.11391761741149202,-0.4562815955892998,0.8078333195439892,-0.2573120397757006,0.1741852943105205,-0.3138072686475665,0.5997849495531038,-0.331441816290877,-0.37933349324842003,-0.12777110429776012,0.13156851032081096,-0.5762668420136416,-0.29891222260286965,-0.17202127231483066,0.42494848670589563,0.5882998046015578,0.2769484669973254,0.47319567115718847,0.38377495612898704,-0.2375522940171501,0.2613916532489221,-0.13116488283501815,0.09639008483159066,0.8972305231978072,0.78769721589852,0.2570236896125392,0.5201091516514471,-0.22825487346243822,-0.38221397779364386,0.2725397581485083,-0.2555561596440643,-0.2937023589332689,0.5111034962951382,-0.2878768525469787,0.14032524240319827,-0.562734512795993,0.4846339870095644,-0.02274396679055697,-0.5923257054899722,0.2218897673084258,-0.5979568453596272,0.751067199784883,-0.40856831324153037,-0.15611220098157785,0.23862954039138043,0.2900764971563295,-0.026722818365819724,0.302291683829979,0.2249263578835924,-0.43407484040367117,-0.11237730880514173,-0.5614261445022753,0.18264006980858633,0.7330911399099302,0.4638027855426953,-0.1266134604875094,0.1510979030050584,-0.28702878399351656,-0.2580116265940989,-0.09537877460894557,0.17275965654846379,-0.18033301830643408,0.5661355726454553,-0.37385174348687705,0.4973372777534631,-0.017409542989397703,0.6359975863973831,-0.2684281000448543,-0.39340321088877284,0.9836292303204196,-0.7647615942578521,0.6185604455681908,-0.027275930937743272,-0.1778847539090953,0.3861366928912665,0.2995499198416464,0.0777829618819163,-0.16860949998094377,-0.19378228662060057,-0.2623788292799319,-0.1733179366155964,-0.4897260639726659,-0.0032110792133339073,0.37564989492593104,0.5143783344551293,0.1499726655463178,-0.04736607429570875,-0.37747385725080546,0.009325741151194505,-0.3461161198010549,0.01778670061331291,0.156834853454973,0.6717025219958815,-0.46839332479588247,0.1757875476970159,-0.11328154236182805,0.44950868296641294,-0.030592082702812273,-0.002836161232477157,-0.11521632480841643,0.7637076308282713,-0.1618050526327054,0.572275544014114,0.07895595778599618,-0.3284743229776659,0.34024312858949524,0.03187149504742281,0.021921947675843458,-0.25214348059154035,-0.5532005607315225,0.009273946019871422,-0.38644707300059716,-0.6919484599705148,0.1732434091916438,0.22929744678060032,0.3137890169086513,-0.07105715022888989,-0.6882820967200097,0.5652786859974765,0.22836591422571553,0.5005844608071851,0.33895180155381405,0.5728661284882252,-0.44930038621093527,0.17862401454171953,-0.06765633067352211,0.24234147846230447,0.10894494219613247,0.4914210115915837,0.12501141718619363,0.05612137415484511,-0.22487580048481678,0.40606267868570073,-0.12386398822742539,0.38044695497951003,0.4468416870977183,-0.14679244341782377,-0.12592569924104907,-0.26501251659745934,-0.4416880899753848,0.5932879372355299,-0.2046820888182252,-0.37994369797987637,0.6511515829807634,0.055358229538223315,0.22503947994096388,0.20978795209497625,-0.3765469108619374,0.5509072991091131,1.0436217436335786,0.1237335711706899,-0.14074656973836258,0.48329099860589647,-0.4922977962192614,-0.08326670368002594,0.597455310183623,-0.013313571136653794,-0.39406420360396915,0.1959400932811629,0.3351556936822029,0.41057451963652136,-0.1335928467389637,-0.14889380442488948,0.016972170607869975,0.5623061274233989,0.297047291658315,-0.6490443283761413,0.015246971509985852,0.15416463060122798,-0.40580023418422345,0.6519593110813053,-0.21831411685999316,0.20664863630455726,-0.0346317581236413,0.6841019973899094,-0.040816050941585795,0.7029632809508682,0.11366236588507686,0.6116815602694078,0.8516820868412628,0.37461827055445407,-0.058620611406469084,0.41992146578087586,-0.3811940945859355,0.01424355254925109,-0.002855420699566533,-0.1323909253601386,-0.10101049454580323,0.06079604000590152,0.6295676239531736,0.11599528397062216,0.2476943200807916,-0.1855922418404289,0.28423399694970314,0.42586823884578684,0.32944855965884584,-0.644926005333733,0.2508293226379939,0.11377387584953143,-0.16414203409642492,1.0544401142965363,0.2798988712280619,-0.0956395123393937,0.26558649398561124,0.23750019913731193,0.5389344270551973,0.3291625062000716,-0.3430285197788585,0.3060628169481502,1.0256095325767465,0.8346683481184405,0.2683077293524019,0.3632309783928526,-0.7899960821156141,-0.1139888970607826,0.06532831198785685,0.22508421095299935,0.2086201093500637,0.03694113610596757,0.9124652770047287,0.24247237749815018,0.10714203292944398,0.1288180033978933,0.47382629360720346,0.18822436178455784,0.3710971442428289,-0.7699775525208739,0.022034186014674814,0.17962528469837585,-0.0941841753646651,0.8252038067204739,0.14318960358446625,0.20975763912146378,0.037425880906091495,0.1652199434284226,0.4035060527531258,0.4671360286089979,0.24293973717721049,0.6819343885820818,0.6122912474850558,0.8009462595559061,0.3679153497596806,0.4273824670982569,-0.4760580976122676,0.03750153715032335,-0.16399885688646476,0.07142112909607796,0.7058667296339353,0.006907768667171805,0.6728361804009341,0.3553259089085496,0.8050223350631504,0.229787107217006,0.6290459696416838,0.10232936182947998,0.32460030827559777,-0.446770433755279,-0.10809525126772938,0.1550881233827913,0.3215985130900232,0.46583173055406224,0.6735669464780518,0.22551146148941012,0.13750967823030313,0.026623302332783285,0.09029205416927763,0.45802400962391093,0.11857916191238156,0.6244274261533728,-0.16021845971069512,1.0388460368486983,0.22351992639585047,0.7147521931284639,-0.06828971549762154,-0.20551045242705468,-0.04889507801674893,0.10607469426360737,0.8413262702441883,-0.0007320668832002827,0.4850694172920976,0.5124165600286067,0.9322320415196198,1.087256530862512,0.5194683794383885,-0.0812923366958531,0.45813829094142755,-0.270657146646309,0.2624513603789834,-0.06280910345618507,0.2836562736899437,0.48210447354567904,0.377988482690136,0.2957338962968965,-0.14002904998162385,0.42876067077368984,0.4385463958973263,1.091067756105031,0.2984037179000799,0.2080921019999923,-0.023806141324713755,0.930940969855441,0.1019054214368518,0.4890310110839232,0.09137900426228612,-0.08048865215871072,-0.09896634427331141,0.5398170459423574,0.9863792023973819,0.004323640320614314,0.47339149520607626,0.698581685433994,0.6808187715939694,0.9084806804472664,0.1463252258528768,-0.009255854892215464,0.5606195490679979,0.7837268501169257,0.4887551480174461,0.051095723726475646,0.0008869863170390293,-0.19183107721189355,0.3461560380211118,-0.01334062869951298,-0.17603222954715117,0.8103151652734696,0.47766830937511395,0.7301699546717345,0.18387181566394178,0.33574044555934074,0.0028135074958533864,0.2670944712502402,0.6112611388399252,0.5221275764920226,0.3271259387913983,-0.061370455718294324,0.21129485776925538,0.719396182236297],\"yaxis\":\"y\"}],                        {\"coloraxis\":{\"colorbar\":{\"title\":{\"text\":\"POSS\"}},\"colorscale\":[[0.0,\"#0d0887\"],[0.1111111111111111,\"#46039f\"],[0.2222222222222222,\"#7201a8\"],[0.3333333333333333,\"#9c179e\"],[0.4444444444444444,\"#bd3786\"],[0.5555555555555556,\"#d8576b\"],[0.6666666666666666,\"#ed7953\"],[0.7777777777777778,\"#fb9f3a\"],[0.8888888888888888,\"#fdca26\"],[1.0,\"#f0f921\"]]},\"legend\":{\"tracegroupgap\":0},\"margin\":{\"t\":60},\"template\":{\"data\":{\"bar\":[{\"error_x\":{\"color\":\"#2a3f5f\"},\"error_y\":{\"color\":\"#2a3f5f\"},\"marker\":{\"line\":{\"color\":\"#E5ECF6\",\"width\":0.5},\"pattern\":{\"fillmode\":\"overlay\",\"size\":10,\"solidity\":0.2}},\"type\":\"bar\"}],\"barpolar\":[{\"marker\":{\"line\":{\"color\":\"#E5ECF6\",\"width\":0.5},\"pattern\":{\"fillmode\":\"overlay\",\"size\":10,\"solidity\":0.2}},\"type\":\"barpolar\"}],\"carpet\":[{\"aaxis\":{\"endlinecolor\":\"#2a3f5f\",\"gridcolor\":\"white\",\"linecolor\":\"white\",\"minorgridcolor\":\"white\",\"startlinecolor\":\"#2a3f5f\"},\"baxis\":{\"endlinecolor\":\"#2a3f5f\",\"gridcolor\":\"white\",\"linecolor\":\"white\",\"minorgridcolor\":\"white\",\"startlinecolor\":\"#2a3f5f\"},\"type\":\"carpet\"}],\"choropleth\":[{\"colorbar\":{\"outlinewidth\":0,\"ticks\":\"\"},\"type\":\"choropleth\"}],\"contour\":[{\"colorbar\":{\"outlinewidth\":0,\"ticks\":\"\"},\"colorscale\":[[0.0,\"#0d0887\"],[0.1111111111111111,\"#46039f\"],[0.2222222222222222,\"#7201a8\"],[0.3333333333333333,\"#9c179e\"],[0.4444444444444444,\"#bd3786\"],[0.5555555555555556,\"#d8576b\"],[0.6666666666666666,\"#ed7953\"],[0.7777777777777778,\"#fb9f3a\"],[0.8888888888888888,\"#fdca26\"],[1.0,\"#f0f921\"]],\"type\":\"contour\"}],\"contourcarpet\":[{\"colorbar\":{\"outlinewidth\":0,\"ticks\":\"\"},\"type\":\"contourcarpet\"}],\"heatmap\":[{\"colorbar\":{\"outlinewidth\":0,\"ticks\":\"\"},\"colorscale\":[[0.0,\"#0d0887\"],[0.1111111111111111,\"#46039f\"],[0.2222222222222222,\"#7201a8\"],[0.3333333333333333,\"#9c179e\"],[0.4444444444444444,\"#bd3786\"],[0.5555555555555556,\"#d8576b\"],[0.6666666666666666,\"#ed7953\"],[0.7777777777777778,\"#fb9f3a\"],[0.8888888888888888,\"#fdca26\"],[1.0,\"#f0f921\"]],\"type\":\"heatmap\"}],\"heatmapgl\":[{\"colorbar\":{\"outlinewidth\":0,\"ticks\":\"\"},\"colorscale\":[[0.0,\"#0d0887\"],[0.1111111111111111,\"#46039f\"],[0.2222222222222222,\"#7201a8\"],[0.3333333333333333,\"#9c179e\"],[0.4444444444444444,\"#bd3786\"],[0.5555555555555556,\"#d8576b\"],[0.6666666666666666,\"#ed7953\"],[0.7777777777777778,\"#fb9f3a\"],[0.8888888888888888,\"#fdca26\"],[1.0,\"#f0f921\"]],\"type\":\"heatmapgl\"}],\"histogram\":[{\"marker\":{\"pattern\":{\"fillmode\":\"overlay\",\"size\":10,\"solidity\":0.2}},\"type\":\"histogram\"}],\"histogram2d\":[{\"colorbar\":{\"outlinewidth\":0,\"ticks\":\"\"},\"colorscale\":[[0.0,\"#0d0887\"],[0.1111111111111111,\"#46039f\"],[0.2222222222222222,\"#7201a8\"],[0.3333333333333333,\"#9c179e\"],[0.4444444444444444,\"#bd3786\"],[0.5555555555555556,\"#d8576b\"],[0.6666666666666666,\"#ed7953\"],[0.7777777777777778,\"#fb9f3a\"],[0.8888888888888888,\"#fdca26\"],[1.0,\"#f0f921\"]],\"type\":\"histogram2d\"}],\"histogram2dcontour\":[{\"colorbar\":{\"outlinewidth\":0,\"ticks\":\"\"},\"colorscale\":[[0.0,\"#0d0887\"],[0.1111111111111111,\"#46039f\"],[0.2222222222222222,\"#7201a8\"],[0.3333333333333333,\"#9c179e\"],[0.4444444444444444,\"#bd3786\"],[0.5555555555555556,\"#d8576b\"],[0.6666666666666666,\"#ed7953\"],[0.7777777777777778,\"#fb9f3a\"],[0.8888888888888888,\"#fdca26\"],[1.0,\"#f0f921\"]],\"type\":\"histogram2dcontour\"}],\"mesh3d\":[{\"colorbar\":{\"outlinewidth\":0,\"ticks\":\"\"},\"type\":\"mesh3d\"}],\"parcoords\":[{\"line\":{\"colorbar\":{\"outlinewidth\":0,\"ticks\":\"\"}},\"type\":\"parcoords\"}],\"pie\":[{\"automargin\":true,\"type\":\"pie\"}],\"scatter\":[{\"marker\":{\"colorbar\":{\"outlinewidth\":0,\"ticks\":\"\"}},\"type\":\"scatter\"}],\"scatter3d\":[{\"line\":{\"colorbar\":{\"outlinewidth\":0,\"ticks\":\"\"}},\"marker\":{\"colorbar\":{\"outlinewidth\":0,\"ticks\":\"\"}},\"type\":\"scatter3d\"}],\"scattercarpet\":[{\"marker\":{\"colorbar\":{\"outlinewidth\":0,\"ticks\":\"\"}},\"type\":\"scattercarpet\"}],\"scattergeo\":[{\"marker\":{\"colorbar\":{\"outlinewidth\":0,\"ticks\":\"\"}},\"type\":\"scattergeo\"}],\"scattergl\":[{\"marker\":{\"colorbar\":{\"outlinewidth\":0,\"ticks\":\"\"}},\"type\":\"scattergl\"}],\"scattermapbox\":[{\"marker\":{\"colorbar\":{\"outlinewidth\":0,\"ticks\":\"\"}},\"type\":\"scattermapbox\"}],\"scatterpolar\":[{\"marker\":{\"colorbar\":{\"outlinewidth\":0,\"ticks\":\"\"}},\"type\":\"scatterpolar\"}],\"scatterpolargl\":[{\"marker\":{\"colorbar\":{\"outlinewidth\":0,\"ticks\":\"\"}},\"type\":\"scatterpolargl\"}],\"scatterternary\":[{\"marker\":{\"colorbar\":{\"outlinewidth\":0,\"ticks\":\"\"}},\"type\":\"scatterternary\"}],\"surface\":[{\"colorbar\":{\"outlinewidth\":0,\"ticks\":\"\"},\"colorscale\":[[0.0,\"#0d0887\"],[0.1111111111111111,\"#46039f\"],[0.2222222222222222,\"#7201a8\"],[0.3333333333333333,\"#9c179e\"],[0.4444444444444444,\"#bd3786\"],[0.5555555555555556,\"#d8576b\"],[0.6666666666666666,\"#ed7953\"],[0.7777777777777778,\"#fb9f3a\"],[0.8888888888888888,\"#fdca26\"],[1.0,\"#f0f921\"]],\"type\":\"surface\"}],\"table\":[{\"cells\":{\"fill\":{\"color\":\"#EBF0F8\"},\"line\":{\"color\":\"white\"}},\"header\":{\"fill\":{\"color\":\"#C8D4E3\"},\"line\":{\"color\":\"white\"}},\"type\":\"table\"}]},\"layout\":{\"annotationdefaults\":{\"arrowcolor\":\"#2a3f5f\",\"arrowhead\":0,\"arrowwidth\":1},\"autotypenumbers\":\"strict\",\"coloraxis\":{\"colorbar\":{\"outlinewidth\":0,\"ticks\":\"\"}},\"colorscale\":{\"diverging\":[[0,\"#8e0152\"],[0.1,\"#c51b7d\"],[0.2,\"#de77ae\"],[0.3,\"#f1b6da\"],[0.4,\"#fde0ef\"],[0.5,\"#f7f7f7\"],[0.6,\"#e6f5d0\"],[0.7,\"#b8e186\"],[0.8,\"#7fbc41\"],[0.9,\"#4d9221\"],[1,\"#276419\"]],\"sequential\":[[0.0,\"#0d0887\"],[0.1111111111111111,\"#46039f\"],[0.2222222222222222,\"#7201a8\"],[0.3333333333333333,\"#9c179e\"],[0.4444444444444444,\"#bd3786\"],[0.5555555555555556,\"#d8576b\"],[0.6666666666666666,\"#ed7953\"],[0.7777777777777778,\"#fb9f3a\"],[0.8888888888888888,\"#fdca26\"],[1.0,\"#f0f921\"]],\"sequentialminus\":[[0.0,\"#0d0887\"],[0.1111111111111111,\"#46039f\"],[0.2222222222222222,\"#7201a8\"],[0.3333333333333333,\"#9c179e\"],[0.4444444444444444,\"#bd3786\"],[0.5555555555555556,\"#d8576b\"],[0.6666666666666666,\"#ed7953\"],[0.7777777777777778,\"#fb9f3a\"],[0.8888888888888888,\"#fdca26\"],[1.0,\"#f0f921\"]]},\"colorway\":[\"#636efa\",\"#EF553B\",\"#00cc96\",\"#ab63fa\",\"#FFA15A\",\"#19d3f3\",\"#FF6692\",\"#B6E880\",\"#FF97FF\",\"#FECB52\"],\"font\":{\"color\":\"#2a3f5f\"},\"geo\":{\"bgcolor\":\"white\",\"lakecolor\":\"white\",\"landcolor\":\"#E5ECF6\",\"showlakes\":true,\"showland\":true,\"subunitcolor\":\"white\"},\"hoverlabel\":{\"align\":\"left\"},\"hovermode\":\"closest\",\"mapbox\":{\"style\":\"light\"},\"paper_bgcolor\":\"white\",\"plot_bgcolor\":\"#E5ECF6\",\"polar\":{\"angularaxis\":{\"gridcolor\":\"white\",\"linecolor\":\"white\",\"ticks\":\"\"},\"bgcolor\":\"#E5ECF6\",\"radialaxis\":{\"gridcolor\":\"white\",\"linecolor\":\"white\",\"ticks\":\"\"}},\"scene\":{\"xaxis\":{\"backgroundcolor\":\"#E5ECF6\",\"gridcolor\":\"white\",\"gridwidth\":2,\"linecolor\":\"white\",\"showbackground\":true,\"ticks\":\"\",\"zerolinecolor\":\"white\"},\"yaxis\":{\"backgroundcolor\":\"#E5ECF6\",\"gridcolor\":\"white\",\"gridwidth\":2,\"linecolor\":\"white\",\"showbackground\":true,\"ticks\":\"\",\"zerolinecolor\":\"white\"},\"zaxis\":{\"backgroundcolor\":\"#E5ECF6\",\"gridcolor\":\"white\",\"gridwidth\":2,\"linecolor\":\"white\",\"showbackground\":true,\"ticks\":\"\",\"zerolinecolor\":\"white\"}},\"shapedefaults\":{\"line\":{\"color\":\"#2a3f5f\"}},\"ternary\":{\"aaxis\":{\"gridcolor\":\"white\",\"linecolor\":\"white\",\"ticks\":\"\"},\"baxis\":{\"gridcolor\":\"white\",\"linecolor\":\"white\",\"ticks\":\"\"},\"bgcolor\":\"#E5ECF6\",\"caxis\":{\"gridcolor\":\"white\",\"linecolor\":\"white\",\"ticks\":\"\"}},\"title\":{\"x\":0.05},\"xaxis\":{\"automargin\":true,\"gridcolor\":\"white\",\"linecolor\":\"white\",\"ticks\":\"\",\"title\":{\"standoff\":15},\"zerolinecolor\":\"white\",\"zerolinewidth\":2},\"yaxis\":{\"automargin\":true,\"gridcolor\":\"white\",\"linecolor\":\"white\",\"ticks\":\"\",\"title\":{\"standoff\":15},\"zerolinecolor\":\"white\",\"zerolinewidth\":2}}},\"xaxis\":{\"anchor\":\"y\",\"domain\":[0.0,1.0],\"title\":{\"text\":\"PC1\"}},\"yaxis\":{\"anchor\":\"x\",\"domain\":[0.0,1.0],\"title\":{\"text\":\"PC2\"}}},                        {\"responsive\": true}                    ).then(function(){\n",
       "                            \n",
       "var gd = document.getElementById('48853211-60db-4b15-8782-8363cd8330f0');\n",
       "var x = new MutationObserver(function (mutations, observer) {{\n",
       "        var display = window.getComputedStyle(gd).display;\n",
       "        if (!display || display === 'none') {{\n",
       "            console.log([gd, 'removed!']);\n",
       "            Plotly.purge(gd);\n",
       "            observer.disconnect();\n",
       "        }}\n",
       "}});\n",
       "\n",
       "// Listen for the removal of the full notebook cells\n",
       "var notebookContainer = gd.closest('#notebook-container');\n",
       "if (notebookContainer) {{\n",
       "    x.observe(notebookContainer, {childList: true});\n",
       "}}\n",
       "\n",
       "// Listen for the clearing of the current output cell\n",
       "var outputEl = gd.closest('.output');\n",
       "if (outputEl) {{\n",
       "    x.observe(outputEl, {childList: true});\n",
       "}}\n",
       "\n",
       "                        })                };                });            </script>        </div>"
      ]
     },
     "metadata": {},
     "output_type": "display_data"
    }
   ],
   "source": [
    "visualize_KMeans_clustering(normalized_team_stats,teams,team_stats,8,2,color='POSS')"
   ]
  },
  {
   "cell_type": "code",
   "execution_count": 185,
   "metadata": {},
   "outputs": [
    {
     "data": {
      "application/vnd.plotly.v1+json": {
       "config": {
        "plotlyServerURL": "https://plot.ly"
       },
       "data": [
        {
         "customdata": [
          [
           0.341,
           "Atlanta Hawks 1999-00"
          ],
          [
           0.427,
           "Boston Celtics 1999-00"
          ],
          [
           0.598,
           "Charlotte Hornets 1999-00"
          ],
          [
           0.207,
           "Chicago Bulls 1999-00"
          ],
          [
           0.39,
           "Cleveland Cavaliers 1999-00"
          ],
          [
           0.488,
           "Dallas Mavericks 1999-00"
          ],
          [
           0.427,
           "Denver Nuggets 1999-00"
          ],
          [
           0.512,
           "Detroit Pistons 1999-00"
          ],
          [
           0.232,
           "Golden State Warriors 1999-00"
          ],
          [
           0.415,
           "Houston Rockets 1999-00"
          ],
          [
           0.683,
           "Indiana Pacers 1999-00"
          ],
          [
           0.183,
           "Los Angeles Clippers 1999-00"
          ],
          [
           0.817,
           "Los Angeles Lakers 1999-00"
          ],
          [
           0.634,
           "Miami Heat 1999-00"
          ],
          [
           0.512,
           "Milwaukee Bucks 1999-00"
          ],
          [
           0.61,
           "Minnesota Timberwolves 1999-00"
          ],
          [
           0.378,
           "New Jersey Nets 1999-00"
          ],
          [
           0.61,
           "New York Knicks 1999-00"
          ],
          [
           0.5,
           "Orlando Magic 1999-00"
          ],
          [
           0.598,
           "Philadelphia 76ers 1999-00"
          ],
          [
           0.646,
           "Phoenix Suns 1999-00"
          ],
          [
           0.72,
           "Portland Trail Blazers 1999-00"
          ],
          [
           0.537,
           "Sacramento Kings 1999-00"
          ],
          [
           0.646,
           "San Antonio Spurs 1999-00"
          ],
          [
           0.549,
           "Seattle SuperSonics 1999-00"
          ],
          [
           0.549,
           "Toronto Raptors 1999-00"
          ],
          [
           0.671,
           "Utah Jazz 1999-00"
          ],
          [
           0.268,
           "Vancouver Grizzlies 1999-00"
          ],
          [
           0.354,
           "Washington Wizards 1999-00"
          ],
          [
           0.305,
           "Atlanta Hawks 2000-01"
          ],
          [
           0.439,
           "Boston Celtics 2000-01"
          ],
          [
           0.561,
           "Charlotte Hornets 2000-01"
          ],
          [
           0.183,
           "Chicago Bulls 2000-01"
          ],
          [
           0.366,
           "Cleveland Cavaliers 2000-01"
          ],
          [
           0.646,
           "Dallas Mavericks 2000-01"
          ],
          [
           0.488,
           "Denver Nuggets 2000-01"
          ],
          [
           0.39,
           "Detroit Pistons 2000-01"
          ],
          [
           0.207,
           "Golden State Warriors 2000-01"
          ],
          [
           0.549,
           "Houston Rockets 2000-01"
          ],
          [
           0.5,
           "Indiana Pacers 2000-01"
          ],
          [
           0.378,
           "Los Angeles Clippers 2000-01"
          ],
          [
           0.683,
           "Los Angeles Lakers 2000-01"
          ],
          [
           0.61,
           "Miami Heat 2000-01"
          ],
          [
           0.634,
           "Milwaukee Bucks 2000-01"
          ],
          [
           0.573,
           "Minnesota Timberwolves 2000-01"
          ],
          [
           0.317,
           "New Jersey Nets 2000-01"
          ],
          [
           0.585,
           "New York Knicks 2000-01"
          ],
          [
           0.524,
           "Orlando Magic 2000-01"
          ],
          [
           0.683,
           "Philadelphia 76ers 2000-01"
          ],
          [
           0.622,
           "Phoenix Suns 2000-01"
          ],
          [
           0.61,
           "Portland Trail Blazers 2000-01"
          ],
          [
           0.671,
           "Sacramento Kings 2000-01"
          ],
          [
           0.707,
           "San Antonio Spurs 2000-01"
          ],
          [
           0.537,
           "Seattle SuperSonics 2000-01"
          ],
          [
           0.573,
           "Toronto Raptors 2000-01"
          ],
          [
           0.646,
           "Utah Jazz 2000-01"
          ],
          [
           0.28,
           "Vancouver Grizzlies 2000-01"
          ],
          [
           0.232,
           "Washington Wizards 2000-01"
          ],
          [
           0.402,
           "Atlanta Hawks 2001-02"
          ],
          [
           0.598,
           "Boston Celtics 2001-02"
          ],
          [
           0.537,
           "Charlotte Hornets 2001-02"
          ],
          [
           0.256,
           "Chicago Bulls 2001-02"
          ],
          [
           0.354,
           "Cleveland Cavaliers 2001-02"
          ],
          [
           0.695,
           "Dallas Mavericks 2001-02"
          ],
          [
           0.329,
           "Denver Nuggets 2001-02"
          ],
          [
           0.61,
           "Detroit Pistons 2001-02"
          ],
          [
           0.256,
           "Golden State Warriors 2001-02"
          ],
          [
           0.341,
           "Houston Rockets 2001-02"
          ],
          [
           0.512,
           "Indiana Pacers 2001-02"
          ],
          [
           0.476,
           "Los Angeles Clippers 2001-02"
          ],
          [
           0.707,
           "Los Angeles Lakers 2001-02"
          ],
          [
           0.28,
           "Memphis Grizzlies 2001-02"
          ],
          [
           0.439,
           "Miami Heat 2001-02"
          ],
          [
           0.5,
           "Milwaukee Bucks 2001-02"
          ],
          [
           0.61,
           "Minnesota Timberwolves 2001-02"
          ],
          [
           0.634,
           "New Jersey Nets 2001-02"
          ],
          [
           0.366,
           "New York Knicks 2001-02"
          ],
          [
           0.537,
           "Orlando Magic 2001-02"
          ],
          [
           0.524,
           "Philadelphia 76ers 2001-02"
          ],
          [
           0.439,
           "Phoenix Suns 2001-02"
          ],
          [
           0.598,
           "Portland Trail Blazers 2001-02"
          ],
          [
           0.744,
           "Sacramento Kings 2001-02"
          ],
          [
           0.707,
           "San Antonio Spurs 2001-02"
          ],
          [
           0.549,
           "Seattle SuperSonics 2001-02"
          ],
          [
           0.512,
           "Toronto Raptors 2001-02"
          ],
          [
           0.537,
           "Utah Jazz 2001-02"
          ],
          [
           0.451,
           "Washington Wizards 2001-02"
          ],
          [
           0.427,
           "Atlanta Hawks 2002-03"
          ],
          [
           0.537,
           "Boston Celtics 2002-03"
          ],
          [
           0.366,
           "Chicago Bulls 2002-03"
          ],
          [
           0.207,
           "Cleveland Cavaliers 2002-03"
          ],
          [
           0.732,
           "Dallas Mavericks 2002-03"
          ],
          [
           0.207,
           "Denver Nuggets 2002-03"
          ],
          [
           0.61,
           "Detroit Pistons 2002-03"
          ],
          [
           0.463,
           "Golden State Warriors 2002-03"
          ],
          [
           0.524,
           "Houston Rockets 2002-03"
          ],
          [
           0.585,
           "Indiana Pacers 2002-03"
          ],
          [
           0.329,
           "Los Angeles Clippers 2002-03"
          ],
          [
           0.61,
           "Los Angeles Lakers 2002-03"
          ],
          [
           0.341,
           "Memphis Grizzlies 2002-03"
          ],
          [
           0.305,
           "Miami Heat 2002-03"
          ],
          [
           0.512,
           "Milwaukee Bucks 2002-03"
          ],
          [
           0.622,
           "Minnesota Timberwolves 2002-03"
          ],
          [
           0.598,
           "New Jersey Nets 2002-03"
          ],
          [
           0.573,
           "New Orleans Hornets 2002-03"
          ],
          [
           0.451,
           "New York Knicks 2002-03"
          ],
          [
           0.512,
           "Orlando Magic 2002-03"
          ],
          [
           0.585,
           "Philadelphia 76ers 2002-03"
          ],
          [
           0.537,
           "Phoenix Suns 2002-03"
          ],
          [
           0.61,
           "Portland Trail Blazers 2002-03"
          ],
          [
           0.72,
           "Sacramento Kings 2002-03"
          ],
          [
           0.732,
           "San Antonio Spurs 2002-03"
          ],
          [
           0.488,
           "Seattle SuperSonics 2002-03"
          ],
          [
           0.293,
           "Toronto Raptors 2002-03"
          ],
          [
           0.573,
           "Utah Jazz 2002-03"
          ],
          [
           0.451,
           "Washington Wizards 2002-03"
          ],
          [
           0.341,
           "Atlanta Hawks 2003-04"
          ],
          [
           0.439,
           "Boston Celtics 2003-04"
          ],
          [
           0.28,
           "Chicago Bulls 2003-04"
          ],
          [
           0.427,
           "Cleveland Cavaliers 2003-04"
          ],
          [
           0.634,
           "Dallas Mavericks 2003-04"
          ],
          [
           0.524,
           "Denver Nuggets 2003-04"
          ],
          [
           0.659,
           "Detroit Pistons 2003-04"
          ],
          [
           0.451,
           "Golden State Warriors 2003-04"
          ],
          [
           0.549,
           "Houston Rockets 2003-04"
          ],
          [
           0.744,
           "Indiana Pacers 2003-04"
          ],
          [
           0.341,
           "Los Angeles Clippers 2003-04"
          ],
          [
           0.683,
           "Los Angeles Lakers 2003-04"
          ],
          [
           0.61,
           "Memphis Grizzlies 2003-04"
          ],
          [
           0.512,
           "Miami Heat 2003-04"
          ],
          [
           0.5,
           "Milwaukee Bucks 2003-04"
          ],
          [
           0.707,
           "Minnesota Timberwolves 2003-04"
          ],
          [
           0.573,
           "New Jersey Nets 2003-04"
          ],
          [
           0.5,
           "New Orleans Hornets 2003-04"
          ],
          [
           0.476,
           "New York Knicks 2003-04"
          ],
          [
           0.256,
           "Orlando Magic 2003-04"
          ],
          [
           0.402,
           "Philadelphia 76ers 2003-04"
          ],
          [
           0.354,
           "Phoenix Suns 2003-04"
          ],
          [
           0.5,
           "Portland Trail Blazers 2003-04"
          ],
          [
           0.671,
           "Sacramento Kings 2003-04"
          ],
          [
           0.695,
           "San Antonio Spurs 2003-04"
          ],
          [
           0.451,
           "Seattle SuperSonics 2003-04"
          ],
          [
           0.402,
           "Toronto Raptors 2003-04"
          ],
          [
           0.512,
           "Utah Jazz 2003-04"
          ],
          [
           0.305,
           "Washington Wizards 2003-04"
          ],
          [
           0.159,
           "Atlanta Hawks 2004-05"
          ],
          [
           0.549,
           "Boston Celtics 2004-05"
          ],
          [
           0.22,
           "Charlotte Bobcats 2004-05"
          ],
          [
           0.573,
           "Chicago Bulls 2004-05"
          ],
          [
           0.512,
           "Cleveland Cavaliers 2004-05"
          ],
          [
           0.707,
           "Dallas Mavericks 2004-05"
          ],
          [
           0.598,
           "Denver Nuggets 2004-05"
          ],
          [
           0.659,
           "Detroit Pistons 2004-05"
          ],
          [
           0.415,
           "Golden State Warriors 2004-05"
          ],
          [
           0.622,
           "Houston Rockets 2004-05"
          ],
          [
           0.537,
           "Indiana Pacers 2004-05"
          ],
          [
           0.451,
           "Los Angeles Clippers 2004-05"
          ],
          [
           0.415,
           "Los Angeles Lakers 2004-05"
          ],
          [
           0.549,
           "Memphis Grizzlies 2004-05"
          ],
          [
           0.72,
           "Miami Heat 2004-05"
          ],
          [
           0.366,
           "Milwaukee Bucks 2004-05"
          ],
          [
           0.537,
           "Minnesota Timberwolves 2004-05"
          ],
          [
           0.512,
           "New Jersey Nets 2004-05"
          ],
          [
           0.22,
           "New Orleans Hornets 2004-05"
          ],
          [
           0.402,
           "New York Knicks 2004-05"
          ],
          [
           0.439,
           "Orlando Magic 2004-05"
          ],
          [
           0.524,
           "Philadelphia 76ers 2004-05"
          ],
          [
           0.756,
           "Phoenix Suns 2004-05"
          ],
          [
           0.329,
           "Portland Trail Blazers 2004-05"
          ],
          [
           0.61,
           "Sacramento Kings 2004-05"
          ],
          [
           0.72,
           "San Antonio Spurs 2004-05"
          ],
          [
           0.634,
           "Seattle SuperSonics 2004-05"
          ],
          [
           0.402,
           "Toronto Raptors 2004-05"
          ],
          [
           0.317,
           "Utah Jazz 2004-05"
          ],
          [
           0.549,
           "Washington Wizards 2004-05"
          ],
          [
           0.317,
           "Atlanta Hawks 2005-06"
          ],
          [
           0.402,
           "Boston Celtics 2005-06"
          ],
          [
           0.317,
           "Charlotte Bobcats 2005-06"
          ],
          [
           0.5,
           "Chicago Bulls 2005-06"
          ],
          [
           0.61,
           "Cleveland Cavaliers 2005-06"
          ],
          [
           0.732,
           "Dallas Mavericks 2005-06"
          ],
          [
           0.537,
           "Denver Nuggets 2005-06"
          ],
          [
           0.78,
           "Detroit Pistons 2005-06"
          ],
          [
           0.415,
           "Golden State Warriors 2005-06"
          ],
          [
           0.415,
           "Houston Rockets 2005-06"
          ],
          [
           0.5,
           "Indiana Pacers 2005-06"
          ],
          [
           0.573,
           "Los Angeles Clippers 2005-06"
          ],
          [
           0.549,
           "Los Angeles Lakers 2005-06"
          ],
          [
           0.598,
           "Memphis Grizzlies 2005-06"
          ],
          [
           0.634,
           "Miami Heat 2005-06"
          ],
          [
           0.488,
           "Milwaukee Bucks 2005-06"
          ],
          [
           0.402,
           "Minnesota Timberwolves 2005-06"
          ],
          [
           0.598,
           "New Jersey Nets 2005-06"
          ],
          [
           0.463,
           "New Orleans/Oklahoma City Hornets 2005-06"
          ],
          [
           0.28,
           "New York Knicks 2005-06"
          ],
          [
           0.439,
           "Orlando Magic 2005-06"
          ],
          [
           0.463,
           "Philadelphia 76ers 2005-06"
          ],
          [
           0.659,
           "Phoenix Suns 2005-06"
          ],
          [
           0.256,
           "Portland Trail Blazers 2005-06"
          ],
          [
           0.537,
           "Sacramento Kings 2005-06"
          ],
          [
           0.768,
           "San Antonio Spurs 2005-06"
          ],
          [
           0.427,
           "Seattle SuperSonics 2005-06"
          ],
          [
           0.329,
           "Toronto Raptors 2005-06"
          ],
          [
           0.5,
           "Utah Jazz 2005-06"
          ],
          [
           0.512,
           "Washington Wizards 2005-06"
          ],
          [
           0.366,
           "Atlanta Hawks 2006-07"
          ],
          [
           0.293,
           "Boston Celtics 2006-07"
          ],
          [
           0.402,
           "Charlotte Bobcats 2006-07"
          ],
          [
           0.598,
           "Chicago Bulls 2006-07"
          ],
          [
           0.61,
           "Cleveland Cavaliers 2006-07"
          ],
          [
           0.817,
           "Dallas Mavericks 2006-07"
          ],
          [
           0.549,
           "Denver Nuggets 2006-07"
          ],
          [
           0.646,
           "Detroit Pistons 2006-07"
          ],
          [
           0.512,
           "Golden State Warriors 2006-07"
          ],
          [
           0.634,
           "Houston Rockets 2006-07"
          ],
          [
           0.427,
           "Indiana Pacers 2006-07"
          ],
          [
           0.488,
           "Los Angeles Clippers 2006-07"
          ],
          [
           0.512,
           "Los Angeles Lakers 2006-07"
          ],
          [
           0.268,
           "Memphis Grizzlies 2006-07"
          ],
          [
           0.537,
           "Miami Heat 2006-07"
          ],
          [
           0.341,
           "Milwaukee Bucks 2006-07"
          ],
          [
           0.39,
           "Minnesota Timberwolves 2006-07"
          ],
          [
           0.5,
           "New Jersey Nets 2006-07"
          ],
          [
           0.476,
           "New Orleans/Oklahoma City Hornets 2006-07"
          ],
          [
           0.402,
           "New York Knicks 2006-07"
          ],
          [
           0.488,
           "Orlando Magic 2006-07"
          ],
          [
           0.427,
           "Philadelphia 76ers 2006-07"
          ],
          [
           0.744,
           "Phoenix Suns 2006-07"
          ],
          [
           0.39,
           "Portland Trail Blazers 2006-07"
          ],
          [
           0.402,
           "Sacramento Kings 2006-07"
          ],
          [
           0.707,
           "San Antonio Spurs 2006-07"
          ],
          [
           0.378,
           "Seattle SuperSonics 2006-07"
          ],
          [
           0.573,
           "Toronto Raptors 2006-07"
          ],
          [
           0.622,
           "Utah Jazz 2006-07"
          ],
          [
           0.5,
           "Washington Wizards 2006-07"
          ],
          [
           0.451,
           "Atlanta Hawks 2007-08"
          ],
          [
           0.805,
           "Boston Celtics 2007-08"
          ],
          [
           0.39,
           "Charlotte Bobcats 2007-08"
          ],
          [
           0.402,
           "Chicago Bulls 2007-08"
          ],
          [
           0.549,
           "Cleveland Cavaliers 2007-08"
          ],
          [
           0.622,
           "Dallas Mavericks 2007-08"
          ],
          [
           0.61,
           "Denver Nuggets 2007-08"
          ],
          [
           0.72,
           "Detroit Pistons 2007-08"
          ],
          [
           0.585,
           "Golden State Warriors 2007-08"
          ],
          [
           0.671,
           "Houston Rockets 2007-08"
          ],
          [
           0.439,
           "Indiana Pacers 2007-08"
          ],
          [
           0.28,
           "Los Angeles Clippers 2007-08"
          ],
          [
           0.695,
           "Los Angeles Lakers 2007-08"
          ],
          [
           0.268,
           "Memphis Grizzlies 2007-08"
          ],
          [
           0.183,
           "Miami Heat 2007-08"
          ],
          [
           0.317,
           "Milwaukee Bucks 2007-08"
          ],
          [
           0.268,
           "Minnesota Timberwolves 2007-08"
          ],
          [
           0.415,
           "New Jersey Nets 2007-08"
          ],
          [
           0.683,
           "New Orleans Hornets 2007-08"
          ],
          [
           0.28,
           "New York Knicks 2007-08"
          ],
          [
           0.634,
           "Orlando Magic 2007-08"
          ],
          [
           0.488,
           "Philadelphia 76ers 2007-08"
          ],
          [
           0.671,
           "Phoenix Suns 2007-08"
          ],
          [
           0.5,
           "Portland Trail Blazers 2007-08"
          ],
          [
           0.463,
           "Sacramento Kings 2007-08"
          ],
          [
           0.683,
           "San Antonio Spurs 2007-08"
          ],
          [
           0.244,
           "Seattle SuperSonics 2007-08"
          ],
          [
           0.5,
           "Toronto Raptors 2007-08"
          ],
          [
           0.659,
           "Utah Jazz 2007-08"
          ],
          [
           0.524,
           "Washington Wizards 2007-08"
          ],
          [
           0.573,
           "Atlanta Hawks 2008-09"
          ],
          [
           0.756,
           "Boston Celtics 2008-09"
          ],
          [
           0.427,
           "Charlotte Bobcats 2008-09"
          ],
          [
           0.5,
           "Chicago Bulls 2008-09"
          ],
          [
           0.805,
           "Cleveland Cavaliers 2008-09"
          ],
          [
           0.61,
           "Dallas Mavericks 2008-09"
          ],
          [
           0.659,
           "Denver Nuggets 2008-09"
          ],
          [
           0.476,
           "Detroit Pistons 2008-09"
          ],
          [
           0.354,
           "Golden State Warriors 2008-09"
          ],
          [
           0.646,
           "Houston Rockets 2008-09"
          ],
          [
           0.439,
           "Indiana Pacers 2008-09"
          ],
          [
           0.232,
           "Los Angeles Clippers 2008-09"
          ],
          [
           0.793,
           "Los Angeles Lakers 2008-09"
          ],
          [
           0.293,
           "Memphis Grizzlies 2008-09"
          ],
          [
           0.524,
           "Miami Heat 2008-09"
          ],
          [
           0.415,
           "Milwaukee Bucks 2008-09"
          ],
          [
           0.293,
           "Minnesota Timberwolves 2008-09"
          ],
          [
           0.415,
           "New Jersey Nets 2008-09"
          ],
          [
           0.598,
           "New Orleans Hornets 2008-09"
          ],
          [
           0.39,
           "New York Knicks 2008-09"
          ],
          [
           0.28,
           "Oklahoma City Thunder 2008-09"
          ],
          [
           0.72,
           "Orlando Magic 2008-09"
          ],
          [
           0.5,
           "Philadelphia 76ers 2008-09"
          ],
          [
           0.561,
           "Phoenix Suns 2008-09"
          ],
          [
           0.659,
           "Portland Trail Blazers 2008-09"
          ],
          [
           0.207,
           "Sacramento Kings 2008-09"
          ],
          [
           0.659,
           "San Antonio Spurs 2008-09"
          ],
          [
           0.402,
           "Toronto Raptors 2008-09"
          ],
          [
           0.585,
           "Utah Jazz 2008-09"
          ],
          [
           0.232,
           "Washington Wizards 2008-09"
          ],
          [
           0.646,
           "Atlanta Hawks 2009-10"
          ],
          [
           0.61,
           "Boston Celtics 2009-10"
          ],
          [
           0.537,
           "Charlotte Bobcats 2009-10"
          ],
          [
           0.5,
           "Chicago Bulls 2009-10"
          ],
          [
           0.744,
           "Cleveland Cavaliers 2009-10"
          ],
          [
           0.671,
           "Dallas Mavericks 2009-10"
          ],
          [
           0.646,
           "Denver Nuggets 2009-10"
          ],
          [
           0.329,
           "Detroit Pistons 2009-10"
          ],
          [
           0.317,
           "Golden State Warriors 2009-10"
          ],
          [
           0.512,
           "Houston Rockets 2009-10"
          ],
          [
           0.39,
           "Indiana Pacers 2009-10"
          ],
          [
           0.354,
           "Los Angeles Clippers 2009-10"
          ],
          [
           0.695,
           "Los Angeles Lakers 2009-10"
          ],
          [
           0.488,
           "Memphis Grizzlies 2009-10"
          ],
          [
           0.573,
           "Miami Heat 2009-10"
          ],
          [
           0.561,
           "Milwaukee Bucks 2009-10"
          ],
          [
           0.183,
           "Minnesota Timberwolves 2009-10"
          ],
          [
           0.146,
           "New Jersey Nets 2009-10"
          ],
          [
           0.451,
           "New Orleans Hornets 2009-10"
          ],
          [
           0.354,
           "New York Knicks 2009-10"
          ],
          [
           0.61,
           "Oklahoma City Thunder 2009-10"
          ],
          [
           0.72,
           "Orlando Magic 2009-10"
          ],
          [
           0.329,
           "Philadelphia 76ers 2009-10"
          ],
          [
           0.659,
           "Phoenix Suns 2009-10"
          ],
          [
           0.61,
           "Portland Trail Blazers 2009-10"
          ],
          [
           0.305,
           "Sacramento Kings 2009-10"
          ],
          [
           0.61,
           "San Antonio Spurs 2009-10"
          ],
          [
           0.488,
           "Toronto Raptors 2009-10"
          ],
          [
           0.646,
           "Utah Jazz 2009-10"
          ],
          [
           0.317,
           "Washington Wizards 2009-10"
          ],
          [
           0.537,
           "Atlanta Hawks 2010-11"
          ],
          [
           0.683,
           "Boston Celtics 2010-11"
          ],
          [
           0.415,
           "Charlotte Bobcats 2010-11"
          ],
          [
           0.756,
           "Chicago Bulls 2010-11"
          ],
          [
           0.232,
           "Cleveland Cavaliers 2010-11"
          ],
          [
           0.695,
           "Dallas Mavericks 2010-11"
          ],
          [
           0.61,
           "Denver Nuggets 2010-11"
          ],
          [
           0.366,
           "Detroit Pistons 2010-11"
          ],
          [
           0.439,
           "Golden State Warriors 2010-11"
          ],
          [
           0.524,
           "Houston Rockets 2010-11"
          ],
          [
           0.451,
           "Indiana Pacers 2010-11"
          ],
          [
           0.39,
           "Los Angeles Clippers 2010-11"
          ],
          [
           0.695,
           "Los Angeles Lakers 2010-11"
          ],
          [
           0.561,
           "Memphis Grizzlies 2010-11"
          ],
          [
           0.707,
           "Miami Heat 2010-11"
          ],
          [
           0.427,
           "Milwaukee Bucks 2010-11"
          ],
          [
           0.207,
           "Minnesota Timberwolves 2010-11"
          ],
          [
           0.293,
           "New Jersey Nets 2010-11"
          ],
          [
           0.561,
           "New Orleans Hornets 2010-11"
          ],
          [
           0.512,
           "New York Knicks 2010-11"
          ],
          [
           0.671,
           "Oklahoma City Thunder 2010-11"
          ],
          [
           0.634,
           "Orlando Magic 2010-11"
          ],
          [
           0.5,
           "Philadelphia 76ers 2010-11"
          ],
          [
           0.488,
           "Phoenix Suns 2010-11"
          ],
          [
           0.585,
           "Portland Trail Blazers 2010-11"
          ],
          [
           0.293,
           "Sacramento Kings 2010-11"
          ],
          [
           0.744,
           "San Antonio Spurs 2010-11"
          ],
          [
           0.268,
           "Toronto Raptors 2010-11"
          ],
          [
           0.476,
           "Utah Jazz 2010-11"
          ],
          [
           0.28,
           "Washington Wizards 2010-11"
          ],
          [
           0.606,
           "Atlanta Hawks 2011-12"
          ],
          [
           0.591,
           "Boston Celtics 2011-12"
          ],
          [
           0.106,
           "Charlotte Bobcats 2011-12"
          ],
          [
           0.758,
           "Chicago Bulls 2011-12"
          ],
          [
           0.318,
           "Cleveland Cavaliers 2011-12"
          ],
          [
           0.545,
           "Dallas Mavericks 2011-12"
          ],
          [
           0.576,
           "Denver Nuggets 2011-12"
          ],
          [
           0.379,
           "Detroit Pistons 2011-12"
          ],
          [
           0.348,
           "Golden State Warriors 2011-12"
          ],
          [
           0.515,
           "Houston Rockets 2011-12"
          ],
          [
           0.636,
           "Indiana Pacers 2011-12"
          ],
          [
           0.606,
           "Los Angeles Clippers 2011-12"
          ],
          [
           0.621,
           "Los Angeles Lakers 2011-12"
          ],
          [
           0.621,
           "Memphis Grizzlies 2011-12"
          ],
          [
           0.697,
           "Miami Heat 2011-12"
          ],
          [
           0.47,
           "Milwaukee Bucks 2011-12"
          ],
          [
           0.394,
           "Minnesota Timberwolves 2011-12"
          ],
          [
           0.333,
           "New Jersey Nets 2011-12"
          ],
          [
           0.318,
           "New Orleans Hornets 2011-12"
          ],
          [
           0.545,
           "New York Knicks 2011-12"
          ],
          [
           0.712,
           "Oklahoma City Thunder 2011-12"
          ],
          [
           0.561,
           "Orlando Magic 2011-12"
          ],
          [
           0.53,
           "Philadelphia 76ers 2011-12"
          ],
          [
           0.5,
           "Phoenix Suns 2011-12"
          ],
          [
           0.424,
           "Portland Trail Blazers 2011-12"
          ],
          [
           0.333,
           "Sacramento Kings 2011-12"
          ],
          [
           0.758,
           "San Antonio Spurs 2011-12"
          ],
          [
           0.348,
           "Toronto Raptors 2011-12"
          ],
          [
           0.545,
           "Utah Jazz 2011-12"
          ],
          [
           0.303,
           "Washington Wizards 2011-12"
          ],
          [
           0.537,
           "Atlanta Hawks 2012-13"
          ],
          [
           0.506,
           "Boston Celtics 2012-13"
          ],
          [
           0.598,
           "Brooklyn Nets 2012-13"
          ],
          [
           0.256,
           "Charlotte Bobcats 2012-13"
          ],
          [
           0.549,
           "Chicago Bulls 2012-13"
          ],
          [
           0.293,
           "Cleveland Cavaliers 2012-13"
          ],
          [
           0.5,
           "Dallas Mavericks 2012-13"
          ],
          [
           0.695,
           "Denver Nuggets 2012-13"
          ],
          [
           0.354,
           "Detroit Pistons 2012-13"
          ],
          [
           0.573,
           "Golden State Warriors 2012-13"
          ],
          [
           0.549,
           "Houston Rockets 2012-13"
          ],
          [
           0.605,
           "Indiana Pacers 2012-13"
          ],
          [
           0.683,
           "Los Angeles Clippers 2012-13"
          ],
          [
           0.549,
           "Los Angeles Lakers 2012-13"
          ],
          [
           0.683,
           "Memphis Grizzlies 2012-13"
          ],
          [
           0.805,
           "Miami Heat 2012-13"
          ],
          [
           0.463,
           "Milwaukee Bucks 2012-13"
          ],
          [
           0.378,
           "Minnesota Timberwolves 2012-13"
          ],
          [
           0.329,
           "New Orleans Hornets 2012-13"
          ],
          [
           0.659,
           "New York Knicks 2012-13"
          ],
          [
           0.732,
           "Oklahoma City Thunder 2012-13"
          ],
          [
           0.244,
           "Orlando Magic 2012-13"
          ],
          [
           0.415,
           "Philadelphia 76ers 2012-13"
          ],
          [
           0.305,
           "Phoenix Suns 2012-13"
          ],
          [
           0.402,
           "Portland Trail Blazers 2012-13"
          ],
          [
           0.341,
           "Sacramento Kings 2012-13"
          ],
          [
           0.707,
           "San Antonio Spurs 2012-13"
          ],
          [
           0.415,
           "Toronto Raptors 2012-13"
          ],
          [
           0.524,
           "Utah Jazz 2012-13"
          ],
          [
           0.354,
           "Washington Wizards 2012-13"
          ],
          [
           0.463,
           "Atlanta Hawks 2013-14"
          ],
          [
           0.305,
           "Boston Celtics 2013-14"
          ],
          [
           0.537,
           "Brooklyn Nets 2013-14"
          ],
          [
           0.524,
           "Charlotte Bobcats 2013-14"
          ],
          [
           0.585,
           "Chicago Bulls 2013-14"
          ],
          [
           0.402,
           "Cleveland Cavaliers 2013-14"
          ],
          [
           0.598,
           "Dallas Mavericks 2013-14"
          ],
          [
           0.439,
           "Denver Nuggets 2013-14"
          ],
          [
           0.354,
           "Detroit Pistons 2013-14"
          ],
          [
           0.622,
           "Golden State Warriors 2013-14"
          ],
          [
           0.659,
           "Houston Rockets 2013-14"
          ],
          [
           0.683,
           "Indiana Pacers 2013-14"
          ],
          [
           0.695,
           "Los Angeles Clippers 2013-14"
          ],
          [
           0.329,
           "Los Angeles Lakers 2013-14"
          ],
          [
           0.61,
           "Memphis Grizzlies 2013-14"
          ],
          [
           0.659,
           "Miami Heat 2013-14"
          ],
          [
           0.183,
           "Milwaukee Bucks 2013-14"
          ],
          [
           0.488,
           "Minnesota Timberwolves 2013-14"
          ],
          [
           0.415,
           "New Orleans Pelicans 2013-14"
          ],
          [
           0.451,
           "New York Knicks 2013-14"
          ],
          [
           0.72,
           "Oklahoma City Thunder 2013-14"
          ],
          [
           0.28,
           "Orlando Magic 2013-14"
          ],
          [
           0.232,
           "Philadelphia 76ers 2013-14"
          ],
          [
           0.585,
           "Phoenix Suns 2013-14"
          ],
          [
           0.659,
           "Portland Trail Blazers 2013-14"
          ],
          [
           0.341,
           "Sacramento Kings 2013-14"
          ],
          [
           0.756,
           "San Antonio Spurs 2013-14"
          ],
          [
           0.585,
           "Toronto Raptors 2013-14"
          ],
          [
           0.305,
           "Utah Jazz 2013-14"
          ],
          [
           0.537,
           "Washington Wizards 2013-14"
          ],
          [
           0.732,
           "Atlanta Hawks 2014-15"
          ],
          [
           0.488,
           "Boston Celtics 2014-15"
          ],
          [
           0.463,
           "Brooklyn Nets 2014-15"
          ],
          [
           0.402,
           "Charlotte Hornets 2014-15"
          ],
          [
           0.61,
           "Chicago Bulls 2014-15"
          ],
          [
           0.646,
           "Cleveland Cavaliers 2014-15"
          ],
          [
           0.61,
           "Dallas Mavericks 2014-15"
          ],
          [
           0.366,
           "Denver Nuggets 2014-15"
          ],
          [
           0.39,
           "Detroit Pistons 2014-15"
          ],
          [
           0.817,
           "Golden State Warriors 2014-15"
          ],
          [
           0.683,
           "Houston Rockets 2014-15"
          ],
          [
           0.463,
           "Indiana Pacers 2014-15"
          ],
          [
           0.683,
           "Los Angeles Clippers 2014-15"
          ],
          [
           0.256,
           "Los Angeles Lakers 2014-15"
          ],
          [
           0.671,
           "Memphis Grizzlies 2014-15"
          ],
          [
           0.451,
           "Miami Heat 2014-15"
          ],
          [
           0.5,
           "Milwaukee Bucks 2014-15"
          ],
          [
           0.195,
           "Minnesota Timberwolves 2014-15"
          ],
          [
           0.549,
           "New Orleans Pelicans 2014-15"
          ],
          [
           0.207,
           "New York Knicks 2014-15"
          ],
          [
           0.549,
           "Oklahoma City Thunder 2014-15"
          ],
          [
           0.305,
           "Orlando Magic 2014-15"
          ],
          [
           0.22,
           "Philadelphia 76ers 2014-15"
          ],
          [
           0.476,
           "Phoenix Suns 2014-15"
          ],
          [
           0.622,
           "Portland Trail Blazers 2014-15"
          ],
          [
           0.354,
           "Sacramento Kings 2014-15"
          ],
          [
           0.671,
           "San Antonio Spurs 2014-15"
          ],
          [
           0.598,
           "Toronto Raptors 2014-15"
          ],
          [
           0.463,
           "Utah Jazz 2014-15"
          ],
          [
           0.561,
           "Washington Wizards 2014-15"
          ],
          [
           0.585,
           "Atlanta Hawks 2015-16"
          ],
          [
           0.585,
           "Boston Celtics 2015-16"
          ],
          [
           0.256,
           "Brooklyn Nets 2015-16"
          ],
          [
           0.585,
           "Charlotte Hornets 2015-16"
          ],
          [
           0.512,
           "Chicago Bulls 2015-16"
          ],
          [
           0.695,
           "Cleveland Cavaliers 2015-16"
          ],
          [
           0.512,
           "Dallas Mavericks 2015-16"
          ],
          [
           0.402,
           "Denver Nuggets 2015-16"
          ],
          [
           0.537,
           "Detroit Pistons 2015-16"
          ],
          [
           0.89,
           "Golden State Warriors 2015-16"
          ],
          [
           0.5,
           "Houston Rockets 2015-16"
          ],
          [
           0.549,
           "Indiana Pacers 2015-16"
          ],
          [
           0.646,
           "LA Clippers 2015-16"
          ],
          [
           0.207,
           "Los Angeles Lakers 2015-16"
          ],
          [
           0.512,
           "Memphis Grizzlies 2015-16"
          ],
          [
           0.585,
           "Miami Heat 2015-16"
          ],
          [
           0.402,
           "Milwaukee Bucks 2015-16"
          ],
          [
           0.354,
           "Minnesota Timberwolves 2015-16"
          ],
          [
           0.366,
           "New Orleans Pelicans 2015-16"
          ],
          [
           0.39,
           "New York Knicks 2015-16"
          ],
          [
           0.671,
           "Oklahoma City Thunder 2015-16"
          ],
          [
           0.427,
           "Orlando Magic 2015-16"
          ],
          [
           0.122,
           "Philadelphia 76ers 2015-16"
          ],
          [
           0.28,
           "Phoenix Suns 2015-16"
          ],
          [
           0.537,
           "Portland Trail Blazers 2015-16"
          ],
          [
           0.402,
           "Sacramento Kings 2015-16"
          ],
          [
           0.817,
           "San Antonio Spurs 2015-16"
          ],
          [
           0.683,
           "Toronto Raptors 2015-16"
          ],
          [
           0.488,
           "Utah Jazz 2015-16"
          ],
          [
           0.5,
           "Washington Wizards 2015-16"
          ],
          [
           0.524,
           "Atlanta Hawks 2016-17"
          ],
          [
           0.646,
           "Boston Celtics 2016-17"
          ],
          [
           0.244,
           "Brooklyn Nets 2016-17"
          ],
          [
           0.439,
           "Charlotte Hornets 2016-17"
          ],
          [
           0.5,
           "Chicago Bulls 2016-17"
          ],
          [
           0.622,
           "Cleveland Cavaliers 2016-17"
          ],
          [
           0.402,
           "Dallas Mavericks 2016-17"
          ],
          [
           0.488,
           "Denver Nuggets 2016-17"
          ],
          [
           0.451,
           "Detroit Pistons 2016-17"
          ],
          [
           0.817,
           "Golden State Warriors 2016-17"
          ],
          [
           0.671,
           "Houston Rockets 2016-17"
          ],
          [
           0.512,
           "Indiana Pacers 2016-17"
          ],
          [
           0.622,
           "LA Clippers 2016-17"
          ],
          [
           0.317,
           "Los Angeles Lakers 2016-17"
          ],
          [
           0.524,
           "Memphis Grizzlies 2016-17"
          ],
          [
           0.5,
           "Miami Heat 2016-17"
          ],
          [
           0.512,
           "Milwaukee Bucks 2016-17"
          ],
          [
           0.378,
           "Minnesota Timberwolves 2016-17"
          ],
          [
           0.415,
           "New Orleans Pelicans 2016-17"
          ],
          [
           0.378,
           "New York Knicks 2016-17"
          ],
          [
           0.573,
           "Oklahoma City Thunder 2016-17"
          ],
          [
           0.354,
           "Orlando Magic 2016-17"
          ],
          [
           0.341,
           "Philadelphia 76ers 2016-17"
          ],
          [
           0.293,
           "Phoenix Suns 2016-17"
          ],
          [
           0.5,
           "Portland Trail Blazers 2016-17"
          ],
          [
           0.39,
           "Sacramento Kings 2016-17"
          ],
          [
           0.744,
           "San Antonio Spurs 2016-17"
          ],
          [
           0.622,
           "Toronto Raptors 2016-17"
          ],
          [
           0.622,
           "Utah Jazz 2016-17"
          ],
          [
           0.598,
           "Washington Wizards 2016-17"
          ],
          [
           0.293,
           "Atlanta Hawks 2017-18"
          ],
          [
           0.671,
           "Boston Celtics 2017-18"
          ],
          [
           0.341,
           "Brooklyn Nets 2017-18"
          ],
          [
           0.439,
           "Charlotte Hornets 2017-18"
          ],
          [
           0.329,
           "Chicago Bulls 2017-18"
          ],
          [
           0.61,
           "Cleveland Cavaliers 2017-18"
          ],
          [
           0.293,
           "Dallas Mavericks 2017-18"
          ],
          [
           0.561,
           "Denver Nuggets 2017-18"
          ],
          [
           0.476,
           "Detroit Pistons 2017-18"
          ],
          [
           0.707,
           "Golden State Warriors 2017-18"
          ],
          [
           0.793,
           "Houston Rockets 2017-18"
          ],
          [
           0.585,
           "Indiana Pacers 2017-18"
          ],
          [
           0.512,
           "LA Clippers 2017-18"
          ],
          [
           0.427,
           "Los Angeles Lakers 2017-18"
          ],
          [
           0.268,
           "Memphis Grizzlies 2017-18"
          ],
          [
           0.537,
           "Miami Heat 2017-18"
          ],
          [
           0.537,
           "Milwaukee Bucks 2017-18"
          ],
          [
           0.573,
           "Minnesota Timberwolves 2017-18"
          ],
          [
           0.585,
           "New Orleans Pelicans 2017-18"
          ],
          [
           0.354,
           "New York Knicks 2017-18"
          ],
          [
           0.585,
           "Oklahoma City Thunder 2017-18"
          ],
          [
           0.305,
           "Orlando Magic 2017-18"
          ],
          [
           0.634,
           "Philadelphia 76ers 2017-18"
          ],
          [
           0.256,
           "Phoenix Suns 2017-18"
          ],
          [
           0.598,
           "Portland Trail Blazers 2017-18"
          ],
          [
           0.329,
           "Sacramento Kings 2017-18"
          ],
          [
           0.573,
           "San Antonio Spurs 2017-18"
          ],
          [
           0.72,
           "Toronto Raptors 2017-18"
          ],
          [
           0.585,
           "Utah Jazz 2017-18"
          ],
          [
           0.524,
           "Washington Wizards 2017-18"
          ],
          [
           0.354,
           "Atlanta Hawks 2018-19"
          ],
          [
           0.598,
           "Boston Celtics 2018-19"
          ],
          [
           0.512,
           "Brooklyn Nets 2018-19"
          ],
          [
           0.476,
           "Charlotte Hornets 2018-19"
          ],
          [
           0.268,
           "Chicago Bulls 2018-19"
          ],
          [
           0.232,
           "Cleveland Cavaliers 2018-19"
          ],
          [
           0.402,
           "Dallas Mavericks 2018-19"
          ],
          [
           0.659,
           "Denver Nuggets 2018-19"
          ],
          [
           0.5,
           "Detroit Pistons 2018-19"
          ],
          [
           0.695,
           "Golden State Warriors 2018-19"
          ],
          [
           0.646,
           "Houston Rockets 2018-19"
          ],
          [
           0.585,
           "Indiana Pacers 2018-19"
          ],
          [
           0.585,
           "LA Clippers 2018-19"
          ],
          [
           0.451,
           "Los Angeles Lakers 2018-19"
          ],
          [
           0.402,
           "Memphis Grizzlies 2018-19"
          ],
          [
           0.476,
           "Miami Heat 2018-19"
          ],
          [
           0.732,
           "Milwaukee Bucks 2018-19"
          ],
          [
           0.439,
           "Minnesota Timberwolves 2018-19"
          ],
          [
           0.402,
           "New Orleans Pelicans 2018-19"
          ],
          [
           0.207,
           "New York Knicks 2018-19"
          ],
          [
           0.598,
           "Oklahoma City Thunder 2018-19"
          ],
          [
           0.512,
           "Orlando Magic 2018-19"
          ],
          [
           0.622,
           "Philadelphia 76ers 2018-19"
          ],
          [
           0.232,
           "Phoenix Suns 2018-19"
          ],
          [
           0.646,
           "Portland Trail Blazers 2018-19"
          ],
          [
           0.476,
           "Sacramento Kings 2018-19"
          ],
          [
           0.585,
           "San Antonio Spurs 2018-19"
          ],
          [
           0.707,
           "Toronto Raptors 2018-19"
          ],
          [
           0.61,
           "Utah Jazz 2018-19"
          ],
          [
           0.39,
           "Washington Wizards 2018-19"
          ],
          [
           0.299,
           "Atlanta Hawks 2019-20"
          ],
          [
           0.667,
           "Boston Celtics 2019-20"
          ],
          [
           0.486,
           "Brooklyn Nets 2019-20"
          ],
          [
           0.354,
           "Charlotte Hornets 2019-20"
          ],
          [
           0.338,
           "Chicago Bulls 2019-20"
          ],
          [
           0.292,
           "Cleveland Cavaliers 2019-20"
          ],
          [
           0.573,
           "Dallas Mavericks 2019-20"
          ],
          [
           0.63,
           "Denver Nuggets 2019-20"
          ],
          [
           0.303,
           "Detroit Pistons 2019-20"
          ],
          [
           0.231,
           "Golden State Warriors 2019-20"
          ],
          [
           0.611,
           "Houston Rockets 2019-20"
          ],
          [
           0.616,
           "Indiana Pacers 2019-20"
          ],
          [
           0.681,
           "LA Clippers 2019-20"
          ],
          [
           0.732,
           "Los Angeles Lakers 2019-20"
          ],
          [
           0.466,
           "Memphis Grizzlies 2019-20"
          ],
          [
           0.603,
           "Miami Heat 2019-20"
          ],
          [
           0.767,
           "Milwaukee Bucks 2019-20"
          ],
          [
           0.297,
           "Minnesota Timberwolves 2019-20"
          ],
          [
           0.417,
           "New Orleans Pelicans 2019-20"
          ],
          [
           0.318,
           "New York Knicks 2019-20"
          ],
          [
           0.611,
           "Oklahoma City Thunder 2019-20"
          ],
          [
           0.452,
           "Orlando Magic 2019-20"
          ],
          [
           0.589,
           "Philadelphia 76ers 2019-20"
          ],
          [
           0.466,
           "Phoenix Suns 2019-20"
          ],
          [
           0.473,
           "Portland Trail Blazers 2019-20"
          ],
          [
           0.431,
           "Sacramento Kings 2019-20"
          ],
          [
           0.451,
           "San Antonio Spurs 2019-20"
          ],
          [
           0.736,
           "Toronto Raptors 2019-20"
          ],
          [
           0.611,
           "Utah Jazz 2019-20"
          ],
          [
           0.347,
           "Washington Wizards 2019-20"
          ]
         ],
         "hovertemplate": "PC1=%{x}<br>PC2=%{y}<br>WIN%=%{customdata[0]}<br>TEAM=%{customdata[1]}<br>3PM=%{marker.color}<extra></extra>",
         "legendgroup": "",
         "marker": {
          "color": [
           3.1,
           5.1,
           4.1,
           4.1,
           4.2,
           6.3,
           5.7,
           5.4,
           4.2,
           7.1,
           7.1,
           5.2,
           4.2,
           5.4,
           4.8,
           3,
           5.8,
           4.3,
           3.6,
           2.5,
           5.6,
           5,
           6.5,
           4,
           6.7,
           5.2,
           4,
           4,
           4.1,
           4.1,
           7.2,
           4.1,
           4,
           2.7,
           6.3,
           6.2,
           4.7,
           3.4,
           6.1,
           4.8,
           4.4,
           5.4,
           5.8,
           6.9,
           3.9,
           4.4,
           4.8,
           6,
           3.2,
           4,
           4.5,
           5.8,
           5.4,
           5.7,
           5.2,
           4,
           4,
           3.4,
           5.2,
           8.5,
           4.2,
           3.7,
           4.7,
           7.6,
           5.2,
           6.9,
           3.9,
           6,
           4.9,
           5,
           6.2,
           4.1,
           3.8,
           7.2,
           4.8,
           4.9,
           5.8,
           7.6,
           2.6,
           4.4,
           5.7,
           5.2,
           5.3,
           6,
           4.7,
           3.4,
           3.7,
           4.9,
           8.8,
           4.3,
           3.6,
           7.8,
           2.8,
           6.5,
           5.2,
           5.4,
           4.6,
           4.8,
           5.9,
           5.7,
           4.2,
           7.1,
           3.6,
           4.2,
           4.9,
           7.4,
           6.9,
           3,
           4.8,
           4.6,
           6,
           5.5,
           5.6,
           5,
           2.7,
           3.1,
           5.1,
           6.7,
           5.2,
           3,
           6.2,
           4,
           4.1,
           5.2,
           6.3,
           5.5,
           4,
           4.5,
           5.5,
           5.9,
           4.9,
           4,
           4.6,
           6.5,
           5,
           5.2,
           4.1,
           5.1,
           4.6,
           7.3,
           5,
           8.8,
           5.6,
           3.1,
           5.3,
           3.7,
           5.3,
           3.9,
           6.2,
           3.7,
           5.6,
           3.9,
           4.4,
           7.6,
           6.7,
           6.6,
           2.8,
           7.9,
           6.5,
           5.8,
           4,
           4.8,
           5.3,
           5.1,
           5.4,
           3.9,
           6.2,
           9.7,
           5.1,
           6.4,
           6.2,
           8.1,
           7.9,
           3,
           6.3,
           5.2,
           5.7,
           5.2,
           6.8,
           6.1,
           5.1,
           4.3,
           6.8,
           7.6,
           5.7,
           6.5,
           3.5,
           6.7,
           7.2,
           6.1,
           6.2,
           3.8,
           5.8,
           3.7,
           3.9,
           3.6,
           4.6,
           10.2,
           4.4,
           6,
           6.4,
           7.4,
           7.4,
           3.8,
           6.1,
           4.2,
           5.7,
           5.6,
           5.9,
           6,
           6.5,
           5.9,
           5.5,
           8.5,
           8.6,
           5.9,
           3.8,
           7.4,
           6.1,
           6.4,
           6.4,
           4.7,
           7.4,
           5.5,
           5.8,
           4.2,
           3.5,
           9.6,
           5.2,
           6.5,
           7.3,
           6.4,
           6.5,
           4.3,
           6.8,
           4.7,
           7.3,
           6.5,
           5.8,
           6.7,
           6,
           6.9,
           5.9,
           9.3,
           7.1,
           9.2,
           4.3,
           8.1,
           7.6,
           6,
           5.5,
           5.4,
           6.1,
           7.7,
           6,
           9.8,
           3.7,
           8.5,
           6.6,
           6.2,
           7.2,
           3.8,
           7,
           5,
           7,
           7.3,
           6.6,
           6,
           6,
           8,
           7,
           6.7,
           4.6,
           6.7,
           7.6,
           8,
           6.5,
           6.7,
           4.9,
           7.1,
           6.2,
           6.6,
           8,
           6.8,
           10,
           4,
           10,
           4.2,
           6.7,
           7.3,
           7.1,
           7.6,
           5.8,
           4.8,
           4.8,
           6.4,
           6.1,
           5.6,
           4.3,
           7.3,
           6.8,
           6.6,
           4.6,
           7.7,
           7.9,
           8,
           5.9,
           6.5,
           4.2,
           6,
           7.9,
           4.9,
           4.6,
           7,
           9.1,
           5.1,
           10.3,
           5.8,
           8.9,
           6,
           5.9,
           6.8,
           6.3,
           5.4,
           5.3,
           6.1,
           5,
           4.8,
           6.2,
           6.2,
           7.9,
           8.1,
           5.8,
           8.4,
           8.3,
           7.1,
           6.3,
           6.4,
           3.8,
           6.7,
           5.9,
           7.2,
           5.6,
           5.4,
           9.3,
           5.9,
           9.4,
           5.4,
           8.5,
           6.3,
           5.2,
           8.4,
           4.2,
           5.3,
           4.8,
           7.5,
           5.5,
           4,
           6.3,
           6.7,
           7.5,
           6.6,
           4.8,
           7.9,
           7.2,
           5.9,
           7.8,
           5.5,
           4.2,
           5.6,
           6.6,
           7.2,
           7.7,
           3.9,
           7.8,
           7.2,
           10.2,
           5.3,
           6.7,
           7.2,
           6.2,
           8.4,
           5.5,
           4.1,
           5.2,
           8.6,
           6.1,
           7.7,
           5.7,
           5.4,
           6.7,
           7.4,
           6.4,
           6.3,
           8,
           10.6,
           6.9,
           7.6,
           8.7,
           4.7,
           8.7,
           7.3,
           5.5,
           6.5,
           10.9,
           7.3,
           6.2,
           6.3,
           5.9,
           8.2,
           7.4,
           8.1,
           7,
           6.2,
           6.6,
           9.4,
           7,
           8.6,
           6.3,
           6.2,
           7.1,
           8.8,
           8.6,
           6.2,
           9.4,
           9.5,
           6.7,
           8.5,
           9.4,
           4.9,
           8.1,
           6.7,
           7.3,
           5.9,
           9.3,
           8.1,
           6.9,
           7,
           9.3,
           9.4,
           6,
           8.5,
           8.7,
           6.6,
           7.9,
           10,
           8,
           6.6,
           6.1,
           7.9,
           10.1,
           8.9,
           8,
           8.6,
           10.8,
           11.4,
           7.5,
           10.1,
           6.5,
           5.2,
           6.8,
           6.6,
           5,
           7.1,
           6.8,
           7.7,
           6.8,
           8.4,
           8.5,
           9.8,
           5.6,
           8.3,
           8.9,
           7.4,
           6.1,
           9.9,
           8.7,
           6.5,
           10.6,
           7.9,
           10.7,
           9.8,
           8,
           9,
           13.1,
           10.7,
           8.1,
           9.7,
           7.8,
           6.1,
           6.1,
           5.4,
           5.5,
           8.6,
           7.4,
           8.3,
           7.8,
           9.3,
           9,
           10.5,
           8,
           7,
           8.6,
           8.5,
           8.6,
           8.9,
           12,
           10.7,
           10,
           7.6,
           13,
           10.7,
           10.6,
           7.7,
           12,
           14.4,
           8.6,
           10.3,
           8.9,
           9.4,
           9.9,
           8.8,
           7.3,
           9.4,
           8.6,
           8.4,
           8.5,
           10.1,
           7.5,
           10.4,
           9,
           9.2,
           8.8,
           9.6,
           9.2,
           11.2,
           11.5,
           12.7,
           10,
           11,
           12,
           11.8,
           11.5,
           10.8,
           11.3,
           15.3,
           9,
           9.5,
           10,
           9.2,
           11,
           8.8,
           8,
           10.2,
           8.2,
           10.7,
           10.3,
           11,
           9.3,
           10.3,
           9,
           8.5,
           11.8,
           10.8,
           9.9,
           13,
           12.6,
           12.8,
           11.9,
           9.1,
           10.3,
           12.5,
           11,
           12.1,
           13.3,
           16.1,
           9.5,
           10,
           10.3,
           9.9,
           11.3,
           13.5,
           10.1,
           10.3,
           10,
           11.4,
           11.4,
           10.8,
           9.6,
           11,
           11.3,
           9.9,
           12.4,
           12.1,
           11.3,
           12,
           12.6,
           13.1,
           12.1,
           12.2,
           11.2,
           15.1,
           11,
           12,
           10.4,
           15.6,
           10.2,
           12.4,
           11,
           10.9,
           13.4,
           13.8,
           13.3,
           13.6,
           9.6,
           10.7,
           11.1,
           11.6,
           11.4,
           12.9,
           12.7,
           10.7,
           13.8,
           13.4,
           12
          ],
          "coloraxis": "coloraxis",
          "symbol": "circle"
         },
         "mode": "markers",
         "name": "",
         "orientation": "v",
         "showlegend": false,
         "type": "scatter",
         "x": [
          -0.9728225824125418,
          -0.6427353720582397,
          -0.2259798551493192,
          -1.7105358044830414,
          -0.7572290594486615,
          -0.11548012176341352,
          -0.5051592305403111,
          -0.30680391871381313,
          -1.1086571944560586,
          -0.4722872456970644,
          0.14000876617045763,
          -1.1581143247849832,
          -0.047052712699196884,
          -0.2692680928256268,
          -0.2977060539464165,
          -0.06608292406002655,
          -0.6184116188383353,
          -0.5659196630949942,
          -0.7041086640827887,
          -0.862556532805749,
          -0.1929175158651701,
          -0.17013184042776688,
          -0.051153850672965656,
          -0.30605748782867337,
          -0.29754730117734884,
          -0.4723122318574501,
          -0.2715351996912479,
          -1.0136542781513314,
          -0.7930636156566996,
          -1.1565354478400451,
          -0.7635541558532714,
          -0.6422170439070262,
          -1.2905454199937048,
          -1.1293057107719293,
          -0.07583988945485386,
          -0.45800760470631374,
          -0.9056061603319006,
          -1.3323434210261984,
          -0.4416300660308975,
          -0.7067528876909064,
          -0.9562317065360505,
          -0.22129019239695139,
          -0.7197941033040703,
          -0.037247753370817586,
          -0.21915191354657534,
          -1.1358780178342958,
          -0.7171025411885527,
          -0.626390732849683,
          -0.7201096154212973,
          -0.5949583067856179,
          -0.29824167931813644,
          -0.13211441837473703,
          -0.17741822753038183,
          -0.5138902048935514,
          -0.3045244710103384,
          -0.3426632737255332,
          -0.8838653814593438,
          -1.2205848706935798,
          -0.8222026944391162,
          -0.34760338852290845,
          -0.678534167425533,
          -1.0973239885558963,
          -0.5921715443649083,
          0.26439311416832234,
          -1.0375373404169825,
          -0.35718027256612245,
          -1.1367187972516681,
          -0.9693099625771137,
          -0.5167859616482878,
          -0.6912324876945896,
          0.04834319782582847,
          -1.1172144931777443,
          -0.9203262732684273,
          -0.16478100120765815,
          -0.06181880954940663,
          -0.359833040545712,
          -0.7666686579820782,
          -0.1670773115259041,
          -0.9935543844179662,
          -0.6343001124855718,
          -0.3295340792272018,
          0.21723462336095445,
          -0.3600069082266863,
          -0.1798381849570825,
          -0.815196565001248,
          -0.8051622068934589,
          -0.7173881463196221,
          -0.7968936555193986,
          -0.6468917368879705,
          -0.8786336348698632,
          -1.3359239187555598,
          0.34693353868910315,
          -1.778556419750863,
          -0.58640612706688,
          -0.6637698999222165,
          -0.7613184899479432,
          -0.4887195495426831,
          -0.9818828974953051,
          -0.22471638365115928,
          -0.5081038598014928,
          -1.2870535631289983,
          -0.13343378661549882,
          -0.0914460413366891,
          -0.4987242430415665,
          -0.6360031461955985,
          -0.32639640113514623,
          -0.5045930087062201,
          -0.6763473335220027,
          -0.6654593590671356,
          -0.5029862682522815,
          0.20026494804904874,
          -0.4666449480924027,
          -0.6101046236921913,
          -1.0801797393281911,
          -0.6425425835996237,
          -0.8589304703862451,
          -0.9672794377332756,
          -0.6862268061496783,
          -1.1295915377471795,
          -0.888536687516718,
          0.21517008082213432,
          -0.7232659361413761,
          -0.8003090325466586,
          -0.7362035765784505,
          -0.7372502968835147,
          -0.6137309884816154,
          -1.1336320489061271,
          -0.25739403467889604,
          -0.5582486887842223,
          -0.8336937609574965,
          -0.3584392721167416,
          -0.11559188411948608,
          -0.5078245917239752,
          -0.8628119514974194,
          -0.7328584158078691,
          -0.9973591420057806,
          -1.1725842976118086,
          -0.8540332125070385,
          -0.8093724843973045,
          0.2629886374970656,
          -0.5641946277106952,
          -0.36975173290496105,
          -1.0538024904705514,
          -1.3640101121268051,
          -1.3166884746515195,
          -1.2458289427342526,
          -0.3759026592972676,
          -0.9679145140984023,
          -0.7284771567107173,
          -0.6606163568863584,
          -0.20273396068348498,
          -0.37456868437770463,
          -0.5703644501823903,
          -0.45955371531308636,
          -0.30384399659147204,
          -0.784473559518913,
          -0.6841577147211663,
          -0.5320115132778682,
          -0.6520770241402943,
          0.07544122684636599,
          -0.643236702871358,
          -0.2129985142540391,
          -0.7716792594031199,
          -1.2680502757614804,
          -0.6334125177014698,
          -0.7074854224927286,
          -0.45925616483944437,
          0.5988199843227369,
          -0.8798917948719398,
          0.08666982326601123,
          -0.2698430072520581,
          -0.4949837295927822,
          -0.2875465374149487,
          -1.0877259572617197,
          -0.6637361412880524,
          -0.5982426837420591,
          -0.25549556804193774,
          -0.5059675601562805,
          -0.07342276573665169,
          -0.14788947556108267,
          -0.11281095085892355,
          -0.060037879043988086,
          0.3552635970108633,
          -0.225030031293207,
          -0.5716261013465336,
          -0.34191490360338583,
          -0.05550846085351029,
          0.022385351525388227,
          -0.29978287408759346,
          0.2187629907304329,
          -0.11773670522206828,
          -0.48894838674769603,
          -0.07196151992567658,
          -0.5678579820539341,
          -0.9018961631622076,
          -0.5011615673140024,
          -0.18042161168846158,
          1.1764526316977815,
          -1.0096695109927338,
          0.022510658607925574,
          0.17703712980338793,
          -0.1408827313432081,
          -0.051199705214293956,
          -0.7156258285464134,
          -0.1823727476862729,
          -0.7862732205594761,
          -0.5685438843014352,
          -0.36092910291964264,
          0.010078404595734197,
          -0.136961326807939,
          0.26736603648444596,
          0.12235863639950689,
          0.017177357993492716,
          0.29164430486073395,
          0.14883270516866806,
          -0.474237710726398,
          -0.2678381858502877,
          0.1504786445133081,
          -0.24420454087830368,
          -0.13741649973115075,
          -0.2265796980470913,
          -0.21564096009479897,
          0.09407662305917533,
          -0.35366658880969754,
          -0.5306588537215887,
          -0.5366169617869967,
          -0.454750332857285,
          1.164518885677795,
          -0.6174074581610652,
          -0.0846852085381794,
          0.4494367469201365,
          -0.2073902295247843,
          0.30455399614159717,
          0.04152911925315599,
          -2.8707258753107275e-06,
          -0.25417341906741203,
          0.4059564828795895,
          -0.3071261699976691,
          -0.3284793118573271,
          -0.260219778368218,
          0.2866342388974175,
          0.6414305491970719,
          0.242270875804103,
          0.5792503889678662,
          0.06910477713410111,
          0.24853243419428397,
          -0.4913720264416117,
          0.8089510470334449,
          -0.12129641174762557,
          -0.585910193999669,
          -0.4145081111470095,
          -0.503875860259735,
          -0.2528419798767782,
          0.514736671005287,
          -0.5579927814917345,
          0.570794508869328,
          -0.4047015523449286,
          1.1264549556125132,
          -0.08390569663310937,
          -0.10814719940876234,
          0.27210271729404145,
          -0.4475970984519123,
          0.5540834936271399,
          0.5906695740995334,
          -0.09948014697632909,
          0.04820804679467491,
          0.38096546363072137,
          -0.4295942019327406,
          -0.01450232347738843,
          0.43691653720202167,
          0.3902354929923757,
          0.20951788439973346,
          -0.17268700580225366,
          0.1261768453732025,
          0.15399779901560945,
          0.2872421091744056,
          -0.46079515227393425,
          0.621048825978753,
          -0.6473039231889475,
          0.09052219840700709,
          -0.11448904738834119,
          -0.32985070314726966,
          -0.06809812246463331,
          0.08675018352250341,
          0.2548725070714349,
          -0.48950520524959246,
          0.4194855020344318,
          -0.3537372227004833,
          0.6023271743672698,
          0.16853436054538204,
          -0.35031329151868246,
          0.4543283305692215,
          0.1242136712145077,
          0.2379215132171066,
          -0.4989165955149944,
          0.3233132413356262,
          0.26584588883742816,
          -0.32719500886724934,
          -0.18502310295428925,
          0.580685087560221,
          0.5107154231595398,
          0.3087929293619037,
          -0.6465732231812947,
          0.35737934145439576,
          0.0671244385300612,
          0.010489490050763375,
          -0.2993098331710455,
          0.2825169084322818,
          -0.24679876885436203,
          -0.06718228271338066,
          0.05173074354264508,
          -0.492656032380159,
          -0.8053190743571073,
          0.21413619275078946,
          0.20807629322333926,
          0.00424929115780955,
          0.593744308516781,
          -0.1870350201393155,
          0.7967529794631142,
          0.08176656175759953,
          -0.2505500686197967,
          0.37073231223743297,
          0.32307845403978214,
          0.5371380500616809,
          -0.46675028338670643,
          0.02838561202141559,
          0.31595843435501264,
          -0.42684268733683733,
          0.17566161477680592,
          -0.4552751946343184,
          0.5636712069793122,
          0.58398738102971,
          -0.21382265561273067,
          0.17686622104356456,
          0.44238029789809913,
          -0.13464093844988298,
          -0.2526780685507247,
          0.3263647225810236,
          -0.12635684081650725,
          0.4505289129808644,
          -0.442377104876818,
          -0.3680225518723938,
          -0.45128494918419104,
          -0.06401073289548379,
          0.4359392447713893,
          0.22658155341114658,
          0.2443250604633917,
          0.20005669971207593,
          0.4703444581274585,
          -0.09115808513326287,
          -0.4137120043812748,
          0.6576617566617488,
          -0.33520397151638553,
          -0.043827580817145086,
          -0.6188767943490557,
          0.13408227107216794,
          -0.04067867181413891,
          -1.1468605696020013,
          0.06710521656153935,
          -0.8036997554091375,
          0.02067043711403826,
          0.25833280117124136,
          -0.8440071107465118,
          -0.02609398058268734,
          -0.08936691949269292,
          -0.31756337754449,
          -0.03058353898202032,
          -0.01876696797563661,
          -0.459942567380561,
          0.03869650773488749,
          -0.018610228687952906,
          -0.3457348779645395,
          -0.6251178241833292,
          -0.7196368093148575,
          -0.19007549883460215,
          0.10139272848793889,
          -0.1381249103277765,
          0.09400729480575203,
          0.06577110689276534,
          -0.17261629422262728,
          -0.5196355876575792,
          0.6975705526491348,
          -0.5778693268064696,
          -0.20861054245577945,
          -0.6524402752963208,
          0.3596935186347417,
          0.08837131728053224,
          -0.11969664789967005,
          -0.7368993560524982,
          -0.2807716159496241,
          -0.4460192695006048,
          0.38646120447774246,
          0.3348831948304458,
          -0.41315885318957796,
          0.31713162167685743,
          0.4332112597599503,
          -0.23698525462430955,
          0.42442768120365226,
          0.26527747929647116,
          -0.2924642465993589,
          0.8032409445281198,
          -0.024296673490467605,
          -0.3065618109311817,
          -0.3833268831387898,
          0.36090670134386893,
          0.6088230246615849,
          -0.23842481407235633,
          -0.1460182984400986,
          -0.3924414870884142,
          -0.028045462693820758,
          -0.21142971795860538,
          0.8151446084576986,
          -0.12106775637552616,
          -0.09924334747602184,
          -0.28770599172097494,
          0.4415037461102856,
          -0.3256956985744246,
          0.08074546078388861,
          0.12365630387308352,
          -0.20254183510617033,
          -0.16657576281553083,
          0.6915809811427692,
          0.11206166664687063,
          -0.25389450967347676,
          0.6103307329651296,
          0.4762385982403875,
          0.07921037420359885,
          0.7888865556539708,
          0.31663123630567486,
          -0.0017517776229967774,
          0.6377914151814391,
          -0.46788941981418275,
          0.41238144698805007,
          -0.08522566839084937,
          0.13222333196814762,
          0.6016724013389276,
          -0.18140041317070518,
          -0.453323478251079,
          0.3148567454283424,
          0.664938478483988,
          -0.25481166200759625,
          1.0023325764266644,
          0.1722222484955704,
          -0.36686522920416614,
          0.3197010121095089,
          0.7745806831446972,
          0.2928261857742169,
          -0.013859159942803007,
          -0.15253839345178213,
          0.2148242004597015,
          0.4789870454764791,
          0.6367914996676945,
          -0.08057564510445711,
          -0.021415007855904934,
          1.2812638481893086,
          0.24776079534886747,
          0.09232896965898182,
          1.010928928801772,
          -0.1902611639215034,
          0.16090233617375557,
          -0.23710231821306704,
          -0.004352656974622842,
          -0.4715526418206687,
          0.17571710464506995,
          -0.5253651707071105,
          0.2090795940589044,
          -0.20530891911873167,
          -0.825894031777377,
          0.17247168355628933,
          0.6386833545502067,
          -0.19182612825815612,
          0.7331270825132581,
          0.3380753486873011,
          -0.2455715894583479,
          0.24740707856959487,
          0.6926073429290841,
          0.504005569901198,
          -0.043076912250194985,
          0.6559356683577492,
          0.28655641573183493,
          0.7506682872451397,
          0.5395023507979777,
          0.10201699104363351,
          0.17784678781757324,
          1.6526023875750704,
          0.29287714209664334,
          0.30808616837457287,
          0.7450782079566721,
          -0.45993651971644384,
          -0.11896795388280727,
          0.29721983497543497,
          -0.053192531565750385,
          0.10617773146096239,
          0.3713603907242518,
          0.06170813558963531,
          0.6989195998590353,
          0.3353013700308053,
          -0.32354411128725663,
          -0.13996078234437895,
          0.41898543572164615,
          0.4335054477700497,
          1.0283002342160246,
          0.33538047902544704,
          -0.022243526454098196,
          0.5856367886076224,
          0.3564747545586015,
          0.9261435380699967,
          0.280247230008001,
          0.7579691490848692,
          0.3444657113115859,
          1.0625956357708755,
          0.42176332307236747,
          0.9211775931394974,
          0.42690154792329454,
          1.729444667183427,
          1.1768369422379101,
          0.5934368321354516,
          1.007706011741157,
          0.11105978992388083,
          0.22644424292432302,
          0.4127657025785919,
          0.5879560835835794,
          0.3999805009592049,
          0.6398438765115007,
          0.2624677982296327,
          0.32767017673657334,
          0.19540339836074477,
          0.17365088959990016,
          0.07381111848193121,
          0.595028629701066,
          0.3533257787728465,
          0.9058637291919412,
          0.5195934572107566,
          0.535391336180891,
          0.8034280330368846,
          0.40420686566757547,
          0.7451464007870998,
          0.5884555252332676,
          0.7453043842057935,
          0.46100516747633463,
          1.1132928744416788,
          0.6696400441161442,
          0.9376719752872462,
          0.6081115163914157,
          1.5765516214299413,
          1.251371230150204,
          0.7033906311963729,
          0.6423733854570085,
          0.5884287318882279,
          0.0075436535619174344,
          0.6348244311991309,
          0.6842094330381708,
          0.8223968195130692,
          1.2271082753405262,
          0.43838931469711295,
          0.5750893464108701,
          0.4455462504669523,
          1.004615319421832,
          0.0659667563138771,
          0.6088305419367209,
          0.16157429984794028,
          0.6453379049258217,
          1.1870967281521934,
          0.7641011066510298,
          0.758853650889584,
          0.7534753707267398,
          1.37393377707334,
          0.8290592372390768,
          0.8985968923078996,
          0.36040534434824173,
          0.23315362840530665,
          0.7789909703179286,
          1.1495152698600142,
          0.5993928824136381,
          1.797924298648669,
          1.0420112405359367,
          0.9836453314182568,
          0.9916190028442726,
          0.8871650506785952,
          0.5052082360073471,
          0.6312135493235239,
          1.7417058917433434,
          0.847303646510694,
          1.1007925139086447,
          0.12941715927444164,
          0.9668127027713243,
          1.0187344367937492,
          1.230489450825368,
          0.3526557997239858,
          1.0935601327419475,
          1.0762038908748883,
          1.298267260209812,
          1.3612042383746945,
          1.179398377769932,
          1.0323250775455357,
          0.5094275038875395,
          1.092201362571712,
          0.8786275875988213,
          0.26662730700135984,
          0.4175738083763233,
          0.3685736837474576,
          1.4894103844153976,
          1.099308864456013,
          0.5230718104783951,
          0.4127329636521881,
          1.1209582033580134,
          1.1149075369776564,
          1.2309558904952285,
          1.1805741058520187,
          1.028627680208686,
          1.2313633862777078,
          1.763207759545027,
          0.709226587247821,
          1.08976456824795,
          0.24874175259983486,
          0.9581362380916945,
          0.7673083076225365,
          1.0982042446692222,
          1.1109271977358368,
          1.002545235323556,
          0.8649448169169809,
          1.2338817526656836,
          1.177514583198749,
          1.0547811814613524,
          0.8746427019969664
         ],
         "xaxis": "x",
         "y": [
          0.16685089928502742,
          -0.03502826831733866,
          -0.7025875583928141,
          0.3257277315499102,
          -0.055407534129191575,
          -0.04406096101073727,
          -0.10286803158177801,
          -0.2431413278950742,
          0.3937429957792123,
          -0.10927368478905938,
          -0.6277171668191702,
          0.7290130542982916,
          -1.0326154799920781,
          -0.7357440244704813,
          -0.331010193200717,
          -0.7211122448361054,
          0.007998903516236002,
          -0.3888586061865882,
          -0.1766022643495221,
          -0.4322112602237717,
          -0.7340267574453442,
          -0.9854773555416015,
          -0.21192147814231474,
          -0.8893030191652492,
          -0.21611978056002068,
          -0.3975589613269625,
          -0.9541584506157135,
          0.13007989536483,
          -0.018992576201580656,
          0.22336358486095004,
          -0.05244213755839168,
          -0.7027994706574339,
          0.23183991664709167,
          -0.059949347390760105,
          -0.5202525287718018,
          -0.16794383818320893,
          -0.06189407273001909,
          0.41679122950021136,
          -0.3802102878208036,
          -0.417427498233157,
          -0.09813039074435266,
          -0.7261550693621405,
          -0.5015089853986298,
          -0.5488433032313876,
          -0.6094919436042454,
          0.1900004119153368,
          -0.5097269255514492,
          -0.30992884475595023,
          -0.7305792069544035,
          -0.5447315586360574,
          -0.870444581410295,
          -0.6159558444597966,
          -1.0852943560459425,
          -0.32189073175294064,
          -0.6096610393757319,
          -1.0351318810591692,
          0.04251730943683357,
          0.18192972594333334,
          0.0907065684928508,
          -0.25577220495633785,
          -0.5218265684227091,
          0.18252994049402807,
          -0.2036742355967049,
          -0.4869994710887335,
          0.1761111236194543,
          -0.6013871223896259,
          0.15440007718559895,
          0.1738295424996221,
          -0.4114832491718463,
          -0.3180278498965624,
          -0.8323574421419769,
          0.16829305088016389,
          -0.32160354090597293,
          -0.30939138045547243,
          -0.6764419088880728,
          -0.7066890286555213,
          0.01787714714079983,
          -0.25684089960700274,
          -0.517207654993477,
          -0.165641038706783,
          -0.6460464399513186,
          -0.8362983655711194,
          -0.8340559126849567,
          -0.579725825899281,
          -0.3780594103933547,
          -0.7296650320362447,
          -0.29241368117470873,
          -0.12069007705014878,
          -0.07018466938219628,
          0.055535967967541754,
          0.3670677740579266,
          -0.7519455309700518,
          0.2944365322391047,
          -0.6405054222219392,
          -0.18176113281445186,
          -0.3983039924243356,
          -0.6716444128183977,
          0.009985407181744798,
          -0.5677495020923222,
          -0.08355002327929471,
          0.171705306218774,
          -0.3166504617937773,
          -0.6705277295043386,
          -0.7718911292541112,
          -0.5727961354764394,
          -0.09358079585340164,
          -0.12969704850550387,
          -0.49981411752576527,
          -0.31515881665213497,
          -0.6246189811470833,
          -0.789309094667519,
          -0.8019761563838511,
          -0.3418845074485159,
          0.20641100123709158,
          -0.997136457970655,
          -0.3292945437514074,
          0.05477008857531858,
          -0.11520959396500295,
          0.18534686001002254,
          -0.269011090087574,
          -0.5663126632470484,
          -0.41051966794755146,
          -0.951690770012274,
          -0.22518805699279085,
          -0.47687244308387483,
          -0.8648568688269336,
          -0.022016439632748217,
          -0.7796502663757897,
          -0.6248290870812864,
          -0.2781572321559452,
          -0.4446332648516891,
          -0.9414082746273241,
          -0.7126028479199142,
          -0.2666344933660764,
          -0.2424322305823246,
          0.3722456798671024,
          -0.21118313203947978,
          0.11104481224195903,
          -0.3828748610881036,
          -0.7986030680112453,
          -0.9561517707940195,
          -0.17785297759085306,
          -0.08817821242916776,
          -0.46309077935292975,
          0.1976576620570916,
          0.49933940991827236,
          -0.417349024466133,
          0.09373835826889505,
          -0.34258129120373104,
          -0.5306588462434749,
          -0.6722482260428292,
          -0.6463517989554075,
          -0.8615248648963238,
          0.025614256995467585,
          -0.649775388803344,
          -0.35021199060012415,
          -0.575847979749536,
          0.01826678836823916,
          -0.5300039541879292,
          -0.9534457287399056,
          -0.1362303097275603,
          -0.580078325744864,
          -0.31875524430528496,
          0.24162534697537583,
          -0.06269012894909148,
          -0.14277449616882867,
          -0.15313248344175817,
          -0.661511125747225,
          -0.11957595178543541,
          -0.5149382305199587,
          -0.9815114377696437,
          -0.38637786832399595,
          -0.016799880012803352,
          -0.21428440589966186,
          -0.16018825339503986,
          0.36991370760241504,
          0.14213144643735975,
          0.44800151651718756,
          0.07698252487037346,
          -0.11665644150320452,
          -0.5016384924722121,
          -0.08706615163496943,
          -0.7937715878715949,
          0.35165467832876335,
          0.1182807958919322,
          -0.11011120937791176,
          -0.2273138074198382,
          -0.1196236365753253,
          -0.24909212226340866,
          -0.3129370242879324,
          0.11654692201321483,
          0.009862656442601639,
          -0.2196459225931854,
          0.22136121573879178,
          0.5048694825514051,
          0.007064327635265076,
          0.1456646966615137,
          -0.2713931012674666,
          0.659293145550916,
          -0.09012738258519899,
          -0.6034039217421912,
          0.3296462040624108,
          0.4657525531084533,
          -0.08121492015960266,
          0.05048311870931413,
          0.31306708489989366,
          0.367952030964005,
          0.2630106072388474,
          -0.3229558804103963,
          -0.2277733585195137,
          -0.573858640161134,
          -0.04622811093274792,
          -0.4780430099439264,
          0.24490229412470985,
          -0.24917003497529092,
          0.2245536805986013,
          -0.17943807257908928,
          0.09819514307990476,
          0.5017671569681244,
          -0.014385793844227834,
          0.47972030606717486,
          0.16395624961376776,
          0.009738731003972658,
          0.2209312328116813,
          0.30337485403464576,
          -0.10629612995731706,
          0.09796345407437075,
          -0.44984642494000865,
          0.3367861347115948,
          0.3277910120925831,
          -0.667656181587466,
          0.2799160644270295,
          -0.05623624772423297,
          -0.39548592839232616,
          0.217331501644784,
          -0.0032888573096754954,
          -0.8197735552861395,
          0.34051651953936946,
          0.24560460568540532,
          0.04181293407360847,
          -0.3337329674735897,
          -0.17100111587758446,
          -0.7304069486726735,
          0.23791268624095957,
          -0.32905048813302945,
          0.34373795277077546,
          0.4628592631206382,
          -0.4560413979382097,
          0.7602152021331451,
          0.6312613706453705,
          0.49107238121644137,
          0.6487561444763646,
          0.19328722073234447,
          -0.33940144947311857,
          0.6959857833563424,
          -0.1801137022623953,
          -0.05780251409246037,
          -0.4101902388246555,
          -0.009496200886504876,
          0.34469021252141147,
          -0.33912483560594087,
          0.7070760492977469,
          -0.2366984414844522,
          -0.6568849258193898,
          0.0824008604499529,
          -0.10374351383867189,
          -0.673958055959546,
          0.02948677638114928,
          0.08157886635434147,
          -0.6621199262389694,
          -0.14426560138349565,
          -0.2741662368930837,
          -0.0529325491294297,
          0.48331334093508405,
          -0.21897105168254505,
          0.32794894274024017,
          0.672496796468859,
          -0.4913704204432871,
          0.511843080935831,
          0.009567578382408907,
          0.17338986351281296,
          0.5281338647673953,
          0.2750332854418472,
          -0.15764758885571573,
          0.603387955391791,
          0.4716370581299324,
          -0.32868864718190166,
          -0.05034844612123607,
          -0.11391762234067915,
          -0.45628159451032935,
          0.8078333215953297,
          -0.2573120417539413,
          0.1741852937001454,
          -0.31380727068913217,
          0.5997849461516683,
          -0.3314418163207314,
          -0.37933349587752685,
          -0.12777110674826225,
          0.13156851025035693,
          -0.5762668459737965,
          -0.2989122216355109,
          -0.17202127246102722,
          0.42494848457432677,
          0.5882998037506517,
          0.2769484670435883,
          0.4731956756957734,
          0.383774954554819,
          -0.23755229462431188,
          0.2613916468169189,
          -0.13116488204673182,
          0.09639009023352302,
          0.8972305183450536,
          0.7876972150517051,
          0.2570236864594748,
          0.5201091500519565,
          -0.2282548727582768,
          -0.3822139772289265,
          0.27253975648025364,
          -0.2555561584040119,
          -0.29370235852993354,
          0.511103495178782,
          -0.287876854492797,
          0.14032524149549158,
          -0.562734515584614,
          0.4846339884509384,
          -0.022743969266137736,
          -0.5923257101232958,
          0.22188976534015845,
          -0.5979568449599411,
          0.7510671979942646,
          -0.40856831526257403,
          -0.15611220470350354,
          0.2386295374411363,
          0.29007649995451973,
          -0.02672281723066665,
          0.30229168705039505,
          0.22492635614431492,
          -0.434074840455646,
          -0.11237731285290098,
          -0.5614261460386026,
          0.1826400717906973,
          0.7330911425711768,
          0.46380278858694135,
          -0.1266134621945009,
          0.1510979069945724,
          -0.28702878221386025,
          -0.2580116275534417,
          -0.09537877758127924,
          0.17275965635000218,
          -0.18033301769605503,
          0.5661355716941102,
          -0.37385174569800433,
          0.4973372740355287,
          -0.0174095407386509,
          0.6359975889455113,
          -0.2684281009594114,
          -0.393403207607614,
          0.9836292322088293,
          -0.7647615913965133,
          0.6185604468633913,
          -0.027275930226094543,
          -0.17788475854242808,
          0.3861366924520883,
          0.2995499248662033,
          0.07778296501478252,
          -0.16860949459915364,
          -0.19378228499381644,
          -0.2623788315373895,
          -0.17331793733228046,
          -0.4897260650668357,
          -0.003211075706156791,
          0.37564989522861053,
          0.5143783360936112,
          0.1499726641714033,
          -0.04736607394891226,
          -0.3774738526621122,
          0.009325740172326197,
          -0.3461161193510912,
          0.01778670223259177,
          0.1568348545483825,
          0.6717025213302271,
          -0.4683933283614184,
          0.17578755322179823,
          -0.11328154123920763,
          0.44950868659427307,
          -0.03059208594494199,
          -0.002836161885543095,
          -0.11521632642802845,
          0.7637076305275843,
          -0.16180504976515483,
          0.5722755437142921,
          0.07895595977814247,
          -0.3284743248618329,
          0.340243126908331,
          0.03187149754019727,
          0.021921945400359622,
          -0.252143475609919,
          -0.5532005620450918,
          0.009273943019988785,
          -0.38644707135226314,
          -0.6919484630755429,
          0.17324341427712533,
          0.22929744291048332,
          0.3137890181436593,
          -0.07105714979656458,
          -0.6882820945762792,
          0.5652786842937074,
          0.22836591382638768,
          0.5005844614761683,
          0.3389518002552127,
          0.5728661276537833,
          -0.4493003904694445,
          0.17862401831985564,
          -0.06765632832668601,
          0.24234148102354286,
          0.1089449397542386,
          0.49142101332550203,
          0.12501141609075464,
          0.056121373117302566,
          -0.2248757982618721,
          0.4060626777345508,
          -0.12386398922838432,
          0.38044695890041275,
          0.44684168421560905,
          -0.14679244038569397,
          -0.12592570132661865,
          -0.265012513731611,
          -0.44168808999503917,
          0.5932879393440995,
          -0.20468209276731864,
          -0.37994370452163484,
          0.6511515852484789,
          0.05535822529863444,
          0.2250394826578136,
          0.20978795530947503,
          -0.3765469077955086,
          0.550907297162706,
          1.0436217416602431,
          0.12373357159850255,
          -0.1407465654330479,
          0.4832909965974743,
          -0.49229779853937333,
          -0.08326669821086227,
          0.5974553091472499,
          -0.013313571237073048,
          -0.39406420587351576,
          0.19594009378182053,
          0.33515569106744664,
          0.41057452025168795,
          -0.13359284460107335,
          -0.14889380677090858,
          0.016972171358468537,
          0.562306130616394,
          0.2970472920590721,
          -0.6490443253563154,
          0.015246974419277614,
          0.15416463371526695,
          -0.40580023273605426,
          0.6519593114880625,
          -0.21831412087599184,
          0.20664863321403606,
          -0.034631756807020325,
          0.6841019932808569,
          -0.04081605084812414,
          0.7029632850544214,
          0.11366236901760843,
          0.6116815564882614,
          0.8516820908937182,
          0.3746182712510164,
          -0.058620609953394846,
          0.4199214609075691,
          -0.3811940952545326,
          0.014243553351902095,
          -0.0028554213194784193,
          -0.1323909259092809,
          -0.10101049332878702,
          0.060796043017035915,
          0.6295676176249965,
          0.11599528382526582,
          0.2476943231994848,
          -0.18559224194237223,
          0.28423399721706744,
          0.42586823847454125,
          0.32944855598930306,
          -0.6449260016369146,
          0.25082932190986706,
          0.11377387505841101,
          -0.16414203210197148,
          1.054440113928128,
          0.279898870595937,
          -0.09563951536795177,
          0.2655864918879392,
          0.23750019516234638,
          0.5389344253367073,
          0.32916250968075833,
          -0.34302851975985277,
          0.30606281612708197,
          1.0256095346424285,
          0.8346683486030563,
          0.268307731567717,
          0.36323097394767656,
          -0.7899960850585288,
          -0.11398889830454695,
          0.06532831116816665,
          0.2250842077296224,
          0.20862010552336632,
          0.03694113803155274,
          0.9124652764036351,
          0.24247237424233745,
          0.10714203057963907,
          0.1288179999571613,
          0.4738262934035052,
          0.18822435681492264,
          0.3710971379855549,
          -0.7699775518847958,
          0.0220341851446204,
          0.17962528261007024,
          -0.09418417864656596,
          0.8252038028306513,
          0.14318960667719943,
          0.20975764033197455,
          0.037425878944785884,
          0.16521993981114558,
          0.40350605099248427,
          0.4671360310276501,
          0.24293973485133324,
          0.6819343867572503,
          0.6122912493373864,
          0.8009462609630088,
          0.36791535040690587,
          0.4273824633024344,
          -0.4760580975659371,
          0.03750153556991741,
          -0.16399885939557185,
          0.07142112681406572,
          0.7058667282304444,
          0.006907769925366241,
          0.6728361830101112,
          0.3553259035874135,
          0.8050223317136471,
          0.2297871020929507,
          0.629045968468174,
          0.10232935882287804,
          0.32460030529824146,
          -0.4467704323965554,
          -0.10809525247412771,
          0.15508811779614198,
          0.32159850834608567,
          0.4658317287369044,
          0.6735669491230222,
          0.22551146197359964,
          0.1375096759270858,
          0.026623295404459863,
          0.09029205188666947,
          0.45802400889784933,
          0.11857916084061526,
          0.6244274245460232,
          -0.16021845846893112,
          1.03884603622394,
          0.22351992656111097,
          0.7147521904814845,
          -0.06828971774114831,
          -0.20551044859758963,
          -0.04889508009351114,
          0.10607469350997153,
          0.8413262741289969,
          -0.0007320643551383281,
          0.4850694194336538,
          0.5124165591924895,
          0.9322320380484853,
          1.0872565263311478,
          0.5194683796067253,
          -0.08129233759182744,
          0.4581382935751309,
          -0.27065714261408896,
          0.2624513650507185,
          -0.0628091066658626,
          0.28365627522411563,
          0.48210447130737083,
          0.3779884848228216,
          0.29573389818123924,
          -0.1400290499745413,
          0.4287606704665164,
          0.43854639480888064,
          1.0910677572967336,
          0.2984037195693276,
          0.20809210298978478,
          -0.023806140823319406,
          0.9309409707151645,
          0.10190542189236859,
          0.48903101122218207,
          0.09137900178264599,
          -0.08048865065917858,
          -0.09896634397661436,
          0.5398170440836935,
          0.9863792057819964,
          0.004323644091363621,
          0.47339149782713047,
          0.6985816875632256,
          0.6808187718916475,
          0.9084806741174999,
          0.14632522843820478,
          -0.009255855102706169,
          0.5606195476193238,
          0.783726851209567,
          0.48875515183449436,
          0.05109572412019113,
          0.0008869897699510163,
          -0.19183107626440088,
          0.34615603871639095,
          -0.013340628912027124,
          -0.17603222902988502,
          0.81031516834391,
          0.47766831079290606,
          0.7301699548799199,
          0.1838718139827628,
          0.33574044490218297,
          0.002813508397463208,
          0.2670944720536417,
          0.6112611440129385,
          0.5221275777441469,
          0.3271259375765123,
          -0.06137045133305062,
          0.21129485730018446,
          0.7193961847130526
         ],
         "yaxis": "y"
        }
       ],
       "layout": {
        "coloraxis": {
         "colorbar": {
          "title": {
           "text": "3PM"
          }
         },
         "colorscale": [
          [
           0,
           "#0d0887"
          ],
          [
           0.1111111111111111,
           "#46039f"
          ],
          [
           0.2222222222222222,
           "#7201a8"
          ],
          [
           0.3333333333333333,
           "#9c179e"
          ],
          [
           0.4444444444444444,
           "#bd3786"
          ],
          [
           0.5555555555555556,
           "#d8576b"
          ],
          [
           0.6666666666666666,
           "#ed7953"
          ],
          [
           0.7777777777777778,
           "#fb9f3a"
          ],
          [
           0.8888888888888888,
           "#fdca26"
          ],
          [
           1,
           "#f0f921"
          ]
         ]
        },
        "legend": {
         "tracegroupgap": 0
        },
        "margin": {
         "t": 60
        },
        "template": {
         "data": {
          "bar": [
           {
            "error_x": {
             "color": "#2a3f5f"
            },
            "error_y": {
             "color": "#2a3f5f"
            },
            "marker": {
             "line": {
              "color": "#E5ECF6",
              "width": 0.5
             },
             "pattern": {
              "fillmode": "overlay",
              "size": 10,
              "solidity": 0.2
             }
            },
            "type": "bar"
           }
          ],
          "barpolar": [
           {
            "marker": {
             "line": {
              "color": "#E5ECF6",
              "width": 0.5
             },
             "pattern": {
              "fillmode": "overlay",
              "size": 10,
              "solidity": 0.2
             }
            },
            "type": "barpolar"
           }
          ],
          "carpet": [
           {
            "aaxis": {
             "endlinecolor": "#2a3f5f",
             "gridcolor": "white",
             "linecolor": "white",
             "minorgridcolor": "white",
             "startlinecolor": "#2a3f5f"
            },
            "baxis": {
             "endlinecolor": "#2a3f5f",
             "gridcolor": "white",
             "linecolor": "white",
             "minorgridcolor": "white",
             "startlinecolor": "#2a3f5f"
            },
            "type": "carpet"
           }
          ],
          "choropleth": [
           {
            "colorbar": {
             "outlinewidth": 0,
             "ticks": ""
            },
            "type": "choropleth"
           }
          ],
          "contour": [
           {
            "colorbar": {
             "outlinewidth": 0,
             "ticks": ""
            },
            "colorscale": [
             [
              0,
              "#0d0887"
             ],
             [
              0.1111111111111111,
              "#46039f"
             ],
             [
              0.2222222222222222,
              "#7201a8"
             ],
             [
              0.3333333333333333,
              "#9c179e"
             ],
             [
              0.4444444444444444,
              "#bd3786"
             ],
             [
              0.5555555555555556,
              "#d8576b"
             ],
             [
              0.6666666666666666,
              "#ed7953"
             ],
             [
              0.7777777777777778,
              "#fb9f3a"
             ],
             [
              0.8888888888888888,
              "#fdca26"
             ],
             [
              1,
              "#f0f921"
             ]
            ],
            "type": "contour"
           }
          ],
          "contourcarpet": [
           {
            "colorbar": {
             "outlinewidth": 0,
             "ticks": ""
            },
            "type": "contourcarpet"
           }
          ],
          "heatmap": [
           {
            "colorbar": {
             "outlinewidth": 0,
             "ticks": ""
            },
            "colorscale": [
             [
              0,
              "#0d0887"
             ],
             [
              0.1111111111111111,
              "#46039f"
             ],
             [
              0.2222222222222222,
              "#7201a8"
             ],
             [
              0.3333333333333333,
              "#9c179e"
             ],
             [
              0.4444444444444444,
              "#bd3786"
             ],
             [
              0.5555555555555556,
              "#d8576b"
             ],
             [
              0.6666666666666666,
              "#ed7953"
             ],
             [
              0.7777777777777778,
              "#fb9f3a"
             ],
             [
              0.8888888888888888,
              "#fdca26"
             ],
             [
              1,
              "#f0f921"
             ]
            ],
            "type": "heatmap"
           }
          ],
          "heatmapgl": [
           {
            "colorbar": {
             "outlinewidth": 0,
             "ticks": ""
            },
            "colorscale": [
             [
              0,
              "#0d0887"
             ],
             [
              0.1111111111111111,
              "#46039f"
             ],
             [
              0.2222222222222222,
              "#7201a8"
             ],
             [
              0.3333333333333333,
              "#9c179e"
             ],
             [
              0.4444444444444444,
              "#bd3786"
             ],
             [
              0.5555555555555556,
              "#d8576b"
             ],
             [
              0.6666666666666666,
              "#ed7953"
             ],
             [
              0.7777777777777778,
              "#fb9f3a"
             ],
             [
              0.8888888888888888,
              "#fdca26"
             ],
             [
              1,
              "#f0f921"
             ]
            ],
            "type": "heatmapgl"
           }
          ],
          "histogram": [
           {
            "marker": {
             "pattern": {
              "fillmode": "overlay",
              "size": 10,
              "solidity": 0.2
             }
            },
            "type": "histogram"
           }
          ],
          "histogram2d": [
           {
            "colorbar": {
             "outlinewidth": 0,
             "ticks": ""
            },
            "colorscale": [
             [
              0,
              "#0d0887"
             ],
             [
              0.1111111111111111,
              "#46039f"
             ],
             [
              0.2222222222222222,
              "#7201a8"
             ],
             [
              0.3333333333333333,
              "#9c179e"
             ],
             [
              0.4444444444444444,
              "#bd3786"
             ],
             [
              0.5555555555555556,
              "#d8576b"
             ],
             [
              0.6666666666666666,
              "#ed7953"
             ],
             [
              0.7777777777777778,
              "#fb9f3a"
             ],
             [
              0.8888888888888888,
              "#fdca26"
             ],
             [
              1,
              "#f0f921"
             ]
            ],
            "type": "histogram2d"
           }
          ],
          "histogram2dcontour": [
           {
            "colorbar": {
             "outlinewidth": 0,
             "ticks": ""
            },
            "colorscale": [
             [
              0,
              "#0d0887"
             ],
             [
              0.1111111111111111,
              "#46039f"
             ],
             [
              0.2222222222222222,
              "#7201a8"
             ],
             [
              0.3333333333333333,
              "#9c179e"
             ],
             [
              0.4444444444444444,
              "#bd3786"
             ],
             [
              0.5555555555555556,
              "#d8576b"
             ],
             [
              0.6666666666666666,
              "#ed7953"
             ],
             [
              0.7777777777777778,
              "#fb9f3a"
             ],
             [
              0.8888888888888888,
              "#fdca26"
             ],
             [
              1,
              "#f0f921"
             ]
            ],
            "type": "histogram2dcontour"
           }
          ],
          "mesh3d": [
           {
            "colorbar": {
             "outlinewidth": 0,
             "ticks": ""
            },
            "type": "mesh3d"
           }
          ],
          "parcoords": [
           {
            "line": {
             "colorbar": {
              "outlinewidth": 0,
              "ticks": ""
             }
            },
            "type": "parcoords"
           }
          ],
          "pie": [
           {
            "automargin": true,
            "type": "pie"
           }
          ],
          "scatter": [
           {
            "marker": {
             "colorbar": {
              "outlinewidth": 0,
              "ticks": ""
             }
            },
            "type": "scatter"
           }
          ],
          "scatter3d": [
           {
            "line": {
             "colorbar": {
              "outlinewidth": 0,
              "ticks": ""
             }
            },
            "marker": {
             "colorbar": {
              "outlinewidth": 0,
              "ticks": ""
             }
            },
            "type": "scatter3d"
           }
          ],
          "scattercarpet": [
           {
            "marker": {
             "colorbar": {
              "outlinewidth": 0,
              "ticks": ""
             }
            },
            "type": "scattercarpet"
           }
          ],
          "scattergeo": [
           {
            "marker": {
             "colorbar": {
              "outlinewidth": 0,
              "ticks": ""
             }
            },
            "type": "scattergeo"
           }
          ],
          "scattergl": [
           {
            "marker": {
             "colorbar": {
              "outlinewidth": 0,
              "ticks": ""
             }
            },
            "type": "scattergl"
           }
          ],
          "scattermapbox": [
           {
            "marker": {
             "colorbar": {
              "outlinewidth": 0,
              "ticks": ""
             }
            },
            "type": "scattermapbox"
           }
          ],
          "scatterpolar": [
           {
            "marker": {
             "colorbar": {
              "outlinewidth": 0,
              "ticks": ""
             }
            },
            "type": "scatterpolar"
           }
          ],
          "scatterpolargl": [
           {
            "marker": {
             "colorbar": {
              "outlinewidth": 0,
              "ticks": ""
             }
            },
            "type": "scatterpolargl"
           }
          ],
          "scatterternary": [
           {
            "marker": {
             "colorbar": {
              "outlinewidth": 0,
              "ticks": ""
             }
            },
            "type": "scatterternary"
           }
          ],
          "surface": [
           {
            "colorbar": {
             "outlinewidth": 0,
             "ticks": ""
            },
            "colorscale": [
             [
              0,
              "#0d0887"
             ],
             [
              0.1111111111111111,
              "#46039f"
             ],
             [
              0.2222222222222222,
              "#7201a8"
             ],
             [
              0.3333333333333333,
              "#9c179e"
             ],
             [
              0.4444444444444444,
              "#bd3786"
             ],
             [
              0.5555555555555556,
              "#d8576b"
             ],
             [
              0.6666666666666666,
              "#ed7953"
             ],
             [
              0.7777777777777778,
              "#fb9f3a"
             ],
             [
              0.8888888888888888,
              "#fdca26"
             ],
             [
              1,
              "#f0f921"
             ]
            ],
            "type": "surface"
           }
          ],
          "table": [
           {
            "cells": {
             "fill": {
              "color": "#EBF0F8"
             },
             "line": {
              "color": "white"
             }
            },
            "header": {
             "fill": {
              "color": "#C8D4E3"
             },
             "line": {
              "color": "white"
             }
            },
            "type": "table"
           }
          ]
         },
         "layout": {
          "annotationdefaults": {
           "arrowcolor": "#2a3f5f",
           "arrowhead": 0,
           "arrowwidth": 1
          },
          "autotypenumbers": "strict",
          "coloraxis": {
           "colorbar": {
            "outlinewidth": 0,
            "ticks": ""
           }
          },
          "colorscale": {
           "diverging": [
            [
             0,
             "#8e0152"
            ],
            [
             0.1,
             "#c51b7d"
            ],
            [
             0.2,
             "#de77ae"
            ],
            [
             0.3,
             "#f1b6da"
            ],
            [
             0.4,
             "#fde0ef"
            ],
            [
             0.5,
             "#f7f7f7"
            ],
            [
             0.6,
             "#e6f5d0"
            ],
            [
             0.7,
             "#b8e186"
            ],
            [
             0.8,
             "#7fbc41"
            ],
            [
             0.9,
             "#4d9221"
            ],
            [
             1,
             "#276419"
            ]
           ],
           "sequential": [
            [
             0,
             "#0d0887"
            ],
            [
             0.1111111111111111,
             "#46039f"
            ],
            [
             0.2222222222222222,
             "#7201a8"
            ],
            [
             0.3333333333333333,
             "#9c179e"
            ],
            [
             0.4444444444444444,
             "#bd3786"
            ],
            [
             0.5555555555555556,
             "#d8576b"
            ],
            [
             0.6666666666666666,
             "#ed7953"
            ],
            [
             0.7777777777777778,
             "#fb9f3a"
            ],
            [
             0.8888888888888888,
             "#fdca26"
            ],
            [
             1,
             "#f0f921"
            ]
           ],
           "sequentialminus": [
            [
             0,
             "#0d0887"
            ],
            [
             0.1111111111111111,
             "#46039f"
            ],
            [
             0.2222222222222222,
             "#7201a8"
            ],
            [
             0.3333333333333333,
             "#9c179e"
            ],
            [
             0.4444444444444444,
             "#bd3786"
            ],
            [
             0.5555555555555556,
             "#d8576b"
            ],
            [
             0.6666666666666666,
             "#ed7953"
            ],
            [
             0.7777777777777778,
             "#fb9f3a"
            ],
            [
             0.8888888888888888,
             "#fdca26"
            ],
            [
             1,
             "#f0f921"
            ]
           ]
          },
          "colorway": [
           "#636efa",
           "#EF553B",
           "#00cc96",
           "#ab63fa",
           "#FFA15A",
           "#19d3f3",
           "#FF6692",
           "#B6E880",
           "#FF97FF",
           "#FECB52"
          ],
          "font": {
           "color": "#2a3f5f"
          },
          "geo": {
           "bgcolor": "white",
           "lakecolor": "white",
           "landcolor": "#E5ECF6",
           "showlakes": true,
           "showland": true,
           "subunitcolor": "white"
          },
          "hoverlabel": {
           "align": "left"
          },
          "hovermode": "closest",
          "mapbox": {
           "style": "light"
          },
          "paper_bgcolor": "white",
          "plot_bgcolor": "#E5ECF6",
          "polar": {
           "angularaxis": {
            "gridcolor": "white",
            "linecolor": "white",
            "ticks": ""
           },
           "bgcolor": "#E5ECF6",
           "radialaxis": {
            "gridcolor": "white",
            "linecolor": "white",
            "ticks": ""
           }
          },
          "scene": {
           "xaxis": {
            "backgroundcolor": "#E5ECF6",
            "gridcolor": "white",
            "gridwidth": 2,
            "linecolor": "white",
            "showbackground": true,
            "ticks": "",
            "zerolinecolor": "white"
           },
           "yaxis": {
            "backgroundcolor": "#E5ECF6",
            "gridcolor": "white",
            "gridwidth": 2,
            "linecolor": "white",
            "showbackground": true,
            "ticks": "",
            "zerolinecolor": "white"
           },
           "zaxis": {
            "backgroundcolor": "#E5ECF6",
            "gridcolor": "white",
            "gridwidth": 2,
            "linecolor": "white",
            "showbackground": true,
            "ticks": "",
            "zerolinecolor": "white"
           }
          },
          "shapedefaults": {
           "line": {
            "color": "#2a3f5f"
           }
          },
          "ternary": {
           "aaxis": {
            "gridcolor": "white",
            "linecolor": "white",
            "ticks": ""
           },
           "baxis": {
            "gridcolor": "white",
            "linecolor": "white",
            "ticks": ""
           },
           "bgcolor": "#E5ECF6",
           "caxis": {
            "gridcolor": "white",
            "linecolor": "white",
            "ticks": ""
           }
          },
          "title": {
           "x": 0.05
          },
          "xaxis": {
           "automargin": true,
           "gridcolor": "white",
           "linecolor": "white",
           "ticks": "",
           "title": {
            "standoff": 15
           },
           "zerolinecolor": "white",
           "zerolinewidth": 2
          },
          "yaxis": {
           "automargin": true,
           "gridcolor": "white",
           "linecolor": "white",
           "ticks": "",
           "title": {
            "standoff": 15
           },
           "zerolinecolor": "white",
           "zerolinewidth": 2
          }
         }
        },
        "xaxis": {
         "anchor": "y",
         "domain": [
          0,
          1
         ],
         "title": {
          "text": "PC1"
         }
        },
        "yaxis": {
         "anchor": "x",
         "domain": [
          0,
          1
         ],
         "title": {
          "text": "PC2"
         }
        }
       }
      },
      "text/html": [
       "<div>                            <div id=\"e0912e0b-9f8a-40cc-aa71-1c0bf6c5f359\" class=\"plotly-graph-div\" style=\"height:525px; width:100%;\"></div>            <script type=\"text/javascript\">                require([\"plotly\"], function(Plotly) {                    window.PLOTLYENV=window.PLOTLYENV || {};                                    if (document.getElementById(\"e0912e0b-9f8a-40cc-aa71-1c0bf6c5f359\")) {                    Plotly.newPlot(                        \"e0912e0b-9f8a-40cc-aa71-1c0bf6c5f359\",                        [{\"customdata\":[[0.341,\"Atlanta Hawks 1999-00\"],[0.427,\"Boston Celtics 1999-00\"],[0.598,\"Charlotte Hornets 1999-00\"],[0.207,\"Chicago Bulls 1999-00\"],[0.39,\"Cleveland Cavaliers 1999-00\"],[0.488,\"Dallas Mavericks 1999-00\"],[0.427,\"Denver Nuggets 1999-00\"],[0.512,\"Detroit Pistons 1999-00\"],[0.232,\"Golden State Warriors 1999-00\"],[0.415,\"Houston Rockets 1999-00\"],[0.683,\"Indiana Pacers 1999-00\"],[0.183,\"Los Angeles Clippers 1999-00\"],[0.817,\"Los Angeles Lakers 1999-00\"],[0.634,\"Miami Heat 1999-00\"],[0.512,\"Milwaukee Bucks 1999-00\"],[0.61,\"Minnesota Timberwolves 1999-00\"],[0.378,\"New Jersey Nets 1999-00\"],[0.61,\"New York Knicks 1999-00\"],[0.5,\"Orlando Magic 1999-00\"],[0.598,\"Philadelphia 76ers 1999-00\"],[0.646,\"Phoenix Suns 1999-00\"],[0.72,\"Portland Trail Blazers 1999-00\"],[0.537,\"Sacramento Kings 1999-00\"],[0.646,\"San Antonio Spurs 1999-00\"],[0.549,\"Seattle SuperSonics 1999-00\"],[0.549,\"Toronto Raptors 1999-00\"],[0.671,\"Utah Jazz 1999-00\"],[0.268,\"Vancouver Grizzlies 1999-00\"],[0.354,\"Washington Wizards 1999-00\"],[0.305,\"Atlanta Hawks 2000-01\"],[0.439,\"Boston Celtics 2000-01\"],[0.561,\"Charlotte Hornets 2000-01\"],[0.183,\"Chicago Bulls 2000-01\"],[0.366,\"Cleveland Cavaliers 2000-01\"],[0.646,\"Dallas Mavericks 2000-01\"],[0.488,\"Denver Nuggets 2000-01\"],[0.39,\"Detroit Pistons 2000-01\"],[0.207,\"Golden State Warriors 2000-01\"],[0.549,\"Houston Rockets 2000-01\"],[0.5,\"Indiana Pacers 2000-01\"],[0.378,\"Los Angeles Clippers 2000-01\"],[0.683,\"Los Angeles Lakers 2000-01\"],[0.61,\"Miami Heat 2000-01\"],[0.634,\"Milwaukee Bucks 2000-01\"],[0.573,\"Minnesota Timberwolves 2000-01\"],[0.317,\"New Jersey Nets 2000-01\"],[0.585,\"New York Knicks 2000-01\"],[0.524,\"Orlando Magic 2000-01\"],[0.683,\"Philadelphia 76ers 2000-01\"],[0.622,\"Phoenix Suns 2000-01\"],[0.61,\"Portland Trail Blazers 2000-01\"],[0.671,\"Sacramento Kings 2000-01\"],[0.707,\"San Antonio Spurs 2000-01\"],[0.537,\"Seattle SuperSonics 2000-01\"],[0.573,\"Toronto Raptors 2000-01\"],[0.646,\"Utah Jazz 2000-01\"],[0.28,\"Vancouver Grizzlies 2000-01\"],[0.232,\"Washington Wizards 2000-01\"],[0.402,\"Atlanta Hawks 2001-02\"],[0.598,\"Boston Celtics 2001-02\"],[0.537,\"Charlotte Hornets 2001-02\"],[0.256,\"Chicago Bulls 2001-02\"],[0.354,\"Cleveland Cavaliers 2001-02\"],[0.695,\"Dallas Mavericks 2001-02\"],[0.329,\"Denver Nuggets 2001-02\"],[0.61,\"Detroit Pistons 2001-02\"],[0.256,\"Golden State Warriors 2001-02\"],[0.341,\"Houston Rockets 2001-02\"],[0.512,\"Indiana Pacers 2001-02\"],[0.476,\"Los Angeles Clippers 2001-02\"],[0.707,\"Los Angeles Lakers 2001-02\"],[0.28,\"Memphis Grizzlies 2001-02\"],[0.439,\"Miami Heat 2001-02\"],[0.5,\"Milwaukee Bucks 2001-02\"],[0.61,\"Minnesota Timberwolves 2001-02\"],[0.634,\"New Jersey Nets 2001-02\"],[0.366,\"New York Knicks 2001-02\"],[0.537,\"Orlando Magic 2001-02\"],[0.524,\"Philadelphia 76ers 2001-02\"],[0.439,\"Phoenix Suns 2001-02\"],[0.598,\"Portland Trail Blazers 2001-02\"],[0.744,\"Sacramento Kings 2001-02\"],[0.707,\"San Antonio Spurs 2001-02\"],[0.549,\"Seattle SuperSonics 2001-02\"],[0.512,\"Toronto Raptors 2001-02\"],[0.537,\"Utah Jazz 2001-02\"],[0.451,\"Washington Wizards 2001-02\"],[0.427,\"Atlanta Hawks 2002-03\"],[0.537,\"Boston Celtics 2002-03\"],[0.366,\"Chicago Bulls 2002-03\"],[0.207,\"Cleveland Cavaliers 2002-03\"],[0.732,\"Dallas Mavericks 2002-03\"],[0.207,\"Denver Nuggets 2002-03\"],[0.61,\"Detroit Pistons 2002-03\"],[0.463,\"Golden State Warriors 2002-03\"],[0.524,\"Houston Rockets 2002-03\"],[0.585,\"Indiana Pacers 2002-03\"],[0.329,\"Los Angeles Clippers 2002-03\"],[0.61,\"Los Angeles Lakers 2002-03\"],[0.341,\"Memphis Grizzlies 2002-03\"],[0.305,\"Miami Heat 2002-03\"],[0.512,\"Milwaukee Bucks 2002-03\"],[0.622,\"Minnesota Timberwolves 2002-03\"],[0.598,\"New Jersey Nets 2002-03\"],[0.573,\"New Orleans Hornets 2002-03\"],[0.451,\"New York Knicks 2002-03\"],[0.512,\"Orlando Magic 2002-03\"],[0.585,\"Philadelphia 76ers 2002-03\"],[0.537,\"Phoenix Suns 2002-03\"],[0.61,\"Portland Trail Blazers 2002-03\"],[0.72,\"Sacramento Kings 2002-03\"],[0.732,\"San Antonio Spurs 2002-03\"],[0.488,\"Seattle SuperSonics 2002-03\"],[0.293,\"Toronto Raptors 2002-03\"],[0.573,\"Utah Jazz 2002-03\"],[0.451,\"Washington Wizards 2002-03\"],[0.341,\"Atlanta Hawks 2003-04\"],[0.439,\"Boston Celtics 2003-04\"],[0.28,\"Chicago Bulls 2003-04\"],[0.427,\"Cleveland Cavaliers 2003-04\"],[0.634,\"Dallas Mavericks 2003-04\"],[0.524,\"Denver Nuggets 2003-04\"],[0.659,\"Detroit Pistons 2003-04\"],[0.451,\"Golden State Warriors 2003-04\"],[0.549,\"Houston Rockets 2003-04\"],[0.744,\"Indiana Pacers 2003-04\"],[0.341,\"Los Angeles Clippers 2003-04\"],[0.683,\"Los Angeles Lakers 2003-04\"],[0.61,\"Memphis Grizzlies 2003-04\"],[0.512,\"Miami Heat 2003-04\"],[0.5,\"Milwaukee Bucks 2003-04\"],[0.707,\"Minnesota Timberwolves 2003-04\"],[0.573,\"New Jersey Nets 2003-04\"],[0.5,\"New Orleans Hornets 2003-04\"],[0.476,\"New York Knicks 2003-04\"],[0.256,\"Orlando Magic 2003-04\"],[0.402,\"Philadelphia 76ers 2003-04\"],[0.354,\"Phoenix Suns 2003-04\"],[0.5,\"Portland Trail Blazers 2003-04\"],[0.671,\"Sacramento Kings 2003-04\"],[0.695,\"San Antonio Spurs 2003-04\"],[0.451,\"Seattle SuperSonics 2003-04\"],[0.402,\"Toronto Raptors 2003-04\"],[0.512,\"Utah Jazz 2003-04\"],[0.305,\"Washington Wizards 2003-04\"],[0.159,\"Atlanta Hawks 2004-05\"],[0.549,\"Boston Celtics 2004-05\"],[0.22,\"Charlotte Bobcats 2004-05\"],[0.573,\"Chicago Bulls 2004-05\"],[0.512,\"Cleveland Cavaliers 2004-05\"],[0.707,\"Dallas Mavericks 2004-05\"],[0.598,\"Denver Nuggets 2004-05\"],[0.659,\"Detroit Pistons 2004-05\"],[0.415,\"Golden State Warriors 2004-05\"],[0.622,\"Houston Rockets 2004-05\"],[0.537,\"Indiana Pacers 2004-05\"],[0.451,\"Los Angeles Clippers 2004-05\"],[0.415,\"Los Angeles Lakers 2004-05\"],[0.549,\"Memphis Grizzlies 2004-05\"],[0.72,\"Miami Heat 2004-05\"],[0.366,\"Milwaukee Bucks 2004-05\"],[0.537,\"Minnesota Timberwolves 2004-05\"],[0.512,\"New Jersey Nets 2004-05\"],[0.22,\"New Orleans Hornets 2004-05\"],[0.402,\"New York Knicks 2004-05\"],[0.439,\"Orlando Magic 2004-05\"],[0.524,\"Philadelphia 76ers 2004-05\"],[0.756,\"Phoenix Suns 2004-05\"],[0.329,\"Portland Trail Blazers 2004-05\"],[0.61,\"Sacramento Kings 2004-05\"],[0.72,\"San Antonio Spurs 2004-05\"],[0.634,\"Seattle SuperSonics 2004-05\"],[0.402,\"Toronto Raptors 2004-05\"],[0.317,\"Utah Jazz 2004-05\"],[0.549,\"Washington Wizards 2004-05\"],[0.317,\"Atlanta Hawks 2005-06\"],[0.402,\"Boston Celtics 2005-06\"],[0.317,\"Charlotte Bobcats 2005-06\"],[0.5,\"Chicago Bulls 2005-06\"],[0.61,\"Cleveland Cavaliers 2005-06\"],[0.732,\"Dallas Mavericks 2005-06\"],[0.537,\"Denver Nuggets 2005-06\"],[0.78,\"Detroit Pistons 2005-06\"],[0.415,\"Golden State Warriors 2005-06\"],[0.415,\"Houston Rockets 2005-06\"],[0.5,\"Indiana Pacers 2005-06\"],[0.573,\"Los Angeles Clippers 2005-06\"],[0.549,\"Los Angeles Lakers 2005-06\"],[0.598,\"Memphis Grizzlies 2005-06\"],[0.634,\"Miami Heat 2005-06\"],[0.488,\"Milwaukee Bucks 2005-06\"],[0.402,\"Minnesota Timberwolves 2005-06\"],[0.598,\"New Jersey Nets 2005-06\"],[0.463,\"New Orleans/Oklahoma City Hornets 2005-06\"],[0.28,\"New York Knicks 2005-06\"],[0.439,\"Orlando Magic 2005-06\"],[0.463,\"Philadelphia 76ers 2005-06\"],[0.659,\"Phoenix Suns 2005-06\"],[0.256,\"Portland Trail Blazers 2005-06\"],[0.537,\"Sacramento Kings 2005-06\"],[0.768,\"San Antonio Spurs 2005-06\"],[0.427,\"Seattle SuperSonics 2005-06\"],[0.329,\"Toronto Raptors 2005-06\"],[0.5,\"Utah Jazz 2005-06\"],[0.512,\"Washington Wizards 2005-06\"],[0.366,\"Atlanta Hawks 2006-07\"],[0.293,\"Boston Celtics 2006-07\"],[0.402,\"Charlotte Bobcats 2006-07\"],[0.598,\"Chicago Bulls 2006-07\"],[0.61,\"Cleveland Cavaliers 2006-07\"],[0.817,\"Dallas Mavericks 2006-07\"],[0.549,\"Denver Nuggets 2006-07\"],[0.646,\"Detroit Pistons 2006-07\"],[0.512,\"Golden State Warriors 2006-07\"],[0.634,\"Houston Rockets 2006-07\"],[0.427,\"Indiana Pacers 2006-07\"],[0.488,\"Los Angeles Clippers 2006-07\"],[0.512,\"Los Angeles Lakers 2006-07\"],[0.268,\"Memphis Grizzlies 2006-07\"],[0.537,\"Miami Heat 2006-07\"],[0.341,\"Milwaukee Bucks 2006-07\"],[0.39,\"Minnesota Timberwolves 2006-07\"],[0.5,\"New Jersey Nets 2006-07\"],[0.476,\"New Orleans/Oklahoma City Hornets 2006-07\"],[0.402,\"New York Knicks 2006-07\"],[0.488,\"Orlando Magic 2006-07\"],[0.427,\"Philadelphia 76ers 2006-07\"],[0.744,\"Phoenix Suns 2006-07\"],[0.39,\"Portland Trail Blazers 2006-07\"],[0.402,\"Sacramento Kings 2006-07\"],[0.707,\"San Antonio Spurs 2006-07\"],[0.378,\"Seattle SuperSonics 2006-07\"],[0.573,\"Toronto Raptors 2006-07\"],[0.622,\"Utah Jazz 2006-07\"],[0.5,\"Washington Wizards 2006-07\"],[0.451,\"Atlanta Hawks 2007-08\"],[0.805,\"Boston Celtics 2007-08\"],[0.39,\"Charlotte Bobcats 2007-08\"],[0.402,\"Chicago Bulls 2007-08\"],[0.549,\"Cleveland Cavaliers 2007-08\"],[0.622,\"Dallas Mavericks 2007-08\"],[0.61,\"Denver Nuggets 2007-08\"],[0.72,\"Detroit Pistons 2007-08\"],[0.585,\"Golden State Warriors 2007-08\"],[0.671,\"Houston Rockets 2007-08\"],[0.439,\"Indiana Pacers 2007-08\"],[0.28,\"Los Angeles Clippers 2007-08\"],[0.695,\"Los Angeles Lakers 2007-08\"],[0.268,\"Memphis Grizzlies 2007-08\"],[0.183,\"Miami Heat 2007-08\"],[0.317,\"Milwaukee Bucks 2007-08\"],[0.268,\"Minnesota Timberwolves 2007-08\"],[0.415,\"New Jersey Nets 2007-08\"],[0.683,\"New Orleans Hornets 2007-08\"],[0.28,\"New York Knicks 2007-08\"],[0.634,\"Orlando Magic 2007-08\"],[0.488,\"Philadelphia 76ers 2007-08\"],[0.671,\"Phoenix Suns 2007-08\"],[0.5,\"Portland Trail Blazers 2007-08\"],[0.463,\"Sacramento Kings 2007-08\"],[0.683,\"San Antonio Spurs 2007-08\"],[0.244,\"Seattle SuperSonics 2007-08\"],[0.5,\"Toronto Raptors 2007-08\"],[0.659,\"Utah Jazz 2007-08\"],[0.524,\"Washington Wizards 2007-08\"],[0.573,\"Atlanta Hawks 2008-09\"],[0.756,\"Boston Celtics 2008-09\"],[0.427,\"Charlotte Bobcats 2008-09\"],[0.5,\"Chicago Bulls 2008-09\"],[0.805,\"Cleveland Cavaliers 2008-09\"],[0.61,\"Dallas Mavericks 2008-09\"],[0.659,\"Denver Nuggets 2008-09\"],[0.476,\"Detroit Pistons 2008-09\"],[0.354,\"Golden State Warriors 2008-09\"],[0.646,\"Houston Rockets 2008-09\"],[0.439,\"Indiana Pacers 2008-09\"],[0.232,\"Los Angeles Clippers 2008-09\"],[0.793,\"Los Angeles Lakers 2008-09\"],[0.293,\"Memphis Grizzlies 2008-09\"],[0.524,\"Miami Heat 2008-09\"],[0.415,\"Milwaukee Bucks 2008-09\"],[0.293,\"Minnesota Timberwolves 2008-09\"],[0.415,\"New Jersey Nets 2008-09\"],[0.598,\"New Orleans Hornets 2008-09\"],[0.39,\"New York Knicks 2008-09\"],[0.28,\"Oklahoma City Thunder 2008-09\"],[0.72,\"Orlando Magic 2008-09\"],[0.5,\"Philadelphia 76ers 2008-09\"],[0.561,\"Phoenix Suns 2008-09\"],[0.659,\"Portland Trail Blazers 2008-09\"],[0.207,\"Sacramento Kings 2008-09\"],[0.659,\"San Antonio Spurs 2008-09\"],[0.402,\"Toronto Raptors 2008-09\"],[0.585,\"Utah Jazz 2008-09\"],[0.232,\"Washington Wizards 2008-09\"],[0.646,\"Atlanta Hawks 2009-10\"],[0.61,\"Boston Celtics 2009-10\"],[0.537,\"Charlotte Bobcats 2009-10\"],[0.5,\"Chicago Bulls 2009-10\"],[0.744,\"Cleveland Cavaliers 2009-10\"],[0.671,\"Dallas Mavericks 2009-10\"],[0.646,\"Denver Nuggets 2009-10\"],[0.329,\"Detroit Pistons 2009-10\"],[0.317,\"Golden State Warriors 2009-10\"],[0.512,\"Houston Rockets 2009-10\"],[0.39,\"Indiana Pacers 2009-10\"],[0.354,\"Los Angeles Clippers 2009-10\"],[0.695,\"Los Angeles Lakers 2009-10\"],[0.488,\"Memphis Grizzlies 2009-10\"],[0.573,\"Miami Heat 2009-10\"],[0.561,\"Milwaukee Bucks 2009-10\"],[0.183,\"Minnesota Timberwolves 2009-10\"],[0.146,\"New Jersey Nets 2009-10\"],[0.451,\"New Orleans Hornets 2009-10\"],[0.354,\"New York Knicks 2009-10\"],[0.61,\"Oklahoma City Thunder 2009-10\"],[0.72,\"Orlando Magic 2009-10\"],[0.329,\"Philadelphia 76ers 2009-10\"],[0.659,\"Phoenix Suns 2009-10\"],[0.61,\"Portland Trail Blazers 2009-10\"],[0.305,\"Sacramento Kings 2009-10\"],[0.61,\"San Antonio Spurs 2009-10\"],[0.488,\"Toronto Raptors 2009-10\"],[0.646,\"Utah Jazz 2009-10\"],[0.317,\"Washington Wizards 2009-10\"],[0.537,\"Atlanta Hawks 2010-11\"],[0.683,\"Boston Celtics 2010-11\"],[0.415,\"Charlotte Bobcats 2010-11\"],[0.756,\"Chicago Bulls 2010-11\"],[0.232,\"Cleveland Cavaliers 2010-11\"],[0.695,\"Dallas Mavericks 2010-11\"],[0.61,\"Denver Nuggets 2010-11\"],[0.366,\"Detroit Pistons 2010-11\"],[0.439,\"Golden State Warriors 2010-11\"],[0.524,\"Houston Rockets 2010-11\"],[0.451,\"Indiana Pacers 2010-11\"],[0.39,\"Los Angeles Clippers 2010-11\"],[0.695,\"Los Angeles Lakers 2010-11\"],[0.561,\"Memphis Grizzlies 2010-11\"],[0.707,\"Miami Heat 2010-11\"],[0.427,\"Milwaukee Bucks 2010-11\"],[0.207,\"Minnesota Timberwolves 2010-11\"],[0.293,\"New Jersey Nets 2010-11\"],[0.561,\"New Orleans Hornets 2010-11\"],[0.512,\"New York Knicks 2010-11\"],[0.671,\"Oklahoma City Thunder 2010-11\"],[0.634,\"Orlando Magic 2010-11\"],[0.5,\"Philadelphia 76ers 2010-11\"],[0.488,\"Phoenix Suns 2010-11\"],[0.585,\"Portland Trail Blazers 2010-11\"],[0.293,\"Sacramento Kings 2010-11\"],[0.744,\"San Antonio Spurs 2010-11\"],[0.268,\"Toronto Raptors 2010-11\"],[0.476,\"Utah Jazz 2010-11\"],[0.28,\"Washington Wizards 2010-11\"],[0.606,\"Atlanta Hawks 2011-12\"],[0.591,\"Boston Celtics 2011-12\"],[0.106,\"Charlotte Bobcats 2011-12\"],[0.758,\"Chicago Bulls 2011-12\"],[0.318,\"Cleveland Cavaliers 2011-12\"],[0.545,\"Dallas Mavericks 2011-12\"],[0.576,\"Denver Nuggets 2011-12\"],[0.379,\"Detroit Pistons 2011-12\"],[0.348,\"Golden State Warriors 2011-12\"],[0.515,\"Houston Rockets 2011-12\"],[0.636,\"Indiana Pacers 2011-12\"],[0.606,\"Los Angeles Clippers 2011-12\"],[0.621,\"Los Angeles Lakers 2011-12\"],[0.621,\"Memphis Grizzlies 2011-12\"],[0.697,\"Miami Heat 2011-12\"],[0.47,\"Milwaukee Bucks 2011-12\"],[0.394,\"Minnesota Timberwolves 2011-12\"],[0.333,\"New Jersey Nets 2011-12\"],[0.318,\"New Orleans Hornets 2011-12\"],[0.545,\"New York Knicks 2011-12\"],[0.712,\"Oklahoma City Thunder 2011-12\"],[0.561,\"Orlando Magic 2011-12\"],[0.53,\"Philadelphia 76ers 2011-12\"],[0.5,\"Phoenix Suns 2011-12\"],[0.424,\"Portland Trail Blazers 2011-12\"],[0.333,\"Sacramento Kings 2011-12\"],[0.758,\"San Antonio Spurs 2011-12\"],[0.348,\"Toronto Raptors 2011-12\"],[0.545,\"Utah Jazz 2011-12\"],[0.303,\"Washington Wizards 2011-12\"],[0.537,\"Atlanta Hawks 2012-13\"],[0.506,\"Boston Celtics 2012-13\"],[0.598,\"Brooklyn Nets 2012-13\"],[0.256,\"Charlotte Bobcats 2012-13\"],[0.549,\"Chicago Bulls 2012-13\"],[0.293,\"Cleveland Cavaliers 2012-13\"],[0.5,\"Dallas Mavericks 2012-13\"],[0.695,\"Denver Nuggets 2012-13\"],[0.354,\"Detroit Pistons 2012-13\"],[0.573,\"Golden State Warriors 2012-13\"],[0.549,\"Houston Rockets 2012-13\"],[0.605,\"Indiana Pacers 2012-13\"],[0.683,\"Los Angeles Clippers 2012-13\"],[0.549,\"Los Angeles Lakers 2012-13\"],[0.683,\"Memphis Grizzlies 2012-13\"],[0.805,\"Miami Heat 2012-13\"],[0.463,\"Milwaukee Bucks 2012-13\"],[0.378,\"Minnesota Timberwolves 2012-13\"],[0.329,\"New Orleans Hornets 2012-13\"],[0.659,\"New York Knicks 2012-13\"],[0.732,\"Oklahoma City Thunder 2012-13\"],[0.244,\"Orlando Magic 2012-13\"],[0.415,\"Philadelphia 76ers 2012-13\"],[0.305,\"Phoenix Suns 2012-13\"],[0.402,\"Portland Trail Blazers 2012-13\"],[0.341,\"Sacramento Kings 2012-13\"],[0.707,\"San Antonio Spurs 2012-13\"],[0.415,\"Toronto Raptors 2012-13\"],[0.524,\"Utah Jazz 2012-13\"],[0.354,\"Washington Wizards 2012-13\"],[0.463,\"Atlanta Hawks 2013-14\"],[0.305,\"Boston Celtics 2013-14\"],[0.537,\"Brooklyn Nets 2013-14\"],[0.524,\"Charlotte Bobcats 2013-14\"],[0.585,\"Chicago Bulls 2013-14\"],[0.402,\"Cleveland Cavaliers 2013-14\"],[0.598,\"Dallas Mavericks 2013-14\"],[0.439,\"Denver Nuggets 2013-14\"],[0.354,\"Detroit Pistons 2013-14\"],[0.622,\"Golden State Warriors 2013-14\"],[0.659,\"Houston Rockets 2013-14\"],[0.683,\"Indiana Pacers 2013-14\"],[0.695,\"Los Angeles Clippers 2013-14\"],[0.329,\"Los Angeles Lakers 2013-14\"],[0.61,\"Memphis Grizzlies 2013-14\"],[0.659,\"Miami Heat 2013-14\"],[0.183,\"Milwaukee Bucks 2013-14\"],[0.488,\"Minnesota Timberwolves 2013-14\"],[0.415,\"New Orleans Pelicans 2013-14\"],[0.451,\"New York Knicks 2013-14\"],[0.72,\"Oklahoma City Thunder 2013-14\"],[0.28,\"Orlando Magic 2013-14\"],[0.232,\"Philadelphia 76ers 2013-14\"],[0.585,\"Phoenix Suns 2013-14\"],[0.659,\"Portland Trail Blazers 2013-14\"],[0.341,\"Sacramento Kings 2013-14\"],[0.756,\"San Antonio Spurs 2013-14\"],[0.585,\"Toronto Raptors 2013-14\"],[0.305,\"Utah Jazz 2013-14\"],[0.537,\"Washington Wizards 2013-14\"],[0.732,\"Atlanta Hawks 2014-15\"],[0.488,\"Boston Celtics 2014-15\"],[0.463,\"Brooklyn Nets 2014-15\"],[0.402,\"Charlotte Hornets 2014-15\"],[0.61,\"Chicago Bulls 2014-15\"],[0.646,\"Cleveland Cavaliers 2014-15\"],[0.61,\"Dallas Mavericks 2014-15\"],[0.366,\"Denver Nuggets 2014-15\"],[0.39,\"Detroit Pistons 2014-15\"],[0.817,\"Golden State Warriors 2014-15\"],[0.683,\"Houston Rockets 2014-15\"],[0.463,\"Indiana Pacers 2014-15\"],[0.683,\"Los Angeles Clippers 2014-15\"],[0.256,\"Los Angeles Lakers 2014-15\"],[0.671,\"Memphis Grizzlies 2014-15\"],[0.451,\"Miami Heat 2014-15\"],[0.5,\"Milwaukee Bucks 2014-15\"],[0.195,\"Minnesota Timberwolves 2014-15\"],[0.549,\"New Orleans Pelicans 2014-15\"],[0.207,\"New York Knicks 2014-15\"],[0.549,\"Oklahoma City Thunder 2014-15\"],[0.305,\"Orlando Magic 2014-15\"],[0.22,\"Philadelphia 76ers 2014-15\"],[0.476,\"Phoenix Suns 2014-15\"],[0.622,\"Portland Trail Blazers 2014-15\"],[0.354,\"Sacramento Kings 2014-15\"],[0.671,\"San Antonio Spurs 2014-15\"],[0.598,\"Toronto Raptors 2014-15\"],[0.463,\"Utah Jazz 2014-15\"],[0.561,\"Washington Wizards 2014-15\"],[0.585,\"Atlanta Hawks 2015-16\"],[0.585,\"Boston Celtics 2015-16\"],[0.256,\"Brooklyn Nets 2015-16\"],[0.585,\"Charlotte Hornets 2015-16\"],[0.512,\"Chicago Bulls 2015-16\"],[0.695,\"Cleveland Cavaliers 2015-16\"],[0.512,\"Dallas Mavericks 2015-16\"],[0.402,\"Denver Nuggets 2015-16\"],[0.537,\"Detroit Pistons 2015-16\"],[0.89,\"Golden State Warriors 2015-16\"],[0.5,\"Houston Rockets 2015-16\"],[0.549,\"Indiana Pacers 2015-16\"],[0.646,\"LA Clippers 2015-16\"],[0.207,\"Los Angeles Lakers 2015-16\"],[0.512,\"Memphis Grizzlies 2015-16\"],[0.585,\"Miami Heat 2015-16\"],[0.402,\"Milwaukee Bucks 2015-16\"],[0.354,\"Minnesota Timberwolves 2015-16\"],[0.366,\"New Orleans Pelicans 2015-16\"],[0.39,\"New York Knicks 2015-16\"],[0.671,\"Oklahoma City Thunder 2015-16\"],[0.427,\"Orlando Magic 2015-16\"],[0.122,\"Philadelphia 76ers 2015-16\"],[0.28,\"Phoenix Suns 2015-16\"],[0.537,\"Portland Trail Blazers 2015-16\"],[0.402,\"Sacramento Kings 2015-16\"],[0.817,\"San Antonio Spurs 2015-16\"],[0.683,\"Toronto Raptors 2015-16\"],[0.488,\"Utah Jazz 2015-16\"],[0.5,\"Washington Wizards 2015-16\"],[0.524,\"Atlanta Hawks 2016-17\"],[0.646,\"Boston Celtics 2016-17\"],[0.244,\"Brooklyn Nets 2016-17\"],[0.439,\"Charlotte Hornets 2016-17\"],[0.5,\"Chicago Bulls 2016-17\"],[0.622,\"Cleveland Cavaliers 2016-17\"],[0.402,\"Dallas Mavericks 2016-17\"],[0.488,\"Denver Nuggets 2016-17\"],[0.451,\"Detroit Pistons 2016-17\"],[0.817,\"Golden State Warriors 2016-17\"],[0.671,\"Houston Rockets 2016-17\"],[0.512,\"Indiana Pacers 2016-17\"],[0.622,\"LA Clippers 2016-17\"],[0.317,\"Los Angeles Lakers 2016-17\"],[0.524,\"Memphis Grizzlies 2016-17\"],[0.5,\"Miami Heat 2016-17\"],[0.512,\"Milwaukee Bucks 2016-17\"],[0.378,\"Minnesota Timberwolves 2016-17\"],[0.415,\"New Orleans Pelicans 2016-17\"],[0.378,\"New York Knicks 2016-17\"],[0.573,\"Oklahoma City Thunder 2016-17\"],[0.354,\"Orlando Magic 2016-17\"],[0.341,\"Philadelphia 76ers 2016-17\"],[0.293,\"Phoenix Suns 2016-17\"],[0.5,\"Portland Trail Blazers 2016-17\"],[0.39,\"Sacramento Kings 2016-17\"],[0.744,\"San Antonio Spurs 2016-17\"],[0.622,\"Toronto Raptors 2016-17\"],[0.622,\"Utah Jazz 2016-17\"],[0.598,\"Washington Wizards 2016-17\"],[0.293,\"Atlanta Hawks 2017-18\"],[0.671,\"Boston Celtics 2017-18\"],[0.341,\"Brooklyn Nets 2017-18\"],[0.439,\"Charlotte Hornets 2017-18\"],[0.329,\"Chicago Bulls 2017-18\"],[0.61,\"Cleveland Cavaliers 2017-18\"],[0.293,\"Dallas Mavericks 2017-18\"],[0.561,\"Denver Nuggets 2017-18\"],[0.476,\"Detroit Pistons 2017-18\"],[0.707,\"Golden State Warriors 2017-18\"],[0.793,\"Houston Rockets 2017-18\"],[0.585,\"Indiana Pacers 2017-18\"],[0.512,\"LA Clippers 2017-18\"],[0.427,\"Los Angeles Lakers 2017-18\"],[0.268,\"Memphis Grizzlies 2017-18\"],[0.537,\"Miami Heat 2017-18\"],[0.537,\"Milwaukee Bucks 2017-18\"],[0.573,\"Minnesota Timberwolves 2017-18\"],[0.585,\"New Orleans Pelicans 2017-18\"],[0.354,\"New York Knicks 2017-18\"],[0.585,\"Oklahoma City Thunder 2017-18\"],[0.305,\"Orlando Magic 2017-18\"],[0.634,\"Philadelphia 76ers 2017-18\"],[0.256,\"Phoenix Suns 2017-18\"],[0.598,\"Portland Trail Blazers 2017-18\"],[0.329,\"Sacramento Kings 2017-18\"],[0.573,\"San Antonio Spurs 2017-18\"],[0.72,\"Toronto Raptors 2017-18\"],[0.585,\"Utah Jazz 2017-18\"],[0.524,\"Washington Wizards 2017-18\"],[0.354,\"Atlanta Hawks 2018-19\"],[0.598,\"Boston Celtics 2018-19\"],[0.512,\"Brooklyn Nets 2018-19\"],[0.476,\"Charlotte Hornets 2018-19\"],[0.268,\"Chicago Bulls 2018-19\"],[0.232,\"Cleveland Cavaliers 2018-19\"],[0.402,\"Dallas Mavericks 2018-19\"],[0.659,\"Denver Nuggets 2018-19\"],[0.5,\"Detroit Pistons 2018-19\"],[0.695,\"Golden State Warriors 2018-19\"],[0.646,\"Houston Rockets 2018-19\"],[0.585,\"Indiana Pacers 2018-19\"],[0.585,\"LA Clippers 2018-19\"],[0.451,\"Los Angeles Lakers 2018-19\"],[0.402,\"Memphis Grizzlies 2018-19\"],[0.476,\"Miami Heat 2018-19\"],[0.732,\"Milwaukee Bucks 2018-19\"],[0.439,\"Minnesota Timberwolves 2018-19\"],[0.402,\"New Orleans Pelicans 2018-19\"],[0.207,\"New York Knicks 2018-19\"],[0.598,\"Oklahoma City Thunder 2018-19\"],[0.512,\"Orlando Magic 2018-19\"],[0.622,\"Philadelphia 76ers 2018-19\"],[0.232,\"Phoenix Suns 2018-19\"],[0.646,\"Portland Trail Blazers 2018-19\"],[0.476,\"Sacramento Kings 2018-19\"],[0.585,\"San Antonio Spurs 2018-19\"],[0.707,\"Toronto Raptors 2018-19\"],[0.61,\"Utah Jazz 2018-19\"],[0.39,\"Washington Wizards 2018-19\"],[0.299,\"Atlanta Hawks 2019-20\"],[0.667,\"Boston Celtics 2019-20\"],[0.486,\"Brooklyn Nets 2019-20\"],[0.354,\"Charlotte Hornets 2019-20\"],[0.338,\"Chicago Bulls 2019-20\"],[0.292,\"Cleveland Cavaliers 2019-20\"],[0.573,\"Dallas Mavericks 2019-20\"],[0.63,\"Denver Nuggets 2019-20\"],[0.303,\"Detroit Pistons 2019-20\"],[0.231,\"Golden State Warriors 2019-20\"],[0.611,\"Houston Rockets 2019-20\"],[0.616,\"Indiana Pacers 2019-20\"],[0.681,\"LA Clippers 2019-20\"],[0.732,\"Los Angeles Lakers 2019-20\"],[0.466,\"Memphis Grizzlies 2019-20\"],[0.603,\"Miami Heat 2019-20\"],[0.767,\"Milwaukee Bucks 2019-20\"],[0.297,\"Minnesota Timberwolves 2019-20\"],[0.417,\"New Orleans Pelicans 2019-20\"],[0.318,\"New York Knicks 2019-20\"],[0.611,\"Oklahoma City Thunder 2019-20\"],[0.452,\"Orlando Magic 2019-20\"],[0.589,\"Philadelphia 76ers 2019-20\"],[0.466,\"Phoenix Suns 2019-20\"],[0.473,\"Portland Trail Blazers 2019-20\"],[0.431,\"Sacramento Kings 2019-20\"],[0.451,\"San Antonio Spurs 2019-20\"],[0.736,\"Toronto Raptors 2019-20\"],[0.611,\"Utah Jazz 2019-20\"],[0.347,\"Washington Wizards 2019-20\"]],\"hovertemplate\":\"PC1=%{x}<br>PC2=%{y}<br>WIN%=%{customdata[0]}<br>TEAM=%{customdata[1]}<br>3PM=%{marker.color}<extra></extra>\",\"legendgroup\":\"\",\"marker\":{\"color\":[3.1,5.1,4.1,4.1,4.2,6.3,5.7,5.4,4.2,7.1,7.1,5.2,4.2,5.4,4.8,3.0,5.8,4.3,3.6,2.5,5.6,5.0,6.5,4.0,6.7,5.2,4.0,4.0,4.1,4.1,7.2,4.1,4.0,2.7,6.3,6.2,4.7,3.4,6.1,4.8,4.4,5.4,5.8,6.9,3.9,4.4,4.8,6.0,3.2,4.0,4.5,5.8,5.4,5.7,5.2,4.0,4.0,3.4,5.2,8.5,4.2,3.7,4.7,7.6,5.2,6.9,3.9,6.0,4.9,5.0,6.2,4.1,3.8,7.2,4.8,4.9,5.8,7.6,2.6,4.4,5.7,5.2,5.3,6.0,4.7,3.4,3.7,4.9,8.8,4.3,3.6,7.8,2.8,6.5,5.2,5.4,4.6,4.8,5.9,5.7,4.2,7.1,3.6,4.2,4.9,7.4,6.9,3.0,4.8,4.6,6.0,5.5,5.6,5.0,2.7,3.1,5.1,6.7,5.2,3.0,6.2,4.0,4.1,5.2,6.3,5.5,4.0,4.5,5.5,5.9,4.9,4.0,4.6,6.5,5.0,5.2,4.1,5.1,4.6,7.3,5.0,8.8,5.6,3.1,5.3,3.7,5.3,3.9,6.2,3.7,5.6,3.9,4.4,7.6,6.7,6.6,2.8,7.9,6.5,5.8,4.0,4.8,5.3,5.1,5.4,3.9,6.2,9.7,5.1,6.4,6.2,8.1,7.9,3.0,6.3,5.2,5.7,5.2,6.8,6.1,5.1,4.3,6.8,7.6,5.7,6.5,3.5,6.7,7.2,6.1,6.2,3.8,5.8,3.7,3.9,3.6,4.6,10.2,4.4,6.0,6.4,7.4,7.4,3.8,6.1,4.2,5.7,5.6,5.9,6.0,6.5,5.9,5.5,8.5,8.6,5.9,3.8,7.4,6.1,6.4,6.4,4.7,7.4,5.5,5.8,4.2,3.5,9.6,5.2,6.5,7.3,6.4,6.5,4.3,6.8,4.7,7.3,6.5,5.8,6.7,6.0,6.9,5.9,9.3,7.1,9.2,4.3,8.1,7.6,6.0,5.5,5.4,6.1,7.7,6.0,9.8,3.7,8.5,6.6,6.2,7.2,3.8,7.0,5.0,7.0,7.3,6.6,6.0,6.0,8.0,7.0,6.7,4.6,6.7,7.6,8.0,6.5,6.7,4.9,7.1,6.2,6.6,8.0,6.8,10.0,4.0,10.0,4.2,6.7,7.3,7.1,7.6,5.8,4.8,4.8,6.4,6.1,5.6,4.3,7.3,6.8,6.6,4.6,7.7,7.9,8.0,5.9,6.5,4.2,6.0,7.9,4.9,4.6,7.0,9.1,5.1,10.3,5.8,8.9,6.0,5.9,6.8,6.3,5.4,5.3,6.1,5.0,4.8,6.2,6.2,7.9,8.1,5.8,8.4,8.3,7.1,6.3,6.4,3.8,6.7,5.9,7.2,5.6,5.4,9.3,5.9,9.4,5.4,8.5,6.3,5.2,8.4,4.2,5.3,4.8,7.5,5.5,4.0,6.3,6.7,7.5,6.6,4.8,7.9,7.2,5.9,7.8,5.5,4.2,5.6,6.6,7.2,7.7,3.9,7.8,7.2,10.2,5.3,6.7,7.2,6.2,8.4,5.5,4.1,5.2,8.6,6.1,7.7,5.7,5.4,6.7,7.4,6.4,6.3,8.0,10.6,6.9,7.6,8.7,4.7,8.7,7.3,5.5,6.5,10.9,7.3,6.2,6.3,5.9,8.2,7.4,8.1,7.0,6.2,6.6,9.4,7.0,8.6,6.3,6.2,7.1,8.8,8.6,6.2,9.4,9.5,6.7,8.5,9.4,4.9,8.1,6.7,7.3,5.9,9.3,8.1,6.9,7.0,9.3,9.4,6.0,8.5,8.7,6.6,7.9,10.0,8.0,6.6,6.1,7.9,10.1,8.9,8.0,8.6,10.8,11.4,7.5,10.1,6.5,5.2,6.8,6.6,5.0,7.1,6.8,7.7,6.8,8.4,8.5,9.8,5.6,8.3,8.9,7.4,6.1,9.9,8.7,6.5,10.6,7.9,10.7,9.8,8.0,9.0,13.1,10.7,8.1,9.7,7.8,6.1,6.1,5.4,5.5,8.6,7.4,8.3,7.8,9.3,9.0,10.5,8.0,7.0,8.6,8.5,8.6,8.9,12.0,10.7,10.0,7.6,13.0,10.7,10.6,7.7,12.0,14.4,8.6,10.3,8.9,9.4,9.9,8.8,7.3,9.4,8.6,8.4,8.5,10.1,7.5,10.4,9.0,9.2,8.8,9.6,9.2,11.2,11.5,12.7,10.0,11.0,12.0,11.8,11.5,10.8,11.3,15.3,9.0,9.5,10.0,9.2,11.0,8.8,8.0,10.2,8.2,10.7,10.3,11.0,9.3,10.3,9.0,8.5,11.8,10.8,9.9,13.0,12.6,12.8,11.9,9.1,10.3,12.5,11.0,12.1,13.3,16.1,9.5,10.0,10.3,9.9,11.3,13.5,10.1,10.3,10.0,11.4,11.4,10.8,9.6,11.0,11.3,9.9,12.4,12.1,11.3,12.0,12.6,13.1,12.1,12.2,11.2,15.1,11.0,12.0,10.4,15.6,10.2,12.4,11.0,10.9,13.4,13.8,13.3,13.6,9.6,10.7,11.1,11.6,11.4,12.9,12.7,10.7,13.8,13.4,12.0],\"coloraxis\":\"coloraxis\",\"symbol\":\"circle\"},\"mode\":\"markers\",\"name\":\"\",\"orientation\":\"v\",\"showlegend\":false,\"type\":\"scatter\",\"x\":[-0.9728225824125418,-0.6427353720582397,-0.2259798551493192,-1.7105358044830414,-0.7572290594486615,-0.11548012176341352,-0.5051592305403111,-0.30680391871381313,-1.1086571944560586,-0.4722872456970644,0.14000876617045763,-1.1581143247849832,-0.047052712699196884,-0.2692680928256268,-0.2977060539464165,-0.06608292406002655,-0.6184116188383353,-0.5659196630949942,-0.7041086640827887,-0.862556532805749,-0.1929175158651701,-0.17013184042776688,-0.051153850672965656,-0.30605748782867337,-0.29754730117734884,-0.4723122318574501,-0.2715351996912479,-1.0136542781513314,-0.7930636156566996,-1.1565354478400451,-0.7635541558532714,-0.6422170439070262,-1.2905454199937048,-1.1293057107719293,-0.07583988945485386,-0.45800760470631374,-0.9056061603319006,-1.3323434210261984,-0.4416300660308975,-0.7067528876909064,-0.9562317065360505,-0.22129019239695139,-0.7197941033040703,-0.037247753370817586,-0.21915191354657534,-1.1358780178342958,-0.7171025411885527,-0.626390732849683,-0.7201096154212973,-0.5949583067856179,-0.29824167931813644,-0.13211441837473703,-0.17741822753038183,-0.5138902048935514,-0.3045244710103384,-0.3426632737255332,-0.8838653814593438,-1.2205848706935798,-0.8222026944391162,-0.34760338852290845,-0.678534167425533,-1.0973239885558963,-0.5921715443649083,0.26439311416832234,-1.0375373404169825,-0.35718027256612245,-1.1367187972516681,-0.9693099625771137,-0.5167859616482878,-0.6912324876945896,0.04834319782582847,-1.1172144931777443,-0.9203262732684273,-0.16478100120765815,-0.06181880954940663,-0.359833040545712,-0.7666686579820782,-0.1670773115259041,-0.9935543844179662,-0.6343001124855718,-0.3295340792272018,0.21723462336095445,-0.3600069082266863,-0.1798381849570825,-0.815196565001248,-0.8051622068934589,-0.7173881463196221,-0.7968936555193986,-0.6468917368879705,-0.8786336348698632,-1.3359239187555598,0.34693353868910315,-1.778556419750863,-0.58640612706688,-0.6637698999222165,-0.7613184899479432,-0.4887195495426831,-0.9818828974953051,-0.22471638365115928,-0.5081038598014928,-1.2870535631289983,-0.13343378661549882,-0.0914460413366891,-0.4987242430415665,-0.6360031461955985,-0.32639640113514623,-0.5045930087062201,-0.6763473335220027,-0.6654593590671356,-0.5029862682522815,0.20026494804904874,-0.4666449480924027,-0.6101046236921913,-1.0801797393281911,-0.6425425835996237,-0.8589304703862451,-0.9672794377332756,-0.6862268061496783,-1.1295915377471795,-0.888536687516718,0.21517008082213432,-0.7232659361413761,-0.8003090325466586,-0.7362035765784505,-0.7372502968835147,-0.6137309884816154,-1.1336320489061271,-0.25739403467889604,-0.5582486887842223,-0.8336937609574965,-0.3584392721167416,-0.11559188411948608,-0.5078245917239752,-0.8628119514974194,-0.7328584158078691,-0.9973591420057806,-1.1725842976118086,-0.8540332125070385,-0.8093724843973045,0.2629886374970656,-0.5641946277106952,-0.36975173290496105,-1.0538024904705514,-1.3640101121268051,-1.3166884746515195,-1.2458289427342526,-0.3759026592972676,-0.9679145140984023,-0.7284771567107173,-0.6606163568863584,-0.20273396068348498,-0.37456868437770463,-0.5703644501823903,-0.45955371531308636,-0.30384399659147204,-0.784473559518913,-0.6841577147211663,-0.5320115132778682,-0.6520770241402943,0.07544122684636599,-0.643236702871358,-0.2129985142540391,-0.7716792594031199,-1.2680502757614804,-0.6334125177014698,-0.7074854224927286,-0.45925616483944437,0.5988199843227369,-0.8798917948719398,0.08666982326601123,-0.2698430072520581,-0.4949837295927822,-0.2875465374149487,-1.0877259572617197,-0.6637361412880524,-0.5982426837420591,-0.25549556804193774,-0.5059675601562805,-0.07342276573665169,-0.14788947556108267,-0.11281095085892355,-0.060037879043988086,0.3552635970108633,-0.225030031293207,-0.5716261013465336,-0.34191490360338583,-0.05550846085351029,0.022385351525388227,-0.29978287408759346,0.2187629907304329,-0.11773670522206828,-0.48894838674769603,-0.07196151992567658,-0.5678579820539341,-0.9018961631622076,-0.5011615673140024,-0.18042161168846158,1.1764526316977815,-1.0096695109927338,0.022510658607925574,0.17703712980338793,-0.1408827313432081,-0.051199705214293956,-0.7156258285464134,-0.1823727476862729,-0.7862732205594761,-0.5685438843014352,-0.36092910291964264,0.010078404595734197,-0.136961326807939,0.26736603648444596,0.12235863639950689,0.017177357993492716,0.29164430486073395,0.14883270516866806,-0.474237710726398,-0.2678381858502877,0.1504786445133081,-0.24420454087830368,-0.13741649973115075,-0.2265796980470913,-0.21564096009479897,0.09407662305917533,-0.35366658880969754,-0.5306588537215887,-0.5366169617869967,-0.454750332857285,1.164518885677795,-0.6174074581610652,-0.0846852085381794,0.4494367469201365,-0.2073902295247843,0.30455399614159717,0.04152911925315599,-2.8707258753107275e-06,-0.25417341906741203,0.4059564828795895,-0.3071261699976691,-0.3284793118573271,-0.260219778368218,0.2866342388974175,0.6414305491970719,0.242270875804103,0.5792503889678662,0.06910477713410111,0.24853243419428397,-0.4913720264416117,0.8089510470334449,-0.12129641174762557,-0.585910193999669,-0.4145081111470095,-0.503875860259735,-0.2528419798767782,0.514736671005287,-0.5579927814917345,0.570794508869328,-0.4047015523449286,1.1264549556125132,-0.08390569663310937,-0.10814719940876234,0.27210271729404145,-0.4475970984519123,0.5540834936271399,0.5906695740995334,-0.09948014697632909,0.04820804679467491,0.38096546363072137,-0.4295942019327406,-0.01450232347738843,0.43691653720202167,0.3902354929923757,0.20951788439973346,-0.17268700580225366,0.1261768453732025,0.15399779901560945,0.2872421091744056,-0.46079515227393425,0.621048825978753,-0.6473039231889475,0.09052219840700709,-0.11448904738834119,-0.32985070314726966,-0.06809812246463331,0.08675018352250341,0.2548725070714349,-0.48950520524959246,0.4194855020344318,-0.3537372227004833,0.6023271743672698,0.16853436054538204,-0.35031329151868246,0.4543283305692215,0.1242136712145077,0.2379215132171066,-0.4989165955149944,0.3233132413356262,0.26584588883742816,-0.32719500886724934,-0.18502310295428925,0.580685087560221,0.5107154231595398,0.3087929293619037,-0.6465732231812947,0.35737934145439576,0.0671244385300612,0.010489490050763375,-0.2993098331710455,0.2825169084322818,-0.24679876885436203,-0.06718228271338066,0.05173074354264508,-0.492656032380159,-0.8053190743571073,0.21413619275078946,0.20807629322333926,0.00424929115780955,0.593744308516781,-0.1870350201393155,0.7967529794631142,0.08176656175759953,-0.2505500686197967,0.37073231223743297,0.32307845403978214,0.5371380500616809,-0.46675028338670643,0.02838561202141559,0.31595843435501264,-0.42684268733683733,0.17566161477680592,-0.4552751946343184,0.5636712069793122,0.58398738102971,-0.21382265561273067,0.17686622104356456,0.44238029789809913,-0.13464093844988298,-0.2526780685507247,0.3263647225810236,-0.12635684081650725,0.4505289129808644,-0.442377104876818,-0.3680225518723938,-0.45128494918419104,-0.06401073289548379,0.4359392447713893,0.22658155341114658,0.2443250604633917,0.20005669971207593,0.4703444581274585,-0.09115808513326287,-0.4137120043812748,0.6576617566617488,-0.33520397151638553,-0.043827580817145086,-0.6188767943490557,0.13408227107216794,-0.04067867181413891,-1.1468605696020013,0.06710521656153935,-0.8036997554091375,0.02067043711403826,0.25833280117124136,-0.8440071107465118,-0.02609398058268734,-0.08936691949269292,-0.31756337754449,-0.03058353898202032,-0.01876696797563661,-0.459942567380561,0.03869650773488749,-0.018610228687952906,-0.3457348779645395,-0.6251178241833292,-0.7196368093148575,-0.19007549883460215,0.10139272848793889,-0.1381249103277765,0.09400729480575203,0.06577110689276534,-0.17261629422262728,-0.5196355876575792,0.6975705526491348,-0.5778693268064696,-0.20861054245577945,-0.6524402752963208,0.3596935186347417,0.08837131728053224,-0.11969664789967005,-0.7368993560524982,-0.2807716159496241,-0.4460192695006048,0.38646120447774246,0.3348831948304458,-0.41315885318957796,0.31713162167685743,0.4332112597599503,-0.23698525462430955,0.42442768120365226,0.26527747929647116,-0.2924642465993589,0.8032409445281198,-0.024296673490467605,-0.3065618109311817,-0.3833268831387898,0.36090670134386893,0.6088230246615849,-0.23842481407235633,-0.1460182984400986,-0.3924414870884142,-0.028045462693820758,-0.21142971795860538,0.8151446084576986,-0.12106775637552616,-0.09924334747602184,-0.28770599172097494,0.4415037461102856,-0.3256956985744246,0.08074546078388861,0.12365630387308352,-0.20254183510617033,-0.16657576281553083,0.6915809811427692,0.11206166664687063,-0.25389450967347676,0.6103307329651296,0.4762385982403875,0.07921037420359885,0.7888865556539708,0.31663123630567486,-0.0017517776229967774,0.6377914151814391,-0.46788941981418275,0.41238144698805007,-0.08522566839084937,0.13222333196814762,0.6016724013389276,-0.18140041317070518,-0.453323478251079,0.3148567454283424,0.664938478483988,-0.25481166200759625,1.0023325764266644,0.1722222484955704,-0.36686522920416614,0.3197010121095089,0.7745806831446972,0.2928261857742169,-0.013859159942803007,-0.15253839345178213,0.2148242004597015,0.4789870454764791,0.6367914996676945,-0.08057564510445711,-0.021415007855904934,1.2812638481893086,0.24776079534886747,0.09232896965898182,1.010928928801772,-0.1902611639215034,0.16090233617375557,-0.23710231821306704,-0.004352656974622842,-0.4715526418206687,0.17571710464506995,-0.5253651707071105,0.2090795940589044,-0.20530891911873167,-0.825894031777377,0.17247168355628933,0.6386833545502067,-0.19182612825815612,0.7331270825132581,0.3380753486873011,-0.2455715894583479,0.24740707856959487,0.6926073429290841,0.504005569901198,-0.043076912250194985,0.6559356683577492,0.28655641573183493,0.7506682872451397,0.5395023507979777,0.10201699104363351,0.17784678781757324,1.6526023875750704,0.29287714209664334,0.30808616837457287,0.7450782079566721,-0.45993651971644384,-0.11896795388280727,0.29721983497543497,-0.053192531565750385,0.10617773146096239,0.3713603907242518,0.06170813558963531,0.6989195998590353,0.3353013700308053,-0.32354411128725663,-0.13996078234437895,0.41898543572164615,0.4335054477700497,1.0283002342160246,0.33538047902544704,-0.022243526454098196,0.5856367886076224,0.3564747545586015,0.9261435380699967,0.280247230008001,0.7579691490848692,0.3444657113115859,1.0625956357708755,0.42176332307236747,0.9211775931394974,0.42690154792329454,1.729444667183427,1.1768369422379101,0.5934368321354516,1.007706011741157,0.11105978992388083,0.22644424292432302,0.4127657025785919,0.5879560835835794,0.3999805009592049,0.6398438765115007,0.2624677982296327,0.32767017673657334,0.19540339836074477,0.17365088959990016,0.07381111848193121,0.595028629701066,0.3533257787728465,0.9058637291919412,0.5195934572107566,0.535391336180891,0.8034280330368846,0.40420686566757547,0.7451464007870998,0.5884555252332676,0.7453043842057935,0.46100516747633463,1.1132928744416788,0.6696400441161442,0.9376719752872462,0.6081115163914157,1.5765516214299413,1.251371230150204,0.7033906311963729,0.6423733854570085,0.5884287318882279,0.0075436535619174344,0.6348244311991309,0.6842094330381708,0.8223968195130692,1.2271082753405262,0.43838931469711295,0.5750893464108701,0.4455462504669523,1.004615319421832,0.0659667563138771,0.6088305419367209,0.16157429984794028,0.6453379049258217,1.1870967281521934,0.7641011066510298,0.758853650889584,0.7534753707267398,1.37393377707334,0.8290592372390768,0.8985968923078996,0.36040534434824173,0.23315362840530665,0.7789909703179286,1.1495152698600142,0.5993928824136381,1.797924298648669,1.0420112405359367,0.9836453314182568,0.9916190028442726,0.8871650506785952,0.5052082360073471,0.6312135493235239,1.7417058917433434,0.847303646510694,1.1007925139086447,0.12941715927444164,0.9668127027713243,1.0187344367937492,1.230489450825368,0.3526557997239858,1.0935601327419475,1.0762038908748883,1.298267260209812,1.3612042383746945,1.179398377769932,1.0323250775455357,0.5094275038875395,1.092201362571712,0.8786275875988213,0.26662730700135984,0.4175738083763233,0.3685736837474576,1.4894103844153976,1.099308864456013,0.5230718104783951,0.4127329636521881,1.1209582033580134,1.1149075369776564,1.2309558904952285,1.1805741058520187,1.028627680208686,1.2313633862777078,1.763207759545027,0.709226587247821,1.08976456824795,0.24874175259983486,0.9581362380916945,0.7673083076225365,1.0982042446692222,1.1109271977358368,1.002545235323556,0.8649448169169809,1.2338817526656836,1.177514583198749,1.0547811814613524,0.8746427019969664],\"xaxis\":\"x\",\"y\":[0.16685089928502742,-0.03502826831733866,-0.7025875583928141,0.3257277315499102,-0.055407534129191575,-0.04406096101073727,-0.10286803158177801,-0.2431413278950742,0.3937429957792123,-0.10927368478905938,-0.6277171668191702,0.7290130542982916,-1.0326154799920781,-0.7357440244704813,-0.331010193200717,-0.7211122448361054,0.007998903516236002,-0.3888586061865882,-0.1766022643495221,-0.4322112602237717,-0.7340267574453442,-0.9854773555416015,-0.21192147814231474,-0.8893030191652492,-0.21611978056002068,-0.3975589613269625,-0.9541584506157135,0.13007989536483,-0.018992576201580656,0.22336358486095004,-0.05244213755839168,-0.7027994706574339,0.23183991664709167,-0.059949347390760105,-0.5202525287718018,-0.16794383818320893,-0.06189407273001909,0.41679122950021136,-0.3802102878208036,-0.417427498233157,-0.09813039074435266,-0.7261550693621405,-0.5015089853986298,-0.5488433032313876,-0.6094919436042454,0.1900004119153368,-0.5097269255514492,-0.30992884475595023,-0.7305792069544035,-0.5447315586360574,-0.870444581410295,-0.6159558444597966,-1.0852943560459425,-0.32189073175294064,-0.6096610393757319,-1.0351318810591692,0.04251730943683357,0.18192972594333334,0.0907065684928508,-0.25577220495633785,-0.5218265684227091,0.18252994049402807,-0.2036742355967049,-0.4869994710887335,0.1761111236194543,-0.6013871223896259,0.15440007718559895,0.1738295424996221,-0.4114832491718463,-0.3180278498965624,-0.8323574421419769,0.16829305088016389,-0.32160354090597293,-0.30939138045547243,-0.6764419088880728,-0.7066890286555213,0.01787714714079983,-0.25684089960700274,-0.517207654993477,-0.165641038706783,-0.6460464399513186,-0.8362983655711194,-0.8340559126849567,-0.579725825899281,-0.3780594103933547,-0.7296650320362447,-0.29241368117470873,-0.12069007705014878,-0.07018466938219628,0.055535967967541754,0.3670677740579266,-0.7519455309700518,0.2944365322391047,-0.6405054222219392,-0.18176113281445186,-0.3983039924243356,-0.6716444128183977,0.009985407181744798,-0.5677495020923222,-0.08355002327929471,0.171705306218774,-0.3166504617937773,-0.6705277295043386,-0.7718911292541112,-0.5727961354764394,-0.09358079585340164,-0.12969704850550387,-0.49981411752576527,-0.31515881665213497,-0.6246189811470833,-0.789309094667519,-0.8019761563838511,-0.3418845074485159,0.20641100123709158,-0.997136457970655,-0.3292945437514074,0.05477008857531858,-0.11520959396500295,0.18534686001002254,-0.269011090087574,-0.5663126632470484,-0.41051966794755146,-0.951690770012274,-0.22518805699279085,-0.47687244308387483,-0.8648568688269336,-0.022016439632748217,-0.7796502663757897,-0.6248290870812864,-0.2781572321559452,-0.4446332648516891,-0.9414082746273241,-0.7126028479199142,-0.2666344933660764,-0.2424322305823246,0.3722456798671024,-0.21118313203947978,0.11104481224195903,-0.3828748610881036,-0.7986030680112453,-0.9561517707940195,-0.17785297759085306,-0.08817821242916776,-0.46309077935292975,0.1976576620570916,0.49933940991827236,-0.417349024466133,0.09373835826889505,-0.34258129120373104,-0.5306588462434749,-0.6722482260428292,-0.6463517989554075,-0.8615248648963238,0.025614256995467585,-0.649775388803344,-0.35021199060012415,-0.575847979749536,0.01826678836823916,-0.5300039541879292,-0.9534457287399056,-0.1362303097275603,-0.580078325744864,-0.31875524430528496,0.24162534697537583,-0.06269012894909148,-0.14277449616882867,-0.15313248344175817,-0.661511125747225,-0.11957595178543541,-0.5149382305199587,-0.9815114377696437,-0.38637786832399595,-0.016799880012803352,-0.21428440589966186,-0.16018825339503986,0.36991370760241504,0.14213144643735975,0.44800151651718756,0.07698252487037346,-0.11665644150320452,-0.5016384924722121,-0.08706615163496943,-0.7937715878715949,0.35165467832876335,0.1182807958919322,-0.11011120937791176,-0.2273138074198382,-0.1196236365753253,-0.24909212226340866,-0.3129370242879324,0.11654692201321483,0.009862656442601639,-0.2196459225931854,0.22136121573879178,0.5048694825514051,0.007064327635265076,0.1456646966615137,-0.2713931012674666,0.659293145550916,-0.09012738258519899,-0.6034039217421912,0.3296462040624108,0.4657525531084533,-0.08121492015960266,0.05048311870931413,0.31306708489989366,0.367952030964005,0.2630106072388474,-0.3229558804103963,-0.2277733585195137,-0.573858640161134,-0.04622811093274792,-0.4780430099439264,0.24490229412470985,-0.24917003497529092,0.2245536805986013,-0.17943807257908928,0.09819514307990476,0.5017671569681244,-0.014385793844227834,0.47972030606717486,0.16395624961376776,0.009738731003972658,0.2209312328116813,0.30337485403464576,-0.10629612995731706,0.09796345407437075,-0.44984642494000865,0.3367861347115948,0.3277910120925831,-0.667656181587466,0.2799160644270295,-0.05623624772423297,-0.39548592839232616,0.217331501644784,-0.0032888573096754954,-0.8197735552861395,0.34051651953936946,0.24560460568540532,0.04181293407360847,-0.3337329674735897,-0.17100111587758446,-0.7304069486726735,0.23791268624095957,-0.32905048813302945,0.34373795277077546,0.4628592631206382,-0.4560413979382097,0.7602152021331451,0.6312613706453705,0.49107238121644137,0.6487561444763646,0.19328722073234447,-0.33940144947311857,0.6959857833563424,-0.1801137022623953,-0.05780251409246037,-0.4101902388246555,-0.009496200886504876,0.34469021252141147,-0.33912483560594087,0.7070760492977469,-0.2366984414844522,-0.6568849258193898,0.0824008604499529,-0.10374351383867189,-0.673958055959546,0.02948677638114928,0.08157886635434147,-0.6621199262389694,-0.14426560138349565,-0.2741662368930837,-0.0529325491294297,0.48331334093508405,-0.21897105168254505,0.32794894274024017,0.672496796468859,-0.4913704204432871,0.511843080935831,0.009567578382408907,0.17338986351281296,0.5281338647673953,0.2750332854418472,-0.15764758885571573,0.603387955391791,0.4716370581299324,-0.32868864718190166,-0.05034844612123607,-0.11391762234067915,-0.45628159451032935,0.8078333215953297,-0.2573120417539413,0.1741852937001454,-0.31380727068913217,0.5997849461516683,-0.3314418163207314,-0.37933349587752685,-0.12777110674826225,0.13156851025035693,-0.5762668459737965,-0.2989122216355109,-0.17202127246102722,0.42494848457432677,0.5882998037506517,0.2769484670435883,0.4731956756957734,0.383774954554819,-0.23755229462431188,0.2613916468169189,-0.13116488204673182,0.09639009023352302,0.8972305183450536,0.7876972150517051,0.2570236864594748,0.5201091500519565,-0.2282548727582768,-0.3822139772289265,0.27253975648025364,-0.2555561584040119,-0.29370235852993354,0.511103495178782,-0.287876854492797,0.14032524149549158,-0.562734515584614,0.4846339884509384,-0.022743969266137736,-0.5923257101232958,0.22188976534015845,-0.5979568449599411,0.7510671979942646,-0.40856831526257403,-0.15611220470350354,0.2386295374411363,0.29007649995451973,-0.02672281723066665,0.30229168705039505,0.22492635614431492,-0.434074840455646,-0.11237731285290098,-0.5614261460386026,0.1826400717906973,0.7330911425711768,0.46380278858694135,-0.1266134621945009,0.1510979069945724,-0.28702878221386025,-0.2580116275534417,-0.09537877758127924,0.17275965635000218,-0.18033301769605503,0.5661355716941102,-0.37385174569800433,0.4973372740355287,-0.0174095407386509,0.6359975889455113,-0.2684281009594114,-0.393403207607614,0.9836292322088293,-0.7647615913965133,0.6185604468633913,-0.027275930226094543,-0.17788475854242808,0.3861366924520883,0.2995499248662033,0.07778296501478252,-0.16860949459915364,-0.19378228499381644,-0.2623788315373895,-0.17331793733228046,-0.4897260650668357,-0.003211075706156791,0.37564989522861053,0.5143783360936112,0.1499726641714033,-0.04736607394891226,-0.3774738526621122,0.009325740172326197,-0.3461161193510912,0.01778670223259177,0.1568348545483825,0.6717025213302271,-0.4683933283614184,0.17578755322179823,-0.11328154123920763,0.44950868659427307,-0.03059208594494199,-0.002836161885543095,-0.11521632642802845,0.7637076305275843,-0.16180504976515483,0.5722755437142921,0.07895595977814247,-0.3284743248618329,0.340243126908331,0.03187149754019727,0.021921945400359622,-0.252143475609919,-0.5532005620450918,0.009273943019988785,-0.38644707135226314,-0.6919484630755429,0.17324341427712533,0.22929744291048332,0.3137890181436593,-0.07105714979656458,-0.6882820945762792,0.5652786842937074,0.22836591382638768,0.5005844614761683,0.3389518002552127,0.5728661276537833,-0.4493003904694445,0.17862401831985564,-0.06765632832668601,0.24234148102354286,0.1089449397542386,0.49142101332550203,0.12501141609075464,0.056121373117302566,-0.2248757982618721,0.4060626777345508,-0.12386398922838432,0.38044695890041275,0.44684168421560905,-0.14679244038569397,-0.12592570132661865,-0.265012513731611,-0.44168808999503917,0.5932879393440995,-0.20468209276731864,-0.37994370452163484,0.6511515852484789,0.05535822529863444,0.2250394826578136,0.20978795530947503,-0.3765469077955086,0.550907297162706,1.0436217416602431,0.12373357159850255,-0.1407465654330479,0.4832909965974743,-0.49229779853937333,-0.08326669821086227,0.5974553091472499,-0.013313571237073048,-0.39406420587351576,0.19594009378182053,0.33515569106744664,0.41057452025168795,-0.13359284460107335,-0.14889380677090858,0.016972171358468537,0.562306130616394,0.2970472920590721,-0.6490443253563154,0.015246974419277614,0.15416463371526695,-0.40580023273605426,0.6519593114880625,-0.21831412087599184,0.20664863321403606,-0.034631756807020325,0.6841019932808569,-0.04081605084812414,0.7029632850544214,0.11366236901760843,0.6116815564882614,0.8516820908937182,0.3746182712510164,-0.058620609953394846,0.4199214609075691,-0.3811940952545326,0.014243553351902095,-0.0028554213194784193,-0.1323909259092809,-0.10101049332878702,0.060796043017035915,0.6295676176249965,0.11599528382526582,0.2476943231994848,-0.18559224194237223,0.28423399721706744,0.42586823847454125,0.32944855598930306,-0.6449260016369146,0.25082932190986706,0.11377387505841101,-0.16414203210197148,1.054440113928128,0.279898870595937,-0.09563951536795177,0.2655864918879392,0.23750019516234638,0.5389344253367073,0.32916250968075833,-0.34302851975985277,0.30606281612708197,1.0256095346424285,0.8346683486030563,0.268307731567717,0.36323097394767656,-0.7899960850585288,-0.11398889830454695,0.06532831116816665,0.2250842077296224,0.20862010552336632,0.03694113803155274,0.9124652764036351,0.24247237424233745,0.10714203057963907,0.1288179999571613,0.4738262934035052,0.18822435681492264,0.3710971379855549,-0.7699775518847958,0.0220341851446204,0.17962528261007024,-0.09418417864656596,0.8252038028306513,0.14318960667719943,0.20975764033197455,0.037425878944785884,0.16521993981114558,0.40350605099248427,0.4671360310276501,0.24293973485133324,0.6819343867572503,0.6122912493373864,0.8009462609630088,0.36791535040690587,0.4273824633024344,-0.4760580975659371,0.03750153556991741,-0.16399885939557185,0.07142112681406572,0.7058667282304444,0.006907769925366241,0.6728361830101112,0.3553259035874135,0.8050223317136471,0.2297871020929507,0.629045968468174,0.10232935882287804,0.32460030529824146,-0.4467704323965554,-0.10809525247412771,0.15508811779614198,0.32159850834608567,0.4658317287369044,0.6735669491230222,0.22551146197359964,0.1375096759270858,0.026623295404459863,0.09029205188666947,0.45802400889784933,0.11857916084061526,0.6244274245460232,-0.16021845846893112,1.03884603622394,0.22351992656111097,0.7147521904814845,-0.06828971774114831,-0.20551044859758963,-0.04889508009351114,0.10607469350997153,0.8413262741289969,-0.0007320643551383281,0.4850694194336538,0.5124165591924895,0.9322320380484853,1.0872565263311478,0.5194683796067253,-0.08129233759182744,0.4581382935751309,-0.27065714261408896,0.2624513650507185,-0.0628091066658626,0.28365627522411563,0.48210447130737083,0.3779884848228216,0.29573389818123924,-0.1400290499745413,0.4287606704665164,0.43854639480888064,1.0910677572967336,0.2984037195693276,0.20809210298978478,-0.023806140823319406,0.9309409707151645,0.10190542189236859,0.48903101122218207,0.09137900178264599,-0.08048865065917858,-0.09896634397661436,0.5398170440836935,0.9863792057819964,0.004323644091363621,0.47339149782713047,0.6985816875632256,0.6808187718916475,0.9084806741174999,0.14632522843820478,-0.009255855102706169,0.5606195476193238,0.783726851209567,0.48875515183449436,0.05109572412019113,0.0008869897699510163,-0.19183107626440088,0.34615603871639095,-0.013340628912027124,-0.17603222902988502,0.81031516834391,0.47766831079290606,0.7301699548799199,0.1838718139827628,0.33574044490218297,0.002813508397463208,0.2670944720536417,0.6112611440129385,0.5221275777441469,0.3271259375765123,-0.06137045133305062,0.21129485730018446,0.7193961847130526],\"yaxis\":\"y\"}],                        {\"coloraxis\":{\"colorbar\":{\"title\":{\"text\":\"3PM\"}},\"colorscale\":[[0.0,\"#0d0887\"],[0.1111111111111111,\"#46039f\"],[0.2222222222222222,\"#7201a8\"],[0.3333333333333333,\"#9c179e\"],[0.4444444444444444,\"#bd3786\"],[0.5555555555555556,\"#d8576b\"],[0.6666666666666666,\"#ed7953\"],[0.7777777777777778,\"#fb9f3a\"],[0.8888888888888888,\"#fdca26\"],[1.0,\"#f0f921\"]]},\"legend\":{\"tracegroupgap\":0},\"margin\":{\"t\":60},\"template\":{\"data\":{\"bar\":[{\"error_x\":{\"color\":\"#2a3f5f\"},\"error_y\":{\"color\":\"#2a3f5f\"},\"marker\":{\"line\":{\"color\":\"#E5ECF6\",\"width\":0.5},\"pattern\":{\"fillmode\":\"overlay\",\"size\":10,\"solidity\":0.2}},\"type\":\"bar\"}],\"barpolar\":[{\"marker\":{\"line\":{\"color\":\"#E5ECF6\",\"width\":0.5},\"pattern\":{\"fillmode\":\"overlay\",\"size\":10,\"solidity\":0.2}},\"type\":\"barpolar\"}],\"carpet\":[{\"aaxis\":{\"endlinecolor\":\"#2a3f5f\",\"gridcolor\":\"white\",\"linecolor\":\"white\",\"minorgridcolor\":\"white\",\"startlinecolor\":\"#2a3f5f\"},\"baxis\":{\"endlinecolor\":\"#2a3f5f\",\"gridcolor\":\"white\",\"linecolor\":\"white\",\"minorgridcolor\":\"white\",\"startlinecolor\":\"#2a3f5f\"},\"type\":\"carpet\"}],\"choropleth\":[{\"colorbar\":{\"outlinewidth\":0,\"ticks\":\"\"},\"type\":\"choropleth\"}],\"contour\":[{\"colorbar\":{\"outlinewidth\":0,\"ticks\":\"\"},\"colorscale\":[[0.0,\"#0d0887\"],[0.1111111111111111,\"#46039f\"],[0.2222222222222222,\"#7201a8\"],[0.3333333333333333,\"#9c179e\"],[0.4444444444444444,\"#bd3786\"],[0.5555555555555556,\"#d8576b\"],[0.6666666666666666,\"#ed7953\"],[0.7777777777777778,\"#fb9f3a\"],[0.8888888888888888,\"#fdca26\"],[1.0,\"#f0f921\"]],\"type\":\"contour\"}],\"contourcarpet\":[{\"colorbar\":{\"outlinewidth\":0,\"ticks\":\"\"},\"type\":\"contourcarpet\"}],\"heatmap\":[{\"colorbar\":{\"outlinewidth\":0,\"ticks\":\"\"},\"colorscale\":[[0.0,\"#0d0887\"],[0.1111111111111111,\"#46039f\"],[0.2222222222222222,\"#7201a8\"],[0.3333333333333333,\"#9c179e\"],[0.4444444444444444,\"#bd3786\"],[0.5555555555555556,\"#d8576b\"],[0.6666666666666666,\"#ed7953\"],[0.7777777777777778,\"#fb9f3a\"],[0.8888888888888888,\"#fdca26\"],[1.0,\"#f0f921\"]],\"type\":\"heatmap\"}],\"heatmapgl\":[{\"colorbar\":{\"outlinewidth\":0,\"ticks\":\"\"},\"colorscale\":[[0.0,\"#0d0887\"],[0.1111111111111111,\"#46039f\"],[0.2222222222222222,\"#7201a8\"],[0.3333333333333333,\"#9c179e\"],[0.4444444444444444,\"#bd3786\"],[0.5555555555555556,\"#d8576b\"],[0.6666666666666666,\"#ed7953\"],[0.7777777777777778,\"#fb9f3a\"],[0.8888888888888888,\"#fdca26\"],[1.0,\"#f0f921\"]],\"type\":\"heatmapgl\"}],\"histogram\":[{\"marker\":{\"pattern\":{\"fillmode\":\"overlay\",\"size\":10,\"solidity\":0.2}},\"type\":\"histogram\"}],\"histogram2d\":[{\"colorbar\":{\"outlinewidth\":0,\"ticks\":\"\"},\"colorscale\":[[0.0,\"#0d0887\"],[0.1111111111111111,\"#46039f\"],[0.2222222222222222,\"#7201a8\"],[0.3333333333333333,\"#9c179e\"],[0.4444444444444444,\"#bd3786\"],[0.5555555555555556,\"#d8576b\"],[0.6666666666666666,\"#ed7953\"],[0.7777777777777778,\"#fb9f3a\"],[0.8888888888888888,\"#fdca26\"],[1.0,\"#f0f921\"]],\"type\":\"histogram2d\"}],\"histogram2dcontour\":[{\"colorbar\":{\"outlinewidth\":0,\"ticks\":\"\"},\"colorscale\":[[0.0,\"#0d0887\"],[0.1111111111111111,\"#46039f\"],[0.2222222222222222,\"#7201a8\"],[0.3333333333333333,\"#9c179e\"],[0.4444444444444444,\"#bd3786\"],[0.5555555555555556,\"#d8576b\"],[0.6666666666666666,\"#ed7953\"],[0.7777777777777778,\"#fb9f3a\"],[0.8888888888888888,\"#fdca26\"],[1.0,\"#f0f921\"]],\"type\":\"histogram2dcontour\"}],\"mesh3d\":[{\"colorbar\":{\"outlinewidth\":0,\"ticks\":\"\"},\"type\":\"mesh3d\"}],\"parcoords\":[{\"line\":{\"colorbar\":{\"outlinewidth\":0,\"ticks\":\"\"}},\"type\":\"parcoords\"}],\"pie\":[{\"automargin\":true,\"type\":\"pie\"}],\"scatter\":[{\"marker\":{\"colorbar\":{\"outlinewidth\":0,\"ticks\":\"\"}},\"type\":\"scatter\"}],\"scatter3d\":[{\"line\":{\"colorbar\":{\"outlinewidth\":0,\"ticks\":\"\"}},\"marker\":{\"colorbar\":{\"outlinewidth\":0,\"ticks\":\"\"}},\"type\":\"scatter3d\"}],\"scattercarpet\":[{\"marker\":{\"colorbar\":{\"outlinewidth\":0,\"ticks\":\"\"}},\"type\":\"scattercarpet\"}],\"scattergeo\":[{\"marker\":{\"colorbar\":{\"outlinewidth\":0,\"ticks\":\"\"}},\"type\":\"scattergeo\"}],\"scattergl\":[{\"marker\":{\"colorbar\":{\"outlinewidth\":0,\"ticks\":\"\"}},\"type\":\"scattergl\"}],\"scattermapbox\":[{\"marker\":{\"colorbar\":{\"outlinewidth\":0,\"ticks\":\"\"}},\"type\":\"scattermapbox\"}],\"scatterpolar\":[{\"marker\":{\"colorbar\":{\"outlinewidth\":0,\"ticks\":\"\"}},\"type\":\"scatterpolar\"}],\"scatterpolargl\":[{\"marker\":{\"colorbar\":{\"outlinewidth\":0,\"ticks\":\"\"}},\"type\":\"scatterpolargl\"}],\"scatterternary\":[{\"marker\":{\"colorbar\":{\"outlinewidth\":0,\"ticks\":\"\"}},\"type\":\"scatterternary\"}],\"surface\":[{\"colorbar\":{\"outlinewidth\":0,\"ticks\":\"\"},\"colorscale\":[[0.0,\"#0d0887\"],[0.1111111111111111,\"#46039f\"],[0.2222222222222222,\"#7201a8\"],[0.3333333333333333,\"#9c179e\"],[0.4444444444444444,\"#bd3786\"],[0.5555555555555556,\"#d8576b\"],[0.6666666666666666,\"#ed7953\"],[0.7777777777777778,\"#fb9f3a\"],[0.8888888888888888,\"#fdca26\"],[1.0,\"#f0f921\"]],\"type\":\"surface\"}],\"table\":[{\"cells\":{\"fill\":{\"color\":\"#EBF0F8\"},\"line\":{\"color\":\"white\"}},\"header\":{\"fill\":{\"color\":\"#C8D4E3\"},\"line\":{\"color\":\"white\"}},\"type\":\"table\"}]},\"layout\":{\"annotationdefaults\":{\"arrowcolor\":\"#2a3f5f\",\"arrowhead\":0,\"arrowwidth\":1},\"autotypenumbers\":\"strict\",\"coloraxis\":{\"colorbar\":{\"outlinewidth\":0,\"ticks\":\"\"}},\"colorscale\":{\"diverging\":[[0,\"#8e0152\"],[0.1,\"#c51b7d\"],[0.2,\"#de77ae\"],[0.3,\"#f1b6da\"],[0.4,\"#fde0ef\"],[0.5,\"#f7f7f7\"],[0.6,\"#e6f5d0\"],[0.7,\"#b8e186\"],[0.8,\"#7fbc41\"],[0.9,\"#4d9221\"],[1,\"#276419\"]],\"sequential\":[[0.0,\"#0d0887\"],[0.1111111111111111,\"#46039f\"],[0.2222222222222222,\"#7201a8\"],[0.3333333333333333,\"#9c179e\"],[0.4444444444444444,\"#bd3786\"],[0.5555555555555556,\"#d8576b\"],[0.6666666666666666,\"#ed7953\"],[0.7777777777777778,\"#fb9f3a\"],[0.8888888888888888,\"#fdca26\"],[1.0,\"#f0f921\"]],\"sequentialminus\":[[0.0,\"#0d0887\"],[0.1111111111111111,\"#46039f\"],[0.2222222222222222,\"#7201a8\"],[0.3333333333333333,\"#9c179e\"],[0.4444444444444444,\"#bd3786\"],[0.5555555555555556,\"#d8576b\"],[0.6666666666666666,\"#ed7953\"],[0.7777777777777778,\"#fb9f3a\"],[0.8888888888888888,\"#fdca26\"],[1.0,\"#f0f921\"]]},\"colorway\":[\"#636efa\",\"#EF553B\",\"#00cc96\",\"#ab63fa\",\"#FFA15A\",\"#19d3f3\",\"#FF6692\",\"#B6E880\",\"#FF97FF\",\"#FECB52\"],\"font\":{\"color\":\"#2a3f5f\"},\"geo\":{\"bgcolor\":\"white\",\"lakecolor\":\"white\",\"landcolor\":\"#E5ECF6\",\"showlakes\":true,\"showland\":true,\"subunitcolor\":\"white\"},\"hoverlabel\":{\"align\":\"left\"},\"hovermode\":\"closest\",\"mapbox\":{\"style\":\"light\"},\"paper_bgcolor\":\"white\",\"plot_bgcolor\":\"#E5ECF6\",\"polar\":{\"angularaxis\":{\"gridcolor\":\"white\",\"linecolor\":\"white\",\"ticks\":\"\"},\"bgcolor\":\"#E5ECF6\",\"radialaxis\":{\"gridcolor\":\"white\",\"linecolor\":\"white\",\"ticks\":\"\"}},\"scene\":{\"xaxis\":{\"backgroundcolor\":\"#E5ECF6\",\"gridcolor\":\"white\",\"gridwidth\":2,\"linecolor\":\"white\",\"showbackground\":true,\"ticks\":\"\",\"zerolinecolor\":\"white\"},\"yaxis\":{\"backgroundcolor\":\"#E5ECF6\",\"gridcolor\":\"white\",\"gridwidth\":2,\"linecolor\":\"white\",\"showbackground\":true,\"ticks\":\"\",\"zerolinecolor\":\"white\"},\"zaxis\":{\"backgroundcolor\":\"#E5ECF6\",\"gridcolor\":\"white\",\"gridwidth\":2,\"linecolor\":\"white\",\"showbackground\":true,\"ticks\":\"\",\"zerolinecolor\":\"white\"}},\"shapedefaults\":{\"line\":{\"color\":\"#2a3f5f\"}},\"ternary\":{\"aaxis\":{\"gridcolor\":\"white\",\"linecolor\":\"white\",\"ticks\":\"\"},\"baxis\":{\"gridcolor\":\"white\",\"linecolor\":\"white\",\"ticks\":\"\"},\"bgcolor\":\"#E5ECF6\",\"caxis\":{\"gridcolor\":\"white\",\"linecolor\":\"white\",\"ticks\":\"\"}},\"title\":{\"x\":0.05},\"xaxis\":{\"automargin\":true,\"gridcolor\":\"white\",\"linecolor\":\"white\",\"ticks\":\"\",\"title\":{\"standoff\":15},\"zerolinecolor\":\"white\",\"zerolinewidth\":2},\"yaxis\":{\"automargin\":true,\"gridcolor\":\"white\",\"linecolor\":\"white\",\"ticks\":\"\",\"title\":{\"standoff\":15},\"zerolinecolor\":\"white\",\"zerolinewidth\":2}}},\"xaxis\":{\"anchor\":\"y\",\"domain\":[0.0,1.0],\"title\":{\"text\":\"PC1\"}},\"yaxis\":{\"anchor\":\"x\",\"domain\":[0.0,1.0],\"title\":{\"text\":\"PC2\"}}},                        {\"responsive\": true}                    ).then(function(){\n",
       "                            \n",
       "var gd = document.getElementById('e0912e0b-9f8a-40cc-aa71-1c0bf6c5f359');\n",
       "var x = new MutationObserver(function (mutations, observer) {{\n",
       "        var display = window.getComputedStyle(gd).display;\n",
       "        if (!display || display === 'none') {{\n",
       "            console.log([gd, 'removed!']);\n",
       "            Plotly.purge(gd);\n",
       "            observer.disconnect();\n",
       "        }}\n",
       "}});\n",
       "\n",
       "// Listen for the removal of the full notebook cells\n",
       "var notebookContainer = gd.closest('#notebook-container');\n",
       "if (notebookContainer) {{\n",
       "    x.observe(notebookContainer, {childList: true});\n",
       "}}\n",
       "\n",
       "// Listen for the clearing of the current output cell\n",
       "var outputEl = gd.closest('.output');\n",
       "if (outputEl) {{\n",
       "    x.observe(outputEl, {childList: true});\n",
       "}}\n",
       "\n",
       "                        })                };                });            </script>        </div>"
      ]
     },
     "metadata": {},
     "output_type": "display_data"
    }
   ],
   "source": [
    "visualize_KMeans_clustering(normalized_team_stats,teams,team_stats,8,2,color='3PM')"
   ]
  },
  {
   "cell_type": "code",
   "execution_count": 186,
   "metadata": {},
   "outputs": [
    {
     "data": {
      "application/vnd.plotly.v1+json": {
       "config": {
        "plotlyServerURL": "https://plot.ly"
       },
       "data": [
        {
         "customdata": [
          [
           0.341,
           "Atlanta Hawks 1999-00"
          ],
          [
           0.427,
           "Boston Celtics 1999-00"
          ],
          [
           0.598,
           "Charlotte Hornets 1999-00"
          ],
          [
           0.207,
           "Chicago Bulls 1999-00"
          ],
          [
           0.39,
           "Cleveland Cavaliers 1999-00"
          ],
          [
           0.488,
           "Dallas Mavericks 1999-00"
          ],
          [
           0.427,
           "Denver Nuggets 1999-00"
          ],
          [
           0.512,
           "Detroit Pistons 1999-00"
          ],
          [
           0.232,
           "Golden State Warriors 1999-00"
          ],
          [
           0.415,
           "Houston Rockets 1999-00"
          ],
          [
           0.683,
           "Indiana Pacers 1999-00"
          ],
          [
           0.183,
           "Los Angeles Clippers 1999-00"
          ],
          [
           0.817,
           "Los Angeles Lakers 1999-00"
          ],
          [
           0.634,
           "Miami Heat 1999-00"
          ],
          [
           0.512,
           "Milwaukee Bucks 1999-00"
          ],
          [
           0.61,
           "Minnesota Timberwolves 1999-00"
          ],
          [
           0.378,
           "New Jersey Nets 1999-00"
          ],
          [
           0.61,
           "New York Knicks 1999-00"
          ],
          [
           0.5,
           "Orlando Magic 1999-00"
          ],
          [
           0.598,
           "Philadelphia 76ers 1999-00"
          ],
          [
           0.646,
           "Phoenix Suns 1999-00"
          ],
          [
           0.72,
           "Portland Trail Blazers 1999-00"
          ],
          [
           0.537,
           "Sacramento Kings 1999-00"
          ],
          [
           0.646,
           "San Antonio Spurs 1999-00"
          ],
          [
           0.549,
           "Seattle SuperSonics 1999-00"
          ],
          [
           0.549,
           "Toronto Raptors 1999-00"
          ],
          [
           0.671,
           "Utah Jazz 1999-00"
          ],
          [
           0.268,
           "Vancouver Grizzlies 1999-00"
          ],
          [
           0.354,
           "Washington Wizards 1999-00"
          ],
          [
           0.305,
           "Atlanta Hawks 2000-01"
          ],
          [
           0.439,
           "Boston Celtics 2000-01"
          ],
          [
           0.561,
           "Charlotte Hornets 2000-01"
          ],
          [
           0.183,
           "Chicago Bulls 2000-01"
          ],
          [
           0.366,
           "Cleveland Cavaliers 2000-01"
          ],
          [
           0.646,
           "Dallas Mavericks 2000-01"
          ],
          [
           0.488,
           "Denver Nuggets 2000-01"
          ],
          [
           0.39,
           "Detroit Pistons 2000-01"
          ],
          [
           0.207,
           "Golden State Warriors 2000-01"
          ],
          [
           0.549,
           "Houston Rockets 2000-01"
          ],
          [
           0.5,
           "Indiana Pacers 2000-01"
          ],
          [
           0.378,
           "Los Angeles Clippers 2000-01"
          ],
          [
           0.683,
           "Los Angeles Lakers 2000-01"
          ],
          [
           0.61,
           "Miami Heat 2000-01"
          ],
          [
           0.634,
           "Milwaukee Bucks 2000-01"
          ],
          [
           0.573,
           "Minnesota Timberwolves 2000-01"
          ],
          [
           0.317,
           "New Jersey Nets 2000-01"
          ],
          [
           0.585,
           "New York Knicks 2000-01"
          ],
          [
           0.524,
           "Orlando Magic 2000-01"
          ],
          [
           0.683,
           "Philadelphia 76ers 2000-01"
          ],
          [
           0.622,
           "Phoenix Suns 2000-01"
          ],
          [
           0.61,
           "Portland Trail Blazers 2000-01"
          ],
          [
           0.671,
           "Sacramento Kings 2000-01"
          ],
          [
           0.707,
           "San Antonio Spurs 2000-01"
          ],
          [
           0.537,
           "Seattle SuperSonics 2000-01"
          ],
          [
           0.573,
           "Toronto Raptors 2000-01"
          ],
          [
           0.646,
           "Utah Jazz 2000-01"
          ],
          [
           0.28,
           "Vancouver Grizzlies 2000-01"
          ],
          [
           0.232,
           "Washington Wizards 2000-01"
          ],
          [
           0.402,
           "Atlanta Hawks 2001-02"
          ],
          [
           0.598,
           "Boston Celtics 2001-02"
          ],
          [
           0.537,
           "Charlotte Hornets 2001-02"
          ],
          [
           0.256,
           "Chicago Bulls 2001-02"
          ],
          [
           0.354,
           "Cleveland Cavaliers 2001-02"
          ],
          [
           0.695,
           "Dallas Mavericks 2001-02"
          ],
          [
           0.329,
           "Denver Nuggets 2001-02"
          ],
          [
           0.61,
           "Detroit Pistons 2001-02"
          ],
          [
           0.256,
           "Golden State Warriors 2001-02"
          ],
          [
           0.341,
           "Houston Rockets 2001-02"
          ],
          [
           0.512,
           "Indiana Pacers 2001-02"
          ],
          [
           0.476,
           "Los Angeles Clippers 2001-02"
          ],
          [
           0.707,
           "Los Angeles Lakers 2001-02"
          ],
          [
           0.28,
           "Memphis Grizzlies 2001-02"
          ],
          [
           0.439,
           "Miami Heat 2001-02"
          ],
          [
           0.5,
           "Milwaukee Bucks 2001-02"
          ],
          [
           0.61,
           "Minnesota Timberwolves 2001-02"
          ],
          [
           0.634,
           "New Jersey Nets 2001-02"
          ],
          [
           0.366,
           "New York Knicks 2001-02"
          ],
          [
           0.537,
           "Orlando Magic 2001-02"
          ],
          [
           0.524,
           "Philadelphia 76ers 2001-02"
          ],
          [
           0.439,
           "Phoenix Suns 2001-02"
          ],
          [
           0.598,
           "Portland Trail Blazers 2001-02"
          ],
          [
           0.744,
           "Sacramento Kings 2001-02"
          ],
          [
           0.707,
           "San Antonio Spurs 2001-02"
          ],
          [
           0.549,
           "Seattle SuperSonics 2001-02"
          ],
          [
           0.512,
           "Toronto Raptors 2001-02"
          ],
          [
           0.537,
           "Utah Jazz 2001-02"
          ],
          [
           0.451,
           "Washington Wizards 2001-02"
          ],
          [
           0.427,
           "Atlanta Hawks 2002-03"
          ],
          [
           0.537,
           "Boston Celtics 2002-03"
          ],
          [
           0.366,
           "Chicago Bulls 2002-03"
          ],
          [
           0.207,
           "Cleveland Cavaliers 2002-03"
          ],
          [
           0.732,
           "Dallas Mavericks 2002-03"
          ],
          [
           0.207,
           "Denver Nuggets 2002-03"
          ],
          [
           0.61,
           "Detroit Pistons 2002-03"
          ],
          [
           0.463,
           "Golden State Warriors 2002-03"
          ],
          [
           0.524,
           "Houston Rockets 2002-03"
          ],
          [
           0.585,
           "Indiana Pacers 2002-03"
          ],
          [
           0.329,
           "Los Angeles Clippers 2002-03"
          ],
          [
           0.61,
           "Los Angeles Lakers 2002-03"
          ],
          [
           0.341,
           "Memphis Grizzlies 2002-03"
          ],
          [
           0.305,
           "Miami Heat 2002-03"
          ],
          [
           0.512,
           "Milwaukee Bucks 2002-03"
          ],
          [
           0.622,
           "Minnesota Timberwolves 2002-03"
          ],
          [
           0.598,
           "New Jersey Nets 2002-03"
          ],
          [
           0.573,
           "New Orleans Hornets 2002-03"
          ],
          [
           0.451,
           "New York Knicks 2002-03"
          ],
          [
           0.512,
           "Orlando Magic 2002-03"
          ],
          [
           0.585,
           "Philadelphia 76ers 2002-03"
          ],
          [
           0.537,
           "Phoenix Suns 2002-03"
          ],
          [
           0.61,
           "Portland Trail Blazers 2002-03"
          ],
          [
           0.72,
           "Sacramento Kings 2002-03"
          ],
          [
           0.732,
           "San Antonio Spurs 2002-03"
          ],
          [
           0.488,
           "Seattle SuperSonics 2002-03"
          ],
          [
           0.293,
           "Toronto Raptors 2002-03"
          ],
          [
           0.573,
           "Utah Jazz 2002-03"
          ],
          [
           0.451,
           "Washington Wizards 2002-03"
          ],
          [
           0.341,
           "Atlanta Hawks 2003-04"
          ],
          [
           0.439,
           "Boston Celtics 2003-04"
          ],
          [
           0.28,
           "Chicago Bulls 2003-04"
          ],
          [
           0.427,
           "Cleveland Cavaliers 2003-04"
          ],
          [
           0.634,
           "Dallas Mavericks 2003-04"
          ],
          [
           0.524,
           "Denver Nuggets 2003-04"
          ],
          [
           0.659,
           "Detroit Pistons 2003-04"
          ],
          [
           0.451,
           "Golden State Warriors 2003-04"
          ],
          [
           0.549,
           "Houston Rockets 2003-04"
          ],
          [
           0.744,
           "Indiana Pacers 2003-04"
          ],
          [
           0.341,
           "Los Angeles Clippers 2003-04"
          ],
          [
           0.683,
           "Los Angeles Lakers 2003-04"
          ],
          [
           0.61,
           "Memphis Grizzlies 2003-04"
          ],
          [
           0.512,
           "Miami Heat 2003-04"
          ],
          [
           0.5,
           "Milwaukee Bucks 2003-04"
          ],
          [
           0.707,
           "Minnesota Timberwolves 2003-04"
          ],
          [
           0.573,
           "New Jersey Nets 2003-04"
          ],
          [
           0.5,
           "New Orleans Hornets 2003-04"
          ],
          [
           0.476,
           "New York Knicks 2003-04"
          ],
          [
           0.256,
           "Orlando Magic 2003-04"
          ],
          [
           0.402,
           "Philadelphia 76ers 2003-04"
          ],
          [
           0.354,
           "Phoenix Suns 2003-04"
          ],
          [
           0.5,
           "Portland Trail Blazers 2003-04"
          ],
          [
           0.671,
           "Sacramento Kings 2003-04"
          ],
          [
           0.695,
           "San Antonio Spurs 2003-04"
          ],
          [
           0.451,
           "Seattle SuperSonics 2003-04"
          ],
          [
           0.402,
           "Toronto Raptors 2003-04"
          ],
          [
           0.512,
           "Utah Jazz 2003-04"
          ],
          [
           0.305,
           "Washington Wizards 2003-04"
          ],
          [
           0.159,
           "Atlanta Hawks 2004-05"
          ],
          [
           0.549,
           "Boston Celtics 2004-05"
          ],
          [
           0.22,
           "Charlotte Bobcats 2004-05"
          ],
          [
           0.573,
           "Chicago Bulls 2004-05"
          ],
          [
           0.512,
           "Cleveland Cavaliers 2004-05"
          ],
          [
           0.707,
           "Dallas Mavericks 2004-05"
          ],
          [
           0.598,
           "Denver Nuggets 2004-05"
          ],
          [
           0.659,
           "Detroit Pistons 2004-05"
          ],
          [
           0.415,
           "Golden State Warriors 2004-05"
          ],
          [
           0.622,
           "Houston Rockets 2004-05"
          ],
          [
           0.537,
           "Indiana Pacers 2004-05"
          ],
          [
           0.451,
           "Los Angeles Clippers 2004-05"
          ],
          [
           0.415,
           "Los Angeles Lakers 2004-05"
          ],
          [
           0.549,
           "Memphis Grizzlies 2004-05"
          ],
          [
           0.72,
           "Miami Heat 2004-05"
          ],
          [
           0.366,
           "Milwaukee Bucks 2004-05"
          ],
          [
           0.537,
           "Minnesota Timberwolves 2004-05"
          ],
          [
           0.512,
           "New Jersey Nets 2004-05"
          ],
          [
           0.22,
           "New Orleans Hornets 2004-05"
          ],
          [
           0.402,
           "New York Knicks 2004-05"
          ],
          [
           0.439,
           "Orlando Magic 2004-05"
          ],
          [
           0.524,
           "Philadelphia 76ers 2004-05"
          ],
          [
           0.756,
           "Phoenix Suns 2004-05"
          ],
          [
           0.329,
           "Portland Trail Blazers 2004-05"
          ],
          [
           0.61,
           "Sacramento Kings 2004-05"
          ],
          [
           0.72,
           "San Antonio Spurs 2004-05"
          ],
          [
           0.634,
           "Seattle SuperSonics 2004-05"
          ],
          [
           0.402,
           "Toronto Raptors 2004-05"
          ],
          [
           0.317,
           "Utah Jazz 2004-05"
          ],
          [
           0.549,
           "Washington Wizards 2004-05"
          ],
          [
           0.317,
           "Atlanta Hawks 2005-06"
          ],
          [
           0.402,
           "Boston Celtics 2005-06"
          ],
          [
           0.317,
           "Charlotte Bobcats 2005-06"
          ],
          [
           0.5,
           "Chicago Bulls 2005-06"
          ],
          [
           0.61,
           "Cleveland Cavaliers 2005-06"
          ],
          [
           0.732,
           "Dallas Mavericks 2005-06"
          ],
          [
           0.537,
           "Denver Nuggets 2005-06"
          ],
          [
           0.78,
           "Detroit Pistons 2005-06"
          ],
          [
           0.415,
           "Golden State Warriors 2005-06"
          ],
          [
           0.415,
           "Houston Rockets 2005-06"
          ],
          [
           0.5,
           "Indiana Pacers 2005-06"
          ],
          [
           0.573,
           "Los Angeles Clippers 2005-06"
          ],
          [
           0.549,
           "Los Angeles Lakers 2005-06"
          ],
          [
           0.598,
           "Memphis Grizzlies 2005-06"
          ],
          [
           0.634,
           "Miami Heat 2005-06"
          ],
          [
           0.488,
           "Milwaukee Bucks 2005-06"
          ],
          [
           0.402,
           "Minnesota Timberwolves 2005-06"
          ],
          [
           0.598,
           "New Jersey Nets 2005-06"
          ],
          [
           0.463,
           "New Orleans/Oklahoma City Hornets 2005-06"
          ],
          [
           0.28,
           "New York Knicks 2005-06"
          ],
          [
           0.439,
           "Orlando Magic 2005-06"
          ],
          [
           0.463,
           "Philadelphia 76ers 2005-06"
          ],
          [
           0.659,
           "Phoenix Suns 2005-06"
          ],
          [
           0.256,
           "Portland Trail Blazers 2005-06"
          ],
          [
           0.537,
           "Sacramento Kings 2005-06"
          ],
          [
           0.768,
           "San Antonio Spurs 2005-06"
          ],
          [
           0.427,
           "Seattle SuperSonics 2005-06"
          ],
          [
           0.329,
           "Toronto Raptors 2005-06"
          ],
          [
           0.5,
           "Utah Jazz 2005-06"
          ],
          [
           0.512,
           "Washington Wizards 2005-06"
          ],
          [
           0.366,
           "Atlanta Hawks 2006-07"
          ],
          [
           0.293,
           "Boston Celtics 2006-07"
          ],
          [
           0.402,
           "Charlotte Bobcats 2006-07"
          ],
          [
           0.598,
           "Chicago Bulls 2006-07"
          ],
          [
           0.61,
           "Cleveland Cavaliers 2006-07"
          ],
          [
           0.817,
           "Dallas Mavericks 2006-07"
          ],
          [
           0.549,
           "Denver Nuggets 2006-07"
          ],
          [
           0.646,
           "Detroit Pistons 2006-07"
          ],
          [
           0.512,
           "Golden State Warriors 2006-07"
          ],
          [
           0.634,
           "Houston Rockets 2006-07"
          ],
          [
           0.427,
           "Indiana Pacers 2006-07"
          ],
          [
           0.488,
           "Los Angeles Clippers 2006-07"
          ],
          [
           0.512,
           "Los Angeles Lakers 2006-07"
          ],
          [
           0.268,
           "Memphis Grizzlies 2006-07"
          ],
          [
           0.537,
           "Miami Heat 2006-07"
          ],
          [
           0.341,
           "Milwaukee Bucks 2006-07"
          ],
          [
           0.39,
           "Minnesota Timberwolves 2006-07"
          ],
          [
           0.5,
           "New Jersey Nets 2006-07"
          ],
          [
           0.476,
           "New Orleans/Oklahoma City Hornets 2006-07"
          ],
          [
           0.402,
           "New York Knicks 2006-07"
          ],
          [
           0.488,
           "Orlando Magic 2006-07"
          ],
          [
           0.427,
           "Philadelphia 76ers 2006-07"
          ],
          [
           0.744,
           "Phoenix Suns 2006-07"
          ],
          [
           0.39,
           "Portland Trail Blazers 2006-07"
          ],
          [
           0.402,
           "Sacramento Kings 2006-07"
          ],
          [
           0.707,
           "San Antonio Spurs 2006-07"
          ],
          [
           0.378,
           "Seattle SuperSonics 2006-07"
          ],
          [
           0.573,
           "Toronto Raptors 2006-07"
          ],
          [
           0.622,
           "Utah Jazz 2006-07"
          ],
          [
           0.5,
           "Washington Wizards 2006-07"
          ],
          [
           0.451,
           "Atlanta Hawks 2007-08"
          ],
          [
           0.805,
           "Boston Celtics 2007-08"
          ],
          [
           0.39,
           "Charlotte Bobcats 2007-08"
          ],
          [
           0.402,
           "Chicago Bulls 2007-08"
          ],
          [
           0.549,
           "Cleveland Cavaliers 2007-08"
          ],
          [
           0.622,
           "Dallas Mavericks 2007-08"
          ],
          [
           0.61,
           "Denver Nuggets 2007-08"
          ],
          [
           0.72,
           "Detroit Pistons 2007-08"
          ],
          [
           0.585,
           "Golden State Warriors 2007-08"
          ],
          [
           0.671,
           "Houston Rockets 2007-08"
          ],
          [
           0.439,
           "Indiana Pacers 2007-08"
          ],
          [
           0.28,
           "Los Angeles Clippers 2007-08"
          ],
          [
           0.695,
           "Los Angeles Lakers 2007-08"
          ],
          [
           0.268,
           "Memphis Grizzlies 2007-08"
          ],
          [
           0.183,
           "Miami Heat 2007-08"
          ],
          [
           0.317,
           "Milwaukee Bucks 2007-08"
          ],
          [
           0.268,
           "Minnesota Timberwolves 2007-08"
          ],
          [
           0.415,
           "New Jersey Nets 2007-08"
          ],
          [
           0.683,
           "New Orleans Hornets 2007-08"
          ],
          [
           0.28,
           "New York Knicks 2007-08"
          ],
          [
           0.634,
           "Orlando Magic 2007-08"
          ],
          [
           0.488,
           "Philadelphia 76ers 2007-08"
          ],
          [
           0.671,
           "Phoenix Suns 2007-08"
          ],
          [
           0.5,
           "Portland Trail Blazers 2007-08"
          ],
          [
           0.463,
           "Sacramento Kings 2007-08"
          ],
          [
           0.683,
           "San Antonio Spurs 2007-08"
          ],
          [
           0.244,
           "Seattle SuperSonics 2007-08"
          ],
          [
           0.5,
           "Toronto Raptors 2007-08"
          ],
          [
           0.659,
           "Utah Jazz 2007-08"
          ],
          [
           0.524,
           "Washington Wizards 2007-08"
          ],
          [
           0.573,
           "Atlanta Hawks 2008-09"
          ],
          [
           0.756,
           "Boston Celtics 2008-09"
          ],
          [
           0.427,
           "Charlotte Bobcats 2008-09"
          ],
          [
           0.5,
           "Chicago Bulls 2008-09"
          ],
          [
           0.805,
           "Cleveland Cavaliers 2008-09"
          ],
          [
           0.61,
           "Dallas Mavericks 2008-09"
          ],
          [
           0.659,
           "Denver Nuggets 2008-09"
          ],
          [
           0.476,
           "Detroit Pistons 2008-09"
          ],
          [
           0.354,
           "Golden State Warriors 2008-09"
          ],
          [
           0.646,
           "Houston Rockets 2008-09"
          ],
          [
           0.439,
           "Indiana Pacers 2008-09"
          ],
          [
           0.232,
           "Los Angeles Clippers 2008-09"
          ],
          [
           0.793,
           "Los Angeles Lakers 2008-09"
          ],
          [
           0.293,
           "Memphis Grizzlies 2008-09"
          ],
          [
           0.524,
           "Miami Heat 2008-09"
          ],
          [
           0.415,
           "Milwaukee Bucks 2008-09"
          ],
          [
           0.293,
           "Minnesota Timberwolves 2008-09"
          ],
          [
           0.415,
           "New Jersey Nets 2008-09"
          ],
          [
           0.598,
           "New Orleans Hornets 2008-09"
          ],
          [
           0.39,
           "New York Knicks 2008-09"
          ],
          [
           0.28,
           "Oklahoma City Thunder 2008-09"
          ],
          [
           0.72,
           "Orlando Magic 2008-09"
          ],
          [
           0.5,
           "Philadelphia 76ers 2008-09"
          ],
          [
           0.561,
           "Phoenix Suns 2008-09"
          ],
          [
           0.659,
           "Portland Trail Blazers 2008-09"
          ],
          [
           0.207,
           "Sacramento Kings 2008-09"
          ],
          [
           0.659,
           "San Antonio Spurs 2008-09"
          ],
          [
           0.402,
           "Toronto Raptors 2008-09"
          ],
          [
           0.585,
           "Utah Jazz 2008-09"
          ],
          [
           0.232,
           "Washington Wizards 2008-09"
          ],
          [
           0.646,
           "Atlanta Hawks 2009-10"
          ],
          [
           0.61,
           "Boston Celtics 2009-10"
          ],
          [
           0.537,
           "Charlotte Bobcats 2009-10"
          ],
          [
           0.5,
           "Chicago Bulls 2009-10"
          ],
          [
           0.744,
           "Cleveland Cavaliers 2009-10"
          ],
          [
           0.671,
           "Dallas Mavericks 2009-10"
          ],
          [
           0.646,
           "Denver Nuggets 2009-10"
          ],
          [
           0.329,
           "Detroit Pistons 2009-10"
          ],
          [
           0.317,
           "Golden State Warriors 2009-10"
          ],
          [
           0.512,
           "Houston Rockets 2009-10"
          ],
          [
           0.39,
           "Indiana Pacers 2009-10"
          ],
          [
           0.354,
           "Los Angeles Clippers 2009-10"
          ],
          [
           0.695,
           "Los Angeles Lakers 2009-10"
          ],
          [
           0.488,
           "Memphis Grizzlies 2009-10"
          ],
          [
           0.573,
           "Miami Heat 2009-10"
          ],
          [
           0.561,
           "Milwaukee Bucks 2009-10"
          ],
          [
           0.183,
           "Minnesota Timberwolves 2009-10"
          ],
          [
           0.146,
           "New Jersey Nets 2009-10"
          ],
          [
           0.451,
           "New Orleans Hornets 2009-10"
          ],
          [
           0.354,
           "New York Knicks 2009-10"
          ],
          [
           0.61,
           "Oklahoma City Thunder 2009-10"
          ],
          [
           0.72,
           "Orlando Magic 2009-10"
          ],
          [
           0.329,
           "Philadelphia 76ers 2009-10"
          ],
          [
           0.659,
           "Phoenix Suns 2009-10"
          ],
          [
           0.61,
           "Portland Trail Blazers 2009-10"
          ],
          [
           0.305,
           "Sacramento Kings 2009-10"
          ],
          [
           0.61,
           "San Antonio Spurs 2009-10"
          ],
          [
           0.488,
           "Toronto Raptors 2009-10"
          ],
          [
           0.646,
           "Utah Jazz 2009-10"
          ],
          [
           0.317,
           "Washington Wizards 2009-10"
          ],
          [
           0.537,
           "Atlanta Hawks 2010-11"
          ],
          [
           0.683,
           "Boston Celtics 2010-11"
          ],
          [
           0.415,
           "Charlotte Bobcats 2010-11"
          ],
          [
           0.756,
           "Chicago Bulls 2010-11"
          ],
          [
           0.232,
           "Cleveland Cavaliers 2010-11"
          ],
          [
           0.695,
           "Dallas Mavericks 2010-11"
          ],
          [
           0.61,
           "Denver Nuggets 2010-11"
          ],
          [
           0.366,
           "Detroit Pistons 2010-11"
          ],
          [
           0.439,
           "Golden State Warriors 2010-11"
          ],
          [
           0.524,
           "Houston Rockets 2010-11"
          ],
          [
           0.451,
           "Indiana Pacers 2010-11"
          ],
          [
           0.39,
           "Los Angeles Clippers 2010-11"
          ],
          [
           0.695,
           "Los Angeles Lakers 2010-11"
          ],
          [
           0.561,
           "Memphis Grizzlies 2010-11"
          ],
          [
           0.707,
           "Miami Heat 2010-11"
          ],
          [
           0.427,
           "Milwaukee Bucks 2010-11"
          ],
          [
           0.207,
           "Minnesota Timberwolves 2010-11"
          ],
          [
           0.293,
           "New Jersey Nets 2010-11"
          ],
          [
           0.561,
           "New Orleans Hornets 2010-11"
          ],
          [
           0.512,
           "New York Knicks 2010-11"
          ],
          [
           0.671,
           "Oklahoma City Thunder 2010-11"
          ],
          [
           0.634,
           "Orlando Magic 2010-11"
          ],
          [
           0.5,
           "Philadelphia 76ers 2010-11"
          ],
          [
           0.488,
           "Phoenix Suns 2010-11"
          ],
          [
           0.585,
           "Portland Trail Blazers 2010-11"
          ],
          [
           0.293,
           "Sacramento Kings 2010-11"
          ],
          [
           0.744,
           "San Antonio Spurs 2010-11"
          ],
          [
           0.268,
           "Toronto Raptors 2010-11"
          ],
          [
           0.476,
           "Utah Jazz 2010-11"
          ],
          [
           0.28,
           "Washington Wizards 2010-11"
          ],
          [
           0.606,
           "Atlanta Hawks 2011-12"
          ],
          [
           0.591,
           "Boston Celtics 2011-12"
          ],
          [
           0.106,
           "Charlotte Bobcats 2011-12"
          ],
          [
           0.758,
           "Chicago Bulls 2011-12"
          ],
          [
           0.318,
           "Cleveland Cavaliers 2011-12"
          ],
          [
           0.545,
           "Dallas Mavericks 2011-12"
          ],
          [
           0.576,
           "Denver Nuggets 2011-12"
          ],
          [
           0.379,
           "Detroit Pistons 2011-12"
          ],
          [
           0.348,
           "Golden State Warriors 2011-12"
          ],
          [
           0.515,
           "Houston Rockets 2011-12"
          ],
          [
           0.636,
           "Indiana Pacers 2011-12"
          ],
          [
           0.606,
           "Los Angeles Clippers 2011-12"
          ],
          [
           0.621,
           "Los Angeles Lakers 2011-12"
          ],
          [
           0.621,
           "Memphis Grizzlies 2011-12"
          ],
          [
           0.697,
           "Miami Heat 2011-12"
          ],
          [
           0.47,
           "Milwaukee Bucks 2011-12"
          ],
          [
           0.394,
           "Minnesota Timberwolves 2011-12"
          ],
          [
           0.333,
           "New Jersey Nets 2011-12"
          ],
          [
           0.318,
           "New Orleans Hornets 2011-12"
          ],
          [
           0.545,
           "New York Knicks 2011-12"
          ],
          [
           0.712,
           "Oklahoma City Thunder 2011-12"
          ],
          [
           0.561,
           "Orlando Magic 2011-12"
          ],
          [
           0.53,
           "Philadelphia 76ers 2011-12"
          ],
          [
           0.5,
           "Phoenix Suns 2011-12"
          ],
          [
           0.424,
           "Portland Trail Blazers 2011-12"
          ],
          [
           0.333,
           "Sacramento Kings 2011-12"
          ],
          [
           0.758,
           "San Antonio Spurs 2011-12"
          ],
          [
           0.348,
           "Toronto Raptors 2011-12"
          ],
          [
           0.545,
           "Utah Jazz 2011-12"
          ],
          [
           0.303,
           "Washington Wizards 2011-12"
          ],
          [
           0.537,
           "Atlanta Hawks 2012-13"
          ],
          [
           0.506,
           "Boston Celtics 2012-13"
          ],
          [
           0.598,
           "Brooklyn Nets 2012-13"
          ],
          [
           0.256,
           "Charlotte Bobcats 2012-13"
          ],
          [
           0.549,
           "Chicago Bulls 2012-13"
          ],
          [
           0.293,
           "Cleveland Cavaliers 2012-13"
          ],
          [
           0.5,
           "Dallas Mavericks 2012-13"
          ],
          [
           0.695,
           "Denver Nuggets 2012-13"
          ],
          [
           0.354,
           "Detroit Pistons 2012-13"
          ],
          [
           0.573,
           "Golden State Warriors 2012-13"
          ],
          [
           0.549,
           "Houston Rockets 2012-13"
          ],
          [
           0.605,
           "Indiana Pacers 2012-13"
          ],
          [
           0.683,
           "Los Angeles Clippers 2012-13"
          ],
          [
           0.549,
           "Los Angeles Lakers 2012-13"
          ],
          [
           0.683,
           "Memphis Grizzlies 2012-13"
          ],
          [
           0.805,
           "Miami Heat 2012-13"
          ],
          [
           0.463,
           "Milwaukee Bucks 2012-13"
          ],
          [
           0.378,
           "Minnesota Timberwolves 2012-13"
          ],
          [
           0.329,
           "New Orleans Hornets 2012-13"
          ],
          [
           0.659,
           "New York Knicks 2012-13"
          ],
          [
           0.732,
           "Oklahoma City Thunder 2012-13"
          ],
          [
           0.244,
           "Orlando Magic 2012-13"
          ],
          [
           0.415,
           "Philadelphia 76ers 2012-13"
          ],
          [
           0.305,
           "Phoenix Suns 2012-13"
          ],
          [
           0.402,
           "Portland Trail Blazers 2012-13"
          ],
          [
           0.341,
           "Sacramento Kings 2012-13"
          ],
          [
           0.707,
           "San Antonio Spurs 2012-13"
          ],
          [
           0.415,
           "Toronto Raptors 2012-13"
          ],
          [
           0.524,
           "Utah Jazz 2012-13"
          ],
          [
           0.354,
           "Washington Wizards 2012-13"
          ],
          [
           0.463,
           "Atlanta Hawks 2013-14"
          ],
          [
           0.305,
           "Boston Celtics 2013-14"
          ],
          [
           0.537,
           "Brooklyn Nets 2013-14"
          ],
          [
           0.524,
           "Charlotte Bobcats 2013-14"
          ],
          [
           0.585,
           "Chicago Bulls 2013-14"
          ],
          [
           0.402,
           "Cleveland Cavaliers 2013-14"
          ],
          [
           0.598,
           "Dallas Mavericks 2013-14"
          ],
          [
           0.439,
           "Denver Nuggets 2013-14"
          ],
          [
           0.354,
           "Detroit Pistons 2013-14"
          ],
          [
           0.622,
           "Golden State Warriors 2013-14"
          ],
          [
           0.659,
           "Houston Rockets 2013-14"
          ],
          [
           0.683,
           "Indiana Pacers 2013-14"
          ],
          [
           0.695,
           "Los Angeles Clippers 2013-14"
          ],
          [
           0.329,
           "Los Angeles Lakers 2013-14"
          ],
          [
           0.61,
           "Memphis Grizzlies 2013-14"
          ],
          [
           0.659,
           "Miami Heat 2013-14"
          ],
          [
           0.183,
           "Milwaukee Bucks 2013-14"
          ],
          [
           0.488,
           "Minnesota Timberwolves 2013-14"
          ],
          [
           0.415,
           "New Orleans Pelicans 2013-14"
          ],
          [
           0.451,
           "New York Knicks 2013-14"
          ],
          [
           0.72,
           "Oklahoma City Thunder 2013-14"
          ],
          [
           0.28,
           "Orlando Magic 2013-14"
          ],
          [
           0.232,
           "Philadelphia 76ers 2013-14"
          ],
          [
           0.585,
           "Phoenix Suns 2013-14"
          ],
          [
           0.659,
           "Portland Trail Blazers 2013-14"
          ],
          [
           0.341,
           "Sacramento Kings 2013-14"
          ],
          [
           0.756,
           "San Antonio Spurs 2013-14"
          ],
          [
           0.585,
           "Toronto Raptors 2013-14"
          ],
          [
           0.305,
           "Utah Jazz 2013-14"
          ],
          [
           0.537,
           "Washington Wizards 2013-14"
          ],
          [
           0.732,
           "Atlanta Hawks 2014-15"
          ],
          [
           0.488,
           "Boston Celtics 2014-15"
          ],
          [
           0.463,
           "Brooklyn Nets 2014-15"
          ],
          [
           0.402,
           "Charlotte Hornets 2014-15"
          ],
          [
           0.61,
           "Chicago Bulls 2014-15"
          ],
          [
           0.646,
           "Cleveland Cavaliers 2014-15"
          ],
          [
           0.61,
           "Dallas Mavericks 2014-15"
          ],
          [
           0.366,
           "Denver Nuggets 2014-15"
          ],
          [
           0.39,
           "Detroit Pistons 2014-15"
          ],
          [
           0.817,
           "Golden State Warriors 2014-15"
          ],
          [
           0.683,
           "Houston Rockets 2014-15"
          ],
          [
           0.463,
           "Indiana Pacers 2014-15"
          ],
          [
           0.683,
           "Los Angeles Clippers 2014-15"
          ],
          [
           0.256,
           "Los Angeles Lakers 2014-15"
          ],
          [
           0.671,
           "Memphis Grizzlies 2014-15"
          ],
          [
           0.451,
           "Miami Heat 2014-15"
          ],
          [
           0.5,
           "Milwaukee Bucks 2014-15"
          ],
          [
           0.195,
           "Minnesota Timberwolves 2014-15"
          ],
          [
           0.549,
           "New Orleans Pelicans 2014-15"
          ],
          [
           0.207,
           "New York Knicks 2014-15"
          ],
          [
           0.549,
           "Oklahoma City Thunder 2014-15"
          ],
          [
           0.305,
           "Orlando Magic 2014-15"
          ],
          [
           0.22,
           "Philadelphia 76ers 2014-15"
          ],
          [
           0.476,
           "Phoenix Suns 2014-15"
          ],
          [
           0.622,
           "Portland Trail Blazers 2014-15"
          ],
          [
           0.354,
           "Sacramento Kings 2014-15"
          ],
          [
           0.671,
           "San Antonio Spurs 2014-15"
          ],
          [
           0.598,
           "Toronto Raptors 2014-15"
          ],
          [
           0.463,
           "Utah Jazz 2014-15"
          ],
          [
           0.561,
           "Washington Wizards 2014-15"
          ],
          [
           0.585,
           "Atlanta Hawks 2015-16"
          ],
          [
           0.585,
           "Boston Celtics 2015-16"
          ],
          [
           0.256,
           "Brooklyn Nets 2015-16"
          ],
          [
           0.585,
           "Charlotte Hornets 2015-16"
          ],
          [
           0.512,
           "Chicago Bulls 2015-16"
          ],
          [
           0.695,
           "Cleveland Cavaliers 2015-16"
          ],
          [
           0.512,
           "Dallas Mavericks 2015-16"
          ],
          [
           0.402,
           "Denver Nuggets 2015-16"
          ],
          [
           0.537,
           "Detroit Pistons 2015-16"
          ],
          [
           0.89,
           "Golden State Warriors 2015-16"
          ],
          [
           0.5,
           "Houston Rockets 2015-16"
          ],
          [
           0.549,
           "Indiana Pacers 2015-16"
          ],
          [
           0.646,
           "LA Clippers 2015-16"
          ],
          [
           0.207,
           "Los Angeles Lakers 2015-16"
          ],
          [
           0.512,
           "Memphis Grizzlies 2015-16"
          ],
          [
           0.585,
           "Miami Heat 2015-16"
          ],
          [
           0.402,
           "Milwaukee Bucks 2015-16"
          ],
          [
           0.354,
           "Minnesota Timberwolves 2015-16"
          ],
          [
           0.366,
           "New Orleans Pelicans 2015-16"
          ],
          [
           0.39,
           "New York Knicks 2015-16"
          ],
          [
           0.671,
           "Oklahoma City Thunder 2015-16"
          ],
          [
           0.427,
           "Orlando Magic 2015-16"
          ],
          [
           0.122,
           "Philadelphia 76ers 2015-16"
          ],
          [
           0.28,
           "Phoenix Suns 2015-16"
          ],
          [
           0.537,
           "Portland Trail Blazers 2015-16"
          ],
          [
           0.402,
           "Sacramento Kings 2015-16"
          ],
          [
           0.817,
           "San Antonio Spurs 2015-16"
          ],
          [
           0.683,
           "Toronto Raptors 2015-16"
          ],
          [
           0.488,
           "Utah Jazz 2015-16"
          ],
          [
           0.5,
           "Washington Wizards 2015-16"
          ],
          [
           0.524,
           "Atlanta Hawks 2016-17"
          ],
          [
           0.646,
           "Boston Celtics 2016-17"
          ],
          [
           0.244,
           "Brooklyn Nets 2016-17"
          ],
          [
           0.439,
           "Charlotte Hornets 2016-17"
          ],
          [
           0.5,
           "Chicago Bulls 2016-17"
          ],
          [
           0.622,
           "Cleveland Cavaliers 2016-17"
          ],
          [
           0.402,
           "Dallas Mavericks 2016-17"
          ],
          [
           0.488,
           "Denver Nuggets 2016-17"
          ],
          [
           0.451,
           "Detroit Pistons 2016-17"
          ],
          [
           0.817,
           "Golden State Warriors 2016-17"
          ],
          [
           0.671,
           "Houston Rockets 2016-17"
          ],
          [
           0.512,
           "Indiana Pacers 2016-17"
          ],
          [
           0.622,
           "LA Clippers 2016-17"
          ],
          [
           0.317,
           "Los Angeles Lakers 2016-17"
          ],
          [
           0.524,
           "Memphis Grizzlies 2016-17"
          ],
          [
           0.5,
           "Miami Heat 2016-17"
          ],
          [
           0.512,
           "Milwaukee Bucks 2016-17"
          ],
          [
           0.378,
           "Minnesota Timberwolves 2016-17"
          ],
          [
           0.415,
           "New Orleans Pelicans 2016-17"
          ],
          [
           0.378,
           "New York Knicks 2016-17"
          ],
          [
           0.573,
           "Oklahoma City Thunder 2016-17"
          ],
          [
           0.354,
           "Orlando Magic 2016-17"
          ],
          [
           0.341,
           "Philadelphia 76ers 2016-17"
          ],
          [
           0.293,
           "Phoenix Suns 2016-17"
          ],
          [
           0.5,
           "Portland Trail Blazers 2016-17"
          ],
          [
           0.39,
           "Sacramento Kings 2016-17"
          ],
          [
           0.744,
           "San Antonio Spurs 2016-17"
          ],
          [
           0.622,
           "Toronto Raptors 2016-17"
          ],
          [
           0.622,
           "Utah Jazz 2016-17"
          ],
          [
           0.598,
           "Washington Wizards 2016-17"
          ],
          [
           0.293,
           "Atlanta Hawks 2017-18"
          ],
          [
           0.671,
           "Boston Celtics 2017-18"
          ],
          [
           0.341,
           "Brooklyn Nets 2017-18"
          ],
          [
           0.439,
           "Charlotte Hornets 2017-18"
          ],
          [
           0.329,
           "Chicago Bulls 2017-18"
          ],
          [
           0.61,
           "Cleveland Cavaliers 2017-18"
          ],
          [
           0.293,
           "Dallas Mavericks 2017-18"
          ],
          [
           0.561,
           "Denver Nuggets 2017-18"
          ],
          [
           0.476,
           "Detroit Pistons 2017-18"
          ],
          [
           0.707,
           "Golden State Warriors 2017-18"
          ],
          [
           0.793,
           "Houston Rockets 2017-18"
          ],
          [
           0.585,
           "Indiana Pacers 2017-18"
          ],
          [
           0.512,
           "LA Clippers 2017-18"
          ],
          [
           0.427,
           "Los Angeles Lakers 2017-18"
          ],
          [
           0.268,
           "Memphis Grizzlies 2017-18"
          ],
          [
           0.537,
           "Miami Heat 2017-18"
          ],
          [
           0.537,
           "Milwaukee Bucks 2017-18"
          ],
          [
           0.573,
           "Minnesota Timberwolves 2017-18"
          ],
          [
           0.585,
           "New Orleans Pelicans 2017-18"
          ],
          [
           0.354,
           "New York Knicks 2017-18"
          ],
          [
           0.585,
           "Oklahoma City Thunder 2017-18"
          ],
          [
           0.305,
           "Orlando Magic 2017-18"
          ],
          [
           0.634,
           "Philadelphia 76ers 2017-18"
          ],
          [
           0.256,
           "Phoenix Suns 2017-18"
          ],
          [
           0.598,
           "Portland Trail Blazers 2017-18"
          ],
          [
           0.329,
           "Sacramento Kings 2017-18"
          ],
          [
           0.573,
           "San Antonio Spurs 2017-18"
          ],
          [
           0.72,
           "Toronto Raptors 2017-18"
          ],
          [
           0.585,
           "Utah Jazz 2017-18"
          ],
          [
           0.524,
           "Washington Wizards 2017-18"
          ],
          [
           0.354,
           "Atlanta Hawks 2018-19"
          ],
          [
           0.598,
           "Boston Celtics 2018-19"
          ],
          [
           0.512,
           "Brooklyn Nets 2018-19"
          ],
          [
           0.476,
           "Charlotte Hornets 2018-19"
          ],
          [
           0.268,
           "Chicago Bulls 2018-19"
          ],
          [
           0.232,
           "Cleveland Cavaliers 2018-19"
          ],
          [
           0.402,
           "Dallas Mavericks 2018-19"
          ],
          [
           0.659,
           "Denver Nuggets 2018-19"
          ],
          [
           0.5,
           "Detroit Pistons 2018-19"
          ],
          [
           0.695,
           "Golden State Warriors 2018-19"
          ],
          [
           0.646,
           "Houston Rockets 2018-19"
          ],
          [
           0.585,
           "Indiana Pacers 2018-19"
          ],
          [
           0.585,
           "LA Clippers 2018-19"
          ],
          [
           0.451,
           "Los Angeles Lakers 2018-19"
          ],
          [
           0.402,
           "Memphis Grizzlies 2018-19"
          ],
          [
           0.476,
           "Miami Heat 2018-19"
          ],
          [
           0.732,
           "Milwaukee Bucks 2018-19"
          ],
          [
           0.439,
           "Minnesota Timberwolves 2018-19"
          ],
          [
           0.402,
           "New Orleans Pelicans 2018-19"
          ],
          [
           0.207,
           "New York Knicks 2018-19"
          ],
          [
           0.598,
           "Oklahoma City Thunder 2018-19"
          ],
          [
           0.512,
           "Orlando Magic 2018-19"
          ],
          [
           0.622,
           "Philadelphia 76ers 2018-19"
          ],
          [
           0.232,
           "Phoenix Suns 2018-19"
          ],
          [
           0.646,
           "Portland Trail Blazers 2018-19"
          ],
          [
           0.476,
           "Sacramento Kings 2018-19"
          ],
          [
           0.585,
           "San Antonio Spurs 2018-19"
          ],
          [
           0.707,
           "Toronto Raptors 2018-19"
          ],
          [
           0.61,
           "Utah Jazz 2018-19"
          ],
          [
           0.39,
           "Washington Wizards 2018-19"
          ],
          [
           0.299,
           "Atlanta Hawks 2019-20"
          ],
          [
           0.667,
           "Boston Celtics 2019-20"
          ],
          [
           0.486,
           "Brooklyn Nets 2019-20"
          ],
          [
           0.354,
           "Charlotte Hornets 2019-20"
          ],
          [
           0.338,
           "Chicago Bulls 2019-20"
          ],
          [
           0.292,
           "Cleveland Cavaliers 2019-20"
          ],
          [
           0.573,
           "Dallas Mavericks 2019-20"
          ],
          [
           0.63,
           "Denver Nuggets 2019-20"
          ],
          [
           0.303,
           "Detroit Pistons 2019-20"
          ],
          [
           0.231,
           "Golden State Warriors 2019-20"
          ],
          [
           0.611,
           "Houston Rockets 2019-20"
          ],
          [
           0.616,
           "Indiana Pacers 2019-20"
          ],
          [
           0.681,
           "LA Clippers 2019-20"
          ],
          [
           0.732,
           "Los Angeles Lakers 2019-20"
          ],
          [
           0.466,
           "Memphis Grizzlies 2019-20"
          ],
          [
           0.603,
           "Miami Heat 2019-20"
          ],
          [
           0.767,
           "Milwaukee Bucks 2019-20"
          ],
          [
           0.297,
           "Minnesota Timberwolves 2019-20"
          ],
          [
           0.417,
           "New Orleans Pelicans 2019-20"
          ],
          [
           0.318,
           "New York Knicks 2019-20"
          ],
          [
           0.611,
           "Oklahoma City Thunder 2019-20"
          ],
          [
           0.452,
           "Orlando Magic 2019-20"
          ],
          [
           0.589,
           "Philadelphia 76ers 2019-20"
          ],
          [
           0.466,
           "Phoenix Suns 2019-20"
          ],
          [
           0.473,
           "Portland Trail Blazers 2019-20"
          ],
          [
           0.431,
           "Sacramento Kings 2019-20"
          ],
          [
           0.451,
           "San Antonio Spurs 2019-20"
          ],
          [
           0.736,
           "Toronto Raptors 2019-20"
          ],
          [
           0.611,
           "Utah Jazz 2019-20"
          ],
          [
           0.347,
           "Washington Wizards 2019-20"
          ]
         ],
         "hovertemplate": "PC1=%{x}<br>PC2=%{y}<br>PC3=%{z}<br>WIN%=%{customdata[0]}<br>TEAM=%{customdata[1]}<br>PIE=%{marker.color}<extra></extra>",
         "legendgroup": "",
         "marker": {
          "color": [
           46.2,
           47.6,
           54.1,
           41.7,
           47.5,
           49.3,
           48.3,
           50.6,
           43.1,
           49,
           53.4,
           41.1,
           57.3,
           54.3,
           49.8,
           53.1,
           47.9,
           50.7,
           49.7,
           50.8,
           54.2,
           55.9,
           51.3,
           55.6,
           49.6,
           50,
           55.1,
           45.7,
           47.1,
           45.2,
           46.8,
           52.7,
           43.2,
           46.9,
           52.3,
           48,
           48,
           42.7,
           50.9,
           51,
           47.6,
           53.2,
           52.3,
           51.9,
           51.8,
           44.6,
           52,
           49.5,
           53.6,
           52.1,
           54.4,
           54,
           57.3,
           49.4,
           52.2,
           54.8,
           46.5,
           45.3,
           46.5,
           50,
           51.3,
           43.6,
           48.2,
           51.7,
           44.2,
           52.3,
           45.6,
           45.8,
           51,
           49.5,
           54.9,
           45.6,
           50.1,
           50.2,
           52.9,
           53.7,
           46.6,
           49.7,
           52,
           48.6,
           51.8,
           55.2,
           55.4,
           52.2,
           49.6,
           53,
           48.6,
           48.3,
           48,
           45.7,
           43.1,
           54.6,
           42.5,
           52.5,
           49.2,
           51.1,
           53.8,
           47,
           52,
           48.2,
           45.6,
           49.5,
           52.9,
           54.4,
           51.7,
           47.4,
           48.2,
           51.6,
           49.8,
           51.5,
           55.1,
           54.9,
           50.2,
           44.7,
           55.1,
           49.8,
           46.6,
           49,
           44.6,
           49.1,
           52.7,
           50.5,
           55.8,
           49.1,
           51.3,
           53.9,
           46.4,
           53.8,
           52.2,
           49.6,
           51,
           55.4,
           53.3,
           49.1,
           48.8,
           43.4,
           48.4,
           46.6,
           48.8,
           54.4,
           56.6,
           49.1,
           47.6,
           49.3,
           44.1,
           42.2,
           50.5,
           46,
           49.8,
           51,
           53.7,
           53.1,
           54.2,
           47.3,
           52.7,
           50.4,
           51.8,
           46.8,
           51.5,
           55.6,
           47.8,
           51.8,
           49,
           43.7,
           47.5,
           48.9,
           49.3,
           54.6,
           47.5,
           52.2,
           56.5,
           50.4,
           47.9,
           47.5,
           48.5,
           46.2,
           48.5,
           46.3,
           50.1,
           51,
           55.1,
           51.2,
           55.7,
           47.5,
           49,
           51.4,
           52.3,
           51.8,
           51.6,
           53.8,
           48.6,
           50.3,
           51.3,
           48.4,
           44.4,
           49.5,
           49.2,
           54.7,
           42.4,
           51.5,
           55.4,
           46.7,
           45.9,
           49.7,
           50.3,
           46.6,
           45.9,
           47.1,
           53.9,
           52,
           55.2,
           51.4,
           53.3,
           48.9,
           52.9,
           48.5,
           50.9,
           49.9,
           46.2,
           50.8,
           45.6,
           48.7,
           49.9,
           48.5,
           47.1,
           50.2,
           48.9,
           56.1,
           45.9,
           48.5,
           56.9,
           47.4,
           51.4,
           53.1,
           48.5,
           49.8,
           58.1,
           46.9,
           48,
           49,
           53.6,
           52.9,
           55.2,
           49.6,
           53.5,
           48.5,
           46.1,
           55.1,
           45.1,
           44.5,
           45.2,
           43.5,
           47.5,
           52.6,
           44,
           52.9,
           50,
           55.6,
           49.5,
           48.3,
           53.3,
           45,
           51.9,
           55.6,
           48.8,
           50.7,
           56.2,
           49.5,
           49.9,
           55.9,
           52.2,
           52.9,
           49.6,
           47.8,
           53,
           48.9,
           44.1,
           54.7,
           45.7,
           50.5,
           48.5,
           45.3,
           47.4,
           51.5,
           46.7,
           46.4,
           54.5,
           50.3,
           52.5,
           53.1,
           44,
           52.3,
           49.2,
           53.5,
           44.8,
           52.3,
           54,
           51.8,
           50,
           55.2,
           53.4,
           52.4,
           44.8,
           47,
           48.9,
           47.6,
           46.5,
           52.9,
           48.6,
           52.2,
           49.5,
           43.2,
           42.9,
           48.4,
           47.4,
           53.2,
           55.1,
           47.8,
           53.6,
           52.5,
           46.7,
           53.2,
           48.9,
           55,
           46.2,
           49.3,
           55.8,
           48,
           55.5,
           44.1,
           53.8,
           52.4,
           46.4,
           47.2,
           51.5,
           49.2,
           48.3,
           54.1,
           51.8,
           55.6,
           48.8,
           44.3,
           45.2,
           50.7,
           50.4,
           52.9,
           53.4,
           51,
           49.4,
           51.6,
           46.2,
           53.8,
           45.9,
           50,
           44.5,
           52.6,
           53.5,
           41.1,
           56.1,
           43.9,
           51,
           52.7,
           44.8,
           47.2,
           49.7,
           52.1,
           51.7,
           52.4,
           51.4,
           55.3,
           50.3,
           48.3,
           44.8,
           48.2,
           52,
           54.2,
           49.3,
           53.2,
           50.2,
           49.4,
           45.1,
           54.6,
           47.8,
           50.9,
           46,
           50.9,
           50.7,
           50.9,
           43.8,
           51.4,
           45,
           50.2,
           53.8,
           46.7,
           50.2,
           51,
           53.7,
           54.8,
           51.3,
           53.1,
           56.4,
           48.8,
           49.4,
           46.4,
           51.2,
           57,
           45.9,
           47.4,
           45.8,
           46.8,
           45.4,
           55.1,
           48.4,
           50.4,
           48.1,
           50.2,
           46.1,
           49.2,
           50.8,
           52.8,
           46.9,
           52.1,
           48.1,
           46.4,
           52.8,
           53.4,
           54.5,
           54.8,
           46,
           51.8,
           53.9,
           44.9,
           51.9,
           48.3,
           49,
           54.3,
           46.6,
           42.6,
           50.9,
           52.4,
           47.3,
           55.5,
           51.2,
           45.1,
           50.4,
           54,
           49.8,
           48,
           48.2,
           52.9,
           51.4,
           52.1,
           46.5,
           47.8,
           56.9,
           50.9,
           50.5,
           54,
           45,
           53,
           49.2,
           51.1,
           45.3,
           50.8,
           44.1,
           50.5,
           45.5,
           42.6,
           49.1,
           52.2,
           48.5,
           54.5,
           50.6,
           50.7,
           52.5,
           52.8,
           52,
           46,
           51.1,
           49.4,
           52.8,
           50.3,
           47.9,
           48.6,
           56.7,
           49,
           51.8,
           53.3,
           42.4,
           48.3,
           52.5,
           48.3,
           49.7,
           47.2,
           48.7,
           54.6,
           48.8,
           42.8,
           45,
           49.3,
           49.4,
           57.8,
           52.5,
           50.8,
           49.7,
           50.6,
           51.4,
           46,
           50.5,
           50.4,
           51,
           47.9,
           50.3,
           48.2,
           57.9,
           51.6,
           50.5,
           52.7,
           44.6,
           50.1,
           50,
           50.4,
           50.1,
           49.3,
           48.2,
           49.9,
           46,
           47,
           46.2,
           49.3,
           47.8,
           55.1,
           51.6,
           53.4,
           51.1,
           46.8,
           51.9,
           47.4,
           50,
           45.3,
           50.2,
           47.5,
           51.1,
           48.9,
           55.4,
           53.1,
           50.9,
           49.7,
           49.1,
           46,
           50.5,
           50.2,
           51.8,
           52.5,
           48.1,
           50.8,
           47.2,
           54.2,
           44.2,
           51,
           45.1,
           52.5,
           53.8,
           53.2,
           50.9,
           46.4,
           53,
           49.2,
           48.6,
           45.3,
           43.6,
           49.2,
           52.4,
           48.2,
           54.6,
           49.8,
           52.7,
           50.5,
           49.5,
           49,
           50.1,
           55.3,
           49.8,
           49.8,
           44.2,
           50.6,
           50.8,
           52.9,
           45,
           52.1,
           49.5,
           51.6,
           53.3,
           53.9,
           48.7,
           45.4,
           53.1,
           50,
           45.5,
           46.6,
           45.3,
           52.1,
           51.7,
           47.3,
           46.2,
           49.4,
           52,
           53.2,
           53.9,
           50.7,
           52.5,
           56.2,
           47.2,
           49.5,
           46.1,
           51.9,
           49.6,
           52.3,
           51.2,
           48.6,
           47.9,
           50.2,
           53,
           51.3,
           47.3
          ],
          "coloraxis": "coloraxis",
          "symbol": "circle"
         },
         "mode": "markers",
         "name": "",
         "scene": "scene",
         "showlegend": false,
         "type": "scatter3d",
         "x": [
          -0.972822582684306,
          -0.642735372007755,
          -0.22597985534386208,
          -1.7105358044638455,
          -0.7572290592716967,
          -0.11548012166777416,
          -0.5051592304528181,
          -0.30680391881301866,
          -1.1086571943993246,
          -0.47228724575863124,
          0.14000876617234326,
          -1.158114324962535,
          -0.047052712807700715,
          -0.26926809273492286,
          -0.2977060540409829,
          -0.06608292418828442,
          -0.6184116187372447,
          -0.5659196630560104,
          -0.7041086642079667,
          -0.8625565327746874,
          -0.19291751577414257,
          -0.17013184046519833,
          -0.05115385092204202,
          -0.30605748784714976,
          -0.2975473010680926,
          -0.4723122316825394,
          -0.2715351995408151,
          -1.0136542781033353,
          -0.7930636154429023,
          -1.1565354477964154,
          -0.7635541557053434,
          -0.642217043953462,
          -1.2905454199688817,
          -1.1293057107698379,
          -0.07583988940767764,
          -0.4580076044534576,
          -0.9056061603554046,
          -1.332343421184373,
          -0.4416300660863256,
          -0.7067528876870997,
          -0.9562317065833469,
          -0.22129019244989503,
          -0.719794103183698,
          -0.03724775331368151,
          -0.21915191361725714,
          -1.1358780176972814,
          -0.7171025412371002,
          -0.6263907326026963,
          -0.7201096155880642,
          -0.5949583069240737,
          -0.29824167951571084,
          -0.13211441845841573,
          -0.17741822739434354,
          -0.5138902046706969,
          -0.30452447084017725,
          -0.3426632735265287,
          -0.8838653814757902,
          -1.2205848707870166,
          -0.8222026944285081,
          -0.3476033883134422,
          -0.6785341674445178,
          -1.0973239886095834,
          -0.5921715442931378,
          0.26439311426294193,
          -1.0375373401684085,
          -0.35718027256429463,
          -1.136718797295833,
          -0.9693099626545066,
          -0.5167859616341953,
          -0.6912324876616175,
          0.048343197883864694,
          -1.1172144933672545,
          -0.920326273312449,
          -0.1647810011620365,
          -0.0618188094920673,
          -0.35983304052997583,
          -0.7666686579558912,
          -0.16707731146263455,
          -0.9935543846843308,
          -0.6343001125076697,
          -0.3295340792681857,
          0.217234623180664,
          -0.3600069082577945,
          -0.17983818487590805,
          -0.8151965649707084,
          -0.8051622068128955,
          -0.7173881462127507,
          -0.796893655669481,
          -0.6468917368208492,
          -0.8786336348954338,
          -1.3359239188954248,
          0.346933538715425,
          -1.7785564197523094,
          -0.5864061269694801,
          -0.6637698999406813,
          -0.7613184901237816,
          -0.48871954946366875,
          -0.9818828975990661,
          -0.22471638372805736,
          -0.5081038598400925,
          -1.28705356313691,
          -0.13343378654189178,
          -0.09144604138247935,
          -0.49872424310841995,
          -0.6360031460894445,
          -0.3263964010709279,
          -0.5045930086461934,
          -0.6763473336806268,
          -0.6654593590306952,
          -0.5029862684347096,
          0.20026494794710842,
          -0.46664494814013446,
          -0.6101046236173723,
          -1.080179739325226,
          -0.6425425836861176,
          -0.8589304706772235,
          -0.9672794378492474,
          -0.6862268062043481,
          -1.1295915376487509,
          -0.8885366876621114,
          0.21517008070792934,
          -0.7232659362112813,
          -0.8003090325664722,
          -0.7362035766199511,
          -0.737250296906867,
          -0.6137309882883561,
          -1.1336320490518812,
          -0.2573940348783601,
          -0.55824868868571,
          -0.8336937607786181,
          -0.3584392721574557,
          -0.11559188423408215,
          -0.5078245917923532,
          -0.862811951469589,
          -0.7328584158373598,
          -0.9973591419398837,
          -1.172584297620348,
          -0.8540332125761513,
          -0.8093724844609679,
          0.26298863758152313,
          -0.5641946277003979,
          -0.36975173274954737,
          -1.053802490432886,
          -1.3640101119298345,
          -1.3166884747299636,
          -1.245828942814664,
          -0.3759026593695694,
          -0.9679145140514785,
          -0.7284771565134611,
          -0.6606163569228566,
          -0.20273396073595337,
          -0.3745686844552034,
          -0.5703644502176882,
          -0.45955371514009985,
          -0.303843996556696,
          -0.784473559447396,
          -0.684157714901683,
          -0.5320115131635306,
          -0.6520770239047564,
          0.07544122676254272,
          -0.6432367029937184,
          -0.2129985143456243,
          -0.7716792592482349,
          -1.2680502756511516,
          -0.6334125177368369,
          -0.7074854227606532,
          -0.4592561649936759,
          0.5988199843532361,
          -0.8798917948929125,
          0.0866698232343853,
          -0.26984300710492837,
          -0.49498372938114754,
          -0.28754653732496643,
          -1.087725957153813,
          -0.6637361413145152,
          -0.5982426836027717,
          -0.25549556799332107,
          -0.5059675600986734,
          -0.07342276540830685,
          -0.14788947559690815,
          -0.1128109507597368,
          -0.060037879120469886,
          0.35526359718560596,
          -0.22503003108234057,
          -0.5716261013240449,
          -0.3419149034977942,
          -0.05550846103983598,
          0.02238535158263276,
          -0.2997828737170116,
          0.21876299062808677,
          -0.11773670503770174,
          -0.48894838679158803,
          -0.07196151987191828,
          -0.5678579820582834,
          -0.9018961630927683,
          -0.5011615672957869,
          -0.18042161179322772,
          1.176452631755162,
          -1.009669510911618,
          0.022510658592741154,
          0.1770371299618899,
          -0.14088273120976255,
          -0.051199705081680175,
          -0.715625828332483,
          -0.18237274770426717,
          -0.7862732205819372,
          -0.5685438841775335,
          -0.3609291027445365,
          0.010078404799380715,
          -0.13696132675410236,
          0.26736603650975194,
          0.12235863627761447,
          0.017177357945526738,
          0.29164430492655447,
          0.148832705308366,
          -0.4742377106683698,
          -0.26783818604544896,
          0.15047864458262822,
          -0.24420454087035703,
          -0.1374164997908719,
          -0.22657969794117985,
          -0.21564096023184703,
          0.09407662324702348,
          -0.3536665888216562,
          -0.5306588537149743,
          -0.5366169618342339,
          -0.4547503331256915,
          1.1645188856837843,
          -0.6174074581693936,
          -0.08468520858646723,
          0.449436746955057,
          -0.2073902296242419,
          0.30455399604322525,
          0.0415291193346286,
          -2.870736771945099e-06,
          -0.2541734191185028,
          0.4059564830045209,
          -0.30712616980187013,
          -0.3284793117008767,
          -0.2602197782756163,
          0.2866342388910585,
          0.6414305490446284,
          0.24227087589960586,
          0.5792503890427073,
          0.06910477717769323,
          0.24853243437486294,
          -0.49137202661694396,
          0.8089510470281993,
          -0.12129641184921174,
          -0.5859101940711697,
          -0.41450811116251424,
          -0.5038758601960155,
          -0.2528419798245972,
          0.5147366710333089,
          -0.5579927814718612,
          0.5707945089974364,
          -0.40470155253682366,
          1.1264549555404542,
          -0.08390569654977509,
          -0.10814719944551214,
          0.2721027173669667,
          -0.447597098681152,
          0.554083493663869,
          0.5906695741413095,
          -0.09948014702339916,
          0.04820804684588445,
          0.3809654637626081,
          -0.4295942017077537,
          -0.0145023234186882,
          0.4369165373471993,
          0.39023549284302617,
          0.20951788448863742,
          -0.17268700579672341,
          0.1261768453156344,
          0.15399779911001776,
          0.2872421092884179,
          -0.46079515228086204,
          0.6210488259445448,
          -0.6473039232305524,
          0.09052219838357653,
          -0.11448904726910414,
          -0.3298507029886114,
          -0.06809812228689546,
          0.08675018343582407,
          0.2548725071635037,
          -0.4895052055184392,
          0.41948550214356695,
          -0.3537372228777373,
          0.6023271742258914,
          0.16853436064337426,
          -0.35031329147052215,
          0.45432833068765516,
          0.12421367113114279,
          0.23792151315446203,
          -0.49891659565324376,
          0.32331324136543055,
          0.26584588878974497,
          -0.32719500882075686,
          -0.1850231030844336,
          0.5806850875256563,
          0.5107154230555598,
          0.30879292939690406,
          -0.6465732232253157,
          0.35737934139279026,
          0.06712443876883888,
          0.010489490086809269,
          -0.29930983336446276,
          0.28251690831791576,
          -0.24679876899962858,
          -0.06718228278243446,
          0.0517307437735856,
          -0.49265603258924745,
          -0.8053190745378895,
          0.21413619267033954,
          0.20807629316916948,
          0.004249290950628889,
          0.5937443085518113,
          -0.18703502038414524,
          0.7967529796004758,
          0.08176656177015168,
          -0.25055006857319756,
          0.3707323123225238,
          0.3230784540334538,
          0.5371380500971078,
          -0.4667502833969373,
          0.028385611942939037,
          0.3159584342365324,
          -0.4268426873149268,
          0.1756616149466098,
          -0.45527519455266735,
          0.5636712069023403,
          0.5839873812011055,
          -0.21382265557351932,
          0.1768662210890388,
          0.44238029804075835,
          -0.13464093838453123,
          -0.2526780685997207,
          0.3263647225305167,
          -0.12635684089226473,
          0.4505289127754643,
          -0.4423771048614984,
          -0.3680225518387239,
          -0.4512849491451385,
          -0.06401073287977814,
          0.4359392447851831,
          0.2265815532313775,
          0.24432506051802413,
          0.20005669960020045,
          0.47034445816256487,
          -0.09115808519561945,
          -0.41371200444809564,
          0.6576617567462226,
          -0.33520397164423227,
          -0.04382758080791992,
          -0.6188767944842372,
          0.13408227108892076,
          -0.0406786718207862,
          -1.146860569717904,
          0.06710521671405931,
          -0.8036997552228697,
          0.020670436904629743,
          0.2583328011894339,
          -0.8440071107865011,
          -0.02609398044580717,
          -0.08936691943828239,
          -0.3175633773581022,
          -0.030583538839637475,
          -0.018766968213559523,
          -0.45994256752776513,
          0.03869650749754879,
          -0.018610228775369563,
          -0.345734877988654,
          -0.625117824168249,
          -0.7196368093826322,
          -0.19007549885497635,
          0.10139272833612059,
          -0.13812491018154216,
          0.09400729479309623,
          0.06577110679248716,
          -0.17261629431347034,
          -0.5196355876940868,
          0.6975705527031439,
          -0.5778693267592753,
          -0.2086105425437995,
          -0.6524402754983142,
          0.3596935186148013,
          0.08837131722433854,
          -0.11969664785000404,
          -0.7368993559294819,
          -0.28077161579053156,
          -0.44601926926942315,
          0.3864612043738439,
          0.33488319494312796,
          -0.4131588530609616,
          0.3171316218051492,
          0.4332112599379084,
          -0.23698525446049068,
          0.4244276811662676,
          0.2652774792962267,
          -0.2924642465495781,
          0.8032409444263677,
          -0.02429667352153544,
          -0.306561811044291,
          -0.3833268829594447,
          0.36090670151686527,
          0.6088230244314508,
          -0.23842481415125896,
          -0.14601829840469005,
          -0.3924414871857159,
          -0.028045462748098767,
          -0.21142971780571698,
          0.8151446083493702,
          -0.1210677563106633,
          -0.09924334734175233,
          -0.2877059917032738,
          0.4415037460364647,
          -0.3256956986602498,
          0.0807454608062125,
          0.12365630390842534,
          -0.2025418349586994,
          -0.16657576271947072,
          0.6915809810264086,
          0.1120616667916435,
          -0.2538945098007151,
          0.6103307330058049,
          0.476238598317896,
          0.07921037417987392,
          0.7888865555628868,
          0.3166312363272216,
          -0.0017517776888459284,
          0.6377914149073846,
          -0.4678894197661951,
          0.41238144690566636,
          -0.08522566823661347,
          0.1322233320100226,
          0.6016724011454617,
          -0.18140041321104028,
          -0.45332347822976554,
          0.31485674535776476,
          0.6649384784771158,
          -0.2548116620621728,
          1.0023325764091264,
          0.17222224868127356,
          -0.3668652292440417,
          0.31970101208072216,
          0.7745806832196989,
          0.29282618582909586,
          -0.013859160086261386,
          -0.15253839348001288,
          0.2148242005281224,
          0.4789870455402491,
          0.6367914995968114,
          -0.08057564492561381,
          -0.02141500778572896,
          1.281263848173747,
          0.24776079554389538,
          0.09232896972670339,
          1.0109289288388352,
          -0.19026116396628176,
          0.16090233605176918,
          -0.23710231834153242,
          -0.0043526570229276505,
          -0.47155264200881186,
          0.17571710478336325,
          -0.5253651707216959,
          0.20907959399422904,
          -0.20530891915553956,
          -0.825894031726178,
          0.17247168338726337,
          0.6386833544502519,
          -0.1918261283275094,
          0.733127082444462,
          0.3380753487917463,
          -0.24557158951665814,
          0.24740707847287322,
          0.6926073429006093,
          0.5040055699715015,
          -0.043076912441684385,
          0.6559356684649263,
          0.2865564158385238,
          0.7506682873832728,
          0.5395023507897451,
          0.10201699114077567,
          0.17784678782115407,
          1.6526023877339808,
          0.29287714212612026,
          0.308086168213901,
          0.7450782079265253,
          -0.4599365197809178,
          -0.11896795388302171,
          0.2972198346728689,
          -0.053192531666193935,
          0.10617773124980738,
          0.3713603907143742,
          0.06170813547282719,
          0.6989195996832914,
          0.33530137002620725,
          -0.32354411121485727,
          -0.13996078232484074,
          0.41898543589813353,
          0.43350544764985915,
          1.0283002339834477,
          0.3353804790936959,
          -0.022243526469631222,
          0.5856367885055265,
          0.3564747544640302,
          0.9261435382833015,
          0.2802472299395695,
          0.7579691490815889,
          0.3444657110926456,
          1.0625956358506725,
          0.4217633230045362,
          0.9211775930815611,
          0.4269015476961031,
          1.7294446670811598,
          1.1768369423772846,
          0.593436832057067,
          1.0077060116009475,
          0.11105978983126308,
          0.2264442430998041,
          0.4127657027128298,
          0.5879560835504488,
          0.3999805008220145,
          0.63984387632872,
          0.26246779813857046,
          0.3276701766542639,
          0.19540339828399067,
          0.1736508896087646,
          0.07381111835049217,
          0.5950286298111173,
          0.3533257787735754,
          0.9058637291390921,
          0.519593457153194,
          0.5353913361249502,
          0.8034280329805517,
          0.40420686571365516,
          0.7451464008772677,
          0.5884555254171348,
          0.745304384138819,
          0.4610051674789684,
          1.1132928743587867,
          0.6696400441883852,
          0.9376719752776644,
          0.6081115164558236,
          1.5765516212593227,
          1.251371230238259,
          0.7033906311264218,
          0.642373385438745,
          0.5884287318938745,
          0.007543653633672634,
          0.6348244312255301,
          0.6842094329017303,
          0.8223968193006591,
          1.2271082751149835,
          0.4383893145552044,
          0.5750893464157436,
          0.44554625041778306,
          1.0046153194946315,
          0.06596675634106063,
          0.6088305419403665,
          0.1615742998504058,
          0.6453379047024769,
          1.187096728281561,
          0.7641011065925153,
          0.7588536509248757,
          0.7534753708426557,
          1.373933777039474,
          0.8290592374253273,
          0.8985968924467386,
          0.3604053442860468,
          0.2331536284493418,
          0.778990970354255,
          1.149515269947449,
          0.599392882634726,
          1.7979242986252284,
          1.0420112407756332,
          0.9836453314354962,
          0.991619003043659,
          0.8871650505773198,
          0.5052082360235652,
          0.6312135494123259,
          1.7417058917098314,
          0.847303646508396,
          1.1007925138318688,
          0.12941715928816483,
          0.9668127028201638,
          1.0187344367756626,
          1.2304894507073452,
          0.3526557995958696,
          1.093560132735132,
          1.076203890978114,
          1.2982672600857545,
          1.3612042383740006,
          1.1793983777763928,
          1.0323250774382178,
          0.5094275039799829,
          1.092201362708588,
          0.8786275877227799,
          0.26662730714330646,
          0.4175738084725042,
          0.36857368373973826,
          1.489410384530259,
          1.0993088644344737,
          0.5230718106006828,
          0.4127329634989724,
          1.1209582034251337,
          1.114907536933577,
          1.2309558905618752,
          1.1805741056537478,
          1.028627680153459,
          1.2313633862959021,
          1.7632077594594997,
          0.7092265872549713,
          1.089764568300238,
          0.24874175256921188,
          0.9581362378809831,
          0.7673083075112266,
          1.098204244618713,
          1.1109271977837056,
          1.0025452354154802,
          0.8649448169340301,
          1.23388175248353,
          1.1775145834213372,
          1.0547811815389532,
          0.8746427020621689
         ],
         "y": [
          0.16685089233963346,
          -0.0350282647678711,
          -0.7025875622988298,
          0.3257277316142797,
          -0.05540752984351542,
          -0.04406096071850785,
          -0.10286803146560485,
          -0.2431413284190886,
          0.39374299738173807,
          -0.10927368597732015,
          -0.6277171679507958,
          0.7290130480675546,
          -1.0326154829154772,
          -0.7357440233448006,
          -0.331010195650979,
          -0.7211122483278932,
          0.007998905231819127,
          -0.3888586052999976,
          -0.17660226824692773,
          -0.4322112581763048,
          -0.7340267564554481,
          -0.9854773556654357,
          -0.2119214844412644,
          -0.8893030198442429,
          -0.21611977650895894,
          -0.39755895917847295,
          -0.9541584465945058,
          0.13007989769610975,
          -0.01899257044094663,
          0.22336358589037855,
          -0.05244213282228528,
          -0.7027994721849602,
          0.23183991746366583,
          -0.05994934696346151,
          -0.5202525289317635,
          -0.16794383316859443,
          -0.06189407470946878,
          0.41679122548644276,
          -0.38021028770896786,
          -0.4174274995871592,
          -0.09813039187174728,
          -0.726155069744383,
          -0.5015089811360364,
          -0.548843302014407,
          -0.6094919461462036,
          0.19000041551486818,
          -0.509726926694308,
          -0.3099288400878708,
          -0.7305792097172848,
          -0.5447315620518214,
          -0.8704445852188855,
          -0.6159558464650872,
          -1.0852943525336194,
          -0.32189072528952833,
          -0.6096610361233807,
          -1.0351318748182698,
          0.042517309396569565,
          0.18192972488136183,
          0.09070657010061484,
          -0.255772198639636,
          -0.5218265687176256,
          0.18252994032454667,
          -0.2036742336664986,
          -0.486999468574196,
          0.17611112914118005,
          -0.601387123693467,
          0.15440007507032943,
          0.17382954051721103,
          -0.4114832485581529,
          -0.3180278500844004,
          -0.8323574400492727,
          0.1682930461852952,
          -0.32160354217486864,
          -0.3093913783994874,
          -0.6764419075131594,
          -0.7066890287020682,
          0.017877148052160667,
          -0.2568408979984453,
          -0.5172076602244787,
          -0.16564103927388077,
          -0.6460464394129042,
          -0.8362983684766008,
          -0.834055913243919,
          -0.5797258227108881,
          -0.3780594106621052,
          -0.7296650295731122,
          -0.292413678016546,
          -0.12069008188990903,
          -0.07018466712015735,
          0.055535966573837546,
          0.3670677691499444,
          -0.7519455320754385,
          0.29443653236898604,
          -0.6405054207359663,
          -0.18176113474958466,
          -0.3983039975281853,
          -0.6716444103750191,
          0.00998540423020658,
          -0.5677495044155755,
          -0.08355002478451999,
          0.171705306359492,
          -0.3166504592530752,
          -0.6705277302346695,
          -0.7718911299442957,
          -0.5727961332518553,
          -0.09358079443698515,
          -0.12969704635139984,
          -0.4998141178863149,
          -0.3151588155649492,
          -0.6246189830117663,
          -0.7893090977614089,
          -0.8019761573127208,
          -0.3418845038169656,
          0.20641100169990356,
          -0.9971364591760216,
          -0.32929454996673135,
          0.054770085152454816,
          -0.11520959446832324,
          0.1853468612615898,
          -0.26901109491068165,
          -0.5663126660147653,
          -0.41051967067581246,
          -0.9516907725052239,
          -0.22518805682103654,
          -0.47687244461011336,
          -0.8648568631108224,
          -0.02201644342061754,
          -0.7796502690670757,
          -0.6248290857339317,
          -0.27815722677065235,
          -0.4446332650827335,
          -0.9414082781895778,
          -0.7126028481509387,
          -0.2666344926666001,
          -0.24243223200340594,
          0.37224568248202944,
          -0.2111831316644491,
          0.11104481109325687,
          -0.38287486238086166,
          -0.7986030647533268,
          -0.9561517707259526,
          -0.17785297399659755,
          -0.08817821316576702,
          -0.4630907745335463,
          0.1976576599300875,
          0.4993394104724518,
          -0.4173490252863401,
          0.09373835979498917,
          -0.3425812872332357,
          -0.53065884679224,
          -0.6722482272560196,
          -0.6463518002411308,
          -0.8615248660818782,
          0.025614260636724315,
          -0.6497753876872842,
          -0.3502119883770243,
          -0.5758479832737696,
          0.018266791602071175,
          -0.5300039483269796,
          -0.9534457285178688,
          -0.13623031066863744,
          -0.5800783288185031,
          -0.3187552395217569,
          0.24162534968497565,
          -0.06269012767911157,
          -0.14277450273410908,
          -0.15313248637286317,
          -0.6615111251713613,
          -0.11957595325235172,
          -0.5149382304100588,
          -0.9815114341234413,
          -0.38637786231184723,
          -0.016799876847036356,
          -0.21428440148125344,
          -0.16018825264994588,
          0.36991370999733264,
          0.142131447229756,
          0.4480015177482643,
          0.07698253160134844,
          -0.11665644170732488,
          -0.5016384915234015,
          -0.08706615394381094,
          -0.793771585314021,
          0.3516546824989647,
          0.1182807959864886,
          -0.11011120767092461,
          -0.22731381344850066,
          -0.11962363532860751,
          -0.24909211337220186,
          -0.3129370259204928,
          0.1165469276547364,
          0.009862653741482688,
          -0.21964592095013077,
          0.22136121660011865,
          0.5048694855733264,
          0.0070643292201052815,
          0.14566469374839364,
          -0.27139310231748237,
          0.6592931471860687,
          -0.09012738277908179,
          -0.6034039181198558,
          0.32964620705312203,
          0.46575255685902617,
          -0.08121491620005487,
          0.05048311768573082,
          0.3130670828677552,
          0.3679520333218079,
          0.26301061109186746,
          -0.3229558769501137,
          -0.22777335679096603,
          -0.5738586406884177,
          -0.04622811468971432,
          -0.47804301318932724,
          0.24490229412145287,
          -0.24917003201811613,
          0.22455367960075598,
          -0.1794380787732071,
          0.09819514440732896,
          0.5017671571823326,
          -0.014385795241022119,
          0.4797203101224025,
          0.16395624595915542,
          0.009738736599962826,
          0.22093123267360432,
          0.3033748560451047,
          -0.10629613037973491,
          0.09796344658773895,
          -0.4498464260462062,
          0.33678613422999576,
          0.3277910121407459,
          -0.6676561804603869,
          0.2799160616797663,
          -0.05623624987368091,
          -0.3954859247515262,
          0.21733150073916607,
          -0.0032888597184547374,
          -0.8197735520858526,
          0.3405165245464202,
          0.24560460776629772,
          0.04181293575406282,
          -0.3337329682161594,
          -0.17100112102046183,
          -0.7304069475260504,
          0.2379126874338502,
          -0.32905048768157014,
          0.34373795527853496,
          0.4628592580625563,
          -0.45604139843205127,
          0.7602152001315374,
          0.6312613690276984,
          0.49107238098377665,
          0.6487561476071725,
          0.19328722127285197,
          -0.3394014477594832,
          0.6959857855013838,
          -0.18011369784695283,
          -0.05780251735557951,
          -0.41019024226051154,
          -0.009496200231164887,
          0.3446902119475985,
          -0.339124832929755,
          0.7070760424176705,
          -0.23669844030626788,
          -0.6568849224570107,
          0.08240085867499339,
          -0.1037435120558685,
          -0.6739580521942886,
          0.02948678209676274,
          0.08157886606135387,
          -0.6621199229762081,
          -0.14426560606235633,
          -0.27416623527218287,
          -0.05293254858095425,
          0.4833133365259523,
          -0.21897104972229503,
          0.32794894370814454,
          0.6724967947570358,
          -0.4913704213657118,
          0.5118430806603311,
          0.009567577406541482,
          0.17338986569749365,
          0.5281338693804557,
          0.2750332894468403,
          -0.157647591022898,
          0.6033879583239983,
          0.4716370512929782,
          -0.32868864500941103,
          -0.05034845011958772,
          -0.11391762467508201,
          -0.456281592178438,
          0.8078333217374691,
          -0.257312037276514,
          0.17418529092755541,
          -0.3138072713684801,
          0.5997849435525455,
          -0.33144181551845886,
          -0.37933349563689556,
          -0.12777110549581355,
          0.13156850604110443,
          -0.5762668451097216,
          -0.29891222576353166,
          -0.17202127131563685,
          0.4249484851455154,
          0.5882998022291164,
          0.2769484731258956,
          0.47319567441290605,
          0.38377494909306403,
          -0.23755229798277247,
          0.2613916449193404,
          -0.1311648842931874,
          0.09639009469521756,
          0.8972305140940691,
          0.7876972096655355,
          0.2570236852982662,
          0.5201091488536448,
          -0.22825487951493992,
          -0.3822139765193509,
          0.2725397501343378,
          -0.25555615590455705,
          -0.2937023580140306,
          0.511103497073955,
          -0.28787685109974825,
          0.1403252422076495,
          -0.5627345127332497,
          0.48463398703160576,
          -0.022743970618737203,
          -0.5923257113115254,
          0.22188976633200613,
          -0.5979568409388335,
          0.7510672006517278,
          -0.4085683167337815,
          -0.15611219835232726,
          0.23862953976754814,
          0.2900764995312371,
          -0.026722814501014606,
          0.30229168674023704,
          0.22492635528665336,
          -0.43407484254344464,
          -0.11237731365491217,
          -0.5614261509645028,
          0.18264007116960695,
          0.7330911414811826,
          0.4638027885678336,
          -0.12661346057033016,
          0.15109790501858747,
          -0.28702878810866733,
          -0.2580116255611875,
          -0.09537877951713966,
          0.17275965695580692,
          -0.18033302030806295,
          0.5661355699472194,
          -0.37385174287210166,
          0.4973372722930705,
          -0.017409541373514817,
          0.6359975836504189,
          -0.26842809925236943,
          -0.39340320833261117,
          0.9836292288236634,
          -0.7647615880761864,
          0.618560452409351,
          -0.027275935274671845,
          -0.17788475481680197,
          0.3861366923077973,
          0.29954992766517213,
          0.07778296615667322,
          -0.16860949065850134,
          -0.19378227948460922,
          -0.2623788367369728,
          -0.17331794015518404,
          -0.48972607040867117,
          -0.00321107883775675,
          0.37564989477813454,
          0.5143783364530649,
          0.14997266393661313,
          -0.04736607321632266,
          -0.37747385876205763,
          0.009325745899358492,
          -0.34611611860300295,
          0.017786699624695108,
          0.15683485226205965,
          0.67170252133468,
          -0.4683933243562816,
          0.1757875542129788,
          -0.1132815423984406,
          0.4495086806869162,
          -0.030592085874402465,
          -0.0028361633008253226,
          -0.11521632530555571,
          0.7637076326929673,
          -0.16180504751930755,
          0.5722755499446601,
          0.07895595554133766,
          -0.32847432184411607,
          0.34024313059769207,
          0.03187149951549324,
          0.021921950518429444,
          -0.25214347428217004,
          -0.5532005623449177,
          0.009273943359218337,
          -0.38644707135575634,
          -0.6919484652380277,
          0.17324340983534728,
          0.22929744051102388,
          0.31378902189511354,
          -0.07105714487737542,
          -0.6882821031506391,
          0.5652786823394124,
          0.2283659143538122,
          0.500584457764154,
          0.3389517983816961,
          0.5728661314817814,
          -0.4493003929958311,
          0.17862401863197555,
          -0.06765632626603454,
          0.24234147998132846,
          0.10894493813465114,
          0.4914210099343894,
          0.12501141738743723,
          0.05612137419571164,
          -0.2248757963466884,
          0.4060626803981514,
          -0.1238639923370928,
          0.38044696108257764,
          0.44684168191115126,
          -0.14679244063319039,
          -0.12592569901537404,
          -0.26501251634233597,
          -0.44168809204366494,
          0.5932879378947138,
          -0.20468209314947958,
          -0.3799437094860404,
          0.6511515849537604,
          0.05535822399339164,
          0.22503948560175452,
          0.20978795569173184,
          -0.37654691445459115,
          0.5509072964914749,
          1.0436217427692474,
          0.12373356924568568,
          -0.14074656835843152,
          0.4832909962916762,
          -0.49229779899410875,
          -0.08326669511930948,
          0.5974553083755562,
          -0.013313572089835682,
          -0.3940642039326999,
          0.19594009527732573,
          0.3351556878549106,
          0.4105745188508953,
          -0.13359284504839053,
          -0.14889380462321616,
          0.01697216879605147,
          0.5623061345228413,
          0.2970472935450543,
          -0.6490443278160382,
          0.015246978073261261,
          0.1541646344007051,
          -0.40580023124854886,
          0.6519593103947353,
          -0.21831412290336322,
          0.20664863064424094,
          -0.03463175927715103,
          0.6841019887879416,
          -0.040816047932628836,
          0.7029632826441926,
          0.11366236606117097,
          0.6116815571847171,
          0.8516820897737579,
          0.3746182659007546,
          -0.05862061420260288,
          0.41992146049027274,
          -0.38119409740185883,
          0.01424355576403708,
          -0.002855423364062418,
          -0.13239092835639144,
          -0.10101049583112039,
          0.060796043620329976,
          0.6295676141535523,
          0.11599528622964682,
          0.24769432344738612,
          -0.1855922376763023,
          0.2842339967139972,
          0.4258682411353142,
          0.32944855801537554,
          -0.6449259993487338,
          0.2508293229945041,
          0.11377387030241636,
          -0.1641420332206727,
          1.05444011191856,
          0.2798988710616679,
          -0.09563952312298947,
          0.2655864893806836,
          0.23750019064363434,
          0.5389344261577478,
          0.3291625042929342,
          -0.34302852535470896,
          0.30606281624015247,
          1.0256095352522996,
          0.8346683488912616,
          0.2683077355109698,
          0.36323097211829547,
          -0.7899960909491964,
          -0.11398889626608122,
          0.06532831079439086,
          0.2250842067657241,
          0.2086201035145743,
          0.036941142956456806,
          0.9124652739664619,
          0.24247237483330586,
          0.1071420246113124,
          0.12881800316435427,
          0.47382629185914266,
          0.18822435711931434,
          0.3710971349973897,
          -0.769977555806651,
          0.02203418896615168,
          0.17962528061049826,
          -0.09418418056539604,
          0.8252038017244528,
          0.14318961092431193,
          0.20975764357402552,
          0.03742587870807259,
          0.16521993731005985,
          0.4035060462018339,
          0.4671360267722013,
          0.24293973356567425,
          0.6819343852661587,
          0.6122912482672158,
          0.8009462573148451,
          0.36791535301231504,
          0.42738246481518405,
          -0.47605809990905734,
          0.03750153462294793,
          -0.16399885993167765,
          0.07142112634690133,
          0.7058667292641545,
          0.00690777155978767,
          0.6728361865031234,
          0.35532590363844035,
          0.8050223333024866,
          0.22978710178228468,
          0.6290459712975556,
          0.10232935918404726,
          0.3246003080649701,
          -0.4467704387874732,
          -0.10809524959214818,
          0.15508811779078485,
          0.32159850956859104,
          0.4658317296063995,
          0.6735669503250951,
          0.22551146230986535,
          0.13750967332283767,
          0.02662329209957497,
          0.09029204585410765,
          0.45802400493209927,
          0.1185791614336986,
          0.6244274232940988,
          -0.16021845703570825,
          1.0388460371868604,
          0.22351992599562476,
          0.714752191804513,
          -0.06828972371593227,
          -0.2055104465889744,
          -0.04889508108734432,
          0.10607469499878959,
          0.8413262756265255,
          -0.000732066376807188,
          0.48506942354210386,
          0.512416562928388,
          0.9322320375125329,
          1.087256529534876,
          0.5194683806025494,
          -0.08129233446530942,
          0.45813829925073574,
          -0.27065714501765487,
          0.2624513697941888,
          -0.0628091050639204,
          0.28365628024558803,
          0.4821044693734431,
          0.3779884846786445,
          0.29573389999903044,
          -0.1400290511229592,
          0.428760670160102,
          0.4385463930533118,
          1.0910677568071596,
          0.29840372075025223,
          0.20809210173016066,
          -0.023806144145492494,
          0.9309409669187036,
          0.10190542112081911,
          0.48903101424829043,
          0.09137899902513066,
          -0.08048865151107568,
          -0.09896634363811026,
          0.5398170418847873,
          0.9863792084626416,
          0.0043236472963071385,
          0.4733915012583313,
          0.6985816918278799,
          0.6808187764596481,
          0.9084806777184659,
          0.146325231383895,
          -0.009255854426872838,
          0.5606195530585512,
          0.7837268480776995,
          0.4887551530267461,
          0.05109572355259033,
          0.0008869914930621506,
          -0.19183108079075845,
          0.34615603786400323,
          -0.013340627020610984,
          -0.17603223067568738,
          0.810315169233477,
          0.47766831266672233,
          0.7301699567686997,
          0.18387180966437935,
          0.3357404428789536,
          0.0028135081127499974,
          0.2670944742440443,
          0.6112611450456334,
          0.5221275795001146,
          0.3271259343522183,
          -0.061370446158770256,
          0.21129486072668804,
          0.7193961870020347
         ],
         "z": [
          -0.14133486992528327,
          -0.47864679170972263,
          -0.41691912933321507,
          -0.203891064976766,
          -0.6045044648271064,
          -0.4293592499904354,
          -0.5523405314242013,
          -0.12938088639622425,
          -0.8072388735884293,
          -0.31761477796467047,
          -0.17065826210379198,
          -0.2731171604356009,
          -0.28358230703974435,
          -0.2347733679611057,
          -0.31794096667271754,
          -0.569968385972735,
          -0.4094101547931165,
          0.15790409266845518,
          -0.4721884637229585,
          -0.45077095298141573,
          -0.6050537393965705,
          -0.11047753633349063,
          -0.7753383877523977,
          -0.07953214731377191,
          -0.4972060694461572,
          -0.5472198778243701,
          -0.1797694868197482,
          -0.18529319615717674,
          -0.3171156114524822,
          -0.31078166210315633,
          -0.3707751476842784,
          -0.3322304295652598,
          -0.4280463664194448,
          -0.31268617472624605,
          -0.24699853153126636,
          -0.6466081006443093,
          -0.36944538967324586,
          -0.7997442264219918,
          -0.011510208421833949,
          -0.20355235198060084,
          -0.03848672431158163,
          -0.2359170402293439,
          0.004601529222840316,
          -0.3688460036581868,
          -0.596194952422921,
          -0.30539783348260674,
          0.22506407893343797,
          -0.499592382719541,
          -0.11523059701588532,
          -0.5401647144569489,
          -0.21232777833389144,
          -0.5496103603796637,
          0.024815881969872444,
          -0.32818775655211424,
          -0.5380241428103685,
          -0.29824568202109053,
          -0.4675916952862405,
          -0.26305385343728205,
          -0.31137041763402407,
          -0.46862017463344185,
          -0.22096969806687863,
          -0.3902386223615958,
          -0.3598352561772404,
          -0.32869428523293553,
          -0.5858553914920437,
          -0.11053789897863567,
          -0.552303660127496,
          -0.03657511997648001,
          -0.4048465551929011,
          -0.16510701357951538,
          -0.3360398956127571,
          -0.4604830678532889,
          -0.05989192378207685,
          -0.2948290492511763,
          -0.37568532499146995,
          -0.5537627091325651,
          -0.22279411450582062,
          -0.42177362848711714,
          -0.09490621755533368,
          -0.537005966145724,
          -0.34394400607900394,
          -0.499655544323722,
          0.05681888850805175,
          -0.3601028382385941,
          -0.3462541967235851,
          -0.4211268557991992,
          -0.16599627078555282,
          -0.20704425709635862,
          -0.22137877668436598,
          -0.4577186330456428,
          -0.5524790477510233,
          -0.3752180499227189,
          -0.5739504009921411,
          0.10572484987149726,
          -0.39320459261019075,
          0.08031805694370156,
          -0.4259297982988603,
          -0.15615472155563037,
          -0.40300215948844903,
          -0.5220604374469033,
          -0.11941526922864304,
          -0.2703208358751373,
          -0.4631266842854355,
          -0.33347935542919777,
          -0.2832218133693139,
          -0.3047677329306548,
          -0.3163550665123683,
          -0.35072764136095014,
          -0.3236084066406041,
          -0.21817295637342504,
          -0.6258155396918513,
          0.04434224918336998,
          -0.26143072343834556,
          -0.2226228878260976,
          -0.29828544929510414,
          0.013963756629075395,
          -0.268004599346657,
          -0.31498527658467157,
          -0.5969368035377642,
          -0.3927196205281161,
          -0.5900376043816169,
          -0.438866765534811,
          -0.03550615007754008,
          -0.15969294813486898,
          0.09639684501159335,
          -0.14544823015282313,
          -0.19701226325205737,
          -0.32445612114389705,
          -0.5213084565810908,
          -0.02005781592694953,
          -0.28630603825037376,
          -0.15243347312234848,
          -0.3803344782663674,
          -0.32108360006882547,
          -0.20120737495630978,
          -0.25278305231208764,
          -0.09900738918347964,
          -0.32525586352947206,
          -0.1570192882713908,
          -0.5468362924827881,
          -0.0539531991806984,
          -0.3165333681654821,
          -0.08620779508846994,
          -0.024105129908101444,
          -0.29085933940571135,
          -0.3683110088831501,
          -0.2591537611359942,
          -0.5236743297606223,
          -0.29139088862034757,
          -0.29966441854537534,
          -0.09840100731482551,
          -0.4618471351383739,
          -0.04197800972151118,
          -0.5963182258989347,
          -0.03627304081497157,
          0.16925837458555515,
          -0.1665361169804089,
          -0.18891941301381973,
          -0.13815953181925386,
          0.09161999780448428,
          -0.10118367225012387,
          -0.214405018440051,
          -0.21292531141480966,
          -0.3122119642931578,
          -0.1633927076475064,
          -0.159269355044836,
          -0.3866841133519127,
          -0.4225004882168156,
          -0.19560567355875985,
          -0.5306448510335144,
          -0.06481055519982315,
          0.1883577190896951,
          -0.24039262847323084,
          -0.16825662123044688,
          -0.20923892629562782,
          0.4275831770350627,
          0.4407255681007484,
          0.055622390767758136,
          0.23949784560939177,
          0.6745427236164633,
          0.882020715091624,
          0.1220269774962704,
          0.35629023441753044,
          0.19694661102150268,
          0.5175475227909807,
          0.5207080281447382,
          0.48840261538042706,
          0.4088680246871588,
          0.6995230044306743,
          0.6561434199603223,
          0.3704979133185623,
          0.43604544220467933,
          0.3868200242685703,
          0.6086367927941788,
          0.740549373530002,
          0.8729375642882811,
          0.43319415235115566,
          -0.2148131175169513,
          0.5471406290970366,
          0.3509102814680214,
          0.5958870822336777,
          0.3233265247990267,
          0.4849154852658659,
          0.5673051153985316,
          0.6202661982213522,
          0.4990768514874609,
          0.37001518254849775,
          0.1251776434786895,
          0.2511022952282767,
          0.40740063544836486,
          0.7262901419737864,
          0.08125747662786235,
          0.46882396360971923,
          -0.22635274177310383,
          0.3747595807820641,
          0.34430756733147255,
          0.49637191097895933,
          0.23219735672598174,
          0.42456094478026013,
          0.5165631236305857,
          0.17470824005543592,
          0.2786153399053417,
          0.28533263300282496,
          0.5112562304171445,
          0.6295576176644024,
          0.8342353803771686,
          0.5179107750104389,
          0.08663770684601053,
          0.6132686562843136,
          0.4032756194960135,
          0.5505729408209818,
          0.2912079032854898,
          0.33920475850804793,
          0.3476428313301904,
          0.34484433334538556,
          0.3074385950870462,
          0.4988233635947944,
          0.1917646061087141,
          0.031137752255465088,
          0.34334918543039417,
          0.5256464099351799,
          -0.11388803040152132,
          0.4382575110551957,
          -0.24001713515488945,
          0.2702242000521854,
          -0.11081577686975806,
          0.27781229538877933,
          0.12051821636531534,
          0.3332024308260366,
          0.3406396260799482,
          0.19611009717829433,
          0.0764032558923981,
          0.2004977279987925,
          0.2885788444445037,
          0.3409667952446248,
          0.5759568012903855,
          0.34857470358131354,
          -0.004744824280941804,
          0.4678593273288603,
          0.4511536696617066,
          0.5073540278861856,
          -0.06740266094412932,
          0.13105510782812677,
          0.15388794435354156,
          0.40160275631479037,
          0.49719750237870364,
          0.5111896870885976,
          0.4074952161463894,
          0.2099893616964023,
          0.6251171080132113,
          0.26131520924844187,
          0.3171755002895414,
          0.47505092455316905,
          0.08004527550157114,
          0.4823847887619456,
          -0.016091173426175907,
          0.08229131819792586,
          0.1257893227460129,
          0.6292285455605785,
          0.3433130283046769,
          0.2107427287591551,
          0.22623351224262822,
          0.39809483463783374,
          0.6276400264278196,
          -0.06932084167328431,
          0.21451706464966067,
          0.6235899493307543,
          0.4716672950419724,
          0.2906505410540836,
          0.6753397672467125,
          0.2337220598899057,
          0.4547248725758443,
          0.21346648418752348,
          0.1739670308110205,
          0.243634616517909,
          0.29813905265666435,
          0.32063149786284595,
          0.5088652360197323,
          0.2024030913887792,
          0.5186737265626797,
          0.14503375856420986,
          0.3906958281758871,
          0.42112515435910863,
          -0.1831921513896848,
          0.10784020116929913,
          0.03659108872402688,
          0.14180739590025038,
          0.2908497701651742,
          0.395398536977842,
          0.5272082650935307,
          0.09902088718344715,
          0.06902614540600677,
          0.2990270748771274,
          0.08182437186466526,
          0.03793140704171884,
          0.41823230991777033,
          0.6945714479710342,
          0.16829517124937693,
          0.27977739832803283,
          0.6512201189302247,
          0.1245642966395302,
          0.3349264899868274,
          0.3616220511119289,
          0.06405459259913587,
          0.3801244955523863,
          0.3693252057463054,
          0.4010501673313828,
          0.3852453700960242,
          0.32533108007385053,
          0.1467704496582908,
          0.3017463546578185,
          0.3347072870748763,
          0.3021625546421765,
          -0.15448650281407464,
          0.016909175029420406,
          0.23324007805904626,
          0.2492578466673552,
          0.3213879241380228,
          0.2512917942934618,
          0.7931229287168674,
          0.4302623154288729,
          0.0222373647215887,
          0.27541600148722695,
          0.4687598948591422,
          0.1402965554299801,
          0.4514175598307671,
          0.6057094703701614,
          0.11852950031415703,
          0.08581284534040316,
          0.4193228258342285,
          0.07010312636941693,
          0.3332257266096724,
          0.09767667124997147,
          0.1918977768010294,
          0.11038696749665006,
          0.27677330883464485,
          0.2707624735227408,
          0.23036416888958822,
          0.26479749365739547,
          0.2831782726253429,
          0.21841453350222745,
          0.1552601773692548,
          0.5175156567880933,
          -0.026264071779318478,
          0.17215914810879349,
          0.5490995828378927,
          0.4216374125661861,
          0.4083191609644622,
          0.3501486092258917,
          0.5900240722554746,
          -0.027383854498348906,
          0.38463442735896997,
          0.30616123487604413,
          0.38409874014644807,
          0.36684900443977975,
          0.6327570581690652,
          0.555517922181089,
          0.11602968225239522,
          0.23246068054503552,
          0.3196642302362735,
          0.062342635892416016,
          0.26596181599732005,
          0.3400622212380635,
          0.2225291860483096,
          0.22932730547207317,
          -0.05667108880041524,
          0.11940316781277584,
          0.47335864498108304,
          0.20083673383188727,
          0.09497905531829515,
          0.012162796028183468,
          -0.06645275557987322,
          -0.1353495417297839,
          0.1767012565726722,
          0.03588426957162786,
          -0.03001251832686987,
          0.35900000668647586,
          0.16391809961522594,
          0.2656317106424015,
          0.2930257077463835,
          0.4368977723832436,
          -0.2326888260120653,
          0.06742056679045726,
          0.23355276713262246,
          0.39808737032936664,
          0.43521522917264943,
          -0.16604759535422417,
          -0.12077073135225572,
          -0.17581875680645231,
          0.14794641052424348,
          0.007485781730394121,
          -0.021582449581414784,
          0.19566041759482397,
          0.0773483526047158,
          0.06619017544943692,
          -0.09058081924568549,
          0.04759902462201558,
          0.34073572786584677,
          0.24977573254512522,
          0.17989552957486352,
          0.042114295960970605,
          0.03630271094499285,
          -0.12464290273743295,
          -0.021061935881523483,
          -0.09023352295070883,
          0.33046029893495843,
          0.4627817567153716,
          0.13144357460780315,
          -0.34788098065200895,
          0.24467778486034927,
          0.4399772122510771,
          0.09364248636346653,
          -0.10141175399116771,
          0.10798870066169575,
          0.2983824840037997,
          0.2088305928715956,
          -0.010880592967468626,
          -0.4240743464747981,
          0.30728345944467095,
          0.10502214204936436,
          0.36353838432680535,
          -0.00625816492717983,
          0.34860684202917336,
          0.22069634335202973,
          -0.0010171407454800732,
          -0.10829363676611994,
          -0.3630025976943305,
          0.1720198644961336,
          0.15515284104807442,
          0.22596609426838193,
          0.2460924610683824,
          0.0399767363507105,
          -0.20497582092181343,
          -0.03838970025386907,
          -0.38624864045073243,
          -0.07358752634585147,
          0.18833928646420695,
          0.07509928866197042,
          -0.018087471544814975,
          0.20022948744316388,
          0.45054461363335,
          -0.10167967379684927,
          0.029865995607706846,
          0.12654189385078266,
          0.02668354009410754,
          0.08533059794070877,
          -0.018578451798486127,
          -0.23391868210160338,
          0.02420097832697359,
          0.07687543454981154,
          0.35495385791597966,
          -1.6867493320514928e-05,
          0.2527615536688752,
          0.3659049604973254,
          0.006405950846982353,
          -0.3812280384388764,
          -0.36676808559836865,
          -0.1210071342489922,
          0.03919783408543168,
          -0.16169864475378076,
          0.16660899937878643,
          0.0634908811873084,
          -0.11882159028647866,
          0.23476865874744635,
          -0.44266932452825475,
          -0.05910690956564146,
          -0.009719209419277024,
          0.10851944432087218,
          0.060026622311910485,
          0.10999807013287914,
          0.3158571279650066,
          -0.07525190962324242,
          0.05625390148632478,
          -0.12586158671107284,
          0.154234425093931,
          0.04896156782547613,
          -0.29452280378128476,
          -0.3166638328045227,
          -0.10484610050411375,
          -0.004520250924199896,
          -0.2794562808567569,
          0.11029176572896604,
          0.5147591315446185,
          0.4138432118908059,
          -0.2351019907877986,
          -0.1117655075555933,
          -0.21177042379726693,
          -0.2053641988082532,
          -0.08061039727752087,
          -0.09413594496500476,
          0.09479161456543586,
          0.1417580641639635,
          -0.21333484242164474,
          -0.05885961292161981,
          -0.5348992390779859,
          -0.283946367927789,
          -0.0346939062286621,
          0.24972262980249596,
          -0.20976766256258253,
          0.1260184321655368,
          0.0046466537332028246,
          -0.03563949320638076,
          -0.023502763508180143,
          -0.21364839696967972,
          -0.16599458993910898,
          -0.0020583603688896475,
          -0.20869287066175335,
          -0.3702228601762424,
          -0.06159817261429963,
          0.018141823877493163,
          0.04428398688731052,
          0.08356034149174502,
          0.34691420618391305,
          0.5020503624826405,
          -0.1519222457934701,
          -0.30064745785519825,
          -0.02530752562518345,
          -0.3126802683967213,
          0.09444657518942878,
          -0.4522181625006061,
          0.012784664346408849,
          -0.16124393331858,
          -0.18124255952857765,
          -0.17815746965594645,
          -0.44170991928002085,
          0.10371708795442382,
          -0.1039799867599599,
          -0.012225567681934708,
          -0.3488301633621193,
          -0.01295761202126935,
          -0.09636841623099089,
          -0.038964197544885386,
          0.06415133180323533,
          -0.4289606294176176,
          -0.21166243561085685,
          -0.02797582315443874,
          -0.2795453786754842,
          -0.4347950479097265,
          -0.2291928914681761,
          0.11640087721043042,
          -0.16462494206871459,
          0.01952151135200869,
          -0.1746590338053029,
          0.04904590617176716,
          -0.21886989808826246,
          -0.6946327988620301,
          -0.5049675025198158,
          -0.29448805281594903,
          -0.2843141627994512,
          -0.29495298385817625,
          -0.1023642722141714,
          -0.10901808698266317,
          -0.4492443807188196,
          -0.139500097067939,
          -0.5882293425195136,
          -0.07806810533865341,
          -0.328815089496498,
          -0.1345529211317779,
          -0.5235723822464027,
          -0.20165344941412489,
          -0.33355423956297153,
          -0.47309809431657457,
          -0.4105406959925287,
          -0.6344612816794026,
          -0.17348868210932608,
          -0.45930185675516266,
          -0.3893468865032398,
          -0.3402101913108714,
          -0.4633653551417154,
          -0.1458988784751394,
          -0.586946565699263,
          -0.13551427767250862,
          -0.33599011250034816,
          -0.26126343139865743,
          -0.5214232806740653,
          -0.4687912882181333,
          -0.16308574723094607,
          -0.3267804370808338,
          -0.12784795551556655,
          -0.4051059250635234,
          -0.19500359184196708,
          -0.17696652564432672,
          -0.29558678042662045,
          -0.14432648658183764,
          -0.4464870108106556,
          -0.23203502007439583,
          -0.32187005977948774,
          -0.06789703751250427,
          -0.17564776858267364,
          -0.581583505523094,
          -0.07938992387761479,
          -0.3645539506869168,
          -0.4446004701007965,
          -0.5388909905685013,
          -0.1824055923793183,
          0.19067145371343205,
          -0.2710960191795922,
          -0.25004331453992384,
          -0.37377551009714377,
          -0.09418970631689473,
          -0.24145269279125567,
          -0.2407170300853606,
          -0.34121574837310725,
          0.12302856216902279,
          -0.404136995055899
         ]
        }
       ],
       "layout": {
        "coloraxis": {
         "colorbar": {
          "title": {
           "text": "PIE"
          }
         },
         "colorscale": [
          [
           0,
           "#0d0887"
          ],
          [
           0.1111111111111111,
           "#46039f"
          ],
          [
           0.2222222222222222,
           "#7201a8"
          ],
          [
           0.3333333333333333,
           "#9c179e"
          ],
          [
           0.4444444444444444,
           "#bd3786"
          ],
          [
           0.5555555555555556,
           "#d8576b"
          ],
          [
           0.6666666666666666,
           "#ed7953"
          ],
          [
           0.7777777777777778,
           "#fb9f3a"
          ],
          [
           0.8888888888888888,
           "#fdca26"
          ],
          [
           1,
           "#f0f921"
          ]
         ]
        },
        "legend": {
         "tracegroupgap": 0
        },
        "scene": {
         "domain": {
          "x": [
           0,
           1
          ],
          "y": [
           0,
           1
          ]
         },
         "xaxis": {
          "title": {
           "text": "PC1"
          }
         },
         "yaxis": {
          "title": {
           "text": "PC2"
          }
         },
         "zaxis": {
          "title": {
           "text": "PC3"
          }
         }
        },
        "template": {
         "data": {
          "bar": [
           {
            "error_x": {
             "color": "#2a3f5f"
            },
            "error_y": {
             "color": "#2a3f5f"
            },
            "marker": {
             "line": {
              "color": "#E5ECF6",
              "width": 0.5
             },
             "pattern": {
              "fillmode": "overlay",
              "size": 10,
              "solidity": 0.2
             }
            },
            "type": "bar"
           }
          ],
          "barpolar": [
           {
            "marker": {
             "line": {
              "color": "#E5ECF6",
              "width": 0.5
             },
             "pattern": {
              "fillmode": "overlay",
              "size": 10,
              "solidity": 0.2
             }
            },
            "type": "barpolar"
           }
          ],
          "carpet": [
           {
            "aaxis": {
             "endlinecolor": "#2a3f5f",
             "gridcolor": "white",
             "linecolor": "white",
             "minorgridcolor": "white",
             "startlinecolor": "#2a3f5f"
            },
            "baxis": {
             "endlinecolor": "#2a3f5f",
             "gridcolor": "white",
             "linecolor": "white",
             "minorgridcolor": "white",
             "startlinecolor": "#2a3f5f"
            },
            "type": "carpet"
           }
          ],
          "choropleth": [
           {
            "colorbar": {
             "outlinewidth": 0,
             "ticks": ""
            },
            "type": "choropleth"
           }
          ],
          "contour": [
           {
            "colorbar": {
             "outlinewidth": 0,
             "ticks": ""
            },
            "colorscale": [
             [
              0,
              "#0d0887"
             ],
             [
              0.1111111111111111,
              "#46039f"
             ],
             [
              0.2222222222222222,
              "#7201a8"
             ],
             [
              0.3333333333333333,
              "#9c179e"
             ],
             [
              0.4444444444444444,
              "#bd3786"
             ],
             [
              0.5555555555555556,
              "#d8576b"
             ],
             [
              0.6666666666666666,
              "#ed7953"
             ],
             [
              0.7777777777777778,
              "#fb9f3a"
             ],
             [
              0.8888888888888888,
              "#fdca26"
             ],
             [
              1,
              "#f0f921"
             ]
            ],
            "type": "contour"
           }
          ],
          "contourcarpet": [
           {
            "colorbar": {
             "outlinewidth": 0,
             "ticks": ""
            },
            "type": "contourcarpet"
           }
          ],
          "heatmap": [
           {
            "colorbar": {
             "outlinewidth": 0,
             "ticks": ""
            },
            "colorscale": [
             [
              0,
              "#0d0887"
             ],
             [
              0.1111111111111111,
              "#46039f"
             ],
             [
              0.2222222222222222,
              "#7201a8"
             ],
             [
              0.3333333333333333,
              "#9c179e"
             ],
             [
              0.4444444444444444,
              "#bd3786"
             ],
             [
              0.5555555555555556,
              "#d8576b"
             ],
             [
              0.6666666666666666,
              "#ed7953"
             ],
             [
              0.7777777777777778,
              "#fb9f3a"
             ],
             [
              0.8888888888888888,
              "#fdca26"
             ],
             [
              1,
              "#f0f921"
             ]
            ],
            "type": "heatmap"
           }
          ],
          "heatmapgl": [
           {
            "colorbar": {
             "outlinewidth": 0,
             "ticks": ""
            },
            "colorscale": [
             [
              0,
              "#0d0887"
             ],
             [
              0.1111111111111111,
              "#46039f"
             ],
             [
              0.2222222222222222,
              "#7201a8"
             ],
             [
              0.3333333333333333,
              "#9c179e"
             ],
             [
              0.4444444444444444,
              "#bd3786"
             ],
             [
              0.5555555555555556,
              "#d8576b"
             ],
             [
              0.6666666666666666,
              "#ed7953"
             ],
             [
              0.7777777777777778,
              "#fb9f3a"
             ],
             [
              0.8888888888888888,
              "#fdca26"
             ],
             [
              1,
              "#f0f921"
             ]
            ],
            "type": "heatmapgl"
           }
          ],
          "histogram": [
           {
            "marker": {
             "pattern": {
              "fillmode": "overlay",
              "size": 10,
              "solidity": 0.2
             }
            },
            "type": "histogram"
           }
          ],
          "histogram2d": [
           {
            "colorbar": {
             "outlinewidth": 0,
             "ticks": ""
            },
            "colorscale": [
             [
              0,
              "#0d0887"
             ],
             [
              0.1111111111111111,
              "#46039f"
             ],
             [
              0.2222222222222222,
              "#7201a8"
             ],
             [
              0.3333333333333333,
              "#9c179e"
             ],
             [
              0.4444444444444444,
              "#bd3786"
             ],
             [
              0.5555555555555556,
              "#d8576b"
             ],
             [
              0.6666666666666666,
              "#ed7953"
             ],
             [
              0.7777777777777778,
              "#fb9f3a"
             ],
             [
              0.8888888888888888,
              "#fdca26"
             ],
             [
              1,
              "#f0f921"
             ]
            ],
            "type": "histogram2d"
           }
          ],
          "histogram2dcontour": [
           {
            "colorbar": {
             "outlinewidth": 0,
             "ticks": ""
            },
            "colorscale": [
             [
              0,
              "#0d0887"
             ],
             [
              0.1111111111111111,
              "#46039f"
             ],
             [
              0.2222222222222222,
              "#7201a8"
             ],
             [
              0.3333333333333333,
              "#9c179e"
             ],
             [
              0.4444444444444444,
              "#bd3786"
             ],
             [
              0.5555555555555556,
              "#d8576b"
             ],
             [
              0.6666666666666666,
              "#ed7953"
             ],
             [
              0.7777777777777778,
              "#fb9f3a"
             ],
             [
              0.8888888888888888,
              "#fdca26"
             ],
             [
              1,
              "#f0f921"
             ]
            ],
            "type": "histogram2dcontour"
           }
          ],
          "mesh3d": [
           {
            "colorbar": {
             "outlinewidth": 0,
             "ticks": ""
            },
            "type": "mesh3d"
           }
          ],
          "parcoords": [
           {
            "line": {
             "colorbar": {
              "outlinewidth": 0,
              "ticks": ""
             }
            },
            "type": "parcoords"
           }
          ],
          "pie": [
           {
            "automargin": true,
            "type": "pie"
           }
          ],
          "scatter": [
           {
            "marker": {
             "colorbar": {
              "outlinewidth": 0,
              "ticks": ""
             }
            },
            "type": "scatter"
           }
          ],
          "scatter3d": [
           {
            "line": {
             "colorbar": {
              "outlinewidth": 0,
              "ticks": ""
             }
            },
            "marker": {
             "colorbar": {
              "outlinewidth": 0,
              "ticks": ""
             }
            },
            "type": "scatter3d"
           }
          ],
          "scattercarpet": [
           {
            "marker": {
             "colorbar": {
              "outlinewidth": 0,
              "ticks": ""
             }
            },
            "type": "scattercarpet"
           }
          ],
          "scattergeo": [
           {
            "marker": {
             "colorbar": {
              "outlinewidth": 0,
              "ticks": ""
             }
            },
            "type": "scattergeo"
           }
          ],
          "scattergl": [
           {
            "marker": {
             "colorbar": {
              "outlinewidth": 0,
              "ticks": ""
             }
            },
            "type": "scattergl"
           }
          ],
          "scattermapbox": [
           {
            "marker": {
             "colorbar": {
              "outlinewidth": 0,
              "ticks": ""
             }
            },
            "type": "scattermapbox"
           }
          ],
          "scatterpolar": [
           {
            "marker": {
             "colorbar": {
              "outlinewidth": 0,
              "ticks": ""
             }
            },
            "type": "scatterpolar"
           }
          ],
          "scatterpolargl": [
           {
            "marker": {
             "colorbar": {
              "outlinewidth": 0,
              "ticks": ""
             }
            },
            "type": "scatterpolargl"
           }
          ],
          "scatterternary": [
           {
            "marker": {
             "colorbar": {
              "outlinewidth": 0,
              "ticks": ""
             }
            },
            "type": "scatterternary"
           }
          ],
          "surface": [
           {
            "colorbar": {
             "outlinewidth": 0,
             "ticks": ""
            },
            "colorscale": [
             [
              0,
              "#0d0887"
             ],
             [
              0.1111111111111111,
              "#46039f"
             ],
             [
              0.2222222222222222,
              "#7201a8"
             ],
             [
              0.3333333333333333,
              "#9c179e"
             ],
             [
              0.4444444444444444,
              "#bd3786"
             ],
             [
              0.5555555555555556,
              "#d8576b"
             ],
             [
              0.6666666666666666,
              "#ed7953"
             ],
             [
              0.7777777777777778,
              "#fb9f3a"
             ],
             [
              0.8888888888888888,
              "#fdca26"
             ],
             [
              1,
              "#f0f921"
             ]
            ],
            "type": "surface"
           }
          ],
          "table": [
           {
            "cells": {
             "fill": {
              "color": "#EBF0F8"
             },
             "line": {
              "color": "white"
             }
            },
            "header": {
             "fill": {
              "color": "#C8D4E3"
             },
             "line": {
              "color": "white"
             }
            },
            "type": "table"
           }
          ]
         },
         "layout": {
          "annotationdefaults": {
           "arrowcolor": "#2a3f5f",
           "arrowhead": 0,
           "arrowwidth": 1
          },
          "autotypenumbers": "strict",
          "coloraxis": {
           "colorbar": {
            "outlinewidth": 0,
            "ticks": ""
           }
          },
          "colorscale": {
           "diverging": [
            [
             0,
             "#8e0152"
            ],
            [
             0.1,
             "#c51b7d"
            ],
            [
             0.2,
             "#de77ae"
            ],
            [
             0.3,
             "#f1b6da"
            ],
            [
             0.4,
             "#fde0ef"
            ],
            [
             0.5,
             "#f7f7f7"
            ],
            [
             0.6,
             "#e6f5d0"
            ],
            [
             0.7,
             "#b8e186"
            ],
            [
             0.8,
             "#7fbc41"
            ],
            [
             0.9,
             "#4d9221"
            ],
            [
             1,
             "#276419"
            ]
           ],
           "sequential": [
            [
             0,
             "#0d0887"
            ],
            [
             0.1111111111111111,
             "#46039f"
            ],
            [
             0.2222222222222222,
             "#7201a8"
            ],
            [
             0.3333333333333333,
             "#9c179e"
            ],
            [
             0.4444444444444444,
             "#bd3786"
            ],
            [
             0.5555555555555556,
             "#d8576b"
            ],
            [
             0.6666666666666666,
             "#ed7953"
            ],
            [
             0.7777777777777778,
             "#fb9f3a"
            ],
            [
             0.8888888888888888,
             "#fdca26"
            ],
            [
             1,
             "#f0f921"
            ]
           ],
           "sequentialminus": [
            [
             0,
             "#0d0887"
            ],
            [
             0.1111111111111111,
             "#46039f"
            ],
            [
             0.2222222222222222,
             "#7201a8"
            ],
            [
             0.3333333333333333,
             "#9c179e"
            ],
            [
             0.4444444444444444,
             "#bd3786"
            ],
            [
             0.5555555555555556,
             "#d8576b"
            ],
            [
             0.6666666666666666,
             "#ed7953"
            ],
            [
             0.7777777777777778,
             "#fb9f3a"
            ],
            [
             0.8888888888888888,
             "#fdca26"
            ],
            [
             1,
             "#f0f921"
            ]
           ]
          },
          "colorway": [
           "#636efa",
           "#EF553B",
           "#00cc96",
           "#ab63fa",
           "#FFA15A",
           "#19d3f3",
           "#FF6692",
           "#B6E880",
           "#FF97FF",
           "#FECB52"
          ],
          "font": {
           "color": "#2a3f5f"
          },
          "geo": {
           "bgcolor": "white",
           "lakecolor": "white",
           "landcolor": "#E5ECF6",
           "showlakes": true,
           "showland": true,
           "subunitcolor": "white"
          },
          "hoverlabel": {
           "align": "left"
          },
          "hovermode": "closest",
          "mapbox": {
           "style": "light"
          },
          "paper_bgcolor": "white",
          "plot_bgcolor": "#E5ECF6",
          "polar": {
           "angularaxis": {
            "gridcolor": "white",
            "linecolor": "white",
            "ticks": ""
           },
           "bgcolor": "#E5ECF6",
           "radialaxis": {
            "gridcolor": "white",
            "linecolor": "white",
            "ticks": ""
           }
          },
          "scene": {
           "xaxis": {
            "backgroundcolor": "#E5ECF6",
            "gridcolor": "white",
            "gridwidth": 2,
            "linecolor": "white",
            "showbackground": true,
            "ticks": "",
            "zerolinecolor": "white"
           },
           "yaxis": {
            "backgroundcolor": "#E5ECF6",
            "gridcolor": "white",
            "gridwidth": 2,
            "linecolor": "white",
            "showbackground": true,
            "ticks": "",
            "zerolinecolor": "white"
           },
           "zaxis": {
            "backgroundcolor": "#E5ECF6",
            "gridcolor": "white",
            "gridwidth": 2,
            "linecolor": "white",
            "showbackground": true,
            "ticks": "",
            "zerolinecolor": "white"
           }
          },
          "shapedefaults": {
           "line": {
            "color": "#2a3f5f"
           }
          },
          "ternary": {
           "aaxis": {
            "gridcolor": "white",
            "linecolor": "white",
            "ticks": ""
           },
           "baxis": {
            "gridcolor": "white",
            "linecolor": "white",
            "ticks": ""
           },
           "bgcolor": "#E5ECF6",
           "caxis": {
            "gridcolor": "white",
            "linecolor": "white",
            "ticks": ""
           }
          },
          "title": {
           "x": 0.05
          },
          "xaxis": {
           "automargin": true,
           "gridcolor": "white",
           "linecolor": "white",
           "ticks": "",
           "title": {
            "standoff": 15
           },
           "zerolinecolor": "white",
           "zerolinewidth": 2
          },
          "yaxis": {
           "automargin": true,
           "gridcolor": "white",
           "linecolor": "white",
           "ticks": "",
           "title": {
            "standoff": 15
           },
           "zerolinecolor": "white",
           "zerolinewidth": 2
          }
         }
        },
        "title": {
         "text": "Total Explained Variance: 60.61%"
        }
       }
      },
      "text/html": [
       "<div>                            <div id=\"4256384a-5d50-4833-b321-bf4ebba65821\" class=\"plotly-graph-div\" style=\"height:525px; width:100%;\"></div>            <script type=\"text/javascript\">                require([\"plotly\"], function(Plotly) {                    window.PLOTLYENV=window.PLOTLYENV || {};                                    if (document.getElementById(\"4256384a-5d50-4833-b321-bf4ebba65821\")) {                    Plotly.newPlot(                        \"4256384a-5d50-4833-b321-bf4ebba65821\",                        [{\"customdata\":[[0.341,\"Atlanta Hawks 1999-00\"],[0.427,\"Boston Celtics 1999-00\"],[0.598,\"Charlotte Hornets 1999-00\"],[0.207,\"Chicago Bulls 1999-00\"],[0.39,\"Cleveland Cavaliers 1999-00\"],[0.488,\"Dallas Mavericks 1999-00\"],[0.427,\"Denver Nuggets 1999-00\"],[0.512,\"Detroit Pistons 1999-00\"],[0.232,\"Golden State Warriors 1999-00\"],[0.415,\"Houston Rockets 1999-00\"],[0.683,\"Indiana Pacers 1999-00\"],[0.183,\"Los Angeles Clippers 1999-00\"],[0.817,\"Los Angeles Lakers 1999-00\"],[0.634,\"Miami Heat 1999-00\"],[0.512,\"Milwaukee Bucks 1999-00\"],[0.61,\"Minnesota Timberwolves 1999-00\"],[0.378,\"New Jersey Nets 1999-00\"],[0.61,\"New York Knicks 1999-00\"],[0.5,\"Orlando Magic 1999-00\"],[0.598,\"Philadelphia 76ers 1999-00\"],[0.646,\"Phoenix Suns 1999-00\"],[0.72,\"Portland Trail Blazers 1999-00\"],[0.537,\"Sacramento Kings 1999-00\"],[0.646,\"San Antonio Spurs 1999-00\"],[0.549,\"Seattle SuperSonics 1999-00\"],[0.549,\"Toronto Raptors 1999-00\"],[0.671,\"Utah Jazz 1999-00\"],[0.268,\"Vancouver Grizzlies 1999-00\"],[0.354,\"Washington Wizards 1999-00\"],[0.305,\"Atlanta Hawks 2000-01\"],[0.439,\"Boston Celtics 2000-01\"],[0.561,\"Charlotte Hornets 2000-01\"],[0.183,\"Chicago Bulls 2000-01\"],[0.366,\"Cleveland Cavaliers 2000-01\"],[0.646,\"Dallas Mavericks 2000-01\"],[0.488,\"Denver Nuggets 2000-01\"],[0.39,\"Detroit Pistons 2000-01\"],[0.207,\"Golden State Warriors 2000-01\"],[0.549,\"Houston Rockets 2000-01\"],[0.5,\"Indiana Pacers 2000-01\"],[0.378,\"Los Angeles Clippers 2000-01\"],[0.683,\"Los Angeles Lakers 2000-01\"],[0.61,\"Miami Heat 2000-01\"],[0.634,\"Milwaukee Bucks 2000-01\"],[0.573,\"Minnesota Timberwolves 2000-01\"],[0.317,\"New Jersey Nets 2000-01\"],[0.585,\"New York Knicks 2000-01\"],[0.524,\"Orlando Magic 2000-01\"],[0.683,\"Philadelphia 76ers 2000-01\"],[0.622,\"Phoenix Suns 2000-01\"],[0.61,\"Portland Trail Blazers 2000-01\"],[0.671,\"Sacramento Kings 2000-01\"],[0.707,\"San Antonio Spurs 2000-01\"],[0.537,\"Seattle SuperSonics 2000-01\"],[0.573,\"Toronto Raptors 2000-01\"],[0.646,\"Utah Jazz 2000-01\"],[0.28,\"Vancouver Grizzlies 2000-01\"],[0.232,\"Washington Wizards 2000-01\"],[0.402,\"Atlanta Hawks 2001-02\"],[0.598,\"Boston Celtics 2001-02\"],[0.537,\"Charlotte Hornets 2001-02\"],[0.256,\"Chicago Bulls 2001-02\"],[0.354,\"Cleveland Cavaliers 2001-02\"],[0.695,\"Dallas Mavericks 2001-02\"],[0.329,\"Denver Nuggets 2001-02\"],[0.61,\"Detroit Pistons 2001-02\"],[0.256,\"Golden State Warriors 2001-02\"],[0.341,\"Houston Rockets 2001-02\"],[0.512,\"Indiana Pacers 2001-02\"],[0.476,\"Los Angeles Clippers 2001-02\"],[0.707,\"Los Angeles Lakers 2001-02\"],[0.28,\"Memphis Grizzlies 2001-02\"],[0.439,\"Miami Heat 2001-02\"],[0.5,\"Milwaukee Bucks 2001-02\"],[0.61,\"Minnesota Timberwolves 2001-02\"],[0.634,\"New Jersey Nets 2001-02\"],[0.366,\"New York Knicks 2001-02\"],[0.537,\"Orlando Magic 2001-02\"],[0.524,\"Philadelphia 76ers 2001-02\"],[0.439,\"Phoenix Suns 2001-02\"],[0.598,\"Portland Trail Blazers 2001-02\"],[0.744,\"Sacramento Kings 2001-02\"],[0.707,\"San Antonio Spurs 2001-02\"],[0.549,\"Seattle SuperSonics 2001-02\"],[0.512,\"Toronto Raptors 2001-02\"],[0.537,\"Utah Jazz 2001-02\"],[0.451,\"Washington Wizards 2001-02\"],[0.427,\"Atlanta Hawks 2002-03\"],[0.537,\"Boston Celtics 2002-03\"],[0.366,\"Chicago Bulls 2002-03\"],[0.207,\"Cleveland Cavaliers 2002-03\"],[0.732,\"Dallas Mavericks 2002-03\"],[0.207,\"Denver Nuggets 2002-03\"],[0.61,\"Detroit Pistons 2002-03\"],[0.463,\"Golden State Warriors 2002-03\"],[0.524,\"Houston Rockets 2002-03\"],[0.585,\"Indiana Pacers 2002-03\"],[0.329,\"Los Angeles Clippers 2002-03\"],[0.61,\"Los Angeles Lakers 2002-03\"],[0.341,\"Memphis Grizzlies 2002-03\"],[0.305,\"Miami Heat 2002-03\"],[0.512,\"Milwaukee Bucks 2002-03\"],[0.622,\"Minnesota Timberwolves 2002-03\"],[0.598,\"New Jersey Nets 2002-03\"],[0.573,\"New Orleans Hornets 2002-03\"],[0.451,\"New York Knicks 2002-03\"],[0.512,\"Orlando Magic 2002-03\"],[0.585,\"Philadelphia 76ers 2002-03\"],[0.537,\"Phoenix Suns 2002-03\"],[0.61,\"Portland Trail Blazers 2002-03\"],[0.72,\"Sacramento Kings 2002-03\"],[0.732,\"San Antonio Spurs 2002-03\"],[0.488,\"Seattle SuperSonics 2002-03\"],[0.293,\"Toronto Raptors 2002-03\"],[0.573,\"Utah Jazz 2002-03\"],[0.451,\"Washington Wizards 2002-03\"],[0.341,\"Atlanta Hawks 2003-04\"],[0.439,\"Boston Celtics 2003-04\"],[0.28,\"Chicago Bulls 2003-04\"],[0.427,\"Cleveland Cavaliers 2003-04\"],[0.634,\"Dallas Mavericks 2003-04\"],[0.524,\"Denver Nuggets 2003-04\"],[0.659,\"Detroit Pistons 2003-04\"],[0.451,\"Golden State Warriors 2003-04\"],[0.549,\"Houston Rockets 2003-04\"],[0.744,\"Indiana Pacers 2003-04\"],[0.341,\"Los Angeles Clippers 2003-04\"],[0.683,\"Los Angeles Lakers 2003-04\"],[0.61,\"Memphis Grizzlies 2003-04\"],[0.512,\"Miami Heat 2003-04\"],[0.5,\"Milwaukee Bucks 2003-04\"],[0.707,\"Minnesota Timberwolves 2003-04\"],[0.573,\"New Jersey Nets 2003-04\"],[0.5,\"New Orleans Hornets 2003-04\"],[0.476,\"New York Knicks 2003-04\"],[0.256,\"Orlando Magic 2003-04\"],[0.402,\"Philadelphia 76ers 2003-04\"],[0.354,\"Phoenix Suns 2003-04\"],[0.5,\"Portland Trail Blazers 2003-04\"],[0.671,\"Sacramento Kings 2003-04\"],[0.695,\"San Antonio Spurs 2003-04\"],[0.451,\"Seattle SuperSonics 2003-04\"],[0.402,\"Toronto Raptors 2003-04\"],[0.512,\"Utah Jazz 2003-04\"],[0.305,\"Washington Wizards 2003-04\"],[0.159,\"Atlanta Hawks 2004-05\"],[0.549,\"Boston Celtics 2004-05\"],[0.22,\"Charlotte Bobcats 2004-05\"],[0.573,\"Chicago Bulls 2004-05\"],[0.512,\"Cleveland Cavaliers 2004-05\"],[0.707,\"Dallas Mavericks 2004-05\"],[0.598,\"Denver Nuggets 2004-05\"],[0.659,\"Detroit Pistons 2004-05\"],[0.415,\"Golden State Warriors 2004-05\"],[0.622,\"Houston Rockets 2004-05\"],[0.537,\"Indiana Pacers 2004-05\"],[0.451,\"Los Angeles Clippers 2004-05\"],[0.415,\"Los Angeles Lakers 2004-05\"],[0.549,\"Memphis Grizzlies 2004-05\"],[0.72,\"Miami Heat 2004-05\"],[0.366,\"Milwaukee Bucks 2004-05\"],[0.537,\"Minnesota Timberwolves 2004-05\"],[0.512,\"New Jersey Nets 2004-05\"],[0.22,\"New Orleans Hornets 2004-05\"],[0.402,\"New York Knicks 2004-05\"],[0.439,\"Orlando Magic 2004-05\"],[0.524,\"Philadelphia 76ers 2004-05\"],[0.756,\"Phoenix Suns 2004-05\"],[0.329,\"Portland Trail Blazers 2004-05\"],[0.61,\"Sacramento Kings 2004-05\"],[0.72,\"San Antonio Spurs 2004-05\"],[0.634,\"Seattle SuperSonics 2004-05\"],[0.402,\"Toronto Raptors 2004-05\"],[0.317,\"Utah Jazz 2004-05\"],[0.549,\"Washington Wizards 2004-05\"],[0.317,\"Atlanta Hawks 2005-06\"],[0.402,\"Boston Celtics 2005-06\"],[0.317,\"Charlotte Bobcats 2005-06\"],[0.5,\"Chicago Bulls 2005-06\"],[0.61,\"Cleveland Cavaliers 2005-06\"],[0.732,\"Dallas Mavericks 2005-06\"],[0.537,\"Denver Nuggets 2005-06\"],[0.78,\"Detroit Pistons 2005-06\"],[0.415,\"Golden State Warriors 2005-06\"],[0.415,\"Houston Rockets 2005-06\"],[0.5,\"Indiana Pacers 2005-06\"],[0.573,\"Los Angeles Clippers 2005-06\"],[0.549,\"Los Angeles Lakers 2005-06\"],[0.598,\"Memphis Grizzlies 2005-06\"],[0.634,\"Miami Heat 2005-06\"],[0.488,\"Milwaukee Bucks 2005-06\"],[0.402,\"Minnesota Timberwolves 2005-06\"],[0.598,\"New Jersey Nets 2005-06\"],[0.463,\"New Orleans/Oklahoma City Hornets 2005-06\"],[0.28,\"New York Knicks 2005-06\"],[0.439,\"Orlando Magic 2005-06\"],[0.463,\"Philadelphia 76ers 2005-06\"],[0.659,\"Phoenix Suns 2005-06\"],[0.256,\"Portland Trail Blazers 2005-06\"],[0.537,\"Sacramento Kings 2005-06\"],[0.768,\"San Antonio Spurs 2005-06\"],[0.427,\"Seattle SuperSonics 2005-06\"],[0.329,\"Toronto Raptors 2005-06\"],[0.5,\"Utah Jazz 2005-06\"],[0.512,\"Washington Wizards 2005-06\"],[0.366,\"Atlanta Hawks 2006-07\"],[0.293,\"Boston Celtics 2006-07\"],[0.402,\"Charlotte Bobcats 2006-07\"],[0.598,\"Chicago Bulls 2006-07\"],[0.61,\"Cleveland Cavaliers 2006-07\"],[0.817,\"Dallas Mavericks 2006-07\"],[0.549,\"Denver Nuggets 2006-07\"],[0.646,\"Detroit Pistons 2006-07\"],[0.512,\"Golden State Warriors 2006-07\"],[0.634,\"Houston Rockets 2006-07\"],[0.427,\"Indiana Pacers 2006-07\"],[0.488,\"Los Angeles Clippers 2006-07\"],[0.512,\"Los Angeles Lakers 2006-07\"],[0.268,\"Memphis Grizzlies 2006-07\"],[0.537,\"Miami Heat 2006-07\"],[0.341,\"Milwaukee Bucks 2006-07\"],[0.39,\"Minnesota Timberwolves 2006-07\"],[0.5,\"New Jersey Nets 2006-07\"],[0.476,\"New Orleans/Oklahoma City Hornets 2006-07\"],[0.402,\"New York Knicks 2006-07\"],[0.488,\"Orlando Magic 2006-07\"],[0.427,\"Philadelphia 76ers 2006-07\"],[0.744,\"Phoenix Suns 2006-07\"],[0.39,\"Portland Trail Blazers 2006-07\"],[0.402,\"Sacramento Kings 2006-07\"],[0.707,\"San Antonio Spurs 2006-07\"],[0.378,\"Seattle SuperSonics 2006-07\"],[0.573,\"Toronto Raptors 2006-07\"],[0.622,\"Utah Jazz 2006-07\"],[0.5,\"Washington Wizards 2006-07\"],[0.451,\"Atlanta Hawks 2007-08\"],[0.805,\"Boston Celtics 2007-08\"],[0.39,\"Charlotte Bobcats 2007-08\"],[0.402,\"Chicago Bulls 2007-08\"],[0.549,\"Cleveland Cavaliers 2007-08\"],[0.622,\"Dallas Mavericks 2007-08\"],[0.61,\"Denver Nuggets 2007-08\"],[0.72,\"Detroit Pistons 2007-08\"],[0.585,\"Golden State Warriors 2007-08\"],[0.671,\"Houston Rockets 2007-08\"],[0.439,\"Indiana Pacers 2007-08\"],[0.28,\"Los Angeles Clippers 2007-08\"],[0.695,\"Los Angeles Lakers 2007-08\"],[0.268,\"Memphis Grizzlies 2007-08\"],[0.183,\"Miami Heat 2007-08\"],[0.317,\"Milwaukee Bucks 2007-08\"],[0.268,\"Minnesota Timberwolves 2007-08\"],[0.415,\"New Jersey Nets 2007-08\"],[0.683,\"New Orleans Hornets 2007-08\"],[0.28,\"New York Knicks 2007-08\"],[0.634,\"Orlando Magic 2007-08\"],[0.488,\"Philadelphia 76ers 2007-08\"],[0.671,\"Phoenix Suns 2007-08\"],[0.5,\"Portland Trail Blazers 2007-08\"],[0.463,\"Sacramento Kings 2007-08\"],[0.683,\"San Antonio Spurs 2007-08\"],[0.244,\"Seattle SuperSonics 2007-08\"],[0.5,\"Toronto Raptors 2007-08\"],[0.659,\"Utah Jazz 2007-08\"],[0.524,\"Washington Wizards 2007-08\"],[0.573,\"Atlanta Hawks 2008-09\"],[0.756,\"Boston Celtics 2008-09\"],[0.427,\"Charlotte Bobcats 2008-09\"],[0.5,\"Chicago Bulls 2008-09\"],[0.805,\"Cleveland Cavaliers 2008-09\"],[0.61,\"Dallas Mavericks 2008-09\"],[0.659,\"Denver Nuggets 2008-09\"],[0.476,\"Detroit Pistons 2008-09\"],[0.354,\"Golden State Warriors 2008-09\"],[0.646,\"Houston Rockets 2008-09\"],[0.439,\"Indiana Pacers 2008-09\"],[0.232,\"Los Angeles Clippers 2008-09\"],[0.793,\"Los Angeles Lakers 2008-09\"],[0.293,\"Memphis Grizzlies 2008-09\"],[0.524,\"Miami Heat 2008-09\"],[0.415,\"Milwaukee Bucks 2008-09\"],[0.293,\"Minnesota Timberwolves 2008-09\"],[0.415,\"New Jersey Nets 2008-09\"],[0.598,\"New Orleans Hornets 2008-09\"],[0.39,\"New York Knicks 2008-09\"],[0.28,\"Oklahoma City Thunder 2008-09\"],[0.72,\"Orlando Magic 2008-09\"],[0.5,\"Philadelphia 76ers 2008-09\"],[0.561,\"Phoenix Suns 2008-09\"],[0.659,\"Portland Trail Blazers 2008-09\"],[0.207,\"Sacramento Kings 2008-09\"],[0.659,\"San Antonio Spurs 2008-09\"],[0.402,\"Toronto Raptors 2008-09\"],[0.585,\"Utah Jazz 2008-09\"],[0.232,\"Washington Wizards 2008-09\"],[0.646,\"Atlanta Hawks 2009-10\"],[0.61,\"Boston Celtics 2009-10\"],[0.537,\"Charlotte Bobcats 2009-10\"],[0.5,\"Chicago Bulls 2009-10\"],[0.744,\"Cleveland Cavaliers 2009-10\"],[0.671,\"Dallas Mavericks 2009-10\"],[0.646,\"Denver Nuggets 2009-10\"],[0.329,\"Detroit Pistons 2009-10\"],[0.317,\"Golden State Warriors 2009-10\"],[0.512,\"Houston Rockets 2009-10\"],[0.39,\"Indiana Pacers 2009-10\"],[0.354,\"Los Angeles Clippers 2009-10\"],[0.695,\"Los Angeles Lakers 2009-10\"],[0.488,\"Memphis Grizzlies 2009-10\"],[0.573,\"Miami Heat 2009-10\"],[0.561,\"Milwaukee Bucks 2009-10\"],[0.183,\"Minnesota Timberwolves 2009-10\"],[0.146,\"New Jersey Nets 2009-10\"],[0.451,\"New Orleans Hornets 2009-10\"],[0.354,\"New York Knicks 2009-10\"],[0.61,\"Oklahoma City Thunder 2009-10\"],[0.72,\"Orlando Magic 2009-10\"],[0.329,\"Philadelphia 76ers 2009-10\"],[0.659,\"Phoenix Suns 2009-10\"],[0.61,\"Portland Trail Blazers 2009-10\"],[0.305,\"Sacramento Kings 2009-10\"],[0.61,\"San Antonio Spurs 2009-10\"],[0.488,\"Toronto Raptors 2009-10\"],[0.646,\"Utah Jazz 2009-10\"],[0.317,\"Washington Wizards 2009-10\"],[0.537,\"Atlanta Hawks 2010-11\"],[0.683,\"Boston Celtics 2010-11\"],[0.415,\"Charlotte Bobcats 2010-11\"],[0.756,\"Chicago Bulls 2010-11\"],[0.232,\"Cleveland Cavaliers 2010-11\"],[0.695,\"Dallas Mavericks 2010-11\"],[0.61,\"Denver Nuggets 2010-11\"],[0.366,\"Detroit Pistons 2010-11\"],[0.439,\"Golden State Warriors 2010-11\"],[0.524,\"Houston Rockets 2010-11\"],[0.451,\"Indiana Pacers 2010-11\"],[0.39,\"Los Angeles Clippers 2010-11\"],[0.695,\"Los Angeles Lakers 2010-11\"],[0.561,\"Memphis Grizzlies 2010-11\"],[0.707,\"Miami Heat 2010-11\"],[0.427,\"Milwaukee Bucks 2010-11\"],[0.207,\"Minnesota Timberwolves 2010-11\"],[0.293,\"New Jersey Nets 2010-11\"],[0.561,\"New Orleans Hornets 2010-11\"],[0.512,\"New York Knicks 2010-11\"],[0.671,\"Oklahoma City Thunder 2010-11\"],[0.634,\"Orlando Magic 2010-11\"],[0.5,\"Philadelphia 76ers 2010-11\"],[0.488,\"Phoenix Suns 2010-11\"],[0.585,\"Portland Trail Blazers 2010-11\"],[0.293,\"Sacramento Kings 2010-11\"],[0.744,\"San Antonio Spurs 2010-11\"],[0.268,\"Toronto Raptors 2010-11\"],[0.476,\"Utah Jazz 2010-11\"],[0.28,\"Washington Wizards 2010-11\"],[0.606,\"Atlanta Hawks 2011-12\"],[0.591,\"Boston Celtics 2011-12\"],[0.106,\"Charlotte Bobcats 2011-12\"],[0.758,\"Chicago Bulls 2011-12\"],[0.318,\"Cleveland Cavaliers 2011-12\"],[0.545,\"Dallas Mavericks 2011-12\"],[0.576,\"Denver Nuggets 2011-12\"],[0.379,\"Detroit Pistons 2011-12\"],[0.348,\"Golden State Warriors 2011-12\"],[0.515,\"Houston Rockets 2011-12\"],[0.636,\"Indiana Pacers 2011-12\"],[0.606,\"Los Angeles Clippers 2011-12\"],[0.621,\"Los Angeles Lakers 2011-12\"],[0.621,\"Memphis Grizzlies 2011-12\"],[0.697,\"Miami Heat 2011-12\"],[0.47,\"Milwaukee Bucks 2011-12\"],[0.394,\"Minnesota Timberwolves 2011-12\"],[0.333,\"New Jersey Nets 2011-12\"],[0.318,\"New Orleans Hornets 2011-12\"],[0.545,\"New York Knicks 2011-12\"],[0.712,\"Oklahoma City Thunder 2011-12\"],[0.561,\"Orlando Magic 2011-12\"],[0.53,\"Philadelphia 76ers 2011-12\"],[0.5,\"Phoenix Suns 2011-12\"],[0.424,\"Portland Trail Blazers 2011-12\"],[0.333,\"Sacramento Kings 2011-12\"],[0.758,\"San Antonio Spurs 2011-12\"],[0.348,\"Toronto Raptors 2011-12\"],[0.545,\"Utah Jazz 2011-12\"],[0.303,\"Washington Wizards 2011-12\"],[0.537,\"Atlanta Hawks 2012-13\"],[0.506,\"Boston Celtics 2012-13\"],[0.598,\"Brooklyn Nets 2012-13\"],[0.256,\"Charlotte Bobcats 2012-13\"],[0.549,\"Chicago Bulls 2012-13\"],[0.293,\"Cleveland Cavaliers 2012-13\"],[0.5,\"Dallas Mavericks 2012-13\"],[0.695,\"Denver Nuggets 2012-13\"],[0.354,\"Detroit Pistons 2012-13\"],[0.573,\"Golden State Warriors 2012-13\"],[0.549,\"Houston Rockets 2012-13\"],[0.605,\"Indiana Pacers 2012-13\"],[0.683,\"Los Angeles Clippers 2012-13\"],[0.549,\"Los Angeles Lakers 2012-13\"],[0.683,\"Memphis Grizzlies 2012-13\"],[0.805,\"Miami Heat 2012-13\"],[0.463,\"Milwaukee Bucks 2012-13\"],[0.378,\"Minnesota Timberwolves 2012-13\"],[0.329,\"New Orleans Hornets 2012-13\"],[0.659,\"New York Knicks 2012-13\"],[0.732,\"Oklahoma City Thunder 2012-13\"],[0.244,\"Orlando Magic 2012-13\"],[0.415,\"Philadelphia 76ers 2012-13\"],[0.305,\"Phoenix Suns 2012-13\"],[0.402,\"Portland Trail Blazers 2012-13\"],[0.341,\"Sacramento Kings 2012-13\"],[0.707,\"San Antonio Spurs 2012-13\"],[0.415,\"Toronto Raptors 2012-13\"],[0.524,\"Utah Jazz 2012-13\"],[0.354,\"Washington Wizards 2012-13\"],[0.463,\"Atlanta Hawks 2013-14\"],[0.305,\"Boston Celtics 2013-14\"],[0.537,\"Brooklyn Nets 2013-14\"],[0.524,\"Charlotte Bobcats 2013-14\"],[0.585,\"Chicago Bulls 2013-14\"],[0.402,\"Cleveland Cavaliers 2013-14\"],[0.598,\"Dallas Mavericks 2013-14\"],[0.439,\"Denver Nuggets 2013-14\"],[0.354,\"Detroit Pistons 2013-14\"],[0.622,\"Golden State Warriors 2013-14\"],[0.659,\"Houston Rockets 2013-14\"],[0.683,\"Indiana Pacers 2013-14\"],[0.695,\"Los Angeles Clippers 2013-14\"],[0.329,\"Los Angeles Lakers 2013-14\"],[0.61,\"Memphis Grizzlies 2013-14\"],[0.659,\"Miami Heat 2013-14\"],[0.183,\"Milwaukee Bucks 2013-14\"],[0.488,\"Minnesota Timberwolves 2013-14\"],[0.415,\"New Orleans Pelicans 2013-14\"],[0.451,\"New York Knicks 2013-14\"],[0.72,\"Oklahoma City Thunder 2013-14\"],[0.28,\"Orlando Magic 2013-14\"],[0.232,\"Philadelphia 76ers 2013-14\"],[0.585,\"Phoenix Suns 2013-14\"],[0.659,\"Portland Trail Blazers 2013-14\"],[0.341,\"Sacramento Kings 2013-14\"],[0.756,\"San Antonio Spurs 2013-14\"],[0.585,\"Toronto Raptors 2013-14\"],[0.305,\"Utah Jazz 2013-14\"],[0.537,\"Washington Wizards 2013-14\"],[0.732,\"Atlanta Hawks 2014-15\"],[0.488,\"Boston Celtics 2014-15\"],[0.463,\"Brooklyn Nets 2014-15\"],[0.402,\"Charlotte Hornets 2014-15\"],[0.61,\"Chicago Bulls 2014-15\"],[0.646,\"Cleveland Cavaliers 2014-15\"],[0.61,\"Dallas Mavericks 2014-15\"],[0.366,\"Denver Nuggets 2014-15\"],[0.39,\"Detroit Pistons 2014-15\"],[0.817,\"Golden State Warriors 2014-15\"],[0.683,\"Houston Rockets 2014-15\"],[0.463,\"Indiana Pacers 2014-15\"],[0.683,\"Los Angeles Clippers 2014-15\"],[0.256,\"Los Angeles Lakers 2014-15\"],[0.671,\"Memphis Grizzlies 2014-15\"],[0.451,\"Miami Heat 2014-15\"],[0.5,\"Milwaukee Bucks 2014-15\"],[0.195,\"Minnesota Timberwolves 2014-15\"],[0.549,\"New Orleans Pelicans 2014-15\"],[0.207,\"New York Knicks 2014-15\"],[0.549,\"Oklahoma City Thunder 2014-15\"],[0.305,\"Orlando Magic 2014-15\"],[0.22,\"Philadelphia 76ers 2014-15\"],[0.476,\"Phoenix Suns 2014-15\"],[0.622,\"Portland Trail Blazers 2014-15\"],[0.354,\"Sacramento Kings 2014-15\"],[0.671,\"San Antonio Spurs 2014-15\"],[0.598,\"Toronto Raptors 2014-15\"],[0.463,\"Utah Jazz 2014-15\"],[0.561,\"Washington Wizards 2014-15\"],[0.585,\"Atlanta Hawks 2015-16\"],[0.585,\"Boston Celtics 2015-16\"],[0.256,\"Brooklyn Nets 2015-16\"],[0.585,\"Charlotte Hornets 2015-16\"],[0.512,\"Chicago Bulls 2015-16\"],[0.695,\"Cleveland Cavaliers 2015-16\"],[0.512,\"Dallas Mavericks 2015-16\"],[0.402,\"Denver Nuggets 2015-16\"],[0.537,\"Detroit Pistons 2015-16\"],[0.89,\"Golden State Warriors 2015-16\"],[0.5,\"Houston Rockets 2015-16\"],[0.549,\"Indiana Pacers 2015-16\"],[0.646,\"LA Clippers 2015-16\"],[0.207,\"Los Angeles Lakers 2015-16\"],[0.512,\"Memphis Grizzlies 2015-16\"],[0.585,\"Miami Heat 2015-16\"],[0.402,\"Milwaukee Bucks 2015-16\"],[0.354,\"Minnesota Timberwolves 2015-16\"],[0.366,\"New Orleans Pelicans 2015-16\"],[0.39,\"New York Knicks 2015-16\"],[0.671,\"Oklahoma City Thunder 2015-16\"],[0.427,\"Orlando Magic 2015-16\"],[0.122,\"Philadelphia 76ers 2015-16\"],[0.28,\"Phoenix Suns 2015-16\"],[0.537,\"Portland Trail Blazers 2015-16\"],[0.402,\"Sacramento Kings 2015-16\"],[0.817,\"San Antonio Spurs 2015-16\"],[0.683,\"Toronto Raptors 2015-16\"],[0.488,\"Utah Jazz 2015-16\"],[0.5,\"Washington Wizards 2015-16\"],[0.524,\"Atlanta Hawks 2016-17\"],[0.646,\"Boston Celtics 2016-17\"],[0.244,\"Brooklyn Nets 2016-17\"],[0.439,\"Charlotte Hornets 2016-17\"],[0.5,\"Chicago Bulls 2016-17\"],[0.622,\"Cleveland Cavaliers 2016-17\"],[0.402,\"Dallas Mavericks 2016-17\"],[0.488,\"Denver Nuggets 2016-17\"],[0.451,\"Detroit Pistons 2016-17\"],[0.817,\"Golden State Warriors 2016-17\"],[0.671,\"Houston Rockets 2016-17\"],[0.512,\"Indiana Pacers 2016-17\"],[0.622,\"LA Clippers 2016-17\"],[0.317,\"Los Angeles Lakers 2016-17\"],[0.524,\"Memphis Grizzlies 2016-17\"],[0.5,\"Miami Heat 2016-17\"],[0.512,\"Milwaukee Bucks 2016-17\"],[0.378,\"Minnesota Timberwolves 2016-17\"],[0.415,\"New Orleans Pelicans 2016-17\"],[0.378,\"New York Knicks 2016-17\"],[0.573,\"Oklahoma City Thunder 2016-17\"],[0.354,\"Orlando Magic 2016-17\"],[0.341,\"Philadelphia 76ers 2016-17\"],[0.293,\"Phoenix Suns 2016-17\"],[0.5,\"Portland Trail Blazers 2016-17\"],[0.39,\"Sacramento Kings 2016-17\"],[0.744,\"San Antonio Spurs 2016-17\"],[0.622,\"Toronto Raptors 2016-17\"],[0.622,\"Utah Jazz 2016-17\"],[0.598,\"Washington Wizards 2016-17\"],[0.293,\"Atlanta Hawks 2017-18\"],[0.671,\"Boston Celtics 2017-18\"],[0.341,\"Brooklyn Nets 2017-18\"],[0.439,\"Charlotte Hornets 2017-18\"],[0.329,\"Chicago Bulls 2017-18\"],[0.61,\"Cleveland Cavaliers 2017-18\"],[0.293,\"Dallas Mavericks 2017-18\"],[0.561,\"Denver Nuggets 2017-18\"],[0.476,\"Detroit Pistons 2017-18\"],[0.707,\"Golden State Warriors 2017-18\"],[0.793,\"Houston Rockets 2017-18\"],[0.585,\"Indiana Pacers 2017-18\"],[0.512,\"LA Clippers 2017-18\"],[0.427,\"Los Angeles Lakers 2017-18\"],[0.268,\"Memphis Grizzlies 2017-18\"],[0.537,\"Miami Heat 2017-18\"],[0.537,\"Milwaukee Bucks 2017-18\"],[0.573,\"Minnesota Timberwolves 2017-18\"],[0.585,\"New Orleans Pelicans 2017-18\"],[0.354,\"New York Knicks 2017-18\"],[0.585,\"Oklahoma City Thunder 2017-18\"],[0.305,\"Orlando Magic 2017-18\"],[0.634,\"Philadelphia 76ers 2017-18\"],[0.256,\"Phoenix Suns 2017-18\"],[0.598,\"Portland Trail Blazers 2017-18\"],[0.329,\"Sacramento Kings 2017-18\"],[0.573,\"San Antonio Spurs 2017-18\"],[0.72,\"Toronto Raptors 2017-18\"],[0.585,\"Utah Jazz 2017-18\"],[0.524,\"Washington Wizards 2017-18\"],[0.354,\"Atlanta Hawks 2018-19\"],[0.598,\"Boston Celtics 2018-19\"],[0.512,\"Brooklyn Nets 2018-19\"],[0.476,\"Charlotte Hornets 2018-19\"],[0.268,\"Chicago Bulls 2018-19\"],[0.232,\"Cleveland Cavaliers 2018-19\"],[0.402,\"Dallas Mavericks 2018-19\"],[0.659,\"Denver Nuggets 2018-19\"],[0.5,\"Detroit Pistons 2018-19\"],[0.695,\"Golden State Warriors 2018-19\"],[0.646,\"Houston Rockets 2018-19\"],[0.585,\"Indiana Pacers 2018-19\"],[0.585,\"LA Clippers 2018-19\"],[0.451,\"Los Angeles Lakers 2018-19\"],[0.402,\"Memphis Grizzlies 2018-19\"],[0.476,\"Miami Heat 2018-19\"],[0.732,\"Milwaukee Bucks 2018-19\"],[0.439,\"Minnesota Timberwolves 2018-19\"],[0.402,\"New Orleans Pelicans 2018-19\"],[0.207,\"New York Knicks 2018-19\"],[0.598,\"Oklahoma City Thunder 2018-19\"],[0.512,\"Orlando Magic 2018-19\"],[0.622,\"Philadelphia 76ers 2018-19\"],[0.232,\"Phoenix Suns 2018-19\"],[0.646,\"Portland Trail Blazers 2018-19\"],[0.476,\"Sacramento Kings 2018-19\"],[0.585,\"San Antonio Spurs 2018-19\"],[0.707,\"Toronto Raptors 2018-19\"],[0.61,\"Utah Jazz 2018-19\"],[0.39,\"Washington Wizards 2018-19\"],[0.299,\"Atlanta Hawks 2019-20\"],[0.667,\"Boston Celtics 2019-20\"],[0.486,\"Brooklyn Nets 2019-20\"],[0.354,\"Charlotte Hornets 2019-20\"],[0.338,\"Chicago Bulls 2019-20\"],[0.292,\"Cleveland Cavaliers 2019-20\"],[0.573,\"Dallas Mavericks 2019-20\"],[0.63,\"Denver Nuggets 2019-20\"],[0.303,\"Detroit Pistons 2019-20\"],[0.231,\"Golden State Warriors 2019-20\"],[0.611,\"Houston Rockets 2019-20\"],[0.616,\"Indiana Pacers 2019-20\"],[0.681,\"LA Clippers 2019-20\"],[0.732,\"Los Angeles Lakers 2019-20\"],[0.466,\"Memphis Grizzlies 2019-20\"],[0.603,\"Miami Heat 2019-20\"],[0.767,\"Milwaukee Bucks 2019-20\"],[0.297,\"Minnesota Timberwolves 2019-20\"],[0.417,\"New Orleans Pelicans 2019-20\"],[0.318,\"New York Knicks 2019-20\"],[0.611,\"Oklahoma City Thunder 2019-20\"],[0.452,\"Orlando Magic 2019-20\"],[0.589,\"Philadelphia 76ers 2019-20\"],[0.466,\"Phoenix Suns 2019-20\"],[0.473,\"Portland Trail Blazers 2019-20\"],[0.431,\"Sacramento Kings 2019-20\"],[0.451,\"San Antonio Spurs 2019-20\"],[0.736,\"Toronto Raptors 2019-20\"],[0.611,\"Utah Jazz 2019-20\"],[0.347,\"Washington Wizards 2019-20\"]],\"hovertemplate\":\"PC1=%{x}<br>PC2=%{y}<br>PC3=%{z}<br>WIN%=%{customdata[0]}<br>TEAM=%{customdata[1]}<br>PIE=%{marker.color}<extra></extra>\",\"legendgroup\":\"\",\"marker\":{\"color\":[46.2,47.6,54.1,41.7,47.5,49.3,48.3,50.6,43.1,49.0,53.4,41.1,57.3,54.3,49.8,53.1,47.9,50.7,49.7,50.8,54.2,55.9,51.3,55.6,49.6,50.0,55.1,45.7,47.1,45.2,46.8,52.7,43.2,46.9,52.3,48.0,48.0,42.7,50.9,51.0,47.6,53.2,52.3,51.9,51.8,44.6,52.0,49.5,53.6,52.1,54.4,54.0,57.3,49.4,52.2,54.8,46.5,45.3,46.5,50.0,51.3,43.6,48.2,51.7,44.2,52.3,45.6,45.8,51.0,49.5,54.9,45.6,50.1,50.2,52.9,53.7,46.6,49.7,52.0,48.6,51.8,55.2,55.4,52.2,49.6,53.0,48.6,48.3,48.0,45.7,43.1,54.6,42.5,52.5,49.2,51.1,53.8,47.0,52.0,48.2,45.6,49.5,52.9,54.4,51.7,47.4,48.2,51.6,49.8,51.5,55.1,54.9,50.2,44.7,55.1,49.8,46.6,49.0,44.6,49.1,52.7,50.5,55.8,49.1,51.3,53.9,46.4,53.8,52.2,49.6,51.0,55.4,53.3,49.1,48.8,43.4,48.4,46.6,48.8,54.4,56.6,49.1,47.6,49.3,44.1,42.2,50.5,46.0,49.8,51.0,53.7,53.1,54.2,47.3,52.7,50.4,51.8,46.8,51.5,55.6,47.8,51.8,49.0,43.7,47.5,48.9,49.3,54.6,47.5,52.2,56.5,50.4,47.9,47.5,48.5,46.2,48.5,46.3,50.1,51.0,55.1,51.2,55.7,47.5,49.0,51.4,52.3,51.8,51.6,53.8,48.6,50.3,51.3,48.4,44.4,49.5,49.2,54.7,42.4,51.5,55.4,46.7,45.9,49.7,50.3,46.6,45.9,47.1,53.9,52.0,55.2,51.4,53.3,48.9,52.9,48.5,50.9,49.9,46.2,50.8,45.6,48.7,49.9,48.5,47.1,50.2,48.9,56.1,45.9,48.5,56.9,47.4,51.4,53.1,48.5,49.8,58.1,46.9,48.0,49.0,53.6,52.9,55.2,49.6,53.5,48.5,46.1,55.1,45.1,44.5,45.2,43.5,47.5,52.6,44.0,52.9,50.0,55.6,49.5,48.3,53.3,45.0,51.9,55.6,48.8,50.7,56.2,49.5,49.9,55.9,52.2,52.9,49.6,47.8,53.0,48.9,44.1,54.7,45.7,50.5,48.5,45.3,47.4,51.5,46.7,46.4,54.5,50.3,52.5,53.1,44.0,52.3,49.2,53.5,44.8,52.3,54.0,51.8,50.0,55.2,53.4,52.4,44.8,47.0,48.9,47.6,46.5,52.9,48.6,52.2,49.5,43.2,42.9,48.4,47.4,53.2,55.1,47.8,53.6,52.5,46.7,53.2,48.9,55.0,46.2,49.3,55.8,48.0,55.5,44.1,53.8,52.4,46.4,47.2,51.5,49.2,48.3,54.1,51.8,55.6,48.8,44.3,45.2,50.7,50.4,52.9,53.4,51.0,49.4,51.6,46.2,53.8,45.9,50.0,44.5,52.6,53.5,41.1,56.1,43.9,51.0,52.7,44.8,47.2,49.7,52.1,51.7,52.4,51.4,55.3,50.3,48.3,44.8,48.2,52.0,54.2,49.3,53.2,50.2,49.4,45.1,54.6,47.8,50.9,46.0,50.9,50.7,50.9,43.8,51.4,45.0,50.2,53.8,46.7,50.2,51.0,53.7,54.8,51.3,53.1,56.4,48.8,49.4,46.4,51.2,57.0,45.9,47.4,45.8,46.8,45.4,55.1,48.4,50.4,48.1,50.2,46.1,49.2,50.8,52.8,46.9,52.1,48.1,46.4,52.8,53.4,54.5,54.8,46.0,51.8,53.9,44.9,51.9,48.3,49.0,54.3,46.6,42.6,50.9,52.4,47.3,55.5,51.2,45.1,50.4,54.0,49.8,48.0,48.2,52.9,51.4,52.1,46.5,47.8,56.9,50.9,50.5,54.0,45.0,53.0,49.2,51.1,45.3,50.8,44.1,50.5,45.5,42.6,49.1,52.2,48.5,54.5,50.6,50.7,52.5,52.8,52.0,46.0,51.1,49.4,52.8,50.3,47.9,48.6,56.7,49.0,51.8,53.3,42.4,48.3,52.5,48.3,49.7,47.2,48.7,54.6,48.8,42.8,45.0,49.3,49.4,57.8,52.5,50.8,49.7,50.6,51.4,46.0,50.5,50.4,51.0,47.9,50.3,48.2,57.9,51.6,50.5,52.7,44.6,50.1,50.0,50.4,50.1,49.3,48.2,49.9,46.0,47.0,46.2,49.3,47.8,55.1,51.6,53.4,51.1,46.8,51.9,47.4,50.0,45.3,50.2,47.5,51.1,48.9,55.4,53.1,50.9,49.7,49.1,46.0,50.5,50.2,51.8,52.5,48.1,50.8,47.2,54.2,44.2,51.0,45.1,52.5,53.8,53.2,50.9,46.4,53.0,49.2,48.6,45.3,43.6,49.2,52.4,48.2,54.6,49.8,52.7,50.5,49.5,49.0,50.1,55.3,49.8,49.8,44.2,50.6,50.8,52.9,45.0,52.1,49.5,51.6,53.3,53.9,48.7,45.4,53.1,50.0,45.5,46.6,45.3,52.1,51.7,47.3,46.2,49.4,52.0,53.2,53.9,50.7,52.5,56.2,47.2,49.5,46.1,51.9,49.6,52.3,51.2,48.6,47.9,50.2,53.0,51.3,47.3],\"coloraxis\":\"coloraxis\",\"symbol\":\"circle\"},\"mode\":\"markers\",\"name\":\"\",\"scene\":\"scene\",\"showlegend\":false,\"type\":\"scatter3d\",\"x\":[-0.972822582684306,-0.642735372007755,-0.22597985534386208,-1.7105358044638455,-0.7572290592716967,-0.11548012166777416,-0.5051592304528181,-0.30680391881301866,-1.1086571943993246,-0.47228724575863124,0.14000876617234326,-1.158114324962535,-0.047052712807700715,-0.26926809273492286,-0.2977060540409829,-0.06608292418828442,-0.6184116187372447,-0.5659196630560104,-0.7041086642079667,-0.8625565327746874,-0.19291751577414257,-0.17013184046519833,-0.05115385092204202,-0.30605748784714976,-0.2975473010680926,-0.4723122316825394,-0.2715351995408151,-1.0136542781033353,-0.7930636154429023,-1.1565354477964154,-0.7635541557053434,-0.642217043953462,-1.2905454199688817,-1.1293057107698379,-0.07583988940767764,-0.4580076044534576,-0.9056061603554046,-1.332343421184373,-0.4416300660863256,-0.7067528876870997,-0.9562317065833469,-0.22129019244989503,-0.719794103183698,-0.03724775331368151,-0.21915191361725714,-1.1358780176972814,-0.7171025412371002,-0.6263907326026963,-0.7201096155880642,-0.5949583069240737,-0.29824167951571084,-0.13211441845841573,-0.17741822739434354,-0.5138902046706969,-0.30452447084017725,-0.3426632735265287,-0.8838653814757902,-1.2205848707870166,-0.8222026944285081,-0.3476033883134422,-0.6785341674445178,-1.0973239886095834,-0.5921715442931378,0.26439311426294193,-1.0375373401684085,-0.35718027256429463,-1.136718797295833,-0.9693099626545066,-0.5167859616341953,-0.6912324876616175,0.048343197883864694,-1.1172144933672545,-0.920326273312449,-0.1647810011620365,-0.0618188094920673,-0.35983304052997583,-0.7666686579558912,-0.16707731146263455,-0.9935543846843308,-0.6343001125076697,-0.3295340792681857,0.217234623180664,-0.3600069082577945,-0.17983818487590805,-0.8151965649707084,-0.8051622068128955,-0.7173881462127507,-0.796893655669481,-0.6468917368208492,-0.8786336348954338,-1.3359239188954248,0.346933538715425,-1.7785564197523094,-0.5864061269694801,-0.6637698999406813,-0.7613184901237816,-0.48871954946366875,-0.9818828975990661,-0.22471638372805736,-0.5081038598400925,-1.28705356313691,-0.13343378654189178,-0.09144604138247935,-0.49872424310841995,-0.6360031460894445,-0.3263964010709279,-0.5045930086461934,-0.6763473336806268,-0.6654593590306952,-0.5029862684347096,0.20026494794710842,-0.46664494814013446,-0.6101046236173723,-1.080179739325226,-0.6425425836861176,-0.8589304706772235,-0.9672794378492474,-0.6862268062043481,-1.1295915376487509,-0.8885366876621114,0.21517008070792934,-0.7232659362112813,-0.8003090325664722,-0.7362035766199511,-0.737250296906867,-0.6137309882883561,-1.1336320490518812,-0.2573940348783601,-0.55824868868571,-0.8336937607786181,-0.3584392721574557,-0.11559188423408215,-0.5078245917923532,-0.862811951469589,-0.7328584158373598,-0.9973591419398837,-1.172584297620348,-0.8540332125761513,-0.8093724844609679,0.26298863758152313,-0.5641946277003979,-0.36975173274954737,-1.053802490432886,-1.3640101119298345,-1.3166884747299636,-1.245828942814664,-0.3759026593695694,-0.9679145140514785,-0.7284771565134611,-0.6606163569228566,-0.20273396073595337,-0.3745686844552034,-0.5703644502176882,-0.45955371514009985,-0.303843996556696,-0.784473559447396,-0.684157714901683,-0.5320115131635306,-0.6520770239047564,0.07544122676254272,-0.6432367029937184,-0.2129985143456243,-0.7716792592482349,-1.2680502756511516,-0.6334125177368369,-0.7074854227606532,-0.4592561649936759,0.5988199843532361,-0.8798917948929125,0.0866698232343853,-0.26984300710492837,-0.49498372938114754,-0.28754653732496643,-1.087725957153813,-0.6637361413145152,-0.5982426836027717,-0.25549556799332107,-0.5059675600986734,-0.07342276540830685,-0.14788947559690815,-0.1128109507597368,-0.060037879120469886,0.35526359718560596,-0.22503003108234057,-0.5716261013240449,-0.3419149034977942,-0.05550846103983598,0.02238535158263276,-0.2997828737170116,0.21876299062808677,-0.11773670503770174,-0.48894838679158803,-0.07196151987191828,-0.5678579820582834,-0.9018961630927683,-0.5011615672957869,-0.18042161179322772,1.176452631755162,-1.009669510911618,0.022510658592741154,0.1770371299618899,-0.14088273120976255,-0.051199705081680175,-0.715625828332483,-0.18237274770426717,-0.7862732205819372,-0.5685438841775335,-0.3609291027445365,0.010078404799380715,-0.13696132675410236,0.26736603650975194,0.12235863627761447,0.017177357945526738,0.29164430492655447,0.148832705308366,-0.4742377106683698,-0.26783818604544896,0.15047864458262822,-0.24420454087035703,-0.1374164997908719,-0.22657969794117985,-0.21564096023184703,0.09407662324702348,-0.3536665888216562,-0.5306588537149743,-0.5366169618342339,-0.4547503331256915,1.1645188856837843,-0.6174074581693936,-0.08468520858646723,0.449436746955057,-0.2073902296242419,0.30455399604322525,0.0415291193346286,-2.870736771945099e-06,-0.2541734191185028,0.4059564830045209,-0.30712616980187013,-0.3284793117008767,-0.2602197782756163,0.2866342388910585,0.6414305490446284,0.24227087589960586,0.5792503890427073,0.06910477717769323,0.24853243437486294,-0.49137202661694396,0.8089510470281993,-0.12129641184921174,-0.5859101940711697,-0.41450811116251424,-0.5038758601960155,-0.2528419798245972,0.5147366710333089,-0.5579927814718612,0.5707945089974364,-0.40470155253682366,1.1264549555404542,-0.08390569654977509,-0.10814719944551214,0.2721027173669667,-0.447597098681152,0.554083493663869,0.5906695741413095,-0.09948014702339916,0.04820804684588445,0.3809654637626081,-0.4295942017077537,-0.0145023234186882,0.4369165373471993,0.39023549284302617,0.20951788448863742,-0.17268700579672341,0.1261768453156344,0.15399779911001776,0.2872421092884179,-0.46079515228086204,0.6210488259445448,-0.6473039232305524,0.09052219838357653,-0.11448904726910414,-0.3298507029886114,-0.06809812228689546,0.08675018343582407,0.2548725071635037,-0.4895052055184392,0.41948550214356695,-0.3537372228777373,0.6023271742258914,0.16853436064337426,-0.35031329147052215,0.45432833068765516,0.12421367113114279,0.23792151315446203,-0.49891659565324376,0.32331324136543055,0.26584588878974497,-0.32719500882075686,-0.1850231030844336,0.5806850875256563,0.5107154230555598,0.30879292939690406,-0.6465732232253157,0.35737934139279026,0.06712443876883888,0.010489490086809269,-0.29930983336446276,0.28251690831791576,-0.24679876899962858,-0.06718228278243446,0.0517307437735856,-0.49265603258924745,-0.8053190745378895,0.21413619267033954,0.20807629316916948,0.004249290950628889,0.5937443085518113,-0.18703502038414524,0.7967529796004758,0.08176656177015168,-0.25055006857319756,0.3707323123225238,0.3230784540334538,0.5371380500971078,-0.4667502833969373,0.028385611942939037,0.3159584342365324,-0.4268426873149268,0.1756616149466098,-0.45527519455266735,0.5636712069023403,0.5839873812011055,-0.21382265557351932,0.1768662210890388,0.44238029804075835,-0.13464093838453123,-0.2526780685997207,0.3263647225305167,-0.12635684089226473,0.4505289127754643,-0.4423771048614984,-0.3680225518387239,-0.4512849491451385,-0.06401073287977814,0.4359392447851831,0.2265815532313775,0.24432506051802413,0.20005669960020045,0.47034445816256487,-0.09115808519561945,-0.41371200444809564,0.6576617567462226,-0.33520397164423227,-0.04382758080791992,-0.6188767944842372,0.13408227108892076,-0.0406786718207862,-1.146860569717904,0.06710521671405931,-0.8036997552228697,0.020670436904629743,0.2583328011894339,-0.8440071107865011,-0.02609398044580717,-0.08936691943828239,-0.3175633773581022,-0.030583538839637475,-0.018766968213559523,-0.45994256752776513,0.03869650749754879,-0.018610228775369563,-0.345734877988654,-0.625117824168249,-0.7196368093826322,-0.19007549885497635,0.10139272833612059,-0.13812491018154216,0.09400729479309623,0.06577110679248716,-0.17261629431347034,-0.5196355876940868,0.6975705527031439,-0.5778693267592753,-0.2086105425437995,-0.6524402754983142,0.3596935186148013,0.08837131722433854,-0.11969664785000404,-0.7368993559294819,-0.28077161579053156,-0.44601926926942315,0.3864612043738439,0.33488319494312796,-0.4131588530609616,0.3171316218051492,0.4332112599379084,-0.23698525446049068,0.4244276811662676,0.2652774792962267,-0.2924642465495781,0.8032409444263677,-0.02429667352153544,-0.306561811044291,-0.3833268829594447,0.36090670151686527,0.6088230244314508,-0.23842481415125896,-0.14601829840469005,-0.3924414871857159,-0.028045462748098767,-0.21142971780571698,0.8151446083493702,-0.1210677563106633,-0.09924334734175233,-0.2877059917032738,0.4415037460364647,-0.3256956986602498,0.0807454608062125,0.12365630390842534,-0.2025418349586994,-0.16657576271947072,0.6915809810264086,0.1120616667916435,-0.2538945098007151,0.6103307330058049,0.476238598317896,0.07921037417987392,0.7888865555628868,0.3166312363272216,-0.0017517776888459284,0.6377914149073846,-0.4678894197661951,0.41238144690566636,-0.08522566823661347,0.1322233320100226,0.6016724011454617,-0.18140041321104028,-0.45332347822976554,0.31485674535776476,0.6649384784771158,-0.2548116620621728,1.0023325764091264,0.17222224868127356,-0.3668652292440417,0.31970101208072216,0.7745806832196989,0.29282618582909586,-0.013859160086261386,-0.15253839348001288,0.2148242005281224,0.4789870455402491,0.6367914995968114,-0.08057564492561381,-0.02141500778572896,1.281263848173747,0.24776079554389538,0.09232896972670339,1.0109289288388352,-0.19026116396628176,0.16090233605176918,-0.23710231834153242,-0.0043526570229276505,-0.47155264200881186,0.17571710478336325,-0.5253651707216959,0.20907959399422904,-0.20530891915553956,-0.825894031726178,0.17247168338726337,0.6386833544502519,-0.1918261283275094,0.733127082444462,0.3380753487917463,-0.24557158951665814,0.24740707847287322,0.6926073429006093,0.5040055699715015,-0.043076912441684385,0.6559356684649263,0.2865564158385238,0.7506682873832728,0.5395023507897451,0.10201699114077567,0.17784678782115407,1.6526023877339808,0.29287714212612026,0.308086168213901,0.7450782079265253,-0.4599365197809178,-0.11896795388302171,0.2972198346728689,-0.053192531666193935,0.10617773124980738,0.3713603907143742,0.06170813547282719,0.6989195996832914,0.33530137002620725,-0.32354411121485727,-0.13996078232484074,0.41898543589813353,0.43350544764985915,1.0283002339834477,0.3353804790936959,-0.022243526469631222,0.5856367885055265,0.3564747544640302,0.9261435382833015,0.2802472299395695,0.7579691490815889,0.3444657110926456,1.0625956358506725,0.4217633230045362,0.9211775930815611,0.4269015476961031,1.7294446670811598,1.1768369423772846,0.593436832057067,1.0077060116009475,0.11105978983126308,0.2264442430998041,0.4127657027128298,0.5879560835504488,0.3999805008220145,0.63984387632872,0.26246779813857046,0.3276701766542639,0.19540339828399067,0.1736508896087646,0.07381111835049217,0.5950286298111173,0.3533257787735754,0.9058637291390921,0.519593457153194,0.5353913361249502,0.8034280329805517,0.40420686571365516,0.7451464008772677,0.5884555254171348,0.745304384138819,0.4610051674789684,1.1132928743587867,0.6696400441883852,0.9376719752776644,0.6081115164558236,1.5765516212593227,1.251371230238259,0.7033906311264218,0.642373385438745,0.5884287318938745,0.007543653633672634,0.6348244312255301,0.6842094329017303,0.8223968193006591,1.2271082751149835,0.4383893145552044,0.5750893464157436,0.44554625041778306,1.0046153194946315,0.06596675634106063,0.6088305419403665,0.1615742998504058,0.6453379047024769,1.187096728281561,0.7641011065925153,0.7588536509248757,0.7534753708426557,1.373933777039474,0.8290592374253273,0.8985968924467386,0.3604053442860468,0.2331536284493418,0.778990970354255,1.149515269947449,0.599392882634726,1.7979242986252284,1.0420112407756332,0.9836453314354962,0.991619003043659,0.8871650505773198,0.5052082360235652,0.6312135494123259,1.7417058917098314,0.847303646508396,1.1007925138318688,0.12941715928816483,0.9668127028201638,1.0187344367756626,1.2304894507073452,0.3526557995958696,1.093560132735132,1.076203890978114,1.2982672600857545,1.3612042383740006,1.1793983777763928,1.0323250774382178,0.5094275039799829,1.092201362708588,0.8786275877227799,0.26662730714330646,0.4175738084725042,0.36857368373973826,1.489410384530259,1.0993088644344737,0.5230718106006828,0.4127329634989724,1.1209582034251337,1.114907536933577,1.2309558905618752,1.1805741056537478,1.028627680153459,1.2313633862959021,1.7632077594594997,0.7092265872549713,1.089764568300238,0.24874175256921188,0.9581362378809831,0.7673083075112266,1.098204244618713,1.1109271977837056,1.0025452354154802,0.8649448169340301,1.23388175248353,1.1775145834213372,1.0547811815389532,0.8746427020621689],\"y\":[0.16685089233963346,-0.0350282647678711,-0.7025875622988298,0.3257277316142797,-0.05540752984351542,-0.04406096071850785,-0.10286803146560485,-0.2431413284190886,0.39374299738173807,-0.10927368597732015,-0.6277171679507958,0.7290130480675546,-1.0326154829154772,-0.7357440233448006,-0.331010195650979,-0.7211122483278932,0.007998905231819127,-0.3888586052999976,-0.17660226824692773,-0.4322112581763048,-0.7340267564554481,-0.9854773556654357,-0.2119214844412644,-0.8893030198442429,-0.21611977650895894,-0.39755895917847295,-0.9541584465945058,0.13007989769610975,-0.01899257044094663,0.22336358589037855,-0.05244213282228528,-0.7027994721849602,0.23183991746366583,-0.05994934696346151,-0.5202525289317635,-0.16794383316859443,-0.06189407470946878,0.41679122548644276,-0.38021028770896786,-0.4174274995871592,-0.09813039187174728,-0.726155069744383,-0.5015089811360364,-0.548843302014407,-0.6094919461462036,0.19000041551486818,-0.509726926694308,-0.3099288400878708,-0.7305792097172848,-0.5447315620518214,-0.8704445852188855,-0.6159558464650872,-1.0852943525336194,-0.32189072528952833,-0.6096610361233807,-1.0351318748182698,0.042517309396569565,0.18192972488136183,0.09070657010061484,-0.255772198639636,-0.5218265687176256,0.18252994032454667,-0.2036742336664986,-0.486999468574196,0.17611112914118005,-0.601387123693467,0.15440007507032943,0.17382954051721103,-0.4114832485581529,-0.3180278500844004,-0.8323574400492727,0.1682930461852952,-0.32160354217486864,-0.3093913783994874,-0.6764419075131594,-0.7066890287020682,0.017877148052160667,-0.2568408979984453,-0.5172076602244787,-0.16564103927388077,-0.6460464394129042,-0.8362983684766008,-0.834055913243919,-0.5797258227108881,-0.3780594106621052,-0.7296650295731122,-0.292413678016546,-0.12069008188990903,-0.07018466712015735,0.055535966573837546,0.3670677691499444,-0.7519455320754385,0.29443653236898604,-0.6405054207359663,-0.18176113474958466,-0.3983039975281853,-0.6716444103750191,0.00998540423020658,-0.5677495044155755,-0.08355002478451999,0.171705306359492,-0.3166504592530752,-0.6705277302346695,-0.7718911299442957,-0.5727961332518553,-0.09358079443698515,-0.12969704635139984,-0.4998141178863149,-0.3151588155649492,-0.6246189830117663,-0.7893090977614089,-0.8019761573127208,-0.3418845038169656,0.20641100169990356,-0.9971364591760216,-0.32929454996673135,0.054770085152454816,-0.11520959446832324,0.1853468612615898,-0.26901109491068165,-0.5663126660147653,-0.41051967067581246,-0.9516907725052239,-0.22518805682103654,-0.47687244461011336,-0.8648568631108224,-0.02201644342061754,-0.7796502690670757,-0.6248290857339317,-0.27815722677065235,-0.4446332650827335,-0.9414082781895778,-0.7126028481509387,-0.2666344926666001,-0.24243223200340594,0.37224568248202944,-0.2111831316644491,0.11104481109325687,-0.38287486238086166,-0.7986030647533268,-0.9561517707259526,-0.17785297399659755,-0.08817821316576702,-0.4630907745335463,0.1976576599300875,0.4993394104724518,-0.4173490252863401,0.09373835979498917,-0.3425812872332357,-0.53065884679224,-0.6722482272560196,-0.6463518002411308,-0.8615248660818782,0.025614260636724315,-0.6497753876872842,-0.3502119883770243,-0.5758479832737696,0.018266791602071175,-0.5300039483269796,-0.9534457285178688,-0.13623031066863744,-0.5800783288185031,-0.3187552395217569,0.24162534968497565,-0.06269012767911157,-0.14277450273410908,-0.15313248637286317,-0.6615111251713613,-0.11957595325235172,-0.5149382304100588,-0.9815114341234413,-0.38637786231184723,-0.016799876847036356,-0.21428440148125344,-0.16018825264994588,0.36991370999733264,0.142131447229756,0.4480015177482643,0.07698253160134844,-0.11665644170732488,-0.5016384915234015,-0.08706615394381094,-0.793771585314021,0.3516546824989647,0.1182807959864886,-0.11011120767092461,-0.22731381344850066,-0.11962363532860751,-0.24909211337220186,-0.3129370259204928,0.1165469276547364,0.009862653741482688,-0.21964592095013077,0.22136121660011865,0.5048694855733264,0.0070643292201052815,0.14566469374839364,-0.27139310231748237,0.6592931471860687,-0.09012738277908179,-0.6034039181198558,0.32964620705312203,0.46575255685902617,-0.08121491620005487,0.05048311768573082,0.3130670828677552,0.3679520333218079,0.26301061109186746,-0.3229558769501137,-0.22777335679096603,-0.5738586406884177,-0.04622811468971432,-0.47804301318932724,0.24490229412145287,-0.24917003201811613,0.22455367960075598,-0.1794380787732071,0.09819514440732896,0.5017671571823326,-0.014385795241022119,0.4797203101224025,0.16395624595915542,0.009738736599962826,0.22093123267360432,0.3033748560451047,-0.10629613037973491,0.09796344658773895,-0.4498464260462062,0.33678613422999576,0.3277910121407459,-0.6676561804603869,0.2799160616797663,-0.05623624987368091,-0.3954859247515262,0.21733150073916607,-0.0032888597184547374,-0.8197735520858526,0.3405165245464202,0.24560460776629772,0.04181293575406282,-0.3337329682161594,-0.17100112102046183,-0.7304069475260504,0.2379126874338502,-0.32905048768157014,0.34373795527853496,0.4628592580625563,-0.45604139843205127,0.7602152001315374,0.6312613690276984,0.49107238098377665,0.6487561476071725,0.19328722127285197,-0.3394014477594832,0.6959857855013838,-0.18011369784695283,-0.05780251735557951,-0.41019024226051154,-0.009496200231164887,0.3446902119475985,-0.339124832929755,0.7070760424176705,-0.23669844030626788,-0.6568849224570107,0.08240085867499339,-0.1037435120558685,-0.6739580521942886,0.02948678209676274,0.08157886606135387,-0.6621199229762081,-0.14426560606235633,-0.27416623527218287,-0.05293254858095425,0.4833133365259523,-0.21897104972229503,0.32794894370814454,0.6724967947570358,-0.4913704213657118,0.5118430806603311,0.009567577406541482,0.17338986569749365,0.5281338693804557,0.2750332894468403,-0.157647591022898,0.6033879583239983,0.4716370512929782,-0.32868864500941103,-0.05034845011958772,-0.11391762467508201,-0.456281592178438,0.8078333217374691,-0.257312037276514,0.17418529092755541,-0.3138072713684801,0.5997849435525455,-0.33144181551845886,-0.37933349563689556,-0.12777110549581355,0.13156850604110443,-0.5762668451097216,-0.29891222576353166,-0.17202127131563685,0.4249484851455154,0.5882998022291164,0.2769484731258956,0.47319567441290605,0.38377494909306403,-0.23755229798277247,0.2613916449193404,-0.1311648842931874,0.09639009469521756,0.8972305140940691,0.7876972096655355,0.2570236852982662,0.5201091488536448,-0.22825487951493992,-0.3822139765193509,0.2725397501343378,-0.25555615590455705,-0.2937023580140306,0.511103497073955,-0.28787685109974825,0.1403252422076495,-0.5627345127332497,0.48463398703160576,-0.022743970618737203,-0.5923257113115254,0.22188976633200613,-0.5979568409388335,0.7510672006517278,-0.4085683167337815,-0.15611219835232726,0.23862953976754814,0.2900764995312371,-0.026722814501014606,0.30229168674023704,0.22492635528665336,-0.43407484254344464,-0.11237731365491217,-0.5614261509645028,0.18264007116960695,0.7330911414811826,0.4638027885678336,-0.12661346057033016,0.15109790501858747,-0.28702878810866733,-0.2580116255611875,-0.09537877951713966,0.17275965695580692,-0.18033302030806295,0.5661355699472194,-0.37385174287210166,0.4973372722930705,-0.017409541373514817,0.6359975836504189,-0.26842809925236943,-0.39340320833261117,0.9836292288236634,-0.7647615880761864,0.618560452409351,-0.027275935274671845,-0.17788475481680197,0.3861366923077973,0.29954992766517213,0.07778296615667322,-0.16860949065850134,-0.19378227948460922,-0.2623788367369728,-0.17331794015518404,-0.48972607040867117,-0.00321107883775675,0.37564989477813454,0.5143783364530649,0.14997266393661313,-0.04736607321632266,-0.37747385876205763,0.009325745899358492,-0.34611611860300295,0.017786699624695108,0.15683485226205965,0.67170252133468,-0.4683933243562816,0.1757875542129788,-0.1132815423984406,0.4495086806869162,-0.030592085874402465,-0.0028361633008253226,-0.11521632530555571,0.7637076326929673,-0.16180504751930755,0.5722755499446601,0.07895595554133766,-0.32847432184411607,0.34024313059769207,0.03187149951549324,0.021921950518429444,-0.25214347428217004,-0.5532005623449177,0.009273943359218337,-0.38644707135575634,-0.6919484652380277,0.17324340983534728,0.22929744051102388,0.31378902189511354,-0.07105714487737542,-0.6882821031506391,0.5652786823394124,0.2283659143538122,0.500584457764154,0.3389517983816961,0.5728661314817814,-0.4493003929958311,0.17862401863197555,-0.06765632626603454,0.24234147998132846,0.10894493813465114,0.4914210099343894,0.12501141738743723,0.05612137419571164,-0.2248757963466884,0.4060626803981514,-0.1238639923370928,0.38044696108257764,0.44684168191115126,-0.14679244063319039,-0.12592569901537404,-0.26501251634233597,-0.44168809204366494,0.5932879378947138,-0.20468209314947958,-0.3799437094860404,0.6511515849537604,0.05535822399339164,0.22503948560175452,0.20978795569173184,-0.37654691445459115,0.5509072964914749,1.0436217427692474,0.12373356924568568,-0.14074656835843152,0.4832909962916762,-0.49229779899410875,-0.08326669511930948,0.5974553083755562,-0.013313572089835682,-0.3940642039326999,0.19594009527732573,0.3351556878549106,0.4105745188508953,-0.13359284504839053,-0.14889380462321616,0.01697216879605147,0.5623061345228413,0.2970472935450543,-0.6490443278160382,0.015246978073261261,0.1541646344007051,-0.40580023124854886,0.6519593103947353,-0.21831412290336322,0.20664863064424094,-0.03463175927715103,0.6841019887879416,-0.040816047932628836,0.7029632826441926,0.11366236606117097,0.6116815571847171,0.8516820897737579,0.3746182659007546,-0.05862061420260288,0.41992146049027274,-0.38119409740185883,0.01424355576403708,-0.002855423364062418,-0.13239092835639144,-0.10101049583112039,0.060796043620329976,0.6295676141535523,0.11599528622964682,0.24769432344738612,-0.1855922376763023,0.2842339967139972,0.4258682411353142,0.32944855801537554,-0.6449259993487338,0.2508293229945041,0.11377387030241636,-0.1641420332206727,1.05444011191856,0.2798988710616679,-0.09563952312298947,0.2655864893806836,0.23750019064363434,0.5389344261577478,0.3291625042929342,-0.34302852535470896,0.30606281624015247,1.0256095352522996,0.8346683488912616,0.2683077355109698,0.36323097211829547,-0.7899960909491964,-0.11398889626608122,0.06532831079439086,0.2250842067657241,0.2086201035145743,0.036941142956456806,0.9124652739664619,0.24247237483330586,0.1071420246113124,0.12881800316435427,0.47382629185914266,0.18822435711931434,0.3710971349973897,-0.769977555806651,0.02203418896615168,0.17962528061049826,-0.09418418056539604,0.8252038017244528,0.14318961092431193,0.20975764357402552,0.03742587870807259,0.16521993731005985,0.4035060462018339,0.4671360267722013,0.24293973356567425,0.6819343852661587,0.6122912482672158,0.8009462573148451,0.36791535301231504,0.42738246481518405,-0.47605809990905734,0.03750153462294793,-0.16399885993167765,0.07142112634690133,0.7058667292641545,0.00690777155978767,0.6728361865031234,0.35532590363844035,0.8050223333024866,0.22978710178228468,0.6290459712975556,0.10232935918404726,0.3246003080649701,-0.4467704387874732,-0.10809524959214818,0.15508811779078485,0.32159850956859104,0.4658317296063995,0.6735669503250951,0.22551146230986535,0.13750967332283767,0.02662329209957497,0.09029204585410765,0.45802400493209927,0.1185791614336986,0.6244274232940988,-0.16021845703570825,1.0388460371868604,0.22351992599562476,0.714752191804513,-0.06828972371593227,-0.2055104465889744,-0.04889508108734432,0.10607469499878959,0.8413262756265255,-0.000732066376807188,0.48506942354210386,0.512416562928388,0.9322320375125329,1.087256529534876,0.5194683806025494,-0.08129233446530942,0.45813829925073574,-0.27065714501765487,0.2624513697941888,-0.0628091050639204,0.28365628024558803,0.4821044693734431,0.3779884846786445,0.29573389999903044,-0.1400290511229592,0.428760670160102,0.4385463930533118,1.0910677568071596,0.29840372075025223,0.20809210173016066,-0.023806144145492494,0.9309409669187036,0.10190542112081911,0.48903101424829043,0.09137899902513066,-0.08048865151107568,-0.09896634363811026,0.5398170418847873,0.9863792084626416,0.0043236472963071385,0.4733915012583313,0.6985816918278799,0.6808187764596481,0.9084806777184659,0.146325231383895,-0.009255854426872838,0.5606195530585512,0.7837268480776995,0.4887551530267461,0.05109572355259033,0.0008869914930621506,-0.19183108079075845,0.34615603786400323,-0.013340627020610984,-0.17603223067568738,0.810315169233477,0.47766831266672233,0.7301699567686997,0.18387180966437935,0.3357404428789536,0.0028135081127499974,0.2670944742440443,0.6112611450456334,0.5221275795001146,0.3271259343522183,-0.061370446158770256,0.21129486072668804,0.7193961870020347],\"z\":[-0.14133486992528327,-0.47864679170972263,-0.41691912933321507,-0.203891064976766,-0.6045044648271064,-0.4293592499904354,-0.5523405314242013,-0.12938088639622425,-0.8072388735884293,-0.31761477796467047,-0.17065826210379198,-0.2731171604356009,-0.28358230703974435,-0.2347733679611057,-0.31794096667271754,-0.569968385972735,-0.4094101547931165,0.15790409266845518,-0.4721884637229585,-0.45077095298141573,-0.6050537393965705,-0.11047753633349063,-0.7753383877523977,-0.07953214731377191,-0.4972060694461572,-0.5472198778243701,-0.1797694868197482,-0.18529319615717674,-0.3171156114524822,-0.31078166210315633,-0.3707751476842784,-0.3322304295652598,-0.4280463664194448,-0.31268617472624605,-0.24699853153126636,-0.6466081006443093,-0.36944538967324586,-0.7997442264219918,-0.011510208421833949,-0.20355235198060084,-0.03848672431158163,-0.2359170402293439,0.004601529222840316,-0.3688460036581868,-0.596194952422921,-0.30539783348260674,0.22506407893343797,-0.499592382719541,-0.11523059701588532,-0.5401647144569489,-0.21232777833389144,-0.5496103603796637,0.024815881969872444,-0.32818775655211424,-0.5380241428103685,-0.29824568202109053,-0.4675916952862405,-0.26305385343728205,-0.31137041763402407,-0.46862017463344185,-0.22096969806687863,-0.3902386223615958,-0.3598352561772404,-0.32869428523293553,-0.5858553914920437,-0.11053789897863567,-0.552303660127496,-0.03657511997648001,-0.4048465551929011,-0.16510701357951538,-0.3360398956127571,-0.4604830678532889,-0.05989192378207685,-0.2948290492511763,-0.37568532499146995,-0.5537627091325651,-0.22279411450582062,-0.42177362848711714,-0.09490621755533368,-0.537005966145724,-0.34394400607900394,-0.499655544323722,0.05681888850805175,-0.3601028382385941,-0.3462541967235851,-0.4211268557991992,-0.16599627078555282,-0.20704425709635862,-0.22137877668436598,-0.4577186330456428,-0.5524790477510233,-0.3752180499227189,-0.5739504009921411,0.10572484987149726,-0.39320459261019075,0.08031805694370156,-0.4259297982988603,-0.15615472155563037,-0.40300215948844903,-0.5220604374469033,-0.11941526922864304,-0.2703208358751373,-0.4631266842854355,-0.33347935542919777,-0.2832218133693139,-0.3047677329306548,-0.3163550665123683,-0.35072764136095014,-0.3236084066406041,-0.21817295637342504,-0.6258155396918513,0.04434224918336998,-0.26143072343834556,-0.2226228878260976,-0.29828544929510414,0.013963756629075395,-0.268004599346657,-0.31498527658467157,-0.5969368035377642,-0.3927196205281161,-0.5900376043816169,-0.438866765534811,-0.03550615007754008,-0.15969294813486898,0.09639684501159335,-0.14544823015282313,-0.19701226325205737,-0.32445612114389705,-0.5213084565810908,-0.02005781592694953,-0.28630603825037376,-0.15243347312234848,-0.3803344782663674,-0.32108360006882547,-0.20120737495630978,-0.25278305231208764,-0.09900738918347964,-0.32525586352947206,-0.1570192882713908,-0.5468362924827881,-0.0539531991806984,-0.3165333681654821,-0.08620779508846994,-0.024105129908101444,-0.29085933940571135,-0.3683110088831501,-0.2591537611359942,-0.5236743297606223,-0.29139088862034757,-0.29966441854537534,-0.09840100731482551,-0.4618471351383739,-0.04197800972151118,-0.5963182258989347,-0.03627304081497157,0.16925837458555515,-0.1665361169804089,-0.18891941301381973,-0.13815953181925386,0.09161999780448428,-0.10118367225012387,-0.214405018440051,-0.21292531141480966,-0.3122119642931578,-0.1633927076475064,-0.159269355044836,-0.3866841133519127,-0.4225004882168156,-0.19560567355875985,-0.5306448510335144,-0.06481055519982315,0.1883577190896951,-0.24039262847323084,-0.16825662123044688,-0.20923892629562782,0.4275831770350627,0.4407255681007484,0.055622390767758136,0.23949784560939177,0.6745427236164633,0.882020715091624,0.1220269774962704,0.35629023441753044,0.19694661102150268,0.5175475227909807,0.5207080281447382,0.48840261538042706,0.4088680246871588,0.6995230044306743,0.6561434199603223,0.3704979133185623,0.43604544220467933,0.3868200242685703,0.6086367927941788,0.740549373530002,0.8729375642882811,0.43319415235115566,-0.2148131175169513,0.5471406290970366,0.3509102814680214,0.5958870822336777,0.3233265247990267,0.4849154852658659,0.5673051153985316,0.6202661982213522,0.4990768514874609,0.37001518254849775,0.1251776434786895,0.2511022952282767,0.40740063544836486,0.7262901419737864,0.08125747662786235,0.46882396360971923,-0.22635274177310383,0.3747595807820641,0.34430756733147255,0.49637191097895933,0.23219735672598174,0.42456094478026013,0.5165631236305857,0.17470824005543592,0.2786153399053417,0.28533263300282496,0.5112562304171445,0.6295576176644024,0.8342353803771686,0.5179107750104389,0.08663770684601053,0.6132686562843136,0.4032756194960135,0.5505729408209818,0.2912079032854898,0.33920475850804793,0.3476428313301904,0.34484433334538556,0.3074385950870462,0.4988233635947944,0.1917646061087141,0.031137752255465088,0.34334918543039417,0.5256464099351799,-0.11388803040152132,0.4382575110551957,-0.24001713515488945,0.2702242000521854,-0.11081577686975806,0.27781229538877933,0.12051821636531534,0.3332024308260366,0.3406396260799482,0.19611009717829433,0.0764032558923981,0.2004977279987925,0.2885788444445037,0.3409667952446248,0.5759568012903855,0.34857470358131354,-0.004744824280941804,0.4678593273288603,0.4511536696617066,0.5073540278861856,-0.06740266094412932,0.13105510782812677,0.15388794435354156,0.40160275631479037,0.49719750237870364,0.5111896870885976,0.4074952161463894,0.2099893616964023,0.6251171080132113,0.26131520924844187,0.3171755002895414,0.47505092455316905,0.08004527550157114,0.4823847887619456,-0.016091173426175907,0.08229131819792586,0.1257893227460129,0.6292285455605785,0.3433130283046769,0.2107427287591551,0.22623351224262822,0.39809483463783374,0.6276400264278196,-0.06932084167328431,0.21451706464966067,0.6235899493307543,0.4716672950419724,0.2906505410540836,0.6753397672467125,0.2337220598899057,0.4547248725758443,0.21346648418752348,0.1739670308110205,0.243634616517909,0.29813905265666435,0.32063149786284595,0.5088652360197323,0.2024030913887792,0.5186737265626797,0.14503375856420986,0.3906958281758871,0.42112515435910863,-0.1831921513896848,0.10784020116929913,0.03659108872402688,0.14180739590025038,0.2908497701651742,0.395398536977842,0.5272082650935307,0.09902088718344715,0.06902614540600677,0.2990270748771274,0.08182437186466526,0.03793140704171884,0.41823230991777033,0.6945714479710342,0.16829517124937693,0.27977739832803283,0.6512201189302247,0.1245642966395302,0.3349264899868274,0.3616220511119289,0.06405459259913587,0.3801244955523863,0.3693252057463054,0.4010501673313828,0.3852453700960242,0.32533108007385053,0.1467704496582908,0.3017463546578185,0.3347072870748763,0.3021625546421765,-0.15448650281407464,0.016909175029420406,0.23324007805904626,0.2492578466673552,0.3213879241380228,0.2512917942934618,0.7931229287168674,0.4302623154288729,0.0222373647215887,0.27541600148722695,0.4687598948591422,0.1402965554299801,0.4514175598307671,0.6057094703701614,0.11852950031415703,0.08581284534040316,0.4193228258342285,0.07010312636941693,0.3332257266096724,0.09767667124997147,0.1918977768010294,0.11038696749665006,0.27677330883464485,0.2707624735227408,0.23036416888958822,0.26479749365739547,0.2831782726253429,0.21841453350222745,0.1552601773692548,0.5175156567880933,-0.026264071779318478,0.17215914810879349,0.5490995828378927,0.4216374125661861,0.4083191609644622,0.3501486092258917,0.5900240722554746,-0.027383854498348906,0.38463442735896997,0.30616123487604413,0.38409874014644807,0.36684900443977975,0.6327570581690652,0.555517922181089,0.11602968225239522,0.23246068054503552,0.3196642302362735,0.062342635892416016,0.26596181599732005,0.3400622212380635,0.2225291860483096,0.22932730547207317,-0.05667108880041524,0.11940316781277584,0.47335864498108304,0.20083673383188727,0.09497905531829515,0.012162796028183468,-0.06645275557987322,-0.1353495417297839,0.1767012565726722,0.03588426957162786,-0.03001251832686987,0.35900000668647586,0.16391809961522594,0.2656317106424015,0.2930257077463835,0.4368977723832436,-0.2326888260120653,0.06742056679045726,0.23355276713262246,0.39808737032936664,0.43521522917264943,-0.16604759535422417,-0.12077073135225572,-0.17581875680645231,0.14794641052424348,0.007485781730394121,-0.021582449581414784,0.19566041759482397,0.0773483526047158,0.06619017544943692,-0.09058081924568549,0.04759902462201558,0.34073572786584677,0.24977573254512522,0.17989552957486352,0.042114295960970605,0.03630271094499285,-0.12464290273743295,-0.021061935881523483,-0.09023352295070883,0.33046029893495843,0.4627817567153716,0.13144357460780315,-0.34788098065200895,0.24467778486034927,0.4399772122510771,0.09364248636346653,-0.10141175399116771,0.10798870066169575,0.2983824840037997,0.2088305928715956,-0.010880592967468626,-0.4240743464747981,0.30728345944467095,0.10502214204936436,0.36353838432680535,-0.00625816492717983,0.34860684202917336,0.22069634335202973,-0.0010171407454800732,-0.10829363676611994,-0.3630025976943305,0.1720198644961336,0.15515284104807442,0.22596609426838193,0.2460924610683824,0.0399767363507105,-0.20497582092181343,-0.03838970025386907,-0.38624864045073243,-0.07358752634585147,0.18833928646420695,0.07509928866197042,-0.018087471544814975,0.20022948744316388,0.45054461363335,-0.10167967379684927,0.029865995607706846,0.12654189385078266,0.02668354009410754,0.08533059794070877,-0.018578451798486127,-0.23391868210160338,0.02420097832697359,0.07687543454981154,0.35495385791597966,-1.6867493320514928e-05,0.2527615536688752,0.3659049604973254,0.006405950846982353,-0.3812280384388764,-0.36676808559836865,-0.1210071342489922,0.03919783408543168,-0.16169864475378076,0.16660899937878643,0.0634908811873084,-0.11882159028647866,0.23476865874744635,-0.44266932452825475,-0.05910690956564146,-0.009719209419277024,0.10851944432087218,0.060026622311910485,0.10999807013287914,0.3158571279650066,-0.07525190962324242,0.05625390148632478,-0.12586158671107284,0.154234425093931,0.04896156782547613,-0.29452280378128476,-0.3166638328045227,-0.10484610050411375,-0.004520250924199896,-0.2794562808567569,0.11029176572896604,0.5147591315446185,0.4138432118908059,-0.2351019907877986,-0.1117655075555933,-0.21177042379726693,-0.2053641988082532,-0.08061039727752087,-0.09413594496500476,0.09479161456543586,0.1417580641639635,-0.21333484242164474,-0.05885961292161981,-0.5348992390779859,-0.283946367927789,-0.0346939062286621,0.24972262980249596,-0.20976766256258253,0.1260184321655368,0.0046466537332028246,-0.03563949320638076,-0.023502763508180143,-0.21364839696967972,-0.16599458993910898,-0.0020583603688896475,-0.20869287066175335,-0.3702228601762424,-0.06159817261429963,0.018141823877493163,0.04428398688731052,0.08356034149174502,0.34691420618391305,0.5020503624826405,-0.1519222457934701,-0.30064745785519825,-0.02530752562518345,-0.3126802683967213,0.09444657518942878,-0.4522181625006061,0.012784664346408849,-0.16124393331858,-0.18124255952857765,-0.17815746965594645,-0.44170991928002085,0.10371708795442382,-0.1039799867599599,-0.012225567681934708,-0.3488301633621193,-0.01295761202126935,-0.09636841623099089,-0.038964197544885386,0.06415133180323533,-0.4289606294176176,-0.21166243561085685,-0.02797582315443874,-0.2795453786754842,-0.4347950479097265,-0.2291928914681761,0.11640087721043042,-0.16462494206871459,0.01952151135200869,-0.1746590338053029,0.04904590617176716,-0.21886989808826246,-0.6946327988620301,-0.5049675025198158,-0.29448805281594903,-0.2843141627994512,-0.29495298385817625,-0.1023642722141714,-0.10901808698266317,-0.4492443807188196,-0.139500097067939,-0.5882293425195136,-0.07806810533865341,-0.328815089496498,-0.1345529211317779,-0.5235723822464027,-0.20165344941412489,-0.33355423956297153,-0.47309809431657457,-0.4105406959925287,-0.6344612816794026,-0.17348868210932608,-0.45930185675516266,-0.3893468865032398,-0.3402101913108714,-0.4633653551417154,-0.1458988784751394,-0.586946565699263,-0.13551427767250862,-0.33599011250034816,-0.26126343139865743,-0.5214232806740653,-0.4687912882181333,-0.16308574723094607,-0.3267804370808338,-0.12784795551556655,-0.4051059250635234,-0.19500359184196708,-0.17696652564432672,-0.29558678042662045,-0.14432648658183764,-0.4464870108106556,-0.23203502007439583,-0.32187005977948774,-0.06789703751250427,-0.17564776858267364,-0.581583505523094,-0.07938992387761479,-0.3645539506869168,-0.4446004701007965,-0.5388909905685013,-0.1824055923793183,0.19067145371343205,-0.2710960191795922,-0.25004331453992384,-0.37377551009714377,-0.09418970631689473,-0.24145269279125567,-0.2407170300853606,-0.34121574837310725,0.12302856216902279,-0.404136995055899]}],                        {\"coloraxis\":{\"colorbar\":{\"title\":{\"text\":\"PIE\"}},\"colorscale\":[[0.0,\"#0d0887\"],[0.1111111111111111,\"#46039f\"],[0.2222222222222222,\"#7201a8\"],[0.3333333333333333,\"#9c179e\"],[0.4444444444444444,\"#bd3786\"],[0.5555555555555556,\"#d8576b\"],[0.6666666666666666,\"#ed7953\"],[0.7777777777777778,\"#fb9f3a\"],[0.8888888888888888,\"#fdca26\"],[1.0,\"#f0f921\"]]},\"legend\":{\"tracegroupgap\":0},\"scene\":{\"domain\":{\"x\":[0.0,1.0],\"y\":[0.0,1.0]},\"xaxis\":{\"title\":{\"text\":\"PC1\"}},\"yaxis\":{\"title\":{\"text\":\"PC2\"}},\"zaxis\":{\"title\":{\"text\":\"PC3\"}}},\"template\":{\"data\":{\"bar\":[{\"error_x\":{\"color\":\"#2a3f5f\"},\"error_y\":{\"color\":\"#2a3f5f\"},\"marker\":{\"line\":{\"color\":\"#E5ECF6\",\"width\":0.5},\"pattern\":{\"fillmode\":\"overlay\",\"size\":10,\"solidity\":0.2}},\"type\":\"bar\"}],\"barpolar\":[{\"marker\":{\"line\":{\"color\":\"#E5ECF6\",\"width\":0.5},\"pattern\":{\"fillmode\":\"overlay\",\"size\":10,\"solidity\":0.2}},\"type\":\"barpolar\"}],\"carpet\":[{\"aaxis\":{\"endlinecolor\":\"#2a3f5f\",\"gridcolor\":\"white\",\"linecolor\":\"white\",\"minorgridcolor\":\"white\",\"startlinecolor\":\"#2a3f5f\"},\"baxis\":{\"endlinecolor\":\"#2a3f5f\",\"gridcolor\":\"white\",\"linecolor\":\"white\",\"minorgridcolor\":\"white\",\"startlinecolor\":\"#2a3f5f\"},\"type\":\"carpet\"}],\"choropleth\":[{\"colorbar\":{\"outlinewidth\":0,\"ticks\":\"\"},\"type\":\"choropleth\"}],\"contour\":[{\"colorbar\":{\"outlinewidth\":0,\"ticks\":\"\"},\"colorscale\":[[0.0,\"#0d0887\"],[0.1111111111111111,\"#46039f\"],[0.2222222222222222,\"#7201a8\"],[0.3333333333333333,\"#9c179e\"],[0.4444444444444444,\"#bd3786\"],[0.5555555555555556,\"#d8576b\"],[0.6666666666666666,\"#ed7953\"],[0.7777777777777778,\"#fb9f3a\"],[0.8888888888888888,\"#fdca26\"],[1.0,\"#f0f921\"]],\"type\":\"contour\"}],\"contourcarpet\":[{\"colorbar\":{\"outlinewidth\":0,\"ticks\":\"\"},\"type\":\"contourcarpet\"}],\"heatmap\":[{\"colorbar\":{\"outlinewidth\":0,\"ticks\":\"\"},\"colorscale\":[[0.0,\"#0d0887\"],[0.1111111111111111,\"#46039f\"],[0.2222222222222222,\"#7201a8\"],[0.3333333333333333,\"#9c179e\"],[0.4444444444444444,\"#bd3786\"],[0.5555555555555556,\"#d8576b\"],[0.6666666666666666,\"#ed7953\"],[0.7777777777777778,\"#fb9f3a\"],[0.8888888888888888,\"#fdca26\"],[1.0,\"#f0f921\"]],\"type\":\"heatmap\"}],\"heatmapgl\":[{\"colorbar\":{\"outlinewidth\":0,\"ticks\":\"\"},\"colorscale\":[[0.0,\"#0d0887\"],[0.1111111111111111,\"#46039f\"],[0.2222222222222222,\"#7201a8\"],[0.3333333333333333,\"#9c179e\"],[0.4444444444444444,\"#bd3786\"],[0.5555555555555556,\"#d8576b\"],[0.6666666666666666,\"#ed7953\"],[0.7777777777777778,\"#fb9f3a\"],[0.8888888888888888,\"#fdca26\"],[1.0,\"#f0f921\"]],\"type\":\"heatmapgl\"}],\"histogram\":[{\"marker\":{\"pattern\":{\"fillmode\":\"overlay\",\"size\":10,\"solidity\":0.2}},\"type\":\"histogram\"}],\"histogram2d\":[{\"colorbar\":{\"outlinewidth\":0,\"ticks\":\"\"},\"colorscale\":[[0.0,\"#0d0887\"],[0.1111111111111111,\"#46039f\"],[0.2222222222222222,\"#7201a8\"],[0.3333333333333333,\"#9c179e\"],[0.4444444444444444,\"#bd3786\"],[0.5555555555555556,\"#d8576b\"],[0.6666666666666666,\"#ed7953\"],[0.7777777777777778,\"#fb9f3a\"],[0.8888888888888888,\"#fdca26\"],[1.0,\"#f0f921\"]],\"type\":\"histogram2d\"}],\"histogram2dcontour\":[{\"colorbar\":{\"outlinewidth\":0,\"ticks\":\"\"},\"colorscale\":[[0.0,\"#0d0887\"],[0.1111111111111111,\"#46039f\"],[0.2222222222222222,\"#7201a8\"],[0.3333333333333333,\"#9c179e\"],[0.4444444444444444,\"#bd3786\"],[0.5555555555555556,\"#d8576b\"],[0.6666666666666666,\"#ed7953\"],[0.7777777777777778,\"#fb9f3a\"],[0.8888888888888888,\"#fdca26\"],[1.0,\"#f0f921\"]],\"type\":\"histogram2dcontour\"}],\"mesh3d\":[{\"colorbar\":{\"outlinewidth\":0,\"ticks\":\"\"},\"type\":\"mesh3d\"}],\"parcoords\":[{\"line\":{\"colorbar\":{\"outlinewidth\":0,\"ticks\":\"\"}},\"type\":\"parcoords\"}],\"pie\":[{\"automargin\":true,\"type\":\"pie\"}],\"scatter\":[{\"marker\":{\"colorbar\":{\"outlinewidth\":0,\"ticks\":\"\"}},\"type\":\"scatter\"}],\"scatter3d\":[{\"line\":{\"colorbar\":{\"outlinewidth\":0,\"ticks\":\"\"}},\"marker\":{\"colorbar\":{\"outlinewidth\":0,\"ticks\":\"\"}},\"type\":\"scatter3d\"}],\"scattercarpet\":[{\"marker\":{\"colorbar\":{\"outlinewidth\":0,\"ticks\":\"\"}},\"type\":\"scattercarpet\"}],\"scattergeo\":[{\"marker\":{\"colorbar\":{\"outlinewidth\":0,\"ticks\":\"\"}},\"type\":\"scattergeo\"}],\"scattergl\":[{\"marker\":{\"colorbar\":{\"outlinewidth\":0,\"ticks\":\"\"}},\"type\":\"scattergl\"}],\"scattermapbox\":[{\"marker\":{\"colorbar\":{\"outlinewidth\":0,\"ticks\":\"\"}},\"type\":\"scattermapbox\"}],\"scatterpolar\":[{\"marker\":{\"colorbar\":{\"outlinewidth\":0,\"ticks\":\"\"}},\"type\":\"scatterpolar\"}],\"scatterpolargl\":[{\"marker\":{\"colorbar\":{\"outlinewidth\":0,\"ticks\":\"\"}},\"type\":\"scatterpolargl\"}],\"scatterternary\":[{\"marker\":{\"colorbar\":{\"outlinewidth\":0,\"ticks\":\"\"}},\"type\":\"scatterternary\"}],\"surface\":[{\"colorbar\":{\"outlinewidth\":0,\"ticks\":\"\"},\"colorscale\":[[0.0,\"#0d0887\"],[0.1111111111111111,\"#46039f\"],[0.2222222222222222,\"#7201a8\"],[0.3333333333333333,\"#9c179e\"],[0.4444444444444444,\"#bd3786\"],[0.5555555555555556,\"#d8576b\"],[0.6666666666666666,\"#ed7953\"],[0.7777777777777778,\"#fb9f3a\"],[0.8888888888888888,\"#fdca26\"],[1.0,\"#f0f921\"]],\"type\":\"surface\"}],\"table\":[{\"cells\":{\"fill\":{\"color\":\"#EBF0F8\"},\"line\":{\"color\":\"white\"}},\"header\":{\"fill\":{\"color\":\"#C8D4E3\"},\"line\":{\"color\":\"white\"}},\"type\":\"table\"}]},\"layout\":{\"annotationdefaults\":{\"arrowcolor\":\"#2a3f5f\",\"arrowhead\":0,\"arrowwidth\":1},\"autotypenumbers\":\"strict\",\"coloraxis\":{\"colorbar\":{\"outlinewidth\":0,\"ticks\":\"\"}},\"colorscale\":{\"diverging\":[[0,\"#8e0152\"],[0.1,\"#c51b7d\"],[0.2,\"#de77ae\"],[0.3,\"#f1b6da\"],[0.4,\"#fde0ef\"],[0.5,\"#f7f7f7\"],[0.6,\"#e6f5d0\"],[0.7,\"#b8e186\"],[0.8,\"#7fbc41\"],[0.9,\"#4d9221\"],[1,\"#276419\"]],\"sequential\":[[0.0,\"#0d0887\"],[0.1111111111111111,\"#46039f\"],[0.2222222222222222,\"#7201a8\"],[0.3333333333333333,\"#9c179e\"],[0.4444444444444444,\"#bd3786\"],[0.5555555555555556,\"#d8576b\"],[0.6666666666666666,\"#ed7953\"],[0.7777777777777778,\"#fb9f3a\"],[0.8888888888888888,\"#fdca26\"],[1.0,\"#f0f921\"]],\"sequentialminus\":[[0.0,\"#0d0887\"],[0.1111111111111111,\"#46039f\"],[0.2222222222222222,\"#7201a8\"],[0.3333333333333333,\"#9c179e\"],[0.4444444444444444,\"#bd3786\"],[0.5555555555555556,\"#d8576b\"],[0.6666666666666666,\"#ed7953\"],[0.7777777777777778,\"#fb9f3a\"],[0.8888888888888888,\"#fdca26\"],[1.0,\"#f0f921\"]]},\"colorway\":[\"#636efa\",\"#EF553B\",\"#00cc96\",\"#ab63fa\",\"#FFA15A\",\"#19d3f3\",\"#FF6692\",\"#B6E880\",\"#FF97FF\",\"#FECB52\"],\"font\":{\"color\":\"#2a3f5f\"},\"geo\":{\"bgcolor\":\"white\",\"lakecolor\":\"white\",\"landcolor\":\"#E5ECF6\",\"showlakes\":true,\"showland\":true,\"subunitcolor\":\"white\"},\"hoverlabel\":{\"align\":\"left\"},\"hovermode\":\"closest\",\"mapbox\":{\"style\":\"light\"},\"paper_bgcolor\":\"white\",\"plot_bgcolor\":\"#E5ECF6\",\"polar\":{\"angularaxis\":{\"gridcolor\":\"white\",\"linecolor\":\"white\",\"ticks\":\"\"},\"bgcolor\":\"#E5ECF6\",\"radialaxis\":{\"gridcolor\":\"white\",\"linecolor\":\"white\",\"ticks\":\"\"}},\"scene\":{\"xaxis\":{\"backgroundcolor\":\"#E5ECF6\",\"gridcolor\":\"white\",\"gridwidth\":2,\"linecolor\":\"white\",\"showbackground\":true,\"ticks\":\"\",\"zerolinecolor\":\"white\"},\"yaxis\":{\"backgroundcolor\":\"#E5ECF6\",\"gridcolor\":\"white\",\"gridwidth\":2,\"linecolor\":\"white\",\"showbackground\":true,\"ticks\":\"\",\"zerolinecolor\":\"white\"},\"zaxis\":{\"backgroundcolor\":\"#E5ECF6\",\"gridcolor\":\"white\",\"gridwidth\":2,\"linecolor\":\"white\",\"showbackground\":true,\"ticks\":\"\",\"zerolinecolor\":\"white\"}},\"shapedefaults\":{\"line\":{\"color\":\"#2a3f5f\"}},\"ternary\":{\"aaxis\":{\"gridcolor\":\"white\",\"linecolor\":\"white\",\"ticks\":\"\"},\"baxis\":{\"gridcolor\":\"white\",\"linecolor\":\"white\",\"ticks\":\"\"},\"bgcolor\":\"#E5ECF6\",\"caxis\":{\"gridcolor\":\"white\",\"linecolor\":\"white\",\"ticks\":\"\"}},\"title\":{\"x\":0.05},\"xaxis\":{\"automargin\":true,\"gridcolor\":\"white\",\"linecolor\":\"white\",\"ticks\":\"\",\"title\":{\"standoff\":15},\"zerolinecolor\":\"white\",\"zerolinewidth\":2},\"yaxis\":{\"automargin\":true,\"gridcolor\":\"white\",\"linecolor\":\"white\",\"ticks\":\"\",\"title\":{\"standoff\":15},\"zerolinecolor\":\"white\",\"zerolinewidth\":2}}},\"title\":{\"text\":\"Total Explained Variance: 60.61%\"}},                        {\"responsive\": true}                    ).then(function(){\n",
       "                            \n",
       "var gd = document.getElementById('4256384a-5d50-4833-b321-bf4ebba65821');\n",
       "var x = new MutationObserver(function (mutations, observer) {{\n",
       "        var display = window.getComputedStyle(gd).display;\n",
       "        if (!display || display === 'none') {{\n",
       "            console.log([gd, 'removed!']);\n",
       "            Plotly.purge(gd);\n",
       "            observer.disconnect();\n",
       "        }}\n",
       "}});\n",
       "\n",
       "// Listen for the removal of the full notebook cells\n",
       "var notebookContainer = gd.closest('#notebook-container');\n",
       "if (notebookContainer) {{\n",
       "    x.observe(notebookContainer, {childList: true});\n",
       "}}\n",
       "\n",
       "// Listen for the clearing of the current output cell\n",
       "var outputEl = gd.closest('.output');\n",
       "if (outputEl) {{\n",
       "    x.observe(outputEl, {childList: true});\n",
       "}}\n",
       "\n",
       "                        })                };                });            </script>        </div>"
      ]
     },
     "metadata": {},
     "output_type": "display_data"
    }
   ],
   "source": [
    "visualize_KMeans_clustering(normalized_team_stats,teams,team_stats,8,3,color='PIE')"
   ]
  },
  {
   "cell_type": "markdown",
   "metadata": {},
   "source": [
    "# Saving KMeans Object for Python Module"
   ]
  },
  {
   "cell_type": "code",
   "execution_count": 123,
   "metadata": {},
   "outputs": [],
   "source": [
    "pickle.dump(knn, open( \"knn.pkl\", \"wb\" ))"
   ]
  },
  {
   "cell_type": "code",
   "execution_count": 170,
   "metadata": {},
   "outputs": [],
   "source": [
    "# testing object\n",
    "kmeans_object=pd.read_pickle('knn.pkl')"
   ]
  },
  {
   "cell_type": "code",
   "execution_count": 179,
   "metadata": {},
   "outputs": [
    {
     "data": {
      "text/plain": [
       "WIN%          0.409439\n",
       "PTS           0.428986\n",
       "FGM           0.472441\n",
       "FGA           0.507614\n",
       "FG%           0.354167\n",
       "3PM           0.235294\n",
       "3PA           0.244681\n",
       "3P%           0.420290\n",
       "FTM           0.546218\n",
       "FTA           0.617450\n",
       "FT%           0.367816\n",
       "OREB          0.625000\n",
       "DREB          0.307190\n",
       "REB           0.527027\n",
       "AST           0.453846\n",
       "TOV           0.564103\n",
       "STL           0.270833\n",
       "BLK           0.879310\n",
       "BLKA          0.666667\n",
       "PF            0.695238\n",
       "PFD           0.097276\n",
       "+/-           0.462745\n",
       "OFFRTG        0.445344\n",
       "DEFRTG        0.481013\n",
       "NETRTG        0.481061\n",
       "AST%          0.600000\n",
       "AST/TO        0.432432\n",
       "AST\\nRATIO    0.436620\n",
       "OREB%         0.668790\n",
       "DREB%         0.320312\n",
       "REB%          0.579545\n",
       "TOV%          0.471910\n",
       "EFG%          0.340426\n",
       "TS%           0.358209\n",
       "PACE          0.472406\n",
       "PIE           0.423529\n",
       "POSS          0.743194\n",
       "Name: 6, dtype: float64"
      ]
     },
     "execution_count": 179,
     "metadata": {},
     "output_type": "execute_result"
    }
   ],
   "source": [
    "# predicting cluster sample team data\n",
    "\n",
    "normalized_team_stats.iloc[6]\n"
   ]
  },
  {
   "cell_type": "code",
   "execution_count": 180,
   "metadata": {},
   "outputs": [
    {
     "data": {
      "text/plain": [
       "array([5], dtype=int32)"
      ]
     },
     "execution_count": 180,
     "metadata": {},
     "output_type": "execute_result"
    }
   ],
   "source": [
    "kmeans_object.predict(np.asarray(normalized_team_stats.iloc[6]).reshape(1, -1))"
   ]
  }
 ],
 "metadata": {
  "kernelspec": {
   "display_name": "Python 3",
   "language": "python",
   "name": "python3"
  },
  "language_info": {
   "codemirror_mode": {
    "name": "ipython",
    "version": 3
   },
   "file_extension": ".py",
   "mimetype": "text/x-python",
   "name": "python",
   "nbconvert_exporter": "python",
   "pygments_lexer": "ipython3",
   "version": "3.8.5"
  }
 },
 "nbformat": 4,
 "nbformat_minor": 4
}
